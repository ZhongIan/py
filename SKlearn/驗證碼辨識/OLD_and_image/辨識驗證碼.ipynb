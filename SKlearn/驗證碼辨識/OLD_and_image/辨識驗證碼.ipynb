{
 "cells": [
  {
   "cell_type": "markdown",
   "metadata": {},
   "source": [
    "# 題醒\n",
    "\n",
    "**未處理圖片檔目錄**\n",
    "\n",
    "    ./Non-processed/\n",
    "\n",
    "**分割後圖片檔目錄**\n",
    "\n",
    "    ./Nums/\n",
    "    \n"
   ]
  },
  {
   "cell_type": "markdown",
   "metadata": {
    "toc": true
   },
   "source": [
    "<h1>Table of Contents<span class=\"tocSkip\"></span></h1>\n",
    "<div class=\"toc\"><ul class=\"toc-item\"><li><span><a href=\"#題醒\" data-toc-modified-id=\"題醒-1\"><span class=\"toc-item-num\">1&nbsp;&nbsp;</span>題醒</a></span></li><li><span><a href=\"#參考資源\" data-toc-modified-id=\"參考資源-2\"><span class=\"toc-item-num\">2&nbsp;&nbsp;</span>參考資源</a></span></li><li><span><a href=\"#存儲驗證碼\" data-toc-modified-id=\"存儲驗證碼-3\"><span class=\"toc-item-num\">3&nbsp;&nbsp;</span>存儲驗證碼</a></span></li><li><span><a href=\"#驗證碼分割儲存\" data-toc-modified-id=\"驗證碼分割儲存-4\"><span class=\"toc-item-num\">4&nbsp;&nbsp;</span>驗證碼分割儲存</a></span></li><li><span><a href=\"#辨識驗證碼\" data-toc-modified-id=\"辨識驗證碼-5\"><span class=\"toc-item-num\">5&nbsp;&nbsp;</span>辨識驗證碼</a></span></li></ul></div>"
   ]
  },
  {
   "cell_type": "markdown",
   "metadata": {},
   "source": [
    "# 參考資源\n",
    "\n",
    "[爬蟲實戰] 如何使用機器學習方法破解驗證碼 (4) ? – 如何存取訓練模型\n",
    "\n",
    "[jupyter](https://nbviewer.jupyter.org/github/ywchiu/largitdata/blob/master/code/Course_94.ipynb)\n",
    "\n",
    "[youtube](https://www.youtube.com/watch?v=kYSxf1V-VV4)"
   ]
  },
  {
   "cell_type": "markdown",
   "metadata": {},
   "source": [
    "# 存儲驗證碼"
   ]
  },
  {
   "cell_type": "code",
   "execution_count": null,
   "metadata": {},
   "outputs": [],
   "source": [
    "import requests\n",
    "# 保持會話\n",
    "rs  = requests.session()\n",
    "# login網址\n",
    "res = rs.get('http://gcis.nat.gov.tw/pub/cmpy/cmpyInfoListAction.do')\n",
    "with open('kaptcha.jpg', 'wb') as f:\n",
    "    # 驗證碼生成網址\n",
    "    res2 = rs.get('http://gcis.nat.gov.tw/pub/kaptcha.jpg')\n",
    "    f.write(res2.content)"
   ]
  },
  {
   "cell_type": "code",
   "execution_count": 76,
   "metadata": {
    "ExecuteTime": {
     "end_time": "2019-09-08T15:21:02.711313Z",
     "start_time": "2019-09-08T15:21:01.887804Z"
    }
   },
   "outputs": [
    {
     "data": {
      "text/plain": [
       "766"
      ]
     },
     "execution_count": 76,
     "metadata": {},
     "output_type": "execute_result"
    }
   ],
   "source": [
    "import requests\n",
    "with open('kaptcha.jpg', 'wb') as f:\n",
    "    res = requests.get('https://pfcf.lineapia.tw/web/verfiyNumber.php?c=56')\n",
    "    f.write(res.content)"
   ]
  },
  {
   "cell_type": "markdown",
   "metadata": {},
   "source": [
    "# 驗證碼分割儲存"
   ]
  },
  {
   "cell_type": "code",
   "execution_count": 2,
   "metadata": {
    "ExecuteTime": {
     "end_time": "2019-09-08T16:06:06.046782Z",
     "start_time": "2019-09-08T16:06:05.986275Z"
    }
   },
   "outputs": [],
   "source": [
    "import cv2\n",
    "import numpy as np"
   ]
  },
  {
   "cell_type": "code",
   "execution_count": 3,
   "metadata": {
    "ExecuteTime": {
     "end_time": "2019-09-08T16:06:09.357376Z",
     "start_time": "2019-09-08T16:06:07.836528Z"
    }
   },
   "outputs": [
    {
     "name": "stdout",
     "output_type": "stream",
     "text": [
      "Populating the interactive namespace from numpy and matplotlib\n"
     ]
    }
   ],
   "source": [
    "%pylab inline\n",
    "from matplotlib import pyplot as plt"
   ]
  },
  {
   "cell_type": "code",
   "execution_count": 5,
   "metadata": {
    "ExecuteTime": {
     "end_time": "2019-09-08T16:06:20.421695Z",
     "start_time": "2019-09-08T16:06:18.796911Z"
    }
   },
   "outputs": [
    {
     "data": {
      "text/plain": [
       "<matplotlib.image.AxesImage at 0x23b3802de80>"
      ]
     },
     "execution_count": 5,
     "metadata": {},
     "output_type": "execute_result"
    },
    {
     "data": {
      "text/plain": [
       "<matplotlib.image.AxesImage at 0x23b381494e0>"
      ]
     },
     "execution_count": 5,
     "metadata": {},
     "output_type": "execute_result"
    },
    {
     "data": {
      "text/plain": [
       "<matplotlib.image.AxesImage at 0x23b381a2be0>"
      ]
     },
     "execution_count": 5,
     "metadata": {},
     "output_type": "execute_result"
    },
    {
     "data": {
      "text/plain": [
       "<matplotlib.image.AxesImage at 0x23b381f8ef0>"
      ]
     },
     "execution_count": 5,
     "metadata": {},
     "output_type": "execute_result"
    },
    {
     "data": {
      "image/png": "[encoded data removed]",
      "text/plain": [
       "<Figure size 432x288 with 1 Axes>"
      ]
     },
     "metadata": {},
     "output_type": "display_data"
    },
    {
     "data": {
      "image/png": "[encoded data removed]",
      "text/plain": [
       "<Figure size 432x288 with 1 Axes>"
      ]
     },
     "metadata": {},
     "output_type": "display_data"
    },
    {
     "data": {
      "image/png": "[encoded data removed]",
      "text/plain": [
       "<Figure size 432x288 with 1 Axes>"
      ]
     },
     "metadata": {},
     "output_type": "display_data"
    },
    {
     "data": {
      "image/png": "[encoded data removed]",
      "text/plain": [
       "<Figure size 432x288 with 1 Axes>"
      ]
     },
     "metadata": {},
     "output_type": "display_data"
    }
   ],
   "source": [
    "# 灰度化\n",
    "img = cv2.imread('kaptcha.jpg',0) # 讀進來就是灰度化的數字陣列\n",
    "#imgray = cv2.cvtColor(img, cv2.COLOR_BGR2GRAY)\n",
    "\n",
    "# 過濾 二值化\n",
    "# 大於10則返回255，否則 0，此數字要調適\n",
    "# 區分出數字與其他背景的區別\n",
    "ret, thresh = cv2.threshold(img, 10, 255, 0)\n",
    "\n",
    "# 團聚分割，以像素點的聚集作為依據\n",
    "# 缺點，驗證碼中的數字，若有重疊，會判斷為一塊(粗糙的做法，直接剖半)\n",
    "# contours 一連串的點，之後用到\n",
    "image, contours, hierarchy = cv2.findContours(thresh, cv2.RETR_TREE, cv2.CHAIN_APPROX_SIMPLE)\n",
    "\n",
    "# 依 x 排序各個團聚\n",
    "# boundingRect，界定出團聚的邊界\n",
    "# 返回 (x,y,w,h) : x,y座標點， w,h寬高\n",
    "cnts = sorted([(c, cv2.boundingRect(c)[0]) for c in contours], key=lambda x:x[1])\n",
    "\n",
    "# 有時切出來的團塊並非完整數字\n",
    "# 依據 w,h 寬高 判斷\n",
    "ary = []\n",
    "for (c,_) in cnts:\n",
    "    (x,y,w,h) = cv2.boundingRect(c)\n",
    "    #print((x,y,w,h))\n",
    "    #ary.append((x,y,w,h) )\n",
    "    if w >= 10 and h >= 15 :\n",
    "        ary.append((x,y,w,h) )\n",
    "\n",
    "# 儲存圖片 \n",
    "# 儲存後大小均為 600X400\n",
    "for id, (x,y,w,h) in enumerate(ary):\n",
    "    fig = plt.figure()\n",
    "    roi = img[y:y+h, x:x+w]\n",
    "    thresh = roi.copy()\n",
    "    plt.imshow(thresh)\n",
    "    plt.savefig(f'kaptcha_{id}.jpg', dpi=100)"
   ]
  },
  {
   "cell_type": "markdown",
   "metadata": {},
   "source": [
    "# 辨識驗證碼"
   ]
  },
  {
   "cell_type": "code",
   "execution_count": 65,
   "metadata": {
    "ExecuteTime": {
     "end_time": "2019-09-08T15:19:31.548275Z",
     "start_time": "2019-09-08T15:19:31.503380Z"
    }
   },
   "outputs": [],
   "source": [
    "from sklearn.externals import joblib\n",
    "\n",
    "clf = joblib.load('captcha.pkl') \n",
    "\n",
    "scaler = joblib.load(\"scaler.pkl\") "
   ]
  },
  {
   "cell_type": "code",
   "execution_count": 45,
   "metadata": {
    "ExecuteTime": {
     "end_time": "2019-09-08T15:07:08.079405Z",
     "start_time": "2019-09-08T15:07:08.076485Z"
    }
   },
   "outputs": [],
   "source": [
    "import PIL"
   ]
  },
  {
   "cell_type": "code",
   "execution_count": 78,
   "metadata": {
    "ExecuteTime": {
     "end_time": "2019-09-08T15:21:07.590093Z",
     "start_time": "2019-09-08T15:21:07.543246Z"
    }
   },
   "outputs": [
    {
     "data": {
      "text/plain": [
       "StandardScaler(copy=True, with_mean=True, with_std=True)"
      ]
     },
     "execution_count": 78,
     "metadata": {},
     "output_type": "execute_result"
    },
    {
     "data": {
      "text/plain": [
       "array([4, 2, 3, 7])"
      ]
     },
     "execution_count": 78,
     "metadata": {},
     "output_type": "execute_result"
    },
    {
     "data": {
      "image/png": "[encoded data removed]",
      "text/plain": [
       "<PIL.PngImagePlugin.PngImageFile image mode=RGB size=135x37 at 0x1FAFB3FC048>"
      ]
     },
     "execution_count": 78,
     "metadata": {},
     "output_type": "execute_result"
    }
   ],
   "source": [
    "basewidth = 50\n",
    "\n",
    "data = []\n",
    "for i in range(4):\n",
    "    # 圖片轉小\n",
    "    pil_image = PIL.Image.open(f'kaptcha_{i}.jpg').convert('1') \n",
    "    wpercent = (basewidth/float(pil_image.size[0]))\n",
    "    hsize = int((float(pil_image.size[1])*float(wpercent)))\n",
    "    img = pil_image.resize((basewidth,hsize), PIL.Image.ANTIALIAS)\n",
    "    data.append([pixel for pixel in iter(img.getdata())])\n",
    "scaler.fit(data)\n",
    "data_scaled = scaler.transform(data)\n",
    "clf.predict(data_scaled)\n",
    "\n",
    "PIL.Image.open('kaptcha.jpg')"
   ]
  },
  {
   "cell_type": "code",
   "execution_count": null,
   "metadata": {},
   "outputs": [],
   "source": []
  },
  {
   "cell_type": "code",
   "execution_count": null,
   "metadata": {},
   "outputs": [],
   "source": []
  }
 ],
 "metadata": {
  "hide_input": false,
  "kernelspec": {
   "display_name": "Python [default]",
   "language": "python",
   "name": "python3"
  },
  "language_info": {
   "codemirror_mode": {
    "name": "ipython",
    "version": 3
   },
   "file_extension": ".py",
   "mimetype": "text/x-python",
   "name": "python",
   "nbconvert_exporter": "python",
   "pygments_lexer": "ipython3",
   "version": "3.6.5"
  },
  "toc": {
   "base_numbering": 1,
   "nav_menu": {},
   "number_sections": true,
   "sideBar": true,
   "skip_h1_title": false,
   "title_cell": "Table of Contents",
   "title_sidebar": "Contents",
   "toc_cell": true,
   "toc_position": {},
   "toc_section_display": true,
   "toc_window_display": true
  },
  "varInspector": {
   "cols": {
    "lenName": 16,
    "lenType": 16,
    "lenVar": 40
   },
   "kernels_config": {
    "python": {
     "delete_cmd_postfix": "",
     "delete_cmd_prefix": "del ",
     "library": "var_list.py",
     "varRefreshCmd": "print(var_dic_list())"
    },
    "r": {
     "delete_cmd_postfix": ") ",
     "delete_cmd_prefix": "rm(",
     "library": "var_list.r",
     "varRefreshCmd": "cat(var_dic_list()) "
    }
   },
   "types_to_exclude": [
    "module",
    "function",
    "builtin_function_or_method",
    "instance",
    "_Feature"
   ],
   "window_display": false
  }
 },
 "nbformat": 4,
 "nbformat_minor": 2
}
