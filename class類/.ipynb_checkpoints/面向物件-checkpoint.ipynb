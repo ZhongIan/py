{
 "cells": [
  {
   "cell_type": "markdown",
   "metadata": {},
   "source": [
    "# 參考來源:\n",
    "https://tw.saowen.com/a/eda64654d1658128c67eb333a0d1a48c7b91bc0274bc509e432718cf3775b5d4"
   ]
  },
  {
   "cell_type": "markdown",
   "metadata": {},
   "source": [
    "# 引子\n",
    "\n",
    "你是一家公司的員工，公司現在要開發一款“人狗戰爭”的遊戲，人狗戰爭肯定有人和狗兩種角色。兩種角色都有名字、性別，但是技能不同比如人可以用棍子打狗，狗可以咬人...\n",
    "\n",
    "在不會面向物件之前傾盡所學知識寫出下面程式碼。"
   ]
  },
  {
   "cell_type": "code",
   "execution_count": 4,
   "metadata": {},
   "outputs": [
    {
     "name": "stdout",
     "output_type": "stream",
     "text": [
      "林道明發動了打技能\n",
      "小黑發動了咬技能\n"
     ]
    }
   ],
   "source": [
    "\n",
    "def hit(name):\n",
    "    print('%s發動了打技能' % name)\n",
    "\n",
    "def bite(name):\n",
    "    print('%s發動了咬技能' % name)\n",
    "\n",
    "def Person(name,hit):\n",
    "    data = {\n",
    "        'name': name,\n",
    "        'skill':hit\n",
    "    }\n",
    "    return data\n",
    "\n",
    "def Dog(name,dog_type,bite):\n",
    "    data = {\n",
    "        'name': name,\n",
    "        'dog_type':dog_type,\n",
    "        'skill':bite\n",
    "    }\n",
    "    return data\n",
    "\n",
    "person = Person('林道明',hit)\n",
    "dog = Dog('小黑','哈士奇',bite)\n",
    "\n",
    "person.get('skill')(person.get('name'))\n",
    "dog.get('skill')(dog.get('name'))\n"
   ]
  },
  {
   "cell_type": "markdown",
   "metadata": {},
   "source": [
    "# 面向物件程式設計\n",
    "\n",
    "1. Class 類\n",
    ">一個類即是對一類擁有相同屬性的物件的抽象、藍圖、原型。在類中定義了這些物件的都具備的屬性（variables(data)）、共同的方法\n",
    "\n",
    "2. Object 物件 \n",
    ">一個物件即是一個類的例項化後例項，一個類必須經過例項化後方可在程序中呼叫，一個類可以例項化多個物件，每個物件亦可以有不同的屬性，就像人類是指所有人，每個人是指具體的物件，人與人之前有共性，亦有不同\n",
    "\n",
    "3. Encapsulation 封裝\n",
    ">在類中對資料的賦值、內部呼叫對外部使用者是透明的，這使類變成了一個膠囊或容器，裡面包含著類的資料和方法\n",
    "\n",
    "4. Inheritance 繼承\n",
    ">一個類可以派生出子類，在這個父類裡定義的屬性、方法自動被子類繼承\n",
    "\n",
    "5. Polymorphism 多型\n",
    ">多型是面向物件的重要特性,簡單點說:“一個介面，多種實現”，指一個基類中派生出了不同的子類，且每個子類在繼承了同樣的方法名的同時又對父類的方法做了不同的實現，這就是同一種事物表現出的多種形態。\n",
    "\n",
    ">程式設計其實就是一個將具體世界進行抽象化的過程，多型就是抽象化的一種體現，把一系列具體事物的共同點抽象出來, 再通過這個抽象的事物, 與不同的具體事物進行對話。\n",
    "對不同類的物件發出相同的訊息將會有不同的行為。比如，你的老闆讓所有員工在九點鐘開始工作, 他只要在九點鐘的時候說：“開始工作”即可，而不需要對銷售人員說：“開始銷售工\n",
    "作”，對技術人員說：“開始技術工作”, 因為“員工”是一個抽象的事物, 只要是員工就可以開始工作，他知道這一點就行了。至於每個員工，當然會各司其職，做各自的工作。\n",
    "多型允許將子類的物件當作父類的物件使用，某父型別的引用指向其子型別的物件,呼叫的方法是該子型別的方法。這裡引用和呼叫方法的程式碼編譯前就已經決定了,而引用所指向的物件可以在執行期間動態繫結"
   ]
  },
  {
   "cell_type": "markdown",
   "metadata": {},
   "source": [
    "## re:coding\n",
    "下面我們用面向物件重新實現一下“人狗戰爭”："
   ]
  },
  {
   "cell_type": "code",
   "execution_count": 32,
   "metadata": {},
   "outputs": [
    {
     "name": "stdout",
     "output_type": "stream",
     "text": [
      "林道明發動了打技能\n",
      "小黑發動了咬技能\n"
     ]
    },
    {
     "data": {
      "text/plain": [
       "'\\n執行結果：\\n林道明發動了打技能\\n哈士奇小狗發動了咬技能\\n'"
      ]
     },
     "execution_count": 32,
     "metadata": {},
     "output_type": "execute_result"
    },
    {
     "name": "stdout",
     "output_type": "stream",
     "text": [
      "sheep發動了咬技能\n"
     ]
    }
   ],
   "source": [
    "class Animal(object):\n",
    "    def __init__(self,name):\n",
    "        self.name = name\n",
    "\n",
    "\n",
    "class Person(Animal):\n",
    "    def __init__(self,name):\n",
    "        # 1.\n",
    "        # super(Person,self).__init__(name)\n",
    "        # 2.\n",
    "        # super().__init__(name)\n",
    "        # 3. \n",
    "        # Animal.__init__(self,name)\n",
    "        # 推薦 2. 防止\"再\"繼承時重複呼叫父類\n",
    "        super().__init__(name)\n",
    "\n",
    "    def hit(self):\n",
    "        print(\"%s發動了打技能\" % self.name)\n",
    "\n",
    "        \n",
    "class Dog(Animal):\n",
    "    def __init__(self, name, dog_type):\n",
    "        super().__init__(name)\n",
    "        self.dog_type = dog_type\n",
    "\n",
    "    def bite(self):\n",
    "        print(\"%s發動了咬技能\" % self.name)\n",
    "\n",
    "\n",
    "person = Person('林道明')\n",
    "dog = Dog('小黑','哈士奇')\n",
    "\n",
    "person.hit()\n",
    "dog.bite()\n",
    "\n",
    "\"\"\"\n",
    "執行結果：\n",
    "林道明發動了打技能\n",
    "哈士奇小狗發動了咬技能\n",
    "\"\"\"\n",
    "\n",
    "# 拓展,下面拓展一個“羊”類：\n",
    "class Sheep(Animal):\n",
    "    def __init__(self, name, hair_color):\n",
    "        super().__init__(name)\n",
    "        self.hair_color = hair_color\n",
    "\n",
    "    def bray(self):\n",
    "        print(\"%s發動了咬技能\" % self.name)\n",
    "\n",
    "sheep = Sheep('sheep','white')\n",
    "sheep.bray()"
   ]
  },
  {
   "cell_type": "markdown",
   "metadata": {},
   "source": [
    "## 多型\n",
    "一個介面，多種形態"
   ]
  },
  {
   "cell_type": "code",
   "execution_count": 18,
   "metadata": {},
   "outputs": [
    {
     "data": {
      "text/plain": [
       "'13'"
      ]
     },
     "execution_count": 18,
     "metadata": {},
     "output_type": "execute_result"
    },
    {
     "name": "stdout",
     "output_type": "stream",
     "text": [
      "林道明:oh fuck!\n",
      "哈士奇小狗:汪汪汪!\n"
     ]
    },
    {
     "data": {
      "text/plain": [
       "'\\n執行結果：\\n林道明:oh fuck!\\n哈士奇小狗:汪汪汪!\\n'"
      ]
     },
     "execution_count": 18,
     "metadata": {},
     "output_type": "execute_result"
    }
   ],
   "source": [
    "class Animal(object):\n",
    "    def __init__(self,name):\n",
    "        self.name = name\n",
    "    \n",
    "    # 先定義，後實現\n",
    "    def talk(self):\n",
    "        pass\n",
    "\n",
    "class Person(Animal):\n",
    "    def __init__(self,name):\n",
    "        super(Person,self).__init__(name)\n",
    "\n",
    "    def hit(self):\n",
    "        print(\"%s發動了打技能\" % self.name)\n",
    "\n",
    "    def talk(self):\n",
    "        print('%s:oh fuck!' % self.name)\n",
    "\n",
    "class Dog(Animal):\n",
    "    def __init__(self, name, dog_type):\n",
    "        super(Dog,self).__init__(name)\n",
    "        self.dog_type = dog_type\n",
    "\n",
    "    def bite(self):\n",
    "        print(\"%s發動了咬技能\" % self.name)\n",
    "\n",
    "    def talk(self):\n",
    "        print('%s:汪汪汪!' % self.name)\n",
    "\n",
    "class Sheep(Animal):\n",
    "    def __init__(self, name, hair_color):\n",
    "        super(Sheep,self).__init__(name)\n",
    "        self.hair_color = hair_color\n",
    "\n",
    "    def bray(self):\n",
    "        print(\"%s發動了咬技能\" % self.name)\n",
    "\n",
    "    def talk(self):\n",
    "        print(\"%s:綿綿綿！\" % self.name)\n",
    "        \n",
    "        \n",
    "A = Animal('13')\n",
    "A.name\n",
    "\n",
    "person = Person('林道明')\n",
    "dog = Dog('哈士奇小狗','哈士奇')\n",
    "\n",
    "person.talk()\n",
    "dog.talk()\n",
    "\n",
    "\"\"\"\n",
    "執行結果：\n",
    "林道明:oh fuck!\n",
    "哈士奇小狗:汪汪汪!\n",
    "\"\"\""
   ]
  },
  {
   "cell_type": "markdown",
   "metadata": {},
   "source": [
    "# 類私有&共開\n",
    "\n",
    "**兩個下滑線(__)開頭的變數和方法就是私有變數和私有方法** 。公開和私有的區別就是類外可以訪問公開變數和方法，而私有變數只能供類內部訪問(子類外部都無法訪問)。\n",
    "\n",
    ">* xx: 公有变量\n",
    ">* \\_x: 单前置下划线,私有化属性或方法，from somemodule import *禁止导入,类对象和子类可以访问\n",
    ">* \\__xx：双前置下划线,避免与子类中的属性命名冲突，无法在外部直接访问,使用 _Class__method可以访问\n",
    ">* \\__xx\\__:双前后下划线,用户名字空间的魔法对象或属性。例如:\\__init\\__\n",
    ">* xx_:单后置下划线,用于避免与Python关键词的冲突\n",
    "\n",
    ">作者：Shylin Zhang\n",
    ">链接：https://www.zhihu.com/question/19754941/answer/341581136\n",
    ">来源：知乎\n",
    ">著作权归作者所有。商业转载请联系作者获得授权，非商业转载请注明出处。"
   ]
  },
  {
   "cell_type": "code",
   "execution_count": 33,
   "metadata": {
    "collapsed": true
   },
   "outputs": [],
   "source": [
    "\n",
    "class Dog2(object):                        \n",
    "    def __init__(self,name,type):          \n",
    "        self.name = name     #共開變數         \n",
    "        self.__type = type   #私有變數         \n",
    "                                           \n",
    "     #共開方法                                 \n",
    "    def talk(self):                        \n",
    "        print('wang wang wang~~~')         \n",
    "                                           \n",
    "    #私有方法                                  \n",
    "    def __kneel(self):                     \n",
    "        print('kneel down')     "
   ]
  },
  {
   "cell_type": "markdown",
   "metadata": {},
   "source": [
    "# 靜態方法 @staticmethod\n",
    "\n",
    "一個不能訪問例項變數和類變數的方法，其實相當於跟類本身已經沒什麼關係了，它與類唯一的關聯就是需要通過類名來呼叫這個方法"
   ]
  },
  {
   "cell_type": "code",
   "execution_count": 34,
   "metadata": {},
   "outputs": [
    {
     "name": "stdout",
     "output_type": "stream",
     "text": [
      "1+2+3=6\n"
     ]
    }
   ],
   "source": [
    "class mMath(object):                          \n",
    "                                              \n",
    "    @staticmethod                             \n",
    "    def add(x,y,z):                           \n",
    "        print('%d+%d+%d=%d' % (x,y,z,x+y+z))  \n",
    "                                              \n",
    "                                              \n",
    "mMath.add(1,2,3) "
   ]
  },
  {
   "cell_type": "markdown",
   "metadata": {},
   "source": [
    "# 屬性方法 @property\n",
    "\n",
    "隱藏實現動作，所以你每次呼叫時，其實它都要經過一系列的動作才返回你結果，但這些動作過程不需要使用者關心， 使用者只需要呼叫這個屬性就可以。"
   ]
  },
  {
   "cell_type": "code",
   "execution_count": 35,
   "metadata": {},
   "outputs": [
    {
     "name": "stdout",
     "output_type": "stream",
     "text": [
      "上課\n",
      "修改狀態為2\n",
      "返學\n",
      "返學\n"
     ]
    },
    {
     "ename": "TypeError",
     "evalue": "'NoneType' object is not callable",
     "output_type": "error",
     "traceback": [
      "\u001b[1;31m---------------------------------------------------------------------------\u001b[0m",
      "\u001b[1;31mTypeError\u001b[0m                                 Traceback (most recent call last)",
      "\u001b[1;32m<ipython-input-35-8aea2c738e78>\u001b[0m in \u001b[0;36m<module>\u001b[1;34m()\u001b[0m\n\u001b[0;32m     31\u001b[0m \u001b[0ms\u001b[0m\u001b[1;33m.\u001b[0m\u001b[0maaa\u001b[0m\u001b[1;33m\u001b[0m\u001b[0m\n\u001b[0;32m     32\u001b[0m \u001b[1;33m\u001b[0m\u001b[0m\n\u001b[1;32m---> 33\u001b[1;33m \u001b[0ms\u001b[0m\u001b[1;33m.\u001b[0m\u001b[0mschoolState\u001b[0m\u001b[1;33m(\u001b[0m\u001b[1;33m)\u001b[0m\u001b[1;33m\u001b[0m\u001b[0m\n\u001b[0m\u001b[0;32m     34\u001b[0m \u001b[0ms\u001b[0m\u001b[1;33m.\u001b[0m\u001b[0maaa\u001b[0m\u001b[1;33m\u001b[0m\u001b[0m\n",
      "\u001b[1;31mTypeError\u001b[0m: 'NoneType' object is not callable"
     ]
    }
   ],
   "source": [
    "class School(object):\n",
    "    def __init__(self):\n",
    "        self.state = 0\n",
    "\n",
    "    @property\n",
    "    def aaa(self):\n",
    "        if self.state == 0:\n",
    "            print('上課')\n",
    "        elif self.state == 1:\n",
    "            print('下課')\n",
    "        elif self.state == 2:\n",
    "            print('返學')\n",
    "        elif self.state == 3:\n",
    "            print('放假')\n",
    "\n",
    "    @aaa.setter\n",
    "    def aaa(self,state):\n",
    "        print('修改狀態為%s' % state)\n",
    "        self.state = state\n",
    "\n",
    "    @aaa.deleter\n",
    "    def schoolState(self):\n",
    "        print('清楚狀態')\n",
    "        del self.state\n",
    "\n",
    "\n",
    "s = School()\n",
    "\n",
    "s.aaa\n",
    "s.aaa = 2\n",
    "s.aaa\n",
    "\n",
    "s.schoolState()\n",
    "s.aaa"
   ]
  },
  {
   "cell_type": "markdown",
   "metadata": {},
   "source": [
    "# 反射\n",
    " \n",
    "通過字串對映或修改程序執行時的狀態、屬性、方法\n",
    "\n",
    "+ hasattr\n",
    ">判断一个对象里面是否有name属性或者方法，返回值为Boolean值， 有name 返回true，反之false\n",
    "其等同于getattr(object, name)\n",
    "\n",
    "+ getattr\n",
    ">类似于hasattr(object, name)，但是getattr当name不存在于object的时候返回default值。否则返回实际的值\n",
    "\n",
    "+ setattr\n",
    ">给对象的属性复制，如果属性不存在，则先创建再赋值"
   ]
  },
  {
   "cell_type": "code",
   "execution_count": 45,
   "metadata": {},
   "outputs": [
    {
     "ename": "SyntaxError",
     "evalue": "invalid syntax (<ipython-input-45-927719aed40b>, line 9)",
     "output_type": "error",
     "traceback": [
      "\u001b[1;36m  File \u001b[1;32m\"<ipython-input-45-927719aed40b>\"\u001b[1;36m, line \u001b[1;32m9\u001b[0m\n\u001b[1;33m    func = getattr(self,str[,'NO MATCH'])\u001b[0m\n\u001b[1;37m                            ^\u001b[0m\n\u001b[1;31mSyntaxError\u001b[0m\u001b[1;31m:\u001b[0m invalid syntax\n"
     ]
    }
   ],
   "source": [
    "class Dog(object):\n",
    "    def __init__(self,name):\n",
    "        self.name = name\n",
    "\n",
    "    def execute(self,str):\n",
    "        # 判斷是否存在字元和方法的對映\n",
    "        if hasattr(self,str):\n",
    "            # 得到字元對映的方法\n",
    "            func = getattr(self,str)\n",
    "            func()\n",
    "        else:\n",
    "            print('none')\n",
    "\n",
    "    def eat(self,food='checken'):\n",
    "        print('%s is eating %s' % (self.name,food))\n",
    "\n",
    "    def drink(self,drink='water'):\n",
    "        print('%s is drinking %s' % (self.name,drink))\n",
    "\n",
    "\n",
    "dog = Dog('dog')\n",
    "dog.execute('t')\n",
    "\n",
    "\n",
    "# 設定成員\n",
    "ret = setattr(dog,'name',19)\n",
    "print(dog.name)\n",
    "\n",
    "# 刪除成員\n",
    "delattr(dog,'name')\n",
    "# print(dog.name) # 報錯"
   ]
  },
  {
   "cell_type": "markdown",
   "metadata": {},
   "source": [
    "# 類的特殊成員方法\n",
    "\n",
    "1. \\__doc\\__　　表示類的描述資訊\n",
    "2. \\__module\\__ 和  \\__class\\__ \n",
    "    > \\__module\\__ 表示當前操作的物件在那個模組\n",
    "\n",
    "    > \\__class\\__     表示當前操作的物件的類是什麼\n",
    "\n",
    "3. \\__init\\__ 構造方法，通過類建立物件時，自動觸發執行。\n",
    "4. \\__del\\__析構方法，當物件在記憶體中被釋放時，自動觸發執行\n",
    "5. \\__call\\__ 物件後面加括號，觸發執行。\n",
    "\n",
    "6. \\__dict\\__ 檢視類或物件中的所有成員 \n",
    "8. \\__getitem\\__、\\__setitem\\__、\\__delitem\\__"
   ]
  },
  {
   "cell_type": "markdown",
   "metadata": {},
   "source": [
    "# 類的專有方法\n",
    "\n",
    "+ \\__init\\__ : 建構函式，在生成物件時呼叫\n",
    "+ \\__del\\__ : 解構函式，釋放物件時使用\n",
    "+ \\__repr\\__ : 列印，轉換\n",
    "+ \\__setitem\\__ : 按照索引賦值\n",
    "+ \\__getitem\\__: 按照索引獲取值\n",
    "+ \\__len\\__: 獲得長度\n",
    "+ \\__cmp\\__: 比較運算\n",
    "+ \\__call\\__: 函式呼叫\n",
    "+ \\__add\\__: 加運算\n",
    "+ \\__sub\\__: 減運算\n",
    "+ \\__mul\\__: 乘運算\n",
    "+ \\__div\\__: 除運算\n",
    "+ \\__mod\\__: 求餘運算\n",
    "+ \\__pow\\__: 乘方"
   ]
  },
  {
   "cell_type": "markdown",
   "metadata": {},
   "source": [
    "# 運算子過載例項："
   ]
  },
  {
   "cell_type": "code",
   "execution_count": 41,
   "metadata": {},
   "outputs": [
    {
     "name": "stdout",
     "output_type": "stream",
     "text": [
      "22:10\n"
     ]
    },
    {
     "data": {
      "text/plain": [
       "'                                                                                            \\n結果: 22:10 \\n'"
      ]
     },
     "execution_count": 41,
     "metadata": {},
     "output_type": "execute_result"
    }
   ],
   "source": [
    "class mClock(object):                                                                          \n",
    "                                                                                               \n",
    "    def __init__(self,mtime):                                                                  \n",
    "        self.mtime = mtime                                                                     \n",
    "                                                                                               \n",
    "    def __add__(self, other):                                                                  \n",
    "        time1 = self.mtime.split(':')                                                          \n",
    "        time2 = other.mtime.split(':')                                                         \n",
    "        minute = (int(time1[1]) + int(time2[1]))%60                                            \n",
    "        hour =   (int(time1[0]) + int(time2[0]))%24 +  int((int(time1[1]) + int(time2[1]))/60) \n",
    "        return  '%s:%s' % (hour,minute)                                                        \n",
    "                                                                                               \n",
    "                                                                                               \n",
    "mclock1 = mClock(\"12:45\")                                                                      \n",
    "mclock2 = mClock(\"9:25\")                                                                       \n",
    "print(mclock1 + mclock2)                                                                       \n",
    "                                                                                               \n",
    "\"\"\"                                                                                            \n",
    "結果: 22:10 \n",
    "\"\"\"                                    "
   ]
  }
 ],
 "metadata": {
  "hide_input": false,
  "kernelspec": {
   "display_name": "Python [default]",
   "language": "python",
   "name": "python3"
  },
  "language_info": {
   "codemirror_mode": {
    "name": "ipython",
    "version": 3
   },
   "file_extension": ".py",
   "mimetype": "text/x-python",
   "name": "python",
   "nbconvert_exporter": "python",
   "pygments_lexer": "ipython3",
   "version": "3.6.4"
  },
  "toc": {
   "base_numbering": 1,
   "nav_menu": {
    "height": "228px",
    "width": "252px"
   },
   "number_sections": true,
   "sideBar": true,
   "skip_h1_title": false,
   "title_cell": "Table of Contents",
   "title_sidebar": "Contents",
   "toc_cell": false,
   "toc_position": {},
   "toc_section_display": "block",
   "toc_window_display": true
  },
  "varInspector": {
   "cols": {
    "lenName": 16,
    "lenType": 16,
    "lenVar": 40
   },
   "kernels_config": {
    "python": {
     "delete_cmd_postfix": "",
     "delete_cmd_prefix": "del ",
     "library": "var_list.py",
     "varRefreshCmd": "print(var_dic_list())"
    },
    "r": {
     "delete_cmd_postfix": ") ",
     "delete_cmd_prefix": "rm(",
     "library": "var_list.r",
     "varRefreshCmd": "cat(var_dic_list()) "
    }
   },
   "types_to_exclude": [
    "module",
    "function",
    "builtin_function_or_method",
    "instance",
    "_Feature"
   ],
   "window_display": false
  }
 },
 "nbformat": 4,
 "nbformat_minor": 2
}
