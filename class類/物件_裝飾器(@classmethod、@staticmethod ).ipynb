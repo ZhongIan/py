{
 "cells": [
  {
   "cell_type": "markdown",
   "metadata": {},
   "source": [
    "# 物件 裝飾器\n",
    "\n",
    "參考資料\n",
    "https://stackoverflow.com/questions/12179271/meaning-of-classmethod-and-staticmethod-for-beginner/12179325#12179325\n",
    "\n",
    "```py\n",
    "@classmethod\n",
    "\n",
    "@staticmethod\n",
    "```"
   ]
  },
  {
   "cell_type": "markdown",
   "metadata": {},
   "source": [
    "雖然classmethod和staticmethod非常相似，但兩種實體的用法略有不同：\n",
    "\n",
    "classmethod必須具有對類對象的引用作為第一個參數，\n",
    "\n",
    "而staticmethod根本沒有參數。"
   ]
  },
  {
   "cell_type": "code",
   "execution_count": 3,
   "metadata": {},
   "outputs": [
    {
     "data": {
      "text/plain": [
       "<__main__.Date at 0x52735f8>"
      ]
     },
     "execution_count": 3,
     "metadata": {},
     "output_type": "execute_result"
    },
    {
     "data": {
      "text/plain": [
       "True"
      ]
     },
     "execution_count": 3,
     "metadata": {},
     "output_type": "execute_result"
    }
   ],
   "source": [
    "class Date(object):\n",
    "\n",
    "    def __init__(self, day=0, month=0, year=0):\n",
    "        self.day = day\n",
    "        self.month = month\n",
    "        self.year = year\n",
    "\n",
    "    @classmethod\n",
    "    def from_string(cls, date_as_string):\n",
    "        day, month, year = map(int, date_as_string.split('-'))\n",
    "        date1 = cls(day, month, year)\n",
    "        return date1\n",
    "\n",
    "    @staticmethod\n",
    "    def is_date_valid(date_as_string):\n",
    "        day, month, year = map(int, date_as_string.split('-'))\n",
    "        return day <= 31 and month <= 12 and year <= 3999\n",
    "\n",
    "date2 = Date.from_string('11-09-2012')\n",
    "date2\n",
    "\n",
    "is_date = Date.is_date_valid('11-09-2012')\n",
    "is_date\n"
   ]
  },
  {
   "cell_type": "markdown",
   "metadata": {},
   "source": [
    "# 說明\n",
    "\n",
    "讓我們假設一個類的例子，處理日期信息（這將是我們的樣板烹飪）：\n",
    "\n",
    "```py\n",
    "class Date(object):\n",
    "\n",
    "    def __init__(self, day=0, month=0, year=0):\n",
    "        self.day = day\n",
    "        self.month = month\n",
    "        self.year = year\n",
    "```\n",
    "\n",
    "**類方法**\n",
    "\n",
    "我們有一些使用 **classmethods** 可以很好地完成的任務。\n",
    "\n",
    "讓我們假設我們想創建大量的Date類實例，它們將來自外部源的日期信息編碼為下一個格式的字符串（'dd-mm-yyyy'）。我們必須在項目中源代碼的不同位置執行此操作。\n",
    "\n",
    "所以我們在這裡必須做的是：\n",
    "\n",
    "將字符串解析為接收日，月和年作為三個整型變量或由該變量組成的三項目元組。\n",
    "\n",
    "Date通過將這些值傳遞給初始化調用來實例化。\n",
    "\n",
    "這看起來像：\n",
    "\n",
    "```py\n",
    "day, month, year = map(int, string_date.split('-'))\n",
    "date1 = Date(day, month, year)\n",
    "```\n",
    "\n",
    "為此，C ++具有重載等特性，但Python缺乏這種特性 - 所以這裡classmethod適用。讓我們創建另一個“ 構造函數 ”。\n",
    "\n",
    "```py\n",
    "    @classmethod\n",
    "    def from_string(cls, date_as_string):\n",
    "        day, month, year = map(int, date_as_string.split('-'))\n",
    "        date1 = cls(day, month, year)\n",
    "        return date1\n",
    "\n",
    "date2 = Date.from_string('11-09-2012')\n",
    "```\n",
    "\n",
    "讓我們仔細看看上面的實現，並回顧一下我們在這裡有什麼優勢：\n",
    "\n",
    "我們在一個地方實現了日期字符串解析，現在它可以重用。\n",
    "\n",
    "封裝在這里工作得很好（如果你認為你可以在別處實現字符串解析作為一個單獨的函數，這個解決方案更適合OOP範例）。\n",
    "\n",
    "cls是持有類本身的對象，而不是類的實例。這很酷，因為如果我們繼承我們的Date班級，所有的孩子也會from_string定義。\n",
    "\n",
    "**靜態方法**\n",
    "\n",
    "那怎麼樣**staticmethod**？它非常相似classmethod但沒有採用任何強制性參數（如類方法或實例方法）。\n",
    "\n",
    "我們來看下一個用例。\n",
    "\n",
    "我們有一個我們想要以某種方式驗證的日期字符串。這個任務也邏輯上綁定到Date我們迄今使用的類，但仍不需要實例化它。\n",
    "\n",
    "這裡是staticmethod有用的地方。我們來看下一段代碼：\n",
    "\n",
    "```py\n",
    "    @staticmethod\n",
    "    def is_date_valid(date_as_string):\n",
    "        day, month, year = map(int, date_as_string.split('-'))\n",
    "        return day <= 31 and month <= 12 and year <= 3999\n",
    "\n",
    "    # usage:\n",
    "    is_date = Date.is_date_valid('11-09-2012')\n",
    "```\n",
    "所以，正如我們從使用中可以看到的那樣staticmethod，我們沒有任何訪問類的東西 - 它基本上只是一個函數，在語法上稱為方法，\n",
    "\n",
    "但不能訪問對象，它的內部（字段和其他方法） ，而classmethod呢？"
   ]
  },
  {
   "cell_type": "code",
   "execution_count": null,
   "metadata": {
    "collapsed": true
   },
   "outputs": [],
   "source": []
  },
  {
   "cell_type": "code",
   "execution_count": null,
   "metadata": {
    "collapsed": true
   },
   "outputs": [],
   "source": []
  }
 ],
 "metadata": {
  "hide_input": false,
  "kernelspec": {
   "display_name": "Python [default]",
   "language": "python",
   "name": "python3"
  },
  "language_info": {
   "codemirror_mode": {
    "name": "ipython",
    "version": 3
   },
   "file_extension": ".py",
   "mimetype": "text/x-python",
   "name": "python",
   "nbconvert_exporter": "python",
   "pygments_lexer": "ipython3",
   "version": "3.6.5"
  },
  "toc": {
   "base_numbering": 1,
   "nav_menu": {
    "height": "48px",
    "width": "252px"
   },
   "number_sections": true,
   "sideBar": true,
   "skip_h1_title": false,
   "title_cell": "Table of Contents",
   "title_sidebar": "Contents",
   "toc_cell": false,
   "toc_position": {},
   "toc_section_display": "block",
   "toc_window_display": true
  },
  "varInspector": {
   "cols": {
    "lenName": 16,
    "lenType": 16,
    "lenVar": 40
   },
   "kernels_config": {
    "python": {
     "delete_cmd_postfix": "",
     "delete_cmd_prefix": "del ",
     "library": "var_list.py",
     "varRefreshCmd": "print(var_dic_list())"
    },
    "r": {
     "delete_cmd_postfix": ") ",
     "delete_cmd_prefix": "rm(",
     "library": "var_list.r",
     "varRefreshCmd": "cat(var_dic_list()) "
    }
   },
   "types_to_exclude": [
    "module",
    "function",
    "builtin_function_or_method",
    "instance",
    "_Feature"
   ],
   "window_display": false
  }
 },
 "nbformat": 4,
 "nbformat_minor": 2
}
