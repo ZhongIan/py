{
 "cells": [
  {
   "cell_type": "markdown",
   "metadata": {},
   "source": [
    "http://blog.csdn.net/gamer_gyt/article/details/51255448"
   ]
  },
  {
   "cell_type": "code",
   "execution_count": 116,
   "metadata": {},
   "outputs": [
    {
     "name": "stdout",
     "output_type": "stream",
     "text": [
      "[0, 0] [[-0.00629556]]\n",
      "[0, 1] [[ 0.96582809]]\n",
      "[1, 0] [[ 0.96447245]]\n",
      "[1, 1] [[ 0.03084993]]\n"
     ]
    }
   ],
   "source": [
    "import numpy as np\n",
    "\n",
    "# 激活函數(非線性轉換函數)\n",
    "def tanh(x):\n",
    "    return np.tanh(x)  \n",
    "  \n",
    "def tanh_div(f):\n",
    "    return 1.0 - f**2  \n",
    "  \n",
    "def Sigmoid(x):\n",
    "    return 1/(1 + np.exp(-x))  \n",
    "  \n",
    "def Sigmoid_div(f):  \n",
    "    return f*(1-f) \n",
    "\n",
    "def ReLU(x):\n",
    "    a = x.copy()\n",
    "    a[a<0] = 0\n",
    "    return a\n",
    "\n",
    "def ReLU_div(f):\n",
    "    a = f.copy()\n",
    "    a[a<0] = 0\n",
    "    a[a>0] = 1\n",
    "    return a\n",
    "\n",
    "class BP:\n",
    "     # layer，eg[2,2,1]\n",
    "    def __init__(self, layer, act='tanh'):\n",
    "        \n",
    "        if act == 'ReLU':\n",
    "            self.act_f = ReLU\n",
    "            self.act_f_div = ReLU_div\n",
    "            \n",
    "        elif act == 'Sigmoid':\n",
    "            self.act_f = Sigmoid\n",
    "            self.act_f_div = Sigmoid_div\n",
    "            \n",
    "        elif act == 'tanh':\n",
    "            self.act_f = tanh\n",
    "            self.act_f_div = tanh_div\n",
    "            \n",
    "        self.w = []\n",
    "        self.b = []\n",
    "        \n",
    "        for i in range(1, len(layer)):\n",
    "            # 0~1 , -0.5{-0.5~0.5} \n",
    "            self.w.append(np.random.rand(layer[i-1],layer[i])) \n",
    "            self.b.append(np.random.rand(1,layer[i]))\n",
    "        \n",
    "    def fit(self, X, y, learn_rate=0.2, alpha=0.2, epochs=1):\n",
    "        \n",
    "        X = np.atleast_2d(X)\n",
    "        y = np.array(y)\n",
    "        for k in range(epochs):\n",
    "            i = np.random.randint(X.shape[0])\n",
    "            s = [X[i,:]]\n",
    "            \n",
    "            for j in range(len(self.w)): \n",
    "                s.append(self.act_f(np.dot(s[j],self.w[j]) + self.b[j]))\n",
    "            self.s=s\n",
    "            \n",
    "            error = (y[i] - s[-1])\n",
    "            delta = [learn_rate*error*self.act_f_div(s[-1])]\n",
    "            \n",
    "            for j in range(1,len(self.b)): \n",
    "                delta.append(\n",
    "                    np.dot(np.atleast_2d(delta[j-1]), self.w[-j].T) * self.act_f_div(s[-j-1])\n",
    "                )\n",
    "            self.delta = delta\n",
    "            \n",
    "            for j in range(1,len(self.b)+1):\n",
    "                self.b[-j] += delta[j-1]\n",
    "                self.w[-j] += np.dot(np.atleast_2d(s[-j-1]).T, np.atleast_2d(delta[j-1]))\n",
    "                \n",
    "    def predict(self, x):\n",
    "        s = [np.atleast_2d(x)]\n",
    "        for j in range(len(self.w)):\n",
    "            s.append(self.act_f(np.dot(s[j],self.w[j]) + self.b[j]))\n",
    "        return s[-1]\n",
    "            \n",
    "                \n",
    "bp = BP(layer=[2,2,1],act='tanh') \n",
    "\n",
    "X = np.array([[0, 0], [0, 1], [1, 0], [1, 1]])  \n",
    "y = np.array([0, 1, 1, 0]) \n",
    "bp.fit( X, y,learn_rate=0.5, epochs=1000)\n",
    "\n",
    "for i in [[0, 0], [0, 1], [1, 0], [1,1]]:  \n",
    "    print(i,bp.predict(i))"
   ]
  }
 ],
 "metadata": {
  "hide_input": false,
  "kernelspec": {
   "display_name": "Python [default]",
   "language": "python",
   "name": "python3"
  },
  "language_info": {
   "codemirror_mode": {
    "name": "ipython",
    "version": 3
   },
   "file_extension": ".py",
   "mimetype": "text/x-python",
   "name": "python",
   "nbconvert_exporter": "python",
   "pygments_lexer": "ipython3",
   "version": "3.6.5"
  },
  "toc": {
   "base_numbering": 1,
   "nav_menu": {
    "height": "12px",
    "width": "252px"
   },
   "number_sections": true,
   "sideBar": true,
   "skip_h1_title": false,
   "title_cell": "Table of Contents",
   "title_sidebar": "Contents",
   "toc_cell": false,
   "toc_position": {},
   "toc_section_display": "block",
   "toc_window_display": false
  },
  "varInspector": {
   "cols": {
    "lenName": 16,
    "lenType": 16,
    "lenVar": 40
   },
   "kernels_config": {
    "python": {
     "delete_cmd_postfix": "",
     "delete_cmd_prefix": "del ",
     "library": "var_list.py",
     "varRefreshCmd": "print(var_dic_list())"
    },
    "r": {
     "delete_cmd_postfix": ") ",
     "delete_cmd_prefix": "rm(",
     "library": "var_list.r",
     "varRefreshCmd": "cat(var_dic_list()) "
    }
   },
   "types_to_exclude": [
    "module",
    "function",
    "builtin_function_or_method",
    "instance",
    "_Feature"
   ],
   "window_display": false
  }
 },
 "nbformat": 4,
 "nbformat_minor": 2
}
