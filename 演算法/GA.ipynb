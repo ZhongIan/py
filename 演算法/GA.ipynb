{
 "cells": [
  {
   "cell_type": "markdown",
   "metadata": {},
   "source": [
    "# 來源\n",
    "\n",
    "[遗传算法 莫烦](https://morvanzhou.github.io/tutorials/machine-learning/evolutionary-algorithm/2-01-genetic-algorithm/)\n",
    "\n",
    "[github 完整代碼](https://morvanzhou.github.io/tutorials/)"
   ]
  },
  {
   "cell_type": "markdown",
   "metadata": {},
   "source": [
    "# 各項函數\n",
    "\n",
    "* 計算函數值 F(x) \n",
    "* 計算適應度 get_fitness(pred) \n",
    "* 選(天)擇 select(pop, fitness)  \n",
    "* 交配 crossover(parent, pop) \n",
    "* 變異 mutate(child) \n",
    "\n",
    "    初始化基因池 -> 計算函數值 -> 計算適應度 -> 選(天)擇 \n",
    "                -> 交配 -> 變異\n",
    "\n",
    "    pop -> F_values{F(x)} -> fitness{get_fitness(pred)} -> select(pop, fitness) \n",
    "        -> crossover(parent, pop) -> mutate(child)"
   ]
  },
  {
   "cell_type": "code",
   "execution_count": 2,
   "metadata": {
    "ExecuteTime": {
     "end_time": "2019-06-18T16:21:43.810255Z",
     "start_time": "2019-06-18T16:21:43.483542Z"
    }
   },
   "outputs": [
    {
     "data": {
      "text/plain": [
       "'\\n參考自\\nhttps://morvanzhou.github.io/tutorials/\\n'"
      ]
     },
     "execution_count": 2,
     "metadata": {},
     "output_type": "execute_result"
    }
   ],
   "source": [
    "\n",
    "\"\"\"\n",
    "參考自\n",
    "https://morvanzhou.github.io/tutorials/\n",
    "\"\"\"\n",
    "import numpy as np\n",
    "import matplotlib.pyplot as plt\n",
    "\n",
    "DNA_SIZE = 10            # DNA length 切多細 ex:[1 0 1 0 0 1 1 1 1 1]\n",
    "POP_SIZE = 100           # population size 幾條基因\n",
    "CROSS_RATE = 0.8         # mating probability (DNA crossover) 交配率\n",
    "MUTATION_RATE = 0.003    # mutation probability 突變率\n",
    "N_GENERATIONS = 200      # 繁衍幾代\n",
    "X_BOUND = [0, 5]         # x upper and lower bounds x範圍\n",
    "\n",
    "# to find the maximum of this function\n",
    "# 目標(適應)函數 求最大值\n",
    "def F(x): \n",
    "    return np.sin(10*x)*x + np.cos(2*x)*x    \n",
    "\n",
    "\n",
    "# find non-zero fitness for selection \n",
    "# 計算適應度\n",
    "def get_fitness(pred): \n",
    "    '''\n",
    "    arg:\n",
    "        pred: F(translateDNA(pop)) 基因池->目標函數{轉換函數{基因}}\n",
    "                \n",
    "    return: 基因池的各個適應度 fitness\n",
    "    \n",
    "    基因池[[1 0 1 0 0 1 1 1 1 1],[0 0 1 0 0 1 1 0 1 0],...]\n",
    "        -> 目標函數{轉換函數{基因}}\n",
    "        -> F(translateDNA(pop))\n",
    "    '''\n",
    "    # 1e-3:防止出現0\n",
    "    # pred - np.min(pred) 令適應度>0 方便計算總合\n",
    "    return pred + 1e-3 - np.min(pred)\n",
    "\n",
    "\n",
    "# convert binary DNA to decimal and normalize it to a range(0, 5)\n",
    "# 轉換\n",
    "def translateDNA(pop): \n",
    "    '''\n",
    "    arg:\n",
    "        pop: 基因池 [[1 0 1 0 0 1 1 1 1 1],...]\n",
    "    \n",
    "    return: X in X_BOUND[0 - 5]\n",
    "    \n",
    "    轉換對應的值域\n",
    "    [1 0 1 0 0 1 1 1 1 1] -> X in X_BOUND[0 - 5] \n",
    "    '''\n",
    "    \n",
    "    # 01 轉 10進位 [1 0 1 0 0 1 1 1 1 1] -> 2**9+2**8+... 2**[9-0]\n",
    "    pop2 = pop.dot(2 ** np.arange(DNA_SIZE)[::-1])\n",
    "    # 二進位轉換對應的值域\n",
    "    # float(2**DNA_SIZE-1) -> [1 1 1 1 1 1 1 1 1 1] 總和\n",
    "    # X_BOUND 對應的值域\n",
    "    return pop2 / float(2**DNA_SIZE-1) * (X_BOUND[1]-X_BOUND[0]) + X_BOUND[0]\n",
    "\n",
    "# 選擇\n",
    "def select(pop, fitness):    # nature selection wrt pop's fitness\n",
    "    '''\n",
    "    arg:\n",
    "        pop: 基因池 [[1 0 1 0 0 1 1 1 1 1],...]\n",
    "        fitness: 適應度 \n",
    "    \n",
    "    return: 基因池[適應度高的...]\n",
    "    '''\n",
    "    \n",
    "    # 產生選擇的號碼\n",
    "    # 根據適應度比重選取 比重越高選中越多次\n",
    "    idx = np.random.choice(np.arange(POP_SIZE), size=POP_SIZE, replace=True,\n",
    "                            p=fitness/fitness.sum()) # 根據適應度比重選取\n",
    "    # 返回號碼對應的值\n",
    "    return pop[idx]\n",
    "\n",
    "# 交配\n",
    "def crossover(parent, pop):     # mating process (genes crossover)\n",
    "    '''\n",
    "    arg:\n",
    "        parent: 一維,DNA_SIZE\n",
    "        pop: 二維,size=(POP_SIZE, DNA_SIZE)\n",
    "        \n",
    "    return: 返回交配後的基因\n",
    "    \n",
    "    隨機選擇交配基因(1條基因)，\n",
    "    隨機選擇交換基因點位(複數點位)(均勻交配)\n",
    "    '''\n",
    "    # parent:一維,DNA_SIZE\n",
    "    # pop:二維,size=(POP_SIZE, DNA_SIZE)\n",
    "    if np.random.rand() < CROSS_RATE:\n",
    "        # select another individual from pop\n",
    "        # 隨機選取1條基因\n",
    "        i_ = np.random.randint(0, POP_SIZE, size=1)\n",
    "        # choose crossover points \n",
    "        # 隨機選取基因交換點位(均勻交配)\n",
    "        cross_points = np.random.randint(0, 2, size=DNA_SIZE).astype(np.bool)\n",
    "        # 交換\n",
    "        parent[cross_points] = pop[i_, cross_points]                            # mating and produce one child\n",
    "    # 返回交換後的基因\n",
    "    return parent\n",
    "\n",
    "# 變異\n",
    "def mutate(child):\n",
    "    '''\n",
    "    arg:\n",
    "        child: 交配後的1條基因\n",
    "        \n",
    "    return: child 變異\n",
    "    \n",
    "    隨機選取點位變異\n",
    "    '''\n",
    "    \n",
    "    for point in range(DNA_SIZE):\n",
    "        if np.random.rand() < MUTATION_RATE:\n",
    "            child[point] = 1 if child[point] == 0 else 0\n",
    "    return child\n",
    "\n"
   ]
  },
  {
   "cell_type": "markdown",
   "metadata": {},
   "source": [
    "# 執行"
   ]
  },
  {
   "cell_type": "code",
   "execution_count": 6,
   "metadata": {
    "ExecuteTime": {
     "end_time": "2019-06-18T16:21:58.169730Z",
     "start_time": "2019-06-18T16:21:57.790066Z"
    }
   },
   "outputs": [
    {
     "name": "stdout",
     "output_type": "stream",
     "text": [
      "Most fitted DNA:  [1 0 1 0 1 0 0 0 1 1]\n",
      "X:  3.2991202346041053\n",
      "函數值 =  6.435822320543684\n"
     ]
    }
   ],
   "source": [
    "# 初始化基因池 -> 計算函數值 -> 計算適應度 -> 選(天)擇 \n",
    "#             -> 交配 -> 變異\n",
    "\n",
    "# pop -> F_values{F(x)} -> fitness{get_fitness(pred)} -> select(pop, fitness) \n",
    "#     -> crossover(parent, pop) -> mutate(child)\n",
    "\n",
    "# 初始化基因池\n",
    "# np.random.randint(2,size) 隨機整數 0~2[0,1] \n",
    "pop = np.random.randint(2, size=(POP_SIZE, DNA_SIZE))   \n",
    "\n",
    "# 繁衍幾代\n",
    "for _ in range(N_GENERATIONS):\n",
    "    \n",
    "    # 計算函數值\n",
    "    F_values = F(translateDNA(pop))    \n",
    "\n",
    "    # 計算適應度\n",
    "    fitness = get_fitness(F_values)\n",
    "    \n",
    "    # 選(天)擇 \n",
    "    pop = select(pop, fitness)\n",
    "    pop_copy = pop.copy()\n",
    "    for parent in pop:\n",
    "        # 交配\n",
    "        child = crossover(parent, pop_copy)\n",
    "        # 變異\n",
    "        child = mutate(child)\n",
    "        parent[:] = child \n",
    "        \n",
    "# 印出\n",
    "max_DNA_in_pop = np.argmax(fitness)\n",
    "print(\"Most fitted DNA: \", pop[max_DNA_in_pop, :])\n",
    "print(\"X: \", translateDNA(pop[max_DNA_in_pop, :]))\n",
    "print(\"函數值 = \", F_values[max_DNA_in_pop])"
   ]
  },
  {
   "cell_type": "code",
   "execution_count": 7,
   "metadata": {
    "ExecuteTime": {
     "end_time": "2019-06-18T16:22:01.202223Z",
     "start_time": "2019-06-18T16:22:01.036266Z"
    }
   },
   "outputs": [
    {
     "data": {
      "text/plain": [
       "[<matplotlib.lines.Line2D at 0x29c4e3d3a20>]"
      ]
     },
     "execution_count": 7,
     "metadata": {},
     "output_type": "execute_result"
    },
    {
     "data": {
      "text/plain": [
       "<matplotlib.collections.PathCollection at 0x29c52233898>"
      ]
     },
     "execution_count": 7,
     "metadata": {},
     "output_type": "execute_result"
    },
    {
     "data": {
      "image/png": "[encoded data removed]",
      "text/plain": [
       "<Figure size 432x288 with 1 Axes>"
      ]
     },
     "metadata": {},
     "output_type": "display_data"
    }
   ],
   "source": [
    "x = np.linspace(*X_BOUND, 200)\n",
    "plt.plot(x, F(x))\n",
    "plt.scatter(translateDNA(pop), F(translateDNA(pop)) , s=200, lw=0, c='red', alpha=0.5)"
   ]
  },
  {
   "cell_type": "markdown",
   "metadata": {},
   "source": [
    "# 畫圖\n",
    "\n",
    "在jupyter 難以顯示快速疊圖\n",
    "\n",
    "    %matplotlib qt5\n",
    "    # 使用QT，疊圖成功，但未刷新，到處都是紅點"
   ]
  },
  {
   "cell_type": "code",
   "execution_count": 9,
   "metadata": {
    "ExecuteTime": {
     "end_time": "2019-06-18T16:23:47.095882Z",
     "start_time": "2019-06-18T16:23:29.244254Z"
    }
   },
   "outputs": [
    {
     "data": {
      "text/plain": [
       "[<matplotlib.lines.Line2D at 0x29c55becc88>]"
      ]
     },
     "execution_count": 9,
     "metadata": {},
     "output_type": "execute_result"
    },
    {
     "data": {
      "text/plain": [
       "<matplotlib.collections.PathCollection at 0x29c55becef0>"
      ]
     },
     "execution_count": 9,
     "metadata": {},
     "output_type": "execute_result"
    }
   ],
   "source": [
    "%matplotlib qt5\n",
    "# 使用QT，疊圖成功，但未刷新，到處都是紅點\n",
    "\n",
    "import matplotlib.pyplot as plt\n",
    "\n",
    "# initialize the pop DNA\n",
    "# 初始化基因池\n",
    "# np.random.randint(2,size) 隨機整數 0~2[0,1] \n",
    "pop = np.random.randint(0,2, size=(POP_SIZE, DNA_SIZE))   \n",
    "\n",
    "# something about plotting\n",
    "# 畫圖\n",
    "plt.ion()       \n",
    "x = np.linspace(*X_BOUND, 200)\n",
    "plt.plot(x, F(x))\n",
    "\n",
    "# 繁衍幾代\n",
    "for _ in range(N_GENERATIONS):\n",
    "    \n",
    "    # 計算函數值\n",
    "    F_values = F(translateDNA(pop))    # compute function value by extracting DNA\n",
    "\n",
    "    # something about plotting\n",
    "    # 畫圖\n",
    "    if 'sca' in globals(): \n",
    "        sca.remove()\n",
    "        \n",
    "    plt.scatter(translateDNA(pop), F_values, s=200, lw=0, c='red', alpha=0.5); plt.pause(0.05)\n",
    "\n",
    "    # GA part (evolution)\n",
    "    fitness = get_fitness(F_values)\n",
    "    print(\"Most fitted DNA: \", pop[np.argmax(fitness), :])\n",
    "    pop = select(pop, fitness)\n",
    "    pop_copy = pop.copy()\n",
    "    for parent in pop:\n",
    "        child = crossover(parent, pop_copy)\n",
    "        child = mutate(child)\n",
    "        parent[:] = child       # parent is replaced by its child\n",
    "\n",
    "plt.ioff(); plt.show()"
   ]
  },
  {
   "cell_type": "code",
   "execution_count": null,
   "metadata": {},
   "outputs": [],
   "source": []
  }
 ],
 "metadata": {
  "hide_input": false,
  "kernelspec": {
   "display_name": "Python [default]",
   "language": "python",
   "name": "python3"
  },
  "language_info": {
   "codemirror_mode": {
    "name": "ipython",
    "version": 3
   },
   "file_extension": ".py",
   "mimetype": "text/x-python",
   "name": "python",
   "nbconvert_exporter": "python",
   "pygments_lexer": "ipython3",
   "version": "3.6.5"
  },
  "toc": {
   "base_numbering": 1,
   "nav_menu": {
    "height": "12px",
    "width": "252px"
   },
   "number_sections": true,
   "sideBar": true,
   "skip_h1_title": false,
   "title_cell": "Table of Contents",
   "title_sidebar": "Contents",
   "toc_cell": false,
   "toc_position": {},
   "toc_section_display": "block",
   "toc_window_display": false
  },
  "varInspector": {
   "cols": {
    "lenName": 16,
    "lenType": 16,
    "lenVar": 40
   },
   "kernels_config": {
    "python": {
     "delete_cmd_postfix": "",
     "delete_cmd_prefix": "del ",
     "library": "var_list.py",
     "varRefreshCmd": "print(var_dic_list())"
    },
    "r": {
     "delete_cmd_postfix": ") ",
     "delete_cmd_prefix": "rm(",
     "library": "var_list.r",
     "varRefreshCmd": "cat(var_dic_list()) "
    }
   },
   "types_to_exclude": [
    "module",
    "function",
    "builtin_function_or_method",
    "instance",
    "_Feature"
   ],
   "window_display": false
  }
 },
 "nbformat": 4,
 "nbformat_minor": 2
}
