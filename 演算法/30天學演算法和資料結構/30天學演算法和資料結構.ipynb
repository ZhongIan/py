{
 "cells": [
  {
   "cell_type": "markdown",
   "metadata": {
    "toc": true
   },
   "source": [
    "<h1>Table of Contents<span class=\"tocSkip\"></span></h1>\n",
    "<div class=\"toc\"><ul class=\"toc-item\"><li><span><a href=\"#[演算法]-桶子排序法-(Bucket-Sort)\" data-toc-modified-id=\"[演算法]-桶子排序法-(Bucket-Sort)-1\"><span class=\"toc-item-num\">1&nbsp;&nbsp;</span>[演算法] 桶子排序法 (Bucket Sort)</a></span><ul class=\"toc-item\"><li><span><a href=\"#進階\" data-toc-modified-id=\"進階-1.1\"><span class=\"toc-item-num\">1.1&nbsp;&nbsp;</span>進階</a></span></li></ul></li><li><span><a href=\"#[演算法]-泡沫排序-(Bubble-Sort)\" data-toc-modified-id=\"[演算法]-泡沫排序-(Bubble-Sort)-2\"><span class=\"toc-item-num\">2&nbsp;&nbsp;</span>[演算法] 泡沫排序 (Bubble Sort)</a></span></li><li><span><a href=\"#[演算法]-快速排序法-(Quick-Sort)\" data-toc-modified-id=\"[演算法]-快速排序法-(Quick-Sort)-3\"><span class=\"toc-item-num\">3&nbsp;&nbsp;</span>[演算法] 快速排序法 (Quick Sort)</a></span></li><li><span><a href=\"#[演算法]-基數排序法-(Radix-Sort)\" data-toc-modified-id=\"[演算法]-基數排序法-(Radix-Sort)-4\"><span class=\"toc-item-num\">4&nbsp;&nbsp;</span>[演算法] 基數排序法 (Radix Sort)</a></span></li><li><span><a href=\"#[演算法]-列(窮)舉法-(Enumeration)\" data-toc-modified-id=\"[演算法]-列(窮)舉法-(Enumeration)-5\"><span class=\"toc-item-num\">5&nbsp;&nbsp;</span>[演算法] 列(窮)舉法 (Enumeration)</a></span></li><li><span><a href=\"#[演算法]-循序搜尋-(Sequential-Search)\" data-toc-modified-id=\"[演算法]-循序搜尋-(Sequential-Search)-6\"><span class=\"toc-item-num\">6&nbsp;&nbsp;</span>[演算法] 循序搜尋 (Sequential Search)</a></span></li><li><span><a href=\"#[演算法]-二分搜尋-(Binary-Search)\" data-toc-modified-id=\"[演算法]-二分搜尋-(Binary-Search)-7\"><span class=\"toc-item-num\">7&nbsp;&nbsp;</span>[演算法] 二分搜尋 (Binary Search)</a></span></li><li><span><a href=\"#[演算法]-插補搜尋-(Interpolation-Search)\" data-toc-modified-id=\"[演算法]-插補搜尋-(Interpolation-Search)-8\"><span class=\"toc-item-num\">8&nbsp;&nbsp;</span>[演算法] 插補搜尋 (Interpolation Search)</a></span></li><li><span><a href=\"#[演算法]-深度優先搜尋-(Depth-first-Search)\" data-toc-modified-id=\"[演算法]-深度優先搜尋-(Depth-first-Search)-9\"><span class=\"toc-item-num\">9&nbsp;&nbsp;</span>[演算法] 深度優先搜尋 (Depth-first Search)</a></span></li><li><span><a href=\"#[演算法]-費氏(費氏數列)搜尋-(Fibonacci-Search)\" data-toc-modified-id=\"[演算法]-費氏(費氏數列)搜尋-(Fibonacci-Search)-10\"><span class=\"toc-item-num\">10&nbsp;&nbsp;</span>[演算法] 費氏(費氏數列)搜尋 (Fibonacci Search)</a></span></li><li><span><a href=\"#[演算法]-廣度優先搜尋-(Breadth-first-Search)\" data-toc-modified-id=\"[演算法]-廣度優先搜尋-(Breadth-first-Search)-11\"><span class=\"toc-item-num\">11&nbsp;&nbsp;</span>[演算法] 廣度優先搜尋 (Breadth-first Search)</a></span></li><li><span><a href=\"#[演算法]-K-means-分群-(K-means-Clustering)\" data-toc-modified-id=\"[演算法]-K-means-分群-(K-means-Clustering)-12\"><span class=\"toc-item-num\">12&nbsp;&nbsp;</span>[演算法] K-means 分群 (K-means Clustering)</a></span></li><li><span><a href=\"#[演算法]-最短路徑-(Floyd-Warshall-演算法)\" data-toc-modified-id=\"[演算法]-最短路徑-(Floyd-Warshall-演算法)-13\"><span class=\"toc-item-num\">13&nbsp;&nbsp;</span>[演算法] 最短路徑 (Floyd-Warshall 演算法)</a></span></li><li><span><a href=\"#[演算法]-最短路徑-(Bellman-Ford-演算法---佇列優化)\" data-toc-modified-id=\"[演算法]-最短路徑-(Bellman-Ford-演算法---佇列優化)-14\"><span class=\"toc-item-num\">14&nbsp;&nbsp;</span>[演算法] 最短路徑 (Bellman-Ford 演算法 - 佇列優化)</a></span></li><li><span><a href=\"#[資料結構]\" data-toc-modified-id=\"[資料結構]-15\"><span class=\"toc-item-num\">15&nbsp;&nbsp;</span>[資料結構]</a></span><ul class=\"toc-item\"><li><span><a href=\"#[資料結構]-陣列-(Array)-&amp;-串列-(Linked-List)\" data-toc-modified-id=\"[資料結構]-陣列-(Array)-&amp;-串列-(Linked-List)-15.1\"><span class=\"toc-item-num\">15.1&nbsp;&nbsp;</span>[資料結構] 陣列 (Array) &amp; 串列 (Linked List)</a></span></li><li><span><a href=\"#[資料結構]-堆疊-(Stack)\" data-toc-modified-id=\"[資料結構]-堆疊-(Stack)-15.2\"><span class=\"toc-item-num\">15.2&nbsp;&nbsp;</span>[資料結構] 堆疊 (Stack)</a></span></li><li><span><a href=\"#[資料結構]-樹-(Tree)\" data-toc-modified-id=\"[資料結構]-樹-(Tree)-15.3\"><span class=\"toc-item-num\">15.3&nbsp;&nbsp;</span>[資料結構] 樹 (Tree)</a></span></li><li><span><a href=\"#[資料結構]-圖-(Graph)\" data-toc-modified-id=\"[資料結構]-圖-(Graph)-15.4\"><span class=\"toc-item-num\">15.4&nbsp;&nbsp;</span>[資料結構] 圖 (Graph)</a></span><ul class=\"toc-item\"><li><span><a href=\"#特殊圖\" data-toc-modified-id=\"特殊圖-15.4.1\"><span class=\"toc-item-num\">15.4.1&nbsp;&nbsp;</span>特殊圖</a></span></li></ul></li><li><span><a href=\"#[資料結構]-圖的深度優先走訪-(Depth-first-Search-)\" data-toc-modified-id=\"[資料結構]-圖的深度優先走訪-(Depth-first-Search-)-15.5\"><span class=\"toc-item-num\">15.5&nbsp;&nbsp;</span>[資料結構] 圖的深度優先走訪 (Depth-first Search )</a></span></li><li><span><a href=\"#[資料結構]-圖的廣度優先走訪-(Breadth-first-Search)\" data-toc-modified-id=\"[資料結構]-圖的廣度優先走訪-(Breadth-first-Search)-15.6\"><span class=\"toc-item-num\">15.6&nbsp;&nbsp;</span>[資料結構] 圖的廣度優先走訪 (Breadth-first Search)</a></span></li><li><span><a href=\"#[資料結構]-雜湊-(Hash)\" data-toc-modified-id=\"[資料結構]-雜湊-(Hash)-15.7\"><span class=\"toc-item-num\">15.7&nbsp;&nbsp;</span>[資料結構] 雜湊 (Hash)</a></span></li></ul></li></ul></div>"
   ]
  },
  {
   "cell_type": "markdown",
   "metadata": {},
   "source": [
    "來源\n",
    "\n",
    "[30天學演算法和資料結構](https://ithelp.ithome.com.tw/articles/10201707)\n"
   ]
  },
  {
   "cell_type": "markdown",
   "metadata": {
    "ExecuteTime": {
     "end_time": "2019-06-30T08:50:36.797509Z",
     "start_time": "2019-06-30T08:50:36.793627Z"
    }
   },
   "source": [
    "# [演算法] 桶子排序法 (Bucket Sort)"
   ]
  },
  {
   "cell_type": "markdown",
   "metadata": {},
   "source": [
    "https://ithelp.ithome.com.tw/articles/10201707\n",
    "\n",
    "程式時間複雜度：O(M+N) M\n",
    "\n",
    "`data = [89, 34, 23, 78, 67, 100, 66, 29, 79, 55, 78, 88, 92, 96, 96, 23]`\n",
    "\n",
    "由小到大排序成：\n",
    "\n",
    "`data = [23, 23, 29, 34, 55, 66, 67, 78, 78, 79, 88, 89, 92, 96, 96, 100]`"
   ]
  },
  {
   "cell_type": "markdown",
   "metadata": {},
   "source": [
    "最大數有多少，就放多少桶子，桶子內有東西就取出，沒有就跳過"
   ]
  },
  {
   "cell_type": "code",
   "execution_count": 2,
   "metadata": {
    "ExecuteTime": {
     "end_time": "2019-06-30T08:54:44.842336Z",
     "start_time": "2019-06-30T08:54:44.836481Z"
    }
   },
   "outputs": [
    {
     "name": "stdout",
     "output_type": "stream",
     "text": [
      "[23, 23, 29, 34, 55, 66, 67, 78, 78, 79, 88, 89, 92, 96, 96, 100]\n"
     ]
    }
   ],
   "source": [
    "data = [89, 34, 23, 78, 67, 100, 66, 29, 79, 55, 78, 88, 92, 96, 96, 23]\n",
    "\n",
    "def bucketsort(data):\n",
    "    \n",
    "    #準備桶子\n",
    "    max_score = 100\n",
    "    bucket = []\n",
    "    # 101個桶子(max_score+1) 有人可能 0 分\n",
    "    for i in range(max_score+1):\n",
    "        bucket.append(0)\n",
    "        \n",
    "    # 將成績一一讀取，並丟到相對應的桶子，有幾個就加幾個\n",
    "    for score in data:\n",
    "        bucket[score] = bucket[score] + 1\n",
    "    \n",
    "    # 依照順序取出\n",
    "    index = 0\n",
    "    for i in range(len(bucket)):\n",
    "        if bucket[i] != 0:\n",
    "            # 成績重複\n",
    "            for j in range(bucket[i]):\n",
    "                data[index] = i\n",
    "                index += 1\n",
    "\n",
    "bucketsort(data)\n",
    "print(data)"
   ]
  },
  {
   "cell_type": "markdown",
   "metadata": {},
   "source": [
    "## 進階"
   ]
  },
  {
   "cell_type": "code",
   "execution_count": 1,
   "metadata": {
    "ExecuteTime": {
     "end_time": "2019-06-30T09:15:56.781183Z",
     "start_time": "2019-06-30T09:15:56.773374Z"
    }
   },
   "outputs": [
    {
     "name": "stdout",
     "output_type": "stream",
     "text": [
      "[['Damon', 25], ['Jane', 31], ['Julia', 44], ['Abby', 58], ['Caroline', 65], ['Stephen', 76], ['Elena', 76], ['Ryn', 82], ['James', 87], ['Justin', 99]]\n"
     ]
    }
   ],
   "source": [
    "data = [\n",
    "    ['Abby', 58], ['Julia', 44], ['Jane', 31], ['Stephen', 76],\n",
    "    ['Ryn', 82], ['Justin', 99], ['Caroline', 65], ['James', 87],\n",
    "    ['Damon', 25], ['Elena', 76]\n",
    "]\n",
    "\n",
    "\n",
    "def bucketsort_hash(data):\n",
    "    \n",
    "    max_score = 100\n",
    "    bucket = []\n",
    "    \n",
    "    # 減少桶子數量\n",
    "    bucket_num = lambda x: int(x/33)\n",
    "    \n",
    "    # 準備桶子\n",
    "    for i in range(bucket_num(max_score)+1):\n",
    "        bucket.append([])\n",
    "    \n",
    "    # 一一放進桶內\n",
    "    for x in data:\n",
    "        index = bucket_num(x[1])\n",
    "        bucket[index].append(x)\n",
    "    \n",
    "    # 各個桶內對名子排序\n",
    "    for i, flag in enumerate(bucket):\n",
    "        if flag != [] :\n",
    "            bucket[i] = sorted(bucket[i], key=lambda x: x[0])\n",
    "    \n",
    "    # 依照順序取出\n",
    "    index = 0\n",
    "    for i in bucket:\n",
    "        if i != []:\n",
    "            for j in i:\n",
    "                data[index] = j\n",
    "                index += 1\n",
    "\n",
    "bucketsort_hash(data)\n",
    "print(data)"
   ]
  },
  {
   "cell_type": "markdown",
   "metadata": {},
   "source": [
    "# [演算法] 泡沫排序 (Bubble Sort)"
   ]
  },
  {
   "cell_type": "markdown",
   "metadata": {},
   "source": [
    "\n",
    "https://ithelp.ithome.com.tw/articles/10202160\n",
    "\n",
    "程式時間複雜度：O(N^2)\n"
   ]
  },
  {
   "cell_type": "code",
   "execution_count": null,
   "metadata": {},
   "outputs": [],
   "source": [
    "兩兩比大小，大的會往右邊移動"
   ]
  },
  {
   "cell_type": "code",
   "execution_count": 2,
   "metadata": {
    "ExecuteTime": {
     "end_time": "2019-06-30T13:13:18.935846Z",
     "start_time": "2019-06-30T13:13:18.920236Z"
    }
   },
   "outputs": [
    {
     "name": "stdout",
     "output_type": "stream",
     "text": [
      "[23, 23, 29, 34, 55, 66, 67, 78, 78, 79, 88, 89, 92, 96, 96, 100]\n"
     ]
    }
   ],
   "source": [
    "data = [89, 34, 23, 78, 67, 100, 66, 29, 79, 55, 78, 88, 92, 96, 96, 23]\n",
    "\n",
    "def bubblesort(data):\n",
    "    # 定義資料長度\n",
    "    n = len(data)\n",
    "    # 有 n 個資料長度，但只要執行 n-1 次\n",
    "    for i in range(n-2):   \n",
    "        # 從第1個開始比較直到最後一個還沒到最終位置的數字 \n",
    "        for j in range(n-i-1):   \n",
    "            # 比大小然後互換\n",
    "            if data[j] > data[j+1]:       \n",
    "                data[j], data[j+1] = data[j+1], data[j]\n",
    "\n",
    "bubblesort(data)\n",
    "print(data)"
   ]
  },
  {
   "cell_type": "markdown",
   "metadata": {},
   "source": [
    "# [演算法] 快速排序法 (Quick Sort)"
   ]
  },
  {
   "cell_type": "markdown",
   "metadata": {},
   "source": [
    "https://ithelp.ithome.com.tw/articles/10202330\n",
    "    \n",
    "程式時間複雜度 Ｏ(NlogN)"
   ]
  },
  {
   "cell_type": "markdown",
   "metadata": {},
   "source": [
    "選擇基準點，分別從左右比基準點大小(左找大，右找小)，直到找到同樣位置，分為兩堆，分別遞迴"
   ]
  },
  {
   "cell_type": "code",
   "execution_count": null,
   "metadata": {},
   "outputs": [],
   "source": [
    "data = [89, 34, 23, 78, 67, 100, 66, 29, 79, 55, 78, 88, 92, 96, 96, 23]\n",
    "\n",
    "def quicksort(\n",
    "    data, left, right # 輸入資料，和從兩邊開始的位置\n",
    "): \n",
    "    # 如果左邊大於右邊，就跳出function\n",
    "    if left >= right :           \n",
    "        return\n",
    "    \n",
    "    # 左邊的代理人\n",
    "    i = left                      \n",
    "    # 右邊的代理人\n",
    "    j = right                     \n",
    "    # 基準點\n",
    "    key = data[left]                 \n",
    "\n",
    "    while i != j:                  \n",
    "        # 從右邊開始找，找比基準點小的值\n",
    "        while data[j] > key and i < j:   \n",
    "            j -= 1\n",
    "        # 從左邊開始找，找比基準點大的值\n",
    "        while data[i] <= key and i < j:  \n",
    "            i += 1\n",
    "        # 當左右代理人沒有相遇時，互換值\n",
    "        if i < j:                        \n",
    "            data[i], data[j] = data[j], data[i] \n",
    "\n",
    "    # 將基準點歸換至代理人相遇點\n",
    "    data[left] = data[i] \n",
    "    data[i] = key\n",
    "    \n",
    "    # 繼續處理較小部分的子循環\n",
    "    quicksort(data, left, i-1)  \n",
    "    # 繼續處理較大部分的子循環\n",
    "    quicksort(data, i+1, right)  \n",
    "\n",
    "quicksort(data, 0, len(data)-1)\n",
    "print(data)"
   ]
  },
  {
   "cell_type": "markdown",
   "metadata": {},
   "source": [
    "# [演算法] 基數排序法 (Radix Sort)\n",
    "\n",
    "https://ithelp.ithome.com.tw/articles/10202713"
   ]
  },
  {
   "cell_type": "code",
   "execution_count": null,
   "metadata": {},
   "outputs": [],
   "source": [
    "(0-9)桶子，個位數比，十位數比，依此類推，直到最大數的位數"
   ]
  },
  {
   "cell_type": "code",
   "execution_count": 12,
   "metadata": {
    "ExecuteTime": {
     "end_time": "2019-07-02T09:12:54.394896Z",
     "start_time": "2019-07-02T09:12:54.388035Z"
    }
   },
   "outputs": [
    {
     "name": "stdout",
     "output_type": "stream",
     "text": [
      "[23, 23, 29, 34, 55, 66, 67, 78, 78, 79, 88, 89, 92, 96, 96, 100]\n"
     ]
    }
   ],
   "source": [
    "data = [89, 34, 23, 78, 67, 100, 66, 29, 79, 55, 78, 88, 92, 96, 96, 23]\n",
    "\n",
    "# Radix sort\n",
    "def radixsort(data):\n",
    "    \n",
    "    length = len(data)\n",
    "    # 資料裡最大的數值\n",
    "    count = max(data) \n",
    "\n",
    "    # 用最大數來判斷最大位數\n",
    "    digit = 1\n",
    "    while count > 9:\n",
    "        count /= 10\n",
    "        digit += 1\n",
    "\n",
    "    tmp = []\n",
    "    cur = 0\n",
    "    \n",
    "    # 資料的大小會決定桶子的數量，會是一個二維陣列 \n",
    "    # [位數桶子(0-9), 資料長度]\n",
    "    for i in range(10):    \n",
    "        tmp.append([0] * length)\n",
    "    \n",
    "    # 游標行，用來將資料放到同一位數(0-9)但不同列(COL)的桶子 \n",
    "    # -> tmp :[位數桶子(0-9), order[]:第幾位數的桶子有多少東西，邊放邊加]\n",
    "    # 判斷每個桶子有多少東西\n",
    "    order = [0] * 10       \n",
    "    \n",
    "    # '''use LSD(Least significant digit) method '''\n",
    "    # n = 1,10,100,...\n",
    "    n = 1\n",
    "    # 執行直到最大數的位數\n",
    "    # 也可用 while n <= max(data)\n",
    "    for d in range(digit):\n",
    "        # 將資料一一取出\n",
    "        for i in range(length):\n",
    "            # 將資料用10來取個位數的餘數\n",
    "            lsd = int(data[i]/n) % 10  \n",
    "            # 在第幾 ROW(0-9) 放進東西\n",
    "            # order表每個桶子有多少東西，一開始為0\n",
    "            tmp[lsd][order[lsd]] = data[i]\n",
    "            # 放進東西後，桶子內 +1\n",
    "            order[lsd] += 1\n",
    "            # 印出結果查看\n",
    "            #print('\\n'.join((str(i) for i in tmp)),'\\n XXXXXX')\n",
    "        \n",
    "        # 將資料依照桶子順序取出\n",
    "        for i in range(10):\n",
    "            # 判斷每個桶子有多少東西\n",
    "            if order[i] != 0:\n",
    "                for j in range(order[i]):\n",
    "                    data[cur] = tmp[i][j]\n",
    "                    cur += 1\n",
    "            # 將游標行的資料歸零\n",
    "            order[i] = 0\n",
    "        n *= 10\n",
    "        cur = 0\n",
    "    print(data)\n",
    "        \n",
    "        \n",
    "radixsort(data)"
   ]
  },
  {
   "cell_type": "markdown",
   "metadata": {},
   "source": [
    "# [演算法] 列(窮)舉法 (Enumeration)\n",
    "\n",
    "https://ithelp.ithome.com.tw/articles/10203390"
   ]
  },
  {
   "cell_type": "markdown",
   "metadata": {},
   "source": [
    "求出符合以下方程 [a-i] 的可能 \n",
    "\n",
    "[a-i] in [1-9] ; [a-i] 不可相同\n",
    "\n",
    "$$ \\frac{a}{bc} + \\frac{d}{ef} + \\frac{g}{hi} =1  \\ $$"
   ]
  },
  {
   "cell_type": "code",
   "execution_count": 14,
   "metadata": {
    "ExecuteTime": {
     "end_time": "2019-07-02T10:04:40.962114Z",
     "start_time": "2019-07-02T10:04:39.888900Z"
    }
   },
   "outputs": [
    {
     "name": "stdout",
     "output_type": "stream",
     "text": [
      "5 3 4 7 6 8 9 1 2\n",
      "5 3 4 9 1 2 7 6 8\n",
      "7 6 8 5 3 4 9 1 2\n",
      "7 6 8 9 1 2 5 3 4\n",
      "9 1 2 5 3 4 7 6 8\n",
      "9 1 2 7 6 8 5 3 4\n"
     ]
    }
   ],
   "source": [
    "from copy import copy\n",
    "list_1to9=[1,2,3,4,5,6,7,8,9]\n",
    "\n",
    "#在b層建一個新的1-9，然後pop掉取過的，C層再複製b取過的，建一個新的1-9，pop調取過的\n",
    "#d層再複製c層取過的，建新的1-9.....以下同上。這樣就最後一行就不用再把取過的加回去了。\n",
    "\n",
    "# 如果再稍稍修改，效率會再更好喔\n",
    "for a in list_1to9:        # a從list_1to9取數字\n",
    "    list_a=copy(list_1to9)   # list_a複製list_1to9\n",
    "    list_a.remove(a)         # 將a選取的數字從list_a去除，留下可以繼續被選取的字給b\n",
    "    for b in list_a:         # b從list_a取數字\n",
    "        list_b=copy(list_a)  # list_b複製list_a\n",
    "        list_b.remove(b)     # 將b選取的數字從list_b去除，留下可以繼續被選取的字給c\n",
    "        for c in list_b:\n",
    "            list_c=copy(list_b)\n",
    "            list_c.remove(c)\n",
    "            for d in list_c:\n",
    "                list_d=copy(list_c)\n",
    "                list_d.remove(d)\n",
    "                for e in list_d:\n",
    "                    list_e=copy(list_d)\n",
    "                    list_e.remove(e)\n",
    "                    for f in list_e:\n",
    "                        list_f=copy(list_e)\n",
    "                        list_f.remove(f)\n",
    "                        for g in list_f:\n",
    "                            list_g=copy(list_f)\n",
    "                            list_g.remove(g)\n",
    "                            for h in list_g:\n",
    "                                list_h=copy(list_g)\n",
    "                                list_h.remove(h)\n",
    "                                for i in list_h:\n",
    "                                    #這時候選取完所有的數字，並填入方程式進行驗證，如果為是，輸出結果；如果為否，則沿著迴圈h到迴圈a一一測試各種可能。\n",
    "                                    if (a/(b*10.+c)+d/(e*10.+f)+g/(h*10.+i))==1: \n",
    "                                        print (a,b,c,d,e,f,g,h,i) "
   ]
  },
  {
   "cell_type": "markdown",
   "metadata": {},
   "source": [
    "# [演算法] 循序搜尋 (Sequential Search)\n",
    "\n",
    "https://ithelp.ithome.com.tw/articles/10206787"
   ]
  },
  {
   "cell_type": "markdown",
   "metadata": {},
   "source": [
    "循序搜尋 `(Sequential Search)`，說白了就是在已排序的資料中一個一個比對，直到找到為止。\n",
    "最簡單的程式碼就是："
   ]
  },
  {
   "cell_type": "code",
   "execution_count": 3,
   "metadata": {
    "ExecuteTime": {
     "end_time": "2019-07-04T11:41:55.054512Z",
     "start_time": "2019-07-04T11:41:55.049631Z"
    }
   },
   "outputs": [
    {
     "name": "stdout",
     "output_type": "stream",
     "text": [
      "find the key : 3\n"
     ]
    }
   ],
   "source": [
    "data = [1, 2, 3, 4, 5, 6, 7, 8]\n",
    "\n",
    "def sequential_search(data, key):\n",
    "    for i in data:\n",
    "        if i == key : \n",
    "            print(f\"find the key : {i}\") \n",
    "            break \n",
    "            \n",
    "sequential_search(data, 3)"
   ]
  },
  {
   "cell_type": "code",
   "execution_count": 4,
   "metadata": {
    "ExecuteTime": {
     "end_time": "2019-07-04T11:42:56.973105Z",
     "start_time": "2019-07-04T11:42:56.966273Z"
    }
   },
   "outputs": [
    {
     "name": "stdout",
     "output_type": "stream",
     "text": [
      "finde the index: 1\n"
     ]
    }
   ],
   "source": [
    "data = [1, 2, 3, 4, 5, 6, 7, 8]\n",
    "\n",
    "def sequential_search(data, key):\n",
    "    # 設一個空陣列，長度為data長度+1\n",
    "    tmp = [0] * (len(data) + 1)    \n",
    "    \n",
    "    # 將data的值給到tmp\n",
    "    for i in range(1, len(data)):  \n",
    "        tmp[i] = data[i - 1]\n",
    "    # 設定key值\n",
    "    tmp[0] = key \n",
    "    # 設定索引並開始比較                  \n",
    "    i = len(data)                  \n",
    "    while tmp[i] != tmp[0]:\n",
    "        i -= 1\n",
    "    # 回傳索引\n",
    "    return i - 1                   \n",
    "\n",
    "index = sequential_search(data, 2)\n",
    "if index >= 0:\n",
    "    print(\"finde the index: \" + str(index))\n",
    "else:\n",
    "    print(\"can't find the index\")"
   ]
  },
  {
   "cell_type": "markdown",
   "metadata": {},
   "source": [
    "# [演算法] 二分搜尋 (Binary Search)\n",
    "\n",
    "https://ithelp.ithome.com.tw/articles/10206818"
   ]
  },
  {
   "cell_type": "markdown",
   "metadata": {},
   "source": [
    "二分搜尋 `(Binary Search)` 是取 已排序資料的中間索引的值，來確認是否為要搜尋的數，若不是，則將資料以中間索引分為兩半。"
   ]
  },
  {
   "cell_type": "code",
   "execution_count": 9,
   "metadata": {
    "ExecuteTime": {
     "end_time": "2019-07-04T11:49:25.794037Z",
     "start_time": "2019-07-04T11:49:25.788204Z"
    }
   },
   "outputs": [
    {
     "name": "stdout",
     "output_type": "stream",
     "text": [
      "找到數值於索引 4\n"
     ]
    }
   ],
   "source": [
    "data = [1, 2, 3, 4, 5, 6, 7, 8, 9]\n",
    "\n",
    "def binary_search(data, key):\n",
    "    # 設置選取範圍的指標\n",
    "    low = 0\n",
    "    number = data\n",
    "    upper = len(number) - 1\n",
    "    while low <= upper:\n",
    "        # 取中間索引的值\n",
    "        mid = int((low + upper) / 2 )\n",
    "        # 若搜尋值比中間的值大，將中間索引+1，取右半\n",
    "        if number[mid] < key:    \n",
    "            low = mid + 1\n",
    "        # 若搜尋值比中間的值小，將中間索引+1，取左半\n",
    "        elif number[mid] > key:  \n",
    "            upper = mid - 1\n",
    "        # 若搜尋值等於中間的值，則回傳\n",
    "        else:                    \n",
    "            return mid\n",
    "    return -1\n",
    "\n",
    "\n",
    "index = binary_search(data, 5)\n",
    "if index >= 0:\n",
    "    print(\"找到數值於索引 \" + str(index))\n",
    "else:\n",
    "    print(\"找不到數值\")"
   ]
  },
  {
   "cell_type": "markdown",
   "metadata": {},
   "source": [
    "# [演算法] 插補搜尋 (Interpolation Search)\n",
    "\n",
    "https://ithelp.ithome.com.tw/articles/10207069"
   ]
  },
  {
   "cell_type": "markdown",
   "metadata": {},
   "source": [
    "$$ \\frac{data[mid]-data[low]}{data[upper]-data[low]} = \\frac{mid-low}{upper-low} $$\n",
    "\n",
    "$$ mid = (upper-low) \\times \\frac{data[mid]-data[low]}{data[upper]-data[low]}  + low $$"
   ]
  },
  {
   "cell_type": "code",
   "execution_count": 10,
   "metadata": {
    "ExecuteTime": {
     "end_time": "2019-07-04T14:01:51.533741Z",
     "start_time": "2019-07-04T14:01:51.431664Z"
    }
   },
   "outputs": [
    {
     "name": "stdout",
     "output_type": "stream",
     "text": [
      "找到數值於索引 5\n"
     ]
    }
   ],
   "source": [
    "data = [1, 2, 3, 4, 5, 6, 7, 8, 9, 10]\n",
    "def interpolation_search(data, key):\n",
    "    low = 0\n",
    "    upper = len(data) - 1\n",
    "    while low <= upper:\n",
    "        mid = int(\n",
    "            (upper - low) * (key - data[low]) / (data[upper] - data[low]) + low\n",
    "        )\n",
    "        if mid < low or mid > upper:\n",
    "            break\n",
    "        if key < data[mid]:\n",
    "            upper = mid - 1\n",
    "        elif key > data[mid]:\n",
    "            low = mid + 1\n",
    "        else:\n",
    "            return mid\n",
    "\n",
    "    return -1\n",
    "\n",
    "\n",
    "index = interpolation_search(data, 6)\n",
    "if index >= 0:\n",
    "    print(\"找到數值於索引 \" + str(index))\n",
    "else:\n",
    "    print(\"找不到數值\")\n"
   ]
  },
  {
   "cell_type": "markdown",
   "metadata": {},
   "source": [
    "# [演算法] 深度優先搜尋 (Depth-first Search)\n",
    "\n",
    "https://ithelp.ithome.com.tw/articles/10207602"
   ]
  },
  {
   "cell_type": "markdown",
   "metadata": {},
   "source": [
    "求出符合以下方程 [a-i] 的可能 \n",
    "\n",
    "[a-i] in [1-9]  ; [a-i] 不可相同\n",
    "\n",
    "$$ \\frac{a}{bc} + \\frac{d}{ef} + \\frac{g}{hi} =1  \\ $$"
   ]
  },
  {
   "cell_type": "code",
   "execution_count": 2,
   "metadata": {
    "ExecuteTime": {
     "end_time": "2019-07-14T06:37:02.097042Z",
     "start_time": "2019-07-14T06:37:00.979568Z"
    }
   },
   "outputs": [
    {
     "name": "stdout",
     "output_type": "stream",
     "text": [
      "[5, 3, 4, 7, 6, 8, 9, 1, 2]\n",
      "[5, 3, 4, 9, 1, 2, 7, 6, 8]\n",
      "[7, 6, 8, 5, 3, 4, 9, 1, 2]\n",
      "[7, 6, 8, 9, 1, 2, 5, 3, 4]\n",
      "[9, 1, 2, 5, 3, 4, 7, 6, 8]\n",
      "[9, 1, 2, 7, 6, 8, 5, 3, 4]\n",
      "3.0\n"
     ]
    }
   ],
   "source": [
    "a = [] \n",
    "book = []\n",
    "for i in range(9):\n",
    "    # 設數字9個空盒子\n",
    "    a.append(0)     \n",
    "    # 設數字9個空盒子，表示目前是否有使用此數字\n",
    "    book.append(0)  \n",
    "    \n",
    "# 代表可行解總共有幾種\n",
    "total = 0 \n",
    "\n",
    "def dfs(step, total, a, book): # step代表目前的位置 \n",
    "    #如果站在索引為9的盒子表示0~8共九個位置都已有待運算的數字\n",
    "    if step == 9:   \n",
    "        if a[0]/(a[1]*10.+a[2]) + a[3]/(a[4]*10.+a[5]) + a[6]/(a[7]*10.+a[8]) == 1 : \n",
    "            #如果滿足解，可行解+1\n",
    "            total += 1  \n",
    "            print(a)\n",
    "        # 返回之前的一步(最接近呼叫的地方)\n",
    "        return total    \n",
    "    \n",
    "    # 站在第step位置，按照0~8的順序一一的嘗試\n",
    "    for i in range(9):\n",
    "        # 如果book[i]等於0，代表這個位置的數字可以用\n",
    "        if book[i] == 0 :  \n",
    "            # 將可用數字給到空盒子裡(因為i為索引，所以要加1)\n",
    "            a[step] = i+1  \n",
    "            # 表示這個位置的數字已被取用\n",
    "            book[i] = 1    \n",
    "            # 藉由遞迴來找出更深層的解\n",
    "            total = dfs(step + 1, total, a, book) \n",
    "            # 但記得要把剛才嘗試過的數字重置，才能進行下一次的嘗試\n",
    "            book[i] = 0    \n",
    "    return total\n",
    "\n",
    "\n",
    "total = dfs(0, total, a, book)\n",
    "print(total/2)  # 因為有重複解，所以要除以2"
   ]
  },
  {
   "cell_type": "code",
   "execution_count": null,
   "metadata": {},
   "outputs": [],
   "source": []
  },
  {
   "cell_type": "markdown",
   "metadata": {},
   "source": [
    "# [演算法] 費氏(費氏數列)搜尋 (Fibonacci Search)\n",
    "\n",
    "https://ithelp.ithome.com.tw/articles/10207421\n",
    "\n",
    "**時間複雜度為 Ｏ(2^n)**"
   ]
  },
  {
   "cell_type": "code",
   "execution_count": 34,
   "metadata": {
    "ExecuteTime": {
     "end_time": "2019-07-06T16:48:05.510367Z",
     "start_time": "2019-07-06T16:48:05.363340Z"
    }
   },
   "outputs": [
    {
     "data": {
      "text/plain": [
       "3"
      ]
     },
     "execution_count": 34,
     "metadata": {},
     "output_type": "execute_result"
    },
    {
     "data": {
      "text/plain": [
       "[0, 1, 1, 2]"
      ]
     },
     "execution_count": 34,
     "metadata": {},
     "output_type": "execute_result"
    }
   ],
   "source": [
    "# 費氏數列\n",
    "def fibonacci(n):\n",
    "    if n == 0:\n",
    "        return 0;\n",
    "    elif n == 1:\n",
    "        return 1;\n",
    "    \n",
    "    Ans = fibonacci(n-1) + fibonacci(n-2)\n",
    "    return Ans\n",
    "    \n",
    "fibonacci(4)\n",
    "\n",
    "def fibo(max):\n",
    "    fib = [0] * max\n",
    "    fib[0] = 0\n",
    "    fib[1] = 1\n",
    "    for i in range(2, max):\n",
    "        fib[i] = fib[i - 1] + fib[i - 2]\n",
    "    return fib\n",
    "\n",
    "fibo(4)"
   ]
  },
  {
   "cell_type": "code",
   "execution_count": 35,
   "metadata": {
    "ExecuteTime": {
     "end_time": "2019-07-06T16:52:56.775220Z",
     "start_time": "2019-07-06T16:52:56.606381Z"
    }
   },
   "outputs": [
    {
     "name": "stdout",
     "output_type": "stream",
     "text": [
      "\n",
      "x=5, m=2, fib[x]=5\n",
      "找到數值於索引 6\n"
     ]
    }
   ],
   "source": [
    "import sys\n",
    "\n",
    "# 產生費氏數列\n",
    "def fibo(max):\n",
    "    fib = [sys.maxsize] * max\n",
    "    fib[0] = 0\n",
    "    fib[1] = 1\n",
    "    for i in range(2, max):\n",
    "        fib[i] = fib[i - 1] + fib[i - 2]\n",
    "    return fib\n",
    "\n",
    "def getY(fib, n):\n",
    "    i = 0\n",
    "    while fib[i] <= n:\n",
    "        i += 1\n",
    "    return i - 1\n",
    "\n",
    "def search(data, key):\n",
    "    fib = fibo(len(data))\n",
    "    # data的最大索引值\n",
    "    max = len(data) - 1  \n",
    "    # 在費氏數列裡的值，如果比data的最大索引值還大，\n",
    "    # 回傳費氏數列索引值的前一個\n",
    "    y = getY(fib, max + 1) \n",
    "    m = max - fib[y] \n",
    "    # 找到在data搜尋的起始索引值\n",
    "    x = y - 1  \n",
    "    print(\"\\nx=%d, m=%d, fib[x]=%d\" % (x, m, fib[x]))\n",
    "    i = x\n",
    "    if data[i] < key:\n",
    "        i += m\n",
    "    while fib[x] > 0:\n",
    "        if data[i] < key:\n",
    "            x -= 1\n",
    "            i += fib[x]\n",
    "        elif data[i] > key:\n",
    "            x -= 1\n",
    "            i -= fib[x]\n",
    "        else:\n",
    "            return i\n",
    "    return -1\n",
    "\n",
    "number = [10, 22, 30, 44, 56, 58, 60, 70, 100, 110, 130]\n",
    "find = search(number, 60)\n",
    "print(\"找到數值於索引 \" + str(find) if find >= 0 else \"找不到數值\")\n"
   ]
  },
  {
   "cell_type": "markdown",
   "metadata": {},
   "source": [
    "# [演算法] 廣度優先搜尋 (Breadth-first Search)\n",
    "\n",
    "https://ithelp.ithome.com.tw/articles/10207825"
   ]
  },
  {
   "cell_type": "code",
   "execution_count": 9,
   "metadata": {
    "ExecuteTime": {
     "end_time": "2019-07-23T09:50:46.844124Z",
     "start_time": "2019-07-23T09:50:46.534286Z"
    }
   },
   "outputs": [
    {
     "name": "stdout",
     "output_type": "stream",
     "text": [
      "7\n",
      "[0, 0, 1, 1, 2, 1, 2, 3, 1, 4, 2, 0, 4, 3, 4, 3, 0, 0, 0, 0]\n",
      "[0, 1, 0, 1, 0, 2, 1, 0, 3, 0, 3, 3, 1, 3, 2, 2, 0, 0, 0, 0]\n"
     ]
    }
   ],
   "source": [
    "class note():\n",
    "    def __init__(self, n, m):\n",
    "        self.x = [0] * n * m  # 縱座標\n",
    "        self.y = [0] * n * m  # 橫座標\n",
    "        self.f = [0] * n * m  # 父親在佇列中的編號\n",
    "        self.s = [0] * n * m  # 步數\n",
    "\n",
    "# 此為迷宮，0 = 空格，1 = 障礙\n",
    "maze = [[0, 0, 1, 0],\n",
    "        [0, 0, 0, 0],\n",
    "        [0, 0, 1, 0],\n",
    "        [0, 1, 0, 0],\n",
    "        [0, 0, 0, 1]]\n",
    "# 設定迷宮大小\n",
    "n = len(maze)    # n row\n",
    "m = len(maze[0]) # m col\n",
    "# 設一個陣列，用來標記走過的座標\n",
    "book = []\n",
    "for i in range(n):\n",
    "    book.append([0] * m)\n",
    "\n",
    "# 設定起訖點\n",
    "startx = 0\n",
    "starty = 0\n",
    "endx = 3\n",
    "endy = 2\n",
    "\n",
    "# 定義一個表示走的方向的陣列\n",
    "next = [[0, 1],   # 向右走\n",
    "        [1, 0],   # 向下走\n",
    "        [0, -1],  # 向左走\n",
    "        [-1, 0]]  # 向上走\n",
    "\n",
    "# 佇列初始化\n",
    "head = 0\n",
    "tail = 0\n",
    "\n",
    "# 往佇列插入迷宮入口座標\n",
    "que = note(n, m)\n",
    "que.x[tail] = startx\n",
    "que.y[tail] = starty\n",
    "que.f[tail] = 0\n",
    "que.s[tail] = 0\n",
    "tail += 1\n",
    "book[startx][startx] = 1\n",
    "\n",
    "flag = 0 # 用來標記是否到達目標，0 = 未到，1 = 到達\n",
    "\n",
    "# 當佇列不為空的迴圈\n",
    "while(head < tail):\n",
    "    # 列舉4個方向\n",
    "    for i in range(4):\n",
    "        # 計算下一個座標\n",
    "        tx = que.x[head] + next[i][0]\n",
    "        ty = que.y[head] + next[i][1]\n",
    "        # 判斷是否越界\n",
    "        if tx < 0 or tx > n-1 or ty < 0 or ty > m-1 :\n",
    "            continue\n",
    "        # 判斷是否是障礙物或者已經走過\n",
    "        if maze[tx][ty] == 0 and book[tx][ty] == 0 :\n",
    "            book[tx][ty] = 1  # 標記為已走過\n",
    "            # 插入新的點到佇列中\n",
    "            que.x[tail] = tx\n",
    "            que.y[tail] = ty\n",
    "            que.f[tail] = head\n",
    "            que.s[tail] = que.s[head] + 1   # 步數是父親步數+1\n",
    "            tail += 1\n",
    "        # 若到訖點，停止擴展退出迴圈\n",
    "        if tx == endx and ty == endy :\n",
    "            flag = 1\n",
    "            break\n",
    "    if flag == 1 :\n",
    "        break\n",
    "    head += 1 # 當一個擴展結束後，要head++才能對後面的點再進行擴展\n",
    "\n",
    "# 列印佇列中末尾最後一個點(訖點)的步數，但tail是指向佇列尾的下一個位置，所以要-1\n",
    "print(que.s[tail-1])\n",
    "print(que.x)\n",
    "print(que.y)"
   ]
  },
  {
   "cell_type": "markdown",
   "metadata": {},
   "source": [
    "# [演算法] K-means 分群 (K-means Clustering)"
   ]
  },
  {
   "cell_type": "markdown",
   "metadata": {},
   "source": [
    "**K-means 分群 (K-means Clustering)**，其實就有點像是以前學數學時，找重心的概念。\n",
    "概念是這樣的：\n",
    "\n",
    "1. 我們先決定要分k組，並隨機選k個點做群集中心。\n",
    "2. 將每一個點分類到離自己最近的群集中心(可用直線距離)。\n",
    "3. 重新計算各組的群集中心(常用平均值)。\n",
    "\n",
    "反覆 2、3 動作，直到群集不變，群集中心不動為止。\n",
    "\n",
    "而`k-means分群`的時間複雜度為 `O(NKT)` ， N 是數據數量， K 是群集數量， T 是重複次數。我們無法預先得知群集數量、重複次數。數據分布情況、群集中心的初始位置，都會影響重複次數，運氣成份很大。"
   ]
  },
  {
   "cell_type": "code",
   "execution_count": 7,
   "metadata": {
    "ExecuteTime": {
     "end_time": "2019-07-17T09:56:42.398382Z",
     "start_time": "2019-07-17T09:56:41.847434Z"
    }
   },
   "outputs": [
    {
     "name": "stdout",
     "output_type": "stream",
     "text": [
      "[[95, 36], [29, 219], [182, 102], [18, 322]]\n",
      "[[247, 262], [316, 329], [45, 415], [361, 174], [16, 399], [226, 260], [460, 196], [164, 278], [363, 292], [467, 257], [112, 333], [460, 363]]\n",
      "[[226, 98], [270, 89], [282, 19], [285, 61]]\n"
     ]
    },
    {
     "data": {
      "image/png": "[encoded data removed]",
      "text/plain": [
       "<Figure size 432x288 with 1 Axes>"
      ]
     },
     "metadata": {},
     "output_type": "display_data"
    },
    {
     "name": "stdout",
     "output_type": "stream",
     "text": [
      "[[95, 36], [29, 219], [45, 415], [16, 399], [18, 322]]\n",
      "[[247, 262], [316, 329], [226, 260], [460, 196], [164, 278], [363, 292], [467, 257], [112, 333], [460, 363]]\n",
      "[[226, 98], [361, 174], [182, 102], [270, 89], [282, 19], [285, 61]]\n"
     ]
    },
    {
     "data": {
      "image/png": "[encoded data removed]",
      "text/plain": [
       "<Figure size 432x288 with 1 Axes>"
      ]
     },
     "metadata": {},
     "output_type": "display_data"
    },
    {
     "name": "stdout",
     "output_type": "stream",
     "text": [
      "[[29, 219], [45, 415], [16, 399], [164, 278], [112, 333], [18, 322]]\n",
      "[[247, 262], [316, 329], [361, 174], [226, 260], [460, 196], [363, 292], [467, 257], [460, 363]]\n",
      "[[226, 98], [95, 36], [182, 102], [270, 89], [282, 19], [285, 61]]\n"
     ]
    },
    {
     "data": {
      "image/png": "[encoded data removed]",
      "text/plain": [
       "<Figure size 432x288 with 1 Axes>"
      ]
     },
     "metadata": {},
     "output_type": "display_data"
    },
    {
     "name": "stdout",
     "output_type": "stream",
     "text": [
      "[[29, 219], [45, 415], [16, 399], [164, 278], [112, 333], [18, 322]]\n",
      "[[247, 262], [316, 329], [361, 174], [226, 260], [460, 196], [363, 292], [467, 257], [460, 363]]\n",
      "[[226, 98], [95, 36], [182, 102], [270, 89], [282, 19], [285, 61]]\n"
     ]
    },
    {
     "data": {
      "image/png": "[encoded data removed]",
      "text/plain": [
       "<Figure size 432x288 with 1 Axes>"
      ]
     },
     "metadata": {},
     "output_type": "display_data"
    }
   ],
   "source": [
    "import numpy as np\n",
    "import matplotlib.pyplot as plt\n",
    "\n",
    "# 群集中心和元素的數量\n",
    "seed_num = 3\n",
    "dot_num = 20\n",
    "\n",
    "# 初始元素\n",
    "x = np.random.randint(0, 500, dot_num) # 0 ~ 500, 20個\n",
    "y = np.random.randint(0, 500, dot_num)\n",
    "# 初始群集中心\n",
    "kx = np.random.randint(0, 500, seed_num)\n",
    "ky = np.random.randint(0, 500, seed_num)\n",
    "\n",
    "\n",
    "# 兩點之間的距離\n",
    "def dis(x, y, kx, ky):\n",
    "    return int(((kx-x)**2 + (ky-y)**2)**0.5)\n",
    "\n",
    "# 對每筆元素進行分群\n",
    "def cluster(x, k, kx, ky):\n",
    "    team = []\n",
    "    for i in range(3):\n",
    "        team.append([])\n",
    "    mid_dis = 99999999\n",
    "    for i in range(dot_num):\n",
    "        # 每個點對中心點算距離，\n",
    "        # 哪個中心點離此點最近，此點加入team[中心]\n",
    "        for j in range(seed_num):\n",
    "            # 算距離\n",
    "            distant = dis(x[i], y[i], kx[j], ky[j])\n",
    "            if distant < mid_dis:\n",
    "                mid_dis = distant\n",
    "                flag = j\n",
    "        team[flag].append([x[i], y[i]])\n",
    "        mid_dis = 99999999\n",
    "    return team\n",
    "\n",
    "# 對分群完的元素找出新的群集中心\n",
    "def re_seed(team, kx, ky):\n",
    "    sumx = 0\n",
    "    sumy = 0\n",
    "    new_seed = []\n",
    "    for index, nodes in enumerate(team):\n",
    "        # 若無點離此中心近，則新中心一樣\n",
    "        if nodes == []:\n",
    "            new_seed.append([kx[index], ky[index]])\n",
    "        else:\n",
    "            for node in nodes:\n",
    "                # 所有點 x 加總\n",
    "                sumx += node[0]\n",
    "                # 所有點 y 加總\n",
    "                sumy += node[1]\n",
    "\n",
    "            print(nodes)\n",
    "\n",
    "            # 新中心點為 平均 x,y\n",
    "            new_seed.append(\n",
    "                [\n",
    "                    int(sumx/len(nodes)), \n",
    "                    int(sumy/len(nodes))\n",
    "                ]\n",
    "            )\n",
    "            sumx = 0\n",
    "            sumy = 0\n",
    "            \n",
    "    # 分裝各個新點的 x y\n",
    "    nkx = []\n",
    "    nky = []\n",
    "    for i in new_seed:\n",
    "        nkx.append(i[0])\n",
    "        nky.append(i[1])\n",
    "    return nkx, nky\n",
    "\n",
    "# k-means 分群\n",
    "def kmeans(x, y, kx, ky, fig):\n",
    "    team = cluster(x, y, kx, ky)\n",
    "    nkx, nky = re_seed(team, kx, ky)\n",
    "    \n",
    "    # plot: nodes connect to seeds\n",
    "    cx = []\n",
    "    cy = []\n",
    "    line = plt.gca()\n",
    "    for index, nodes in enumerate(team):\n",
    "        for node in nodes:\n",
    "            cx.append([node[0], nkx[index]])\n",
    "            cy.append([node[1], nky[index]])\n",
    "        for i in range(len(cx)):\n",
    "            line.plot(cx[i], cy[i], color='r', alpha=0.6)\n",
    "        cx = []\n",
    "        cy = []\n",
    "    \n",
    "    # 繪圖\n",
    "    feature = plt.scatter(x, y)\n",
    "    k_feature = plt.scatter(kx, ky)\n",
    "    nk_feaure = plt.scatter(np.array(nkx), np.array(nky), s=50)\n",
    "    # plt.savefig('kmeans_%s.png' % fig)\n",
    "    plt.show()\n",
    "\n",
    "    # 判斷群集中心是否不再更動\n",
    "    if nkx == list(kx) and nky == (ky):\n",
    "        return\n",
    "    else:\n",
    "        fig += 1\n",
    "        kmeans(x, y, nkx, nky, fig)\n",
    "\n",
    "\n",
    "kmeans(x, y, kx, ky, fig=0)"
   ]
  },
  {
   "cell_type": "markdown",
   "metadata": {},
   "source": [
    "# [演算法] 最短路徑 (Floyd-Warshall 演算法)\n",
    "\n",
    "https://ithelp.ithome.com.tw/articles/10209748"
   ]
  },
  {
   "cell_type": "markdown",
   "metadata": {},
   "source": [
    "**任意兩個點之間的最短路徑**，也稱作「多源最短路徑」。\n",
    "\n",
    "圖的資訊矩陣表示(矩陣內表示距離，∞表示兩點間無法通行)\n",
    "\n",
    "        1\t2\t3\t4\n",
    "    1\t0\t2\t6\t4\n",
    "    2\t∞\t0\t3\t∞\n",
    "    3\t7\t∞\t0\t1\n",
    "    4\t5\t∞\t12\t0\n",
    "    \n",
    "如果我們要求任意兩個點的最短距離，但有些點不能直達，勢必要有經過中間點才行。\n",
    "我們來看看以下的分析：\n",
    "\n",
    "    4 → 3　為　12\n",
    "    4 → 1 → 3　為　11\n",
    "    4 → 1 → 2 → 3　為　10\n",
    "    \n",
    "將圖更新，不看是否有中轉，只求最短距離\n",
    "\n",
    "    4 → 1 → 3　為　11\n",
    "    4(row) 3(col) : 12 -> 11\n",
    "\n",
    "        1\t2\t3\t4\n",
    "    1\t0\t2\t6\t4\n",
    "    2\t∞\t0\t3\t∞\n",
    "    3\t7\t∞\t0\t1\n",
    "    4\t5\t∞\t11\t0"
   ]
  },
  {
   "cell_type": "code",
   "execution_count": 8,
   "metadata": {
    "ExecuteTime": {
     "end_time": "2019-07-23T09:50:41.671661Z",
     "start_time": "2019-07-23T09:49:55.837203Z"
    }
   },
   "outputs": [
    {
     "name": "stdout",
     "output_type": "stream",
     "text": [
      "12zdd\n"
     ]
    },
    {
     "ename": "ValueError",
     "evalue": "invalid literal for int() with base 10: '12zdd'",
     "output_type": "error",
     "traceback": [
      "\u001b[1;31m---------------------------------------------------------------------------\u001b[0m",
      "\u001b[1;31mValueError\u001b[0m                                Traceback (most recent call last)",
      "\u001b[1;32m<ipython-input-8-ff9294f106bb>\u001b[0m in \u001b[0;36m<module>\u001b[1;34m()\u001b[0m\n\u001b[0;32m      1\u001b[0m \u001b[1;32mimport\u001b[0m \u001b[0mnumpy\u001b[0m \u001b[1;32mas\u001b[0m \u001b[0mnp\u001b[0m\u001b[1;33m\u001b[0m\u001b[0m\n\u001b[0;32m      2\u001b[0m \u001b[1;33m\u001b[0m\u001b[0m\n\u001b[1;32m----> 3\u001b[1;33m \u001b[0mn\u001b[0m\u001b[1;33m,\u001b[0m \u001b[0mm\u001b[0m \u001b[1;33m=\u001b[0m \u001b[0mmap\u001b[0m\u001b[1;33m(\u001b[0m\u001b[0mint\u001b[0m\u001b[1;33m,\u001b[0m \u001b[0minput\u001b[0m\u001b[1;33m(\u001b[0m\u001b[1;33m)\u001b[0m\u001b[1;33m.\u001b[0m\u001b[0msplit\u001b[0m\u001b[1;33m(\u001b[0m\u001b[1;34m' '\u001b[0m\u001b[1;33m)\u001b[0m\u001b[1;33m)\u001b[0m\u001b[1;33m\u001b[0m\u001b[0m\n\u001b[0m\u001b[0;32m      4\u001b[0m \u001b[1;33m\u001b[0m\u001b[0m\n\u001b[0;32m      5\u001b[0m \u001b[0mdis\u001b[0m \u001b[1;33m=\u001b[0m \u001b[0mnp\u001b[0m\u001b[1;33m.\u001b[0m\u001b[0mzeros\u001b[0m\u001b[1;33m(\u001b[0m\u001b[1;36m10\u001b[0m\u001b[1;33m,\u001b[0m \u001b[0mdtype\u001b[0m\u001b[1;33m=\u001b[0m\u001b[0mnp\u001b[0m\u001b[1;33m.\u001b[0m\u001b[0mint\u001b[0m\u001b[1;33m)\u001b[0m\u001b[1;33m\u001b[0m\u001b[0m\n",
      "\u001b[1;31mValueError\u001b[0m: invalid literal for int() with base 10: '12zdd'"
     ]
    }
   ],
   "source": [
    "import numpy as np\n",
    "\n",
    "n, m = map(int, input().split(' '))\n",
    "\n",
    "dis = np.zeros(10, dtype=np.int)\n",
    "bak = np.zeros(10, dtype=np.int)\n",
    "\n",
    "u = np.zeros(10, dtype=np.int)\n",
    "v = np.zeros(10, dtype=np.int)\n",
    "w = np.zeros(10, dtype=np.int)\n",
    "inf = 99999999\n",
    "\n",
    "# 讀入邊\n",
    "for i in range(1, m+1):\n",
    "    u[i], v[i], w[i] = map(int, input().split(' '))\n",
    "\n",
    "# 初始化 dis 陣列，此處用 1 號頂點到其餘各點的初始路程\n",
    "for i in range(1, n+1):\n",
    "    dis[i] = inf\n",
    "dis[1] = 0\n",
    "\n",
    "# Bellman-Ford Algorithm\n",
    "for k in range(1, n):\n",
    "    # 將 dis 陣列備份到 bak 陣列中\n",
    "    for i in range(1, n+1):\n",
    "        bak[i] = dis[i]\n",
    "    # 進行一輪鬆弛\n",
    "    for i in range(1, m+1):\n",
    "        if dis[v[i]] > dis[u[i]] + w[i] :\n",
    "            dis[v[i]] = dis[u[i]] + w[i]\n",
    "    # 鬆弛完畢檢測 dis 陣列有無更新\n",
    "    check = 0\n",
    "    for i in range(1, n+1):\n",
    "        if bak[i] != dis[i]:\n",
    "            check = 1\n",
    "            break\n",
    "    # 如果 dis 陣列沒有更新，提前退出演算法迴圈\n",
    "    if check == 0:\n",
    "        break\n",
    "\n",
    "# 檢測負權迴路\n",
    "flag = 0\n",
    "for i in range(1, m+1):\n",
    "    if dis[v[i]] > dis[u[i]] + w[i]:\n",
    "        flag = 1\n",
    "if flag == 1 :\n",
    "    print(\"此圖含有負權迴路\")\n",
    "else:\n",
    "    # 輸出最終結果\n",
    "    for i in range(1, n+1):\n",
    "        print(dis[i])\n",
    "\n",
    "'''\n",
    "5 5\n",
    "2 3 2\n",
    "1 2 -3\n",
    "1 5 5\n",
    "4 5 2\n",
    "3 4 3\n",
    "'''"
   ]
  },
  {
   "cell_type": "markdown",
   "metadata": {},
   "source": [
    "# [演算法] 最短路徑 (Bellman-Ford 演算法 - 佇列優化)\n",
    "\n",
    "https://ithelp.ithome.com.tw/articles/10209845"
   ]
  },
  {
   "cell_type": "code",
   "execution_count": null,
   "metadata": {},
   "outputs": [],
   "source": []
  },
  {
   "cell_type": "code",
   "execution_count": null,
   "metadata": {},
   "outputs": [],
   "source": [
    "import numpy as np\n",
    "\n",
    "# 讀入邊\n",
    "n, m = map(int, input().split(' '))\n",
    "\n",
    "# 陣列大小要比 m 的最大值 +1 \n",
    "u = np.zeros(m+1, dtype=np.int)\n",
    "v = np.zeros(m+1, dtype=np.int)\n",
    "w = np.zeros(m+1, dtype=np.int)\n",
    "# first 要比 n 的最大值 +1 ; next 要比 m 的最大值 +1\n",
    "first = np.zeros(n+1, dtype=np.int)\n",
    "next = np.zeros(m+1, dtype=np.int)\n",
    "\n",
    "dis = [0] * 7 \n",
    "book = [0] * 7 # 用來記錄哪些頂點已經在佇列中\n",
    "que = np.zeros(101, dtype=np.int) # 定義一個佇列並初始化\n",
    "head = 1\n",
    "tail = 1\n",
    "inf = 99999999\n",
    "\n",
    "for i in range(1, n+1):\n",
    "    dis[i] = inf  # 初始化 dis 陣列，此處用 1 號頂點到其餘各點的初始路程\n",
    "    book[i] = 0   # 初始化 book 陣列，初始化為 0 ，剛開始都不在佇列中\n",
    "    first[i] = -1  # 初始化 first 陣列下標 1~n 的值為 -1，表示 1~n 頂點暫時都沒有邊\n",
    "dis[1] = 0  # 從 1 號頂點開始擴展\n",
    "\n",
    "# 讀入邊\n",
    "for i in range(1, m+1):\n",
    "    u[i], v[i], w[i] = map(int, input().split(' '))\n",
    "    # 鄰接串列\n",
    "    next[i] = first[u[i]]\n",
    "    first[u[i]] = i\n",
    "\n",
    "# 1 號頂點入住列\n",
    "que[tail] = 1\n",
    "tail += 1\n",
    "book[1] = 1  # 標記 1 號頂點入住列\n",
    "\n",
    "# 佇列不為空的時候迴圈\n",
    "while head < tail :\n",
    "    k = first[que[head]] # 目前需要處理的佇列首頂點\n",
    "    while k != -1 : # 掃描目前頂點的所有邊\n",
    "        if dis[v[k]] > dis[u[k]] + w[k]: # 更新頂點 1 到頂點 v[k] 的路程\n",
    "            dis[v[k]] = dis[u[k]] + w[k]\n",
    "            # 判斷 v[k] 是否在佇列中\n",
    "            if book[v[k]] == 0 : # 0 表示不在佇列中\n",
    "                # 佇列操作\n",
    "                que[tail] = v[k] \n",
    "                tail += 1\n",
    "                book[v[k]] = 1 # 標記頂點 v[k] 已經入佇列\n",
    "        \n",
    "        k = next[k]\n",
    "    # 出佇列\n",
    "    book[que[head]] = 0\n",
    "    head += 1\n",
    "\n",
    "# 輸出 1 號頂點到其餘各點的最短路徑\n",
    "for i in range(1, n+1):\n",
    "    print(dis[i])\n",
    "\n",
    "'''\n",
    "驗證資料：\n",
    "5 7\n",
    "1 2 2\n",
    "1 5 10\n",
    "2 3 3\n",
    "2 5 7\n",
    "3 4 4\n",
    "4 5 5\n",
    "5 3 6\n",
    "'''"
   ]
  },
  {
   "cell_type": "code",
   "execution_count": null,
   "metadata": {},
   "outputs": [],
   "source": []
  },
  {
   "cell_type": "code",
   "execution_count": null,
   "metadata": {},
   "outputs": [],
   "source": []
  },
  {
   "cell_type": "code",
   "execution_count": null,
   "metadata": {},
   "outputs": [],
   "source": []
  },
  {
   "cell_type": "code",
   "execution_count": null,
   "metadata": {},
   "outputs": [],
   "source": []
  },
  {
   "cell_type": "code",
   "execution_count": null,
   "metadata": {},
   "outputs": [],
   "source": []
  },
  {
   "cell_type": "markdown",
   "metadata": {},
   "source": [
    "# [資料結構] "
   ]
  },
  {
   "cell_type": "markdown",
   "metadata": {},
   "source": [
    "## [資料結構] 陣列 (Array) & 串列 (Linked List)\n",
    "\n",
    "https://ithelp.ithome.com.tw/articles/10203422"
   ]
  },
  {
   "cell_type": "code",
   "execution_count": 15,
   "metadata": {
    "ExecuteTime": {
     "end_time": "2019-07-02T13:59:26.499099Z",
     "start_time": "2019-07-02T13:59:26.464926Z"
    }
   },
   "outputs": [
    {
     "name": "stdout",
     "output_type": "stream",
     "text": [
      "[11, 22, 33, 41, 44, 55, 66, 77, 88, 99, 100]\n"
     ]
    }
   ],
   "source": [
    "data = [11, 22, 33, 44, 55, 66, 77, 88, 99, 100]\n",
    "right = []\n",
    "insert_num = 41\n",
    "length = len(data)\n",
    "\n",
    "# Initialization\n",
    "for i in range(length):\n",
    "    right.append(0)\n",
    "\n",
    "# 設定right來存放data中每一個節點右邊節點的位置\n",
    "for i in range(length):\n",
    "    if i != length-1:\n",
    "        right[i] = i + 1\n",
    "    else:\n",
    "        right[i] = 0 # 0代表右邊沒節點\n",
    "\n",
    "# data插入節點\n",
    "data.append(insert_num)\n",
    "# right增加位置給插入的節點存放右邊節點的位置資料\n",
    "right.append(0) \n",
    "length = len(data)\n",
    "\n",
    "# 從鏈結串列的頭部開始讀取\n",
    "t = 0\n",
    "for i in range(length):\n",
    "    #如果目前節點的下一個節點值大於待插入的數字，將數插入到中間\n",
    "    if data[right[t]] > data[length-1]: \n",
    "        #將目前節點的右邊位置給予新插入的節點存放在right\n",
    "        right[length-1] = right[t]\n",
    "        #將新插入節點的位置給到目前節點的right存放\n",
    "        right[t] = length-1\n",
    "        #跳出回圈\n",
    "        break\n",
    "\n",
    "    t = right[t]\n",
    "\n",
    "\n",
    "#印出鏈結串列的所有數字\n",
    "t = 0\n",
    "tmp = []\n",
    "for i in range(length):\n",
    "    tmp.append(data[t])\n",
    "    t = right[t]\n",
    "\n",
    "print (tmp)"
   ]
  },
  {
   "cell_type": "code",
   "execution_count": 21,
   "metadata": {
    "ExecuteTime": {
     "end_time": "2019-07-02T14:21:25.273405Z",
     "start_time": "2019-07-02T14:21:25.265442Z"
    }
   },
   "outputs": [
    {
     "data": {
      "text/plain": [
       "[11, 22, 33, 44, 55, 66, 77, 88, 99, 100, 41]"
      ]
     },
     "execution_count": 21,
     "metadata": {},
     "output_type": "execute_result"
    },
    {
     "data": {
      "text/plain": [
       "[1, 2, 10, 4, 5, 6, 7, 8, 9, 0, 3]"
      ]
     },
     "execution_count": 21,
     "metadata": {},
     "output_type": "execute_result"
    },
    {
     "data": {
      "text/plain": [
       "[11, 22, 33, 41, 44, 55, 66, 77, 88, 99, 100]"
      ]
     },
     "execution_count": 21,
     "metadata": {},
     "output_type": "execute_result"
    }
   ],
   "source": [
    "data\n",
    "right\n",
    "# 從0開始，依照 right 輸出\n",
    "# data[0]=11\n",
    "# data[1]=22\n",
    "# data[2]=33\n",
    "# data[10]=41\n",
    "tmp\n"
   ]
  },
  {
   "cell_type": "markdown",
   "metadata": {},
   "source": [
    "實做串列的類(class),參考\n",
    "\n",
    "(./GitHub/py/資料結構/資料結構.ipynb)"
   ]
  },
  {
   "cell_type": "markdown",
   "metadata": {},
   "source": [
    "## [資料結構] 堆疊 (Stack)\n",
    "\n",
    "https://ithelp.ithome.com.tw/articles/10204225"
   ]
  },
  {
   "cell_type": "markdown",
   "metadata": {},
   "source": [
    "堆疊 **(Stack)** 的特性就是 先進後出 **(First In Last Out, FILO)**\n",
    "\n",
    "河內塔 (Tower of Hanoi) 其實也是個古老的題目，最常被用來解釋什麼叫做堆疊。"
   ]
  },
  {
   "cell_type": "code",
   "execution_count": 22,
   "metadata": {
    "ExecuteTime": {
     "end_time": "2019-07-02T14:27:08.470467Z",
     "start_time": "2019-07-02T14:26:56.639602Z"
    }
   },
   "outputs": [
    {
     "name": "stdout",
     "output_type": "stream",
     "text": [
      "Please enter integer:3\n",
      "move A to C\n",
      "move A to B\n",
      "move C to B\n",
      "move A to C\n",
      "move B to A\n",
      "move B to C\n",
      "move A to C\n"
     ]
    }
   ],
   "source": [
    "def hanoi(n, A, B, C):\n",
    "    if n == 1:\n",
    "        return [(A, C)]\n",
    "    else:\n",
    "        return hanoi(n-1, A, C, B) + hanoi(1, A, B, C) + hanoi(n-1, B, A, C)\n",
    "\n",
    "\n",
    "n = input(\"Please enter integer:\")\n",
    "for move in hanoi(int(n), 'A', 'B', 'C'):\n",
    "    print(\"move %c to %c\" % move)"
   ]
  },
  {
   "cell_type": "markdown",
   "metadata": {
    "ExecuteTime": {
     "end_time": "2019-07-02T14:28:43.525681Z",
     "start_time": "2019-07-02T14:28:43.522680Z"
    }
   },
   "source": [
    "## [資料結構] 樹 (Tree)\n",
    "\n",
    "https://ithelp.ithome.com.tw/articles/10205193"
   ]
  },
  {
   "cell_type": "markdown",
   "metadata": {},
   "source": [
    "* 節點\n",
    "* 根：又稱根節點或祖先，一棵樹只有一個根節點，沒有父節點的就稱為根節點。\n",
    "* 葉節點：如果節點不能往下延伸，便稱為葉節點。\n",
    "* 父節點：如果節點能往下沿伸其他節點，那此節點就稱為父節點。\n",
    "* 子節點：承接父節點的節點，就稱子節點。\n",
    "* 深度：每一個節點都有深度\n",
    "\n",
    "**完全二元樹**\n",
    "\n",
    "若二元樹的高度(深度)為 h，除第 h 層外，其他各層(1 ~ h-1)的節點數都達到最大個樹，而第 h 層從右向左連續缺幾個節點，則這個二元樹就稱 完全二元樹\n",
    "\n",
    "* 父節點編號為 k \n",
    "* 左兒子的編號為 2k\n",
    "* 右兒子的編號為 2k+1\n",
    "* 如果兒子編號為 x ，父節點的編號就為 x/2 取整數的商。\n",
    "* 如果有 N 個節點，則完全二元樹的高度(深度)為 $ \\log_{2}N  $\n",
    "\n",
    "目前理論上有四種輸出順序：\n",
    "\n",
    "* 前序遍歷 (Preorder Traversal)\n",
    "* 中序遍歷 (Inorder Traversal)\n",
    "* 後序遍歷 (Postorder Traversal)\n",
    "* 層序遍歷 (Level-order Traversal)\n",
    "\n",
    "但實際上也可歸類為兩種分類方式，`深度優先搜尋 (Depth-first Search)`、`廣度優先搜尋 (Breath-first Search)`，只不過節點輸出的順序改變而已。"
   ]
  },
  {
   "cell_type": "markdown",
   "metadata": {},
   "source": [
    "## [資料結構] 圖 (Graph)"
   ]
  },
  {
   "cell_type": "markdown",
   "metadata": {},
   "source": [
    "一張圖由數條`邊(Edge)`和數個`點(Vertex)`所構成，點和點之間可用邊相連，表示這兩個點之間有所關聯。當然，兩個點之間可以有很多個邊，代表很多關係，又或者是一個點可以與很多個點相連接。\n",
    "\n",
    "1. 同構 (Isomorphism / Isomorphic)\n",
    "\n",
    "    指的是兩張圖的連接方式一模一樣的，而圖上的點可以任意移動，邊不論直的彎的皆可\n",
    "\n",
    "2. 有向圖 & 無向圖\n",
    "\n",
    "    有向圖，邊有方向性，表示兩點之間為單向關係\n",
    "    無向圖，邊無方向性，表示兩點之間為雙向關係\n",
    "    \n",
    "3. 權重\n",
    "\n",
    "    邊加上權重，代表兩點之間的關係  \n",
    "    點加上權狀，代表狀態\n",
    "    \n",
    "4. 名稱 or 代號\n",
    "\n",
    "    點可以有名稱或者代號\n",
    "    \n",
    "5. 圖的資料結構\n",
    "\n",
    "    圖是由點和邊所組成，為了方便人了解，所以視覺化。但實際上在電腦中的儲存方式卻有很多不同的方法。可以有陣列或矩陣的方式儲存。 \n",
    " \n",
    "Eagle List\n",
    "\n",
    "    將圖用陣列的方式，記錄點與點之間的邊 \n",
    "\n",
    "    0\t0\t1\t3\n",
    "    1\t3\t3\t4\n",
    "    \n",
    "    0,1,2,3,4 為點\n",
    "    \n",
    "    0 0  -> 0與1,3有關系\n",
    "    1 3\n",
    "    \n",
    "Adjacency Matrix\n",
    "\n",
    "    把一張圖上的點依序標示編號，然後建立一個矩陣，來記錄連接資訊。方陣中的每一個元素都代表著某兩點的連接資訊 \n",
    " \n",
    "        0\t1\t2\t3\t\n",
    "    0   0   0   0   1  -> 從點0到點3，無其他邊 \n",
    "    1\t0\t0\t0\t0\n",
    "    2\t0\t0\t0\t0\n",
    "    \n",
    "Adjacency Lists\n",
    "\n",
    "    在每一個點後方，串連所有相鄰有連接的點\n",
    "    \n",
    "    0　[1, 3]    ->  0與1,3有關系\n",
    "    1　[0, 3]  \n",
    "    2\n",
    "    3　[0, 1, 4]\n",
    "    4　[3]\n",
    "\n",
    "### 特殊圖\n",
    "\n",
    "Intersection Graph\n",
    "\n",
    "    若兩個物件有交集關係(非空集合)，就可以表示成圖\n",
    "    \n",
    "Dependency Graph\n",
    "\n",
    "    是將各個物件所仰賴或依賴的對象關係表示成圖    \n",
    " \n",
    " \n",
    "子圖 Subgraph / 父圖 Supergraph\n",
    "\n",
    "    一張圖，刪除一些點、一些邊，得到的圖稱作「子圖」。原圖（沒有刪除）、空圖（完全刪除），也算是「子圖」\n",
    "    \n",
    "    一張圖，增加一些點、一些邊，得到的圖稱作「父圖」。原圖（沒有增加）也算是「父圖」\n",
    "    \n",
    "    (子圖和父圖兩者是相對關係)\n",
    "    \n",
    "補圖 Complement Graph （ Complement ）\n",
    "    \n",
    "    兩點之間，有邊變沒邊，沒邊變有邊。\n",
    "    \n",
    "反向圖 Reverse Graph （ Transpose ）\n",
    "    \n",
    "    有向圖的邊顛倒過來，方向相反\n",
    "    \n",
    "Line Graph\n",
    "\n",
    "    一張圖當中，觀察邊與邊關係，相鄰的邊表示成一張圖，稱作「線圖」。\n",
    "  \n",
    "Dual Graph\n",
    "\n",
    "    一張平面圖當中，觀察面與面關係，共邊的面表示成一張圖，稱作「對偶圖」。    \n",
    "    \n",
    "    "
   ]
  },
  {
   "cell_type": "code",
   "execution_count": null,
   "metadata": {},
   "outputs": [],
   "source": []
  },
  {
   "cell_type": "code",
   "execution_count": null,
   "metadata": {},
   "outputs": [],
   "source": []
  },
  {
   "cell_type": "code",
   "execution_count": null,
   "metadata": {},
   "outputs": [],
   "source": []
  },
  {
   "cell_type": "code",
   "execution_count": null,
   "metadata": {},
   "outputs": [],
   "source": []
  },
  {
   "cell_type": "markdown",
   "metadata": {},
   "source": [
    "## [資料結構] 圖的深度優先走訪 (Depth-first Search )\n",
    "\n",
    "https://ithelp.ithome.com.tw/articles/10208441"
   ]
  },
  {
   "cell_type": "code",
   "execution_count": 3,
   "metadata": {
    "ExecuteTime": {
     "end_time": "2019-07-16T15:26:28.372966Z",
     "start_time": "2019-07-16T15:24:00.363729Z"
    }
   },
   "outputs": [
    {
     "data": {
      "text/plain": [
       "'\\n輸入驗證資料：\\n5 8\\n1 2 2\\n1 5 10\\n2 3 3\\n2 5 7\\n3 1 4\\n3 4 4\\n4 5 5\\n5 3 3\\n'"
      ]
     },
     "execution_count": 3,
     "metadata": {},
     "output_type": "execute_result"
    },
    {
     "name": "stdout",
     "output_type": "stream",
     "text": [
      "5 8\n",
      "1 2 3\n",
      "n\n"
     ]
    },
    {
     "ename": "ValueError",
     "evalue": "invalid literal for int() with base 10: 'n'",
     "output_type": "error",
     "traceback": [
      "\u001b[1;31m---------------------------------------------------------------------------\u001b[0m",
      "\u001b[1;31mValueError\u001b[0m                                Traceback (most recent call last)",
      "\u001b[1;32m<ipython-input-3-7ab2d2869012>\u001b[0m in \u001b[0;36m<module>\u001b[1;34m()\u001b[0m\n\u001b[0;32m     45\u001b[0m \u001b[1;31m#讀入城市之間的道路\u001b[0m\u001b[1;33m\u001b[0m\u001b[1;33m\u001b[0m\u001b[0m\n\u001b[0;32m     46\u001b[0m \u001b[1;32mfor\u001b[0m \u001b[0mi\u001b[0m \u001b[1;32min\u001b[0m \u001b[0mrange\u001b[0m\u001b[1;33m(\u001b[0m\u001b[1;36m1\u001b[0m\u001b[1;33m,\u001b[0m \u001b[0mm\u001b[0m\u001b[1;33m+\u001b[0m\u001b[1;36m1\u001b[0m\u001b[1;33m)\u001b[0m\u001b[1;33m:\u001b[0m\u001b[1;33m\u001b[0m\u001b[0m\n\u001b[1;32m---> 47\u001b[1;33m     \u001b[0ma\u001b[0m\u001b[1;33m,\u001b[0m \u001b[0mb\u001b[0m\u001b[1;33m,\u001b[0m \u001b[0mc\u001b[0m \u001b[1;33m=\u001b[0m \u001b[0mmap\u001b[0m\u001b[1;33m(\u001b[0m\u001b[0mint\u001b[0m\u001b[1;33m,\u001b[0m \u001b[0minput\u001b[0m\u001b[1;33m(\u001b[0m\u001b[1;33m)\u001b[0m\u001b[1;33m.\u001b[0m\u001b[0msplit\u001b[0m\u001b[1;33m(\u001b[0m\u001b[1;34m' '\u001b[0m\u001b[1;33m)\u001b[0m\u001b[1;33m)\u001b[0m\u001b[1;33m\u001b[0m\u001b[0m\n\u001b[0m\u001b[0;32m     48\u001b[0m     \u001b[0me\u001b[0m\u001b[1;33m[\u001b[0m\u001b[0ma\u001b[0m\u001b[1;33m]\u001b[0m\u001b[1;33m[\u001b[0m\u001b[0mb\u001b[0m\u001b[1;33m]\u001b[0m \u001b[1;33m=\u001b[0m \u001b[0mc\u001b[0m \u001b[1;31m#unidirectional\u001b[0m\u001b[1;33m\u001b[0m\u001b[0m\n\u001b[0;32m     49\u001b[0m \u001b[1;33m\u001b[0m\u001b[0m\n",
      "\u001b[1;31mValueError\u001b[0m: invalid literal for int() with base 10: 'n'"
     ]
    }
   ],
   "source": [
    "import numpy as np\n",
    "\n",
    "'''\n",
    "輸入驗證資料：\n",
    "5 8    5點, 8邊\n",
    "1 2 2  1點及2點的邊為2\n",
    "1 5 10 1點及5點的邊為10\n",
    "2 3 3\n",
    "2 5 7\n",
    "3 1 4\n",
    "3 4 4\n",
    "4 5 5\n",
    "5 3 3\n",
    "'''\n",
    "\n",
    "# 初始化\n",
    "min1=99999999       #表正無窮\n",
    "book = np.zeros(101, dtype=np.int)  # 用來表示是否走過\n",
    "e = np.zeros((101,101), dtype=np.int) # 用來儲存地圖資料\n",
    "\n",
    "def dfs (cur, dis): #cur是目前所在城市編號\n",
    "    global min1\n",
    "    if dis > min1: return   #如果目前走過的路已經大於之前找到的最短路徑，返回\n",
    "    if cur == n:            #判斷是否到目標城市\n",
    "        if dis < min1:      \n",
    "            min1 = dis      #更新最短距離\n",
    "            return\n",
    "    for j in range(1, n+1): #從1號城市到n號城市依次嘗試\n",
    "        #判斷目前城市到城市j是否有路，並判斷是否再以走過的路逕中\n",
    "        if e[cur][j] != 99999999 and book[j]==0 :\n",
    "            book[j]=1  #標記城市已在路徑中\n",
    "            dfs(j, dis+e[cur][j]) #從城市j再出發，繼續尋找目標城市\n",
    "            book[j]=0 #前一部探索完畢後，取消對城市j的標記\n",
    "    return\n",
    "\n",
    "#初始化二維矩陣\n",
    "n, m = map(int, input().split(' '))\n",
    "for i in range(1, n+1):\n",
    "    for j in range(1, n+1):\n",
    "        if i==j: \n",
    "            e[i][j]=0\n",
    "        else: \n",
    "            e[i][j]=99999999\n",
    "\n",
    "#讀入城市之間的道路\n",
    "for i in range(1, m+1):\n",
    "    a, b, c = map(int, input().split(' '))\n",
    "    e[a][b] = c #unidirectional\n",
    "\n",
    "#從1號城市出發\n",
    "book[1]=1 #標記1號城市已在路徑中\n",
    "dfs(1, 0) #1表示目前所在城市編號，0表示已走過的路徑\n",
    "print(min1) # 列印最短路徑"
   ]
  },
  {
   "cell_type": "markdown",
   "metadata": {},
   "source": [
    "## [資料結構] 圖的廣度優先走訪 (Breadth-first Search)\n",
    "\n",
    "https://ithelp.ithome.com.tw/articles/10208679"
   ]
  },
  {
   "cell_type": "code",
   "execution_count": null,
   "metadata": {},
   "outputs": [],
   "source": [
    "import numpy as np\n",
    "\n",
    "'''\n",
    "輸入驗證資料：\n",
    "5 7 1 5   5點 7邊 1點走到5點\n",
    "1 2       1點2點 有路\n",
    "1 3\n",
    "2 3\n",
    "2 4\n",
    "3 4\n",
    "3 5\n",
    "4 5\n",
    "'''\n",
    "class note:\n",
    "    def __init__(self):\n",
    "        self.x = np.zeros(2501, dtype=np.int) #城市編號\n",
    "        self.s = np.zeros(2501, dtype=np.int) #轉機次數\n",
    "\n",
    "que = note()\n",
    "book = np.zeros(51, dtype=np.int)\n",
    "e = np.zeros((51,51), dtype=np.int)\n",
    "\n",
    "flag = 0\n",
    "\n",
    "n, m, start, end = map(int, input().split(' '))\n",
    "# 初始化二維矩陣\n",
    "for i in range(1, n+1):\n",
    "    for j in range(1, n+1):\n",
    "        if i==j:\n",
    "            e[i][j]=0\n",
    "        else:\n",
    "            e[i][j]=99999999\n",
    "#讀入城市間的航班\n",
    "for i in range(1, m+1):\n",
    "    a, b = map(int, input().split(' '))\n",
    "    #這邊是無相圖！！！\n",
    "    e[a][b]=1\n",
    "    e[b][a]=1\n",
    "\n",
    "#佇列初始化\n",
    "head = 1\n",
    "tail = 1\n",
    "\n",
    "#從start城市出發，並加入到佇列\n",
    "que.x[tail] = start\n",
    "que.s[tail] = 0\n",
    "tail += 1\n",
    "book[1] = start #標記已加入佇列中\n",
    "\n",
    "#當佇列不為空\n",
    "while head<tail :\n",
    "    cur = que.x[head] #目前佇列中首城市的編號\n",
    "    for j in range(1, n+1): #從1~n依次嘗試\n",
    "        #判斷從城市cur到城市j是否有航班，並判斷城市j是否已經在佇列中\n",
    "        if e[cur][j] != 99999999 and book[j]==0 :\n",
    "            #如果從城市cur到城市j有航班且城市ｊ不在佇列中，則將j城市加入佇列\n",
    "            que.x[tail] = j\n",
    "            que.s[tail] = que.s[head] +1 #轉機次數+1\n",
    "            tail +=1\n",
    "            book[j]=1 #標記城市已在佇列中\n",
    "\n",
    "        #如果到達目標城市，停止擴展，任務結束，退出迴圈\n",
    "        if que.x[tail] == end:\n",
    "            flag = 1\n",
    "            break\n",
    "    if flag ==1:\n",
    "        break\n",
    "\n",
    "    # 當一個擴展結束後，要head++才能對後面的點再進行擴展\n",
    "    head += 1\n",
    "\n",
    "# 列印佇列中末尾最後一個點(目標城市)的步數，但tail是指向佇列尾的下一個位置，所以要-1\n",
    "print (que.s[tail-1])"
   ]
  },
  {
   "cell_type": "markdown",
   "metadata": {},
   "source": [
    "## [資料結構] 雜湊 (Hash)\n",
    "\n",
    "https://ithelp.ithome.com.tw/articles/10208884"
   ]
  },
  {
   "cell_type": "markdown",
   "metadata": {},
   "source": [
    "**雜湊函數 (Hash function)**\n",
    "\n",
    "主要是將不定長度訊息的輸入，演算成固定長度雜湊值的輸出，且所計算出來的雜湊值必須符合兩個主要條件：\n",
    "\n",
    "* 由雜湊值是無法反推出原來的訊息\n",
    "* 雜湊值必須隨明文改變而改變。\n",
    "\n",
    "**雜湊表 (Hash table)**\n",
    "\n",
    "在用雜湊函數運算出來的雜湊值，根據 **鍵 (key)** 來儲存在數據結構中。而存放這些記錄的數組就稱為 **雜湊表**。\n",
    "\n",
    "    {Joe:'M', Sue:'F', Dan:'M', Nell:'F', Ally:'F', Bob:'M'}\n",
    "    \n",
    "經過雜湊函數的運算    \n",
    "\n",
    "    (Key)                 (hash value)     (stored index)\n",
    "    Joe  → (Hash function) →   4928   mod 5   =   3\n",
    "    Sue  → (Hash function) →   7291   mod 5   =   1\n",
    "    Dan  → (Hash function) →   1539   mod 5   =   4\n",
    "    Nell → (Hash function) →   6276   mod 5   =   1\n",
    "    Ally → (Hash function) →   9143   mod 5   =   3\n",
    "    Bob  → (Hash function) →   5278   mod 5   =   3\n",
    "    \n",
    "`hash value` 是獨一無二的，用 `mod 5` 來得到餘數並儲存才記憶體中\n",
    "\n",
    "    0： \n",
    "    1： [ Sue, F ] → [ Nell, F ]\n",
    "    2： \n",
    "    3： [ Joe, M ] → [ Ally, F ] → [ Bob, M ]\n",
    "    4： [ Dan, M ]\n",
    "    \n",
    "當我們要找資料的時候，例如 `Ally` 的性別，我們就把 `Ally` 丟到名為 `Has`h 的果汁機來得到 `hash value`，再用 `mod 5` 找到儲存在記憶體中的位置，但記憶體中的第一個位置並不是 `Ally` 是 `Joe`，我們根據 `Joe` 的鏈結找到下一個元素，直到找到答案。\n",
    "\n",
    "而會用 `mod 5` 是因為記憶體儲存空間假設為 `5` 。但儲存空間的大小也不是隨意設的，如果設得太大，資料沒那麼多，會造成空間浪費；若設得太小，會造成每一個空間的資料重疊，查找不易。所以設定空間大小也是一門學問。"
   ]
  },
  {
   "cell_type": "code",
   "execution_count": null,
   "metadata": {},
   "outputs": [],
   "source": []
  },
  {
   "cell_type": "code",
   "execution_count": null,
   "metadata": {},
   "outputs": [],
   "source": []
  },
  {
   "cell_type": "code",
   "execution_count": null,
   "metadata": {},
   "outputs": [],
   "source": []
  },
  {
   "cell_type": "code",
   "execution_count": null,
   "metadata": {},
   "outputs": [],
   "source": []
  },
  {
   "cell_type": "code",
   "execution_count": null,
   "metadata": {},
   "outputs": [],
   "source": []
  },
  {
   "cell_type": "code",
   "execution_count": null,
   "metadata": {},
   "outputs": [],
   "source": []
  },
  {
   "cell_type": "code",
   "execution_count": null,
   "metadata": {},
   "outputs": [],
   "source": []
  },
  {
   "cell_type": "code",
   "execution_count": null,
   "metadata": {},
   "outputs": [],
   "source": []
  },
  {
   "cell_type": "code",
   "execution_count": null,
   "metadata": {},
   "outputs": [],
   "source": []
  },
  {
   "cell_type": "code",
   "execution_count": null,
   "metadata": {},
   "outputs": [],
   "source": []
  },
  {
   "cell_type": "code",
   "execution_count": null,
   "metadata": {},
   "outputs": [],
   "source": []
  },
  {
   "cell_type": "code",
   "execution_count": null,
   "metadata": {},
   "outputs": [],
   "source": []
  },
  {
   "cell_type": "code",
   "execution_count": null,
   "metadata": {},
   "outputs": [],
   "source": []
  },
  {
   "cell_type": "code",
   "execution_count": null,
   "metadata": {},
   "outputs": [],
   "source": []
  },
  {
   "cell_type": "code",
   "execution_count": null,
   "metadata": {},
   "outputs": [],
   "source": []
  },
  {
   "cell_type": "code",
   "execution_count": null,
   "metadata": {},
   "outputs": [],
   "source": []
  },
  {
   "cell_type": "code",
   "execution_count": null,
   "metadata": {},
   "outputs": [],
   "source": []
  },
  {
   "cell_type": "code",
   "execution_count": null,
   "metadata": {},
   "outputs": [],
   "source": []
  },
  {
   "cell_type": "code",
   "execution_count": null,
   "metadata": {},
   "outputs": [],
   "source": []
  },
  {
   "cell_type": "code",
   "execution_count": null,
   "metadata": {},
   "outputs": [],
   "source": []
  },
  {
   "cell_type": "code",
   "execution_count": null,
   "metadata": {},
   "outputs": [],
   "source": []
  },
  {
   "cell_type": "code",
   "execution_count": null,
   "metadata": {},
   "outputs": [],
   "source": []
  }
 ],
 "metadata": {
  "hide_input": false,
  "kernelspec": {
   "display_name": "Python [default]",
   "language": "python",
   "name": "python3"
  },
  "language_info": {
   "codemirror_mode": {
    "name": "ipython",
    "version": 3
   },
   "file_extension": ".py",
   "mimetype": "text/x-python",
   "name": "python",
   "nbconvert_exporter": "python",
   "pygments_lexer": "ipython3",
   "version": "3.6.5"
  },
  "toc": {
   "base_numbering": 1,
   "nav_menu": {},
   "number_sections": true,
   "sideBar": true,
   "skip_h1_title": false,
   "title_cell": "Table of Contents",
   "title_sidebar": "Contents",
   "toc_cell": true,
   "toc_position": {
    "height": "calc(100% - 180px)",
    "left": "10px",
    "top": "150px",
    "width": "192px"
   },
   "toc_section_display": true,
   "toc_window_display": true
  },
  "varInspector": {
   "cols": {
    "lenName": 16,
    "lenType": 16,
    "lenVar": 40
   },
   "kernels_config": {
    "python": {
     "delete_cmd_postfix": "",
     "delete_cmd_prefix": "del ",
     "library": "var_list.py",
     "varRefreshCmd": "print(var_dic_list())"
    },
    "r": {
     "delete_cmd_postfix": ") ",
     "delete_cmd_prefix": "rm(",
     "library": "var_list.r",
     "varRefreshCmd": "cat(var_dic_list()) "
    }
   },
   "types_to_exclude": [
    "module",
    "function",
    "builtin_function_or_method",
    "instance",
    "_Feature"
   ],
   "window_display": false
  }
 },
 "nbformat": 4,
 "nbformat_minor": 2
}
