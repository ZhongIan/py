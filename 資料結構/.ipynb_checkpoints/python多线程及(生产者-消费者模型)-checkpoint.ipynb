{
 "cells": [
  {
   "cell_type": "markdown",
   "metadata": {},
   "source": [
    "# 來源"
   ]
  },
  {
   "cell_type": "markdown",
   "metadata": {},
   "source": [
    "版权声明：本文为CSDN博主「Heibaiii」的原创文章，遵循 CC 4.0 BY-SA 版权协议，转载请附上原文出处链接及本声明。\n",
    "原文链接：https://blog.csdn.net/Heibaiii/article/details/79889488"
   ]
  },
  {
   "cell_type": "markdown",
   "metadata": {},
   "source": [
    "# 写在前面"
   ]
  },
  {
   "cell_type": "markdown",
   "metadata": {},
   "source": [
    "`python`（基于 `cpython` 解释器）的多线程其实是假多线程，是单个 `CPU` 在多个线程间迅速切换营造出来的‘错觉’,\n",
    "\n",
    "所以 `Python `的多线程适用于 `IO` 密集型（进程运行时间大部分花在 `input` 与 `output` 上），而不适用于 `CPU` 密集型（进程运行时间大部分花在计算上）"
   ]
  },
  {
   "cell_type": "markdown",
   "metadata": {},
   "source": [
    "**单线程示例：**"
   ]
  },
  {
   "cell_type": "code",
   "execution_count": 1,
   "metadata": {
    "ExecuteTime": {
     "end_time": "2019-09-29T17:11:17.242194Z",
     "start_time": "2019-09-29T17:11:11.203271Z"
    }
   },
   "outputs": [
    {
     "name": "stdout",
     "output_type": "stream",
     "text": [
      "作家正在写第1篇文章\n",
      "作家正在写第2篇文章\n",
      "作家正在写第3篇文章\n",
      "歌手正在唱第1首歌\n",
      "歌手正在唱第2首歌\n",
      "歌手正在唱第3首歌\n"
     ]
    }
   ],
   "source": [
    "from time import sleep\n",
    "\n",
    "\n",
    "def Write():\n",
    "    for i in range(3):\n",
    "        print('作家正在写第%d篇文章'%(i+1))\n",
    "        sleep(1)  # 加一个休眠，方便观察\n",
    "\n",
    "\n",
    "def Sing():\n",
    "    for i in range(3):\n",
    "        print('歌手正在唱第%d首歌'%(i+1))\n",
    "        sleep(1)\n",
    "\n",
    "\n",
    "if __name__ == '__main__':\n",
    "    Write()\n",
    "    Sing()\n"
   ]
  },
  {
   "cell_type": "markdown",
   "metadata": {},
   "source": [
    "**多线程示例（双线程）：**"
   ]
  },
  {
   "cell_type": "code",
   "execution_count": 3,
   "metadata": {
    "ExecuteTime": {
     "end_time": "2019-09-29T17:13:35.168820Z",
     "start_time": "2019-09-29T17:13:35.130757Z"
    }
   },
   "outputs": [
    {
     "name": "stdout",
     "output_type": "stream",
     "text": [
      "Writing threadTEST.py\n"
     ]
    }
   ],
   "source": [
    "%%file threadTEST.py\n",
    "\n",
    "import threading\n",
    "import time\n",
    "\n",
    "\n",
    "def Write():\n",
    "    for i in range(3):\n",
    "        print('作家正在写第%d篇文章'%(i+1))\n",
    "        time.sleep(1)  # 程序运行到这里休眠一秒，方便观察\n",
    "\n",
    "\n",
    "def Sing():\n",
    "    for i in range(3):\n",
    "        print('歌手正在唱第%d首歌'%(i+1))\n",
    "        time.sleep(1)\n",
    "\n",
    "\n",
    "if __name__ == '__main__':\n",
    "    tr1 = threading.Thread(target=Write)  # 传入函数名\n",
    "    tr2 = threading.Thread(target=Sing)\n",
    "    tr1.start()\n",
    "    tr2.start()\n"
   ]
  },
  {
   "cell_type": "code",
   "execution_count": 4,
   "metadata": {
    "ExecuteTime": {
     "end_time": "2019-09-29T17:13:43.488823Z",
     "start_time": "2019-09-29T17:13:43.458568Z"
    }
   },
   "outputs": [
    {
     "name": "stdout",
     "output_type": "stream",
     "text": [
      "python \"D:\\CODE\\GitHub\\py\\資料結構\\threadTEST.py\"\n",
      "D:\\CODE\\GitHub\\py\\資料結構\n"
     ]
    },
    {
     "data": {
      "text/plain": [
       "<subprocess.Popen at 0x144b1a0a898>"
      ]
     },
     "execution_count": 4,
     "metadata": {},
     "output_type": "execute_result"
    }
   ],
   "source": [
    "# ============ 開新 CONSOLE ============\n",
    "\n",
    "import os\n",
    "import subprocess\n",
    "# os.path.abspath {本黨位置}: D:\\Google 雲端硬碟\\learn\\線程調用\\TestOS.py\n",
    "# os.path.dirname {目錄} : D:\\Google 雲端硬碟\\learn\\線程調用\n",
    "BASE_DIR = os.path.dirname(os.path.abspath('__file__'))\n",
    "# 透過 cmd 呼叫\n",
    "DIR = os.path.join(BASE_DIR, 'threadTEST.py')\n",
    "cmd = \"python \" + f'\"{DIR}\"'\n",
    "print(cmd,BASE_DIR,sep='\\n')\n",
    "#  CONSOLE混雜\n",
    "#os.system(cmd)\n",
    "#subprocess.call(cmd)\n",
    "\n",
    "#  NEW 一個 CONSOLE\n",
    "subprocess.Popen(cmd, creationflags=subprocess.CREATE_NEW_CONSOLE)"
   ]
  },
  {
   "cell_type": "markdown",
   "metadata": {},
   "source": [
    "# 脏数据\n",
    "\n",
    "多线程在数据量过大的情况下容易出现脏数据\n",
    "\n",
    "**資源搶用**"
   ]
  },
  {
   "cell_type": "code",
   "execution_count": 10,
   "metadata": {
    "ExecuteTime": {
     "end_time": "2019-09-29T17:19:05.435154Z",
     "start_time": "2019-09-29T17:19:05.422504Z"
    }
   },
   "outputs": [
    {
     "name": "stdout",
     "output_type": "stream",
     "text": [
      "Overwriting threadTEST.py\n"
     ]
    }
   ],
   "source": [
    "%%file threadTEST.py\n",
    "\n",
    "import threading\n",
    "import os\n",
    "sum = 0\n",
    "\n",
    "\n",
    "def sum1():\n",
    "    global sum\n",
    "    for i in range(10000000):\n",
    "        sum += 1\n",
    "    print(sum)\n",
    "\n",
    "\n",
    "if __name__ == '__main__':\n",
    "    '''开启两个线程执行sum1'''\n",
    "    for i in range(2):\n",
    "        th = threading.Thread(target=sum1)\n",
    "        th.start()\n",
    "    # 看結果\n",
    "    os.system(\"pause\")\n",
    "\n",
    "# 正常結果    \n",
    "# 1000000\n",
    "# 2000000"
   ]
  },
  {
   "cell_type": "code",
   "execution_count": 11,
   "metadata": {
    "ExecuteTime": {
     "end_time": "2019-09-29T17:19:06.677701Z",
     "start_time": "2019-09-29T17:19:06.668918Z"
    }
   },
   "outputs": [
    {
     "name": "stdout",
     "output_type": "stream",
     "text": [
      "python \"D:\\CODE\\GitHub\\py\\資料結構\\threadTEST.py\"\n",
      "D:\\CODE\\GitHub\\py\\資料結構\n"
     ]
    },
    {
     "data": {
      "text/plain": [
       "<subprocess.Popen at 0x144b1a0a860>"
      ]
     },
     "execution_count": 11,
     "metadata": {},
     "output_type": "execute_result"
    }
   ],
   "source": [
    "# ============ 開新 CONSOLE ============\n",
    "\n",
    "import os\n",
    "import subprocess\n",
    "# os.path.abspath {本黨位置}: D:\\Google 雲端硬碟\\learn\\線程調用\\TestOS.py\n",
    "# os.path.dirname {目錄} : D:\\Google 雲端硬碟\\learn\\線程調用\n",
    "BASE_DIR = os.path.dirname(os.path.abspath('__file__'))\n",
    "# 透過 cmd 呼叫\n",
    "DIR = os.path.join(BASE_DIR, 'threadTEST.py')\n",
    "cmd = \"python \" + f'\"{DIR}\"'\n",
    "print(cmd,BASE_DIR,sep='\\n')\n",
    "#  CONSOLE混雜\n",
    "#os.system(cmd)\n",
    "#subprocess.call(cmd)\n",
    "\n",
    "#  NEW 一個 CONSOLE\n",
    "subprocess.Popen(cmd, creationflags=subprocess.CREATE_NEW_CONSOLE)"
   ]
  },
  {
   "cell_type": "markdown",
   "metadata": {},
   "source": [
    "# [Lock]鎖"
   ]
  },
  {
   "cell_type": "markdown",
   "metadata": {},
   "source": [
    "多线程时资源共享的弊端就在这里，所以我们要制定一个规定：\n",
    "\n",
    "**在一个线程执行任务时，其它执行同一任务的线程需要排队等候，在该线程执行完后，其它线程才能按顺序继续执行**\n",
    "\n",
    "Lock方法\n",
    "\n",
    "    lk = threading.Lock()\n",
    "    上锁：lk.acquire()\n",
    "    执行：任务（上厕所）\n",
    "    解锁：lk.release()"
   ]
  },
  {
   "cell_type": "code",
   "execution_count": 16,
   "metadata": {
    "ExecuteTime": {
     "end_time": "2019-09-29T17:34:47.971733Z",
     "start_time": "2019-09-29T17:34:47.960483Z"
    }
   },
   "outputs": [
    {
     "name": "stdout",
     "output_type": "stream",
     "text": [
      "Overwriting threadTEST.py\n"
     ]
    }
   ],
   "source": [
    "%%file threadTEST.py\n",
    "\n",
    "import threading\n",
    "import os\n",
    "sum = 0\n",
    "\n",
    "lk = threading.Lock()\n",
    "\n",
    "\n",
    "def sum1():\n",
    "    global sum\n",
    "    lk.acquire()  # 锁门\n",
    "    for i in range(10000000):\n",
    "        sum += 1\n",
    "    lk.release()  # 结束，开门\n",
    "    print(sum)\n",
    "\n",
    "\n",
    "if __name__ == '__main__':\n",
    "    for i in range(2):\n",
    "        th = threading.Thread(target=sum1)\n",
    "        th.start()\n",
    "    # 看結果\n",
    "    os.system(\"pause\")\n",
    "\n"
   ]
  },
  {
   "cell_type": "code",
   "execution_count": 17,
   "metadata": {
    "ExecuteTime": {
     "end_time": "2019-09-29T17:34:49.027423Z",
     "start_time": "2019-09-29T17:34:49.018650Z"
    }
   },
   "outputs": [
    {
     "name": "stdout",
     "output_type": "stream",
     "text": [
      "python \"D:\\CODE\\GitHub\\py\\資料結構\\threadTEST.py\"\n",
      "D:\\CODE\\GitHub\\py\\資料結構\n"
     ]
    },
    {
     "data": {
      "text/plain": [
       "<subprocess.Popen at 0x144b1a0a438>"
      ]
     },
     "execution_count": 17,
     "metadata": {},
     "output_type": "execute_result"
    }
   ],
   "source": [
    "# ============ 開新 CONSOLE ============\n",
    "\n",
    "import os\n",
    "import subprocess\n",
    "# os.path.abspath {本黨位置}: D:\\Google 雲端硬碟\\learn\\線程調用\\TestOS.py\n",
    "# os.path.dirname {目錄} : D:\\Google 雲端硬碟\\learn\\線程調用\n",
    "BASE_DIR = os.path.dirname(os.path.abspath('__file__'))\n",
    "# 透過 cmd 呼叫\n",
    "DIR = os.path.join(BASE_DIR, 'threadTEST.py')\n",
    "cmd = \"python \" + f'\"{DIR}\"'\n",
    "print(cmd,BASE_DIR,sep='\\n')\n",
    "#  CONSOLE混雜\n",
    "#os.system(cmd)\n",
    "#subprocess.call(cmd)\n",
    "\n",
    "#  NEW 一個 CONSOLE\n",
    "subprocess.Popen(cmd, creationflags=subprocess.CREATE_NEW_CONSOLE)"
   ]
  },
  {
   "cell_type": "markdown",
   "metadata": {},
   "source": [
    "# [threading.condition()]生产者-消费者模型"
   ]
  },
  {
   "cell_type": "markdown",
   "metadata": {},
   "source": [
    "但是！\n",
    "\n",
    "`Lock` 在线程较多，循环较多，且需要判断数据是否满足执行条件的时候（比如 `Lock` 版的生产者-消费者模型），会进行反复的上锁与解锁，这样是非常消耗 `CPU` 资源的\n",
    "为了解决这个问题，我们需要引入一个继承自 `Lock` 的新方法： `Condition`\n",
    "\n",
    "    ct = threading.condition()\n",
    "    上锁：ct.acquire()\n",
    "    解锁：ct.release()\n",
    "    \n",
    "    ct.wait(self,timeout=None)：将当前线程处于等待（即阻塞）状态并释放锁。\n",
    "    \n",
    "    等待状态中的线程可以被其他线程使用notify函数或notify_all函数唤醒，被唤醒后，该线程会继续等待上锁，上锁后继续执行下面的代码\n",
    "    \n",
    "    notify(self,n=1)：唤醒某一指定线程，默认唤醒等待中的第一个线程\n",
    "    notify_all(self)：唤醒所有等待中的线程\n",
    "\n",
    "还有一个问题，关于 `wait()` ，\n",
    "\n",
    "`wait()` 中的线程被唤醒后，并非立马拿到锁（因为它被阻塞后，很可能会被排到队列的后面），这样可能会导致数据的不对等（拿到其他线程处理之前的数据处理），\n",
    "\n",
    "所以在消费者类的 `while True` 下面，我们并没有用 `if` 来判断金额大小，而是用 `while` ，这样可以确保线程一直在原位置等待，一被唤醒就可以拿到锁\n"
   ]
  },
  {
   "cell_type": "code",
   "execution_count": 20,
   "metadata": {
    "ExecuteTime": {
     "end_time": "2019-09-29T17:44:24.670990Z",
     "start_time": "2019-09-29T17:44:24.649524Z"
    }
   },
   "outputs": [
    {
     "name": "stdout",
     "output_type": "stream",
     "text": [
      "Overwriting threadTEST.py\n"
     ]
    }
   ],
   "source": [
    "%%file threadTEST.py\n",
    "import threading\n",
    "import random\n",
    "from time import sleep\n",
    "import os\n",
    "\n",
    "ct = threading.Condition()\n",
    "\n",
    "all_money = 1000  # 基础金钱1000元\n",
    "count = 10  # 限制生产者只可以生产十次\n",
    "\n",
    "\n",
    "class producers(threading.Thread):\n",
    "    '''生产者模式'''\n",
    "    def run(self):\n",
    "        global all_money\n",
    "        global count\n",
    "\n",
    "        while True:\n",
    "            ct.acquire()  # 处理数据前，先上锁\n",
    "            if count > 0:  # 如果生产次数小于十次\n",
    "                money = random.randint(200,1000)  # 随机生产200-1000元\n",
    "                all_money += money  # 总金钱数 = 原总金钱数+生产金钱数\n",
    "                count -= 1  # 允许生产次数-1\n",
    "                print('生产者%s生产了%d元，剩余金钱%d元' % (threading.current_thread(), money, all_money))\n",
    "            else:  # 如果生产次数已满10次\n",
    "                ct.release()  # 解锁\n",
    "                break  # 生产结束，跳出循环\n",
    "            ct.notify_all()  # 通知所有等待中的消费者，生产已完成，可以开始消费\n",
    "            ct.release()  # 解锁\n",
    "            sleep(0.5)\n",
    "\n",
    "\n",
    "class comsumer(threading.Thread):\n",
    "    '''消费者模式'''\n",
    "    def run(self):\n",
    "        global all_money\n",
    "        global count\n",
    "\n",
    "        while True:\n",
    "            ct.acquire()  # 处理数据前，先上锁\n",
    "            money = random.randint(200,1000)  # 随机消费200-1000元\n",
    "            # 下面这个while是重点！（敲黑板，记笔记，后面我会说到的）\n",
    "            while money > all_money:  # 如果需消费金额大于总金额，则等待至总金额大于需消费金钱\n",
    "                if count == 0:  # 如果生产者生产次数已达上限\n",
    "                    ct.release()  # 结束前解锁\n",
    "                    return  # 结束函数\n",
    "                print('消费者%s需要消费%d元，剩余金钱%d元，不足' % (threading.current_thread(), money, all_money))\n",
    "                ct.wait()  # 进入等待（阻塞进程）\n",
    "            all_money -= money  # 剩余金额大于消费金额时，总金额 = 原总金额 - 消费金额\n",
    "            print('消费者%s消费了%d元，剩余金钱%d元' % (threading.current_thread(), money, all_money))\n",
    "            ct.release()  # 解锁\n",
    "            sleep(0.5)\n",
    "\n",
    "\n",
    "if __name__ == '__main__':\n",
    "    for i in range(3):\n",
    "        th = comsumer(name='线程%d'%i)\n",
    "        th.start()\n",
    "\n",
    "    for i in range(5):\n",
    "        th = producers(name='线程%d'%i)\n",
    "        th.start()\n",
    "    os.system(\"pause\")"
   ]
  },
  {
   "cell_type": "code",
   "execution_count": 21,
   "metadata": {
    "ExecuteTime": {
     "end_time": "2019-09-29T17:44:25.516213Z",
     "start_time": "2019-09-29T17:44:25.507430Z"
    }
   },
   "outputs": [
    {
     "name": "stdout",
     "output_type": "stream",
     "text": [
      "python \"D:\\CODE\\GitHub\\py\\資料結構\\threadTEST.py\"\n",
      "D:\\CODE\\GitHub\\py\\資料結構\n"
     ]
    },
    {
     "data": {
      "text/plain": [
       "<subprocess.Popen at 0x144b1a0a978>"
      ]
     },
     "execution_count": 21,
     "metadata": {},
     "output_type": "execute_result"
    }
   ],
   "source": [
    "# ============ 開新 CONSOLE ============\n",
    "\n",
    "import os\n",
    "import subprocess\n",
    "# os.path.abspath {本黨位置}: D:\\Google 雲端硬碟\\learn\\線程調用\\TestOS.py\n",
    "# os.path.dirname {目錄} : D:\\Google 雲端硬碟\\learn\\線程調用\n",
    "BASE_DIR = os.path.dirname(os.path.abspath('__file__'))\n",
    "# 透過 cmd 呼叫\n",
    "DIR = os.path.join(BASE_DIR, 'threadTEST.py')\n",
    "cmd = \"python \" + f'\"{DIR}\"'\n",
    "print(cmd,BASE_DIR,sep='\\n')\n",
    "#  CONSOLE混雜\n",
    "#os.system(cmd)\n",
    "#subprocess.call(cmd)\n",
    "\n",
    "#  NEW 一個 CONSOLE\n",
    "subprocess.Popen(cmd, creationflags=subprocess.CREATE_NEW_CONSOLE)"
   ]
  },
  {
   "cell_type": "markdown",
   "metadata": {},
   "source": [
    "# [Queue]线程优先级队列"
   ]
  },
  {
   "cell_type": "markdown",
   "metadata": {},
   "source": [
    "线程安全队列：\n",
    "我们给列表A的某一个索引[0]赋值分为三个步骤：\n",
    "\n",
    "    1）指出我们要将1赋给A[0]：A[0] = 1；\n",
    "    2）找出A[0]所指向的内存地址；\n",
    "    3）将1存入A[0]对应的地址的内存中\n",
    "\n",
    "不安全的队列，很可能在第二步的时候被终止，而被另一个线程调去执行任务，但是队列中的操作已经在前一个线程中被执行到一半，\n",
    "\n",
    "即到第二个线程中时，第二个线程可能会将数据存入第一个线程内的数据应该存入的内存地址中，导致脏数据产生（放苹果的篮子被放入了梨）\n",
    "\n",
    "`python` 中的 `list` 并非线程安全的（即执行时是可以被打断的，这样会造成脏数据），为了解决这个问题， `python` 为我们提供了 `Queue` 模块， `Queue` 模块中包含了同步的、线程安全的队列类，包括 `FIFO（先入先出)` 队列 `Queue` ，`LIFO（后入先出）` 队列 `LifoQueue（类似‘栈’）` ，和 `优先级队列PriorityQueue` 。\n",
    "\n",
    "这些队列都实现了锁原语（可以理解为原子级操作（最小级，不可分割的操作，开始执行就不能被打断）），能够在多线程中直接使用。可以使用队列来实现线程间的同步。\n",
    "\n",
    "    qu = Queue(maxsize)：创建一个先进先出的列队 \n",
    "        maxsize为列队允许的最大元素数\n",
    "\n",
    "    qu.qsize()： 返回队列的大小\n",
    "    qu.empty() ：如果队列为空，返回True,反之False\n",
    "    qu.full() ：如果队列满了，返回True,反之False，\n",
    "        Queue.full 与 maxsize 大小对应\n",
    "    qu.get([block[, timeout]])：获取队列，timeout等待时间\n",
    "    qu.put(item[, timeout]) ：写入队列，timeout等待时间\n"
   ]
  },
  {
   "cell_type": "code",
   "execution_count": 22,
   "metadata": {
    "ExecuteTime": {
     "end_time": "2019-09-29T17:53:06.536659Z",
     "start_time": "2019-09-29T17:53:03.524855Z"
    }
   },
   "outputs": [
    {
     "name": "stdout",
     "output_type": "stream",
     "text": [
      "初始队列是否为空： True\n",
      "加入两个数据后，列队是否已满： False\n",
      "加入两个数据后，列队大小： 2\n",
      "获取列队中第一个数据，block默认为True（即阻塞，直到队列中有数据再取）： 数据一\n",
      "加入两个数据后，又获取一个数据后，列队大小： 1\n",
      "加入四个数据后，列队是否已满： True\n",
      "列队已满，插入数据失败，等待时间为： 3.000068426132202\n",
      "['数据二']\n",
      "数据一\n",
      "数据三\n",
      "4\n"
     ]
    }
   ],
   "source": [
    "import time\n",
    "from queue import Queue\n",
    "\n",
    "\n",
    "qu = Queue(4) #创建一个最大数据数为4的列队\n",
    "print('初始队列是否为空：',qu.empty())\n",
    "qu.put('数据一')\n",
    "qu.put(['数据二'])\n",
    "print('加入两个数据后，列队是否已满：',qu.full())\n",
    "print('加入两个数据后，列队大小：',qu.qsize())\n",
    "print('获取列队中第一个数据，block默认为True（即阻塞，直到队列中有数据再取）：',qu.get(block=True))\n",
    "print('加入两个数据后，又获取一个数据后，列队大小：',qu.qsize())\n",
    "qu.put('数据一')\n",
    "qu.put(('数据三'))\n",
    "qu.put(4)\n",
    "print('加入四个数据后，列队是否已满：',qu.full())\n",
    "if qu.full():\n",
    "    start = time.time()\n",
    "    try:\n",
    "        qu.put(5,timeout=3)  # 如果列队已满，三秒后结束插入\n",
    "    except:\n",
    "        end = time.time()\n",
    "        print('列队已满，插入数据失败，等待时间为：',end-start)\n",
    "    for i in range(qu.qsize()):\n",
    "        print(qu.get())\n"
   ]
  },
  {
   "cell_type": "markdown",
   "metadata": {},
   "source": [
    "**多线程中使用Queue：**"
   ]
  },
  {
   "cell_type": "code",
   "execution_count": 23,
   "metadata": {
    "ExecuteTime": {
     "end_time": "2019-09-29T17:55:51.914718Z",
     "start_time": "2019-09-29T17:55:51.897149Z"
    }
   },
   "outputs": [
    {
     "name": "stdout",
     "output_type": "stream",
     "text": [
      "Overwriting threadTEST.py\n"
     ]
    }
   ],
   "source": [
    "%%file threadTEST.py\n",
    "import threading\n",
    "from queue import Queue\n",
    "import time\n",
    "import os\n",
    "\n",
    "def set_value(qu):\n",
    "    '''生成元素放入列队'''\n",
    "    index = 0\n",
    "    while True:\n",
    "        qu.put(index)\n",
    "        index += 1\n",
    "        start = time.time()\n",
    "        time.sleep(2)  # 每隔三秒放入一个\n",
    "        end = time.time()\n",
    "        print('阻塞时间为：',end-start,'秒threading.Thread')\n",
    "\n",
    "\n",
    "def get_value(qu):\n",
    "    while True:\n",
    "        print('数据：',qu.get())  # 列队中有数据就取出来，没有就等待\n",
    "\n",
    "\n",
    "if __name__ == '__main__':\n",
    "    qu = Queue(4)\n",
    "    t1 = threading.Thread(target=set_value,args=[qu])\n",
    "    t2 = threading.Thread(target=get_value,args=[qu])\n",
    "\n",
    "    t1.start()\n",
    "    t2.start()\n",
    "    os.system(\"pause\")"
   ]
  },
  {
   "cell_type": "code",
   "execution_count": 24,
   "metadata": {
    "ExecuteTime": {
     "end_time": "2019-09-29T17:55:53.292042Z",
     "start_time": "2019-09-29T17:55:53.283284Z"
    }
   },
   "outputs": [
    {
     "name": "stdout",
     "output_type": "stream",
     "text": [
      "python \"D:\\CODE\\GitHub\\py\\資料結構\\threadTEST.py\"\n",
      "D:\\CODE\\GitHub\\py\\資料結構\n"
     ]
    },
    {
     "data": {
      "text/plain": [
       "<subprocess.Popen at 0x144b19ee780>"
      ]
     },
     "execution_count": 24,
     "metadata": {},
     "output_type": "execute_result"
    }
   ],
   "source": [
    "# ============ 開新 CONSOLE ============\n",
    "\n",
    "import os\n",
    "import subprocess\n",
    "# os.path.abspath {本黨位置}: D:\\Google 雲端硬碟\\learn\\線程調用\\TestOS.py\n",
    "# os.path.dirname {目錄} : D:\\Google 雲端硬碟\\learn\\線程調用\n",
    "BASE_DIR = os.path.dirname(os.path.abspath('__file__'))\n",
    "# 透過 cmd 呼叫\n",
    "DIR = os.path.join(BASE_DIR, 'threadTEST.py')\n",
    "cmd = \"python \" + f'\"{DIR}\"'\n",
    "print(cmd,BASE_DIR,sep='\\n')\n",
    "#  CONSOLE混雜\n",
    "#os.system(cmd)\n",
    "#subprocess.call(cmd)\n",
    "\n",
    "#  NEW 一個 CONSOLE\n",
    "subprocess.Popen(cmd, creationflags=subprocess.CREATE_NEW_CONSOLE)"
   ]
  },
  {
   "cell_type": "markdown",
   "metadata": {},
   "source": [
    "# GIL全局解释锁（Global Interceptor Lock）"
   ]
  },
  {
   "cell_type": "markdown",
   "metadata": {},
   "source": [
    "在多线程环境中， `Python` 虚拟机按以下方式执行：\n",
    "\n",
    "1. 设置GIL\n",
    "2. 切换到一个线程去运行\n",
    "3. 运行：\n",
    "    * 指定数量的字节码指令，或者\n",
    "    * 线程主动让出控制（可以调用time.sleep(0)）\n",
    "4. 把线程设置为睡眠状态\n",
    "5. 解锁GIL\n",
    "6. 再次重复以上所有步骤\n",
    "\n",
    "在调用外部代码（如 `C/C++` 扩展函数）的时候， `GIL` 将会被锁定，直到这个函数结束为止（由于在这期间没有 `Python` 的字节码被运行，所以不会做线程切换）。"
   ]
  },
  {
   "cell_type": "code",
   "execution_count": null,
   "metadata": {},
   "outputs": [],
   "source": []
  },
  {
   "cell_type": "code",
   "execution_count": null,
   "metadata": {},
   "outputs": [],
   "source": []
  },
  {
   "cell_type": "code",
   "execution_count": null,
   "metadata": {},
   "outputs": [],
   "source": []
  },
  {
   "cell_type": "code",
   "execution_count": null,
   "metadata": {},
   "outputs": [],
   "source": []
  },
  {
   "cell_type": "code",
   "execution_count": null,
   "metadata": {},
   "outputs": [],
   "source": []
  }
 ],
 "metadata": {
  "hide_input": false,
  "kernelspec": {
   "display_name": "Python [default]",
   "language": "python",
   "name": "python3"
  },
  "language_info": {
   "codemirror_mode": {
    "name": "ipython",
    "version": 3
   },
   "file_extension": ".py",
   "mimetype": "text/x-python",
   "name": "python",
   "nbconvert_exporter": "python",
   "pygments_lexer": "ipython3",
   "version": "3.6.5"
  },
  "toc": {
   "base_numbering": 1,
   "nav_menu": {},
   "number_sections": true,
   "sideBar": true,
   "skip_h1_title": false,
   "title_cell": "Table of Contents",
   "title_sidebar": "Contents",
   "toc_cell": false,
   "toc_position": {},
   "toc_section_display": true,
   "toc_window_display": true
  },
  "varInspector": {
   "cols": {
    "lenName": 16,
    "lenType": 16,
    "lenVar": 40
   },
   "kernels_config": {
    "python": {
     "delete_cmd_postfix": "",
     "delete_cmd_prefix": "del ",
     "library": "var_list.py",
     "varRefreshCmd": "print(var_dic_list())"
    },
    "r": {
     "delete_cmd_postfix": ") ",
     "delete_cmd_prefix": "rm(",
     "library": "var_list.r",
     "varRefreshCmd": "cat(var_dic_list()) "
    }
   },
   "types_to_exclude": [
    "module",
    "function",
    "builtin_function_or_method",
    "instance",
    "_Feature"
   ],
   "window_display": false
  }
 },
 "nbformat": 4,
 "nbformat_minor": 2
}
