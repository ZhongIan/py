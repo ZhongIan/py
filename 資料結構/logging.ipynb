{
 "cells": [
  {
   "cell_type": "markdown",
   "metadata": {},
   "source": [
    "\n",
    "# 來源網址\n",
    "https://blog.csdn.net/qq_20084101/article/details/89317813"
   ]
  },
  {
   "cell_type": "code",
   "execution_count": 1,
   "metadata": {
    "ExecuteTime": {
     "end_time": "2019-09-04T14:50:07.208785Z",
     "start_time": "2019-09-04T14:50:07.203932Z"
    }
   },
   "outputs": [
    {
     "name": "stderr",
     "output_type": "stream",
     "text": [
      "INFO:root:3, 4 的斜边是 5.0\n"
     ]
    }
   ],
   "source": [
    "import logging\n",
    "logging.basicConfig(level=logging.INFO)\n",
    "\n",
    "def hypotenuse(a, b):\n",
    "    \"\"\"计算三角形斜边\"\"\"\n",
    "    return (a**2 + b**2)**0.5\n",
    "\n",
    "logging.info(\"{a}, {b} 的斜边是 {c}\".format(a=3, b=4, c=hypotenuse(a=3, b=4)))\n",
    "#> INFO:root:3, 4 的斜边是 5.0"
   ]
  },
  {
   "cell_type": "code",
   "execution_count": 2,
   "metadata": {
    "ExecuteTime": {
     "end_time": "2019-09-21T13:07:09.714746Z",
     "start_time": "2019-09-21T13:07:09.670785Z"
    }
   },
   "outputs": [
    {
     "name": "stderr",
     "output_type": "stream",
     "text": [
      "ERROR:root:a=3 和 b=4 不能为负\n",
      "CRITICAL:root:3, 4 的斜边是 5.0\n"
     ]
    }
   ],
   "source": [
    "import logging\n",
    "logging.basicConfig(level=logging.ERROR)\n",
    "\n",
    "def hypotenuse(a, b):\n",
    "    \"\"\"计算三角形斜边\"\"\"\n",
    "    return (a**2 + b**2)**0.5\n",
    "\n",
    "kwargs = {'a':3, 'b':4, 'c':hypotenuse(3, 4)}\n",
    "\n",
    "logging.debug(\"a = {a}, b = {b}\".format(**kwargs))\n",
    "logging.info(\"{a}, {b} 的斜边是 {c}\".format(**kwargs))\n",
    "logging.warning(\"a={a} 和 b={b} 相等\".format(**kwargs))\n",
    "logging.error(\"a={a} 和 b={b} 不能为负\".format(**kwargs))\n",
    "logging.critical(\"{a}, {b} 的斜边是 {c}\".format(**kwargs))"
   ]
  },
  {
   "cell_type": "code",
   "execution_count": null,
   "metadata": {},
   "outputs": [],
   "source": []
  },
  {
   "cell_type": "code",
   "execution_count": 4,
   "metadata": {
    "ExecuteTime": {
     "end_time": "2019-09-21T13:09:05.222610Z",
     "start_time": "2019-09-21T13:09:05.198217Z"
    }
   },
   "outputs": [
    {
     "name": "stderr",
     "output_type": "stream",
     "text": [
      "INFO:tst:first info message\n",
      "DEBUG:tst:first debug message\n"
     ]
    }
   ],
   "source": [
    "\n",
    "import logging\n",
    "import logging.handlers\n",
    " \n",
    "LOG_FILE = 'tst.log'\n",
    " \n",
    "handler = logging.handlers.RotatingFileHandler(LOG_FILE, maxBytes = 1024*1024, backupCount = 5) # 实例化handler \n",
    "fmt = '%(asctime)s - %(filename)s:%(lineno)s - %(name)s - %(message)s'\n",
    "\n",
    "# 实例化 formatter\n",
    "formatter = logging.Formatter(fmt)    \n",
    "# 为 handler 添加 formatter\n",
    "handler.setFormatter(formatter)     \n",
    "\n",
    "# 获取名为tst的logger\n",
    "logger = logging.getLogger('tst')   \n",
    "# 为 logger 添加 handler\n",
    "logger.addHandler(handler)   \n",
    "\n",
    "logger.setLevel(logging.DEBUG)\n",
    " \n",
    "logger.info('first info message')\n",
    "logger.debug('first debug message')"
   ]
  },
  {
   "cell_type": "code",
   "execution_count": null,
   "metadata": {
    "ExecuteTime": {
     "end_time": "2019-09-21T13:09:28.032104Z",
     "start_time": "2019-09-21T13:09:27.987207Z"
    }
   },
   "outputs": [],
   "source": [
    "# %load tst.log\n",
    "2019-09-21 21:09:05,216 - <ipython-input-4-a7a793a09af4>:17 - tst - first info message\n",
    "2019-09-21 21:09:05,218 - <ipython-input-4-a7a793a09af4>:18 - tst - first debug message\n"
   ]
  },
  {
   "cell_type": "code",
   "execution_count": null,
   "metadata": {},
   "outputs": [],
   "source": []
  },
  {
   "cell_type": "code",
   "execution_count": 12,
   "metadata": {
    "ExecuteTime": {
     "end_time": "2019-09-21T13:16:51.685367Z",
     "start_time": "2019-09-21T13:16:51.670727Z"
    }
   },
   "outputs": [
    {
     "name": "stdout",
     "output_type": "stream",
     "text": [
      "Overwriting loggin.conf\n"
     ]
    }
   ],
   "source": [
    "%%file  loggin.conf\n",
    "[loggers]\n",
    "keys=root,main\n",
    " \n",
    "[handlers]\n",
    "keys=consoleHandler,fileHandler\n",
    " \n",
    "[formatters]\n",
    "keys=fmt\n",
    " \n",
    "[logger_root]\n",
    "level=DEBUG\n",
    "handlers=consoleHandler\n",
    " \n",
    "[logger_main]\n",
    "level=DEBUG\n",
    "qualname=main\n",
    "handlers=fileHandler\n",
    " \n",
    "[handler_consoleHandler]\n",
    "class=StreamHandler\n",
    "level=DEBUG\n",
    "formatter=fmt\n",
    "args=(sys.stdout,)\n",
    " \n",
    "[handler_fileHandler]\n",
    "class=logging.handlers.RotatingFileHandler\n",
    "level=DEBUG\n",
    "formatter=fmt\n",
    "args=('tst.log','a',20000,5,)\n",
    " \n",
    "[formatter_fmt]\n",
    "format=%(asctime)s - %(name)s - %(levelname)s - %(message)s\n",
    "datefmt="
   ]
  },
  {
   "cell_type": "code",
   "execution_count": 19,
   "metadata": {
    "ExecuteTime": {
     "end_time": "2019-09-21T13:22:06.822710Z",
     "start_time": "2019-09-21T13:22:06.805143Z"
    }
   },
   "outputs": [
    {
     "name": "stdout",
     "output_type": "stream",
     "text": [
      "Overwriting main.py\n"
     ]
    }
   ],
   "source": [
    "%%file main.py\n",
    "import logging\n",
    "import logging.config\n",
    "\n",
    "from os import path\n",
    "log_file_path = path.join(path.dirname(path.abspath(__file__)), 'loggin.conf')\n",
    "logging.config.fileConfig(log_file_path)\n",
    "#\n",
    "#logging.config.fileConfig('logging.conf')\n",
    "root_logger = logging.getLogger('root')\n",
    "root_logger.debug('test root logger...')\n",
    " \n",
    "logger = logging.getLogger('main')\n",
    "logger.info('test main logger')\n",
    "logger.info('start import module \\'mod\\'...')\n",
    "import mod\n",
    " \n",
    "logger.debug('let\\'s test mod.testLogger()')\n",
    "mod.testLogger()\n",
    "root_logger.info('finish test...')\n"
   ]
  },
  {
   "cell_type": "code",
   "execution_count": 14,
   "metadata": {
    "ExecuteTime": {
     "end_time": "2019-09-21T13:18:55.421262Z",
     "start_time": "2019-09-21T13:18:55.410526Z"
    }
   },
   "outputs": [
    {
     "name": "stdout",
     "output_type": "stream",
     "text": [
      "Writing mod.py\n"
     ]
    }
   ],
   "source": [
    "%%file mod.py\n",
    "import logging\n",
    "import submod\n",
    " \n",
    "logger = logging.getLogger('main.mod')\n",
    "logger.info('logger of mod say something...')\n",
    " \n",
    "def testLogger():\n",
    "    logger.debug('this is mod.testLogger...')\n",
    "    submod.tst()\n"
   ]
  },
  {
   "cell_type": "code",
   "execution_count": 21,
   "metadata": {
    "ExecuteTime": {
     "end_time": "2019-09-21T13:22:19.938234Z",
     "start_time": "2019-09-21T13:22:19.931397Z"
    }
   },
   "outputs": [
    {
     "name": "stdout",
     "output_type": "stream",
     "text": [
      "Writing submod.py\n"
     ]
    }
   ],
   "source": [
    "%%file submod.py\n",
    "import logging\n",
    " \n",
    "logger = logging.getLogger('main.mod.submod')\n",
    "logger.info('logger of submod say something...')\n",
    " \n",
    "def tst():\n",
    "    logger.info('this is submod.tst()...')\n"
   ]
  },
  {
   "cell_type": "code",
   "execution_count": 22,
   "metadata": {
    "ExecuteTime": {
     "end_time": "2019-09-21T13:22:22.906564Z",
     "start_time": "2019-09-21T13:22:22.874384Z"
    }
   },
   "outputs": [
    {
     "name": "stdout",
     "output_type": "stream",
     "text": [
      "2019-09-21 21:22:22,887 - main - INFO - test main logger\n",
      "2019-09-21 21:22:22,888 - main - INFO - start import module 'mod'...\n",
      "2019-09-21 21:22:22,898 - main.mod.submod - INFO - logger of submod say something...\n",
      "2019-09-21 21:22:22,899 - main.mod - INFO - logger of mod say something...\n",
      "2019-09-21 21:22:22,900 - main - DEBUG - let's test mod.testLogger()\n",
      "2019-09-21 21:22:22,901 - main.mod - DEBUG - this is mod.testLogger...\n",
      "2019-09-21 21:22:22,902 - main.mod.submod - INFO - this is submod.tst()...\n"
     ]
    }
   ],
   "source": [
    "%run main.py"
   ]
  },
  {
   "cell_type": "code",
   "execution_count": null,
   "metadata": {},
   "outputs": [],
   "source": []
  },
  {
   "cell_type": "code",
   "execution_count": null,
   "metadata": {},
   "outputs": [],
   "source": []
  },
  {
   "cell_type": "code",
   "execution_count": null,
   "metadata": {},
   "outputs": [],
   "source": []
  },
  {
   "cell_type": "code",
   "execution_count": null,
   "metadata": {},
   "outputs": [],
   "source": []
  },
  {
   "cell_type": "code",
   "execution_count": null,
   "metadata": {},
   "outputs": [],
   "source": []
  },
  {
   "cell_type": "code",
   "execution_count": null,
   "metadata": {},
   "outputs": [],
   "source": []
  },
  {
   "cell_type": "code",
   "execution_count": null,
   "metadata": {},
   "outputs": [],
   "source": []
  },
  {
   "cell_type": "code",
   "execution_count": null,
   "metadata": {},
   "outputs": [],
   "source": []
  },
  {
   "cell_type": "code",
   "execution_count": null,
   "metadata": {},
   "outputs": [],
   "source": []
  }
 ],
 "metadata": {
  "hide_input": false,
  "kernelspec": {
   "display_name": "Python [default]",
   "language": "python",
   "name": "python3"
  },
  "language_info": {
   "codemirror_mode": {
    "name": "ipython",
    "version": 3
   },
   "file_extension": ".py",
   "mimetype": "text/x-python",
   "name": "python",
   "nbconvert_exporter": "python",
   "pygments_lexer": "ipython3",
   "version": "3.6.5"
  },
  "toc": {
   "base_numbering": 1,
   "nav_menu": {},
   "number_sections": true,
   "sideBar": true,
   "skip_h1_title": false,
   "title_cell": "Table of Contents",
   "title_sidebar": "Contents",
   "toc_cell": false,
   "toc_position": {},
   "toc_section_display": true,
   "toc_window_display": false
  },
  "varInspector": {
   "cols": {
    "lenName": 16,
    "lenType": 16,
    "lenVar": 40
   },
   "kernels_config": {
    "python": {
     "delete_cmd_postfix": "",
     "delete_cmd_prefix": "del ",
     "library": "var_list.py",
     "varRefreshCmd": "print(var_dic_list())"
    },
    "r": {
     "delete_cmd_postfix": ") ",
     "delete_cmd_prefix": "rm(",
     "library": "var_list.r",
     "varRefreshCmd": "cat(var_dic_list()) "
    }
   },
   "types_to_exclude": [
    "module",
    "function",
    "builtin_function_or_method",
    "instance",
    "_Feature"
   ],
   "window_display": false
  }
 },
 "nbformat": 4,
 "nbformat_minor": 2
}
