{
 "cells": [
  {
   "cell_type": "markdown",
   "metadata": {},
   "source": [
    "# 來源\n",
    "\n",
    "https://cuiqingcai.com/7776.html\n",
    "\n",
    "`loguru` 不用設置麻煩的 `Handler` 比 `logging` 更快更方便\n",
    "\n",
    "同樣會有衝突(兩個 logger.add 時)"
   ]
  },
  {
   "cell_type": "code",
   "execution_count": 3,
   "metadata": {
    "ExecuteTime": {
     "end_time": "2020-05-12T22:27:27.895889Z",
     "start_time": "2020-05-12T22:27:27.891898Z"
    }
   },
   "outputs": [
    {
     "name": "stderr",
     "output_type": "stream",
     "text": [
      "2020-05-13 06:27:27.892 | DEBUG    | __main__:<module>:3 - this is a debug message\n"
     ]
    }
   ],
   "source": [
    "from loguru import logger\n",
    " \n",
    "logger.debug('this is a debug message')\n"
   ]
  },
  {
   "cell_type": "markdown",
   "metadata": {},
   "source": [
    "*有时间、级别、模块名、行号以及日志信息*\n",
    "\n",
    "将结果同时输出到一个 `test.log` 文件里面，可以这么写："
   ]
  },
  {
   "cell_type": "code",
   "execution_count": 4,
   "metadata": {
    "ExecuteTime": {
     "end_time": "2020-05-12T22:28:17.492380Z",
     "start_time": "2020-05-12T22:28:17.478429Z"
    }
   },
   "outputs": [
    {
     "data": {
      "text/plain": [
       "2"
      ]
     },
     "execution_count": 4,
     "metadata": {},
     "output_type": "execute_result"
    },
    {
     "name": "stderr",
     "output_type": "stream",
     "text": [
      "2020-05-13 06:28:17.488 | DEBUG    | __main__:<module>:4 - this is a debug\n"
     ]
    }
   ],
   "source": [
    "from loguru import logger\n",
    "\n",
    "logger.add('test.log')\n",
    "logger.debug('this is a debug')\n"
   ]
  },
  {
   "cell_type": "code",
   "execution_count": null,
   "metadata": {
    "ExecuteTime": {
     "end_time": "2020-05-12T22:41:30.314682Z",
     "start_time": "2020-05-12T22:41:30.309695Z"
    }
   },
   "outputs": [],
   "source": [
    "# %load test.log\n",
    "2020-05-13 06:04:01.640 | DEBUG    | __main__:<module>:4 - this is a debug\n"
   ]
  },
  {
   "cell_type": "markdown",
   "metadata": {},
   "source": [
    "# 详细使用\n",
    "\n",
    "首先看看它的方法定义吧：\n",
    "\n",
    "```py\n",
    "def add(\n",
    "        self,\n",
    "        sink,\n",
    "        *,\n",
    "        level=_defaults.LOGURU_LEVEL,\n",
    "        format=_defaults.LOGURU_FORMAT,\n",
    "        filter=_defaults.LOGURU_FILTER,\n",
    "        colorize=_defaults.LOGURU_COLORIZE,\n",
    "        serialize=_defaults.LOGURU_SERIALIZE,\n",
    "        backtrace=_defaults.LOGURU_BACKTRACE,\n",
    "        diagnose=_defaults.LOGURU_DIAGNOSE,\n",
    "        enqueue=_defaults.LOGURU_ENQUEUE,\n",
    "        catch=_defaults.LOGURU_CATCH,\n",
    "        **kwargs\n",
    "    ):\n",
    "    pass\n",
    "```\n",
    "\n"
   ]
  },
  {
   "cell_type": "markdown",
   "metadata": {},
   "source": [
    "* `sink` 可以传入一个 `file` 对象，例如 `sys.stderr` 或者 `open('file.log', 'w')` 都可以。\n",
    "\n",
    "* `sink` 可以直接传入一个 `str` 字符串或者 `pathlib.Path` 对象，其实就是代表文件路径的，如果识别到是这种类型，它会自动创建对应路径的日志文件并将日志输出进去。\n",
    "\n",
    "* `sink` 可以是一个方法，可以自行定义输出实现。\n",
    "\n",
    "* `sink` 可以是一个 `logging` 模块的 `Handler`，比如 `FileHandler`、`StreamHandler` 等等，这样就可以实现自定义 `Handler` 的配置。\n",
    "\n",
    "* `sink` 还可以是一个自定义的类，具体的实现规范可以参见官方文档。\n",
    "\n",
    "所以说，刚才我们所演示的输出到文件，仅仅给它传了一个 `str` 字符串路径，他就给我们创建了一个日志文件，就是这个原理。"
   ]
  },
  {
   "cell_type": "markdown",
   "metadata": {},
   "source": [
    "## 基本参数\n",
    "\n",
    "下面我们再了解下它的其他参数，例如 `format`、`filter`、`level` 等等。\n",
    "\n",
    "其实它们的概念和格式和 `logging` 模块都是基本一样的了，例如这里使用 `format`、`filter`、`level` 来规定输出的格式：\n",
    "\n",
    "```py\n",
    "logger.add('runtime.log', format=\"{time} {level} {message}\", filter=\"my_module\", level=\"INFO\")\n",
    "\n",
    "# filter 過濾 : 函數為指定時觸發\n",
    "```"
   ]
  },
  {
   "cell_type": "markdown",
   "metadata": {},
   "source": [
    "## 删除 sink"
   ]
  },
  {
   "cell_type": "code",
   "execution_count": 6,
   "metadata": {
    "ExecuteTime": {
     "end_time": "2020-05-12T22:28:41.211006Z",
     "start_time": "2020-05-12T22:28:41.201032Z"
    }
   },
   "outputs": [
    {
     "name": "stderr",
     "output_type": "stream",
     "text": [
      "2020-05-13 06:28:41.204 | DEBUG    | __main__:<module>:4 - this is a debug message\n",
      "2020-05-13 06:28:41.206 | DEBUG    | __main__:<module>:6 - this is another debug message\n",
      "2020-05-13 06:28:41.207 | DEBUG    | __main__:<module>:7 - this is another debug message2\n",
      "2020-05-13 06:28:41.208 | DEBUG    | __main__:<module>:8 - this is another debug message3\n"
     ]
    }
   ],
   "source": [
    "from loguru import logger\n",
    " \n",
    "trace = logger.add('runtime.log')\n",
    "logger.debug('this is a debug message')\n",
    "logger.remove(trace)\n",
    "logger.debug('this is another debug message')\n",
    "logger.debug('this is another debug message2')\n",
    "logger.debug('this is another debug message3')"
   ]
  },
  {
   "cell_type": "code",
   "execution_count": null,
   "metadata": {
    "ExecuteTime": {
     "end_time": "2020-05-12T22:28:43.365121Z",
     "start_time": "2020-05-12T22:28:43.354149Z"
    }
   },
   "outputs": [],
   "source": [
    "# %load runtime.log\n",
    "2020-05-13 06:28:41.204 | DEBUG    | __main__:<module>:4 - this is a debug message\n"
   ]
  },
  {
   "cell_type": "markdown",
   "metadata": {},
   "source": [
    "可以发现，在调用 `remove` 方法之后，确实将历史 `log` 删除了。但实际上这并不是删除，只不过是将 `sink` 对象移除之后，在这 **之後的内容** 不会再输出到日志中。\n",
    "\n",
    "这样我们就可以实现日志的刷新重新写入操作。\n",
    "\n",
    "如有重複 `logger.add` 會造成日誌混亂，無法正確 `remove` 或者刪除到最前面的 `sink(logger.add)` "
   ]
  },
  {
   "cell_type": "markdown",
   "metadata": {},
   "source": [
    "## rotation 配置\n",
    "\n",
    "用了 `loguru` 我们还可以非常方便地使用 `rotation` 配置，比如我们想一天输出一个日志文件，或者文件太大了自动分隔日志文件，我们可以直接使用 `add` 方法的 `rotation` 参数进行配置。\n",
    "\n",
    "```py\n",
    "# 每 500MB 存储一个文件\n",
    "logger.add('runtime_{time}.log', rotation=\"500 MB\")\n",
    "\n",
    "# 每天 0 点新创建一个 log 文件\n",
    "logger.add('runtime_{time}.log', rotation='00:00')\n",
    "\n",
    "# 每隔一周创建一个 log 文件\n",
    "logger.add('runtime_{time}.log', rotation='1 week')\n",
    "```\n"
   ]
  },
  {
   "cell_type": "markdown",
   "metadata": {},
   "source": [
    "## retention 配置\n",
    "\n",
    "很多情况下，一些非常久远的 `log` 对我们来说并没有什么用处了，它白白占据了一些存储空间，不清除掉就会非常浪费。\n",
    "\n",
    "`retention` 这个参数可以配置日志的最长保留时间。\n",
    "\n",
    "```py\n",
    "# 设置日志文件最长保留 10 天\n",
    "logger.add('runtime.log', retention='10 days')\n",
    "```\n",
    "\n",
    "\n"
   ]
  },
  {
   "cell_type": "markdown",
   "metadata": {},
   "source": [
    "## compression 配置\n",
    "\n",
    "`loguru` 还可以配置文件的压缩格式，比如使用 `zip` 文件格式保存，示例如下：\n",
    "\n",
    "```py\n",
    "logger.add('runtime.log', compression='zip')\n",
    "```\n"
   ]
  },
  {
   "cell_type": "markdown",
   "metadata": {},
   "source": [
    "## 字符串格式化\n",
    "\n",
    "`loguru` 在输出 `log` 的时候还提供了非常友好的字符串格式化功能(類似 `str.format()` )，像这样：\n",
    "\n",
    "```py\n",
    "logger.info('If you are using Python {}, prefer {feature} of course!', 3.6, feature='f-strings')\n",
    "```\n",
    "\n"
   ]
  },
  {
   "cell_type": "markdown",
   "metadata": {},
   "source": [
    "## Traceback 记录\n",
    "\n",
    "运行完毕之后，可以发现 `log` 里面就出现了 `Traceback` 信息，而且给我们输出了当时的变量值"
   ]
  },
  {
   "cell_type": "code",
   "execution_count": 8,
   "metadata": {
    "ExecuteTime": {
     "end_time": "2020-05-12T22:40:32.667461Z",
     "start_time": "2020-05-12T22:40:32.663471Z"
    }
   },
   "outputs": [],
   "source": [
    "@logger.catch\n",
    "def my_function(x, y, z):\n",
    "    # An error? It's caught anyway!\n",
    "    return 1 / (x + y + z)"
   ]
  },
  {
   "cell_type": "code",
   "execution_count": 9,
   "metadata": {
    "ExecuteTime": {
     "end_time": "2020-05-12T22:40:36.175122Z",
     "start_time": "2020-05-12T22:40:35.809649Z"
    }
   },
   "outputs": [
    {
     "name": "stderr",
     "output_type": "stream",
     "text": [
      "2020-05-13 06:40:35.810 | ERROR    | __main__:<module>:1 - An error has been caught in function '<module>', process 'MainProcess' (29936), thread 'MainThread' (132):\n",
      "Traceback (most recent call last):\n",
      "\n",
      "  File \"D:\\anaconda\\lib\\runpy.py\", line 193, in _run_module_as_main\n",
      "    \"__main__\", mod_spec)\n",
      "                └ ModuleSpec(name='ipykernel.__main__', loader=<_frozen_importlib_external.SourceFileLoader object at 0x0000023171AB1518>, orig...\n",
      "\n",
      "  File \"D:\\anaconda\\lib\\runpy.py\", line 85, in _run_code\n",
      "    exec(code, run_globals)\n",
      "         │     └ {'__name__': '__main__', '__doc__': None, '__package__': 'ipykernel', '__loader__': <_frozen_importlib_external.SourceFileLoa...\n",
      "         └ <code object <module> at 0x0000023171A685D0, file \"D:\\anaconda\\lib\\site-packages\\ipykernel\\__main__.py\", line 1>\n",
      "\n",
      "  File \"D:\\anaconda\\lib\\site-packages\\ipykernel\\__main__.py\", line 3, in <module>\n",
      "    app.launch_new_instance()\n",
      "    │   └ <bound method Application.launch_instance of <class 'ipykernel.kernelapp.IPKernelApp'>>\n",
      "    └ <module 'ipykernel.kernelapp' from 'D:\\\\anaconda\\\\lib\\\\site-packages\\\\ipykernel\\\\kernelapp.py'>\n",
      "\n",
      "  File \"D:\\anaconda\\lib\\site-packages\\traitlets\\config\\application.py\", line 658, in launch_instance\n",
      "    app.start()\n",
      "    │   └ <function IPKernelApp.start at 0x0000023173C7AF28>\n",
      "    └ <ipykernel.kernelapp.IPKernelApp object at 0x000002316FC7C390>\n",
      "\n",
      "  File \"D:\\anaconda\\lib\\site-packages\\ipykernel\\kernelapp.py\", line 486, in start\n",
      "    self.io_loop.start()\n",
      "    │    │       └ <function BaseAsyncIOLoop.start at 0x0000023173375D08>\n",
      "    │    └ <tornado.platform.asyncio.AsyncIOMainLoop object at 0x0000023173C8CC88>\n",
      "    └ <ipykernel.kernelapp.IPKernelApp object at 0x000002316FC7C390>\n",
      "\n",
      "  File \"D:\\anaconda\\lib\\site-packages\\tornado\\platform\\asyncio.py\", line 127, in start\n",
      "    self.asyncio_loop.run_forever()\n",
      "    │    │            └ <function BaseEventLoop.run_forever at 0x0000023173241840>\n",
      "    │    └ <_WindowsSelectorEventLoop running=True closed=False debug=False>\n",
      "    └ <tornado.platform.asyncio.AsyncIOMainLoop object at 0x0000023173C8CC88>\n",
      "\n",
      "  File \"D:\\anaconda\\lib\\asyncio\\base_events.py\", line 422, in run_forever\n",
      "    self._run_once()\n",
      "    │    └ <function BaseEventLoop._run_once at 0x0000023173243D08>\n",
      "    └ <_WindowsSelectorEventLoop running=True closed=False debug=False>\n",
      "\n",
      "  File \"D:\\anaconda\\lib\\asyncio\\base_events.py\", line 1432, in _run_once\n",
      "    handle._run()\n",
      "    │      └ <function Handle._run at 0x00000231731EBC80>\n",
      "    └ <Handle BaseAsyncIOLoop._handle_events(928, 1)>\n",
      "\n",
      "  File \"D:\\anaconda\\lib\\asyncio\\events.py\", line 145, in _run\n",
      "    self._callback(*self._args)\n",
      "    │    │          │    └ <member '_args' of 'Handle' objects>\n",
      "    │    │          └ <Handle BaseAsyncIOLoop._handle_events(928, 1)>\n",
      "    │    └ <member '_callback' of 'Handle' objects>\n",
      "    └ <Handle BaseAsyncIOLoop._handle_events(928, 1)>\n",
      "\n",
      "  File \"D:\\anaconda\\lib\\site-packages\\tornado\\platform\\asyncio.py\", line 117, in _handle_events\n",
      "    handler_func(fileobj, events)\n",
      "    │            │        └ 1\n",
      "    │            └ <zmq.sugar.socket.Socket object at 0x0000023173CB0800>\n",
      "    └ <function wrap.<locals>.null_wrapper at 0x0000023173C80EA0>\n",
      "\n",
      "  File \"D:\\anaconda\\lib\\site-packages\\tornado\\stack_context.py\", line 276, in null_wrapper\n",
      "    return fn(*args, **kwargs)\n",
      "           │   │       └ {}\n",
      "           │   └ (<zmq.sugar.socket.Socket object at 0x0000023173CB0800>, 1)\n",
      "           └ <bound method ZMQStream._handle_events of <zmq.eventloop.zmqstream.ZMQStream object at 0x0000023173C8C748>>\n",
      "\n",
      "  File \"D:\\anaconda\\lib\\site-packages\\zmq\\eventloop\\zmqstream.py\", line 450, in _handle_events\n",
      "    self._handle_recv()\n",
      "    │    └ <function ZMQStream._handle_recv at 0x0000023173380620>\n",
      "    └ <zmq.eventloop.zmqstream.ZMQStream object at 0x0000023173C8C748>\n",
      "\n",
      "  File \"D:\\anaconda\\lib\\site-packages\\zmq\\eventloop\\zmqstream.py\", line 480, in _handle_recv\n",
      "    self._run_callback(callback, msg)\n",
      "    │    │             │         └ [<zmq.sugar.frame.Frame object at 0x0000023173EF08E8>, <zmq.sugar.frame.Frame object at 0x0000023173EF09A0>, <zmq.sugar.frame...\n",
      "    │    │             └ <function wrap.<locals>.null_wrapper at 0x0000023173DCC598>\n",
      "    │    └ <function ZMQStream._run_callback at 0x0000023173380510>\n",
      "    └ <zmq.eventloop.zmqstream.ZMQStream object at 0x0000023173C8C748>\n",
      "\n",
      "  File \"D:\\anaconda\\lib\\site-packages\\zmq\\eventloop\\zmqstream.py\", line 432, in _run_callback\n",
      "    callback(*args, **kwargs)\n",
      "    │         │       └ {}\n",
      "    │         └ ([<zmq.sugar.frame.Frame object at 0x0000023173EF08E8>, <zmq.sugar.frame.Frame object at 0x0000023173EF09A0>, <zmq.sugar.fram...\n",
      "    └ <function wrap.<locals>.null_wrapper at 0x0000023173DCC598>\n",
      "\n",
      "  File \"D:\\anaconda\\lib\\site-packages\\tornado\\stack_context.py\", line 276, in null_wrapper\n",
      "    return fn(*args, **kwargs)\n",
      "           │   │       └ {}\n",
      "           │   └ ([<zmq.sugar.frame.Frame object at 0x0000023173EF08E8>, <zmq.sugar.frame.Frame object at 0x0000023173EF09A0>, <zmq.sugar.fram...\n",
      "           └ <function Kernel.start.<locals>.make_dispatcher.<locals>.dispatcher at 0x0000023173DCC510>\n",
      "\n",
      "  File \"D:\\anaconda\\lib\\site-packages\\ipykernel\\kernelbase.py\", line 283, in dispatcher\n",
      "    return self.dispatch_shell(stream, msg)\n",
      "           │    │              │       └ [<zmq.sugar.frame.Frame object at 0x0000023173EF08E8>, <zmq.sugar.frame.Frame object at 0x0000023173EF09A0>, <zmq.sugar.frame...\n",
      "           │    │              └ <zmq.eventloop.zmqstream.ZMQStream object at 0x0000023173C8C748>\n",
      "           │    └ <function Kernel.dispatch_shell at 0x0000023173C612F0>\n",
      "           └ <ipykernel.ipkernel.IPythonKernel object at 0x0000023173C8CB38>\n",
      "\n",
      "  File \"D:\\anaconda\\lib\\site-packages\\ipykernel\\kernelbase.py\", line 233, in dispatch_shell\n",
      "    handler(stream, idents, msg)\n",
      "    │       │       │       └ {'header': {'msg_id': 'b61f1c125cf449c59a81e4868c1136c1', 'username': 'username', 'session': '792f3bc3f62d418d924cd997f224f4b...\n",
      "    │       │       └ [b'792f3bc3f62d418d924cd997f224f4b9']\n",
      "    │       └ <zmq.eventloop.zmqstream.ZMQStream object at 0x0000023173C8C748>\n",
      "    └ <bound method Kernel.execute_request of <ipykernel.ipkernel.IPythonKernel object at 0x0000023173C8CB38>>\n",
      "\n",
      "  File \"D:\\anaconda\\lib\\site-packages\\ipykernel\\kernelbase.py\", line 399, in execute_request\n",
      "    user_expressions, allow_stdin)\n",
      "    │                 └ True\n",
      "    └ {}\n",
      "\n",
      "  File \"D:\\anaconda\\lib\\site-packages\\ipykernel\\ipkernel.py\", line 208, in do_execute\n",
      "    res = shell.run_cell(code, store_history=store_history, silent=silent)\n",
      "          │     │        │                   │                     └ False\n",
      "          │     │        │                   └ True\n",
      "          │     │        └ 'my_function(0, 0, 0)'\n",
      "          │     └ <function ZMQInteractiveShell.run_cell at 0x0000023173C74158>\n",
      "          └ <ipykernel.zmqshell.ZMQInteractiveShell object at 0x0000023173C8CF60>\n",
      "\n",
      "  File \"D:\\anaconda\\lib\\site-packages\\ipykernel\\zmqshell.py\", line 537, in run_cell\n",
      "    return super(ZMQInteractiveShell, self).run_cell(*args, **kwargs)\n",
      "                 │                    │               │       └ {'store_history': True, 'silent': False}\n",
      "                 │                    │               └ ('my_function(0, 0, 0)',)\n",
      "                 │                    └ <ipykernel.zmqshell.ZMQInteractiveShell object at 0x0000023173C8CF60>\n",
      "                 └ <class 'ipykernel.zmqshell.ZMQInteractiveShell'>\n",
      "\n",
      "  File \"D:\\anaconda\\lib\\site-packages\\IPython\\core\\interactiveshell.py\", line 2662, in run_cell\n",
      "    raw_cell, store_history, silent, shell_futures)\n",
      "    │         │              │       └ True\n",
      "    │         │              └ False\n",
      "    │         └ True\n",
      "    └ 'my_function(0, 0, 0)'\n",
      "\n",
      "  File \"D:\\anaconda\\lib\\site-packages\\IPython\\core\\interactiveshell.py\", line 2785, in _run_cell\n",
      "    interactivity=interactivity, compiler=compiler, result=result)\n",
      "                  │                       │                └ <ExecutionResult object at 23173ef2a20, execution_count=9 error_before_exec=None error_in_exec=None info=<ExecutionInfo objec...\n",
      "                  │                       └ <IPython.core.compilerop.CachingCompiler object at 0x0000023173CD4128>\n",
      "                  └ 'all'\n",
      "\n",
      "  File \"D:\\anaconda\\lib\\site-packages\\IPython\\core\\interactiveshell.py\", line 2909, in run_ast_nodes\n",
      "    if self.run_code(code, result):\n",
      "       │    │        │     └ <ExecutionResult object at 23173ef2a20, execution_count=9 error_before_exec=None error_in_exec=None info=<ExecutionInfo objec...\n",
      "       │    │        └ <code object <module> at 0x0000023173EC9A50, file \"<ipython-input-9-7d03f1b15a39>\", line 1>\n",
      "       │    └ <function InteractiveShell.run_code at 0x000002317284C7B8>\n",
      "       └ <ipykernel.zmqshell.ZMQInteractiveShell object at 0x0000023173C8CF60>\n",
      "\n",
      "  File \"D:\\anaconda\\lib\\site-packages\\IPython\\core\\interactiveshell.py\", line 2963, in run_code\n",
      "    exec(code_obj, self.user_global_ns, self.user_ns)\n",
      "         │         │    │               │    └ {'__name__': '__main__', '__doc__': 'Automatically created module for IPython interactive environment', '__package__': None, ...\n",
      "         │         │    │               └ <ipykernel.zmqshell.ZMQInteractiveShell object at 0x0000023173C8CF60>\n",
      "         │         │    └ <property object at 0x000002317281C3B8>\n",
      "         │         └ <ipykernel.zmqshell.ZMQInteractiveShell object at 0x0000023173C8CF60>\n",
      "         └ <code object <module> at 0x0000023173EC9A50, file \"<ipython-input-9-7d03f1b15a39>\", line 1>\n",
      "\n",
      "> File \"<ipython-input-9-7d03f1b15a39>\", line 1, in <module>\n",
      "    my_function(0, 0, 0)\n",
      "    └ <function my_function at 0x0000023173EBBA60>\n",
      "  File \"<ipython-input-8-3dce1744837d>\", line 4, in my_function\n",
      "    return 1 / (x + y + z)\n",
      "                │   │   └ 0\n",
      "                │   └ 0\n",
      "                └ 0\n",
      "\n",
      "ZeroDivisionError: division by zero\n"
     ]
    }
   ],
   "source": [
    "my_function(0, 0, 0)"
   ]
  },
  {
   "cell_type": "code",
   "execution_count": null,
   "metadata": {
    "ExecuteTime": {
     "end_time": "2020-05-12T22:44:20.746246Z",
     "start_time": "2020-05-12T22:44:20.742230Z"
    }
   },
   "outputs": [],
   "source": [
    "# %load test.log 會有衝突(兩個 logger.add 時)\n",
    "2020-05-13 06:28:17.488 | DEBUG    | __main__:<module>:4 - this is a debug\n",
    "2020-05-13 06:28:41.204 | DEBUG    | __main__:<module>:4 - this is a debug message\n",
    "2020-05-13 06:28:41.206 | DEBUG    | __main__:<module>:6 - this is another debug message\n",
    "2020-05-13 06:28:41.207 | DEBUG    | __main__:<module>:7 - this is another debug message2\n",
    "2020-05-13 06:28:41.208 | DEBUG    | __main__:<module>:8 - this is another debug message3\n",
    "2020-05-13 06:40:35.810 | ERROR    | __main__:<module>:1 - An error has been caught in function '<module>', process 'MainProcess' (29936), thread 'MainThread' (132):\n",
    "Traceback (most recent call last):\n",
    "\n",
    "  File \"D:\\anaconda\\lib\\runpy.py\", line 193, in _run_module_as_main\n",
    "    \"__main__\", mod_spec)\n",
    "                ¢| ModuleSpec(name='ipykernel.__main__', loader=<_frozen_importlib_external.SourceFileLoader object at 0x0000023171AB1518>, orig...\n",
    "\n",
    "  File \"D:\\anaconda\\lib\\runpy.py\", line 85, in _run_code\n",
    "    exec(code, run_globals)\n",
    "         ¢x     ¢| {'__name__': '__main__', '__doc__': None, '__package__': 'ipykernel', '__loader__': <_frozen_importlib_external.SourceFileLoa...\n",
    "         ¢| <code object <module> at 0x0000023171A685D0, file \"D:\\anaconda\\lib\\site-packages\\ipykernel\\__main__.py\", line 1>\n",
    "\n",
    "  File \"D:\\anaconda\\lib\\site-packages\\ipykernel\\__main__.py\", line 3, in <module>\n",
    "    app.launch_new_instance()\n",
    "    ¢x   ¢| <bound method Application.launch_instance of <class 'ipykernel.kernelapp.IPKernelApp'>>\n",
    "    ¢| <module 'ipykernel.kernelapp' from 'D:\\\\anaconda\\\\lib\\\\site-packages\\\\ipykernel\\\\kernelapp.py'>\n",
    "\n",
    "  File \"D:\\anaconda\\lib\\site-packages\\traitlets\\config\\application.py\", line 658, in launch_instance\n",
    "    app.start()\n",
    "    ¢x   ¢| <function IPKernelApp.start at 0x0000023173C7AF28>\n",
    "    ¢| <ipykernel.kernelapp.IPKernelApp object at 0x000002316FC7C390>\n",
    "\n",
    "  File \"D:\\anaconda\\lib\\site-packages\\ipykernel\\kernelapp.py\", line 486, in start\n",
    "    self.io_loop.start()\n",
    "    ¢x    ¢x       ¢| <function BaseAsyncIOLoop.start at 0x0000023173375D08>\n",
    "    ¢x    ¢| <tornado.platform.asyncio.AsyncIOMainLoop object at 0x0000023173C8CC88>\n",
    "    ¢| <ipykernel.kernelapp.IPKernelApp object at 0x000002316FC7C390>\n",
    "\n",
    "  File \"D:\\anaconda\\lib\\site-packages\\tornado\\platform\\asyncio.py\", line 127, in start\n",
    "    self.asyncio_loop.run_forever()\n",
    "    ¢x    ¢x            ¢| <function BaseEventLoop.run_forever at 0x0000023173241840>\n",
    "    ¢x    ¢| <_WindowsSelectorEventLoop running=True closed=False debug=False>\n",
    "    ¢| <tornado.platform.asyncio.AsyncIOMainLoop object at 0x0000023173C8CC88>\n",
    "\n",
    "  File \"D:\\anaconda\\lib\\asyncio\\base_events.py\", line 422, in run_forever\n",
    "    self._run_once()\n",
    "    ¢x    ¢| <function BaseEventLoop._run_once at 0x0000023173243D08>\n",
    "    ¢| <_WindowsSelectorEventLoop running=True closed=False debug=False>\n",
    "\n",
    "  File \"D:\\anaconda\\lib\\asyncio\\base_events.py\", line 1432, in _run_once\n",
    "    handle._run()\n",
    "    ¢x      ¢| <function Handle._run at 0x00000231731EBC80>\n",
    "    ¢| <Handle BaseAsyncIOLoop._handle_events(928, 1)>\n",
    "\n",
    "  File \"D:\\anaconda\\lib\\asyncio\\events.py\", line 145, in _run\n",
    "    self._callback(*self._args)\n",
    "    ¢x    ¢x          ¢x    ¢| <member '_args' of 'Handle' objects>\n",
    "    ¢x    ¢x          ¢| <Handle BaseAsyncIOLoop._handle_events(928, 1)>\n",
    "    ¢x    ¢| <member '_callback' of 'Handle' objects>\n",
    "    ¢| <Handle BaseAsyncIOLoop._handle_events(928, 1)>\n",
    "\n",
    "  File \"D:\\anaconda\\lib\\site-packages\\tornado\\platform\\asyncio.py\", line 117, in _handle_events\n",
    "    handler_func(fileobj, events)\n",
    "    ¢x            ¢x        ¢| 1\n",
    "    ¢x            ¢| <zmq.sugar.socket.Socket object at 0x0000023173CB0800>\n",
    "    ¢| <function wrap.<locals>.null_wrapper at 0x0000023173C80EA0>\n",
    "\n",
    "  File \"D:\\anaconda\\lib\\site-packages\\tornado\\stack_context.py\", line 276, in null_wrapper\n",
    "    return fn(*args, **kwargs)\n",
    "           ¢x   ¢x       ¢| {}\n",
    "           ¢x   ¢| (<zmq.sugar.socket.Socket object at 0x0000023173CB0800>, 1)\n",
    "           ¢| <bound method ZMQStream._handle_events of <zmq.eventloop.zmqstream.ZMQStream object at 0x0000023173C8C748>>\n",
    "\n",
    "  File \"D:\\anaconda\\lib\\site-packages\\zmq\\eventloop\\zmqstream.py\", line 450, in _handle_events\n",
    "    self._handle_recv()\n",
    "    ¢x    ¢| <function ZMQStream._handle_recv at 0x0000023173380620>\n",
    "    ¢| <zmq.eventloop.zmqstream.ZMQStream object at 0x0000023173C8C748>\n",
    "\n",
    "  File \"D:\\anaconda\\lib\\site-packages\\zmq\\eventloop\\zmqstream.py\", line 480, in _handle_recv\n",
    "    self._run_callback(callback, msg)\n",
    "    ¢x    ¢x             ¢x         ¢| [<zmq.sugar.frame.Frame object at 0x0000023173EF08E8>, <zmq.sugar.frame.Frame object at 0x0000023173EF09A0>, <zmq.sugar.frame...\n",
    "    ¢x    ¢x             ¢| <function wrap.<locals>.null_wrapper at 0x0000023173DCC598>\n",
    "    ¢x    ¢| <function ZMQStream._run_callback at 0x0000023173380510>\n",
    "    ¢| <zmq.eventloop.zmqstream.ZMQStream object at 0x0000023173C8C748>\n",
    "\n",
    "  File \"D:\\anaconda\\lib\\site-packages\\zmq\\eventloop\\zmqstream.py\", line 432, in _run_callback\n",
    "    callback(*args, **kwargs)\n",
    "    ¢x         ¢x       ¢| {}\n",
    "    ¢x         ¢| ([<zmq.sugar.frame.Frame object at 0x0000023173EF08E8>, <zmq.sugar.frame.Frame object at 0x0000023173EF09A0>, <zmq.sugar.fram...\n",
    "    ¢| <function wrap.<locals>.null_wrapper at 0x0000023173DCC598>\n",
    "\n",
    "  File \"D:\\anaconda\\lib\\site-packages\\tornado\\stack_context.py\", line 276, in null_wrapper\n",
    "    return fn(*args, **kwargs)\n",
    "           ¢x   ¢x       ¢| {}\n",
    "           ¢x   ¢| ([<zmq.sugar.frame.Frame object at 0x0000023173EF08E8>, <zmq.sugar.frame.Frame object at 0x0000023173EF09A0>, <zmq.sugar.fram...\n",
    "           ¢| <function Kernel.start.<locals>.make_dispatcher.<locals>.dispatcher at 0x0000023173DCC510>\n",
    "\n",
    "  File \"D:\\anaconda\\lib\\site-packages\\ipykernel\\kernelbase.py\", line 283, in dispatcher\n",
    "    return self.dispatch_shell(stream, msg)\n",
    "           ¢x    ¢x              ¢x       ¢| [<zmq.sugar.frame.Frame object at 0x0000023173EF08E8>, <zmq.sugar.frame.Frame object at 0x0000023173EF09A0>, <zmq.sugar.frame...\n",
    "           ¢x    ¢x              ¢| <zmq.eventloop.zmqstream.ZMQStream object at 0x0000023173C8C748>\n",
    "           ¢x    ¢| <function Kernel.dispatch_shell at 0x0000023173C612F0>\n",
    "           ¢| <ipykernel.ipkernel.IPythonKernel object at 0x0000023173C8CB38>\n",
    "\n",
    "  File \"D:\\anaconda\\lib\\site-packages\\ipykernel\\kernelbase.py\", line 233, in dispatch_shell\n",
    "    handler(stream, idents, msg)\n",
    "    ¢x       ¢x       ¢x       ¢| {'header': {'msg_id': 'b61f1c125cf449c59a81e4868c1136c1', 'username': 'username', 'session': '792f3bc3f62d418d924cd997f224f4b...\n",
    "    ¢x       ¢x       ¢| [b'792f3bc3f62d418d924cd997f224f4b9']\n",
    "    ¢x       ¢| <zmq.eventloop.zmqstream.ZMQStream object at 0x0000023173C8C748>\n",
    "    ¢| <bound method Kernel.execute_request of <ipykernel.ipkernel.IPythonKernel object at 0x0000023173C8CB38>>\n",
    "\n",
    "  File \"D:\\anaconda\\lib\\site-packages\\ipykernel\\kernelbase.py\", line 399, in execute_request\n",
    "    user_expressions, allow_stdin)\n",
    "    ¢x                 ¢| True\n",
    "    ¢| {}\n",
    "\n",
    "  File \"D:\\anaconda\\lib\\site-packages\\ipykernel\\ipkernel.py\", line 208, in do_execute\n",
    "    res = shell.run_cell(code, store_history=store_history, silent=silent)\n",
    "          ¢x     ¢x        ¢x                   ¢x                     ¢| False\n",
    "          ¢x     ¢x        ¢x                   ¢| True\n",
    "          ¢x     ¢x        ¢| 'my_function(0, 0, 0)'\n",
    "          ¢x     ¢| <function ZMQInteractiveShell.run_cell at 0x0000023173C74158>\n",
    "          ¢| <ipykernel.zmqshell.ZMQInteractiveShell object at 0x0000023173C8CF60>\n",
    "\n",
    "  File \"D:\\anaconda\\lib\\site-packages\\ipykernel\\zmqshell.py\", line 537, in run_cell\n",
    "    return super(ZMQInteractiveShell, self).run_cell(*args, **kwargs)\n",
    "                 ¢x                    ¢x               ¢x       ¢| {'store_history': True, 'silent': False}\n",
    "                 ¢x                    ¢x               ¢| ('my_function(0, 0, 0)',)\n",
    "                 ¢x                    ¢| <ipykernel.zmqshell.ZMQInteractiveShell object at 0x0000023173C8CF60>\n",
    "                 ¢| <class 'ipykernel.zmqshell.ZMQInteractiveShell'>\n",
    "\n",
    "  File \"D:\\anaconda\\lib\\site-packages\\IPython\\core\\interactiveshell.py\", line 2662, in run_cell\n",
    "    raw_cell, store_history, silent, shell_futures)\n",
    "    ¢x         ¢x              ¢x       ¢| True\n",
    "    ¢x         ¢x              ¢| False\n",
    "    ¢x         ¢| True\n",
    "    ¢| 'my_function(0, 0, 0)'\n",
    "\n",
    "  File \"D:\\anaconda\\lib\\site-packages\\IPython\\core\\interactiveshell.py\", line 2785, in _run_cell\n",
    "    interactivity=interactivity, compiler=compiler, result=result)\n",
    "                  ¢x                       ¢x                ¢| <ExecutionResult object at 23173ef2a20, execution_count=9 error_before_exec=None error_in_exec=None info=<ExecutionInfo objec...\n",
    "                  ¢x                       ¢| <IPython.core.compilerop.CachingCompiler object at 0x0000023173CD4128>\n",
    "                  ¢| 'all'\n",
    "\n",
    "  File \"D:\\anaconda\\lib\\site-packages\\IPython\\core\\interactiveshell.py\", line 2909, in run_ast_nodes\n",
    "    if self.run_code(code, result):\n",
    "       ¢x    ¢x        ¢x     ¢| <ExecutionResult object at 23173ef2a20, execution_count=9 error_before_exec=None error_in_exec=None info=<ExecutionInfo objec...\n",
    "       ¢x    ¢x        ¢| <code object <module> at 0x0000023173EC9A50, file \"<ipython-input-9-7d03f1b15a39>\", line 1>\n",
    "       ¢x    ¢| <function InteractiveShell.run_code at 0x000002317284C7B8>\n",
    "       ¢| <ipykernel.zmqshell.ZMQInteractiveShell object at 0x0000023173C8CF60>\n",
    "\n",
    "  File \"D:\\anaconda\\lib\\site-packages\\IPython\\core\\interactiveshell.py\", line 2963, in run_code\n",
    "    exec(code_obj, self.user_global_ns, self.user_ns)\n",
    "         ¢x         ¢x    ¢x               ¢x    ¢| {'__name__': '__main__', '__doc__': 'Automatically created module for IPython interactive environment', '__package__': None, ...\n",
    "         ¢x         ¢x    ¢x               ¢| <ipykernel.zmqshell.ZMQInteractiveShell object at 0x0000023173C8CF60>\n",
    "         ¢x         ¢x    ¢| <property object at 0x000002317281C3B8>\n",
    "         ¢x         ¢| <ipykernel.zmqshell.ZMQInteractiveShell object at 0x0000023173C8CF60>\n",
    "         ¢| <code object <module> at 0x0000023173EC9A50, file \"<ipython-input-9-7d03f1b15a39>\", line 1>\n",
    "\n",
    "> File \"<ipython-input-9-7d03f1b15a39>\", line 1, in <module>\n",
    "    my_function(0, 0, 0)\n",
    "    ¢| <function my_function at 0x0000023173EBBA60>\n",
    "  File \"<ipython-input-8-3dce1744837d>\", line 4, in my_function\n",
    "    return 1 / (x + y + z)\n",
    "                ¢x   ¢x   ¢| 0\n",
    "                ¢x   ¢| 0\n",
    "                ¢| 0\n",
    "\n",
    "ZeroDivisionError: division by zero\n"
   ]
  },
  {
   "cell_type": "markdown",
   "metadata": {},
   "source": [
    "# 多模块使用\n",
    "\n",
    "在主程式 `logger.add` 其他被引用的程式不加，才能正確輸出，否則會重複輸出，造成混亂"
   ]
  },
  {
   "cell_type": "code",
   "execution_count": 8,
   "metadata": {
    "ExecuteTime": {
     "end_time": "2020-05-12T23:26:29.120593Z",
     "start_time": "2020-05-12T23:26:29.115602Z"
    }
   },
   "outputs": [
    {
     "name": "stdout",
     "output_type": "stream",
     "text": [
      "Overwriting main.py\n"
     ]
    }
   ],
   "source": [
    "%%file main.py\n",
    "\n",
    "from loguru import logger\n",
    "\n",
    "logger.remove()\n",
    "logger.add('muti.log',enqueue=True)\n",
    "logger.debug('test root logger...')\n",
    "\n",
    "logger.debug('test main logger')\n",
    "\n",
    "logger.info('start import module \\'mod\\'...')\n",
    "import mod\n",
    " \n",
    "logger.debug('let\\'s test mod.testLogger()')\n",
    "mod.testLogger()\n",
    "logger.info('finish test...')"
   ]
  },
  {
   "cell_type": "code",
   "execution_count": 9,
   "metadata": {
    "ExecuteTime": {
     "end_time": "2020-05-12T23:26:29.751177Z",
     "start_time": "2020-05-12T23:26:29.746163Z"
    }
   },
   "outputs": [
    {
     "name": "stdout",
     "output_type": "stream",
     "text": [
      "Overwriting mod.py\n"
     ]
    }
   ],
   "source": [
    "%%file mod.py\n",
    "\n",
    "from loguru import logger\n",
    "import submod\n",
    "\n",
    "logger.info('logger of mod say something...')\n",
    " \n",
    "def testLogger():\n",
    "    logger.debug('this is mod.testLogger...')\n",
    "    submod.tst()\n"
   ]
  },
  {
   "cell_type": "code",
   "execution_count": 10,
   "metadata": {
    "ExecuteTime": {
     "end_time": "2020-05-12T23:26:30.988784Z",
     "start_time": "2020-05-12T23:26:30.983823Z"
    }
   },
   "outputs": [
    {
     "name": "stdout",
     "output_type": "stream",
     "text": [
      "Overwriting submod.py\n"
     ]
    }
   ],
   "source": [
    "%%file submod.py\n",
    "\n",
    "from loguru import logger\n",
    "\n",
    "logger.info('logger of submod say something...')\n",
    " \n",
    "def tst():\n",
    "    logger.info('this is submod.tst()...')"
   ]
  },
  {
   "cell_type": "code",
   "execution_count": 1,
   "metadata": {
    "ExecuteTime": {
     "end_time": "2020-05-12T23:26:45.139346Z",
     "start_time": "2020-05-12T23:26:45.075544Z"
    }
   },
   "outputs": [],
   "source": [
    "%run main.py"
   ]
  },
  {
   "cell_type": "code",
   "execution_count": null,
   "metadata": {
    "ExecuteTime": {
     "end_time": "2020-05-12T23:26:48.744600Z",
     "start_time": "2020-05-12T23:26:48.732582Z"
    }
   },
   "outputs": [],
   "source": [
    "# %load muti.log\n",
    "\n",
    "2020-05-13 07:26:45.117 | DEBUG    | __main__:<module>:6 - test root logger...\n",
    "2020-05-13 07:26:45.118 | DEBUG    | __main__:<module>:8 - test main logger\n",
    "2020-05-13 07:26:45.118 | INFO     | __main__:<module>:10 - start import module 'mod'...\n",
    "2020-05-13 07:26:45.134 | INFO     | submod:<module>:4 - logger of submod say something...\n",
    "2020-05-13 07:26:45.135 | INFO     | mod:<module>:5 - logger of mod say something...\n",
    "2020-05-13 07:26:45.135 | DEBUG    | __main__:<module>:13 - let's test mod.testLogger()\n",
    "2020-05-13 07:26:45.135 | DEBUG    | mod:testLogger:8 - this is mod.testLogger...\n",
    "2020-05-13 07:26:45.136 | INFO     | submod:tst:7 - this is submod.tst()...\n",
    "2020-05-13 07:26:45.136 | INFO     | __main__:<module>:15 - finish test...\n"
   ]
  },
  {
   "cell_type": "code",
   "execution_count": null,
   "metadata": {},
   "outputs": [],
   "source": []
  }
 ],
 "metadata": {
  "hide_input": false,
  "kernelspec": {
   "display_name": "Python [default]",
   "language": "python",
   "name": "python3"
  },
  "language_info": {
   "codemirror_mode": {
    "name": "ipython",
    "version": 3
   },
   "file_extension": ".py",
   "mimetype": "text/x-python",
   "name": "python",
   "nbconvert_exporter": "python",
   "pygments_lexer": "ipython3",
   "version": "3.6.5"
  },
  "toc": {
   "base_numbering": 1,
   "nav_menu": {},
   "number_sections": true,
   "sideBar": true,
   "skip_h1_title": false,
   "title_cell": "Table of Contents",
   "title_sidebar": "Contents",
   "toc_cell": false,
   "toc_position": {},
   "toc_section_display": true,
   "toc_window_display": false
  },
  "varInspector": {
   "cols": {
    "lenName": 16,
    "lenType": 16,
    "lenVar": 40
   },
   "kernels_config": {
    "python": {
     "delete_cmd_postfix": "",
     "delete_cmd_prefix": "del ",
     "library": "var_list.py",
     "varRefreshCmd": "print(var_dic_list())"
    },
    "r": {
     "delete_cmd_postfix": ") ",
     "delete_cmd_prefix": "rm(",
     "library": "var_list.r",
     "varRefreshCmd": "cat(var_dic_list()) "
    }
   },
   "types_to_exclude": [
    "module",
    "function",
    "builtin_function_or_method",
    "instance",
    "_Feature"
   ],
   "window_display": false
  }
 },
 "nbformat": 4,
 "nbformat_minor": 2
}
