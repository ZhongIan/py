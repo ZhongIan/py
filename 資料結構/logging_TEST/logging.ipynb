{
 "cells": [
  {
   "cell_type": "markdown",
   "metadata": {},
   "source": [
    "# python 的 logging 模块日志功能使用详解\n",
    "\n",
    "**參考來源**\n",
    "\n",
    "版权声明：本文为CSDN博主「XnCSD」的原创文章，遵循 CC 4.0 BY-SA 版权协议，转载请附上原文出处链接及本声明。\n",
    "\n",
    "原文链接：https://blog.csdn.net/XnCSD/article/details/87977288"
   ]
  },
  {
   "cell_type": "markdown",
   "metadata": {
    "ExecuteTime": {
     "end_time": "2019-09-22T12:42:05.397935Z",
     "start_time": "2019-09-22T12:42:05.354967Z"
    }
   },
   "source": [
    "## 、logging 基本用法"
   ]
  },
  {
   "cell_type": "markdown",
   "metadata": {},
   "source": [
    "### 1、添加日志记录"
   ]
  },
  {
   "cell_type": "code",
   "execution_count": 1,
   "metadata": {
    "ExecuteTime": {
     "end_time": "2019-09-22T13:04:28.400575Z",
     "start_time": "2019-09-22T13:04:28.391791Z"
    }
   },
   "outputs": [
    {
     "name": "stderr",
     "output_type": "stream",
     "text": [
      "CRITICAL:root:logging critical message.\n",
      "ERROR:root:logging error message\n",
      "WARNING:root:logging warning message\n",
      "INFO:root:logging info message\n",
      "DEBUG:root:logging debug message\n"
     ]
    }
   ],
   "source": [
    "# 导入 logging 模块\n",
    "import logging\n",
    "\n",
    "# 配置 logging 系统\n",
    "logging.basicConfig(level=logging.DEBUG)\n",
    "\n",
    "# 添加 log 记录示例\n",
    "logging.critical('logging critical message.')\n",
    "logging.error('logging error message')\n",
    "logging.warning('logging warning message')\n",
    "logging.info('logging info message')\n",
    "logging.debug('logging debug message')\n"
   ]
  },
  {
   "cell_type": "markdown",
   "metadata": {},
   "source": [
    "### 2、日志调用函数的使用"
   ]
  },
  {
   "cell_type": "code",
   "execution_count": 26,
   "metadata": {
    "ExecuteTime": {
     "end_time": "2019-09-22T12:43:40.566741Z",
     "start_time": "2019-09-22T12:43:40.545289Z"
    }
   },
   "outputs": [
    {
     "name": "stdout",
     "output_type": "stream",
     "text": [
      "2019-09-22 20:43:40,546 - root - INFO - info message: foo\n",
      "2019-09-22 20:43:40,563 - root - INFO - this is a number: 1\n"
     ]
    }
   ],
   "source": [
    "msg = 'foo'\n",
    "i = 1\n",
    "logging.info('info message: %s', msg)\n",
    "logging.info('this is a number: %d', i)"
   ]
  },
  {
   "cell_type": "markdown",
   "metadata": {},
   "source": [
    "对于 `error()` 函数，可以传入 `exc_info=True` 参数设置追踪错误信息："
   ]
  },
  {
   "cell_type": "code",
   "execution_count": 27,
   "metadata": {
    "ExecuteTime": {
     "end_time": "2019-09-22T12:44:32.125410Z",
     "start_time": "2019-09-22T12:44:32.119551Z"
    }
   },
   "outputs": [
    {
     "name": "stdout",
     "output_type": "stream",
     "text": [
      "2019-09-22 20:44:32,120 - root - ERROR - type error\n",
      "Traceback (most recent call last):\n",
      "  File \"<ipython-input-27-6b3e993cb5f9>\", line 2, in <module>\n",
      "    int('a')\n",
      "ValueError: invalid literal for int() with base 10: 'a'\n"
     ]
    }
   ],
   "source": [
    "try:\n",
    "    int('a')\n",
    "except ValueError:\n",
    "    logging.error('type error', exc_info=True)"
   ]
  },
  {
   "cell_type": "markdown",
   "metadata": {},
   "source": [
    "### 日志输出级别"
   ]
  },
  {
   "cell_type": "markdown",
   "metadata": {
    "ExecuteTime": {
     "end_time": "2019-09-22T12:57:11.271621Z",
     "start_time": "2019-09-22T12:57:11.264759Z"
    }
   },
   "source": [
    "Level | Numeric value\n",
    "-|-\n",
    "CRITICAL | 50\n",
    "ERROR | 40\n",
    "WARNING | 30\n",
    "INFO | 20\n",
    "DEBUG | 10\n",
    "NOTSET | 0"
   ]
  },
  {
   "cell_type": "markdown",
   "metadata": {},
   "source": [
    "`basicConfig()` 的 `level` 参数是一个过滤器，所有等级低于此设定的消息都会被忽略掉，如上面的设置 `level=logging.DEBUG` ，则会输出所有记录。而当输出级别设置为 `ERROR` 时， `level=logging.ERROR` ，只会输出 `critical()` , `error()` \n"
   ]
  },
  {
   "cell_type": "markdown",
   "metadata": {
    "ExecuteTime": {
     "end_time": "2019-09-22T12:58:58.390061Z",
     "start_time": "2019-09-22T12:58:58.385178Z"
    }
   },
   "source": [
    "### 设置日志输出格式"
   ]
  },
  {
   "cell_type": "markdown",
   "metadata": {},
   "source": [
    "可以通过修改调用 `basicConfig()` 的参数设置日志输出的格式。\n",
    "\n",
    "* `format` 参数设置输出日志记录的格式，参数的具体格式设置参考 [LogRecord attributes](https://docs.python.org/3/library/logging.html#logrecord-attributes) \n",
    "\n",
    "* `datefmt` 设置输出时间的格式，参数格式接受 [time.strftime()](https://docs.python.org/3/library/time.html#time.strftime) "
   ]
  },
  {
   "cell_type": "code",
   "execution_count": 1,
   "metadata": {
    "ExecuteTime": {
     "end_time": "2019-09-22T13:04:02.361889Z",
     "start_time": "2019-09-22T13:04:02.351153Z"
    }
   },
   "outputs": [
    {
     "name": "stderr",
     "output_type": "stream",
     "text": [
      "2019/09/22 21:04:02 -- root -- CRITICAL -- logging critical message.\n",
      "2019/09/22 21:04:02 -- root -- ERROR -- logging error message\n",
      "2019/09/22 21:04:02 -- root -- WARNING -- logging warning message\n",
      "2019/09/22 21:04:02 -- root -- INFO -- logging info message\n",
      "2019/09/22 21:04:02 -- root -- DEBUG -- logging debug message\n"
     ]
    }
   ],
   "source": [
    "# --- basicConfig ---\n",
    "# basicConfig 只能設定一次，記得 restart Kernel\n",
    "\n",
    "\n",
    "# 导入 logging 模块\n",
    "import logging\n",
    "\n",
    "# 配置 logging 系统\n",
    "logging.basicConfig(\n",
    "    # filename='example.log', # 指定输出的日志文件\n",
    "    # stream=sys.stdout, # 系统标准输出 \n",
    "    level=logging.DEBUG,\n",
    "    datefmt='%Y/%m/%d %H:%M:%S',\n",
    "    format='%(asctime)s -- %(name)s -- %(levelname)s -- %(message)s'\n",
    ")\n",
    "\n",
    "# 添加 log 记录示例\n",
    "logging.critical('logging critical message.')\n",
    "logging.error('logging error message')\n",
    "logging.warning('logging warning message')\n",
    "logging.info('logging info message')\n",
    "logging.debug('logging debug message')\n"
   ]
  },
  {
   "cell_type": "markdown",
   "metadata": {},
   "source": [
    "    filename='example.log', # 指定输出的日志文件\n",
    "    stream=sys.stdout, # 系统标准输出\n",
    "\n",
    "注意：`filename` 和 `stream` 不能同时指定，否则会抛出 `ValueError` 异常。若需要设定多种输出方式，可以通过 `handlers` 参数传入一个 `handler` 列表：\n",
    "\n",
    "```py\n",
    "from logging import StreamHandler, FileHandler\n",
    "import sys\n",
    "\n",
    "sh = StreamHandler(sys.stdout)\n",
    "fh = FileHandler('example.log')\n",
    "\n",
    "# 配置 logging 系统\n",
    "logging.basicConfig(\n",
    "    handlers=[sh, fh],\n",
    "    level=logging.DEBUG,\n",
    "    datefmt='%Y/%m/%d %H:%M:%S',\n",
    "    format='%(asctime)s - %(name)s - %(levelname)s - %(message)s'\n",
    ")\n",
    "```\n"
   ]
  },
  {
   "cell_type": "markdown",
   "metadata": {},
   "source": [
    "## 创建 logger 对象"
   ]
  },
  {
   "cell_type": "markdown",
   "metadata": {},
   "source": [
    "可以通过 `logging.getLogger(name=None)` 创建一个指定名称的 `Logger` 对象（ `logging` 系统默认的 `logger` 名称为 `root` ）"
   ]
  },
  {
   "cell_type": "code",
   "execution_count": 1,
   "metadata": {
    "ExecuteTime": {
     "end_time": "2019-09-22T13:14:09.391648Z",
     "start_time": "2019-09-22T13:14:09.377007Z"
    }
   },
   "outputs": [
    {
     "name": "stdout",
     "output_type": "stream",
     "text": [
      "2019/09/22 21:14:09 - testLogger - CRITICAL - logger critical message.\n",
      "2019/09/22 21:14:09 - testLogger - ERROR - logger error message\n",
      "2019/09/22 21:14:09 - testLogger - WARNING - logger warning message\n",
      "2019/09/22 21:14:09 - testLogger - INFO - logger info message\n",
      "2019/09/22 21:14:09 - testLogger - DEBUG - logger debug message\n"
     ]
    }
   ],
   "source": [
    "import logging\n",
    "import sys\n",
    "\n",
    "logger = logging.getLogger('testLogger')\n",
    "logger.setLevel(logging.DEBUG)\n",
    "\n",
    "# 消息格式化\n",
    "formatter = logging.Formatter(\n",
    "    fmt='%(asctime)s - %(name)s - %(levelname)s - %(message)s',\n",
    "    datefmt='%Y/%m/%d %H:%M:%S'\n",
    ")\n",
    "\n",
    "# 日志文件输出\n",
    "fh = logging.FileHandler('example.log')\n",
    "fh.setFormatter(formatter)\n",
    "# 给logger对象添加 handler\n",
    "logger.addHandler(fh)   \n",
    "\n",
    "# 系统输出\n",
    "# StreamHandler\n",
    "sh = logging.StreamHandler(sys.stdout)\n",
    "sh.setFormatter(formatter)\n",
    "logger.addHandler(sh)\n",
    "\n",
    "logger.critical('logger critical message.')\n",
    "logger.error('logger error message')\n",
    "logger.warning('logger warning message')\n",
    "logger.info('logger info message')\n",
    "logger.debug('logger debug message')\n"
   ]
  },
  {
   "cell_type": "markdown",
   "metadata": {},
   "source": [
    "## 三、给库或者模块添加日志记录"
   ]
  },
  {
   "cell_type": "markdown",
   "metadata": {},
   "source": [
    "对于想执行日志记录的库来说，应该创建一个专用的日志对象并将其初始化为 `NullHandler`\n",
    "\n",
    "**不对已有的日志配置做任何假设**"
   ]
  },
  {
   "cell_type": "code",
   "execution_count": 2,
   "metadata": {
    "ExecuteTime": {
     "end_time": "2019-09-22T13:15:43.104002Z",
     "start_time": "2019-09-22T13:15:43.090311Z"
    }
   },
   "outputs": [
    {
     "name": "stdout",
     "output_type": "stream",
     "text": [
      "Writing testlib.py\n"
     ]
    }
   ],
   "source": [
    "%%file testlib.py\n",
    "\n",
    "import logging\n",
    "\n",
    "logger = logging.getLogger(__name__)\n",
    "logger.addHandler(logging.NullHandler())\n",
    "\n",
    "\n",
    "def foo():\n",
    "    logger.info('info: this is foo message')\n",
    "    print('print: foo')\n"
   ]
  },
  {
   "cell_type": "markdown",
   "metadata": {},
   "source": [
    "`getLogger(__name__)` 创建一个与模块同名的一个专有的日志对象，由于所有模块是唯一的，这样就于其他日志对象隔开了\n",
    "\n",
    "`logger.addHandler(logging.NullHandler())` 操作绑定一个空的处理例程到刚才的日志对象。默认情况下，空 `handler` 会忽略所有日志消息。因此，用到这个库且日志系统从未配置过，那么就不会出现任何日志信息或警告信息。"
   ]
  },
  {
   "cell_type": "code",
   "execution_count": 3,
   "metadata": {
    "ExecuteTime": {
     "end_time": "2019-09-22T13:15:54.734648Z",
     "start_time": "2019-09-22T13:15:54.649747Z"
    }
   },
   "outputs": [
    {
     "name": "stdout",
     "output_type": "stream",
     "text": [
      "print: foo\n"
     ]
    }
   ],
   "source": [
    "import testlib\n",
    "testlib.foo()"
   ]
  },
  {
   "cell_type": "markdown",
   "metadata": {},
   "source": [
    "但是如果日志系统得到适当的配置，则日志消息将开始出现"
   ]
  },
  {
   "cell_type": "code",
   "execution_count": 4,
   "metadata": {
    "ExecuteTime": {
     "end_time": "2019-09-22T13:16:24.064850Z",
     "start_time": "2019-09-22T13:16:24.059969Z"
    }
   },
   "outputs": [
    {
     "name": "stderr",
     "output_type": "stream",
     "text": [
      "INFO:testlib:info: this is foo message\n"
     ]
    },
    {
     "name": "stdout",
     "output_type": "stream",
     "text": [
      "print: foo\n"
     ]
    }
   ],
   "source": [
    "import logging\n",
    "import testlib\n",
    "logging.basicConfig(level=logging.DEBUG)\n",
    "\n",
    "testlib.foo()"
   ]
  },
  {
   "cell_type": "markdown",
   "metadata": {},
   "source": [
    "在调用模块的程序中也能定义自身的 `logger`"
   ]
  },
  {
   "cell_type": "code",
   "execution_count": 1,
   "metadata": {
    "ExecuteTime": {
     "end_time": "2019-09-22T13:22:08.019815Z",
     "start_time": "2019-09-22T13:22:08.013010Z"
    },
    "code_folding": []
   },
   "outputs": [
    {
     "name": "stderr",
     "output_type": "stream",
     "text": [
      "INFO:testlib:info: this is foo message\n",
      "INFO:testLogger:this is test logger info\n"
     ]
    },
    {
     "name": "stdout",
     "output_type": "stream",
     "text": [
      "print: foo\n"
     ]
    }
   ],
   "source": [
    "\n",
    "import logging\n",
    "import testlib\n",
    "logging.basicConfig(level=logging.DEBUG)\n",
    "\n",
    "logger = logging.getLogger('testLogger')\n",
    "\n",
    "testlib.foo()\n",
    "logger.info('this is test logger info')\n"
   ]
  },
  {
   "cell_type": "markdown",
   "metadata": {},
   "source": [
    "## 使用配置文件设置日志的配置信息"
   ]
  },
  {
   "cell_type": "markdown",
   "metadata": {},
   "source": [
    "上面的日志配置都被直接硬编码到了程序中，这么做不是好的编程规范，`logging.config` ，提供了 `logging.config.fileConfig()` 方法可以从配置文件中进行日志配置\n",
    "\n",
    "创建一个配置文件 `logconfig.ini`"
   ]
  },
  {
   "cell_type": "code",
   "execution_count": 2,
   "metadata": {
    "ExecuteTime": {
     "end_time": "2019-09-22T13:28:40.776872Z",
     "start_time": "2019-09-22T13:28:40.764186Z"
    }
   },
   "outputs": [
    {
     "name": "stdout",
     "output_type": "stream",
     "text": [
      "Writing logconfig.ini\n"
     ]
    }
   ],
   "source": [
    "%%file logconfig.ini\n",
    "[loggers]\n",
    "keys=root\n",
    "\n",
    "[handlers]\n",
    "keys=consoleHandler\n",
    "\n",
    "[formatters]\n",
    "keys=simpleFormatter\n",
    "\n",
    "[logger_root]\n",
    "level=DEBUG\n",
    "handlers=consoleHandler\n",
    "\n",
    "[handler_consoleHandler]\n",
    "class=StreamHandler\n",
    "level=DEBUG\n",
    "formatter=simpleFormatter\n",
    "args=(sys.stdout,)\n",
    "\n",
    "[formatter_simpleFormatter]\n",
    "format=%(name)s - %(levelname)s - %(message)s\n"
   ]
  },
  {
   "cell_type": "markdown",
   "metadata": {},
   "source": [
    "`[loggers]` 配置项指定需要配置的 `logger` ， `root` 是 `logging` 系统默认`logger` 。若有多个值，用逗号分隔 `keys=root` , `testLogger` 。然后在`[logger_%(name)s]` 配置项配置各个 `logger` 的具体配置信息\n",
    "\n",
    "請參考 `logger` 創建"
   ]
  },
  {
   "cell_type": "code",
   "execution_count": 3,
   "metadata": {
    "ExecuteTime": {
     "end_time": "2019-09-22T13:28:42.166026Z",
     "start_time": "2019-09-22T13:28:42.034187Z"
    }
   },
   "outputs": [
    {
     "name": "stdout",
     "output_type": "stream",
     "text": [
      "root - CRITICAL - logger critical message.\n",
      "root - ERROR - logger error message\n",
      "root - WARNING - logger warning message\n",
      "root - INFO - logger info message\n",
      "root - DEBUG - logger debug message\n"
     ]
    }
   ],
   "source": [
    "import logging\n",
    "import logging.config\n",
    "\n",
    "\n",
    "logging.config.fileConfig('logconfig.ini')\n",
    "\n",
    "logging.critical('logger critical message.')\n",
    "logging.error('logger error message')\n",
    "logging.warning('logger warning message')\n",
    "logging.info('logger info message')\n",
    "logging.debug('logger debug message')\n"
   ]
  },
  {
   "cell_type": "markdown",
   "metadata": {},
   "source": [
    "输出设置为日志文件，且错误信息单独输出到错误日志中"
   ]
  },
  {
   "cell_type": "markdown",
   "metadata": {},
   "source": [
    "```ini\n",
    "[loggers]\n",
    "keys=root\n",
    "\n",
    "[handlers]\n",
    "keys=fileHandler, errorFileHandler\n",
    "\n",
    "[formatters]\n",
    "keys=simpleFormatter\n",
    "\n",
    "[logger_root]\n",
    "level=DEBUG\n",
    "handlers=fileHandler, errorFileHandler\n",
    "\n",
    "[handler_fileHandler]\n",
    "class=FileHandler\n",
    "level=DEBUG\n",
    "formatter=simpleFormatter\n",
    "args=('example.log', 'a')\n",
    "\n",
    "[handler_errorFileHandler]\n",
    "class=FileHandler\n",
    "level=ERROR\n",
    "formatter=simpleFormatter\n",
    "args=('example-error.log', 'a')\n",
    "\n",
    "[formatter_simpleFormatter]\n",
    "format=%(name)s - %(levelname)s - %(message)s\n",
    "```"
   ]
  },
  {
   "cell_type": "markdown",
   "metadata": {},
   "source": [
    "\n",
    "# 多模块使用logging\n",
    "\n",
    "**參考來源**\n",
    "\n",
    "版权声明：本文为CSDN博主「chosen0ne」的原创文章，遵循 CC 4.0 BY-SA 版权协议，转载请附上原文出处链接及本声明。\n",
    "\n",
    "原文链接：https://blog.csdn.net/chosen0ne/article/details/7319306\n"
   ]
  },
  {
   "cell_type": "markdown",
   "metadata": {},
   "source": [
    "## logging 使用"
   ]
  },
  {
   "cell_type": "code",
   "execution_count": 4,
   "metadata": {
    "ExecuteTime": {
     "end_time": "2019-09-21T13:09:05.222610Z",
     "start_time": "2019-09-21T13:09:05.198217Z"
    }
   },
   "outputs": [
    {
     "name": "stderr",
     "output_type": "stream",
     "text": [
      "INFO:tst:first info message\n",
      "DEBUG:tst:first debug message\n"
     ]
    }
   ],
   "source": [
    "\n",
    "import logging\n",
    "import logging.handlers\n",
    " \n",
    "LOG_FILE = 'tst.log'\n",
    "\n",
    "# 实例化handler \n",
    "handler = logging.handlers.RotatingFileHandler(\n",
    "    LOG_FILE,\n",
    "    maxBytes = 1024*1024,\n",
    "    backupCount = 5\n",
    ") \n",
    "\n",
    "fmt = '%(asctime)s - %(filename)s:%(lineno)s - %(name)s - %(message)s'\n",
    "\n",
    "# 实例化 formatter\n",
    "formatter = logging.Formatter(fmt)    \n",
    "# 为 handler 添加 formatter\n",
    "handler.setFormatter(formatter)     \n",
    "\n",
    "# 获取名为tst的logger\n",
    "logger = logging.getLogger('tst')   \n",
    "# 为 logger 添加 handler\n",
    "logger.addHandler(handler)   \n",
    "\n",
    "logger.setLevel(logging.DEBUG)\n",
    " \n",
    "logger.info('first info message')\n",
    "logger.debug('first debug message')"
   ]
  },
  {
   "cell_type": "code",
   "execution_count": null,
   "metadata": {
    "ExecuteTime": {
     "end_time": "2019-09-21T13:09:28.032104Z",
     "start_time": "2019-09-21T13:09:27.987207Z"
    }
   },
   "outputs": [],
   "source": [
    "# %load tst.log\n",
    "2019-09-21 21:09:05,216 - <ipython-input-4-a7a793a09af4>:17 - tst - first info message\n",
    "2019-09-21 21:09:05,218 - <ipython-input-4-a7a793a09af4>:18 - tst - first debug message\n"
   ]
  },
  {
   "cell_type": "markdown",
   "metadata": {},
   "source": [
    "## 多模块使用logging\n",
    "\n",
    "\n",
    "**配置文件**"
   ]
  },
  {
   "cell_type": "code",
   "execution_count": 12,
   "metadata": {
    "ExecuteTime": {
     "end_time": "2019-09-21T13:16:51.685367Z",
     "start_time": "2019-09-21T13:16:51.670727Z"
    }
   },
   "outputs": [
    {
     "name": "stdout",
     "output_type": "stream",
     "text": [
      "Overwriting loggin.conf\n"
     ]
    }
   ],
   "source": [
    "%%file  loggin.conf\n",
    "[loggers]\n",
    "keys=root,main\n",
    " \n",
    "[handlers]\n",
    "keys=consoleHandler,fileHandler\n",
    " \n",
    "[formatters]\n",
    "keys=fmt\n",
    " \n",
    "[logger_root]\n",
    "level=DEBUG\n",
    "handlers=consoleHandler\n",
    " \n",
    "[logger_main]\n",
    "level=DEBUG\n",
    "qualname=main\n",
    "handlers=fileHandler\n",
    " \n",
    "[handler_consoleHandler]\n",
    "class=StreamHandler\n",
    "level=DEBUG\n",
    "formatter=fmt\n",
    "args=(sys.stdout,)\n",
    " \n",
    "[handler_fileHandler]\n",
    "class=logging.handlers.RotatingFileHandler\n",
    "level=DEBUG\n",
    "formatter=fmt\n",
    "args=('tst.log','a',20000,5,)\n",
    " \n",
    "[formatter_fmt]\n",
    "format=%(asctime)s - %(name)s - %(levelname)s - %(message)s\n",
    "datefmt="
   ]
  },
  {
   "cell_type": "code",
   "execution_count": 19,
   "metadata": {
    "ExecuteTime": {
     "end_time": "2019-09-21T13:22:06.822710Z",
     "start_time": "2019-09-21T13:22:06.805143Z"
    }
   },
   "outputs": [
    {
     "name": "stdout",
     "output_type": "stream",
     "text": [
      "Overwriting main.py\n"
     ]
    }
   ],
   "source": [
    "%%file main.py\n",
    "import logging\n",
    "import logging.config\n",
    "\n",
    "from os import path\n",
    "\n",
    "log_file_path = path.join(\n",
    "    path.dirname(path.abspath(__file__)),\n",
    "    'loggin.conf'\n",
    ")\n",
    "\n",
    "logging.config.fileConfig(log_file_path)\n",
    "# 有時找不到 logging.conf，以上述方法指定絕對位置\n",
    "#logging.config.fileConfig('logging.conf')\n",
    "\n",
    "root_logger = logging.getLogger('root')\n",
    "root_logger.debug('test root logger...')\n",
    " \n",
    "logger = logging.getLogger('main')\n",
    "logger.info('test main logger')\n",
    "\n",
    "logger.info('start import module \\'mod\\'...')\n",
    "import mod\n",
    " \n",
    "logger.debug('let\\'s test mod.testLogger()')\n",
    "mod.testLogger()\n",
    "root_logger.info('finish test...')\n"
   ]
  },
  {
   "cell_type": "code",
   "execution_count": 14,
   "metadata": {
    "ExecuteTime": {
     "end_time": "2019-09-21T13:18:55.421262Z",
     "start_time": "2019-09-21T13:18:55.410526Z"
    }
   },
   "outputs": [
    {
     "name": "stdout",
     "output_type": "stream",
     "text": [
      "Writing mod.py\n"
     ]
    }
   ],
   "source": [
    "%%file mod.py\n",
    "import logging\n",
    "import submod\n",
    " \n",
    "logger = logging.getLogger('main.mod')\n",
    "logger.info('logger of mod say something...')\n",
    " \n",
    "def testLogger():\n",
    "    logger.debug('this is mod.testLogger...')\n",
    "    submod.tst()\n"
   ]
  },
  {
   "cell_type": "code",
   "execution_count": 21,
   "metadata": {
    "ExecuteTime": {
     "end_time": "2019-09-21T13:22:19.938234Z",
     "start_time": "2019-09-21T13:22:19.931397Z"
    }
   },
   "outputs": [
    {
     "name": "stdout",
     "output_type": "stream",
     "text": [
      "Writing submod.py\n"
     ]
    }
   ],
   "source": [
    "%%file submod.py\n",
    "import logging\n",
    " \n",
    "logger = logging.getLogger('main.mod.submod')\n",
    "logger.info('logger of submod say something...')\n",
    " \n",
    "def tst():\n",
    "    logger.info('this is submod.tst()...')\n"
   ]
  },
  {
   "cell_type": "code",
   "execution_count": 22,
   "metadata": {
    "ExecuteTime": {
     "end_time": "2019-09-21T13:22:22.906564Z",
     "start_time": "2019-09-21T13:22:22.874384Z"
    }
   },
   "outputs": [
    {
     "name": "stdout",
     "output_type": "stream",
     "text": [
      "2019-09-21 21:22:22,887 - main - INFO - test main logger\n",
      "2019-09-21 21:22:22,888 - main - INFO - start import module 'mod'...\n",
      "2019-09-21 21:22:22,898 - main.mod.submod - INFO - logger of submod say something...\n",
      "2019-09-21 21:22:22,899 - main.mod - INFO - logger of mod say something...\n",
      "2019-09-21 21:22:22,900 - main - DEBUG - let's test mod.testLogger()\n",
      "2019-09-21 21:22:22,901 - main.mod - DEBUG - this is mod.testLogger...\n",
      "2019-09-21 21:22:22,902 - main.mod.submod - INFO - this is submod.tst()...\n"
     ]
    }
   ],
   "source": [
    "%run main.py"
   ]
  },
  {
   "cell_type": "code",
   "execution_count": null,
   "metadata": {
    "ExecuteTime": {
     "end_time": "2019-09-22T13:53:06.320697Z",
     "start_time": "2019-09-22T13:53:06.229683Z"
    }
   },
   "outputs": [],
   "source": [
    "# %load tst.log\n",
    "2019-09-21 21:09:05,216 - <ipython-input-4-a7a793a09af4>:17 - tst - first info message\n",
    "2019-09-21 21:09:05,218 - <ipython-input-4-a7a793a09af4>:18 - tst - first debug message\n",
    "2019-09-21 21:22:08,853 - main - INFO - test main logger\n",
    "2019-09-21 21:22:08,853 - main - INFO - start import module 'mod'...\n",
    "2019-09-21 21:22:22,887 - main - INFO - test main logger\n",
    "2019-09-21 21:22:22,888 - main - INFO - start import module 'mod'...\n",
    "2019-09-21 21:22:22,898 - main.mod.submod - INFO - logger of submod say something...\n",
    "2019-09-21 21:22:22,899 - main.mod - INFO - logger of mod say something...\n",
    "2019-09-21 21:22:22,900 - main - DEBUG - let's test mod.testLogger()\n",
    "2019-09-21 21:22:22,901 - main.mod - DEBUG - this is mod.testLogger...\n",
    "2019-09-21 21:22:22,902 - main.mod.submod - INFO - this is submod.tst()...\n"
   ]
  },
  {
   "cell_type": "markdown",
   "metadata": {},
   "source": [
    "`tst.log` 中没有 `root logger` 输出的信息，因为 `logging.conf` 中配置了只有`main logger` 及其子 `logger` 使用 `RotatingFileHandler`"
   ]
  },
  {
   "cell_type": "markdown",
   "metadata": {},
   "source": [
    "# 補充(未看)\n",
    "\n",
    "## logging遇到多进程（important）\n",
    "\n",
    "https://blog.csdn.net/qq_27437781/article/details/83417841"
   ]
  },
  {
   "cell_type": "code",
   "execution_count": null,
   "metadata": {},
   "outputs": [],
   "source": []
  }
 ],
 "metadata": {
  "hide_input": false,
  "kernelspec": {
   "display_name": "Python [default]",
   "language": "python",
   "name": "python3"
  },
  "language_info": {
   "codemirror_mode": {
    "name": "ipython",
    "version": 3
   },
   "file_extension": ".py",
   "mimetype": "text/x-python",
   "name": "python",
   "nbconvert_exporter": "python",
   "pygments_lexer": "ipython3",
   "version": "3.6.5"
  },
  "toc": {
   "base_numbering": 1,
   "nav_menu": {},
   "number_sections": true,
   "sideBar": true,
   "skip_h1_title": false,
   "title_cell": "Table of Contents",
   "title_sidebar": "Contents",
   "toc_cell": false,
   "toc_position": {
    "height": "calc(100% - 180px)",
    "left": "10px",
    "top": "150px",
    "width": "192px"
   },
   "toc_section_display": true,
   "toc_window_display": true
  },
  "varInspector": {
   "cols": {
    "lenName": 16,
    "lenType": 16,
    "lenVar": 40
   },
   "kernels_config": {
    "python": {
     "delete_cmd_postfix": "",
     "delete_cmd_prefix": "del ",
     "library": "var_list.py",
     "varRefreshCmd": "print(var_dic_list())"
    },
    "r": {
     "delete_cmd_postfix": ") ",
     "delete_cmd_prefix": "rm(",
     "library": "var_list.r",
     "varRefreshCmd": "cat(var_dic_list()) "
    }
   },
   "types_to_exclude": [
    "module",
    "function",
    "builtin_function_or_method",
    "instance",
    "_Feature"
   ],
   "window_display": false
  }
 },
 "nbformat": 4,
 "nbformat_minor": 2
}
