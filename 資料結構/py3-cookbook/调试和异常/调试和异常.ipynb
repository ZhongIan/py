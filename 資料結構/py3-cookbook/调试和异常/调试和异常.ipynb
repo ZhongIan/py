{
 "cells": [
  {
   "cell_type": "markdown",
   "metadata": {
    "toc": true
   },
   "source": [
    "<h1>Table of Contents<span class=\"tocSkip\"></span></h1>\n",
    "<div class=\"toc\"><ul class=\"toc-item\"><li><span><a href=\"#测试stdout输出\" data-toc-modified-id=\"测试stdout输出-1\"><span class=\"toc-item-num\">1&nbsp;&nbsp;</span>测试stdout输出</a></span></li><li><span><a href=\"#[unittest.mock.patch()]在单元测试中给对象打补丁\" data-toc-modified-id=\"[unittest.mock.patch()]在单元测试中给对象打补丁-2\"><span class=\"toc-item-num\">2&nbsp;&nbsp;</span>[unittest.mock.patch()]在单元测试中给对象打补丁</a></span></li><li><span><a href=\"#[assertRaises()]在单元测试中测试异常情况\" data-toc-modified-id=\"[assertRaises()]在单元测试中测试异常情况-3\"><span class=\"toc-item-num\">3&nbsp;&nbsp;</span>[assertRaises()]在单元测试中测试异常情况</a></span><ul class=\"toc-item\"><li><span><a href=\"#讨论\" data-toc-modified-id=\"讨论-3.1\"><span class=\"toc-item-num\">3.1&nbsp;&nbsp;</span>讨论</a></span></li></ul></li><li><span><a href=\"#将测试输出用日志记录到文件中\" data-toc-modified-id=\"将测试输出用日志记录到文件中-4\"><span class=\"toc-item-num\">4&nbsp;&nbsp;</span>将测试输出用日志记录到文件中</a></span></li><li><span><a href=\"#[@unittest.skip]忽略或期望测试失败\" data-toc-modified-id=\"[@unittest.skip]忽略或期望测试失败-5\"><span class=\"toc-item-num\">5&nbsp;&nbsp;</span>[@unittest.skip]忽略或期望测试失败</a></span></li><li><span><a href=\"#[exception()]处理多个异常\" data-toc-modified-id=\"[exception()]处理多个异常-6\"><span class=\"toc-item-num\">6&nbsp;&nbsp;</span>[exception()]处理多个异常</a></span></li><li><span><a href=\"#[except-Exception-as-e]捕获所有异常\" data-toc-modified-id=\"[except-Exception-as-e]捕获所有异常-7\"><span class=\"toc-item-num\">7&nbsp;&nbsp;</span>[except Exception as e]捕获所有异常</a></span><ul class=\"toc-item\"><li><span><a href=\"#讨论\" data-toc-modified-id=\"讨论-7.1\"><span class=\"toc-item-num\">7.1&nbsp;&nbsp;</span>讨论</a></span></li></ul></li><li><span><a href=\"#[繼承Exception]创建自定义异常\" data-toc-modified-id=\"[繼承Exception]创建自定义异常-8\"><span class=\"toc-item-num\">8&nbsp;&nbsp;</span>[繼承Exception]创建自定义异常</a></span></li><li><span><a href=\"#[except-:-raise-]捕获异常后抛出另外的异常\" data-toc-modified-id=\"[except-:-raise-]捕获异常后抛出另外的异常-9\"><span class=\"toc-item-num\">9&nbsp;&nbsp;</span>[except : raise ]捕获异常后抛出另外的异常</a></span><ul class=\"toc-item\"><li><span><a href=\"#讨论\" data-toc-modified-id=\"讨论-9.1\"><span class=\"toc-item-num\">9.1&nbsp;&nbsp;</span>讨论</a></span></li></ul></li><li><span><a href=\"#重新抛出被捕获的异常\" data-toc-modified-id=\"重新抛出被捕获的异常-10\"><span class=\"toc-item-num\">10&nbsp;&nbsp;</span>重新抛出被捕获的异常</a></span></li><li><span><a href=\"#[無預期輸出]输出警告信息\" data-toc-modified-id=\"[無預期輸出]输出警告信息-11\"><span class=\"toc-item-num\">11&nbsp;&nbsp;</span>[無預期輸出]输出警告信息</a></span></li><li><span><a href=\"#[通常依賴IDE-DEBUG;-此篇為python自身DEBUG]调试基本的程序崩溃错误\" data-toc-modified-id=\"[通常依賴IDE-DEBUG;-此篇為python自身DEBUG]调试基本的程序崩溃错误-12\"><span class=\"toc-item-num\">12&nbsp;&nbsp;</span>[通常依賴IDE DEBUG; 此篇為python自身DEBUG]调试基本的程序崩溃错误</a></span></li><li><span><a href=\"#给你的程序做性能测试\" data-toc-modified-id=\"给你的程序做性能测试-13\"><span class=\"toc-item-num\">13&nbsp;&nbsp;</span>给你的程序做性能测试</a></span><ul class=\"toc-item\"><li><span><a href=\"#装饰器[time.perf_counter()]\" data-toc-modified-id=\"装饰器[time.perf_counter()]-13.1\"><span class=\"toc-item-num\">13.1&nbsp;&nbsp;</span>装饰器[time.perf_counter()]</a></span></li><li><span><a href=\"#上下文管理器\" data-toc-modified-id=\"上下文管理器-13.2\"><span class=\"toc-item-num\">13.2&nbsp;&nbsp;</span>上下文管理器</a></span></li><li><span><a href=\"#timeit\" data-toc-modified-id=\"timeit-13.3\"><span class=\"toc-item-num\">13.3&nbsp;&nbsp;</span>timeit</a></span></li><li><span><a href=\"#討論[time.process_time()]\" data-toc-modified-id=\"討論[time.process_time()]-13.4\"><span class=\"toc-item-num\">13.4&nbsp;&nbsp;</span>討論[time.process_time()]</a></span></li></ul></li><li><span><a href=\"#加速程序运行\" data-toc-modified-id=\"加速程序运行-14\"><span class=\"toc-item-num\">14&nbsp;&nbsp;</span>加速程序运行</a></span><ul class=\"toc-item\"><li><span><a href=\"#使用函数[局部变量和全局变量]\" data-toc-modified-id=\"使用函数[局部变量和全局变量]-14.1\"><span class=\"toc-item-num\">14.1&nbsp;&nbsp;</span>使用函数[局部变量和全局变量]</a></span></li><li><span><a href=\"#尽可能去掉属性访问\" data-toc-modified-id=\"尽可能去掉属性访问-14.2\"><span class=\"toc-item-num\">14.2&nbsp;&nbsp;</span>尽可能去掉属性访问</a></span></li><li><span><a href=\"#理解局部变量\" data-toc-modified-id=\"理解局部变量-14.3\"><span class=\"toc-item-num\">14.3&nbsp;&nbsp;</span>理解局部变量</a></span></li><li><span><a href=\"#避免不必要的抽象\" data-toc-modified-id=\"避免不必要的抽象-14.4\"><span class=\"toc-item-num\">14.4&nbsp;&nbsp;</span>避免不必要的抽象</a></span></li><li><span><a href=\"#使用内置的容器\" data-toc-modified-id=\"使用内置的容器-14.5\"><span class=\"toc-item-num\">14.5&nbsp;&nbsp;</span>使用内置的容器</a></span></li><li><span><a href=\"#避免创建不必要的数据结构或复制\" data-toc-modified-id=\"避免创建不必要的数据结构或复制-14.6\"><span class=\"toc-item-num\">14.6&nbsp;&nbsp;</span>避免创建不必要的数据结构或复制</a></span></li><li><span><a href=\"#讨论[優化循環，算法;-完成>完美]\" data-toc-modified-id=\"讨论[優化循環，算法;-完成>完美]-14.7\"><span class=\"toc-item-num\">14.7&nbsp;&nbsp;</span>讨论[優化循環，算法; 完成&gt;完美]</a></span></li></ul></li></ul></div>"
   ]
  },
  {
   "cell_type": "code",
   "execution_count": null,
   "metadata": {},
   "outputs": [],
   "source": []
  },
  {
   "cell_type": "markdown",
   "metadata": {},
   "source": [
    "# 测试stdout输出"
   ]
  },
  {
   "cell_type": "markdown",
   "metadata": {},
   "source": [
    "你的程序中有个方法会输出到标准输出中（ `sys.stdout` ）。\n",
    "\n",
    "也就是说它会将文本打印到屏幕上面。 \n",
    "\n",
    "你想写个测试来证明它，给定一个输入，相应的输出能正常显示出来。\n",
    "\n",
    "**解决方案**\n",
    "\n",
    "使用 `unittest.mock` 模块中的 `patch()` 函数， 使用起来非常简单，可以为单个测试模拟 `sys.stdout` 然后回滚， 并且不产生大量的临时变量或在测试用例直接暴露状态变量。\n",
    "\n",
    "作为一个例子，我们在 mymodule 模块中定义如下一个函数："
   ]
  },
  {
   "cell_type": "code",
   "execution_count": 1,
   "metadata": {
    "ExecuteTime": {
     "end_time": "2019-10-17T14:19:44.090910Z",
     "start_time": "2019-10-17T14:19:44.081151Z"
    }
   },
   "outputs": [
    {
     "name": "stdout",
     "output_type": "stream",
     "text": [
      "Writing mymodule.py\n"
     ]
    }
   ],
   "source": [
    "%%file mymodule.py\n",
    "\n",
    "def urlprint(protocol, host, domain):\n",
    "    url = '{}://{}.{}'.format(protocol, host, domain)\n",
    "    print(url)"
   ]
  },
  {
   "cell_type": "markdown",
   "metadata": {},
   "source": [
    "默认情况下内置的 `print` 函数会将输出发送到 `sys.stdout` 。\n",
    "\n",
    "为了测试输出真的在那里，你可以使用一个替身对象来模拟它，然后使用断言来确认结果。\n",
    "\n",
    "使用 `unittest.mock` 模块的 `patch()` 方法可以很方便的在测试运行的上下文中替换对象， 并且当测试完成时候自动返回它们的原有状态。\n",
    "\n",
    "下面是对 `mymodule` 模块的测试代码："
   ]
  },
  {
   "cell_type": "code",
   "execution_count": 5,
   "metadata": {
    "ExecuteTime": {
     "end_time": "2019-10-17T14:22:30.388967Z",
     "start_time": "2019-10-17T14:22:30.383111Z"
    }
   },
   "outputs": [
    {
     "name": "stdout",
     "output_type": "stream",
     "text": [
      "Writing __init__.py\n"
     ]
    }
   ],
   "source": [
    "%%file __init__.py\n",
    "# for import"
   ]
  },
  {
   "cell_type": "code",
   "execution_count": 75,
   "metadata": {
    "ExecuteTime": {
     "end_time": "2019-10-23T16:08:02.953405Z",
     "start_time": "2019-10-23T16:08:02.793481Z"
    }
   },
   "outputs": [
    {
     "name": "stdout",
     "output_type": "stream",
     "text": [
      "Overwriting mymodule_test.py\n"
     ]
    }
   ],
   "source": [
    "%%file mymodule_test.py\n",
    "from io import StringIO\n",
    "from unittest import TestCase\n",
    "from unittest.mock import patch\n",
    "import mymodule\n",
    "\n",
    "class TestURLPrint(TestCase):\n",
    "    def test_url_gets_to_stdout(self):\n",
    "        protocol = 'http'\n",
    "        host = 'www'\n",
    "        domain = 'example.com'\n",
    "        expected_url = '{}://{}.{}\\n'.format(protocol, host, domain)\n",
    "        with patch('sys.stdout', new=StringIO()) as fake_out:\n",
    "            mymodule.urlprint(protocol, host, domain)\n",
    "            self.assertEqual(fake_out.getvalue(), expected_url)\n",
    "\n"
   ]
  },
  {
   "cell_type": "code",
   "execution_count": 76,
   "metadata": {
    "ExecuteTime": {
     "end_time": "2019-10-23T16:08:04.312774Z",
     "start_time": "2019-10-23T16:08:04.115506Z"
    }
   },
   "outputs": [
    {
     "name": "stderr",
     "output_type": "stream",
     "text": [
      ".\n",
      "----------------------------------------------------------------------\n",
      "Ran 1 test in 0.000s\n",
      "\n",
      "OK\n"
     ]
    }
   ],
   "source": [
    "!python -m unittest mymodule_test.py"
   ]
  },
  {
   "cell_type": "markdown",
   "metadata": {},
   "source": [
    "`urlprint()` 函数接受三个参数，测试方法开始会先设置每一个参数的值。 \n",
    "\n",
    "`expected_url` 变量被设置成包含期望的输出的字符串。\n",
    "\n",
    "`unittest.mock.patch()` 函数被用作一个上下文管理器，使用 `StringIO` 对象来代替 `sys.stdout` . `fake_out` 变量是在该进程中被创建的模拟对象。\n",
    "\n",
    "在 `with` 语句中使用它可以执行各种检查。\n",
    "\n",
    "当 `with` 语句结束时， `patch` 会将所有东西恢复到测试开始前的状态"
   ]
  },
  {
   "cell_type": "markdown",
   "metadata": {},
   "source": [
    "# [unittest.mock.patch()]在单元测试中给对象打补丁"
   ]
  },
  {
   "cell_type": "markdown",
   "metadata": {},
   "source": [
    "你写的单元测试中需要给指定的对象打补丁， 用来断言它们在测试中的期望行为（比如，断言被调用时的参数个数，访问指定的属性等）\n",
    "\n",
    "**解决方案**\n",
    "\n",
    "`unittest.mock.patch()` 函数可被用来解决这个问题。 \n",
    "\n",
    "`patch()` 还可被用作一个装饰器、上下文管理器或单独使用，尽管并不常见。 \n",
    "\n",
    "例如，下面是一个将它当做装饰器使用的例子：\n",
    "\n",
    "```py\n",
    "from unittest.mock import patch\n",
    "import example\n",
    "\n",
    "@patch('example.func')\n",
    "def test1(x, mock_func):\n",
    "    example.func(x)       # Uses patched example.func\n",
    "    mock_func.assert_called_with(x)\n",
    "```\n",
    "\n",
    "它还可以被当做一个上下文管理器：\n",
    "\n",
    "```py\n",
    "with patch('example.func') as mock_func:\n",
    "    example.func(x)      # Uses patched example.func\n",
    "    mock_func.assert_called_with(x)\n",
    "```    \n",
    "    \n",
    "最后，你还可以手动的使用它打补丁：\n",
    "\n",
    "```py\n",
    "p = patch('example.func')\n",
    "mock_func = p.start()\n",
    "example.func(x)\n",
    "mock_func.assert_called_with(x)\n",
    "p.stop()\n",
    "```\n",
    "\n",
    "如果可能的话，你能够叠加装饰器和上下文管理器来给多个对象打补丁。例如：\n",
    "\n",
    "```py\n",
    "@patch('example.func1')\n",
    "@patch('example.func2')\n",
    "@patch('example.func3')\n",
    "def test1(mock1, mock2, mock3):\n",
    "    ...\n",
    "\n",
    "def test2():\n",
    "    with patch('example.patch1') as mock1, \\\n",
    "         patch('example.patch2') as mock2, \\\n",
    "         patch('example.patch3') as mock3:\n",
    "    ...\n",
    "```\n"
   ]
  },
  {
   "cell_type": "markdown",
   "metadata": {},
   "source": [
    "`patch()` 接受一个已存在对象的全路径名，将其替换为一个新的值。\n",
    "\n",
    "原来的值会在装饰器函数或上下文管理器完成后自动恢复回来。 默认情况下，所有值会被 \n",
    "`MagicMock` 实例替代"
   ]
  },
  {
   "cell_type": "code",
   "execution_count": 26,
   "metadata": {
    "ExecuteTime": {
     "end_time": "2019-10-17T15:19:10.393579Z",
     "start_time": "2019-10-17T15:19:10.388699Z"
    }
   },
   "outputs": [
    {
     "name": "stdout",
     "output_type": "stream",
     "text": [
      "<MagicMock name='x' id='2680791932488'>\n"
     ]
    }
   ],
   "source": [
    "x = 42\n",
    "with patch('__main__.x'):\n",
    "     print(x)"
   ]
  },
  {
   "cell_type": "markdown",
   "metadata": {},
   "source": [
    "不过，你可以通过给 `patch()` 提供第二个参数来将值替换成任何你想要的："
   ]
  },
  {
   "cell_type": "code",
   "execution_count": 27,
   "metadata": {
    "ExecuteTime": {
     "end_time": "2019-10-17T15:20:18.158959Z",
     "start_time": "2019-10-17T15:20:18.154080Z"
    }
   },
   "outputs": [
    {
     "name": "stdout",
     "output_type": "stream",
     "text": [
      "patched_value\n"
     ]
    }
   ],
   "source": [
    "x = 42\n",
    "with patch('__main__.x', 'patched_value'):\n",
    "     print(x)"
   ]
  },
  {
   "cell_type": "markdown",
   "metadata": {},
   "source": [
    "被用来作为替换值的 `MagicMock` 实例能够模拟可调用对象和实例。 \n",
    "\n",
    "他们记录对象的使用信息并允许你执行断言检查，例如："
   ]
  },
  {
   "cell_type": "code",
   "execution_count": 28,
   "metadata": {
    "ExecuteTime": {
     "end_time": "2019-10-17T15:21:39.534333Z",
     "start_time": "2019-10-17T15:21:39.518717Z"
    }
   },
   "outputs": [
    {
     "data": {
      "text/plain": [
       "10"
      ]
     },
     "execution_count": 28,
     "metadata": {},
     "output_type": "execute_result"
    },
    {
     "ename": "AssertionError",
     "evalue": "Expected call: mock(1, 2)\nActual call: mock(1, 2, debug=True)",
     "output_type": "error",
     "traceback": [
      "\u001b[1;31m---------------------------------------------------------------------------\u001b[0m",
      "\u001b[1;31mAssertionError\u001b[0m                            Traceback (most recent call last)",
      "\u001b[1;32m<ipython-input-28-17506f6ab948>\u001b[0m in \u001b[0;36m<module>\u001b[1;34m()\u001b[0m\n\u001b[0;32m      3\u001b[0m \u001b[0mm\u001b[0m\u001b[1;33m(\u001b[0m\u001b[1;36m1\u001b[0m\u001b[1;33m,\u001b[0m \u001b[1;36m2\u001b[0m\u001b[1;33m,\u001b[0m \u001b[0mdebug\u001b[0m\u001b[1;33m=\u001b[0m\u001b[1;32mTrue\u001b[0m\u001b[1;33m)\u001b[0m \u001b[1;31m# 10\u001b[0m\u001b[1;33m\u001b[0m\u001b[0m\n\u001b[0;32m      4\u001b[0m \u001b[0mm\u001b[0m\u001b[1;33m.\u001b[0m\u001b[0massert_called_with\u001b[0m\u001b[1;33m(\u001b[0m\u001b[1;36m1\u001b[0m\u001b[1;33m,\u001b[0m \u001b[1;36m2\u001b[0m\u001b[1;33m,\u001b[0m \u001b[0mdebug\u001b[0m\u001b[1;33m=\u001b[0m\u001b[1;32mTrue\u001b[0m\u001b[1;33m)\u001b[0m\u001b[1;33m\u001b[0m\u001b[0m\n\u001b[1;32m----> 5\u001b[1;33m \u001b[0mm\u001b[0m\u001b[1;33m.\u001b[0m\u001b[0massert_called_with\u001b[0m\u001b[1;33m(\u001b[0m\u001b[1;36m1\u001b[0m\u001b[1;33m,\u001b[0m \u001b[1;36m2\u001b[0m\u001b[1;33m)\u001b[0m\u001b[1;33m\u001b[0m\u001b[0m\n\u001b[0m",
      "\u001b[1;32mD:\\anaconda\\lib\\unittest\\mock.py\u001b[0m in \u001b[0;36massert_called_with\u001b[1;34m(_mock_self, *args, **kwargs)\u001b[0m\n\u001b[0;32m    812\u001b[0m         \u001b[1;32mif\u001b[0m \u001b[0mexpected\u001b[0m \u001b[1;33m!=\u001b[0m \u001b[0mactual\u001b[0m\u001b[1;33m:\u001b[0m\u001b[1;33m\u001b[0m\u001b[0m\n\u001b[0;32m    813\u001b[0m             \u001b[0mcause\u001b[0m \u001b[1;33m=\u001b[0m \u001b[0mexpected\u001b[0m \u001b[1;32mif\u001b[0m \u001b[0misinstance\u001b[0m\u001b[1;33m(\u001b[0m\u001b[0mexpected\u001b[0m\u001b[1;33m,\u001b[0m \u001b[0mException\u001b[0m\u001b[1;33m)\u001b[0m \u001b[1;32melse\u001b[0m \u001b[1;32mNone\u001b[0m\u001b[1;33m\u001b[0m\u001b[0m\n\u001b[1;32m--> 814\u001b[1;33m             \u001b[1;32mraise\u001b[0m \u001b[0mAssertionError\u001b[0m\u001b[1;33m(\u001b[0m\u001b[0m_error_message\u001b[0m\u001b[1;33m(\u001b[0m\u001b[1;33m)\u001b[0m\u001b[1;33m)\u001b[0m \u001b[1;32mfrom\u001b[0m \u001b[0mcause\u001b[0m\u001b[1;33m\u001b[0m\u001b[0m\n\u001b[0m\u001b[0;32m    815\u001b[0m \u001b[1;33m\u001b[0m\u001b[0m\n\u001b[0;32m    816\u001b[0m \u001b[1;33m\u001b[0m\u001b[0m\n",
      "\u001b[1;31mAssertionError\u001b[0m: Expected call: mock(1, 2)\nActual call: mock(1, 2, debug=True)"
     ]
    }
   ],
   "source": [
    "from unittest.mock import MagicMock\n",
    "m = MagicMock(return_value = 10)\n",
    "m(1, 2, debug=True) # 10\n",
    "m.assert_called_with(1, 2, debug=True)\n",
    "m.assert_called_with(1, 2)"
   ]
  },
  {
   "cell_type": "code",
   "execution_count": 36,
   "metadata": {
    "ExecuteTime": {
     "end_time": "2019-10-17T15:30:57.517274Z",
     "start_time": "2019-10-17T15:30:57.505563Z"
    }
   },
   "outputs": [
    {
     "data": {
      "text/plain": [
       "'HELLO'"
      ]
     },
     "execution_count": 36,
     "metadata": {},
     "output_type": "execute_result"
    },
    {
     "data": {
      "text/plain": [
       "['hello', 'world']"
      ]
     },
     "execution_count": 36,
     "metadata": {},
     "output_type": "execute_result"
    },
    {
     "data": {
      "text/plain": [
       "<MagicMock name='mock.__getitem__()' id='2680792450328'>"
      ]
     },
     "execution_count": 36,
     "metadata": {},
     "output_type": "execute_result"
    },
    {
     "data": {
      "text/plain": [
       "True"
      ]
     },
     "execution_count": 36,
     "metadata": {},
     "output_type": "execute_result"
    }
   ],
   "source": [
    "m.upper.return_value = 'HELLO'\n",
    "m.upper('hello') # 'HELLO'\n",
    "\n",
    "assert m.upper.called # True\n",
    "\n",
    "m.split.return_value = ['hello', 'world']\n",
    "m.split('hello world') # ['hello', 'world']\n",
    "\n",
    "m.split.assert_called_with('hello world') # Expected call ; Actual call\n",
    "\n",
    "m['blah']\n",
    "\n",
    "m.__getitem__.called # True\n",
    "m.__getitem__.assert_called_with('blah') # Expected call ; Actual call"
   ]
  },
  {
   "cell_type": "markdown",
   "metadata": {},
   "source": [
    "# [assertRaises()]在单元测试中测试异常情况"
   ]
  },
  {
   "cell_type": "markdown",
   "metadata": {},
   "source": [
    "对于异常的测试可使用 `assertRaises()` 方法。 例如，如果你想测试某个函数抛出了 `ValueError` 异常，像下面这样写："
   ]
  },
  {
   "cell_type": "code",
   "execution_count": 77,
   "metadata": {
    "ExecuteTime": {
     "end_time": "2019-10-23T16:08:57.037899Z",
     "start_time": "2019-10-23T16:08:57.019354Z"
    }
   },
   "outputs": [
    {
     "name": "stdout",
     "output_type": "stream",
     "text": [
      "Writing test.py\n"
     ]
    }
   ],
   "source": [
    "%%file test.py\n",
    "\n",
    "import unittest\n",
    "\n",
    "# A simple function to illustrate\n",
    "def parse_int(s):\n",
    "    return int(s)\n",
    "\n",
    "class TestConversion(unittest.TestCase):\n",
    "    def test_bad_int(self):\n",
    "        self.assertRaises(ValueError, parse_int, 'N/A')"
   ]
  },
  {
   "cell_type": "code",
   "execution_count": 78,
   "metadata": {
    "ExecuteTime": {
     "end_time": "2019-10-23T16:09:12.506385Z",
     "start_time": "2019-10-23T16:09:12.321825Z"
    }
   },
   "outputs": [
    {
     "name": "stderr",
     "output_type": "stream",
     "text": [
      ".\n",
      "----------------------------------------------------------------------\n",
      "Ran 1 test in 0.000s\n",
      "\n",
      "OK\n"
     ]
    }
   ],
   "source": [
    "!python -m unittest test.py"
   ]
  },
  {
   "cell_type": "markdown",
   "metadata": {},
   "source": [
    "如果你想测试异常的具体值，需要用到另外一种方法："
   ]
  },
  {
   "cell_type": "code",
   "execution_count": 79,
   "metadata": {
    "ExecuteTime": {
     "end_time": "2019-10-23T16:09:40.315091Z",
     "start_time": "2019-10-23T16:09:40.195042Z"
    }
   },
   "outputs": [
    {
     "name": "stdout",
     "output_type": "stream",
     "text": [
      "Overwriting test.py\n"
     ]
    }
   ],
   "source": [
    "%%file test.py\n",
    "import errno\n",
    "import unittest\n",
    "\n",
    "class TestIO(unittest.TestCase):\n",
    "    def test_file_not_found(self):\n",
    "        try:\n",
    "            f = open('/file/not/found')\n",
    "        except IOError as e:\n",
    "            self.assertEqual(e.errno, errno.ENOENT)\n",
    "\n",
    "        else:\n",
    "            self.fail('IOError not raised')\n",
    "if __name__ == '__main__':\n",
    "    unittest.main()"
   ]
  },
  {
   "cell_type": "code",
   "execution_count": 80,
   "metadata": {
    "ExecuteTime": {
     "end_time": "2019-10-23T16:09:41.748958Z",
     "start_time": "2019-10-23T16:09:41.570272Z"
    }
   },
   "outputs": [
    {
     "name": "stderr",
     "output_type": "stream",
     "text": [
      ".\n",
      "----------------------------------------------------------------------\n",
      "Ran 1 test in 0.000s\n",
      "\n",
      "OK\n"
     ]
    }
   ],
   "source": [
    "!python -m unittest test.py"
   ]
  },
  {
   "cell_type": "markdown",
   "metadata": {},
   "source": [
    "## 讨论"
   ]
  },
  {
   "cell_type": "markdown",
   "metadata": {},
   "source": [
    "`assertRaises()` 方法为测试异常存在性提供了一个简便方法。 \n",
    "\n",
    "一个常见的陷阱是手动去进行异常检测"
   ]
  },
  {
   "cell_type": "code",
   "execution_count": 50,
   "metadata": {
    "ExecuteTime": {
     "end_time": "2019-10-19T17:29:40.282974Z",
     "start_time": "2019-10-19T17:29:40.263454Z"
    }
   },
   "outputs": [],
   "source": [
    "\n",
    "class TestConversion(unittest.TestCase):\n",
    "    def test_bad_int(self):\n",
    "        try:\n",
    "            r = parse_int('N/A')\n",
    "        except ValueError as e:\n",
    "            self.assertEqual(type(e), ValueError)"
   ]
  },
  {
   "cell_type": "markdown",
   "metadata": {},
   "source": [
    "这种方法的问题在于它很容易遗漏其他情况，比如没有任何异常抛出的时候。 那么你还得需要增加另外的检测过程，如下面这样："
   ]
  },
  {
   "cell_type": "code",
   "execution_count": null,
   "metadata": {},
   "outputs": [],
   "source": [
    "class TestConversion(unittest.TestCase):\n",
    "    def test_bad_int(self):\n",
    "        try:\n",
    "            r = parse_int('N/A')\n",
    "        except ValueError as e:\n",
    "            self.assertEqual(type(e), ValueError)\n",
    "        else:\n",
    "            self.fail('ValueError not raised')"
   ]
  },
  {
   "cell_type": "markdown",
   "metadata": {},
   "source": [
    "`assertRaises()` 方法会处理所有细节，因此你应该使用它。\n",
    "\n",
    "`assertRaises()` 的一个缺点是它测不了异常具体的值是多少。\n",
    "\n",
    "为了测试异常值，可以使用 `assertRaisesRegex()` 方法， 它可同时测试异常的存在以及通过正则式匹配异常的字符串表示。例如：\n",
    "\n",
    "```py\n",
    "class TestConversion(unittest.TestCase):\n",
    "    def test_bad_int(self):\n",
    "        self.assertRaisesRegex(\n",
    "            ValueError, \n",
    "            'invalid literal .*',\n",
    "            parse_int, \n",
    "            'N/A'\n",
    "        )\n",
    "```        \n",
    "        \n",
    "`assertRaises()` 和 `assertRaisesRegex()` 还有一个容易忽略的地方就是它们还能被当做上下文管理器使用：\n",
    "\n",
    "```py\n",
    "class TestConversion(unittest.TestCase):\n",
    "    def test_bad_int(self):\n",
    "        with self.assertRaisesRegex(\n",
    "            ValueError, \n",
    "            'invalid literal .*'\n",
    "            ):\n",
    "            \n",
    "            r = parse_int('N/A')\n",
    "```\n",
    "\n",
    "但你的测试涉及到多个执行步骤的时候这种方法就很有用了。"
   ]
  },
  {
   "cell_type": "markdown",
   "metadata": {},
   "source": [
    "# 将测试输出用日志记录到文件中"
   ]
  },
  {
   "cell_type": "markdown",
   "metadata": {},
   "source": [
    "运行单元测试一个常见技术就是在测试文件底部加入下面这段代码片段："
   ]
  },
  {
   "cell_type": "code",
   "execution_count": 59,
   "metadata": {
    "ExecuteTime": {
     "end_time": "2019-10-22T16:19:08.021699Z",
     "start_time": "2019-10-22T16:19:08.015708Z"
    }
   },
   "outputs": [
    {
     "name": "stdout",
     "output_type": "stream",
     "text": [
      "Overwriting MyTest.py\n"
     ]
    }
   ],
   "source": [
    "%%file MyTest.py\n",
    "import unittest\n",
    "\n",
    "class MyTest(unittest.TestCase):\n",
    "    pass\n",
    "\n",
    "if __name__ == '__main__':\n",
    "    unittest.main()"
   ]
  },
  {
   "cell_type": "code",
   "execution_count": 60,
   "metadata": {
    "ExecuteTime": {
     "end_time": "2019-10-22T16:19:09.198304Z",
     "start_time": "2019-10-22T16:19:09.023085Z"
    }
   },
   "outputs": [
    {
     "name": "stderr",
     "output_type": "stream",
     "text": [
      "\n",
      "----------------------------------------------------------------------\n",
      "Ran 0 tests in 0.000s\n",
      "\n",
      "OK\n"
     ]
    }
   ],
   "source": [
    "!python MyTest.py"
   ]
  },
  {
   "cell_type": "markdown",
   "metadata": {},
   "source": [
    "这样的话测试文件就是可执行的，并且会将运行测试的结果打印到标准输出上。 如果你想重定向输出，就需要像下面这样修改 `main()` 函数："
   ]
  },
  {
   "cell_type": "code",
   "execution_count": 61,
   "metadata": {
    "ExecuteTime": {
     "end_time": "2019-10-22T16:19:10.593680Z",
     "start_time": "2019-10-22T16:19:10.586725Z"
    }
   },
   "outputs": [
    {
     "name": "stdout",
     "output_type": "stream",
     "text": [
      "Overwriting MyTest.py\n"
     ]
    }
   ],
   "source": [
    "%%file MyTest.py\n",
    "import unittest\n",
    "import sys\n",
    "\n",
    "def main(out=sys.stderr, verbosity=2):\n",
    "    loader = unittest.TestLoader()\n",
    "    suite = loader.loadTestsFromModule(sys.modules[__name__])\n",
    "    unittest.TextTestRunner(out,verbosity=verbosity).run(suite)\n",
    "\n",
    "if __name__ == '__main__':\n",
    "    with open('testing.out', 'w') as f:\n",
    "        main(f)"
   ]
  },
  {
   "cell_type": "code",
   "execution_count": 62,
   "metadata": {
    "ExecuteTime": {
     "end_time": "2019-10-22T16:19:12.106164Z",
     "start_time": "2019-10-22T16:19:11.935869Z"
    }
   },
   "outputs": [],
   "source": [
    "!python MyTest.py"
   ]
  },
  {
   "cell_type": "code",
   "execution_count": null,
   "metadata": {
    "ExecuteTime": {
     "end_time": "2019-10-22T16:19:24.023426Z",
     "start_time": "2019-10-22T16:19:24.018440Z"
    }
   },
   "outputs": [],
   "source": [
    "# %load testing.out\n",
    "\n",
    "----------------------------------------------------------------------\n",
    "Ran 0 tests in 0.000s\n",
    "\n",
    "OK\n"
   ]
  },
  {
   "cell_type": "markdown",
   "metadata": {},
   "source": [
    "`unittest` 模块首先会组装一个测试套件。 \n",
    "\n",
    "这个测试套件包含了你定义的各种方法。\n",
    "\n",
    "一旦套件组装完成，它所包含的测试就可以被执行了。\n",
    "\n",
    "这两步是分开的， `unittest.TestLoader` 实例被用来组装测试套件。\n",
    "\n",
    "`loadTestsFromModule()` 是它定义的方法之一，用来收集测试用例。 \n",
    "\n",
    "它会为 `TestCase` 类扫描某个模块并将其中的测试方法提取出来。\n",
    "\n",
    "如果你想进行细粒度的控制， 可以使用 `loadTestsFromTestCase()` 方法来从某个继承 `TestCase` 的类中提取测试方法。 \n",
    "\n",
    "`TextTestRunner` 类是一个测试运行类的例子， 这个类的主要用途是执行某个测试套件中包含的测试方法。 \n",
    "\n",
    "这个类跟执行 `unittest.main()` 函数所使用的测试运行器是一样的。 \n",
    "\n",
    "不过，我们在这里对它进行了一些列底层配置，包括输出文件和提升级别。"
   ]
  },
  {
   "cell_type": "markdown",
   "metadata": {},
   "source": [
    "# [@unittest.skip]忽略或期望测试失败"
   ]
  },
  {
   "cell_type": "markdown",
   "metadata": {},
   "source": [
    "`unittest` 模块有装饰器可用来控制对指定测试方法的处理，例如："
   ]
  },
  {
   "cell_type": "code",
   "execution_count": 69,
   "metadata": {
    "ExecuteTime": {
     "end_time": "2019-10-22T16:24:38.768728Z",
     "start_time": "2019-10-22T16:24:38.576634Z"
    }
   },
   "outputs": [
    {
     "name": "stdout",
     "output_type": "stream",
     "text": [
      "Overwriting Tests_skip.py\n"
     ]
    }
   ],
   "source": [
    "%%file Tests_skip.py\n",
    "import unittest\n",
    "import os\n",
    "import platform\n",
    "\n",
    "class Tests(unittest.TestCase):\n",
    "    def test_0(self):\n",
    "        self.assertTrue(True)\n",
    "\n",
    "    @unittest.skip('skipped test')\n",
    "    def test_1(self):\n",
    "        self.fail('should have failed!')\n",
    "\n",
    "    @unittest.skipIf(os.name=='posix', 'Not supported on Unix')\n",
    "    def test_2(self):\n",
    "        import winreg\n",
    "\n",
    "    @unittest.skipUnless(platform.system() == 'Darwin', 'Mac specific test')\n",
    "    def test_3(self):\n",
    "        self.assertTrue(True)\n",
    "\n",
    "    @unittest.expectedFailure\n",
    "    def test_4(self):\n",
    "        self.assertEqual(2+2, 5)\n",
    "\n",
    "if __name__ == '__main__':\n",
    "    unittest.main()"
   ]
  },
  {
   "cell_type": "code",
   "execution_count": 71,
   "metadata": {
    "ExecuteTime": {
     "end_time": "2019-10-22T16:25:35.023035Z",
     "start_time": "2019-10-22T16:25:34.833695Z"
    }
   },
   "outputs": [
    {
     "name": "stderr",
     "output_type": "stream",
     "text": [
      "test_0 (__main__.Tests) ... ok\n",
      "test_1 (__main__.Tests) ... skipped 'skipped test'\n",
      "test_2 (__main__.Tests) ... ok\n",
      "test_3 (__main__.Tests) ... skipped 'Mac specific test'\n",
      "test_4 (__main__.Tests) ... expected failure\n",
      "\n",
      "----------------------------------------------------------------------\n",
      "Ran 5 tests in 0.000s\n",
      "\n",
      "OK (skipped=2, expected failures=1)\n"
     ]
    }
   ],
   "source": [
    "!python Tests_skip.py -v"
   ]
  },
  {
   "cell_type": "markdown",
   "metadata": {},
   "source": [
    "如果你在 `Mac` 上运行这段代码，你会得到如下输出：\n",
    "\n",
    "    bash % python3 testsample.py -v\n",
    "    test_0 (__main__.Tests) ... ok\n",
    "    test_1 (__main__.Tests) ... skipped 'skipped test'\n",
    "    test_2 (__main__.Tests) ... skipped 'Not supported on Unix'\n",
    "    test_3 (__main__.Tests) ... ok\n",
    "    test_4 (__main__.Tests) ... expected failure\n",
    "\n",
    "    ----------------------------------------------------------------------\n",
    "    Ran 5 tests in 0.002s\n",
    "\n",
    "    OK (skipped=2, expected failures=1)"
   ]
  },
  {
   "cell_type": "markdown",
   "metadata": {},
   "source": [
    "`skip()` 装饰器能被用来忽略某个你不想运行的测试。 \n",
    "\n",
    "`skipIf()` 和 `skipUnless()` 对于你只想在某个特定平台或 `Python` 版本或其他依赖成立时才运行测试的时候非常有用。 \n",
    "\n",
    "使用 `@expected` 的失败装饰器来标记那些确定会失败的测试，并且对这些测试你不想让测试框架打印更多信息\n",
    "\n",
    "忽略方法的装饰器还可以被用来装饰整个测试类，比如：\n",
    "\n",
    "```py\n",
    "@unittest.skipUnless(platform.system() == 'Darwin', 'Mac specific tests')\n",
    "class DarwinTests(unittest.TestCase):\n",
    "    pass\n",
    "```"
   ]
  },
  {
   "cell_type": "markdown",
   "metadata": {},
   "source": [
    "# [exception()]处理多个异常"
   ]
  },
  {
   "cell_type": "markdown",
   "metadata": {},
   "source": [
    "你有一个代码片段可能会抛出多个不同的异常，怎样才能不创建大量重复代码就能处理所有的可能异常呢？\n",
    "\n",
    "**解决方案**\n",
    "\n",
    "如果你可以用单个代码块处理不同的异常，可以将它们放入一个元组中，如下所示：\n",
    "\n",
    "```py\n",
    "try:\n",
    "    client_obj.get_url(url)\n",
    "except (URLError, ValueError, SocketTimeout):\n",
    "    client_obj.remove_url(url)\n",
    "```    \n",
    "    \n",
    "在这个例子中，元祖中任何一个异常发生时都会执行 `remove_url()` 方法。 如果你想对其中某个异常进行不同的处理，可以将其放入另外一个 `except` 语句中：    \n",
    "    \n",
    "```py\n",
    "try:\n",
    "    client_obj.get_url(url)\n",
    "except (URLError, ValueError):\n",
    "    client_obj.remove_url(url)\n",
    "except SocketTimeout:\n",
    "    client_obj.handle_url_timeout(url)\n",
    "```\n",
    "\n",
    "很多的异常会有层级关系，对于这种情况，你可能使用它们的一个基类来捕获所有的异常。例如，下面的代码：\n",
    "\n",
    "```py\n",
    "try:\n",
    "    f = open(filename)\n",
    "except (FileNotFoundError, PermissionError):\n",
    "    pass\n",
    "```    \n",
    "    \n",
    "可以被重写为：\n",
    "\n",
    "```py\n",
    "try:\n",
    "    f = open(filename)\n",
    "except OSError:\n",
    "    pass\n",
    "```    \n",
    "    \n",
    "`OSError` 是 `FileNotFoundError` 和 `PermissionError` 异常的基类。\n",
    "\n",
    "尽管处理多个异常本身并没什么特殊的，不过你可以使用 `as` 关键字来获得被抛出异常的引用：\n",
    "\n",
    "```py\n",
    "try:\n",
    "    f = open(filename)\n",
    "except OSError as e:\n",
    "    if e.errno == errno.ENOENT:\n",
    "        logger.error('File not found')\n",
    "    elif e.errno == errno.EACCES:\n",
    "        logger.error('Permission denied')\n",
    "    else:\n",
    "        logger.error('Unexpected error: %d', e.errno)\n",
    "```\n",
    "\n",
    " `e` 变量指向一个被抛出的 `OSError` 异常实例。 \n",
    " \n",
    "这个在你想更进一步分析这个异常的时候会很有用，比如基于某个状态码来处理它。\n",
    "\n",
    "同时还要注意的时候 `except` 语句是顺序检查的，第一个匹配的会执行。 \n",
    "\n",
    "你可以很容易的构造多个 `except` 同时匹配的情形，比如：\n",
    "\n",
    "```py\n",
    ">>> f = open('missing')\n",
    "Traceback (most recent call last):\n",
    "  File \"<stdin>\", line 1, in <module>\n",
    "FileNotFoundError: [Errno 2] No such file or directory: 'missing'\n",
    ">>> try:\n",
    "...     f = open('missing')\n",
    "... except OSError:\n",
    "...     print('It failed')\n",
    "... except FileNotFoundError:\n",
    "...     print('File not found')\n",
    "...\n",
    "It failed\n",
    ">>>\n",
    "```\n",
    "\n",
    "这里的 `FileNotFoundError` 语句并没有执行的原因是 `OSError` 更一般，它可匹配 `FileNotFoundError` 异常， 于是就是第一个匹配的。\n",
    "\n",
    "在调试的时候，如果你对某个特定异常的类成层级关系不是很确定， 你可以通过查看该异常的 `__mro__` 属性来快速浏览。\n",
    "\n",
    "比如：\n",
    "\n",
    "```py\n",
    ">>> FileNotFoundError.__mro__\n",
    "(<class 'FileNotFoundError'>, <class 'OSError'>, <class 'Exception'>,\n",
    " <class 'BaseException'>, <class 'object'>)\n",
    ">>>\n",
    "```\n",
    "\n",
    "上面列表中任何一个直到 `BaseException` 的类都能被用于 `except` 语句\n",
    "\n",
    "\n"
   ]
  },
  {
   "cell_type": "markdown",
   "metadata": {},
   "source": [
    "# [except Exception as e]捕获所有异常\n",
    "\n",
    "怎样捕获代码中的所有异常？\n",
    "\n",
    "**解决方案**\n",
    "\n",
    "想要捕获所有的异常，可以直接捕获 `Exception` 即可：\n",
    "\n",
    "```py\n",
    "try:\n",
    "    ...\n",
    "except Exception as e:\n",
    "    ...\n",
    "    log('Reason:', e)       # Important!\n",
    "```   \n",
    "   \n",
    "这个将会捕获除了 `SystemExit` 、 `KeyboardInterrupt` 和 `GeneratorExit` 之外的所有异常。 \n",
    "\n",
    "如果你还想捕获这三个异常，将 `Exception` 改成 `BaseException` 即可。\n",
    "\n"
   ]
  },
  {
   "cell_type": "code",
   "execution_count": 89,
   "metadata": {
    "ExecuteTime": {
     "end_time": "2019-10-23T16:19:36.765358Z",
     "start_time": "2019-10-23T16:19:36.760479Z"
    }
   },
   "outputs": [
    {
     "name": "stdout",
     "output_type": "stream",
     "text": [
      "Reason: division by zero\n"
     ]
    }
   ],
   "source": [
    "try:\n",
    "    1/0\n",
    "except Exception as e:\n",
    "    print('Reason:', e) "
   ]
  },
  {
   "cell_type": "markdown",
   "metadata": {},
   "source": [
    "## 讨论\n",
    "\n",
    "正因如此，如果你选择捕获所有异常，那么在某个地方（比如日志文件、打印异常到屏幕）打印确切原因就比较重要了。\n",
    "\n",
    "如果你没有这样做，有时候你看到异常打印时可能摸不着头脑，就像下面这样："
   ]
  },
  {
   "cell_type": "code",
   "execution_count": 82,
   "metadata": {
    "ExecuteTime": {
     "end_time": "2019-10-23T16:17:00.679053Z",
     "start_time": "2019-10-23T16:17:00.602822Z"
    }
   },
   "outputs": [],
   "source": [
    "def parse_int(s):\n",
    "    try:\n",
    "        n = int(v)\n",
    "    except Exception:\n",
    "        print(\"Couldn't parse\")"
   ]
  },
  {
   "cell_type": "code",
   "execution_count": 84,
   "metadata": {
    "ExecuteTime": {
     "end_time": "2019-10-23T16:17:15.323512Z",
     "start_time": "2019-10-23T16:17:15.319607Z"
    }
   },
   "outputs": [
    {
     "name": "stdout",
     "output_type": "stream",
     "text": [
      "Couldn't parse\n",
      "Couldn't parse\n"
     ]
    }
   ],
   "source": [
    "parse_int('n/a')\n",
    "parse_int('42')"
   ]
  },
  {
   "cell_type": "markdown",
   "metadata": {
    "ExecuteTime": {
     "end_time": "2019-10-23T16:20:38.685175Z",
     "start_time": "2019-10-23T16:20:38.586256Z"
    }
   },
   "source": [
    "像下面这样重写这个函数,这时候你能获取如下输出，指明了有个编程错误："
   ]
  },
  {
   "cell_type": "code",
   "execution_count": 88,
   "metadata": {
    "ExecuteTime": {
     "end_time": "2019-10-23T16:18:12.274970Z",
     "start_time": "2019-10-23T16:18:12.270090Z"
    }
   },
   "outputs": [
    {
     "name": "stdout",
     "output_type": "stream",
     "text": [
      "Couldn't parse\n",
      "Reason: name 'v' is not defined\n"
     ]
    }
   ],
   "source": [
    "def parse_int(s):\n",
    "    try:\n",
    "        n = int(v)\n",
    "    except Exception as e:\n",
    "        print(\"Couldn't parse\")\n",
    "        print('Reason:', e)\n",
    "parse_int('42')"
   ]
  },
  {
   "cell_type": "markdown",
   "metadata": {},
   "source": [
    "# [繼承Exception]创建自定义异常"
   ]
  },
  {
   "cell_type": "markdown",
   "metadata": {},
   "source": [
    "创建新的异常很简单——定义新的类，让它继承自 `Exception` （或者是任何一个已存在的异常类型）。 \n",
    "\n",
    "例如，如果你编写网络相关的程序，你可能会定义一些类似如下的异常：\n",
    "\n",
    "```py\n",
    "class NetworkError(Exception):\n",
    "    pass\n",
    "\n",
    "class HostnameError(NetworkError):\n",
    "    pass\n",
    "\n",
    "class TimeoutError(NetworkError):\n",
    "    pass\n",
    "\n",
    "class ProtocolError(NetworkError):\n",
    "    pass\n",
    "```    \n",
    "    \n",
    "然后用户就可以像通常那样使用这些异常了，例如：\n",
    "\n",
    "```py\n",
    "try:\n",
    "    msg = s.recv()\n",
    "except TimeoutError as e:\n",
    "    ...\n",
    "except ProtocolError as e:\n",
    "    ...\n",
    "```    \n",
    " \n",
    "--- \n",
    "    \n",
    "自定义异常类应该总是继承自内置的 `Exception` 类， 或者是继承自那些本身就是从 `Exception` 继承而来的类。 \n",
    "\n",
    "尽管所有类同时也继承自 `BaseException` ，但你不应该使用这个基类来定义新的异常。 \n",
    "\n",
    "`BaseException` 是为系统退出异常而保留的，比如 `KeyboardInterrupt` 或 `SystemExit` 以及其他那些会给应用发送信号而退出的异常。 \n",
    "\n",
    "因此，捕获这些异常本身没什么意义。 \n",
    "\n",
    "---\n",
    "\n",
    "这样的话，假如你继承 `BaseException` 可能会导致你的自定义异常不会被捕获而直接发送信号退出程序运行。\n",
    "\n",
    "在程序中引入自定义异常可以使得你的代码更具可读性，能清晰显示谁应该阅读这个代码。 \n",
    "\n",
    "还有一种设计是将自定义异常通过继承组合起来。\n",
    "\n",
    "在复杂应用程序中， 使用基类来分组各种异常类也是很有用的。\n",
    "\n",
    "它可以让用户捕获一个范围很窄的特定异常，比如下面这样的：\n",
    "\n",
    "```py\n",
    "try:\n",
    "    s.send(msg)\n",
    "except ProtocolError:\n",
    "    ...\n",
    "```    \n",
    "    \n",
    "你还能捕获更大范围的异常，就像下面这样：\n",
    "\n",
    "```py\n",
    "try:\n",
    "    s.send(msg)\n",
    "except NetworkError:\n",
    "    ...\n",
    "```    \n",
    "    \n",
    "如果你想定义的新异常重写了 `__init__()` 方法， 确保你使用所有参数调用 `Exception.__init__()` ，例如：    \n",
    "    \n",
    "```py    \n",
    "class CustomError(Exception):\n",
    "    def __init__(self, message, status):\n",
    "        super().__init__(message, status)\n",
    "        self.message = message\n",
    "        self.status = status    \n",
    "```\n",
    "\n",
    "不过 `Exception` 的默认行为是接受所有传递的参数并将它们以元组形式存储在 `.args` 属性中. \n",
    "\n",
    "很多其他函数库和部分 `Python` 库默认所有异常都必须有 `.args` 属性， 因此如果你忽略了这一步，你会发现有些时候你定义的新异常不会按照期望运行。 \n",
    "\n",
    "为了演示 `.args` 的使用，考虑下下面这个使用内置的 `RuntimeError` 异常的交互会话， 注意看 `raise` 语句中使用的参数个数是怎样的：\n",
    "\n"
   ]
  },
  {
   "cell_type": "code",
   "execution_count": 91,
   "metadata": {
    "ExecuteTime": {
     "end_time": "2019-10-23T16:26:56.915965Z",
     "start_time": "2019-10-23T16:26:56.852786Z"
    }
   },
   "outputs": [
    {
     "name": "stdout",
     "output_type": "stream",
     "text": [
      "('It failed',)\n"
     ]
    }
   ],
   "source": [
    "try:\n",
    "    raise RuntimeError('It failed')\n",
    "except RuntimeError as e:\n",
    "    print(e.args)"
   ]
  },
  {
   "cell_type": "code",
   "execution_count": 92,
   "metadata": {
    "ExecuteTime": {
     "end_time": "2019-10-23T16:27:12.771885Z",
     "start_time": "2019-10-23T16:27:12.681803Z"
    }
   },
   "outputs": [
    {
     "name": "stdout",
     "output_type": "stream",
     "text": [
      "('It failed', 42, 'spam')\n"
     ]
    }
   ],
   "source": [
    "try:\n",
    "    raise RuntimeError('It failed', 42, 'spam')\n",
    "except RuntimeError as e:\n",
    "\n",
    "    print(e.args)"
   ]
  },
  {
   "cell_type": "markdown",
   "metadata": {},
   "source": [
    "# [except : raise ]捕获异常后抛出另外的异常"
   ]
  },
  {
   "cell_type": "markdown",
   "metadata": {},
   "source": [
    "为了链接异常，使用 `raise from` 语句来代替简单的 `raise` 语句。 \n",
    "\n",
    "它会让你同时保留两个异常的信息。\n",
    "\n",
    "例如："
   ]
  },
  {
   "cell_type": "markdown",
   "metadata": {
    "ExecuteTime": {
     "end_time": "2019-10-24T15:23:04.987566Z",
     "start_time": "2019-10-24T15:23:04.257750Z"
    }
   },
   "source": [
    "def example():\n",
    "    try:\n",
    "        int('N/A')\n",
    "    except ValueError as e:\n",
    "        raise RuntimeError('A parsing error occurred') from e\n",
    "\n",
    "example()"
   ]
  },
  {
   "cell_type": "markdown",
   "metadata": {},
   "source": [
    "在回溯中可以看到，两个异常都被捕获。 \n",
    "\n",
    "要想捕获这样的异常，你可以使用一个简单的 `except` 语句。 \n",
    "\n",
    "不过，你还可以通过查看异常对象的 `__cause__` 属性来跟踪异常链。例如：\n"
   ]
  },
  {
   "cell_type": "code",
   "execution_count": 94,
   "metadata": {
    "ExecuteTime": {
     "end_time": "2019-10-24T15:24:23.196055Z",
     "start_time": "2019-10-24T15:24:23.188247Z"
    }
   },
   "outputs": [
    {
     "name": "stdout",
     "output_type": "stream",
     "text": [
      "It didn't work: A parsing error occurred\n",
      "Cause: invalid literal for int() with base 10: 'N/A'\n"
     ]
    }
   ],
   "source": [
    "try:\n",
    "    example()\n",
    "except RuntimeError as e:\n",
    "    print(\"It didn't work:\", e)\n",
    "\n",
    "    if e.__cause__:\n",
    "        print('Cause:', e.__cause__)"
   ]
  },
  {
   "cell_type": "markdown",
   "metadata": {},
   "source": [
    "当在 `except` 块中又有另外的异常被抛出时会导致一个隐藏的异常链的出现。\n",
    "\n",
    "例如："
   ]
  },
  {
   "cell_type": "code",
   "execution_count": 95,
   "metadata": {
    "ExecuteTime": {
     "end_time": "2019-10-24T15:26:43.954822Z",
     "start_time": "2019-10-24T15:26:43.855893Z"
    }
   },
   "outputs": [
    {
     "ename": "NameError",
     "evalue": "name 'err' is not defined",
     "output_type": "error",
     "traceback": [
      "\u001b[1;31m---------------------------------------------------------------------------\u001b[0m",
      "\u001b[1;31mValueError\u001b[0m                                Traceback (most recent call last)",
      "\u001b[1;32m<ipython-input-95-626dd1c1f39f>\u001b[0m in \u001b[0;36mexample2\u001b[1;34m()\u001b[0m\n\u001b[0;32m      2\u001b[0m     \u001b[1;32mtry\u001b[0m\u001b[1;33m:\u001b[0m\u001b[1;33m\u001b[0m\u001b[0m\n\u001b[1;32m----> 3\u001b[1;33m         \u001b[0mint\u001b[0m\u001b[1;33m(\u001b[0m\u001b[1;34m'N/A'\u001b[0m\u001b[1;33m)\u001b[0m\u001b[1;33m\u001b[0m\u001b[0m\n\u001b[0m\u001b[0;32m      4\u001b[0m     \u001b[1;32mexcept\u001b[0m \u001b[0mValueError\u001b[0m \u001b[1;32mas\u001b[0m \u001b[0me\u001b[0m\u001b[1;33m:\u001b[0m\u001b[1;33m\u001b[0m\u001b[0m\n",
      "\u001b[1;31mValueError\u001b[0m: invalid literal for int() with base 10: 'N/A'",
      "\nDuring handling of the above exception, another exception occurred:\n",
      "\u001b[1;31mNameError\u001b[0m                                 Traceback (most recent call last)",
      "\u001b[1;32m<ipython-input-95-626dd1c1f39f>\u001b[0m in \u001b[0;36m<module>\u001b[1;34m()\u001b[0m\n\u001b[0;32m      5\u001b[0m         \u001b[0mprint\u001b[0m\u001b[1;33m(\u001b[0m\u001b[1;34m\"Couldn't parse:\"\u001b[0m\u001b[1;33m,\u001b[0m \u001b[0merr\u001b[0m\u001b[1;33m)\u001b[0m\u001b[1;33m\u001b[0m\u001b[0m\n\u001b[0;32m      6\u001b[0m \u001b[1;33m\u001b[0m\u001b[0m\n\u001b[1;32m----> 7\u001b[1;33m \u001b[0mexample2\u001b[0m\u001b[1;33m(\u001b[0m\u001b[1;33m)\u001b[0m\u001b[1;33m\u001b[0m\u001b[0m\n\u001b[0m",
      "\u001b[1;32m<ipython-input-95-626dd1c1f39f>\u001b[0m in \u001b[0;36mexample2\u001b[1;34m()\u001b[0m\n\u001b[0;32m      3\u001b[0m         \u001b[0mint\u001b[0m\u001b[1;33m(\u001b[0m\u001b[1;34m'N/A'\u001b[0m\u001b[1;33m)\u001b[0m\u001b[1;33m\u001b[0m\u001b[0m\n\u001b[0;32m      4\u001b[0m     \u001b[1;32mexcept\u001b[0m \u001b[0mValueError\u001b[0m \u001b[1;32mas\u001b[0m \u001b[0me\u001b[0m\u001b[1;33m:\u001b[0m\u001b[1;33m\u001b[0m\u001b[0m\n\u001b[1;32m----> 5\u001b[1;33m         \u001b[0mprint\u001b[0m\u001b[1;33m(\u001b[0m\u001b[1;34m\"Couldn't parse:\"\u001b[0m\u001b[1;33m,\u001b[0m \u001b[0merr\u001b[0m\u001b[1;33m)\u001b[0m\u001b[1;33m\u001b[0m\u001b[0m\n\u001b[0m\u001b[0;32m      6\u001b[0m \u001b[1;33m\u001b[0m\u001b[0m\n\u001b[0;32m      7\u001b[0m \u001b[0mexample2\u001b[0m\u001b[1;33m(\u001b[0m\u001b[1;33m)\u001b[0m\u001b[1;33m\u001b[0m\u001b[0m\n",
      "\u001b[1;31mNameError\u001b[0m: name 'err' is not defined"
     ]
    }
   ],
   "source": [
    "def example2():\n",
    "    try:\n",
    "        int('N/A')\n",
    "    except ValueError as e:\n",
    "        print(\"Couldn't parse:\", err)\n",
    "        \n",
    "example2()"
   ]
  },
  {
   "cell_type": "markdown",
   "metadata": {},
   "source": [
    "这个例子中，你同时获得了两个异常的信息，但是对异常的解释不同。 \n",
    "\n",
    "这时候， `NameError` 异常被作为程序最终异常被抛出，而不是位于解析异常的直接回应中。\n",
    "\n",
    "如果，你想 **忽略掉异常链** ，可使用 `raise from None` :"
   ]
  },
  {
   "cell_type": "code",
   "execution_count": 96,
   "metadata": {
    "ExecuteTime": {
     "end_time": "2019-10-24T15:28:36.909810Z",
     "start_time": "2019-10-24T15:28:36.751363Z"
    }
   },
   "outputs": [
    {
     "ename": "RuntimeError",
     "evalue": "A parsing error occurred",
     "output_type": "error",
     "traceback": [
      "\u001b[1;31m---------------------------------------------------------------------------\u001b[0m",
      "\u001b[1;31mRuntimeError\u001b[0m                              Traceback (most recent call last)",
      "\u001b[1;32m<ipython-input-96-2ead85a0f560>\u001b[0m in \u001b[0;36m<module>\u001b[1;34m()\u001b[0m\n\u001b[0;32m      5\u001b[0m         \u001b[1;32mraise\u001b[0m \u001b[0mRuntimeError\u001b[0m\u001b[1;33m(\u001b[0m\u001b[1;34m'A parsing error occurred'\u001b[0m\u001b[1;33m)\u001b[0m \u001b[1;32mfrom\u001b[0m \u001b[1;32mNone\u001b[0m\u001b[1;33m\u001b[0m\u001b[0m\n\u001b[0;32m      6\u001b[0m \u001b[1;33m\u001b[0m\u001b[0m\n\u001b[1;32m----> 7\u001b[1;33m \u001b[0mexample3\u001b[0m\u001b[1;33m(\u001b[0m\u001b[1;33m)\u001b[0m\u001b[1;33m\u001b[0m\u001b[0m\n\u001b[0m",
      "\u001b[1;32m<ipython-input-96-2ead85a0f560>\u001b[0m in \u001b[0;36mexample3\u001b[1;34m()\u001b[0m\n\u001b[0;32m      3\u001b[0m         \u001b[0mint\u001b[0m\u001b[1;33m(\u001b[0m\u001b[1;34m'N/A'\u001b[0m\u001b[1;33m)\u001b[0m\u001b[1;33m\u001b[0m\u001b[0m\n\u001b[0;32m      4\u001b[0m     \u001b[1;32mexcept\u001b[0m \u001b[0mValueError\u001b[0m\u001b[1;33m:\u001b[0m\u001b[1;33m\u001b[0m\u001b[0m\n\u001b[1;32m----> 5\u001b[1;33m         \u001b[1;32mraise\u001b[0m \u001b[0mRuntimeError\u001b[0m\u001b[1;33m(\u001b[0m\u001b[1;34m'A parsing error occurred'\u001b[0m\u001b[1;33m)\u001b[0m \u001b[1;32mfrom\u001b[0m \u001b[1;32mNone\u001b[0m\u001b[1;33m\u001b[0m\u001b[0m\n\u001b[0m\u001b[0;32m      6\u001b[0m \u001b[1;33m\u001b[0m\u001b[0m\n\u001b[0;32m      7\u001b[0m \u001b[0mexample3\u001b[0m\u001b[1;33m(\u001b[0m\u001b[1;33m)\u001b[0m\u001b[1;33m\u001b[0m\u001b[0m\n",
      "\u001b[1;31mRuntimeError\u001b[0m: A parsing error occurred"
     ]
    }
   ],
   "source": [
    "def example3():\n",
    "    try:\n",
    "        int('N/A')\n",
    "    except ValueError:\n",
    "        raise RuntimeError('A parsing error occurred') from None\n",
    "\n",
    "example3()"
   ]
  },
  {
   "cell_type": "markdown",
   "metadata": {},
   "source": [
    "## 讨论\n",
    "\n",
    "在设计代码时，在另外一个 `except` 代码块中使用 `raise` 语句的时候你要特别小心了。 \n",
    "\n",
    "大多数情况下，这种 `raise` 语句都应该被改成 `raise from` 语句。\n",
    "\n",
    "也就是说你应该使用下面这种形式：\n",
    "\n",
    "```py\n",
    "try:\n",
    "   ...\n",
    "except SomeException as e:\n",
    "   raise DifferentException() from e\n",
    "```   \n",
    "   \n",
    "这样做的原因是你应该显示的将原因链接起来。 也就是说， `DifferentException` 是直接从 `SomeException` 衍生而来。 这种关系可以从回溯结果中看出来。\n",
    "\n",
    "如果你像下面这样写代码，你仍然会得到一个链接异常， 不过这个并没有很清晰的说明这个异常链到底是内部异常还是某个未知的编程错误。\n",
    "\n",
    "```py\n",
    "try:\n",
    "   ...\n",
    "except SomeException:\n",
    "   raise DifferentException()\n",
    "```   \n",
    "   \n",
    "当你使用 `raise from` 语句的话，就很清楚的表明抛出的是第二个异常。"
   ]
  },
  {
   "cell_type": "markdown",
   "metadata": {},
   "source": [
    "# 重新抛出被捕获的异常"
   ]
  },
  {
   "cell_type": "markdown",
   "metadata": {},
   "source": [
    "简单的使用一个单独的 `rasie` 语句即可，例如："
   ]
  },
  {
   "cell_type": "code",
   "execution_count": 97,
   "metadata": {
    "ExecuteTime": {
     "end_time": "2019-10-24T15:45:00.362647Z",
     "start_time": "2019-10-24T15:45:00.267976Z"
    }
   },
   "outputs": [
    {
     "name": "stdout",
     "output_type": "stream",
     "text": [
      "Didn't work\n"
     ]
    },
    {
     "ename": "ValueError",
     "evalue": "invalid literal for int() with base 10: 'N/A'",
     "output_type": "error",
     "traceback": [
      "\u001b[1;31m---------------------------------------------------------------------------\u001b[0m",
      "\u001b[1;31mValueError\u001b[0m                                Traceback (most recent call last)",
      "\u001b[1;32m<ipython-input-97-4f0767c2af21>\u001b[0m in \u001b[0;36m<module>\u001b[1;34m()\u001b[0m\n\u001b[0;32m      6\u001b[0m         \u001b[1;32mraise\u001b[0m\u001b[1;33m\u001b[0m\u001b[0m\n\u001b[0;32m      7\u001b[0m \u001b[1;33m\u001b[0m\u001b[0m\n\u001b[1;32m----> 8\u001b[1;33m \u001b[0mexample\u001b[0m\u001b[1;33m(\u001b[0m\u001b[1;33m)\u001b[0m\u001b[1;33m\u001b[0m\u001b[0m\n\u001b[0m",
      "\u001b[1;32m<ipython-input-97-4f0767c2af21>\u001b[0m in \u001b[0;36mexample\u001b[1;34m()\u001b[0m\n\u001b[0;32m      1\u001b[0m \u001b[1;32mdef\u001b[0m \u001b[0mexample\u001b[0m\u001b[1;33m(\u001b[0m\u001b[1;33m)\u001b[0m\u001b[1;33m:\u001b[0m\u001b[1;33m\u001b[0m\u001b[0m\n\u001b[0;32m      2\u001b[0m     \u001b[1;32mtry\u001b[0m\u001b[1;33m:\u001b[0m\u001b[1;33m\u001b[0m\u001b[0m\n\u001b[1;32m----> 3\u001b[1;33m         \u001b[0mint\u001b[0m\u001b[1;33m(\u001b[0m\u001b[1;34m'N/A'\u001b[0m\u001b[1;33m)\u001b[0m\u001b[1;33m\u001b[0m\u001b[0m\n\u001b[0m\u001b[0;32m      4\u001b[0m     \u001b[1;32mexcept\u001b[0m \u001b[0mValueError\u001b[0m\u001b[1;33m:\u001b[0m\u001b[1;33m\u001b[0m\u001b[0m\n\u001b[0;32m      5\u001b[0m         \u001b[0mprint\u001b[0m\u001b[1;33m(\u001b[0m\u001b[1;34m\"Didn't work\"\u001b[0m\u001b[1;33m)\u001b[0m\u001b[1;33m\u001b[0m\u001b[0m\n",
      "\u001b[1;31mValueError\u001b[0m: invalid literal for int() with base 10: 'N/A'"
     ]
    }
   ],
   "source": [
    "def example():\n",
    "    try:\n",
    "        int('N/A')\n",
    "    except ValueError:\n",
    "        print(\"Didn't work\")\n",
    "        raise\n",
    "\n",
    "example()"
   ]
  },
  {
   "cell_type": "markdown",
   "metadata": {},
   "source": [
    "这个问题通常是当你需要在捕获异常后执行某个操作（比如记录日志、清理等），但是之后想将异常传播下去。 一个很常见的用法是在捕获所有异常的处理器中：\n",
    "\n",
    "```py\n",
    "try:\n",
    "    ...\n",
    "except Exception as e:\n",
    "    # Process exception information in some way\n",
    "    ...\n",
    "\n",
    "    # Propagate the exception\n",
    "    raise\n",
    "```"
   ]
  },
  {
   "cell_type": "markdown",
   "metadata": {},
   "source": [
    "# [無預期輸出]输出警告信息"
   ]
  },
  {
   "cell_type": "markdown",
   "metadata": {
    "ExecuteTime": {
     "end_time": "2019-10-25T15:47:57.350695Z",
     "start_time": "2019-10-25T15:47:57.206247Z"
    }
   },
   "source": [
    "要输出一个警告消息，可使用 `warning.warn()` 函数。例如：\n",
    "\n",
    "```py\n",
    "import warnings\n",
    "\n",
    "def func(x, y, logfile=None, debug=False):\n",
    "    if logfile is not None:\n",
    "         warnings.warn('logfile argument deprecated', DeprecationWarning)\n",
    "    ...\n",
    "```    \n",
    "    \n",
    "`warn()` 的参数是一个警告消息和一个警告类，警告类有如下几种：`UserWarning` , `DeprecationWarning` , `SyntaxWarning` , `RuntimeWarning` , `ResourceWarning` , 或 `FutureWarning` .\n",
    "\n",
    "对警告的处理取决于你如何运行解释器以及一些其他配置。 例如，如果你使用 `-W all` 选项去运行 `Python`，你会得到如下的输出：\n",
    "\n",
    "```py\n",
    "bash % python3 -W all example.py\n",
    "example.py:5: DeprecationWarning: logfile argument is deprecated\n",
    "  warnings.warn('logfile argument is deprecated', DeprecationWarning)\n",
    "```\n",
    "\n",
    "通常来讲，警告会输出到标准错误上。如果你想讲警告转换为异常，可以使用 `-W error` 选项：\n",
    "\n",
    "```py\n",
    "bash % python3 -W error example.py\n",
    "Traceback (most recent call last):\n",
    "  File \"example.py\", line 10, in <module>\n",
    "    func(2, 3, logfile='log.txt')\n",
    "  File \"example.py\", line 5, in func\n",
    "    warnings.warn('logfile argument is deprecated', DeprecationWarning)\n",
    "DeprecationWarning: logfile argument is deprecated\n",
    "bash %\n",
    "```"
   ]
  },
  {
   "cell_type": "markdown",
   "metadata": {},
   "source": [
    "# [通常依賴IDE DEBUG; 此篇為python自身DEBUG]调试基本的程序崩溃错误"
   ]
  },
  {
   "cell_type": "markdown",
   "metadata": {},
   "source": [
    "如果你的程序因为某个异常而崩溃，运行 `python3 -i someprogram.py` 可执行简单的调试。\n",
    "\n",
    "`-i` 选项可让程序结束后打开一个交互式 `shell` 。 然后你就能查看环境，例如，假设你有下面的代码："
   ]
  },
  {
   "cell_type": "code",
   "execution_count": 99,
   "metadata": {
    "ExecuteTime": {
     "end_time": "2019-10-24T15:47:36.547976Z",
     "start_time": "2019-10-24T15:47:36.382747Z"
    }
   },
   "outputs": [
    {
     "name": "stdout",
     "output_type": "stream",
     "text": [
      "Writing sample.py\n"
     ]
    }
   ],
   "source": [
    "%%file sample.py\n",
    "\n",
    "def func(n):\n",
    "    return n + 10\n",
    "\n",
    "func('Hello')"
   ]
  },
  {
   "cell_type": "code",
   "execution_count": 3,
   "metadata": {
    "ExecuteTime": {
     "end_time": "2019-10-24T16:02:27.458837Z",
     "start_time": "2019-10-24T16:02:27.441268Z"
    }
   },
   "outputs": [
    {
     "name": "stdout",
     "output_type": "stream",
     "text": [
      "python -i \"D:\\CODE\\GitHub\\py\\資料結構\\py3-cookbook\\调试和异常\\sample.py\"\n",
      "D:\\CODE\\GitHub\\py\\資料結構\\py3-cookbook\\调试和异常\n"
     ]
    },
    {
     "data": {
      "text/plain": [
       "<subprocess.Popen at 0x146aa07ad30>"
      ]
     },
     "execution_count": 3,
     "metadata": {},
     "output_type": "execute_result"
    }
   ],
   "source": [
    "# ============ 開新 CONSOLE ============\n",
    "# ------------ Run the server ------------\n",
    "\n",
    "import os\n",
    "import subprocess\n",
    "# os.path.abspath {本黨位置}: D:\\Google 雲端硬碟\\learn\\線程調用\\TestOS.py\n",
    "# os.path.dirname {目錄} : D:\\Google 雲端硬碟\\learn\\線程調用\n",
    "BASE_DIR = os.path.dirname(os.path.abspath('__file__'))\n",
    "# 透過 cmd 呼叫\n",
    "DIR = os.path.join(BASE_DIR, 'sample.py')\n",
    "cmd = \"python \" + \"-i \" f'\"{DIR}\"'\n",
    "print(cmd,BASE_DIR,sep='\\n')\n",
    "#  CONSOLE混雜\n",
    "#os.system(cmd)\n",
    "#subprocess.call(cmd)\n",
    "\n",
    "#  NEW 一個 CONSOLE\n",
    "subprocess.Popen(cmd, creationflags=subprocess.CREATE_NEW_CONSOLE)"
   ]
  },
  {
   "cell_type": "markdown",
   "metadata": {
    "ExecuteTime": {
     "end_time": "2019-10-24T16:03:46.111336Z",
     "start_time": "2019-10-24T16:03:46.105484Z"
    }
   },
   "source": [
    "运行 `python3 -i sample.py` 会有类似如下的输出：\n",
    "\n",
    "```py\n",
    "bash % python3 -i sample.py\n",
    "Traceback (most recent call last):\n",
    "  File \"sample.py\", line 6, in <module>\n",
    "    func('Hello')\n",
    "  File \"sample.py\", line 4, in func\n",
    "    return n + 10\n",
    "TypeError: Can't convert 'int' object to str implicitly\n",
    ">>> func(10)\n",
    "20\n",
    ">>>\n",
    "```"
   ]
  },
  {
   "cell_type": "markdown",
   "metadata": {},
   "source": [
    "如果你的代码所在的环境很难获取交互 `shell` （比如在某个服务器上面）， 通常可以捕获异常后自己打印跟踪信息。例如：\n",
    "\n",
    "```py\n",
    "import traceback\n",
    "import sys\n",
    "\n",
    "try:\n",
    "    func(arg)\n",
    "except:\n",
    "    print('**** AN ERROR OCCURRED ****')\n",
    "    traceback.print_exc(file=sys.stderr)\n",
    "```    \n",
    "    \n",
    "要是你的程序没有崩溃，而只是产生了一些你看不懂的结果， 你在感兴趣的地方插入一下 `print()` 语句也是个不错的选择。 \n",
    "\n",
    "不过，要是你打算这样做，有一些小技巧可以帮助你。 \n",
    "\n",
    "首先， `traceback.print_stack()` 函数会你程序运行到那个点的时候创建一个跟踪栈。例如："
   ]
  },
  {
   "cell_type": "code",
   "execution_count": 3,
   "metadata": {
    "ExecuteTime": {
     "end_time": "2019-10-24T16:19:31.510632Z",
     "start_time": "2019-10-24T16:19:31.163280Z"
    }
   },
   "outputs": [
    {
     "name": "stderr",
     "output_type": "stream",
     "text": [
      "  File \"D:\\anaconda\\lib\\runpy.py\", line 193, in _run_module_as_main\n",
      "    \"__main__\", mod_spec)\n",
      "  File \"D:\\anaconda\\lib\\runpy.py\", line 85, in _run_code\n",
      "    exec(code, run_globals)\n",
      "  File \"D:\\anaconda\\lib\\site-packages\\ipykernel\\__main__.py\", line 3, in <module>\n",
      "    app.launch_new_instance()\n",
      "  File \"D:\\anaconda\\lib\\site-packages\\traitlets\\config\\application.py\", line 658, in launch_instance\n",
      "    app.start()\n",
      "  File \"D:\\anaconda\\lib\\site-packages\\ipykernel\\kernelapp.py\", line 486, in start\n",
      "    self.io_loop.start()\n",
      "  File \"D:\\anaconda\\lib\\site-packages\\tornado\\platform\\asyncio.py\", line 127, in start\n",
      "    self.asyncio_loop.run_forever()\n",
      "  File \"D:\\anaconda\\lib\\asyncio\\base_events.py\", line 422, in run_forever\n",
      "    self._run_once()\n",
      "  File \"D:\\anaconda\\lib\\asyncio\\base_events.py\", line 1432, in _run_once\n",
      "    handle._run()\n",
      "  File \"D:\\anaconda\\lib\\asyncio\\events.py\", line 145, in _run\n",
      "    self._callback(*self._args)\n",
      "  File \"D:\\anaconda\\lib\\site-packages\\tornado\\platform\\asyncio.py\", line 117, in _handle_events\n",
      "    handler_func(fileobj, events)\n",
      "  File \"D:\\anaconda\\lib\\site-packages\\tornado\\stack_context.py\", line 276, in null_wrapper\n",
      "    return fn(*args, **kwargs)\n",
      "  File \"D:\\anaconda\\lib\\site-packages\\zmq\\eventloop\\zmqstream.py\", line 450, in _handle_events\n",
      "    self._handle_recv()\n",
      "  File \"D:\\anaconda\\lib\\site-packages\\zmq\\eventloop\\zmqstream.py\", line 480, in _handle_recv\n",
      "    self._run_callback(callback, msg)\n",
      "  File \"D:\\anaconda\\lib\\site-packages\\zmq\\eventloop\\zmqstream.py\", line 432, in _run_callback\n",
      "    callback(*args, **kwargs)\n",
      "  File \"D:\\anaconda\\lib\\site-packages\\tornado\\stack_context.py\", line 276, in null_wrapper\n",
      "    return fn(*args, **kwargs)\n",
      "  File \"D:\\anaconda\\lib\\site-packages\\ipykernel\\kernelbase.py\", line 283, in dispatcher\n",
      "    return self.dispatch_shell(stream, msg)\n",
      "  File \"D:\\anaconda\\lib\\site-packages\\ipykernel\\kernelbase.py\", line 233, in dispatch_shell\n",
      "    handler(stream, idents, msg)\n",
      "  File \"D:\\anaconda\\lib\\site-packages\\ipykernel\\kernelbase.py\", line 399, in execute_request\n",
      "    user_expressions, allow_stdin)\n",
      "  File \"D:\\anaconda\\lib\\site-packages\\ipykernel\\ipkernel.py\", line 208, in do_execute\n",
      "    res = shell.run_cell(code, store_history=store_history, silent=silent)\n",
      "  File \"D:\\anaconda\\lib\\site-packages\\ipykernel\\zmqshell.py\", line 537, in run_cell\n",
      "    return super(ZMQInteractiveShell, self).run_cell(*args, **kwargs)\n",
      "  File \"D:\\anaconda\\lib\\site-packages\\IPython\\core\\interactiveshell.py\", line 2662, in run_cell\n",
      "    raw_cell, store_history, silent, shell_futures)\n",
      "  File \"D:\\anaconda\\lib\\site-packages\\IPython\\core\\interactiveshell.py\", line 2785, in _run_cell\n",
      "    interactivity=interactivity, compiler=compiler, result=result)\n",
      "  File \"D:\\anaconda\\lib\\site-packages\\IPython\\core\\interactiveshell.py\", line 2909, in run_ast_nodes\n",
      "    if self.run_code(code, result):\n",
      "  File \"D:\\anaconda\\lib\\site-packages\\IPython\\core\\interactiveshell.py\", line 2963, in run_code\n",
      "    exec(code_obj, self.user_global_ns, self.user_ns)\n",
      "  File \"<ipython-input-3-a73e876084a1>\", line 10, in <module>\n",
      "    sample(5)\n",
      "  File \"<ipython-input-3-a73e876084a1>\", line 6, in sample\n",
      "    sample(n-1)\n",
      "  File \"<ipython-input-3-a73e876084a1>\", line 6, in sample\n",
      "    sample(n-1)\n",
      "  File \"<ipython-input-3-a73e876084a1>\", line 6, in sample\n",
      "    sample(n-1)\n",
      "  [Previous line repeated 1 more times]\n",
      "  File \"<ipython-input-3-a73e876084a1>\", line 8, in sample\n",
      "    traceback.print_stack(file=sys.stderr)\n"
     ]
    }
   ],
   "source": [
    "import traceback\n",
    "import sys\n",
    "\n",
    "def sample(n):\n",
    "    if n > 0:\n",
    "            sample(n-1)\n",
    "    else:\n",
    "            traceback.print_stack(file=sys.stderr)\n",
    "\n",
    "sample(5)"
   ]
  },
  {
   "cell_type": "markdown",
   "metadata": {},
   "source": [
    "# 给你的程序做性能测试"
   ]
  },
  {
   "cell_type": "markdown",
   "metadata": {},
   "source": [
    "如果你只是简单的想测试下你的程序整体花费的时间， 通常使用 `Unix` 时间函数就行了，比如：\n",
    "\n",
    "**shell**\n",
    "\n",
    "```sh\n",
    "bash % time python3 someprogram.py\n",
    "real 0m13.937s\n",
    "user 0m12.162s\n",
    "sys  0m0.098s\n",
    "bash %\n",
    "```\n",
    "\n",
    "**cmd**\n",
    "\n",
    "```cmd\n",
    "python3 -m cProfile someprogram.py\n",
    "         859647 function calls in 16.016 CPU seconds\n",
    "\n",
    "   Ordered by: standard name\n",
    "\n",
    "   ncalls  tottime  percall  cumtime  percall filename:lineno(function)\n",
    "   263169    0.080    0.000    0.080    0.000 someprogram.py:16(frange)\n",
    "      513    0.001    0.000    0.002    0.000 someprogram.py:30(generate_mandel)\n",
    "   262656    0.194    0.000   15.295    0.000 someprogram.py:32(<genexpr>)\n",
    "        1    0.036    0.036   16.077   16.077 someprogram.py:4(<module>)\n",
    "   262144   15.021    0.000   15.021    0.000 someprogram.py:4(in_mandelbrot)\n",
    "        1    0.000    0.000    0.000    0.000 os.py:746(urandom)\n",
    "        1    0.000    0.000    0.000    0.000 png.py:1056(_readable)\n",
    "        1    0.000    0.000    0.000    0.000 png.py:1073(Reader)\n",
    "        1    0.227    0.227    0.438    0.438 png.py:163(<module>)\n",
    "      512    0.010    0.000    0.010    0.000 png.py:200(group)\n",
    "```\n",
    "\n",
    "不过通常情况是介于这两个极端之间。\n",
    "\n",
    "比如你已经知道代码运行时在少数几个函数中花费了绝大部分时间。 \n",
    "\n",
    "对于这些函数的性能测试，可以使用一个简单的装饰器：\n"
   ]
  },
  {
   "cell_type": "markdown",
   "metadata": {},
   "source": [
    "## 装饰器[time.perf_counter()]\n",
    "\n"
   ]
  },
  {
   "cell_type": "code",
   "execution_count": 13,
   "metadata": {
    "ExecuteTime": {
     "end_time": "2019-10-25T16:38:10.797048Z",
     "start_time": "2019-10-25T16:38:10.690178Z"
    }
   },
   "outputs": [],
   "source": [
    "# timethis.py\n",
    "\n",
    "import time\n",
    "from functools import wraps\n",
    "\n",
    "def timethis(func):\n",
    "    @wraps(func)\n",
    "    def wrapper(*args, **kwargs):\n",
    "        start = time.perf_counter()\n",
    "        r = func(*args, **kwargs)\n",
    "        end = time.perf_counter()\n",
    "        print('{}.{} : {}'.format(func.__module__, func.__name__, end - start))\n",
    "        return r\n",
    "    return wrapper"
   ]
  },
  {
   "cell_type": "code",
   "execution_count": 14,
   "metadata": {
    "ExecuteTime": {
     "end_time": "2019-10-25T16:38:28.148160Z",
     "start_time": "2019-10-25T16:38:27.548937Z"
    }
   },
   "outputs": [
    {
     "name": "stdout",
     "output_type": "stream",
     "text": [
      "__main__.countdown : 0.5931613\n"
     ]
    }
   ],
   "source": [
    "@timethis\n",
    "def countdown(n):\n",
    "    while n > 0:\n",
    "            n -= 1\n",
    "            \n",
    "countdown(10000000)"
   ]
  },
  {
   "cell_type": "markdown",
   "metadata": {},
   "source": [
    "## 上下文管理器\n",
    "\n",
    "要测试某个代码块运行时间，你可以定义一个上下文管理器，例如：\n"
   ]
  },
  {
   "cell_type": "code",
   "execution_count": 15,
   "metadata": {
    "ExecuteTime": {
     "end_time": "2019-10-25T16:39:27.603259Z",
     "start_time": "2019-10-25T16:39:27.598380Z"
    }
   },
   "outputs": [],
   "source": [
    "\n",
    "from contextlib import contextmanager\n",
    "\n",
    "@contextmanager\n",
    "def timeblock(label):\n",
    "    start = time.perf_counter()\n",
    "    try:\n",
    "        yield\n",
    "    finally:\n",
    "        end = time.perf_counter()\n",
    "        print('{} : {}'.format(label, end - start))"
   ]
  },
  {
   "cell_type": "code",
   "execution_count": 16,
   "metadata": {
    "ExecuteTime": {
     "end_time": "2019-10-25T16:39:49.190214Z",
     "start_time": "2019-10-25T16:39:48.245820Z"
    }
   },
   "outputs": [
    {
     "name": "stdout",
     "output_type": "stream",
     "text": [
      "counting : 0.9394621000000001\n"
     ]
    }
   ],
   "source": [
    "with timeblock('counting'):\n",
    "    n = 10000000\n",
    "    while n > 0:\n",
    "        n -= 1"
   ]
  },
  {
   "cell_type": "markdown",
   "metadata": {},
   "source": [
    "## timeit\n",
    "\n",
    "对于测试很小的代码片段运行性能，使用 `timeit` 模块会很方便，例如："
   ]
  },
  {
   "cell_type": "code",
   "execution_count": 17,
   "metadata": {
    "ExecuteTime": {
     "end_time": "2019-10-25T16:41:11.664668Z",
     "start_time": "2019-10-25T16:41:11.282076Z"
    }
   },
   "outputs": [
    {
     "data": {
      "text/plain": [
       "0.15210529999998812"
      ]
     },
     "execution_count": 17,
     "metadata": {},
     "output_type": "execute_result"
    },
    {
     "data": {
      "text/plain": [
       "0.1220621999999878"
      ]
     },
     "execution_count": 17,
     "metadata": {},
     "output_type": "execute_result"
    }
   ],
   "source": [
    "from timeit import timeit\n",
    "timeit('math.sqrt(2)', 'import math')\n",
    "timeit('sqrt(2)', 'from math import sqrt')"
   ]
  },
  {
   "cell_type": "markdown",
   "metadata": {},
   "source": [
    "`timeit` 会执行第一个参数中语句100万次并计算运行时间。 \n",
    "\n",
    "第二个参数是运行测试之前配置环境。如果你想改变循环执行次数， 可以像下面这样设置 `number` 参数的值："
   ]
  },
  {
   "cell_type": "code",
   "execution_count": 19,
   "metadata": {
    "ExecuteTime": {
     "end_time": "2019-10-25T16:42:38.835839Z",
     "start_time": "2019-10-25T16:42:36.093435Z"
    }
   },
   "outputs": [
    {
     "data": {
      "text/plain": [
       "1.5675396999999975"
      ]
     },
     "execution_count": 19,
     "metadata": {},
     "output_type": "execute_result"
    },
    {
     "data": {
      "text/plain": [
       "1.1658985999999913"
      ]
     },
     "execution_count": 19,
     "metadata": {},
     "output_type": "execute_result"
    }
   ],
   "source": [
    "timeit('math.sqrt(2)', 'import math', number=10000000)\n",
    "timeit('sqrt(2)', 'from math import sqrt', number=10000000)"
   ]
  },
  {
   "cell_type": "markdown",
   "metadata": {},
   "source": [
    "## 討論[time.process_time()]\n",
    "\n",
    "当执行性能测试的时候，需要注意的是你获取的结果都是近似值。 \n",
    "\n",
    "`time.perf_counter()` 函数会在给定平台上获取最高精度的计时值。 \n",
    "\n",
    "不过，它仍然还是基于时钟时间，很多因素会影响到它的精确度，比如机器负载。 \n",
    "\n",
    "如果你对于执行时间更感兴趣，使用 `time.process_time()` 来代替它。例如：\n",
    "\n",
    "如果你想进行更深入的性能分析，那么你需要详细阅读 `time` 、 `timeit` 和其他相关模块的文档。 \n",
    "\n",
    "这样你可以理解和平台相关的差异以及一些其他陷阱。"
   ]
  },
  {
   "cell_type": "code",
   "execution_count": 20,
   "metadata": {
    "ExecuteTime": {
     "end_time": "2019-10-25T16:44:53.139660Z",
     "start_time": "2019-10-25T16:44:53.133804Z"
    }
   },
   "outputs": [],
   "source": [
    "from functools import wraps\n",
    "def timethis(func):\n",
    "    @wraps(func)\n",
    "    def wrapper(*args, **kwargs):\n",
    "        start = time.process_time()\n",
    "        r = func(*args, **kwargs)\n",
    "        end = time.process_time()\n",
    "        print('{}.{} : {}'.format(func.__module__, func.__name__, end - start))\n",
    "        return r\n",
    "    return wrapper"
   ]
  },
  {
   "cell_type": "code",
   "execution_count": 21,
   "metadata": {
    "ExecuteTime": {
     "end_time": "2019-10-25T16:45:08.312400Z",
     "start_time": "2019-10-25T16:45:07.735317Z"
    }
   },
   "outputs": [
    {
     "name": "stdout",
     "output_type": "stream",
     "text": [
      "__main__.countdown : 0.546875\n"
     ]
    }
   ],
   "source": [
    "@timethis\n",
    "def countdown(n):\n",
    "    while n > 0:\n",
    "            n -= 1\n",
    "            \n",
    "countdown(10000000)"
   ]
  },
  {
   "cell_type": "markdown",
   "metadata": {},
   "source": [
    "# 加速程序运行"
   ]
  },
  {
   "cell_type": "markdown",
   "metadata": {},
   "source": [
    "关于程序优化的第一个准则是“不要优化”，第二个准则是“不要优化那些无关紧要的部分”。 \n",
    "\n",
    "如果你的程序运行缓慢，首先你得使用14.13小节的技术先对它进行性能测试找到问题所在。\n",
    "\n",
    "通常来讲你会发现你得程序在少数几个热点地方花费了大量时间， 比如内存的数据处理循环。\n",
    "\n",
    "一旦你定位到这些点，你就可以使用下面这些实用技术来加速程序运行。"
   ]
  },
  {
   "cell_type": "markdown",
   "metadata": {},
   "source": [
    "## 使用函数[局部变量和全局变量]\n",
    "\n",
    "很多程序员刚开始会使用 `Python` 语言写一些简单脚本。 \n",
    "\n",
    "当编写脚本的时候，通常习惯了写毫无结构的代码，比如：\n",
    "\n",
    "```py\n",
    "# somescript.py\n",
    "\n",
    "import sys\n",
    "import csv\n",
    "\n",
    "with open(sys.argv[1]) as f:\n",
    "     for row in csv.reader(f):\n",
    "         # Some kind of processing\n",
    "         pass\n",
    "```\n",
    "\n",
    "很少有人知道，像这样定义在全局范围的代码运行起来要比定义在函数中运行慢的多。 \n",
    "\n",
    "这种速度差异是由于**局部变量和全局变量的实现方式（使用局部变量要更快些）。** \n",
    "\n",
    "因此，如果你想让程序运行更快些，只需要将脚本语句放入函数中即可：\n",
    "\n",
    "```py\n",
    "# somescript.py\n",
    "import sys\n",
    "import csv\n",
    "\n",
    "def main(filename):\n",
    "    with open(filename) as f:\n",
    "         for row in csv.reader(f):\n",
    "             # Some kind of processing\n",
    "             pass\n",
    "\n",
    "main(sys.argv[1])\n",
    "```\n",
    "\n",
    "速度的差异取决于实际运行的程序，不过根据经验，使用函数带来`15-30%`的性能提升是很常见的。\n"
   ]
  },
  {
   "cell_type": "markdown",
   "metadata": {},
   "source": [
    "## 尽可能去掉属性访问\n",
    "\n",
    "每一次使用点( `.` )操作符来访问属性的时候会带来额外的开销。 \n",
    "\n",
    "它会触发特定的方法，比如 `__getattribute__()` 和 `__getattr__()` ，这些方法会进行字典操作操作。\n",
    "\n",
    "通常你可以使用 `from module import name` 这样的导入形式，以及使用绑定的方法。 \n",
    "\n",
    "假设你有如下的代码片段：\n"
   ]
  },
  {
   "cell_type": "code",
   "execution_count": 24,
   "metadata": {
    "ExecuteTime": {
     "end_time": "2019-10-25T17:44:39.085114Z",
     "start_time": "2019-10-25T17:44:36.814046Z"
    }
   },
   "outputs": [
    {
     "name": "stdout",
     "output_type": "stream",
     "text": [
      "Wall time: 2.27 s\n"
     ]
    }
   ],
   "source": [
    "%%time\n",
    "\n",
    "import math\n",
    "\n",
    "def compute_roots(nums):\n",
    "    result = []\n",
    "    for n in nums:\n",
    "        result.append(math.sqrt(n)) # <----\n",
    "    return result\n",
    "\n",
    "# Test\n",
    "nums = range(100000)\n",
    "for n in range(100):\n",
    "    r = compute_roots(nums)"
   ]
  },
  {
   "cell_type": "markdown",
   "metadata": {},
   "source": [
    "现在我们修改 `compute_roots()` 函数如下："
   ]
  },
  {
   "cell_type": "code",
   "execution_count": 26,
   "metadata": {
    "ExecuteTime": {
     "end_time": "2019-10-25T17:45:16.518567Z",
     "start_time": "2019-10-25T17:45:14.743571Z"
    }
   },
   "outputs": [
    {
     "name": "stdout",
     "output_type": "stream",
     "text": [
      "Wall time: 1.77 s\n"
     ]
    }
   ],
   "source": [
    "%%time\n",
    "from math import sqrt\n",
    "\n",
    "def compute_roots(nums):\n",
    "\n",
    "    result = []\n",
    "    result_append = result.append # # <----\n",
    "    for n in nums:\n",
    "        result_append(sqrt(n))\n",
    "    return result\n",
    "\n",
    "# Test\n",
    "nums = range(100000)\n",
    "for n in range(100):\n",
    "    r = compute_roots(nums)"
   ]
  },
  {
   "cell_type": "markdown",
   "metadata": {},
   "source": [
    "唯一不同之处就是消除了属性访问。 \n",
    "\n",
    "用 `sqrt()` 代替了 `math.sqrt()` 。 `The result.append()` 方法被赋给一个局部变量 `result_append` ，然后在内部循环中使用它。\n",
    "\n",
    "不过，这些改变只有在大量重复代码中才有意义，比如循环。 \n",
    "\n",
    "因此，这些优化也只是在某些特定地方才应该被使用。\n"
   ]
  },
  {
   "cell_type": "markdown",
   "metadata": {},
   "source": [
    "## 理解局部变量\n",
    "\n",
    "之前提过，局部变量会比全局变量运行速度快。 \n",
    "\n",
    "对于频繁访问的名称，通过将这些名称变成局部变量可以加速程序运行。\n",
    "\n"
   ]
  },
  {
   "cell_type": "code",
   "execution_count": 28,
   "metadata": {
    "ExecuteTime": {
     "end_time": "2019-10-25T17:48:54.739840Z",
     "start_time": "2019-10-25T17:48:53.179284Z"
    }
   },
   "outputs": [
    {
     "name": "stdout",
     "output_type": "stream",
     "text": [
      "Wall time: 1.56 s\n"
     ]
    }
   ],
   "source": [
    "%%time\n",
    "import math\n",
    "\n",
    "def compute_roots(nums):\n",
    "    sqrt = math.sqrt # <-------\n",
    "    result = []\n",
    "    result_append = result.append\n",
    "    for n in nums:\n",
    "        result_append(sqrt(n))\n",
    "    return result\n",
    "\n",
    "# Test\n",
    "nums = range(100000)\n",
    "for n in range(100):\n",
    "    r = compute_roots(nums)"
   ]
  },
  {
   "cell_type": "markdown",
   "metadata": {},
   "source": [
    "在这个版本中，`sqrt` 从 `math` 模块被拿出并放入了一个局部变量中。 \n",
    "\n",
    "这个额外的加速原因是因为对于 **局部变量** `sqrt` 的查找要快于 **全局变量** `sqrt`"
   ]
  },
  {
   "cell_type": "markdown",
   "metadata": {},
   "source": [
    "对于类中的属性访问也同样适用于这个原理。 \n",
    "\n",
    "通常来讲，查找某个值比如 `self.name` 会比访问一个局部变量要慢一些。 \n",
    "\n",
    "在内部循环中，可以将某个需要频繁访问的属性放入到一个局部变量中。\n",
    "\n",
    "例如：\n",
    "\n",
    "```py\n",
    "# Slower\n",
    "class SomeClass:\n",
    "    ...\n",
    "    def method(self):\n",
    "        for x in s:\n",
    "            op(self.value)\n",
    "\n",
    "# Faster\n",
    "class SomeClass:\n",
    "\n",
    "    ...\n",
    "    def method(self):\n",
    "        value = self.value\n",
    "        for x in s:\n",
    "            op(value)\n",
    "```"
   ]
  },
  {
   "cell_type": "markdown",
   "metadata": {},
   "source": [
    "## 避免不必要的抽象\n",
    "\n",
    "任何时候当你使用额外的处理层（比如`装饰器` 、 `属性访问` 、 `描述器` ）去包装你的代码时，都会让程序运行变慢。 \n",
    "\n",
    "比如看下如下的这个类："
   ]
  },
  {
   "cell_type": "code",
   "execution_count": 29,
   "metadata": {
    "ExecuteTime": {
     "end_time": "2019-10-25T17:52:01.271746Z",
     "start_time": "2019-10-25T17:52:01.266786Z"
    }
   },
   "outputs": [],
   "source": [
    "class A:\n",
    "    def __init__(self, x, y):\n",
    "        self.x = x\n",
    "        self.y = y\n",
    "    @property\n",
    "    def y(self):\n",
    "        return self._y\n",
    "    @y.setter\n",
    "    def y(self, value):\n",
    "        self._y = value"
   ]
  },
  {
   "cell_type": "code",
   "execution_count": 30,
   "metadata": {
    "ExecuteTime": {
     "end_time": "2019-10-25T17:53:08.071617Z",
     "start_time": "2019-10-25T17:53:07.909018Z"
    }
   },
   "outputs": [
    {
     "data": {
      "text/plain": [
       "0.033289699999841105"
      ]
     },
     "execution_count": 30,
     "metadata": {},
     "output_type": "execute_result"
    },
    {
     "data": {
      "text/plain": [
       "0.12349300000005314"
      ]
     },
     "execution_count": 30,
     "metadata": {},
     "output_type": "execute_result"
    }
   ],
   "source": [
    "from timeit import timeit\n",
    "a = A(1,2)\n",
    "timeit('a.x', 'from __main__ import a')\n",
    "timeit('a.y', 'from __main__ import a')"
   ]
  },
  {
   "cell_type": "markdown",
   "metadata": {},
   "source": [
    "可以看到，访问属性 `y` 相比属性 `x` 而言慢的不止一点点，大概慢了4.5倍。 \n",
    "\n",
    "如果你在意性能的话，那么就需要重新审视下对于 `y` 的属性访问器的定义是否真的有必要了。 \n",
    "\n",
    "如果没有必要，就使用简单属性吧。 \n",
    "\n",
    "如果仅仅是因为其他编程语言需要使用 `getter/setter` 函数就去修改代码风格，这个真的没有必要。"
   ]
  },
  {
   "cell_type": "markdown",
   "metadata": {},
   "source": [
    "## 使用内置的容器\n",
    "\n",
    "内置的数据类型比如字符串、元组、列表、集合和字典都是使用`C`来实现的，运行起来非常快。 \n",
    "\n",
    "如果你想自己实现新的数据结构（比如链接列表、平衡树等）， 那么要想在性能上达到内置的速度几乎不可能，因此，还是乖乖的使用内置的吧。\n",
    "\n",
    "## 避免创建不必要的数据结构或复制\n",
    "\n",
    "有时候程序员想显摆下，构造一些并没有必要的数据结构。例如，有人可能会像下面这样写：\n",
    "\n",
    "```py\n",
    "values = [x for x in sequence]\n",
    "squares = [x*x for x in values]\n",
    "```\n",
    "\n",
    "也许这里的想法是首先将一些值收集到一个列表中，然后使用列表推导来执行操作。 不过，第一个列表完全没有必要，可以简单的像下面这样写：\n",
    "\n",
    "```py\n",
    "squares = [x*x for x in sequence]\n",
    "```\n",
    "\n",
    "与此相关，还要注意下那些对`Python`的共享数据机制过于偏执的程序所写的代码。 \n",
    "\n",
    "有些人并没有很好的理解或信任 `Python` 的内存模型，滥用 `copy.deepcopy()` 之类的函数。 \n",
    "\n",
    "通常在这些代码中是可以去掉复制操作的。\n",
    "\n",
    "## 讨论[優化循環，算法; 完成>完美]\n",
    "\n",
    "在优化之前，有必要先研究下使用的算法。 \n",
    "\n",
    "选择一个复杂度为 `O(n log n)` 的算法要比你去调整一个复杂度为 `O(n**2)` 的算法所带来的性能提升要大得多。\n",
    "\n",
    "你应该专注于优化产生性能瓶颈的地方，比如内部循环。\n",
    "\n",
    "你还要注意微小优化的结果。例如考虑下面创建一个字典的两种方式：\n",
    "\n",
    "```py\n",
    "a = {\n",
    "    'name' : 'AAPL',\n",
    "    'shares' : 100,\n",
    "    'price' : 534.22\n",
    "}\n",
    "\n",
    "b = dict(name='AAPL', shares=100, price=534.22)\n",
    "```\n",
    "\n",
    "会发现使用 `dict()` 的方式会慢了 `3` 倍\n",
    "\n",
    "“最好的性能优化是从不工作到工作状态的迁移”。 \n",
    "\n",
    "直到你真的需要优化的时候再去考虑它。\n",
    "\n",
    "确保你程序正确的运行通常比让它运行更快要更重要一些（至少开始是这样的）.\n"
   ]
  },
  {
   "cell_type": "code",
   "execution_count": null,
   "metadata": {},
   "outputs": [],
   "source": []
  },
  {
   "cell_type": "code",
   "execution_count": null,
   "metadata": {},
   "outputs": [],
   "source": []
  },
  {
   "cell_type": "code",
   "execution_count": null,
   "metadata": {},
   "outputs": [],
   "source": []
  },
  {
   "cell_type": "code",
   "execution_count": null,
   "metadata": {},
   "outputs": [],
   "source": []
  }
 ],
 "metadata": {
  "hide_input": false,
  "kernelspec": {
   "display_name": "Python [default]",
   "language": "python",
   "name": "python3"
  },
  "language_info": {
   "codemirror_mode": {
    "name": "ipython",
    "version": 3
   },
   "file_extension": ".py",
   "mimetype": "text/x-python",
   "name": "python",
   "nbconvert_exporter": "python",
   "pygments_lexer": "ipython3",
   "version": "3.6.5"
  },
  "toc": {
   "base_numbering": 1,
   "nav_menu": {},
   "number_sections": true,
   "sideBar": true,
   "skip_h1_title": false,
   "title_cell": "Table of Contents",
   "title_sidebar": "Contents",
   "toc_cell": true,
   "toc_position": {
    "height": "calc(100% - 180px)",
    "left": "10px",
    "top": "150px",
    "width": "192px"
   },
   "toc_section_display": true,
   "toc_window_display": true
  },
  "varInspector": {
   "cols": {
    "lenName": 16,
    "lenType": 16,
    "lenVar": 40
   },
   "kernels_config": {
    "python": {
     "delete_cmd_postfix": "",
     "delete_cmd_prefix": "del ",
     "library": "var_list.py",
     "varRefreshCmd": "print(var_dic_list())"
    },
    "r": {
     "delete_cmd_postfix": ") ",
     "delete_cmd_prefix": "rm(",
     "library": "var_list.r",
     "varRefreshCmd": "cat(var_dic_list()) "
    }
   },
   "types_to_exclude": [
    "module",
    "function",
    "builtin_function_or_method",
    "instance",
    "_Feature"
   ],
   "window_display": false
  }
 },
 "nbformat": 4,
 "nbformat_minor": 2
}
