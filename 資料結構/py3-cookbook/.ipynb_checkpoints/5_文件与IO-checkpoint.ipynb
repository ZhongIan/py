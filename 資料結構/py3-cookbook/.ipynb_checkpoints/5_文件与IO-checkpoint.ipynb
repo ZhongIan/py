{
 "cells": [
  {
   "cell_type": "markdown",
   "metadata": {
    "toc": true
   },
   "source": [
    "<h1>Table of Contents<span class=\"tocSkip\"></span></h1>\n",
    "<div class=\"toc\"><ul class=\"toc-item\"><li><span><a href=\"#[open('rt'/'wt')]读写文本数据\" data-toc-modified-id=\"[open('rt'/'wt')]读写文本数据-1\"><span class=\"toc-item-num\">1&nbsp;&nbsp;</span>[open('rt'/'wt')]读写文本数据</a></span><ul class=\"toc-item\"><li><span><a href=\"#[open(f,-'rt',-newline='')]讨论\" data-toc-modified-id=\"[open(f,-'rt',-newline='')]讨论-1.1\"><span class=\"toc-item-num\">1.1&nbsp;&nbsp;</span>[open(f, 'rt', newline='')]讨论</a></span></li></ul></li><li><span><a href=\"#[print(,-file=f)]打印输出至文件中\" data-toc-modified-id=\"[print(,-file=f)]打印输出至文件中-2\"><span class=\"toc-item-num\">2&nbsp;&nbsp;</span>[print(, file=f)]打印输出至文件中</a></span></li><li><span><a href=\"#[print(,-sep=',',-end='-')]使用其他分隔符或行终止符打印\" data-toc-modified-id=\"[print(,-sep=',',-end='-')]使用其他分隔符或行终止符打印-3\"><span class=\"toc-item-num\">3&nbsp;&nbsp;</span>[print(, sep=',', end=' ')]使用其他分隔符或行终止符打印</a></span><ul class=\"toc-item\"><li><span><a href=\"#讨论\" data-toc-modified-id=\"讨论-3.1\"><span class=\"toc-item-num\">3.1&nbsp;&nbsp;</span>讨论</a></span></li></ul></li><li><span><a href=\"#[open(,-'rb'/'wb')]读写字节数据\" data-toc-modified-id=\"[open(,-'rb'/'wb')]读写字节数据-4\"><span class=\"toc-item-num\">4&nbsp;&nbsp;</span>[open(, 'rb'/'wb')]读写字节数据</a></span><ul class=\"toc-item\"><li><span><a href=\"#讨论\" data-toc-modified-id=\"讨论-4.1\"><span class=\"toc-item-num\">4.1&nbsp;&nbsp;</span>讨论</a></span></li></ul></li><li><span><a href=\"#[open(,'xt')-]文件不存在才能写入\" data-toc-modified-id=\"[open(,'xt')-]文件不存在才能写入-5\"><span class=\"toc-item-num\">5&nbsp;&nbsp;</span>[open(,'xt') ]文件不存在才能写入</a></span></li><li><span><a href=\"#[io]字符串的I/O操作\" data-toc-modified-id=\"[io]字符串的I/O操作-6\"><span class=\"toc-item-num\">6&nbsp;&nbsp;</span>[io]字符串的I/O操作</a></span></li><li><span><a href=\"#[gzip,-bz2]读写压缩文件\" data-toc-modified-id=\"[gzip,-bz2]读写压缩文件-7\"><span class=\"toc-item-num\">7&nbsp;&nbsp;</span>[gzip, bz2]读写压缩文件</a></span><ul class=\"toc-item\"><li><span><a href=\"#[gzip.open(,-'wt',-compresslevel=5)]讨论\" data-toc-modified-id=\"[gzip.open(,-'wt',-compresslevel=5)]讨论-7.1\"><span class=\"toc-item-num\">7.1&nbsp;&nbsp;</span>[gzip.open(, 'wt', compresslevel=5)]讨论</a></span></li></ul></li><li><span><a href=\"#[functools.partial]固定大小记录的文件迭代\" data-toc-modified-id=\"[functools.partial]固定大小记录的文件迭代-8\"><span class=\"toc-item-num\">8&nbsp;&nbsp;</span>[functools.partial]固定大小记录的文件迭代</a></span></li><li><span><a href=\"#[f.readinto(bytearray)]读取二进制数据到可变缓冲区中\" data-toc-modified-id=\"[f.readinto(bytearray)]读取二进制数据到可变缓冲区中-9\"><span class=\"toc-item-num\">9&nbsp;&nbsp;</span>[f.readinto(bytearray)]读取二进制数据到可变缓冲区中</a></span><ul class=\"toc-item\"><li><span><a href=\"#[memoryview()]讨论\" data-toc-modified-id=\"[memoryview()]讨论-9.1\"><span class=\"toc-item-num\">9.1&nbsp;&nbsp;</span>[memoryview()]讨论</a></span></li></ul></li><li><span><a href=\"#[mmap.mmap]内存映射的二进制文件\" data-toc-modified-id=\"[mmap.mmap]内存映射的二进制文件-10\"><span class=\"toc-item-num\">10&nbsp;&nbsp;</span>[mmap.mmap]内存映射的二进制文件</a></span><ul class=\"toc-item\"><li><span><a href=\"#[memoryview]讨论\" data-toc-modified-id=\"[memoryview]讨论-10.1\"><span class=\"toc-item-num\">10.1&nbsp;&nbsp;</span>[memoryview]讨论</a></span></li></ul></li><li><span><a href=\"#[os.path]文件路径名的操作\" data-toc-modified-id=\"[os.path]文件路径名的操作-11\"><span class=\"toc-item-num\">11&nbsp;&nbsp;</span>[os.path]文件路径名的操作</a></span></li><li><span><a href=\"#[os.path-;-.getsize()-;-.exists()]测试文件是否存在\" data-toc-modified-id=\"[os.path-;-.getsize()-;-.exists()]测试文件是否存在-12\"><span class=\"toc-item-num\">12&nbsp;&nbsp;</span>[os.path ; .getsize() ; .exists()]测试文件是否存在</a></span></li><li><span><a href=\"#[os.listdir()]获取文件夹中的文件列表\" data-toc-modified-id=\"[os.listdir()]获取文件夹中的文件列表-13\"><span class=\"toc-item-num\">13&nbsp;&nbsp;</span>[os.listdir()]获取文件夹中的文件列表</a></span><ul class=\"toc-item\"><li><span><a href=\"#[os.path-;-os.stat()]讨论\" data-toc-modified-id=\"[os.path-;-os.stat()]讨论-13.1\"><span class=\"toc-item-num\">13.1&nbsp;&nbsp;</span>[os.path ; os.stat()]讨论</a></span></li></ul></li><li><span><a href=\"#[os.listdir(b'.')]忽略文件名编码\" data-toc-modified-id=\"[os.listdir(b'.')]忽略文件名编码-14\"><span class=\"toc-item-num\">14&nbsp;&nbsp;</span>[os.listdir(b'.')]忽略文件名编码</a></span></li><li><span><a href=\"#[f.encode(sys.getfilesystemencoding(),errors='surrogateescape')]打印不合法的文件名\" data-toc-modified-id=\"[f.encode(sys.getfilesystemencoding(),errors='surrogateescape')]打印不合法的文件名-15\"><span class=\"toc-item-num\">15&nbsp;&nbsp;</span>[f.encode(sys.getfilesystemencoding(),errors='surrogateescape')]打印不合法的文件名</a></span><ul class=\"toc-item\"><li><span><a href=\"#讨论\" data-toc-modified-id=\"讨论-15.1\"><span class=\"toc-item-num\">15.1&nbsp;&nbsp;</span>讨论</a></span></li></ul></li><li><span><a href=\"#[io.TextIOWrapper()]增加或改变已打开文件的编码\" data-toc-modified-id=\"[io.TextIOWrapper()]增加或改变已打开文件的编码-16\"><span class=\"toc-item-num\">16&nbsp;&nbsp;</span>[io.TextIOWrapper()]增加或改变已打开文件的编码</a></span><ul class=\"toc-item\"><li><span><a href=\"#讨论\" data-toc-modified-id=\"讨论-16.1\"><span class=\"toc-item-num\">16.1&nbsp;&nbsp;</span>讨论</a></span></li></ul></li><li><span><a href=\"#将字节写入文本文件\" data-toc-modified-id=\"将字节写入文本文件-17\"><span class=\"toc-item-num\">17&nbsp;&nbsp;</span>将字节写入文本文件</a></span></li><li><span><a href=\"#将文件描述符包装成文件对象\" data-toc-modified-id=\"将文件描述符包装成文件对象-18\"><span class=\"toc-item-num\">18&nbsp;&nbsp;</span>将文件描述符包装成文件对象</a></span></li><li><span><a href=\"#创建临时文件和文件夹\" data-toc-modified-id=\"创建临时文件和文件夹-19\"><span class=\"toc-item-num\">19&nbsp;&nbsp;</span>创建临时文件和文件夹</a></span></li><li><span><a href=\"#[pySerial包]与串行端口的数据通信\" data-toc-modified-id=\"[pySerial包]与串行端口的数据通信-20\"><span class=\"toc-item-num\">20&nbsp;&nbsp;</span>[pySerial包]与串行端口的数据通信</a></span></li><li><span><a href=\"#[pickle]序列化Python对象\" data-toc-modified-id=\"[pickle]序列化Python对象-21\"><span class=\"toc-item-num\">21&nbsp;&nbsp;</span>[pickle]序列化Python对象</a></span></li></ul></div>"
   ]
  },
  {
   "cell_type": "markdown",
   "metadata": {},
   "source": [
    "\n",
    "**來源**\n",
    "\n",
    "https://python3-cookbook.readthedocs.io/zh_CN/latest/chapters/p05_files_and_io.html\n",
    "\n",
    "**小計**\n",
    "\n",
    "    open('rt'/'wt') # txt\n",
    "    open(, 'rb'/'wb') # bin\n",
    "    open(,'xt') # 文件不存在才能写入\n",
    "\n",
    "    print(, file=f)\n",
    "    print(, sep=',', end=' ')\n",
    "    print(*row, sep=',')\n",
    "\n",
    "    io.StringIO() 和 io.BytesIO() 类来创建类文件对象操作字符串数据\n",
    "    io.BytesIO()\n",
    "\n",
    "    os.path\n",
    "            .getsize()\n",
    "            .exists()\n",
    "            .getmtime()\n",
    "\n",
    "    os.listdir()\n",
    "            [name for name in os.listdir('somedir')\n",
    "            if name.endswith('.py')]\n"
   ]
  },
  {
   "cell_type": "markdown",
   "metadata": {},
   "source": [
    "# [open('rt'/'wt')]读写文本数据"
   ]
  },
  {
   "cell_type": "markdown",
   "metadata": {},
   "source": [
    "使用带有 `rt` 模式的 `open()` 函数读取文本文件\n",
    "\n",
    "```py\n",
    "# Read the entire file as a single string\n",
    "with open('somefile.txt', 'rt') as f:\n",
    "    data = f.read()\n",
    "\n",
    "# Iterate over the lines of the file\n",
    "with open('somefile.txt', 'rt') as f:\n",
    "    for line in f:\n",
    "        # process line\n",
    "        ...\n",
    "```\n",
    "\n",
    "类似的，为了写入一个文本文件，使用带有 `wt` 模式的 `open()` 函数， 如果之前文件内容存在则清除并覆盖掉。\n",
    "\n",
    "\n",
    "```py\n",
    "# Write chunks of text data\n",
    "with open('somefile.txt', 'wt') as f:\n",
    "    f.write(text1)\n",
    "    f.write(text2)\n",
    "    ...\n",
    "\n",
    "# Redirected print statement\n",
    "with open('somefile.txt', 'wt') as f:\n",
    "    print(line1, file=f)\n",
    "    print(line2, file=f)\n",
    "    ...\n",
    "```\n",
    "\n",
    "如果是在已存在文件中添加内容，使用模式为 `at` 的 `open()` 函数。"
   ]
  },
  {
   "cell_type": "markdown",
   "metadata": {},
   "source": [
    "文件的读写操作默认使用系统编码，可以通过调用 `sys.getdefaultencoding()` 来得到。 在大多数机器上面都是`utf-8`编码。\n",
    "\n",
    "```py\n",
    "with open('somefile.txt', 'rt', encoding='latin-1') as f:\n",
    "    ...\n",
    "```\n"
   ]
  },
  {
   "cell_type": "markdown",
   "metadata": {},
   "source": [
    "## [open(f, 'rt', newline='')]讨论"
   ]
  },
  {
   "cell_type": "markdown",
   "metadata": {},
   "source": [
    " `with` 控制块结束时，文件会自动关闭。你也可以不使用 `with` 语句，但是这时候你就必须记得手动关闭文件：\n",
    " \n",
    "```py\n",
    "f = open('somefile.txt', 'rt')\n",
    "data = f.read()\n",
    "f.close()\n",
    "```\n",
    "\n",
    "换行符的识别问题，在`Unix`和`Windows`中是不一样的(分别是 `\\n` 和 `\\r\\n` )\n",
    "\n",
    "`Python` 将换行符转换为单个 `\\n` 字符\n",
    "\n",
    "`newline=''` 不轉換\n",
    "\n",
    "```py\n",
    ">>> # Newline translation enabled (the default)\n",
    ">>> f = open('hello.txt', 'rt')\n",
    ">>> f.read()\n",
    "'hello world!\\n'\n",
    "\n",
    ">>> # Newline translation disabled\n",
    ">>> g = open('hello.txt', 'rt', newline='')\n",
    ">>> g.read()\n",
    "'hello world!\\r\\n'\n",
    "```\n"
   ]
  },
  {
   "cell_type": "markdown",
   "metadata": {},
   "source": [
    "# [print(, file=f)]打印输出至文件中"
   ]
  },
  {
   "cell_type": "markdown",
   "metadata": {
    "ExecuteTime": {
     "end_time": "2019-07-09T06:54:10.913351Z",
     "start_time": "2019-07-09T06:54:10.905543Z"
    }
   },
   "source": [
    "在 `print()` 函数中指定 `file` 关键字参数\n",
    "\n",
    "```py\n",
    "with open('D:\\\\test.txt', 'wt') as f:\n",
    "    print('Hello World!', file=f)\n",
    "```\n",
    "\n"
   ]
  },
  {
   "cell_type": "markdown",
   "metadata": {},
   "source": [
    "# [print(, sep=',', end=' ')]使用其他分隔符或行终止符打印"
   ]
  },
  {
   "cell_type": "code",
   "execution_count": 4,
   "metadata": {
    "ExecuteTime": {
     "end_time": "2019-07-09T06:57:15.636982Z",
     "start_time": "2019-07-09T06:57:15.630150Z"
    }
   },
   "outputs": [
    {
     "name": "stdout",
     "output_type": "stream",
     "text": [
      "ACME 50 91.5\n",
      "ACME,50,91.5\n",
      "ACME,50,91.5!!\n",
      "0 1 2 3 4 "
     ]
    }
   ],
   "source": [
    "print('ACME', 50, 91.5)\n",
    "print('ACME', 50, 91.5, sep=',') \n",
    "print('ACME', 50, 91.5, sep=',', end='!!\\n')\n",
    "\n",
    "#  end 参数也可以在输出中禁止换行\n",
    "for i in range(5):\n",
    "    print(i, end=' ')"
   ]
  },
  {
   "cell_type": "markdown",
   "metadata": {},
   "source": [
    "## 讨论"
   ]
  },
  {
   "cell_type": "code",
   "execution_count": 5,
   "metadata": {
    "ExecuteTime": {
     "end_time": "2019-07-09T07:01:56.370815Z",
     "start_time": "2019-07-09T07:01:54.446289Z"
    }
   },
   "outputs": [
    {
     "ename": "TypeError",
     "evalue": "sequence item 1: expected str instance, int found",
     "output_type": "error",
     "traceback": [
      "\u001b[1;31m---------------------------------------------------------------------------\u001b[0m",
      "\u001b[1;31mTypeError\u001b[0m                                 Traceback (most recent call last)",
      "\u001b[1;32m<ipython-input-5-dec876ca4df9>\u001b[0m in \u001b[0;36m<module>\u001b[1;34m()\u001b[0m\n\u001b[0;32m      1\u001b[0m \u001b[1;33m\u001b[0m\u001b[0m\n\u001b[0;32m      2\u001b[0m \u001b[0mrow\u001b[0m \u001b[1;33m=\u001b[0m \u001b[1;33m(\u001b[0m\u001b[1;34m'ACME'\u001b[0m\u001b[1;33m,\u001b[0m \u001b[1;36m50\u001b[0m\u001b[1;33m,\u001b[0m \u001b[1;36m91.5\u001b[0m\u001b[1;33m)\u001b[0m\u001b[1;33m\u001b[0m\u001b[0m\n\u001b[1;32m----> 3\u001b[1;33m \u001b[0mprint\u001b[0m\u001b[1;33m(\u001b[0m\u001b[1;34m','\u001b[0m\u001b[1;33m.\u001b[0m\u001b[0mjoin\u001b[0m\u001b[1;33m(\u001b[0m\u001b[0mrow\u001b[0m\u001b[1;33m)\u001b[0m\u001b[1;33m)\u001b[0m\u001b[1;33m\u001b[0m\u001b[0m\n\u001b[0m",
      "\u001b[1;31mTypeError\u001b[0m: sequence item 1: expected str instance, int found"
     ]
    }
   ],
   "source": [
    "# str.join() 僅用於 str\n",
    "row = ('ACME', 50, 91.5)\n",
    "print(','.join(row))\n",
    "# print(','.join(str(x) for x in row))"
   ]
  },
  {
   "cell_type": "markdown",
   "metadata": {},
   "source": [
    "**print()**"
   ]
  },
  {
   "cell_type": "code",
   "execution_count": 6,
   "metadata": {
    "ExecuteTime": {
     "end_time": "2019-07-09T07:03:00.542158Z",
     "start_time": "2019-07-09T07:03:00.537276Z"
    }
   },
   "outputs": [
    {
     "name": "stdout",
     "output_type": "stream",
     "text": [
      "ACME,50,91.5\n"
     ]
    }
   ],
   "source": [
    "print(*row, sep=',')"
   ]
  },
  {
   "cell_type": "markdown",
   "metadata": {},
   "source": [
    "# [open(, 'rb'/'wb')]读写字节数据"
   ]
  },
  {
   "cell_type": "markdown",
   "metadata": {},
   "source": [
    "\n",
    "`rb` 或 `wb` 的 `open()` 函数来读取或写入二进制数据\n",
    "\n",
    "```py\n",
    "# Read the entire file as a single byte string\n",
    "with open('somefile.bin', 'rb') as f:\n",
    "    data = f.read()\n",
    "\n",
    "# Write binary data to a file\n",
    "with open('somefile.bin', 'wb') as f:\n",
    "    f.write(b'Hello World')\n",
    "```\n"
   ]
  },
  {
   "cell_type": "markdown",
   "metadata": {},
   "source": [
    "## 讨论"
   ]
  },
  {
   "cell_type": "code",
   "execution_count": 7,
   "metadata": {
    "ExecuteTime": {
     "end_time": "2019-07-09T07:12:28.144203Z",
     "start_time": "2019-07-09T07:12:28.128593Z"
    }
   },
   "outputs": [
    {
     "data": {
      "text/plain": [
       "'H'"
      ]
     },
     "execution_count": 7,
     "metadata": {},
     "output_type": "execute_result"
    },
    {
     "data": {
      "text/plain": [
       "72"
      ]
     },
     "execution_count": 7,
     "metadata": {},
     "output_type": "execute_result"
    }
   ],
   "source": [
    "# Text string\n",
    "t = 'Hello World'\n",
    "t[0]\n",
    "\n",
    "# Byte string\n",
    "b = b'Hello World'\n",
    "b[0]"
   ]
  },
  {
   "cell_type": "markdown",
   "metadata": {},
   "source": [
    "如果你想从二进制模式的文件中读取或写入文本数据，必须确保要进行解码和编码操作。\n",
    "\n",
    "```py\n",
    "with open('somefile.bin', 'rb') as f:\n",
    "    data = f.read(16)\n",
    "    text = data.decode('utf-8')\n",
    "\n",
    "with open('somefile.bin', 'wb') as f:\n",
    "    text = 'Hello World'\n",
    "    f.write(text.encode('utf-8'))\n",
    "```\n",
    "\n",
    "二进制`I/O`还有一个鲜为人知的特性就是数组和`C`结构体类型能直接被写入，而不需要中间转换为自己对象。比如：\n",
    "\n",
    "很多对象还允许通过使用文件对象的 `readinto()` 方法直接读取二进制数据到其底层的内存中去。\n",
    "\n",
    "```py\n",
    "import array\n",
    "nums = array.array('i', [1, 2, 3, 4])\n",
    "with open('data.bin','wb') as f:\n",
    "    f.write(nums)\n",
    "```\n",
    "\n",
    "```py\n",
    ">>> import array\n",
    ">>> a = array.array('i', [0, 0, 0, 0, 0, 0, 0, 0])\n",
    ">>> with open('data.bin', 'rb') as f:\n",
    "...     f.readinto(a)\n",
    "...\n",
    "16\n",
    ">>> a\n",
    "array('i', [1, 2, 3, 4, 0, 0, 0, 0])\n",
    "```\n"
   ]
  },
  {
   "cell_type": "markdown",
   "metadata": {},
   "source": [
    "# [open(,'xt') ]文件不存在才能写入"
   ]
  },
  {
   "cell_type": "markdown",
   "metadata": {},
   "source": [
    "也就是不允许覆盖已存在的文件内容\n",
    "\n",
    "可以在 `open()` 函数中使用 `x` 模式来代替 `w` 模式的方法来解决这个问题。比如：\n",
    "\n",
    "```py\n",
    "with open('somefile', 'wt') as f:\n",
    "    f.write('Hello\\n')\n",
    "    \n",
    "with open('somefile', 'xt') as f:\n",
    "    f.write('Hello\\n')\n",
    "```\n",
    "  "
   ]
  },
  {
   "cell_type": "markdown",
   "metadata": {},
   "source": [
    "# [io]字符串的I/O操作"
   ]
  },
  {
   "cell_type": "markdown",
   "metadata": {},
   "source": [
    "使用 `io.StringIO()` 和 `io.BytesIO()` 类来创建类文件对象操作字符串数据"
   ]
  },
  {
   "cell_type": "code",
   "execution_count": 10,
   "metadata": {
    "ExecuteTime": {
     "end_time": "2019-07-10T05:29:37.300446Z",
     "start_time": "2019-07-10T05:29:37.292639Z"
    }
   },
   "outputs": [
    {
     "data": {
      "text/plain": [
       "12"
      ]
     },
     "execution_count": 10,
     "metadata": {},
     "output_type": "execute_result"
    },
    {
     "data": {
      "text/plain": [
       "'Hello World\\nThis is a test\\n'"
      ]
     },
     "execution_count": 10,
     "metadata": {},
     "output_type": "execute_result"
    },
    {
     "data": {
      "text/plain": [
       "'Hell'"
      ]
     },
     "execution_count": 10,
     "metadata": {},
     "output_type": "execute_result"
    }
   ],
   "source": [
    "import io\n",
    "\n",
    "s = io.StringIO()\n",
    "s.write('Hello World\\n') \n",
    "print('This is a test', file=s) \n",
    "\n",
    "# Get all of the data written so far\n",
    "s.getvalue() # 'Hello World\\nThis is a test\\n'\n",
    "\n",
    "s = io.StringIO('Hello\\nWorld\\n')\n",
    "s.read(4)"
   ]
  },
  {
   "cell_type": "markdown",
   "metadata": {},
   "source": [
    "# [gzip, bz2]读写压缩文件"
   ]
  },
  {
   "cell_type": "markdown",
   "metadata": {},
   "source": [
    "读写一个`gzip`或`bz2`格式的压缩文件\n",
    "\n",
    "`gzip` 和 `bz2` 模块可以很容易的处理这些文件。 两个模块都为 `open()` 函数提供了另外的实现来解决这个问题\n",
    "\n",
    "```py\n",
    "# gzip compression\n",
    "import gzip\n",
    "with gzip.open('somefile.gz', 'rt') as f:\n",
    "    text = f.read()\n",
    "\n",
    "# bz2 compression\n",
    "import bz2\n",
    "with bz2.open('somefile.bz2', 'rt') as f:\n",
    "    text = f.read()\n",
    "    \n",
    "# ----------- 寫 -----------\n",
    "# gzip compression\n",
    "import gzip\n",
    "with gzip.open('somefile.gz', 'wt') as f:\n",
    "    f.write(text)\n",
    "\n",
    "# bz2 compression\n",
    "import bz2\n",
    "with bz2.open('somefile.bz2', 'wt') as f:\n",
    "    f.write(text)    \n",
    "```"
   ]
  },
  {
   "cell_type": "markdown",
   "metadata": {},
   "source": [
    "## [gzip.open(, 'wt', compresslevel=5)]讨论"
   ]
  },
  {
   "cell_type": "markdown",
   "metadata": {},
   "source": [
    "如果你不指定模式，那么默认的就是二进制模式，如果这时候程序想要接受的是文本数据，那么就会出错。 `gzip.open()` 和 `bz2.open()` 接受跟内置的 `open()` 函数一样的参数， 包括 `encoding`，`errors`，`newline` 等等。\n",
    "\n",
    "当写入压缩数据时，可以使用 compresslevel 这个可选的关键字参数来指定一个压缩级别。\n",
    "\n",
    "```py\n",
    "with gzip.open('somefile.gz', 'wt', compresslevel=5) as f:\n",
    "    f.write(text)\n",
    "```\n",
    "\n",
    "默认的等级是9，也是最高的压缩等级。等级越低性能越好，但是数据压缩程度也越低。\n",
    "\n",
    "`gzip.open()` 和 `bz2.open()` 还有一个很少被知道的特性， 它们可以作用在一个已存在并以二进制模式打开的文件上。比如，下面代码是可行的：\n",
    "\n",
    "```py\n",
    "import gzip\n",
    "f = open('somefile.gz', 'rb')\n",
    "with gzip.open(f, 'rt') as g:\n",
    "    text = g.read()\n",
    "```\n",
    "\n",
    "这样就允许 `gzip` 和 `bz2` 模块可以工作在许多类文件对象上，比如套接字，管道和内存中文件等。\n",
    "\n"
   ]
  },
  {
   "cell_type": "markdown",
   "metadata": {},
   "source": [
    "# [functools.partial]固定大小记录的文件迭代"
   ]
  },
  {
   "cell_type": "markdown",
   "metadata": {},
   "source": [
    "在一个固定长度记录或者数据块的集合上迭代，而不是在一个文件中一行一行的迭代\n",
    "\n",
    "```py\n",
    "from functools import partial\n",
    "\n",
    "RECORD_SIZE = 32\n",
    "\n",
    "with open('somefile.data', 'rb') as f:\n",
    "    records = iter(partial(f.read, RECORD_SIZE), b'')\n",
    "    for r in records:\n",
    "        ...\n",
    "```\n",
    "\n",
    "`records` 对象是一个可迭代对象，它会不断的产生固定大小的数据块，直到文件末尾。 要注意的是如果总记录大小不是块大小的整数倍的话\n",
    "\n",
    "`iter()` 函数有一个鲜为人知的特性就是，如果你给它传递一个可调用对象和一个标记值，它会创建一个迭代器。 这个迭代器会一直调用传入的可调用对象直到它返回标记值为止，这时候迭代终止。\n",
    "\n",
    "`functools.partial` 用来创建一个每次被调用时从文件中读取固定数目字节的可调用对象。 标记值 `b''` 就是当到达文件结尾时的返回值"
   ]
  },
  {
   "cell_type": "markdown",
   "metadata": {},
   "source": [
    "# [f.readinto(bytearray)]读取二进制数据到可变缓冲区中"
   ]
  },
  {
   "cell_type": "markdown",
   "metadata": {},
   "source": [
    "你想直接读取二进制数据到一个可变缓冲区中，而不需要做任何的中间复制操作。 或者你想原地修改数据并将它写回到一个文件中去。\n",
    "\n",
    "为了读取数据到一个可变数组中，使用文件对象的 `readinto()` 方法\n",
    "\n",
    "```py\n",
    "import os.path\n",
    "\n",
    "def read_into_buffer(filename):\n",
    "    buf = bytearray(os.path.getsize(filename))\n",
    "    with open(filename, 'rb') as f:\n",
    "        f.readinto(buf)\n",
    "    return buf\n",
    "    \n",
    "# Write a sample file\n",
    "with open('sample.bin', 'wb') as f:\n",
    "    f.write(b'Hello World')\n",
    "    \n",
    "buf = read_into_buffer('sample.bin')\n",
    "buf # array(b'Hello World')\n",
    "\n",
    "buf[0:5] = b'hello'\n",
    "buf # array(b'hello World')\n",
    "\n",
    "with open('newsample.bin', 'wb') as f:\n",
    "    f.write(buf)\n",
    "```"
   ]
  },
  {
   "cell_type": "markdown",
   "metadata": {},
   "source": [
    "## [memoryview()]讨论"
   ]
  },
  {
   "cell_type": "markdown",
   "metadata": {},
   "source": [
    "文件对象的 `readinto()` 方法能被用来为预先分配内存的数组填充数据，甚至包括由 `array` 模块或 `numpy` 库创建的数组\n",
    "\n",
    "和普通 `read()` 方法不同的是， `readinto()` 填充已存在的缓冲区而不是为新对象重新分配内存再返回它们\n",
    "\n",
    "你可以使用它来避免大量的内存分配操作。 比如，如果你读取一个由相同大小的记录组成的二进制文件时，你可以像下面这样写：\n",
    "\n",
    "\n",
    "```py\n",
    "record_size = 32 # Size of each record (adjust value)\n",
    "\n",
    "buf = bytearray(record_size)\n",
    "with open('somefile', 'rb') as f:\n",
    "    while True:\n",
    "        n = f.readinto(buf)\n",
    "        if n < record_size:\n",
    "            break\n",
    "        # Use the contents of buf\n",
    "        ...\n",
    "```\n",
    "\n",
    "`memoryview` ， 它可以通过零复制的方式对已存在的缓冲区执行切片操作，甚至还能修改它的内容。\n",
    "\n",
    "```py\n",
    ">>> buf\n",
    "bytearray(b'Hello World')\n",
    ">>> m1 = memoryview(buf)\n",
    ">>> m2 = m1[-5:]\n",
    ">>> m2\n",
    "<memory at 0x100681390>\n",
    ">>> m2[:] = b'WORLD'\n",
    ">>> buf\n",
    "bytearray(b'Hello WORLD')\n",
    "```\n",
    "\n",
    "使用 `f.readinto()` 时需要注意的是，你必须检查它的返回值，也就是实际读取的字节数。\n",
    "\n",
    "如果字节数小于缓冲区大小，表明数据被截断或者被破坏了"
   ]
  },
  {
   "cell_type": "markdown",
   "metadata": {},
   "source": [
    "# [mmap.mmap]内存映射的二进制文件"
   ]
  },
  {
   "cell_type": "markdown",
   "metadata": {},
   "source": [
    "使用 `mmap` 模块来内存映射文件。 下面是一个工具函数，向你演示了如何打开一个文件并以一种便捷方式内存映射这个文件"
   ]
  },
  {
   "cell_type": "code",
   "execution_count": 1,
   "metadata": {
    "ExecuteTime": {
     "end_time": "2019-07-11T03:46:33.693274Z",
     "start_time": "2019-07-11T03:46:33.689254Z"
    }
   },
   "outputs": [],
   "source": [
    "import os\n",
    "import mmap\n",
    "\n",
    "def memory_map(filename, access=mmap.ACCESS_WRITE):\n",
    "    size = os.path.getsize(filename)\n",
    "    fd = os.open(filename, os.O_RDWR)\n",
    "    return mmap.mmap(fd, size, access=access)"
   ]
  },
  {
   "cell_type": "markdown",
   "metadata": {},
   "source": [
    "为了使用这个函数，你需要有一个已**创建并且内容不为空的文件**。 下面是一个例子，教你怎样初始创建一个文件并将其内容**扩充到指定大小**"
   ]
  },
  {
   "cell_type": "code",
   "execution_count": 2,
   "metadata": {
    "ExecuteTime": {
     "end_time": "2019-07-11T03:46:35.274057Z",
     "start_time": "2019-07-11T03:46:35.262116Z"
    }
   },
   "outputs": [
    {
     "data": {
      "text/plain": [
       "999"
      ]
     },
     "execution_count": 2,
     "metadata": {},
     "output_type": "execute_result"
    },
    {
     "data": {
      "text/plain": [
       "1"
      ]
     },
     "execution_count": 2,
     "metadata": {},
     "output_type": "execute_result"
    }
   ],
   "source": [
    "size = 1000\n",
    "with open('data', 'wb') as f:\n",
    "    f.seek(size-1)\n",
    "    f.write(b'\\x00')"
   ]
  },
  {
   "cell_type": "code",
   "execution_count": 3,
   "metadata": {
    "ExecuteTime": {
     "end_time": "2019-07-11T03:46:38.086012Z",
     "start_time": "2019-07-11T03:46:38.075012Z"
    }
   },
   "outputs": [
    {
     "data": {
      "text/plain": [
       "1000"
      ]
     },
     "execution_count": 3,
     "metadata": {},
     "output_type": "execute_result"
    },
    {
     "data": {
      "text/plain": [
       "b'\\x00\\x00\\x00\\x00\\x00\\x00\\x00\\x00\\x00\\x00'"
      ]
     },
     "execution_count": 3,
     "metadata": {},
     "output_type": "execute_result"
    },
    {
     "data": {
      "text/plain": [
       "0"
      ]
     },
     "execution_count": 3,
     "metadata": {},
     "output_type": "execute_result"
    },
    {
     "name": "stdout",
     "output_type": "stream",
     "text": [
      "b'Hello World'\n"
     ]
    }
   ],
   "source": [
    "m = memory_map('data')\n",
    "len(m) # 1000000\n",
    "\n",
    "m[0:10] # b'\\x00\\x00\\x00\\x00\\x00\\x00\\x00\\x00\\x00\\x00'\n",
    "m[0] # 0\n",
    "\n",
    "# Reassign a slice\n",
    "m[0:11] = b'Hello World'\n",
    "m.close()\n",
    "\n",
    "# Verify that changes were made\n",
    "with open('data', 'rb') as f:\n",
    "    print(f.read(11))"
   ]
  },
  {
   "cell_type": "code",
   "execution_count": 4,
   "metadata": {
    "ExecuteTime": {
     "end_time": "2019-07-11T03:46:41.456925Z",
     "start_time": "2019-07-11T03:46:41.452908Z"
    }
   },
   "outputs": [
    {
     "name": "stdout",
     "output_type": "stream",
     "text": [
      "1000\n",
      "b'Hello World'\n",
      "b'hello world'\n"
     ]
    }
   ],
   "source": [
    "with memory_map('data') as m:\n",
    "    print(len(m))\n",
    "    print(m[0:11])\n",
    "    m[0:11] = b'hello world'\n",
    "    print(m[0:11])"
   ]
  },
  {
   "cell_type": "markdown",
   "metadata": {},
   "source": [
    "默认情况下， `memeory_map()` 函数打开的文件同时支持读和写操作。 任何的修改内容都会复制回原来的文件中。 如果需要只读的访问模式，可以给参数 `access` 赋值为 `mmap.ACCESS_READ`\n",
    "\n",
    "如果你想在本地修改数据，但是又不想将修改写回到原始文件中，可以使用 `mmap.ACCESS_COPY`"
   ]
  },
  {
   "cell_type": "markdown",
   "metadata": {},
   "source": [
    "## [memoryview]讨论"
   ]
  },
  {
   "cell_type": "markdown",
   "metadata": {},
   "source": [
    "为了随机访问文件的内容，使用 `mmap` 将文件映射到内存中是一个高效和优雅的方法。 例如，你无需打开一个文件并执行大量的 `seek()` ， `read()` ， `write()` 调用， 只需要简单的映射文件并使用切片操作访问数据即可。\n",
    "\n",
    "一般来讲， `mmap()` 所暴露的内存看上去就是一个二进制数组对象。 但是，你可以使用一个内存视图来解析其中的数据"
   ]
  },
  {
   "cell_type": "code",
   "execution_count": 5,
   "metadata": {
    "ExecuteTime": {
     "end_time": "2019-07-11T03:47:00.514214Z",
     "start_time": "2019-07-11T03:47:00.503243Z"
    }
   },
   "outputs": [
    {
     "data": {
      "text/plain": [
       "250"
      ]
     },
     "execution_count": 5,
     "metadata": {},
     "output_type": "execute_result"
    },
    {
     "data": {
      "text/plain": [
       "7"
      ]
     },
     "execution_count": 5,
     "metadata": {},
     "output_type": "execute_result"
    },
    {
     "data": {
      "text/plain": [
       "b'\\x07\\x00\\x00\\x00'"
      ]
     },
     "execution_count": 5,
     "metadata": {},
     "output_type": "execute_result"
    },
    {
     "data": {
      "text/plain": [
       "263"
      ]
     },
     "execution_count": 5,
     "metadata": {},
     "output_type": "execute_result"
    }
   ],
   "source": [
    "m = memory_map('data')\n",
    "\n",
    "# Memoryview of unsigned integers { cast('I') }\n",
    "v = memoryview(m).cast('I')\n",
    "len(v.tolist()) # 4*250=1000\n",
    "v[0] = 7\n",
    "v[0] # 7\n",
    "\n",
    "m[0:4] # b'\\x07\\x00\\x00\\x00'\n",
    "m[0:4] = b'\\x07\\x01\\x00\\x00'\n",
    "\n",
    "v[0]"
   ]
  },
  {
   "cell_type": "markdown",
   "metadata": {},
   "source": [
    "需要强调的一点是，内存映射一个文件并不会导致整个文件被读取到内存中。 也就是说，文件并没有被复制到内存缓存或数组中。相反，操作系统仅仅为文件内容保留了一段虚拟内存。 当你访问文件的不同区域时，这些区域的内容才根据需要被读取并映射到内存区域中。 而那些从没被访问到的部分还是留在磁盘上。所有这些过程是透明的，在幕后完成！\n",
    "\n",
    "如果多个`Python`解释器内存映射同一个文件，得到的 `mmap` 对象能够被用来在解释器直接交换数据。 也就是说，所有解释器都能同时读写数据，并且其中一个解释器所做的修改会自动呈现在其他解释器中。 很明显，这里需要考虑同步的问题。但是这种方法有时候可以用来在管道或套接字间传递数据。"
   ]
  },
  {
   "cell_type": "markdown",
   "metadata": {},
   "source": [
    "# [os.path]文件路径名的操作"
   ]
  },
  {
   "cell_type": "code",
   "execution_count": 11,
   "metadata": {
    "ExecuteTime": {
     "end_time": "2019-07-11T03:58:31.958370Z",
     "start_time": "2019-07-11T03:58:31.947398Z"
    }
   },
   "outputs": [
    {
     "data": {
      "text/plain": [
       "'data'"
      ]
     },
     "execution_count": 11,
     "metadata": {},
     "output_type": "execute_result"
    },
    {
     "data": {
      "text/plain": [
       "''"
      ]
     },
     "execution_count": 11,
     "metadata": {},
     "output_type": "execute_result"
    },
    {
     "data": {
      "text/plain": [
       "'tmp\\\\data\\\\data'"
      ]
     },
     "execution_count": 11,
     "metadata": {},
     "output_type": "execute_result"
    },
    {
     "data": {
      "text/plain": [
       "'C:\\\\Users\\\\po390\\\\data'"
      ]
     },
     "execution_count": 11,
     "metadata": {},
     "output_type": "execute_result"
    },
    {
     "data": {
      "text/plain": [
       "('~\\\\data', '')"
      ]
     },
     "execution_count": 11,
     "metadata": {},
     "output_type": "execute_result"
    }
   ],
   "source": [
    "import os\n",
    "\n",
    "path = 'data'\n",
    "\n",
    "# Get the last component of the path\n",
    "os.path.basename(path)\n",
    "\n",
    "# Get the directory name\n",
    "os.path.dirname(path)\n",
    "\n",
    "# Join path components together\n",
    "os.path.join('tmp', 'data', os.path.basename(path))\n",
    "\n",
    "# Expand the user's home directory\n",
    "path = r'~\\data'\n",
    "os.path.expanduser(path)\n",
    "\n",
    "# Split the file extension\n",
    "# 'data.csv' -> ('~\\\\data', '.csv')\n",
    "os.path.splitext(path)"
   ]
  },
  {
   "cell_type": "markdown",
   "metadata": {},
   "source": [
    "对于任何的文件名的操作，你都应该使用 `os.path` 模块，而不是使用标准字符串操作来构造自己的代码。 特别是为了可移植性考虑的时候更应如此， 因为 `os.path` 模块知道`Unix`和`Windows`系统之间的差异并且能够可靠地处理类似 `Data/data.csv` 和 `Data\\data.csv` 这样的文件名"
   ]
  },
  {
   "cell_type": "markdown",
   "metadata": {},
   "source": [
    "# [os.path ; .getsize() ; .exists()]测试文件是否存在"
   ]
  },
  {
   "cell_type": "code",
   "execution_count": 12,
   "metadata": {
    "ExecuteTime": {
     "end_time": "2019-07-11T04:00:31.853781Z",
     "start_time": "2019-07-11T04:00:31.847770Z"
    }
   },
   "outputs": [
    {
     "data": {
      "text/plain": [
       "True"
      ]
     },
     "execution_count": 12,
     "metadata": {},
     "output_type": "execute_result"
    },
    {
     "data": {
      "text/plain": [
       "False"
      ]
     },
     "execution_count": 12,
     "metadata": {},
     "output_type": "execute_result"
    }
   ],
   "source": [
    "import os\n",
    "\n",
    "os.path.exists('data')\n",
    "\n",
    "os.path.exists('/tmp/spam')"
   ]
  },
  {
   "cell_type": "markdown",
   "metadata": {},
   "source": [
    "\n",
    "```py\n",
    ">>> # Is a regular file\n",
    ">>> os.path.isfile('/etc/passwd')\n",
    "True\n",
    "\n",
    ">>> # Is a directory\n",
    ">>> os.path.isdir('/etc/passwd')\n",
    "False\n",
    "\n",
    ">>> # Is a symbolic link\n",
    ">>> os.path.islink('/usr/local/bin/python3')\n",
    "True\n",
    "\n",
    ">>> # Get the file linked to\n",
    ">>> os.path.realpath('/usr/local/bin/python3')\n",
    "'/usr/local/bin/python3.3'\n",
    ">>>\n",
    "```\n",
    "\n",
    "如果你还想获取元数据(比如文件大小或者是修改日期)，也可以使用 `os.path` 模块来解决：\n",
    "\n",
    "```py\n",
    ">>> os.path.getsize('/etc/passwd')\n",
    "3669\n",
    ">>> os.path.getmtime('/etc/passwd')\n",
    "1272478234.0\n",
    ">>> import time\n",
    ">>> time.ctime(os.path.getmtime('/etc/passwd'))\n",
    "'Wed Apr 28 13:10:34 2010'\n",
    "```\n",
    "\n",
    "\n",
    "\n",
    "\n",
    "\n",
    "\n",
    "\n"
   ]
  },
  {
   "cell_type": "markdown",
   "metadata": {},
   "source": [
    "# [os.listdir()]获取文件夹中的文件列表"
   ]
  },
  {
   "cell_type": "markdown",
   "metadata": {
    "ExecuteTime": {
     "end_time": "2019-07-11T09:44:24.822877Z",
     "start_time": "2019-07-11T09:44:24.605260Z"
    }
   },
   "source": [
    "\n",
    " `os.listdir()` 函数来获取某个目录中的文件列表\n",
    "\n",
    "结果会返回目录中所有文件列表，包括所有文件，子目录，符号链接等等。 如果你需要通过某种方式过滤数据，可以考虑结合 `os.path` 库中的一些函数来使用列表推导\n",
    "\n",
    "```py\n",
    "import os.path\n",
    "\n",
    "# Get all regular files\n",
    "names = [name for name in os.listdir('somedir')\n",
    "        if os.path.isfile(os.path.join('somedir', name))]\n",
    "\n",
    "# Get all dirs\n",
    "dirnames = [name for name in os.listdir('somedir')\n",
    "        if os.path.isdir(os.path.join('somedir', name))]\n",
    "```\n",
    "\n",
    "字符串的 `startswith()` 和 `endswith()` 方法对于过滤一个目录的内容也是很有用的\n",
    "\n",
    "```py\n",
    "pyfiles = [name for name in os.listdir('somedir')\n",
    "            if name.endswith('.py')]\n",
    "```\n",
    "\n",
    "对于文件名的匹配，你可能会考虑使用 `glob` 或 `fnmatch` 模块。比如：\n",
    "\n",
    "```py\n",
    "import glob\n",
    "pyfiles = glob.glob('somedir/*.py')\n",
    "\n",
    "from fnmatch import fnmatch\n",
    "pyfiles = [name for name in os.listdir('somedir')\n",
    "            if fnmatch(name, '*.py')]\n",
    "```"
   ]
  },
  {
   "cell_type": "markdown",
   "metadata": {},
   "source": [
    "## [os.path ; os.stat()]讨论"
   ]
  },
  {
   "cell_type": "markdown",
   "metadata": {},
   "source": [
    "如果你还想获取其他的元信息，比如文件大小，修改时间等等， 你或许还需要使用到 `os.path` 模块中的函数或着 `os.stat()` 函数来收集数据\n",
    "\n",
    "```py\n",
    "# Example of getting a directory listing\n",
    "\n",
    "import os\n",
    "import os.path\n",
    "import glob\n",
    "\n",
    "pyfiles = glob.glob('*.py')\n",
    "\n",
    "# Get file sizes and modification dates\n",
    "name_sz_date = [\n",
    "    (name, os.path.getsize(name), os.path.getmtime(name))\n",
    "        for name in pyfiles\n",
    "]\n",
    "\n",
    "for name, size, mtime in name_sz_date:\n",
    "    print(name, size, mtime)\n",
    "\n",
    "# Alternative: Get file metadata\n",
    "file_metadata = [\n",
    "    (name, os.stat(name)) \n",
    "        for name in pyfiles\n",
    "]\n",
    "\n",
    "for name, meta in file_metadata:\n",
    "    print(name, meta.st_size, meta.st_mtime)\n",
    "```\n",
    "\n"
   ]
  },
  {
   "cell_type": "markdown",
   "metadata": {},
   "source": [
    "# [os.listdir(b'.')]忽略文件名编码"
   ]
  },
  {
   "cell_type": "markdown",
   "metadata": {},
   "source": [
    "默认情况下，所有的文件名都会根据 `sys.getfilesystemencoding()` 返回的文本编码来编码或解码。\n",
    "\n",
    "```py\n",
    ">>> sys.getfilesystemencoding()\n",
    "'utf-8'\n",
    "```\n",
    "\n",
    "如果因为某种原因你想忽略这种编码，可以使用一个原始字节字符串来指定一个文件名即可\n",
    "\n",
    "```py\n",
    ">>> # Wrte a file using a unicode filename\n",
    ">>> with open('jalape\\xf1o.txt', 'w') as f:\n",
    "...     f.write('Spicy!')\n",
    "...\n",
    "6\n",
    ">>> # Directory listing (decoded)\n",
    ">>> import os\n",
    ">>> os.listdir('.')\n",
    "['jalapeño.txt']\n",
    "\n",
    ">>> # Directory listing (raw)\n",
    ">>> os.listdir(b'.') # Note: byte string\n",
    "[b'jalapen\\xcc\\x83o.txt']\n",
    "\n",
    ">>> # Open file with raw filename\n",
    ">>> with open(b'jalapen\\xcc\\x83o.txt') as f:\n",
    "...     print(f.read())\n",
    "...\n",
    "Spicy!\n",
    "```\n",
    "\n"
   ]
  },
  {
   "cell_type": "markdown",
   "metadata": {},
   "source": [
    "# [f.encode(sys.getfilesystemencoding(),errors='surrogateescape')]打印不合法的文件名"
   ]
  },
  {
   "cell_type": "markdown",
   "metadata": {},
   "source": [
    "你的程序获取了一个目录中的文件名列表，但是当它试着去打印文件名的时候程序崩溃， 出现了 `UnicodeEncodeError` 异常和一条奇怪的消息—— `surrogates not allowed`\n",
    "\n",
    "```py\n",
    "def bad_filename(filename):\n",
    "    return repr(filename)[1:-1]\n",
    "\n",
    "try:\n",
    "    print(filename)\n",
    "except UnicodeEncodeError:\n",
    "    print(bad_filename(filename))\n",
    "```\n",
    "\n",
    "## 讨论\n",
    "\n",
    "默认情况下，`Python`假定所有文件名都已经根据 `sys.getfilesystemencoding()` 的值编码过了\n",
    "\n",
    "当执行类似 `os.listdir()` 这样的函数时，这些不合规范的文件名就会让`Python`陷入困境。\n",
    "\n",
    "`Python`对这个问题的解决方案是从文件名中获取未解码的字节值比如 `\\xhh` 并将它映射成`Unicode`字符 `\\udchh` 表示的所谓的”代理编码”。\n",
    "\n",
    "目录列表中含有一个文件名为bäd.txt(使用Latin-1而不是UTF-8编码)\n",
    "\n",
    "```py\n",
    ">>> import os\n",
    ">>> files = os.listdir('.')\n",
    ">>> files\n",
    "['spam.py', 'b\\udce4d.txt', 'foo.txt']\n",
    ">>>\n",
    "```\n",
    "\n",
    "在 `bad_filename()` 函数中怎样处置取决于你自己。 另外一个选择就是通过某种方式重新编码\n",
    "\n",
    "```py\n",
    "def bad_filename(filename):\n",
    "    temp = filename.encode(\n",
    "        sys.getfilesystemencoding(), \n",
    "        errors='surrogateescape'\n",
    "        )\n",
    "        \n",
    "    return temp.decode('latin-1')\n",
    "```\n",
    "\n",
    "surrogateescape:\n",
    "\n",
    "    在解码出错时会将出错字节存储到一个很少被使用到的Unicode编码范围内。\n",
    "    在编码时将那些隐藏值又还原回原先解码失败的字节序列。"
   ]
  },
  {
   "cell_type": "markdown",
   "metadata": {},
   "source": [
    "# [io.TextIOWrapper()]增加或改变已打开文件的编码"
   ]
  },
  {
   "cell_type": "markdown",
   "metadata": {},
   "source": [
    "你想在不关闭一个已打开的文件前提下增加或改变它的Unicode编码。\n",
    "\n",
    "如果你想给一个以二进制模式打开的文件添加Unicode编码/解码方式，\n",
    "\n",
    "使用 `io.TextIOWrapper()` 对象包装它"
   ]
  },
  {
   "cell_type": "code",
   "execution_count": 5,
   "metadata": {
    "ExecuteTime": {
     "end_time": "2019-07-12T06:56:21.827134Z",
     "start_time": "2019-07-12T06:56:21.192319Z"
    }
   },
   "outputs": [
    {
     "data": {
      "text/plain": [
       "'<!doctype html>\\n<!--[if lt IE 7]>   <html class=\"no-js ie6 lt-ie7 lt-ie8 lt-ie9\">   <![endif]-->\\n<!-'"
      ]
     },
     "execution_count": 5,
     "metadata": {},
     "output_type": "execute_result"
    }
   ],
   "source": [
    "import urllib.request\n",
    "import io\n",
    "\n",
    "u = urllib.request.urlopen('http://www.python.org')\n",
    "f = io.TextIOWrapper(u, encoding='utf-8')\n",
    "text = f.read()\n",
    "text[:100]"
   ]
  },
  {
   "cell_type": "markdown",
   "metadata": {},
   "source": [
    "如果你想修改一个已经打开的文本模式的文件的编码方式，可以先使用 `detach()` 方法移除掉已存在的文本编码层， 并使用新的编码方式代替。下面是一个在 `sys.stdout` 上修改编码方式的例子：\n",
    "\n",
    "```py\n",
    ">>> import sys\n",
    ">>> sys.stdout.encoding\n",
    "'UTF-8'\n",
    ">>> sys.stdout = io.TextIOWrapper(sys.stdout.detach(), encoding='latin-1')\n",
    ">>> sys.stdout.encoding\n",
    "'latin-1'\n",
    "```\n",
    "\n",
    "这样做可能会中断你的终端，这里仅仅是为了演示而已。"
   ]
  },
  {
   "cell_type": "code",
   "execution_count": 31,
   "metadata": {
    "ExecuteTime": {
     "end_time": "2019-07-12T07:15:49.936195Z",
     "start_time": "2019-07-12T07:15:49.932289Z"
    }
   },
   "outputs": [
    {
     "data": {
      "text/plain": [
       "'UTF-8'"
      ]
     },
     "execution_count": 31,
     "metadata": {},
     "output_type": "execute_result"
    }
   ],
   "source": [
    "import sys\n",
    "sys.stdout.encoding"
   ]
  },
  {
   "cell_type": "markdown",
   "metadata": {},
   "source": [
    "## 讨论"
   ]
  },
  {
   "cell_type": "markdown",
   "metadata": {
    "ExecuteTime": {
     "end_time": "2019-07-12T07:16:13.895531Z",
     "start_time": "2019-07-12T07:16:13.888698Z"
    }
   },
   "source": [
    "\n",
    "`io.TextIOWrapper` 是一个编码和解码`Unicode`的文本处理层， `io.BufferedWriter `是一个处理二进制数据的带缓冲的`I/O`层， `io.FileIO` 是一个表示操作系统底层文件描述符的原始文件。 增加或改变文本编码会涉及增加或改变最上面的 `io.TextIOWrapper` 层。\n",
    "\n",
    "```py\n",
    ">>> f = open('sample.txt','w')\n",
    ">>> f\n",
    "<_io.TextIOWrapper name='sample.txt' mode='w' encoding='UTF-8'>\n",
    "\n",
    ">>> f.buffer\n",
    "<_io.BufferedWriter name='sample.txt'>\n",
    "\n",
    ">>> f.buffer.raw\n",
    "<_io.FileIO name='sample.txt' mode='wb'>\n",
    "\n",
    ">>>\n",
    "```\n",
    "\n",
    "结果出错了，因为f的原始值已经被破坏了并关闭了底层的文件\n",
    "\n",
    "```py\n",
    ">>> f\n",
    "<_io.TextIOWrapper name='sample.txt' mode='w' encoding='UTF-8'>\n",
    ">>> f = io.TextIOWrapper(f.buffer, encoding='latin-1')\n",
    ">>> f\n",
    "<_io.TextIOWrapper name='sample.txt' encoding='latin-1'>\n",
    ">>> f.write('Hello')\n",
    "Traceback (most recent call last):\n",
    "    File \"<stdin>\", line 1, in <module>\n",
    "ValueError: I/O operation on closed file.\n",
    ">>>\n",
    "```\n",
    "\n",
    "`detach()` 方法会断开文件的最顶层并返回第二层，之后最顶层就没什么用了\n",
    "\n",
    "```py\n",
    ">>> f = open('sample.txt', 'w')\n",
    ">>> f\n",
    "<_io.TextIOWrapper name='sample.txt' mode='w' encoding='UTF-8'>\n",
    ">>> b = f.detach()\n",
    ">>> b\n",
    "<_io.BufferedWriter name='sample.txt'>\n",
    ">>> f.write('hello')\n",
    "Traceback (most recent call last):\n",
    "    File \"<stdin>\", line 1, in <module>\n",
    "ValueError: underlying buffer has been detached\n",
    ">>>\n",
    "```\n",
    "\n",
    "一旦断开最顶层后，你就可以给返回结果添加一个新的最顶层。比如：\n",
    "\n",
    "```py\n",
    ">>> f = io.TextIOWrapper(b, encoding='latin-1')\n",
    ">>> f\n",
    "<_io.TextIOWrapper name='sample.txt' encoding='latin-1'>\n",
    ">>>\n",
    "```"
   ]
  },
  {
   "cell_type": "markdown",
   "metadata": {},
   "source": [
    "# 将字节写入文本文件"
   ]
  },
  {
   "cell_type": "markdown",
   "metadata": {},
   "source": [
    "将字节数据直接写入文件的缓冲区即可\n",
    "\n",
    "失敗: 沒有'buffer'屬性\n",
    "\n",
    "且可直接寫入(b'')"
   ]
  },
  {
   "cell_type": "code",
   "execution_count": 34,
   "metadata": {
    "ExecuteTime": {
     "end_time": "2019-07-12T07:28:59.662257Z",
     "start_time": "2019-07-12T07:28:59.652518Z"
    }
   },
   "outputs": [
    {
     "name": "stdout",
     "output_type": "stream",
     "text": [
      "Hello\n"
     ]
    },
    {
     "ename": "AttributeError",
     "evalue": "'OutStream' object has no attribute 'buffer'",
     "output_type": "error",
     "traceback": [
      "\u001b[1;31m---------------------------------------------------------------------------\u001b[0m",
      "\u001b[1;31mAttributeError\u001b[0m                            Traceback (most recent call last)",
      "\u001b[1;32m<ipython-input-34-facd2574bac5>\u001b[0m in \u001b[0;36m<module>\u001b[1;34m()\u001b[0m\n\u001b[0;32m      1\u001b[0m \u001b[1;32mimport\u001b[0m \u001b[0msys\u001b[0m\u001b[1;33m\u001b[0m\u001b[0m\n\u001b[0;32m      2\u001b[0m \u001b[0msys\u001b[0m\u001b[1;33m.\u001b[0m\u001b[0mstdout\u001b[0m\u001b[1;33m.\u001b[0m\u001b[0mwrite\u001b[0m\u001b[1;33m(\u001b[0m\u001b[1;34mb'Hello\\n'\u001b[0m\u001b[1;33m)\u001b[0m\u001b[1;33m\u001b[0m\u001b[0m\n\u001b[1;32m----> 3\u001b[1;33m \u001b[0msys\u001b[0m\u001b[1;33m.\u001b[0m\u001b[0mstdout\u001b[0m\u001b[1;33m.\u001b[0m\u001b[0mbuffer\u001b[0m\u001b[1;33m.\u001b[0m\u001b[0mwrite\u001b[0m\u001b[1;33m(\u001b[0m\u001b[1;34mb'Hello\\n'\u001b[0m\u001b[1;33m)\u001b[0m\u001b[1;33m\u001b[0m\u001b[0m\n\u001b[0m",
      "\u001b[1;31mAttributeError\u001b[0m: 'OutStream' object has no attribute 'buffer'"
     ]
    }
   ],
   "source": [
    "import sys\n",
    "sys.stdout.write(b'Hello\\n')\n",
    "sys.stdout.buffer.write(b'Hello\\n')"
   ]
  },
  {
   "cell_type": "markdown",
   "metadata": {},
   "source": [
    "# 将文件描述符包装成文件对象\n",
    "\n",
    "问题\n",
    "\n",
    "你想在文本模式打开的文件中写入原始的字节数据\n",
    "\n"
   ]
  },
  {
   "cell_type": "markdown",
   "metadata": {},
   "source": [
    "# 创建临时文件和文件夹"
   ]
  },
  {
   "cell_type": "markdown",
   "metadata": {},
   "source": [
    "# [pySerial包]与串行端口的数据通信"
   ]
  },
  {
   "cell_type": "markdown",
   "metadata": {},
   "source": [
    "你想通过串行端口读写数据，典型场景就是和一些硬件设备打交道(比如一个机器人或传感器)。\n",
    "\n",
    "尽管你可以通过使用`Python`内置的`I/O`模块来完成这个任务，但对于串行通信最好的选择是使用 `pySerial`包 。 这个包的使用非常简单，先安装`pySerial`，使用类似下面这样的代码就能很容易的打开一个串行端口：\n",
    "\n",
    "```py\n",
    "import serial\n",
    "ser = serial.Serial(\n",
    "    '/dev/tty.usbmodem641', # Device name varies\n",
    "    baudrate=9600,\n",
    "    bytesize=8,\n",
    "    parity='N',\n",
    "    stopbits=1\n",
    "    )\n",
    "```\n",
    "\n",
    "设备名对于不同的设备和操作系统是不一样的。 比如，在`Windows`系统上，你可以使用`0, 1`等表示的一个设备来打开通信端口`”COM0”`和`”COM1”`。 一旦端口打开，那就可以使用 `read()`，`readline()` 和 `write()` 函数读写数据了。例如：\n",
    "\n",
    "```py\n",
    "ser.write(b'G1 X50 Y50\\r\\n')\n",
    "resp = ser.readline()\n",
    "```"
   ]
  },
  {
   "cell_type": "markdown",
   "metadata": {},
   "source": [
    "# [pickle]序列化Python对象"
   ]
  },
  {
   "cell_type": "markdown",
   "metadata": {},
   "source": [
    "\n",
    "将一个`Python`对象序列化为一个字节流，以便将它保存到一个文件、存储到数据库或者通过网络传输它。\n",
    "\n",
    "```py\n",
    "import pickle\n",
    "\n",
    "data = ... # Some Python object\n",
    "f = open('somefile', 'wb')\n",
    "pickle.dump(data, f)\n",
    "\n",
    "# =============================\n",
    "\n",
    "# 将一个对象转储为一个字符串\n",
    "s = pickle.dumps(data)\n",
    "\n",
    "```\n",
    "\n",
    "为了从字节流中恢复一个对象，使用 `pickle.load()` 或 `pickle.loads()` 函数。\n",
    "\n",
    "```py\n",
    "# Restore from a file\n",
    "f = open('somefile', 'rb')\n",
    "data = pickle.load(f)\n",
    "\n",
    "# Restore from a string\n",
    "data = pickle.loads(s)\n",
    "```\n",
    "\n",
    "`pickle` 是一种`Python`特有的自描述的数据编码。 通过自描述，被序列化后的数据包含每个对象开始和结束以及它的类型信息。 因此，你无需担心对象记录的定义，它总是能工作。 举个例子，如果要处理多个对象，你可以这样做：\n",
    "\n",
    "```py\n",
    ">>> import pickle\n",
    ">>> f = open('somedata', 'wb')\n",
    ">>> pickle.dump([1, 2, 3, 4], f)\n",
    ">>> pickle.dump('hello', f)\n",
    ">>> pickle.dump({'Apple', 'Pear', 'Banana'}, f)\n",
    ">>> f.close()\n",
    ">>> f = open('somedata', 'rb')\n",
    ">>> pickle.load(f)\n",
    "[1, 2, 3, 4]\n",
    ">>> pickle.load(f)\n",
    "'hello'\n",
    ">>> pickle.load(f)\n",
    "{'Apple', 'Pear', 'Banana'}\n",
    "```\n",
    "\n",
    "注\n",
    "\n",
    "    千万不要对不信任的数据使用`pickle.load()`。\n",
    "    `pickle`在加载时有一个副作用就是它会自动加载相应模块并构造实例对象。\n",
    "    但是某个坏人如果知道`pickle`的工作原理，\n",
    "    他就可以创建一个恶意的数据导致`Python`执行随意指定的系统命令。\n",
    "    因此，一定要保证`pickle`只在相互之间可以认证对方的解析器的内部使用。\n",
    "\n",
    "\n",
    "有些类型的对象是不能被序列化的。这些通常是那些依赖外部系统状态的对象， 比如打开的文件，网络连接，线程，进程，栈帧等等。 用户自定义类可以通过提供 `__getstate__()` 和 `__setstate__()` 方法来绕过这些限制。 如果定义了这两个方法，`pickle.dump()` 就会调用 `__getstate__()` 获取序列化的对象。 类似的，`__setstate__()` 在反序列化时被调用。为了演示这个工作原理， 下面是一个在内部定义了一个线程但仍然可以序列化和反序列化的类：\n",
    "\n",
    "```py\n",
    "# countdown.py\n",
    "import time\n",
    "import threading\n",
    "\n",
    "class Countdown:\n",
    "    def __init__(self, n):\n",
    "        self.n = n\n",
    "        self.thr = threading.Thread(target=self.run)\n",
    "        self.thr.daemon = True\n",
    "        self.thr.start()\n",
    "\n",
    "    def run(self):\n",
    "        while self.n > 0:\n",
    "            print('T-minus', self.n)\n",
    "            self.n -= 1\n",
    "            time.sleep(5)\n",
    "\n",
    "    def __getstate__(self):\n",
    "        return self.n\n",
    "\n",
    "    def __setstate__(self, n):\n",
    "        self.__init__(n)\n",
    "```\n",
    "\n",
    "试着运行下面的序列化试验代码：\n",
    "\n",
    "```py\n",
    ">>> import countdown\n",
    ">>> c = countdown.Countdown(30)\n",
    "T-minus 30\n",
    "T-minus 29\n",
    "T-minus 28\n",
    "...\n",
    "\n",
    ">>> # After a few moments\n",
    ">>> f = open('cstate.p', 'wb')\n",
    ">>> import pickle\n",
    ">>> pickle.dump(c, f)\n",
    ">>> f.close()\n",
    "\n",
    "```\n",
    "\n",
    "然后退出Python解析器并重启后再试验下：\n",
    "\n",
    "```py\n",
    ">>> f = open('cstate.p', 'rb')\n",
    ">>> pickle.load(f)\n",
    "countdown.Countdown object at 0x10069e2d0>\n",
    "T-minus 19\n",
    "T-minus 18\n",
    "...\n",
    "\n",
    "```\n",
    "\n",
    "`pickle` 对于大型的数据结构比如使用 `array` 或 `numpy` 模块创建的二进制数组效率并不是一个高效的编码方式。 如果你需要移动大量的数组数据，你最好是先在一个文件中将其保存为数组数据块或使用更高级的标准编码方式如`HDF5` (需要第三方库的支持)。\n",
    "\n",
    "\n",
    "由于 `pickle` 是`Python`特有的并且附着在源码上，所有如果需要长期存储数据的时候不应该选用它。 例如，如果源码变动了，你所有的存储数据可能会被破坏并且变得不可读取。 坦白来讲，对于在数据库和存档文件中存储数据时，你最好使用更加标准的数据编码格式如`XML`，`CSV`或`JSON`。 这些编码格式更标准，可以被不同的语言支持，并且也能很好的适应源码变更。"
   ]
  },
  {
   "cell_type": "code",
   "execution_count": null,
   "metadata": {},
   "outputs": [],
   "source": []
  },
  {
   "cell_type": "code",
   "execution_count": null,
   "metadata": {},
   "outputs": [],
   "source": []
  },
  {
   "cell_type": "code",
   "execution_count": null,
   "metadata": {},
   "outputs": [],
   "source": []
  },
  {
   "cell_type": "code",
   "execution_count": null,
   "metadata": {},
   "outputs": [],
   "source": []
  },
  {
   "cell_type": "code",
   "execution_count": null,
   "metadata": {},
   "outputs": [],
   "source": []
  },
  {
   "cell_type": "code",
   "execution_count": null,
   "metadata": {},
   "outputs": [],
   "source": []
  },
  {
   "cell_type": "code",
   "execution_count": null,
   "metadata": {},
   "outputs": [],
   "source": []
  },
  {
   "cell_type": "code",
   "execution_count": null,
   "metadata": {},
   "outputs": [],
   "source": []
  },
  {
   "cell_type": "code",
   "execution_count": null,
   "metadata": {},
   "outputs": [],
   "source": []
  }
 ],
 "metadata": {
  "hide_input": false,
  "kernelspec": {
   "display_name": "Python [default]",
   "language": "python",
   "name": "python3"
  },
  "language_info": {
   "codemirror_mode": {
    "name": "ipython",
    "version": 3
   },
   "file_extension": ".py",
   "mimetype": "text/x-python",
   "name": "python",
   "nbconvert_exporter": "python",
   "pygments_lexer": "ipython3",
   "version": "3.6.5"
  },
  "toc": {
   "base_numbering": 1,
   "nav_menu": {},
   "number_sections": true,
   "sideBar": true,
   "skip_h1_title": false,
   "title_cell": "Table of Contents",
   "title_sidebar": "Contents",
   "toc_cell": true,
   "toc_position": {
    "height": "calc(100% - 180px)",
    "left": "10px",
    "top": "150px",
    "width": "192px"
   },
   "toc_section_display": true,
   "toc_window_display": true
  },
  "varInspector": {
   "cols": {
    "lenName": 16,
    "lenType": 16,
    "lenVar": 40
   },
   "kernels_config": {
    "python": {
     "delete_cmd_postfix": "",
     "delete_cmd_prefix": "del ",
     "library": "var_list.py",
     "varRefreshCmd": "print(var_dic_list())"
    },
    "r": {
     "delete_cmd_postfix": ") ",
     "delete_cmd_prefix": "rm(",
     "library": "var_list.r",
     "varRefreshCmd": "cat(var_dic_list()) "
    }
   },
   "types_to_exclude": [
    "module",
    "function",
    "builtin_function_or_method",
    "instance",
    "_Feature"
   ],
   "window_display": false
  }
 },
 "nbformat": 4,
 "nbformat_minor": 2
}
