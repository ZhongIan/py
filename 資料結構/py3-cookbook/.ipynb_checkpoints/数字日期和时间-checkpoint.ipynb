{
 "cells": [
  {
   "cell_type": "markdown",
   "metadata": {
    "toc": true
   },
   "source": [
    "<h1>Table of Contents<span class=\"tocSkip\"></span></h1>\n",
    "<div class=\"toc\"><ul class=\"toc-item\"><li><span><a href=\"#[round()]数字的四舍五入\" data-toc-modified-id=\"[round()]数字的四舍五入-1\"><span class=\"toc-item-num\">1&nbsp;&nbsp;</span>[round()]数字的四舍五入</a></span><ul class=\"toc-item\"><li><span><a href=\"#讨论\" data-toc-modified-id=\"讨论-1.1\"><span class=\"toc-item-num\">1.1&nbsp;&nbsp;</span>讨论</a></span></li></ul></li><li><span><a href=\"#[decimal.Decimal()]执行精确的浮点数运算\" data-toc-modified-id=\"[decimal.Decimal()]执行精确的浮点数运算-2\"><span class=\"toc-item-num\">2&nbsp;&nbsp;</span>[decimal.Decimal()]执行精确的浮点数运算</a></span><ul class=\"toc-item\"><li><span><a href=\"#讨论\" data-toc-modified-id=\"讨论-2.1\"><span class=\"toc-item-num\">2.1&nbsp;&nbsp;</span>讨论</a></span></li></ul></li><li><span><a href=\"#[format()-{0.2f->10.1f-,e}]数字的格式化输出\" data-toc-modified-id=\"[format()-{0.2f->10.1f-,e}]数字的格式化输出-3\"><span class=\"toc-item-num\">3&nbsp;&nbsp;</span>[format() {0.2f &gt;10.1f ,e}]数字的格式化输出</a></span></li><li><span><a href=\"#二八十六进制整数\" data-toc-modified-id=\"二八十六进制整数-4\"><span class=\"toc-item-num\">4&nbsp;&nbsp;</span>二八十六进制整数</a></span></li><li><span><a href=\"#[int.to_bytes-int.from_bytes]字节到大整数的打包与解包\" data-toc-modified-id=\"[int.to_bytes-int.from_bytes]字节到大整数的打包与解包-5\"><span class=\"toc-item-num\">5&nbsp;&nbsp;</span>[int.to_bytes int.from_bytes]字节到大整数的打包与解包</a></span></li><li><span><a href=\"#[cmath-numpy]复数的数学运算\" data-toc-modified-id=\"[cmath-numpy]复数的数学运算-6\"><span class=\"toc-item-num\">6&nbsp;&nbsp;</span>[cmath numpy]复数的数学运算</a></span></li><li><span><a href=\"#[math.isinf()-float('inf')]无穷大与NaN\" data-toc-modified-id=\"[math.isinf()-float('inf')]无穷大与NaN-7\"><span class=\"toc-item-num\">7&nbsp;&nbsp;</span>[math.isinf() float('inf')]无穷大与NaN</a></span><ul class=\"toc-item\"><li><span><a href=\"#讨论\" data-toc-modified-id=\"讨论-7.1\"><span class=\"toc-item-num\">7.1&nbsp;&nbsp;</span>讨论</a></span></li></ul></li><li><span><a href=\"#[fractions.Fraction]分数运算\" data-toc-modified-id=\"[fractions.Fraction]分数运算-8\"><span class=\"toc-item-num\">8&nbsp;&nbsp;</span>[fractions.Fraction]分数运算</a></span></li><li><span><a href=\"#[numpy]大型数组运算\" data-toc-modified-id=\"[numpy]大型数组运算-9\"><span class=\"toc-item-num\">9&nbsp;&nbsp;</span>[numpy]大型数组运算</a></span></li><li><span><a href=\"#[np.matrix-numpy.linalg]矩阵与线性代数运算\" data-toc-modified-id=\"[np.matrix-numpy.linalg]矩阵与线性代数运算-10\"><span class=\"toc-item-num\">10&nbsp;&nbsp;</span>[np.matrix numpy.linalg]矩阵与线性代数运算</a></span></li><li><span><a href=\"#[random]随机选择\" data-toc-modified-id=\"[random]随机选择-11\"><span class=\"toc-item-num\">11&nbsp;&nbsp;</span>[random]随机选择</a></span><ul class=\"toc-item\"><li><span><a href=\"#[seed]讨论\" data-toc-modified-id=\"[seed]讨论-11.1\"><span class=\"toc-item-num\">11.1&nbsp;&nbsp;</span>[seed]讨论</a></span></li></ul></li><li><span><a href=\"#[datetime]基本的日期与时间转换\" data-toc-modified-id=\"[datetime]基本的日期与时间转换-12\"><span class=\"toc-item-num\">12&nbsp;&nbsp;</span>[datetime]基本的日期与时间转换</a></span><ul class=\"toc-item\"><li><span><a href=\"#[dateutil.relativedelta]讨论\" data-toc-modified-id=\"[dateutil.relativedelta]讨论-12.1\"><span class=\"toc-item-num\">12.1&nbsp;&nbsp;</span>[dateutil.relativedelta]讨论</a></span></li></ul></li><li><span><a href=\"#计算最后一个周五的日期\" data-toc-modified-id=\"计算最后一个周五的日期-13\"><span class=\"toc-item-num\">13&nbsp;&nbsp;</span>计算最后一个周五的日期</a></span><ul class=\"toc-item\"><li><span><a href=\"#[dateutil]讨论\" data-toc-modified-id=\"[dateutil]讨论-13.1\"><span class=\"toc-item-num\">13.1&nbsp;&nbsp;</span>[dateutil]讨论</a></span></li></ul></li><li><span><a href=\"#[calendar]计算当前月份的日期范围\" data-toc-modified-id=\"[calendar]计算当前月份的日期范围-14\"><span class=\"toc-item-num\">14&nbsp;&nbsp;</span>[calendar]计算当前月份的日期范围</a></span></li><li><span><a href=\"#[datetime.strptime()]字符串转换为日期\" data-toc-modified-id=\"[datetime.strptime()]字符串转换为日期-15\"><span class=\"toc-item-num\">15&nbsp;&nbsp;</span>[datetime.strptime()]字符串转换为日期</a></span></li><li><span><a href=\"#结合时区的日期操作\" data-toc-modified-id=\"结合时区的日期操作-16\"><span class=\"toc-item-num\">16&nbsp;&nbsp;</span>结合时区的日期操作</a></span><ul class=\"toc-item\"><li><span><a href=\"#讨论\" data-toc-modified-id=\"讨论-16.1\"><span class=\"toc-item-num\">16.1&nbsp;&nbsp;</span>讨论</a></span></li></ul></li></ul></div>"
   ]
  },
  {
   "cell_type": "markdown",
   "metadata": {},
   "source": [
    "# [round()]数字的四舍五入"
   ]
  },
  {
   "cell_type": "markdown",
   "metadata": {},
   "source": [
    "`round(value, ndigits)`"
   ]
  },
  {
   "cell_type": "code",
   "execution_count": 1,
   "metadata": {
    "ExecuteTime": {
     "end_time": "2019-07-03T09:53:19.475269Z",
     "start_time": "2019-07-03T09:53:19.461632Z"
    }
   },
   "outputs": [
    {
     "data": {
      "text/plain": [
       "1.3"
      ]
     },
     "execution_count": 1,
     "metadata": {},
     "output_type": "execute_result"
    },
    {
     "data": {
      "text/plain": [
       "-1.3"
      ]
     },
     "execution_count": 1,
     "metadata": {},
     "output_type": "execute_result"
    },
    {
     "data": {
      "text/plain": [
       "1.254"
      ]
     },
     "execution_count": 1,
     "metadata": {},
     "output_type": "execute_result"
    }
   ],
   "source": [
    "\n",
    "# 小數\n",
    "round(1.27, 1)\n",
    "\n",
    "round(-1.27, 1)\n",
    "\n",
    "round(1.25361,3)\n",
    "\n",
    "# 大數取整\n",
    "a = 1627731\n",
    "\n",
    "round(a, -1)\n",
    "\n",
    "round(a, -3)"
   ]
  },
  {
   "cell_type": "markdown",
   "metadata": {},
   "source": [
    "## 讨论\n",
    "\n",
    "格式化只改變顯示，內容未變"
   ]
  },
  {
   "cell_type": "code",
   "execution_count": 2,
   "metadata": {
    "ExecuteTime": {
     "end_time": "2019-07-03T09:57:02.347141Z",
     "start_time": "2019-07-03T09:57:02.339345Z"
    }
   },
   "outputs": [
    {
     "data": {
      "text/plain": [
       "'1.23'"
      ]
     },
     "execution_count": 2,
     "metadata": {},
     "output_type": "execute_result"
    },
    {
     "data": {
      "text/plain": [
       "'1.235'"
      ]
     },
     "execution_count": 2,
     "metadata": {},
     "output_type": "execute_result"
    },
    {
     "data": {
      "text/plain": [
       "'value is 1.235'"
      ]
     },
     "execution_count": 2,
     "metadata": {},
     "output_type": "execute_result"
    }
   ],
   "source": [
    "x = 1.23456\n",
    "format(x, '0.2f') # '1.23'\n",
    "format(x, '0.3f') # '1.235'\n",
    "'value is {:0.3f}'.format(x) # 'value is 1.235'"
   ]
  },
  {
   "cell_type": "markdown",
   "metadata": {},
   "source": [
    "# [decimal.Decimal()]执行精确的浮点数运算"
   ]
  },
  {
   "cell_type": "markdown",
   "metadata": {},
   "source": [
    "**浮点数**的一个普遍问题是它们并不能精确的表示十进制数。 并且，即使是最简单的数学运算也会产生**小的误差**\n",
    "\n",
    "这些错误是由底层`CPU`和`IEEE 754`标准通过自己的浮点单位去执行算术时的特征。 由于`Python`的浮点数据类型使用底层表示存储数据，因此你没办法去避免这样的误差。"
   ]
  },
  {
   "cell_type": "code",
   "execution_count": 4,
   "metadata": {
    "ExecuteTime": {
     "end_time": "2019-07-03T11:11:17.484710Z",
     "start_time": "2019-07-03T11:11:17.477877Z"
    }
   },
   "outputs": [
    {
     "data": {
      "text/plain": [
       "6.300000000000001"
      ]
     },
     "execution_count": 4,
     "metadata": {},
     "output_type": "execute_result"
    },
    {
     "data": {
      "text/plain": [
       "False"
      ]
     },
     "execution_count": 4,
     "metadata": {},
     "output_type": "execute_result"
    }
   ],
   "source": [
    "a = 4.2\n",
    "b = 2.1\n",
    "a + b\n",
    "(a + b) == 6.3"
   ]
  },
  {
   "cell_type": "markdown",
   "metadata": {},
   "source": [
    "**更加精确(并能容忍一定的性能损耗)**"
   ]
  },
  {
   "cell_type": "code",
   "execution_count": 6,
   "metadata": {
    "ExecuteTime": {
     "end_time": "2019-07-03T11:13:44.348731Z",
     "start_time": "2019-07-03T11:13:44.341899Z"
    }
   },
   "outputs": [
    {
     "data": {
      "text/plain": [
       "Decimal('6.3')"
      ]
     },
     "execution_count": 6,
     "metadata": {},
     "output_type": "execute_result"
    },
    {
     "data": {
      "text/plain": [
       "True"
      ]
     },
     "execution_count": 6,
     "metadata": {},
     "output_type": "execute_result"
    }
   ],
   "source": [
    "from decimal import Decimal\n",
    "\n",
    "a = Decimal('4.2')\n",
    "b = Decimal('2.1')\n",
    "\n",
    "a + b\n",
    "\n",
    "(a + b) == Decimal('6.3')\n"
   ]
  },
  {
   "cell_type": "markdown",
   "metadata": {},
   "source": [
    "`decimal` 模块的一个主要特征是允许你控制计算的每一方面，包括数字位数和四舍五入运算。 为了这样做，你先得创建一个本地上下文并更改它的设置，比如："
   ]
  },
  {
   "cell_type": "code",
   "execution_count": 7,
   "metadata": {
    "ExecuteTime": {
     "end_time": "2019-07-04T10:10:36.139880Z",
     "start_time": "2019-07-04T10:10:36.110600Z"
    }
   },
   "outputs": [
    {
     "name": "stdout",
     "output_type": "stream",
     "text": [
      "0.7647058823529411764705882353\n",
      "0.765\n",
      "0.76470588235294117647058823529411764705882352941176\n"
     ]
    }
   ],
   "source": [
    "from decimal import localcontext\n",
    "\n",
    "a = Decimal('1.3')\n",
    "b = Decimal('1.7')\n",
    "print(a / b)\n",
    "\n",
    "with localcontext() as ctx:\n",
    "    ctx.prec = 3\n",
    "    print(a / b)\n",
    "    \n",
    "with localcontext() as ctx:\n",
    "    ctx.prec = 50\n",
    "    print(a / b)"
   ]
  },
  {
   "cell_type": "markdown",
   "metadata": {},
   "source": [
    "## 讨论"
   ]
  },
  {
   "cell_type": "markdown",
   "metadata": {},
   "source": [
    "即便如此，你却不能完全忽略误差\n",
    "\n",
    "你也得注意下减法删除以及大数和小数的加分运算所带来的影响。"
   ]
  },
  {
   "cell_type": "code",
   "execution_count": 8,
   "metadata": {
    "ExecuteTime": {
     "end_time": "2019-07-04T10:12:08.719233Z",
     "start_time": "2019-07-04T10:12:08.712401Z"
    }
   },
   "outputs": [
    {
     "data": {
      "text/plain": [
       "0.0"
      ]
     },
     "execution_count": 8,
     "metadata": {},
     "output_type": "execute_result"
    }
   ],
   "source": [
    "nums = [1.23e+18, 1, -1.23e+18]\n",
    "sum(nums) # Notice how 1 disappears"
   ]
  },
  {
   "cell_type": "markdown",
   "metadata": {},
   "source": [
    "上面的错误可以利用 `math.fsum()` 所提供的更精确计算能力来解决"
   ]
  },
  {
   "cell_type": "code",
   "execution_count": 9,
   "metadata": {
    "ExecuteTime": {
     "end_time": "2019-07-04T10:14:05.620035Z",
     "start_time": "2019-07-04T10:14:05.614175Z"
    }
   },
   "outputs": [
    {
     "data": {
      "text/plain": [
       "1.0"
      ]
     },
     "execution_count": 9,
     "metadata": {},
     "output_type": "execute_result"
    }
   ],
   "source": [
    "import math\n",
    "\n",
    "nums = [1.23e+18, 1, -1.23e+18]\n",
    "math.fsum(nums)"
   ]
  },
  {
   "cell_type": "markdown",
   "metadata": {},
   "source": [
    "# [format() {0.2f >10.1f ,e}]数字的格式化输出"
   ]
  },
  {
   "cell_type": "markdown",
   "metadata": {},
   "source": [
    "`format()` \n",
    "\n",
    "\n",
    "* `0.2f` \n",
    "* `>10.1f` \n",
    "* `,` \n",
    "* `e`"
   ]
  },
  {
   "cell_type": "code",
   "execution_count": 20,
   "metadata": {
    "ExecuteTime": {
     "end_time": "2019-07-04T10:38:45.405046Z",
     "start_time": "2019-07-04T10:38:45.383575Z"
    }
   },
   "outputs": [
    {
     "data": {
      "text/plain": [
       "'1234.57'"
      ]
     },
     "execution_count": 20,
     "metadata": {},
     "output_type": "execute_result"
    },
    {
     "data": {
      "text/plain": [
       "'    1234.6'"
      ]
     },
     "execution_count": 20,
     "metadata": {},
     "output_type": "execute_result"
    },
    {
     "data": {
      "text/plain": [
       "'1234.6    '"
      ]
     },
     "execution_count": 20,
     "metadata": {},
     "output_type": "execute_result"
    },
    {
     "data": {
      "text/plain": [
       "'  1234.6  '"
      ]
     },
     "execution_count": 20,
     "metadata": {},
     "output_type": "execute_result"
    },
    {
     "data": {
      "text/plain": [
       "'1,234.56789'"
      ]
     },
     "execution_count": 20,
     "metadata": {},
     "output_type": "execute_result"
    },
    {
     "data": {
      "text/plain": [
       "'1,234.6'"
      ]
     },
     "execution_count": 20,
     "metadata": {},
     "output_type": "execute_result"
    },
    {
     "data": {
      "text/plain": [
       "'1.234568e+03'"
      ]
     },
     "execution_count": 20,
     "metadata": {},
     "output_type": "execute_result"
    },
    {
     "data": {
      "text/plain": [
       "'1.23E+03'"
      ]
     },
     "execution_count": 20,
     "metadata": {},
     "output_type": "execute_result"
    },
    {
     "data": {
      "text/plain": [
       "'1234.57'"
      ]
     },
     "execution_count": 20,
     "metadata": {},
     "output_type": "execute_result"
    },
    {
     "data": {
      "text/plain": [
       "'    1234.6'"
      ]
     },
     "execution_count": 20,
     "metadata": {},
     "output_type": "execute_result"
    },
    {
     "data": {
      "text/plain": [
       "'1234.6    '"
      ]
     },
     "execution_count": 20,
     "metadata": {},
     "output_type": "execute_result"
    }
   ],
   "source": [
    "x = 1234.56789\n",
    "\n",
    "# Two decimal places of accuracy\n",
    "format(x, '0.2f') # '1234.57'\n",
    "\n",
    "# Right justified in 10 chars, one-digit accuracy\n",
    "format(x, '>10.1f') # '    1234.6'\n",
    "\n",
    "# Left justified\n",
    "format(x, '<10.1f') # '1234.6    '\n",
    "\n",
    "# Centered\n",
    "format(x, '^10.1f') # '  1234.6  '\n",
    "\n",
    "# Inclusion of thousands separator\n",
    "format(x, ',') # '1,234.56789'\n",
    "format(x, '0,.1f') # '1,234.6'\n",
    "\n",
    "\n",
    "format(x, 'e') # '1.234568e+03'\n",
    "format(x, '0.2E') # '1.23E+03'\n",
    "\n",
    "'%0.2f' % x # '1234.57'\n",
    "'%10.1f' % x # '    1234.6'\n",
    "'%-10.1f' % x # '1234.6    '"
   ]
  },
  {
   "cell_type": "markdown",
   "metadata": {},
   "source": [
    "同时指定宽度和精度的一般形式是 `'[<>^]?width[,]?(.digits)?'` ， 其中 `width` 和 `digits` 为整数，`？`代表可选部分。 同样的格式也被用在字符串的 `format()` 方法中"
   ]
  },
  {
   "cell_type": "code",
   "execution_count": 15,
   "metadata": {
    "ExecuteTime": {
     "end_time": "2019-07-04T10:34:30.042832Z",
     "start_time": "2019-07-04T10:34:30.038901Z"
    }
   },
   "outputs": [
    {
     "data": {
      "text/plain": [
       "'The value is   1,234.57'"
      ]
     },
     "execution_count": 15,
     "metadata": {},
     "output_type": "execute_result"
    }
   ],
   "source": [
    "'The value is {:>10,.2f}'.format(x)"
   ]
  },
  {
   "cell_type": "markdown",
   "metadata": {},
   "source": [
    "包含**千位符**的格式化跟本地化没有关系。 如果你需要根据地区来显示千位符，你需要自己去调查下 `locale` 模块中的函数了。 你同样也可以使用字符串的 `translate()` 方法来交换千位符。"
   ]
  },
  {
   "cell_type": "code",
   "execution_count": 19,
   "metadata": {
    "ExecuteTime": {
     "end_time": "2019-07-04T10:38:08.123121Z",
     "start_time": "2019-07-04T10:38:08.118245Z"
    }
   },
   "outputs": [
    {
     "data": {
      "text/plain": [
       "'1.234,56789'"
      ]
     },
     "execution_count": 19,
     "metadata": {},
     "output_type": "execute_result"
    }
   ],
   "source": [
    "swap_separators = { ord('.'):',', ord(','):'.' }\n",
    "format(x, ',').translate(swap_separators)"
   ]
  },
  {
   "cell_type": "markdown",
   "metadata": {},
   "source": [
    "# 二八十六进制整数"
   ]
  },
  {
   "cell_type": "markdown",
   "metadata": {},
   "source": [
    "为了将整数转换为二进制、八进制或十六进制的文本串， 可以分别使用 `bin()` , `oct()` 或 `hex()`"
   ]
  },
  {
   "cell_type": "code",
   "execution_count": 21,
   "metadata": {
    "ExecuteTime": {
     "end_time": "2019-07-04T10:41:04.686427Z",
     "start_time": "2019-07-04T10:41:04.678619Z"
    }
   },
   "outputs": [
    {
     "data": {
      "text/plain": [
       "'0b10011010010'"
      ]
     },
     "execution_count": 21,
     "metadata": {},
     "output_type": "execute_result"
    },
    {
     "data": {
      "text/plain": [
       "'0o2322'"
      ]
     },
     "execution_count": 21,
     "metadata": {},
     "output_type": "execute_result"
    },
    {
     "data": {
      "text/plain": [
       "'0x4d2'"
      ]
     },
     "execution_count": 21,
     "metadata": {},
     "output_type": "execute_result"
    }
   ],
   "source": [
    "x = 1234\n",
    "bin(x) # '0b10011010010'\n",
    "oct(x) # '0o2322'\n",
    "hex(x) # '0x4d2'"
   ]
  },
  {
   "cell_type": "markdown",
   "metadata": {},
   "source": [
    "如果你不想输出 `0b` , `0o` 或者 `0x` 的前缀的话，可以使用 `format()` 函数。"
   ]
  },
  {
   "cell_type": "code",
   "execution_count": 22,
   "metadata": {
    "ExecuteTime": {
     "end_time": "2019-07-04T10:42:16.175543Z",
     "start_time": "2019-07-04T10:42:16.169655Z"
    }
   },
   "outputs": [
    {
     "data": {
      "text/plain": [
       "'10011010010'"
      ]
     },
     "execution_count": 22,
     "metadata": {},
     "output_type": "execute_result"
    },
    {
     "data": {
      "text/plain": [
       "'2322'"
      ]
     },
     "execution_count": 22,
     "metadata": {},
     "output_type": "execute_result"
    },
    {
     "data": {
      "text/plain": [
       "'4d2'"
      ]
     },
     "execution_count": 22,
     "metadata": {},
     "output_type": "execute_result"
    }
   ],
   "source": [
    "x = 1234\n",
    "\n",
    "format(x, 'b') # '10011010010'\n",
    "format(x, 'o') # '2322'\n",
    "format(x, 'x') # '4d2'\n",
    "\n",
    "# 轉換進制\n",
    "int('4d2', 16) # 1234\n",
    "int('10011010010', 2) # 1234\n"
   ]
  },
  {
   "cell_type": "markdown",
   "metadata": {},
   "source": [
    "需确保八进制数的前缀是 `0o`"
   ]
  },
  {
   "cell_type": "markdown",
   "metadata": {},
   "source": [
    "# [int.to_bytes int.from_bytes]字节到大整数的打包与解包"
   ]
  },
  {
   "cell_type": "markdown",
   "metadata": {},
   "source": [
    "假设你的程序需要处理一个拥有128位长的16个元素的字节字符串"
   ]
  },
  {
   "cell_type": "code",
   "execution_count": 23,
   "metadata": {
    "ExecuteTime": {
     "end_time": "2019-07-04T11:55:16.237966Z",
     "start_time": "2019-07-04T11:55:16.212596Z"
    }
   },
   "outputs": [
    {
     "data": {
      "text/plain": [
       "16"
      ]
     },
     "execution_count": 23,
     "metadata": {},
     "output_type": "execute_result"
    },
    {
     "data": {
      "text/plain": [
       "69120565665751139577663547927094891008"
      ]
     },
     "execution_count": 23,
     "metadata": {},
     "output_type": "execute_result"
    },
    {
     "data": {
      "text/plain": [
       "94522842520747284487117727783387188"
      ]
     },
     "execution_count": 23,
     "metadata": {},
     "output_type": "execute_result"
    },
    {
     "data": {
      "text/plain": [
       "b'\\x00\\x124V\\x00x\\x90\\xab\\x00\\xcd\\xef\\x01\\x00#\\x004'"
      ]
     },
     "execution_count": 23,
     "metadata": {},
     "output_type": "execute_result"
    },
    {
     "data": {
      "text/plain": [
       "b'4\\x00#\\x00\\x01\\xef\\xcd\\x00\\xab\\x90x\\x00V4\\x12\\x00'"
      ]
     },
     "execution_count": 23,
     "metadata": {},
     "output_type": "execute_result"
    }
   ],
   "source": [
    "data = b'\\x00\\x124V\\x00x\\x90\\xab\\x00\\xcd\\xef\\x01\\x00#\\x004'\n",
    "\n",
    "len(data) # 16\n",
    "\n",
    "int.from_bytes(data, 'little')\n",
    "\n",
    "int.from_bytes(data, 'big')\n",
    "\n",
    "x = 94522842520747284487117727783387188\n",
    "x.to_bytes(16, 'big')# b'\\x00\\x124V\\x00x\\x90\\xab\\x00\\xcd\\xef\\x01\\x00#\\x004'\n",
    "x.to_bytes(16, 'little')# b'4\\x00#\\x00\\x01\\xef\\xcd\\x00\\xab\\x90x\\x00V4\\x12\\x00'\n",
    "\n"
   ]
  },
  {
   "cell_type": "markdown",
   "metadata": {},
   "source": [
    "**字节顺序规则('little'或'big')** 仅仅指定了构建整数时的字节的低位高位排列方式。"
   ]
  },
  {
   "cell_type": "code",
   "execution_count": 24,
   "metadata": {
    "ExecuteTime": {
     "end_time": "2019-07-04T11:57:00.727244Z",
     "start_time": "2019-07-04T11:57:00.720413Z"
    }
   },
   "outputs": [
    {
     "data": {
      "text/plain": [
       "b'\\x01\\x02\\x03\\x04'"
      ]
     },
     "execution_count": 24,
     "metadata": {},
     "output_type": "execute_result"
    },
    {
     "data": {
      "text/plain": [
       "b'\\x04\\x03\\x02\\x01'"
      ]
     },
     "execution_count": 24,
     "metadata": {},
     "output_type": "execute_result"
    }
   ],
   "source": [
    "x = 0x01020304\n",
    "x.to_bytes(4, 'big') # b'\\x01\\x02\\x03\\x04'\n",
    "x.to_bytes(4, 'little') # b'\\x04\\x03\\x02\\x01'"
   ]
  },
  {
   "cell_type": "markdown",
   "metadata": {},
   "source": [
    "**超大數** \n",
    "\n",
    "可以使用 `int.bit_length()` 方法来决定需要多少字节位来存储这个值。"
   ]
  },
  {
   "cell_type": "code",
   "execution_count": 25,
   "metadata": {
    "ExecuteTime": {
     "end_time": "2019-07-04T11:59:10.970128Z",
     "start_time": "2019-07-04T11:59:10.965247Z"
    }
   },
   "outputs": [
    {
     "data": {
      "text/plain": [
       "335381300113661875107536852714019056160355655333978849017944067"
      ]
     },
     "execution_count": 25,
     "metadata": {},
     "output_type": "execute_result"
    }
   ],
   "source": [
    "x = 523 ** 23\n",
    "x"
   ]
  },
  {
   "cell_type": "code",
   "execution_count": 26,
   "metadata": {
    "ExecuteTime": {
     "end_time": "2019-07-04T11:59:25.270724Z",
     "start_time": "2019-07-04T11:59:25.239445Z"
    }
   },
   "outputs": [
    {
     "ename": "OverflowError",
     "evalue": "int too big to convert",
     "output_type": "error",
     "traceback": [
      "\u001b[1;31m---------------------------------------------------------------------------\u001b[0m",
      "\u001b[1;31mOverflowError\u001b[0m                             Traceback (most recent call last)",
      "\u001b[1;32m<ipython-input-26-5a984985ab32>\u001b[0m in \u001b[0;36m<module>\u001b[1;34m()\u001b[0m\n\u001b[1;32m----> 1\u001b[1;33m \u001b[0mx\u001b[0m\u001b[1;33m.\u001b[0m\u001b[0mto_bytes\u001b[0m\u001b[1;33m(\u001b[0m\u001b[1;36m16\u001b[0m\u001b[1;33m,\u001b[0m \u001b[1;34m'little'\u001b[0m\u001b[1;33m)\u001b[0m\u001b[1;33m\u001b[0m\u001b[0m\n\u001b[0m",
      "\u001b[1;31mOverflowError\u001b[0m: int too big to convert"
     ]
    }
   ],
   "source": [
    "x.to_bytes(16, 'little')"
   ]
  },
  {
   "cell_type": "code",
   "execution_count": 27,
   "metadata": {
    "ExecuteTime": {
     "end_time": "2019-07-04T12:00:17.644407Z",
     "start_time": "2019-07-04T12:00:17.636632Z"
    }
   },
   "outputs": [
    {
     "data": {
      "text/plain": [
       "208"
      ]
     },
     "execution_count": 27,
     "metadata": {},
     "output_type": "execute_result"
    },
    {
     "data": {
      "text/plain": [
       "b'\\x03X\\xf1\\x82iT\\x96\\xac\\xc7c\\x16\\xf3\\xb9\\xcf\\x18\\xee\\xec\\x91\\xd1\\x98\\xa2\\xc8\\xd9R\\xb5\\xd0'"
      ]
     },
     "execution_count": 27,
     "metadata": {},
     "output_type": "execute_result"
    }
   ],
   "source": [
    "x.bit_length() # 208\n",
    "\n",
    "nbytes, rem = divmod(x.bit_length(), 8)\n",
    "\n",
    "if rem:\n",
    "    nbytes += 1\n",
    "    \n",
    "x.to_bytes(nbytes, 'little')"
   ]
  },
  {
   "cell_type": "markdown",
   "metadata": {},
   "source": [
    "# [cmath numpy]复数的数学运算"
   ]
  },
  {
   "cell_type": "code",
   "execution_count": 29,
   "metadata": {
    "ExecuteTime": {
     "end_time": "2019-07-04T12:05:01.274949Z",
     "start_time": "2019-07-04T12:05:01.264213Z"
    }
   },
   "outputs": [
    {
     "data": {
      "text/plain": [
       "(2+4j)"
      ]
     },
     "execution_count": 29,
     "metadata": {},
     "output_type": "execute_result"
    },
    {
     "data": {
      "text/plain": [
       "(3-5j)"
      ]
     },
     "execution_count": 29,
     "metadata": {},
     "output_type": "execute_result"
    },
    {
     "data": {
      "text/plain": [
       "2.0"
      ]
     },
     "execution_count": 29,
     "metadata": {},
     "output_type": "execute_result"
    },
    {
     "data": {
      "text/plain": [
       "4.0"
      ]
     },
     "execution_count": 29,
     "metadata": {},
     "output_type": "execute_result"
    },
    {
     "data": {
      "text/plain": [
       "(2-4j)"
      ]
     },
     "execution_count": 29,
     "metadata": {},
     "output_type": "execute_result"
    }
   ],
   "source": [
    "# 建構復數\n",
    "a = complex(2, 4)\n",
    "# 以j表示復數\n",
    "b = 3 - 5j\n",
    "a\n",
    "b\n",
    "\n",
    "# 实部、虚部和共轭复数\n",
    "a.real # 2.0\n",
    "a.imag # 4.0\n",
    "a.conjugate() # (2-4j)"
   ]
  },
  {
   "cell_type": "code",
   "execution_count": 30,
   "metadata": {
    "ExecuteTime": {
     "end_time": "2019-07-04T12:30:54.354847Z",
     "start_time": "2019-07-04T12:30:52.690773Z"
    }
   },
   "outputs": [
    {
     "data": {
      "text/plain": [
       "(24.83130584894638-11.356612711218174j)"
      ]
     },
     "execution_count": 30,
     "metadata": {},
     "output_type": "execute_result"
    },
    {
     "data": {
      "text/plain": [
       "(-11.36423470640106-24.814651485634187j)"
      ]
     },
     "execution_count": 30,
     "metadata": {},
     "output_type": "execute_result"
    },
    {
     "data": {
      "text/plain": [
       "(-4.829809383269385-5.5920560936409816j)"
      ]
     },
     "execution_count": 30,
     "metadata": {},
     "output_type": "execute_result"
    }
   ],
   "source": [
    "import cmath\n",
    "\n",
    "cmath.sin(a)\n",
    "cmath.cos(a)\n",
    "cmath.exp(a)"
   ]
  },
  {
   "cell_type": "code",
   "execution_count": 31,
   "metadata": {
    "ExecuteTime": {
     "end_time": "2019-07-04T12:31:34.863688Z",
     "start_time": "2019-07-04T12:31:34.653086Z"
    }
   },
   "outputs": [
    {
     "data": {
      "text/plain": [
       "array([   9.15449915  -4.16890696j,  -56.16227422 -48.50245524j,\n",
       "       -153.20827755-526.47684926j, 4008.42651446-589.49948373j])"
      ]
     },
     "execution_count": 31,
     "metadata": {},
     "output_type": "execute_result"
    }
   ],
   "source": [
    "import numpy as np\n",
    "\n",
    "a = np.array([2+3j, 4+5j, 6-7j, 8+9j])\n",
    "\n",
    "np.sin(a)"
   ]
  },
  {
   "cell_type": "markdown",
   "metadata": {},
   "source": [
    "# [math.isinf() float('inf')]无穷大与NaN"
   ]
  },
  {
   "cell_type": "code",
   "execution_count": 32,
   "metadata": {
    "ExecuteTime": {
     "end_time": "2019-07-04T12:32:59.331064Z",
     "start_time": "2019-07-04T12:32:59.323289Z"
    }
   },
   "outputs": [
    {
     "data": {
      "text/plain": [
       "inf"
      ]
     },
     "execution_count": 32,
     "metadata": {},
     "output_type": "execute_result"
    },
    {
     "data": {
      "text/plain": [
       "-inf"
      ]
     },
     "execution_count": 32,
     "metadata": {},
     "output_type": "execute_result"
    },
    {
     "data": {
      "text/plain": [
       "nan"
      ]
     },
     "execution_count": 32,
     "metadata": {},
     "output_type": "execute_result"
    }
   ],
   "source": [
    "a = float('inf')\n",
    "b = float('-inf')\n",
    "c = float('nan')\n",
    "\n",
    "a\n",
    "b\n",
    "c"
   ]
  },
  {
   "cell_type": "code",
   "execution_count": 33,
   "metadata": {
    "ExecuteTime": {
     "end_time": "2019-07-04T12:33:59.674598Z",
     "start_time": "2019-07-04T12:33:59.668705Z"
    }
   },
   "outputs": [
    {
     "data": {
      "text/plain": [
       "True"
      ]
     },
     "execution_count": 33,
     "metadata": {},
     "output_type": "execute_result"
    },
    {
     "data": {
      "text/plain": [
       "True"
      ]
     },
     "execution_count": 33,
     "metadata": {},
     "output_type": "execute_result"
    }
   ],
   "source": [
    "math.isinf(a) # True\n",
    "math.isnan(c) # True"
   ]
  },
  {
   "cell_type": "markdown",
   "metadata": {},
   "source": [
    "## 讨论"
   ]
  },
  {
   "cell_type": "markdown",
   "metadata": {},
   "source": [
    "想了解更多这些特殊浮点值的信息，可以参考**IEEE 754规范**。 然而，也有一些地方需要你特别注意，特别是跟比较和操作符相关的时候"
   ]
  },
  {
   "cell_type": "code",
   "execution_count": 36,
   "metadata": {
    "ExecuteTime": {
     "end_time": "2019-07-04T12:37:39.602435Z",
     "start_time": "2019-07-04T12:37:39.579011Z"
    }
   },
   "outputs": [
    {
     "data": {
      "text/plain": [
       "inf"
      ]
     },
     "execution_count": 36,
     "metadata": {},
     "output_type": "execute_result"
    },
    {
     "data": {
      "text/plain": [
       "inf"
      ]
     },
     "execution_count": 36,
     "metadata": {},
     "output_type": "execute_result"
    },
    {
     "data": {
      "text/plain": [
       "0.0"
      ]
     },
     "execution_count": 36,
     "metadata": {},
     "output_type": "execute_result"
    },
    {
     "data": {
      "text/plain": [
       "nan"
      ]
     },
     "execution_count": 36,
     "metadata": {},
     "output_type": "execute_result"
    },
    {
     "data": {
      "text/plain": [
       "nan"
      ]
     },
     "execution_count": 36,
     "metadata": {},
     "output_type": "execute_result"
    },
    {
     "data": {
      "text/plain": [
       "nan"
      ]
     },
     "execution_count": 36,
     "metadata": {},
     "output_type": "execute_result"
    },
    {
     "data": {
      "text/plain": [
       "nan"
      ]
     },
     "execution_count": 36,
     "metadata": {},
     "output_type": "execute_result"
    },
    {
     "data": {
      "text/plain": [
       "nan"
      ]
     },
     "execution_count": 36,
     "metadata": {},
     "output_type": "execute_result"
    },
    {
     "data": {
      "text/plain": [
       "False"
      ]
     },
     "execution_count": 36,
     "metadata": {},
     "output_type": "execute_result"
    },
    {
     "data": {
      "text/plain": [
       "False"
      ]
     },
     "execution_count": 36,
     "metadata": {},
     "output_type": "execute_result"
    }
   ],
   "source": [
    "a = float('inf')\n",
    "\n",
    "a + 45 # inf\n",
    "a * 10 # inf\n",
    "10 / a # 0.0\n",
    "\n",
    "# 有些操作时未定义的并会返回一个NaN结果\n",
    "a = float('inf')\n",
    "a/a # nan\n",
    "\n",
    "b = float('-inf')\n",
    "a + b # nan\n",
    "\n",
    "# NaN值会在所有操作中传播，而不会产生异常\n",
    "c = float('nan')\n",
    "c + 23 # nan\n",
    "c / 2 # nan\n",
    "c * 2 # nan\n",
    "\n",
    "# NaN值的一个特别的地方时它们之间的比较操作总是返回False\n",
    "c = float('nan')\n",
    "d = float('nan')\n",
    "c == d # False\n",
    "c is d # False"
   ]
  },
  {
   "cell_type": "markdown",
   "metadata": {},
   "source": [
    "# [fractions.Fraction]分数运算"
   ]
  },
  {
   "cell_type": "code",
   "execution_count": 38,
   "metadata": {
    "ExecuteTime": {
     "end_time": "2019-07-04T12:46:49.441246Z",
     "start_time": "2019-07-04T12:46:48.804430Z"
    }
   },
   "outputs": [
    {
     "name": "stdout",
     "output_type": "stream",
     "text": [
      "27/16\n",
      "35/64\n"
     ]
    },
    {
     "data": {
      "text/plain": [
       "35"
      ]
     },
     "execution_count": 38,
     "metadata": {},
     "output_type": "execute_result"
    },
    {
     "data": {
      "text/plain": [
       "64"
      ]
     },
     "execution_count": 38,
     "metadata": {},
     "output_type": "execute_result"
    },
    {
     "data": {
      "text/plain": [
       "0.546875"
      ]
     },
     "execution_count": 38,
     "metadata": {},
     "output_type": "execute_result"
    },
    {
     "name": "stdout",
     "output_type": "stream",
     "text": [
      "4/7\n"
     ]
    },
    {
     "data": {
      "text/plain": [
       "Fraction(15, 4)"
      ]
     },
     "execution_count": 38,
     "metadata": {},
     "output_type": "execute_result"
    }
   ],
   "source": [
    "from fractions import Fraction\n",
    "\n",
    "a = Fraction(5, 4)\n",
    "b = Fraction(7, 16)\n",
    "print(a + b) # 27/16\n",
    "print(a * b) # 35/64\n",
    "\n",
    "# Getting numerator/denominator\n",
    "c = a * b\n",
    "c.numerator # 35\n",
    "c.denominator # 64\n",
    "\n",
    "# Converting to a float\n",
    "float(c) # 0.546875\n",
    "\n",
    "# Limiting the denominator of a value\n",
    "print(c.limit_denominator(8)) # 4/7\n",
    "\n",
    "# Converting a float to a fraction\n",
    "x = 3.75\n",
    "y = Fraction(*x.as_integer_ratio())\n",
    "y # Fraction(15, 4)"
   ]
  },
  {
   "cell_type": "markdown",
   "metadata": {},
   "source": [
    "# [numpy]大型数组运算"
   ]
  },
  {
   "cell_type": "markdown",
   "metadata": {},
   "source": [
    "**運算 廣播**"
   ]
  },
  {
   "cell_type": "code",
   "execution_count": 39,
   "metadata": {
    "ExecuteTime": {
     "end_time": "2019-07-04T12:49:26.229744Z",
     "start_time": "2019-07-04T12:49:25.737638Z"
    }
   },
   "outputs": [
    {
     "data": {
      "text/plain": [
       "array([2, 4, 6, 8])"
      ]
     },
     "execution_count": 39,
     "metadata": {},
     "output_type": "execute_result"
    },
    {
     "data": {
      "text/plain": [
       "array([11, 12, 13, 14])"
      ]
     },
     "execution_count": 39,
     "metadata": {},
     "output_type": "execute_result"
    },
    {
     "data": {
      "text/plain": [
       "array([ 6,  8, 10, 12])"
      ]
     },
     "execution_count": 39,
     "metadata": {},
     "output_type": "execute_result"
    },
    {
     "data": {
      "text/plain": [
       "array([ 5, 12, 21, 32])"
      ]
     },
     "execution_count": 39,
     "metadata": {},
     "output_type": "execute_result"
    },
    {
     "data": {
      "text/plain": [
       "array([ 8, 15, 28, 47])"
      ]
     },
     "execution_count": 39,
     "metadata": {},
     "output_type": "execute_result"
    }
   ],
   "source": [
    "\n",
    "# Numpy arrays\n",
    "import numpy as np\n",
    "\n",
    "ax = np.array([1, 2, 3, 4])\n",
    "ay = np.array([5, 6, 7, 8])\n",
    "\n",
    "ax * 2 # array([2, 4, 6, 8])\n",
    "ax + 10 # array([11, 12, 13, 14])\n",
    "ax + ay # array([ 6, 8, 10, 12])\n",
    "ax * ay # array([ 5, 12, 21, 32])\n",
    "\n",
    "def f(x):\n",
    "    return 3*x**2 - 2*x + 7\n",
    "\n",
    "f(ax)"
   ]
  },
  {
   "cell_type": "markdown",
   "metadata": {},
   "source": [
    "**切片 索引**"
   ]
  },
  {
   "cell_type": "code",
   "execution_count": 44,
   "metadata": {
    "ExecuteTime": {
     "end_time": "2019-07-05T14:07:32.253974Z",
     "start_time": "2019-07-05T14:07:32.223718Z"
    }
   },
   "outputs": [
    {
     "data": {
      "text/plain": [
       "array([[0., 0., 0., ..., 0., 0., 0.],\n",
       "       [0., 0., 0., ..., 0., 0., 0.],\n",
       "       [0., 0., 0., ..., 0., 0., 0.],\n",
       "       ...,\n",
       "       [0., 0., 0., ..., 0., 0., 0.],\n",
       "       [0., 0., 0., ..., 0., 0., 0.],\n",
       "       [0., 0., 0., ..., 0., 0., 0.]])"
      ]
     },
     "execution_count": 44,
     "metadata": {},
     "output_type": "execute_result"
    },
    {
     "data": {
      "text/plain": [
       "array([5, 6, 7, 8])"
      ]
     },
     "execution_count": 44,
     "metadata": {},
     "output_type": "execute_result"
    },
    {
     "data": {
      "text/plain": [
       "array([ 2,  6, 10])"
      ]
     },
     "execution_count": 44,
     "metadata": {},
     "output_type": "execute_result"
    },
    {
     "data": {
      "text/plain": [
       "array([[ 6,  7],\n",
       "       [10, 11]])"
      ]
     },
     "execution_count": 44,
     "metadata": {},
     "output_type": "execute_result"
    },
    {
     "data": {
      "text/plain": [
       "array([[ 1,  2,  3,  4],\n",
       "       [ 5, 16, 17,  8],\n",
       "       [ 9, 20, 21, 12]])"
      ]
     },
     "execution_count": 44,
     "metadata": {},
     "output_type": "execute_result"
    },
    {
     "data": {
      "text/plain": [
       "array([[ 1,  2,  3,  4],\n",
       "       [ 5, 10, 10,  8],\n",
       "       [ 9, 10, 10, 10]])"
      ]
     },
     "execution_count": 44,
     "metadata": {},
     "output_type": "execute_result"
    }
   ],
   "source": [
    "grid = np.zeros(shape=(10000,10000), dtype=float)\n",
    "grid\n",
    "\n",
    "a = np.array([[1, 2, 3, 4], [5, 6, 7, 8], [9, 10, 11, 12]])\n",
    "a[1]\n",
    "a[:,1]\n",
    "a[1:3, 1:3]\n",
    "a[1:3, 1:3] += 10\n",
    "a\n",
    "np.where(a < 10, a, 10)"
   ]
  },
  {
   "cell_type": "markdown",
   "metadata": {},
   "source": [
    "# [np.matrix numpy.linalg]矩阵与线性代数运算"
   ]
  },
  {
   "cell_type": "code",
   "execution_count": 45,
   "metadata": {
    "ExecuteTime": {
     "end_time": "2019-07-05T14:10:09.854614Z",
     "start_time": "2019-07-05T14:10:08.337312Z"
    }
   },
   "outputs": [
    {
     "data": {
      "text/plain": [
       "matrix([[ 1, -2,  3],\n",
       "        [ 0,  4,  5],\n",
       "        [ 7,  8, -9]])"
      ]
     },
     "execution_count": 45,
     "metadata": {},
     "output_type": "execute_result"
    },
    {
     "data": {
      "text/plain": [
       "matrix([[ 1,  0,  7],\n",
       "        [-2,  4,  8],\n",
       "        [ 3,  5, -9]])"
      ]
     },
     "execution_count": 45,
     "metadata": {},
     "output_type": "execute_result"
    },
    {
     "data": {
      "text/plain": [
       "matrix([[ 0.33043478, -0.02608696,  0.09565217],\n",
       "        [-0.15217391,  0.13043478,  0.02173913],\n",
       "        [ 0.12173913,  0.09565217, -0.0173913 ]])"
      ]
     },
     "execution_count": 45,
     "metadata": {},
     "output_type": "execute_result"
    },
    {
     "data": {
      "text/plain": [
       "matrix([[2],\n",
       "        [3],\n",
       "        [4]])"
      ]
     },
     "execution_count": 45,
     "metadata": {},
     "output_type": "execute_result"
    },
    {
     "data": {
      "text/plain": [
       "matrix([[ 8],\n",
       "        [32],\n",
       "        [ 2]])"
      ]
     },
     "execution_count": 45,
     "metadata": {},
     "output_type": "execute_result"
    }
   ],
   "source": [
    "import numpy as np\n",
    "m = np.matrix([[1,-2,3],[0,4,5],[7,8,-9]])\n",
    "m\n",
    "\n",
    "# Return transpose\n",
    "m.T\n",
    "\n",
    "# Return inverse\n",
    "m.I\n",
    "\n",
    "# Create a vector and multiply\n",
    "v = np.matrix([[2],[3],[4]])\n",
    "v\n",
    "\n",
    "m * v"
   ]
  },
  {
   "cell_type": "code",
   "execution_count": 48,
   "metadata": {
    "ExecuteTime": {
     "end_time": "2019-07-05T14:11:47.862634Z",
     "start_time": "2019-07-05T14:11:47.849947Z"
    }
   },
   "outputs": [
    {
     "data": {
      "text/plain": [
       "-229.99999999999983"
      ]
     },
     "execution_count": 48,
     "metadata": {},
     "output_type": "execute_result"
    },
    {
     "data": {
      "text/plain": [
       "array([-13.11474312,   2.75956154,   6.35518158])"
      ]
     },
     "execution_count": 48,
     "metadata": {},
     "output_type": "execute_result"
    },
    {
     "data": {
      "text/plain": [
       "matrix([[0.96521739],\n",
       "        [0.17391304],\n",
       "        [0.46086957]])"
      ]
     },
     "execution_count": 48,
     "metadata": {},
     "output_type": "execute_result"
    },
    {
     "data": {
      "text/plain": [
       "matrix([[2.],\n",
       "        [3.],\n",
       "        [4.]])"
      ]
     },
     "execution_count": 48,
     "metadata": {},
     "output_type": "execute_result"
    },
    {
     "data": {
      "text/plain": [
       "matrix([[2],\n",
       "        [3],\n",
       "        [4]])"
      ]
     },
     "execution_count": 48,
     "metadata": {},
     "output_type": "execute_result"
    }
   ],
   "source": [
    "import numpy.linalg\n",
    "\n",
    "# Determinant\n",
    "numpy.linalg.det(m)\n",
    "\n",
    "# Eigenvalues\n",
    "numpy.linalg.eigvals(m)\n",
    "\n",
    "# Solve for x in mx = v\n",
    "x = numpy.linalg.solve(m, v)\n",
    "x\n",
    "\n",
    "m * x\n",
    "v"
   ]
  },
  {
   "cell_type": "markdown",
   "metadata": {},
   "source": [
    "# [random]随机选择"
   ]
  },
  {
   "cell_type": "markdown",
   "metadata": {},
   "source": [
    "**隨機抽取**"
   ]
  },
  {
   "cell_type": "code",
   "execution_count": 52,
   "metadata": {
    "ExecuteTime": {
     "end_time": "2019-07-05T14:16:01.821407Z",
     "start_time": "2019-07-05T14:16:01.812627Z"
    }
   },
   "outputs": [
    {
     "data": {
      "text/plain": [
       "2"
      ]
     },
     "execution_count": 52,
     "metadata": {},
     "output_type": "execute_result"
    },
    {
     "data": {
      "text/plain": [
       "1"
      ]
     },
     "execution_count": 52,
     "metadata": {},
     "output_type": "execute_result"
    },
    {
     "data": {
      "text/plain": [
       "[4, 5]"
      ]
     },
     "execution_count": 52,
     "metadata": {},
     "output_type": "execute_result"
    },
    {
     "data": {
      "text/plain": [
       "[2, 3, 5]"
      ]
     },
     "execution_count": 52,
     "metadata": {},
     "output_type": "execute_result"
    }
   ],
   "source": [
    "import random\n",
    "values = [1, 2, 3, 4, 5, 6]\n",
    "random.choice(values)\n",
    "random.choice(values)\n",
    "\n",
    "random.sample(values, 2)\n",
    "random.sample(values, 3)"
   ]
  },
  {
   "cell_type": "markdown",
   "metadata": {},
   "source": [
    "**隨機亂序**"
   ]
  },
  {
   "cell_type": "code",
   "execution_count": 53,
   "metadata": {
    "ExecuteTime": {
     "end_time": "2019-07-05T14:16:24.203308Z",
     "start_time": "2019-07-05T14:16:24.198429Z"
    }
   },
   "outputs": [
    {
     "data": {
      "text/plain": [
       "[5, 6, 2, 3, 4, 1]"
      ]
     },
     "execution_count": 53,
     "metadata": {},
     "output_type": "execute_result"
    }
   ],
   "source": [
    "random.shuffle(values)\n",
    "values"
   ]
  },
  {
   "cell_type": "code",
   "execution_count": 64,
   "metadata": {
    "ExecuteTime": {
     "end_time": "2019-07-05T14:20:24.964967Z",
     "start_time": "2019-07-05T14:20:24.958134Z"
    }
   },
   "outputs": [
    {
     "data": {
      "text/plain": [
       "8"
      ]
     },
     "execution_count": 64,
     "metadata": {},
     "output_type": "execute_result"
    }
   ],
   "source": [
    "# 隨機數生成 [0-10] 含 0，10\n",
    "random.randint(0,10)\n",
    "\n",
    "# 生成0到1范围内均匀分布的浮点数\n",
    "random.random()"
   ]
  },
  {
   "cell_type": "markdown",
   "metadata": {},
   "source": [
    "N位随机位(二进制 2^200)的整数，使用 `random.getrandbits()` ："
   ]
  },
  {
   "cell_type": "code",
   "execution_count": 84,
   "metadata": {
    "ExecuteTime": {
     "end_time": "2019-07-05T14:24:44.794898Z",
     "start_time": "2019-07-05T14:24:44.790993Z"
    }
   },
   "outputs": [
    {
     "data": {
      "text/plain": [
       "1.1165537091382448e+40"
      ]
     },
     "execution_count": 84,
     "metadata": {},
     "output_type": "execute_result"
    }
   ],
   "source": [
    "random.getrandbits(200) / 1.0e+20"
   ]
  },
  {
   "cell_type": "markdown",
   "metadata": {},
   "source": [
    "## [seed]讨论"
   ]
  },
  {
   "cell_type": "markdown",
   "metadata": {},
   "source": [
    "**隨機數種子**"
   ]
  },
  {
   "cell_type": "code",
   "execution_count": 85,
   "metadata": {
    "ExecuteTime": {
     "end_time": "2019-07-05T14:26:18.461403Z",
     "start_time": "2019-07-05T14:26:18.349156Z"
    }
   },
   "outputs": [],
   "source": [
    "random.seed() # Seed based on system time or os.urandom()\n",
    "random.seed(12345) # Seed based on integer given\n",
    "random.seed(b'bytedata') # Seed based on byte data"
   ]
  },
  {
   "cell_type": "markdown",
   "metadata": {},
   "source": [
    "在 `random` 模块中的函数不应该用在和密码学相关的程序中。 如果你确实需要类似的功能，可以使用`ssl`模块中相应的函数。 比如， `ssl.RAND_bytes()` 可以用来生成一个安全的随机字节序列。"
   ]
  },
  {
   "cell_type": "markdown",
   "metadata": {},
   "source": [
    "# [datetime]基本的日期与时间转换"
   ]
  },
  {
   "cell_type": "code",
   "execution_count": 86,
   "metadata": {
    "ExecuteTime": {
     "end_time": "2019-07-05T14:29:38.530185Z",
     "start_time": "2019-07-05T14:29:38.520425Z"
    }
   },
   "outputs": [
    {
     "data": {
      "text/plain": [
       "2"
      ]
     },
     "execution_count": 86,
     "metadata": {},
     "output_type": "execute_result"
    },
    {
     "data": {
      "text/plain": [
       "37800"
      ]
     },
     "execution_count": 86,
     "metadata": {},
     "output_type": "execute_result"
    },
    {
     "data": {
      "text/plain": [
       "10.5"
      ]
     },
     "execution_count": 86,
     "metadata": {},
     "output_type": "execute_result"
    },
    {
     "data": {
      "text/plain": [
       "58.5"
      ]
     },
     "execution_count": 86,
     "metadata": {},
     "output_type": "execute_result"
    }
   ],
   "source": [
    "from datetime import timedelta\n",
    "\n",
    "a = timedelta(days=2, hours=6)\n",
    "b = timedelta(hours=4.5)\n",
    "c = a + b\n",
    "c.days\n",
    "c.seconds\n",
    "c.seconds / 3600\n",
    "c.total_seconds() / 3600\n"
   ]
  },
  {
   "cell_type": "code",
   "execution_count": 92,
   "metadata": {
    "ExecuteTime": {
     "end_time": "2019-07-05T14:36:38.978571Z",
     "start_time": "2019-07-05T14:36:38.211327Z"
    }
   },
   "outputs": [
    {
     "name": "stdout",
     "output_type": "stream",
     "text": [
      "2012-10-03 00:00:00\n"
     ]
    },
    {
     "data": {
      "text/plain": [
       "89"
      ]
     },
     "execution_count": 92,
     "metadata": {},
     "output_type": "execute_result"
    },
    {
     "name": "stdout",
     "output_type": "stream",
     "text": [
      "2019-07-05 22:36:38.974639\n",
      "2019-07-05 22:46:38.974639\n"
     ]
    }
   ],
   "source": [
    "import datetime as dt\n",
    "\n",
    "a = dt.datetime(2012, 9, 23)\n",
    "print(a + timedelta(days=10))\n",
    "\n",
    "b = dt.datetime(2012, 12, 21)\n",
    "d = b - a\n",
    "d.days\n",
    "\n",
    "now = dt.datetime.today()\n",
    "print(now)\n",
    "print(now + timedelta(minutes=10))\n"
   ]
  },
  {
   "cell_type": "markdown",
   "metadata": {},
   "source": [
    "在计算的时候，需要注意的是 `datetime` 会自动处理**闰年**"
   ]
  },
  {
   "cell_type": "code",
   "execution_count": 94,
   "metadata": {
    "ExecuteTime": {
     "end_time": "2019-07-05T14:37:42.911843Z",
     "start_time": "2019-07-05T14:37:42.903059Z"
    }
   },
   "outputs": [
    {
     "data": {
      "text/plain": [
       "datetime.timedelta(2)"
      ]
     },
     "execution_count": 94,
     "metadata": {},
     "output_type": "execute_result"
    },
    {
     "data": {
      "text/plain": [
       "2"
      ]
     },
     "execution_count": 94,
     "metadata": {},
     "output_type": "execute_result"
    },
    {
     "data": {
      "text/plain": [
       "1"
      ]
     },
     "execution_count": 94,
     "metadata": {},
     "output_type": "execute_result"
    }
   ],
   "source": [
    "a = dt.datetime(2012, 3, 1)\n",
    "b = dt.datetime(2012, 2, 28)\n",
    "\n",
    "a - b\n",
    "\n",
    "(a - b).days\n",
    "\n",
    "c = dt.datetime(2013, 3, 1)\n",
    "d = dt.datetime(2013, 2, 28)\n",
    "(c - d).days\n"
   ]
  },
  {
   "cell_type": "markdown",
   "metadata": {},
   "source": [
    "## [dateutil.relativedelta]讨论"
   ]
  },
  {
   "cell_type": "markdown",
   "metadata": {},
   "source": [
    "执行更加复杂的日期操作，比如处理时区，模糊时间范围，节假日计算等等， 可以考虑使用 `dateutil`模块\n",
    "\n",
    "许多类似的时间计算可以使用 `dateutil.relativedelta()` 函数代替。 但是，有一点需要注意的就是，它会在处理月份(还有它们的天数差距)的时候填充间隙。"
   ]
  },
  {
   "cell_type": "code",
   "execution_count": 96,
   "metadata": {
    "ExecuteTime": {
     "end_time": "2019-07-05T14:53:32.530995Z",
     "start_time": "2019-07-05T14:53:32.517334Z"
    }
   },
   "outputs": [
    {
     "ename": "TypeError",
     "evalue": "'months' is an invalid keyword argument for this function",
     "output_type": "error",
     "traceback": [
      "\u001b[1;31m---------------------------------------------------------------------------\u001b[0m",
      "\u001b[1;31mTypeError\u001b[0m                                 Traceback (most recent call last)",
      "\u001b[1;32m<ipython-input-96-0501679b773d>\u001b[0m in \u001b[0;36m<module>\u001b[1;34m()\u001b[0m\n\u001b[0;32m      1\u001b[0m \u001b[0ma\u001b[0m \u001b[1;33m=\u001b[0m \u001b[0mdatetime\u001b[0m\u001b[1;33m(\u001b[0m\u001b[1;36m2012\u001b[0m\u001b[1;33m,\u001b[0m \u001b[1;36m9\u001b[0m\u001b[1;33m,\u001b[0m \u001b[1;36m23\u001b[0m\u001b[1;33m)\u001b[0m\u001b[1;33m\u001b[0m\u001b[0m\n\u001b[1;32m----> 2\u001b[1;33m \u001b[0ma\u001b[0m \u001b[1;33m+\u001b[0m \u001b[0mtimedelta\u001b[0m\u001b[1;33m(\u001b[0m\u001b[0mmonths\u001b[0m\u001b[1;33m=\u001b[0m\u001b[1;36m1\u001b[0m\u001b[1;33m)\u001b[0m\u001b[1;33m\u001b[0m\u001b[0m\n\u001b[0m",
      "\u001b[1;31mTypeError\u001b[0m: 'months' is an invalid keyword argument for this function"
     ]
    }
   ],
   "source": [
    "# 不支援月份\n",
    "a = datetime(2012, 9, 23)\n",
    "a + timedelta(months=1)"
   ]
  },
  {
   "cell_type": "code",
   "execution_count": 98,
   "metadata": {
    "ExecuteTime": {
     "end_time": "2019-07-05T14:56:36.473499Z",
     "start_time": "2019-07-05T14:56:36.455930Z"
    }
   },
   "outputs": [
    {
     "data": {
      "text/plain": [
       "datetime.datetime(2012, 4, 1, 0, 0)"
      ]
     },
     "execution_count": 98,
     "metadata": {},
     "output_type": "execute_result"
    },
    {
     "data": {
      "text/plain": [
       "datetime.datetime(2012, 7, 1, 0, 0)"
      ]
     },
     "execution_count": 98,
     "metadata": {},
     "output_type": "execute_result"
    },
    {
     "data": {
      "text/plain": [
       "datetime.timedelta(295)"
      ]
     },
     "execution_count": 98,
     "metadata": {},
     "output_type": "execute_result"
    },
    {
     "data": {
      "text/plain": [
       "relativedelta(months=+9, days=+20)"
      ]
     },
     "execution_count": 98,
     "metadata": {},
     "output_type": "execute_result"
    },
    {
     "data": {
      "text/plain": [
       "9"
      ]
     },
     "execution_count": 98,
     "metadata": {},
     "output_type": "execute_result"
    },
    {
     "data": {
      "text/plain": [
       "20"
      ]
     },
     "execution_count": 98,
     "metadata": {},
     "output_type": "execute_result"
    }
   ],
   "source": [
    "from dateutil.relativedelta import relativedelta\n",
    "\n",
    "a = dt.datetime(2012, 3, 1)\n",
    "\n",
    "a + relativedelta(months=+1)\n",
    "a + relativedelta(months=+4)\n",
    "\n",
    "# Time between two dates\n",
    "b = dt.datetime(2012, 12, 21)\n",
    "d = b - a\n",
    "d\n",
    "\n",
    "d = relativedelta(b, a)\n",
    "d\n",
    "\n",
    "d.months\n",
    "\n",
    "d.days"
   ]
  },
  {
   "cell_type": "markdown",
   "metadata": {},
   "source": [
    "# 计算最后一个周五的日期"
   ]
  },
  {
   "cell_type": "code",
   "execution_count": 104,
   "metadata": {
    "ExecuteTime": {
     "end_time": "2019-07-05T15:15:43.722971Z",
     "start_time": "2019-07-05T15:15:43.712234Z"
    }
   },
   "outputs": [
    {
     "data": {
      "text/plain": [
       "'\\nTopic: 最后的周五\\nDesc :\\n'"
      ]
     },
     "execution_count": 104,
     "metadata": {},
     "output_type": "execute_result"
    },
    {
     "data": {
      "text/plain": [
       "4"
      ]
     },
     "execution_count": 104,
     "metadata": {},
     "output_type": "execute_result"
    },
    {
     "data": {
      "text/plain": [
       "datetime.datetime(2012, 12, 16, 0, 0)"
      ]
     },
     "execution_count": 104,
     "metadata": {},
     "output_type": "execute_result"
    }
   ],
   "source": [
    "\"\"\"\n",
    "Topic: 最后的周五\n",
    "Desc :\n",
    "\"\"\"\n",
    "from datetime import datetime, timedelta\n",
    "\n",
    "weekdays = ['Monday', 'Tuesday', 'Wednesday', 'Thursday',\n",
    "            'Friday', 'Saturday', 'Sunday']\n",
    "\n",
    "\n",
    "def get_previous_byday(dayname, start_date=None):\n",
    "    \n",
    "    # 若沒初始日(start_date),則設為今天\n",
    "    if start_date is None:\n",
    "        start_date = datetime.today()\n",
    "        \n",
    "    # 初始日 星期幾 (0-6) -> (Mon ~ Sun)\n",
    "    day_num = start_date.weekday()\n",
    "    # 目標 星期幾 (0-6) -> (一 ~ 日)\n",
    "    day_num_target = weekdays.index(dayname)\n",
    "    \n",
    "    days_ago = (7 + day_num - day_num_target) % 7\n",
    "    \n",
    "    if days_ago == 0:\n",
    "        days_ago = 7\n",
    "        \n",
    "    target_date = start_date - timedelta(days=days_ago)\n",
    "    \n",
    "    return target_date\n",
    "\n",
    "\n",
    "datetime(2012, 12, 21).weekday()\n",
    "\n",
    "get_previous_byday(\n",
    "    'Sunday', datetime(2012, 12, 21)\n",
    ")\n"
   ]
  },
  {
   "cell_type": "markdown",
   "metadata": {},
   "source": [
    "## [dateutil]讨论"
   ]
  },
  {
   "cell_type": "markdown",
   "metadata": {},
   "source": [
    "如果你要像这样执行大量的日期计算的话，你最好安装第三方包 `dateuti` 来代替。 比如，下面是是使用 `dateutil` 模块中的 `relativedelta()` 函数执行同样的计算"
   ]
  },
  {
   "cell_type": "code",
   "execution_count": 107,
   "metadata": {
    "ExecuteTime": {
     "end_time": "2019-07-05T15:18:09.996839Z",
     "start_time": "2019-07-05T15:18:09.991923Z"
    }
   },
   "outputs": [
    {
     "name": "stdout",
     "output_type": "stream",
     "text": [
      "2019-07-05 23:18:09.993875\n",
      "2019-07-05 23:18:09.993875\n",
      "2019-07-05 23:18:09.993875\n"
     ]
    }
   ],
   "source": [
    "from datetime import datetime\n",
    "from dateutil.relativedelta import relativedelta\n",
    "from dateutil.rrule import FR\n",
    "\n",
    "d = datetime.now()\n",
    "print(d)\n",
    "\n",
    "# Next Friday\n",
    "print(d + relativedelta(weekday=FR))\n",
    "\n",
    "# Last Friday\n",
    "print(d + relativedelta(weekday=FR(-1)))"
   ]
  },
  {
   "cell_type": "markdown",
   "metadata": {},
   "source": [
    "# [calendar]计算当前月份的日期范围"
   ]
  },
  {
   "cell_type": "code",
   "execution_count": 109,
   "metadata": {
    "ExecuteTime": {
     "end_time": "2019-07-06T14:59:22.091970Z",
     "start_time": "2019-07-06T14:59:21.988519Z"
    }
   },
   "outputs": [],
   "source": [
    "from datetime import datetime, date, timedelta\n",
    "\n",
    "import calendar\n",
    "\n",
    "def get_month_range(start_date=None):\n",
    "    \n",
    "    if start_date is None:\n",
    "        # 當天(date.today()) 當月第一天().replace(day=1))\n",
    "        start_date = date.today().replace(day=1)\n",
    "    #  monthrange(year, month) 當前月份範圍 ; 返回 (0, 月(ex:31))\n",
    "    _, days_in_month = calendar.monthrange(start_date.year, start_date.month)\n",
    "    # 下月第一天 + 1 (ex: 1+31 )\n",
    "    end_date = start_date + timedelta(days=days_in_month)\n",
    "    \n",
    "    return (start_date, end_date)"
   ]
  },
  {
   "cell_type": "code",
   "execution_count": 110,
   "metadata": {
    "ExecuteTime": {
     "end_time": "2019-07-06T14:59:25.511324Z",
     "start_time": "2019-07-06T14:59:25.506444Z"
    }
   },
   "outputs": [
    {
     "name": "stdout",
     "output_type": "stream",
     "text": [
      "2019-07-01\n",
      "2019-07-02\n",
      "2019-07-03\n",
      "2019-07-04\n",
      "2019-07-05\n",
      "2019-07-06\n",
      "2019-07-07\n",
      "2019-07-08\n",
      "2019-07-09\n",
      "2019-07-10\n",
      "2019-07-11\n",
      "2019-07-12\n",
      "2019-07-13\n",
      "2019-07-14\n",
      "2019-07-15\n",
      "2019-07-16\n",
      "2019-07-17\n",
      "2019-07-18\n",
      "2019-07-19\n",
      "2019-07-20\n",
      "2019-07-21\n",
      "2019-07-22\n",
      "2019-07-23\n",
      "2019-07-24\n",
      "2019-07-25\n",
      "2019-07-26\n",
      "2019-07-27\n",
      "2019-07-28\n",
      "2019-07-29\n",
      "2019-07-30\n",
      "2019-07-31\n"
     ]
    }
   ],
   "source": [
    "a_day = timedelta(days=1)\n",
    "first_day, last_day = get_month_range()\n",
    "\n",
    "while first_day < last_day:\n",
    "    print(first_day)\n",
    "    first_day += a_day"
   ]
  },
  {
   "cell_type": "markdown",
   "metadata": {},
   "source": [
    "**生成器**"
   ]
  },
  {
   "cell_type": "code",
   "execution_count": 116,
   "metadata": {
    "ExecuteTime": {
     "end_time": "2019-07-06T15:10:14.691689Z",
     "start_time": "2019-07-06T15:10:14.659481Z"
    }
   },
   "outputs": [],
   "source": [
    "def date_range(start, stop, step):\n",
    "    while start < stop:\n",
    "        yield start\n",
    "        start += step"
   ]
  },
  {
   "cell_type": "code",
   "execution_count": 118,
   "metadata": {
    "ExecuteTime": {
     "end_time": "2019-07-06T15:10:48.579767Z",
     "start_time": "2019-07-06T15:10:48.575863Z"
    }
   },
   "outputs": [
    {
     "name": "stdout",
     "output_type": "stream",
     "text": [
      "2012-09-01 00:00:00\n",
      "2012-09-01 06:00:00\n",
      "2012-09-01 12:00:00\n",
      "2012-09-01 18:00:00\n"
     ]
    }
   ],
   "source": [
    "for d in date_range(\n",
    "    datetime(2012, 9, 1), datetime(2012,9,2),\n",
    "    timedelta(hours=6)\n",
    "):\n",
    "    print(d)"
   ]
  },
  {
   "cell_type": "markdown",
   "metadata": {},
   "source": [
    "# [datetime.strptime()]字符串转换为日期"
   ]
  },
  {
   "cell_type": "code",
   "execution_count": 120,
   "metadata": {
    "ExecuteTime": {
     "end_time": "2019-07-06T15:12:17.039051Z",
     "start_time": "2019-07-06T15:12:17.033194Z"
    }
   },
   "outputs": [
    {
     "data": {
      "text/plain": [
       "datetime.timedelta(11)"
      ]
     },
     "execution_count": 120,
     "metadata": {},
     "output_type": "execute_result"
    }
   ],
   "source": [
    "from datetime import datetime\n",
    "text = '2012-09-20'\n",
    "y = datetime.strptime(text, '%Y-%m-%d')\n",
    "z = datetime(2012, 10, 1)\n",
    "diff = z - y\n",
    "diff"
   ]
  },
  {
   "cell_type": "markdown",
   "metadata": {},
   "source": [
    "`strptime()` 的性能要比你想象中的差很多\n",
    "\n",
    "如果你已经知道所以日期格式是 `YYYY-MM-DD` ，你可以像下面这样实现一个解析函数："
   ]
  },
  {
   "cell_type": "code",
   "execution_count": 122,
   "metadata": {
    "ExecuteTime": {
     "end_time": "2019-07-06T15:15:10.438376Z",
     "start_time": "2019-07-06T15:15:10.430564Z"
    }
   },
   "outputs": [
    {
     "data": {
      "text/plain": [
       "datetime.datetime(2012, 9, 20, 0, 0)"
      ]
     },
     "execution_count": 122,
     "metadata": {},
     "output_type": "execute_result"
    }
   ],
   "source": [
    "from datetime import datetime\n",
    "\n",
    "text = '2012-09-20'\n",
    "\n",
    "def parse_ymd(s):\n",
    "    year_s, mon_s, day_s = s.split('-')\n",
    "    return datetime(int(year_s), int(mon_s), int(day_s))\n",
    "\n",
    "parse_ymd(text)"
   ]
  },
  {
   "cell_type": "markdown",
   "metadata": {},
   "source": [
    "# 结合时区的日期操作"
   ]
  },
  {
   "cell_type": "code",
   "execution_count": 125,
   "metadata": {
    "ExecuteTime": {
     "end_time": "2019-07-06T15:18:30.954064Z",
     "start_time": "2019-07-06T15:18:30.811596Z"
    }
   },
   "outputs": [
    {
     "name": "stdout",
     "output_type": "stream",
     "text": [
      "2012-12-21 09:30:00\n",
      "2012-12-21 09:30:00-06:00\n",
      "2012-12-21 21:00:00+05:30\n"
     ]
    }
   ],
   "source": [
    "from datetime import datetime\n",
    "from pytz import timezone\n",
    "d = datetime(2012, 12, 21, 9, 30, 0)\n",
    "print(d)\n",
    "\n",
    "# Localize the date for Chicago\n",
    "# 芝加哥时间\n",
    "central = timezone('US/Central')\n",
    "loc_d = central.localize(d)\n",
    "print(loc_d)\n",
    "\n",
    "# Convert to Bangalore time\n",
    "# 轉換時區\n",
    "bang_d = loc_d.astimezone(timezone('Asia/Kolkata'))\n",
    "print(bang_d)"
   ]
  },
  {
   "cell_type": "markdown",
   "metadata": {},
   "source": [
    "## 讨论"
   ]
  },
  {
   "cell_type": "markdown",
   "metadata": {},
   "source": [
    "需要特别注意夏令时转换和其他细节\n",
    "\n",
    "为了不让你被这些东东弄的晕头转向，处理本地化日期的通常的策略先将所有日期转换为`UTC时间`， 并用它来执行所有的中间存储和操作。"
   ]
  },
  {
   "cell_type": "code",
   "execution_count": 128,
   "metadata": {
    "ExecuteTime": {
     "end_time": "2019-07-06T15:23:06.192225Z",
     "start_time": "2019-07-06T15:23:06.186369Z"
    }
   },
   "outputs": [
    {
     "name": "stdout",
     "output_type": "stream",
     "text": [
      "2012-12-21 09:30:00-06:00\n",
      "2012-12-21 15:30:00+00:00\n",
      "2012-12-21 10:00:00-06:00\n"
     ]
    }
   ],
   "source": [
    "import pytz\n",
    "\n",
    "print(loc_d)\n",
    "utc_d = loc_d.astimezone(pytz.utc)\n",
    "print(utc_d)\n",
    "\n",
    "later_utc = utc_d + timedelta(minutes=30)\n",
    "print(later_utc.astimezone(central))"
   ]
  },
  {
   "cell_type": "markdown",
   "metadata": {},
   "source": [
    "注：当你阅读到这里的时候，有可能 `pytz` 模块已经不再建议使用了，因为PEP431提出了更先进的时区支持。 但是这里谈到的很多问题还是有参考价值的(比如使用UTC日期的建议等)。"
   ]
  },
  {
   "cell_type": "code",
   "execution_count": null,
   "metadata": {},
   "outputs": [],
   "source": []
  }
 ],
 "metadata": {
  "hide_input": false,
  "kernelspec": {
   "display_name": "Python [default]",
   "language": "python",
   "name": "python3"
  },
  "language_info": {
   "codemirror_mode": {
    "name": "ipython",
    "version": 3
   },
   "file_extension": ".py",
   "mimetype": "text/x-python",
   "name": "python",
   "nbconvert_exporter": "python",
   "pygments_lexer": "ipython3",
   "version": "3.6.5"
  },
  "toc": {
   "base_numbering": 1,
   "nav_menu": {},
   "number_sections": true,
   "sideBar": true,
   "skip_h1_title": false,
   "title_cell": "Table of Contents",
   "title_sidebar": "Contents",
   "toc_cell": true,
   "toc_position": {},
   "toc_section_display": true,
   "toc_window_display": true
  },
  "varInspector": {
   "cols": {
    "lenName": 16,
    "lenType": 16,
    "lenVar": 40
   },
   "kernels_config": {
    "python": {
     "delete_cmd_postfix": "",
     "delete_cmd_prefix": "del ",
     "library": "var_list.py",
     "varRefreshCmd": "print(var_dic_list())"
    },
    "r": {
     "delete_cmd_postfix": ") ",
     "delete_cmd_prefix": "rm(",
     "library": "var_list.r",
     "varRefreshCmd": "cat(var_dic_list()) "
    }
   },
   "types_to_exclude": [
    "module",
    "function",
    "builtin_function_or_method",
    "instance",
    "_Feature"
   ],
   "window_display": false
  }
 },
 "nbformat": 4,
 "nbformat_minor": 2
}
