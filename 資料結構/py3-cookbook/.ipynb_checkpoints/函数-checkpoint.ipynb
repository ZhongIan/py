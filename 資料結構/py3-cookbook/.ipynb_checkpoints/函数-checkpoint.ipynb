{
 "cells": [
  {
   "cell_type": "markdown",
   "metadata": {
    "toc": true
   },
   "source": [
    "<h1>Table of Contents<span class=\"tocSkip\"></span></h1>\n",
    "<div class=\"toc\"><ul class=\"toc-item\"><li><span><a href=\"#可接受任意数量参数的函数\" data-toc-modified-id=\"可接受任意数量参数的函数-1\"><span class=\"toc-item-num\">1&nbsp;&nbsp;</span>可接受任意数量参数的函数</a></span></li><li><span><a href=\"#只接受关键字参数的函数\" data-toc-modified-id=\"只接受关键字参数的函数-2\"><span class=\"toc-item-num\">2&nbsp;&nbsp;</span>只接受关键字参数的函数</a></span></li><li><span><a href=\"#给函数参数增加元信息\" data-toc-modified-id=\"给函数参数增加元信息-3\"><span class=\"toc-item-num\">3&nbsp;&nbsp;</span>给函数参数增加元信息</a></span></li><li><span><a href=\"#返回多个值的函数\" data-toc-modified-id=\"返回多个值的函数-4\"><span class=\"toc-item-num\">4&nbsp;&nbsp;</span>返回多个值的函数</a></span></li><li><span><a href=\"#定义有默认参数的函数\" data-toc-modified-id=\"定义有默认参数的函数-5\"><span class=\"toc-item-num\">5&nbsp;&nbsp;</span>定义有默认参数的函数</a></span><ul class=\"toc-item\"><li><span><a href=\"#讨论\" data-toc-modified-id=\"讨论-5.1\"><span class=\"toc-item-num\">5.1&nbsp;&nbsp;</span>讨论</a></span></li></ul></li><li><span><a href=\"#[lambda]定义匿名或内联函数\" data-toc-modified-id=\"[lambda]定义匿名或内联函数-6\"><span class=\"toc-item-num\">6&nbsp;&nbsp;</span>[lambda]定义匿名或内联函数</a></span></li><li><span><a href=\"#[lambda]匿名函数捕获变量值\" data-toc-modified-id=\"[lambda]匿名函数捕获变量值-7\"><span class=\"toc-item-num\">7&nbsp;&nbsp;</span>[lambda]匿名函数捕获变量值</a></span><ul class=\"toc-item\"><li><span><a href=\"#[lambda-x,-n=n:]讨论\" data-toc-modified-id=\"[lambda-x,-n=n:]讨论-7.1\"><span class=\"toc-item-num\">7.1&nbsp;&nbsp;</span>[lambda x, n=n:]讨论</a></span></li></ul></li><li><span><a href=\"#[functools.partial()]减少可调用对象的参数个数\" data-toc-modified-id=\"[functools.partial()]减少可调用对象的参数个数-8\"><span class=\"toc-item-num\">8&nbsp;&nbsp;</span>[functools.partial()]减少可调用对象的参数个数</a></span><ul class=\"toc-item\"><li><span><a href=\"#讨论\" data-toc-modified-id=\"讨论-8.1\"><span class=\"toc-item-num\">8.1&nbsp;&nbsp;</span>讨论</a></span></li></ul></li><li><span><a href=\"#将单方法的类转换为函数\" data-toc-modified-id=\"将单方法的类转换为函数-9\"><span class=\"toc-item-num\">9&nbsp;&nbsp;</span>将单方法的类转换为函数</a></span></li><li><span><a href=\"#带额外状态信息的回调函数\" data-toc-modified-id=\"带额外状态信息的回调函数-10\"><span class=\"toc-item-num\">10&nbsp;&nbsp;</span>带额外状态信息的回调函数</a></span></li><li><span><a href=\"#内联回调函数\" data-toc-modified-id=\"内联回调函数-11\"><span class=\"toc-item-num\">11&nbsp;&nbsp;</span>内联回调函数</a></span></li><li><span><a href=\"#[nonlocal]访问闭包中定义的变量\" data-toc-modified-id=\"[nonlocal]访问闭包中定义的变量-12\"><span class=\"toc-item-num\">12&nbsp;&nbsp;</span>[nonlocal]访问闭包中定义的变量</a></span><ul class=\"toc-item\"><li><span><a href=\"#讨论\" data-toc-modified-id=\"讨论-12.1\"><span class=\"toc-item-num\">12.1&nbsp;&nbsp;</span>讨论</a></span></li></ul></li></ul></div>"
   ]
  },
  {
   "cell_type": "markdown",
   "metadata": {},
   "source": [
    "# 可接受任意数量参数的函数"
   ]
  },
  {
   "cell_type": "code",
   "execution_count": 1,
   "metadata": {
    "ExecuteTime": {
     "end_time": "2019-07-16T03:01:07.433152Z",
     "start_time": "2019-07-16T03:01:07.310399Z"
    }
   },
   "outputs": [
    {
     "data": {
      "text/plain": [
       "1.5"
      ]
     },
     "execution_count": 1,
     "metadata": {},
     "output_type": "execute_result"
    },
    {
     "data": {
      "text/plain": [
       "2.5"
      ]
     },
     "execution_count": 1,
     "metadata": {},
     "output_type": "execute_result"
    }
   ],
   "source": [
    "def avg(first, *rest):\n",
    "    return (first + sum(rest)) / (1 + len(rest))\n",
    "\n",
    "# Sample use\n",
    "avg(1, 2) # 1.5\n",
    "avg(1, 2, 3, 4) # 2.5"
   ]
  },
  {
   "cell_type": "code",
   "execution_count": 2,
   "metadata": {
    "ExecuteTime": {
     "end_time": "2019-07-16T03:02:22.109136Z",
     "start_time": "2019-07-16T03:02:22.100375Z"
    }
   },
   "outputs": [
    {
     "data": {
      "text/plain": [
       "'<item size=\"large\" quantity=\"6\">Albatross</item>'"
      ]
     },
     "execution_count": 2,
     "metadata": {},
     "output_type": "execute_result"
    },
    {
     "data": {
      "text/plain": [
       "'<p>&lt;spam&gt;</p>'"
      ]
     },
     "execution_count": 2,
     "metadata": {},
     "output_type": "execute_result"
    }
   ],
   "source": [
    "import html\n",
    "\n",
    "def make_element(name, value, **attrs):\n",
    "    keyvals = [' %s=\"%s\"' % item for item in attrs.items()]\n",
    "    attr_str = ''.join(keyvals)\n",
    "    element = '<{name}{attrs}>{value}</{name}>'.format(\n",
    "                name=name,\n",
    "                attrs=attr_str,\n",
    "                value=html.escape(value))\n",
    "    return element\n",
    "\n",
    "# Example\n",
    "# Creates '<item size=\"large\" quantity=\"6\">Albatross</item>'\n",
    "make_element('item', 'Albatross', size='large', quantity=6)\n",
    "\n",
    "# Creates '<p>&lt;spam&gt;</p>'\n",
    "make_element('p', '<spam>')"
   ]
  },
  {
   "cell_type": "markdown",
   "metadata": {},
   "source": [
    "位置参数会被放到`args`元组中，关键字参数会被放到字典`kwargs`中\n",
    "\n",
    "\\*\\*参数只能出现在最后一个参数\n",
    "\n",
    "\\*参数后面仍然可以定义其他参数"
   ]
  },
  {
   "cell_type": "code",
   "execution_count": 10,
   "metadata": {
    "ExecuteTime": {
     "end_time": "2019-07-16T03:12:52.309912Z",
     "start_time": "2019-07-16T03:12:52.305062Z"
    }
   },
   "outputs": [
    {
     "name": "stdout",
     "output_type": "stream",
     "text": [
      "(1, 2)\n",
      "{'y': 3, 'x': 4}\n",
      "5\n",
      "(2, 3)\n",
      "{'z': 5}\n"
     ]
    }
   ],
   "source": [
    "def anyargs(*args, **kwargs):\n",
    "    print(args) # A tuple\n",
    "    print(kwargs) # A dict\n",
    "    \n",
    "anyargs(1, 2, y=3, x=4)\n",
    "\n",
    "def a(x, *args, y):\n",
    "    print(sum(args))\n",
    "    \n",
    "a(1, 2, 3, y=4)\n",
    "\n",
    "def b(x, *args, y, **kwargs):\n",
    "    print(args) \n",
    "    print(kwargs) \n",
    "    \n",
    "b(1, 2, 3, y=4, z=5)"
   ]
  },
  {
   "cell_type": "markdown",
   "metadata": {},
   "source": [
    "# 只接受关键字参数的函数"
   ]
  },
  {
   "cell_type": "markdown",
   "metadata": {
    "ExecuteTime": {
     "end_time": "2019-07-16T03:21:34.638764Z",
     "start_time": "2019-07-16T03:21:34.633889Z"
    }
   },
   "source": [
    "使用强制关键字参数会比使用位置参数表意更加清晰，程序也更加具有可读性。\n",
    "\n",
    "使用强制关键字参数也会比使用`**kwargs`参数更好，因为在使用函数`help`的时候输出也会更容易理解：\n"
   ]
  },
  {
   "cell_type": "code",
   "execution_count": 17,
   "metadata": {
    "ExecuteTime": {
     "end_time": "2019-07-16T03:21:49.408561Z",
     "start_time": "2019-07-16T03:21:49.395872Z"
    }
   },
   "outputs": [
    {
     "name": "stdout",
     "output_type": "stream",
     "text": [
      "Help on function recv in module __main__:\n",
      "\n",
      "recv(maxsize, *, block)\n",
      "    Receives a message\n",
      "\n",
      "OK\n"
     ]
    },
    {
     "ename": "TypeError",
     "evalue": "recv() takes 1 positional argument but 2 were given",
     "output_type": "error",
     "traceback": [
      "\u001b[1;31m---------------------------------------------------------------------------\u001b[0m",
      "\u001b[1;31mTypeError\u001b[0m                                 Traceback (most recent call last)",
      "\u001b[1;32m<ipython-input-17-4ddff2d29fb0>\u001b[0m in \u001b[0;36m<module>\u001b[1;34m()\u001b[0m\n\u001b[0;32m      5\u001b[0m \u001b[0mhelp\u001b[0m\u001b[1;33m(\u001b[0m\u001b[0mrecv\u001b[0m\u001b[1;33m)\u001b[0m\u001b[1;33m\u001b[0m\u001b[0m\n\u001b[0;32m      6\u001b[0m \u001b[0mrecv\u001b[0m\u001b[1;33m(\u001b[0m\u001b[1;36m1024\u001b[0m\u001b[1;33m,\u001b[0m \u001b[0mblock\u001b[0m\u001b[1;33m=\u001b[0m\u001b[1;32mTrue\u001b[0m\u001b[1;33m)\u001b[0m \u001b[1;31m# Ok\u001b[0m\u001b[1;33m\u001b[0m\u001b[0m\n\u001b[1;32m----> 7\u001b[1;33m \u001b[0mrecv\u001b[0m\u001b[1;33m(\u001b[0m\u001b[1;36m1024\u001b[0m\u001b[1;33m,\u001b[0m \u001b[1;32mTrue\u001b[0m\u001b[1;33m)\u001b[0m \u001b[1;31m# TypeError\u001b[0m\u001b[1;33m\u001b[0m\u001b[0m\n\u001b[0m",
      "\u001b[1;31mTypeError\u001b[0m: recv() takes 1 positional argument but 2 were given"
     ]
    }
   ],
   "source": [
    "def recv(maxsize, *, block):\n",
    "    'Receives a message'\n",
    "    print('OK')\n",
    "\n",
    "help(recv)\n",
    "\n",
    "recv(1024, block=True) # Ok\n",
    "recv(1024, True) # TypeError"
   ]
  },
  {
   "cell_type": "code",
   "execution_count": 15,
   "metadata": {
    "ExecuteTime": {
     "end_time": "2019-07-16T03:16:50.267449Z",
     "start_time": "2019-07-16T03:16:50.260617Z"
    }
   },
   "outputs": [
    {
     "data": {
      "text/plain": [
       "-5"
      ]
     },
     "execution_count": 15,
     "metadata": {},
     "output_type": "execute_result"
    },
    {
     "data": {
      "text/plain": [
       "0"
      ]
     },
     "execution_count": 15,
     "metadata": {},
     "output_type": "execute_result"
    }
   ],
   "source": [
    "def minimum(*values, clip=None):\n",
    "    m = min(values)\n",
    "    if clip is not None:\n",
    "        m = clip if clip > m else m\n",
    "    return m\n",
    "\n",
    "minimum(1, 5, 2, -5, 10) # Returns -5\n",
    "minimum(1, 5, 2, -5, 10, clip=0) # Returns 0"
   ]
  },
  {
   "cell_type": "markdown",
   "metadata": {},
   "source": [
    "# 给函数参数增加元信息"
   ]
  },
  {
   "cell_type": "markdown",
   "metadata": {},
   "source": [
    "使用**函数参数注解**是一个很好的办法，它能提示程序员应该怎样正确使用这个函数。"
   ]
  },
  {
   "cell_type": "code",
   "execution_count": 18,
   "metadata": {
    "ExecuteTime": {
     "end_time": "2019-07-16T03:24:54.062965Z",
     "start_time": "2019-07-16T03:24:54.058046Z"
    }
   },
   "outputs": [
    {
     "name": "stdout",
     "output_type": "stream",
     "text": [
      "Help on function add in module __main__:\n",
      "\n",
      "add(x:int, y:int) -> int\n",
      "\n"
     ]
    }
   ],
   "source": [
    "def add(x:int, y:int) -> int:\n",
    "    return x + y\n",
    "\n",
    "help(add)"
   ]
  },
  {
   "cell_type": "markdown",
   "metadata": {},
   "source": [
    "函数注解只存储在函数的 `__annotations__` 属性中"
   ]
  },
  {
   "cell_type": "code",
   "execution_count": 19,
   "metadata": {
    "ExecuteTime": {
     "end_time": "2019-07-16T03:25:44.369008Z",
     "start_time": "2019-07-16T03:25:44.364128Z"
    }
   },
   "outputs": [
    {
     "data": {
      "text/plain": [
       "{'x': int, 'y': int, 'return': int}"
      ]
     },
     "execution_count": 19,
     "metadata": {},
     "output_type": "execute_result"
    }
   ],
   "source": [
    "add.__annotations__"
   ]
  },
  {
   "cell_type": "markdown",
   "metadata": {},
   "source": [
    "# 返回多个值的函数"
   ]
  },
  {
   "cell_type": "markdown",
   "metadata": {},
   "source": [
    "实际上我们使用的是逗号来生成一个元组"
   ]
  },
  {
   "cell_type": "code",
   "execution_count": 20,
   "metadata": {
    "ExecuteTime": {
     "end_time": "2019-07-16T03:27:39.293922Z",
     "start_time": "2019-07-16T03:27:39.285138Z"
    }
   },
   "outputs": [
    {
     "data": {
      "text/plain": [
       "3"
      ]
     },
     "execution_count": 20,
     "metadata": {},
     "output_type": "execute_result"
    },
    {
     "data": {
      "text/plain": [
       "(1, 2)"
      ]
     },
     "execution_count": 20,
     "metadata": {},
     "output_type": "execute_result"
    },
    {
     "data": {
      "text/plain": [
       "(1, 2)"
      ]
     },
     "execution_count": 20,
     "metadata": {},
     "output_type": "execute_result"
    }
   ],
   "source": [
    "def myfun():\n",
    "    return 1, 2, 3\n",
    "\n",
    "a, b, c = myfun()\n",
    "c\n",
    "\n",
    "a = (1, 2) # With parentheses\n",
    "a\n",
    "\n",
    "b = 1, 2 # Without parentheses\n",
    "b"
   ]
  },
  {
   "cell_type": "markdown",
   "metadata": {},
   "source": [
    "# 定义有默认参数的函数"
   ]
  },
  {
   "cell_type": "code",
   "execution_count": null,
   "metadata": {},
   "outputs": [],
   "source": [
    "def spam(a, b=42):\n",
    "    print(a, b)\n",
    "\n",
    "spam(1) # Ok. a=1, b=42\n",
    "spam(1, 2) # Ok. a=1, b=2"
   ]
  },
  {
   "cell_type": "markdown",
   "metadata": {},
   "source": [
    "如果默认参数是一个可修改的容器比如一个列表、集合或者字典，可以使用`None`作为默认值\n",
    "\n",
    "```py\n",
    "# Using a list as a default value\n",
    "def spam(a, b=None):\n",
    "    if b is None:\n",
    "        b = []\n",
    "```\n",
    "    "
   ]
  },
  {
   "cell_type": "markdown",
   "metadata": {},
   "source": [
    "如果你并不想提供一个默认值，而是想仅仅测试下某个默认参数是不是有传递进来"
   ]
  },
  {
   "cell_type": "code",
   "execution_count": 22,
   "metadata": {
    "ExecuteTime": {
     "end_time": "2019-07-16T03:36:46.531533Z",
     "start_time": "2019-07-16T03:36:46.526635Z"
    }
   },
   "outputs": [
    {
     "name": "stdout",
     "output_type": "stream",
     "text": [
      "No b value supplied\n",
      "2\n",
      "None\n"
     ]
    }
   ],
   "source": [
    "_no_value = object()\n",
    "\n",
    "def spam(a, b=_no_value):\n",
    "    if b is _no_value:\n",
    "        print('No b value supplied')\n",
    "    else:\n",
    "        print(b)\n",
    "        \n",
    "spam(1)\n",
    "spam(1, 2) # b = 2\n",
    "spam(1, None) # b = None"
   ]
  },
  {
   "cell_type": "markdown",
   "metadata": {},
   "source": [
    "你可以创建一个独一无二的私有对象实例，就像上面的`_no_value`变量那样。 在函数里面，你可以通过检查被传递参数值跟这个实例是否一样来判断。 这里的思路是用户不可能去传递这个`_no_value`实例作为输入\n",
    "\n",
    "`object` 是`python`中所有类的基类。 你可以创建 `object` 类的实例，但是这些实例没什么实际用处，因为它并没有任何有用的方法， 也没有任何实例数据(因为它没有任何的实例字典，你甚至都不能设置任何属性值)。 你唯一能做的就是测试同一性"
   ]
  },
  {
   "cell_type": "markdown",
   "metadata": {},
   "source": [
    "## 讨论"
   ]
  },
  {
   "cell_type": "markdown",
   "metadata": {},
   "source": [
    "默认参数的值仅仅在函数定义的时候赋值一次"
   ]
  },
  {
   "cell_type": "code",
   "execution_count": 23,
   "metadata": {
    "ExecuteTime": {
     "end_time": "2019-07-16T03:38:10.076698Z",
     "start_time": "2019-07-16T03:38:10.072811Z"
    }
   },
   "outputs": [
    {
     "name": "stdout",
     "output_type": "stream",
     "text": [
      "1 42\n",
      "1 42\n"
     ]
    }
   ],
   "source": [
    " x = 42\n",
    "def spam(a, b=x):\n",
    "    print(a, b)\n",
    "    \n",
    "spam(1)\n",
    "\n",
    "x = 23 # Has no effect\n",
    "spam(1)\n"
   ]
  },
  {
   "cell_type": "markdown",
   "metadata": {},
   "source": [
    "默认参数的值应该是不可变的对象，比如`None`、`True`、`False`、数字或字符串\n",
    "\n",
    "当默认值在其他地方被修改后你将会遇到各种麻烦。这些修改会影响到下次调用这个函数时的默认值"
   ]
  },
  {
   "cell_type": "code",
   "execution_count": 25,
   "metadata": {
    "ExecuteTime": {
     "end_time": "2019-07-16T03:42:16.554685Z",
     "start_time": "2019-07-16T03:42:16.546905Z"
    }
   },
   "outputs": [
    {
     "name": "stdout",
     "output_type": "stream",
     "text": [
      "[]\n"
     ]
    },
    {
     "data": {
      "text/plain": [
       "[]"
      ]
     },
     "execution_count": 25,
     "metadata": {},
     "output_type": "execute_result"
    },
    {
     "data": {
      "text/plain": [
       "[99, 'Yow!']"
      ]
     },
     "execution_count": 25,
     "metadata": {},
     "output_type": "execute_result"
    }
   ],
   "source": [
    "def spam(a, b=[]):\n",
    "    print(b)\n",
    "    return b\n",
    "\n",
    "x = spam(1)\n",
    "x\n",
    "\n",
    "x.append(99)\n",
    "x.append('Yow!')\n",
    "x"
   ]
  },
  {
   "cell_type": "markdown",
   "metadata": {},
   "source": [
    "`None`值确实是被当成`False`， 但是还有其他的对象(比如长度为0的字符串、列表、元组、字典等)都会被当做`False`。 因此，上面的代码会误将一些其他输入也当成是没有输入\n",
    "\n",
    "```py\n",
    "def spam(a, b=None):\n",
    "    if not b: # NO! Use 'b is None' instead\n",
    "        b = []\n",
    "        \n",
    "spam(1) # OK\n",
    "x = []\n",
    "spam(1, x) # Silent error. x value overwritten by default\n",
    "spam(1, 0) # Silent error. 0 ignored\n",
    "spam(1, '') # Silent error. '' ignored\n",
    "\n",
    "```"
   ]
  },
  {
   "cell_type": "markdown",
   "metadata": {},
   "source": [
    "# [lambda]定义匿名或内联函数"
   ]
  },
  {
   "cell_type": "code",
   "execution_count": 27,
   "metadata": {
    "ExecuteTime": {
     "end_time": "2019-07-16T03:55:41.959433Z",
     "start_time": "2019-07-16T03:55:41.952600Z"
    }
   },
   "outputs": [
    {
     "data": {
      "text/plain": [
       "5"
      ]
     },
     "execution_count": 27,
     "metadata": {},
     "output_type": "execute_result"
    },
    {
     "data": {
      "text/plain": [
       "'helloworld'"
      ]
     },
     "execution_count": 27,
     "metadata": {},
     "output_type": "execute_result"
    }
   ],
   "source": [
    "add = lambda x, y: x + y\n",
    "\n",
    "add(2,3)\n",
    "\n",
    "add('hello', 'world')"
   ]
  },
  {
   "cell_type": "code",
   "execution_count": 32,
   "metadata": {
    "ExecuteTime": {
     "end_time": "2019-07-16T03:57:33.360837Z",
     "start_time": "2019-07-16T03:57:33.354005Z"
    }
   },
   "outputs": [
    {
     "data": {
      "text/plain": [
       "['Ned Batchelder', 'David Beazley', 'Raymond Hettinger', 'Brian Jones']"
      ]
     },
     "execution_count": 32,
     "metadata": {},
     "output_type": "execute_result"
    },
    {
     "data": {
      "text/plain": [
       "'beazley'"
      ]
     },
     "execution_count": 32,
     "metadata": {},
     "output_type": "execute_result"
    }
   ],
   "source": [
    "names = [\n",
    "    'David Beazley', 'Brian Jones',\n",
    "    'Raymond Hettinger', 'Ned Batchelder'\n",
    "]\n",
    "\n",
    "sorted(names, key=lambda name: name.split()[-1].lower())\n",
    "\n",
    "names[0].split()[-1].lower()"
   ]
  },
  {
   "cell_type": "markdown",
   "metadata": {},
   "source": [
    "# [lambda]匿名函数捕获变量值"
   ]
  },
  {
   "cell_type": "markdown",
   "metadata": {},
   "source": [
    "`lambda`表达式中的`x`是一个自由变量， 在运行时绑定值，而不是定义时就绑定"
   ]
  },
  {
   "cell_type": "code",
   "execution_count": 36,
   "metadata": {
    "ExecuteTime": {
     "end_time": "2019-07-16T04:05:50.549735Z",
     "start_time": "2019-07-16T04:05:50.539974Z"
    }
   },
   "outputs": [
    {
     "data": {
      "text/plain": [
       "30"
      ]
     },
     "execution_count": 36,
     "metadata": {},
     "output_type": "execute_result"
    },
    {
     "data": {
      "text/plain": [
       "30"
      ]
     },
     "execution_count": 36,
     "metadata": {},
     "output_type": "execute_result"
    },
    {
     "data": {
      "text/plain": [
       "25"
      ]
     },
     "execution_count": 36,
     "metadata": {},
     "output_type": "execute_result"
    }
   ],
   "source": [
    "x = 10\n",
    "a = lambda y: x + y\n",
    "x = 20\n",
    "b = lambda y: x + y\n",
    "\n",
    "a(10)\n",
    "b(10)\n",
    "\n",
    "x = 15\n",
    "a(10)"
   ]
  },
  {
   "cell_type": "markdown",
   "metadata": {},
   "source": [
    "如果你想让某个匿名函数在定义时就捕获到值，可以将那个参数值定义成默认参数即可"
   ]
  },
  {
   "cell_type": "code",
   "execution_count": 37,
   "metadata": {
    "ExecuteTime": {
     "end_time": "2019-07-16T04:06:05.997853Z",
     "start_time": "2019-07-16T04:06:05.991031Z"
    }
   },
   "outputs": [
    {
     "data": {
      "text/plain": [
       "20"
      ]
     },
     "execution_count": 37,
     "metadata": {},
     "output_type": "execute_result"
    },
    {
     "data": {
      "text/plain": [
       "30"
      ]
     },
     "execution_count": 37,
     "metadata": {},
     "output_type": "execute_result"
    }
   ],
   "source": [
    "x = 10\n",
    "a = lambda y, x=x: x + y\n",
    "x = 20\n",
    "b = lambda y, x=x: x + y\n",
    "\n",
    "a(10)\n",
    "b(10)"
   ]
  },
  {
   "cell_type": "markdown",
   "metadata": {},
   "source": [
    "## [lambda x, n=n:]讨论"
   ]
  },
  {
   "cell_type": "code",
   "execution_count": 39,
   "metadata": {
    "ExecuteTime": {
     "end_time": "2019-07-16T04:16:41.492438Z",
     "start_time": "2019-07-16T04:16:41.487558Z"
    }
   },
   "outputs": [
    {
     "name": "stdout",
     "output_type": "stream",
     "text": [
      "2\n",
      "2\n",
      "2\n",
      "0\n",
      "1\n",
      "2\n"
     ]
    }
   ],
   "source": [
    "# 运行时才绑定值\n",
    "funcs = [lambda x: x+n for n in range(3)]\n",
    "for f in funcs:\n",
    "    print(f(0))\n",
    "    \n",
    "# 定义默认参数\n",
    "funcs = [lambda x, n=n: x+n for n in range(3)]\n",
    "for f in funcs:\n",
    "    print(f(0))"
   ]
  },
  {
   "cell_type": "markdown",
   "metadata": {},
   "source": [
    "# [functools.partial()]减少可调用对象的参数个数"
   ]
  },
  {
   "cell_type": "markdown",
   "metadata": {},
   "source": [
    "使用 `functools.partial()` 。 `partial()` 函数允许你给一个或多个参数设置固定的值"
   ]
  },
  {
   "cell_type": "code",
   "execution_count": 43,
   "metadata": {
    "ExecuteTime": {
     "end_time": "2019-07-16T04:23:13.989281Z",
     "start_time": "2019-07-16T04:23:13.983454Z"
    }
   },
   "outputs": [
    {
     "name": "stdout",
     "output_type": "stream",
     "text": [
      "1 1 2 3\n",
      "1 2 3 42\n",
      "1 2 4 42\n"
     ]
    }
   ],
   "source": [
    "def spam(a, b, c, d):\n",
    "    print(a, b, c, d)\n",
    "    \n",
    "from functools import partial\n",
    "\n",
    "s1 = partial(spam, 1) # a = 1\n",
    "s1(1, 2, 3)\n",
    "\n",
    "s2 = partial(spam, d=42) # d = 42\n",
    "s2(1, 2, 3)\n",
    "\n",
    "s3 = partial(spam, 1, 2, d=42) # a = 1, b = 2, d = 42\n",
    "s3(4)"
   ]
  },
  {
   "cell_type": "markdown",
   "metadata": {},
   "source": [
    "## 讨论"
   ]
  },
  {
   "cell_type": "markdown",
   "metadata": {},
   "source": [
    "假设你想以某个点为基点，根据点和基点之间的距离来排序所有的这些点。 列表的 `sort()` 方法接受一个关键字参数来自定义排序逻辑， 但是它只能接受一个单个参数的函数(`distance()`很明显是不符合条件的)\n",
    "\n",
    "\n",
    "`lambda`表达式也能实现(给某些参数预先赋值)\n",
    "\n",
    "使用 `partial()` 可以更加直观的表达你的意图(给某些参数预先赋值)"
   ]
  },
  {
   "cell_type": "code",
   "execution_count": 3,
   "metadata": {
    "ExecuteTime": {
     "end_time": "2019-07-16T04:44:36.566052Z",
     "start_time": "2019-07-16T04:44:36.557265Z"
    }
   },
   "outputs": [
    {
     "data": {
      "text/plain": [
       "[(3, 4), (1, 2), (5, 6), (7, 8)]"
      ]
     },
     "execution_count": 3,
     "metadata": {},
     "output_type": "execute_result"
    },
    {
     "data": {
      "text/plain": [
       "[(3, 4), (1, 2), (5, 6), (7, 8)]"
      ]
     },
     "execution_count": 3,
     "metadata": {},
     "output_type": "execute_result"
    }
   ],
   "source": [
    "from functools import partial\n",
    "\n",
    "points = [ (1, 2), (3, 4), (5, 6), (7, 8) ]\n",
    "\n",
    "import math\n",
    "def distance(p1, p2):\n",
    "    x1, y1 = p1\n",
    "    x2, y2 = p2\n",
    "    return math.hypot(x2 - x1, y2 - y1)\n",
    "\n",
    "pt = (4, 3)\n",
    "points.sort(key=partial(distance,pt))\n",
    "points\n",
    "\n",
    "# lambda表达式也能实现\n",
    "points.sort(key=lambda p: distance(pt, p))\n",
    "points"
   ]
  },
  {
   "cell_type": "markdown",
   "metadata": {},
   "source": [
    "# 将单方法的类转换为函数"
   ]
  },
  {
   "cell_type": "code",
   "execution_count": 4,
   "metadata": {
    "ExecuteTime": {
     "end_time": "2019-07-16T05:04:32.069100Z",
     "start_time": "2019-07-16T05:04:32.057400Z"
    }
   },
   "outputs": [
    {
     "data": {
      "text/plain": [
       "'http://finance.yahoo.com/d/quotes.csv?s=IBM,AAPL,FB&f=sl1c1v'"
      ]
     },
     "execution_count": 4,
     "metadata": {},
     "output_type": "execute_result"
    }
   ],
   "source": [
    "\n",
    "class UrlTemplate:\n",
    "    def __init__(self, template):\n",
    "        self.template = template\n",
    "\n",
    "    def open(self, **kwargs):\n",
    "        return self.template.format_map(kwargs)\n",
    "\n",
    "\n",
    "yahoo = UrlTemplate(\n",
    "    # yahoo API 已更換，不可用\n",
    "    'http://finance.yahoo.com/d/quotes.csv?s={names}&f={fields}'\n",
    ")\n",
    "\n",
    "yahoo.open(names='IBM,AAPL,FB', fields='sl1c1v')\n",
    "    "
   ]
  },
  {
   "cell_type": "markdown",
   "metadata": {},
   "source": [
    "使用一个内部函数或者闭包的方案通常会更优雅一些。简单来讲，一个闭包就是一个函数， 只不过在函数内部带上了一个额外的变量环境。闭包关键特点就是它会记住自己被定义时的环境。 因此，在我们的解决方案中，`opener()` 函数记住了 `template` 参数的值，并在接下来的调用中使用它。"
   ]
  },
  {
   "cell_type": "code",
   "execution_count": 9,
   "metadata": {
    "ExecuteTime": {
     "end_time": "2019-07-16T05:08:50.932092Z",
     "start_time": "2019-07-16T05:08:50.926237Z"
    }
   },
   "outputs": [
    {
     "data": {
      "text/plain": [
       "'http://finance.yahoo.com/d/quotes.csv?s=IBM,AAPL,FB&f=sl1c1v'"
      ]
     },
     "execution_count": 9,
     "metadata": {},
     "output_type": "execute_result"
    }
   ],
   "source": [
    "def urltemplate(template):\n",
    "    def opener(**kwargs):\n",
    "        return template.format_map(kwargs)\n",
    "    return opener\n",
    "\n",
    "yahoo = urltemplate(\n",
    "    'http://finance.yahoo.com/d/quotes.csv?s={names}&f={fields}',\n",
    "    \n",
    ")\n",
    "\n",
    "yahoo(names='IBM,AAPL,FB', fields='sl1c1v')\n",
    "    "
   ]
  },
  {
   "cell_type": "markdown",
   "metadata": {},
   "source": [
    "# 带额外状态信息的回调函数"
   ]
  },
  {
   "cell_type": "markdown",
   "metadata": {},
   "source": [
    "**func**"
   ]
  },
  {
   "cell_type": "code",
   "execution_count": 10,
   "metadata": {
    "ExecuteTime": {
     "end_time": "2019-07-17T04:12:58.480719Z",
     "start_time": "2019-07-17T04:12:58.391996Z"
    }
   },
   "outputs": [
    {
     "name": "stdout",
     "output_type": "stream",
     "text": [
      "Got: 5\n",
      "Got: helloworld\n"
     ]
    }
   ],
   "source": [
    "def apply_async(func, args, *, callback):\n",
    "    # Compute the result\n",
    "    result = func(*args)\n",
    "\n",
    "    # Invoke the callback with the result\n",
    "    callback(result)\n",
    "\n",
    "def print_result(result):\n",
    "    print('Got:', result)\n",
    "    \n",
    "def add(x, y):\n",
    "    return x + y\n",
    "\n",
    "apply_async(add, (2, 3), callback=print_result)\n",
    "\n",
    "apply_async(add, ('hello', 'world'), callback=print_result)\n"
   ]
  },
  {
   "cell_type": "markdown",
   "metadata": {},
   "source": [
    "**class**"
   ]
  },
  {
   "cell_type": "code",
   "execution_count": 12,
   "metadata": {
    "ExecuteTime": {
     "end_time": "2019-07-17T04:18:39.583529Z",
     "start_time": "2019-07-17T04:18:39.578649Z"
    }
   },
   "outputs": [
    {
     "name": "stdout",
     "output_type": "stream",
     "text": [
      "[1] Got: 5\n",
      "[2] Got: helloworld\n"
     ]
    }
   ],
   "source": [
    "class ResultHandler:\n",
    "\n",
    "    def __init__(self):\n",
    "        self.sequence = 0\n",
    "\n",
    "    def handler(self, result):\n",
    "        self.sequence += 1\n",
    "        print('[{}] Got: {}'.format(self.sequence, result))\n",
    "        \n",
    "r = ResultHandler()\n",
    "\n",
    "apply_async(add, (2, 3), callback=r.handler)\n",
    "\n",
    "apply_async(add, ('hello', 'world'), callback=r.handler)"
   ]
  },
  {
   "cell_type": "markdown",
   "metadata": {},
   "source": [
    "**閉包**\n",
    "\n",
    "`nonlocal` 声明语句用来指示接下来的变量会在回调函数中被修改。如果没有这个声明，代码会报错。"
   ]
  },
  {
   "cell_type": "code",
   "execution_count": 13,
   "metadata": {
    "ExecuteTime": {
     "end_time": "2019-07-17T04:21:05.763637Z",
     "start_time": "2019-07-17T04:21:05.757782Z"
    }
   },
   "outputs": [
    {
     "name": "stdout",
     "output_type": "stream",
     "text": [
      "[1] Got: 5\n",
      "[2] Got: helloworld\n"
     ]
    }
   ],
   "source": [
    "def make_handler():\n",
    "    sequence = 0\n",
    "    def handler(result):\n",
    "        nonlocal sequence\n",
    "        sequence += 1\n",
    "        print('[{}] Got: {}'.format(sequence, result))\n",
    "    return handler\n",
    "\n",
    "handler = make_handler()\n",
    "\n",
    "apply_async(add, (2, 3), callback=handler)\n",
    "\n",
    "apply_async(add, ('hello', 'world'), callback=handler)"
   ]
  },
  {
   "cell_type": "markdown",
   "metadata": {},
   "source": [
    "**yield**\n",
    "\n",
    "使用之前需要调用 `next()` \n",
    "\n",
    "`send()` 方法作为回调函数"
   ]
  },
  {
   "cell_type": "code",
   "execution_count": 16,
   "metadata": {
    "ExecuteTime": {
     "end_time": "2019-07-17T04:36:44.264925Z",
     "start_time": "2019-07-17T04:36:44.259068Z"
    }
   },
   "outputs": [
    {
     "name": "stdout",
     "output_type": "stream",
     "text": [
      "[1] Got: 5\n",
      "[2] Got: helloworld\n"
     ]
    }
   ],
   "source": [
    "def make_handler():\n",
    "    sequence = 0\n",
    "    while True:\n",
    "        result = yield\n",
    "        sequence += 1\n",
    "        print('[{}] Got: {}'.format(sequence, result))\n",
    "        \n",
    "handler = make_handler()\n",
    "next(handler) # Advance to the yield\n",
    "\n",
    "# send() 方法作为回调函数\n",
    "apply_async(add, (2, 3), callback=handler.send)\n",
    "\n",
    "apply_async(add, ('hello', 'world'), callback=handler.send)\n"
   ]
  },
  {
   "cell_type": "markdown",
   "metadata": {},
   "source": [
    "# 内联回调函数"
   ]
  },
  {
   "cell_type": "markdown",
   "metadata": {},
   "source": [
    "装饰器和 `yield` 语句"
   ]
  },
  {
   "cell_type": "code",
   "execution_count": 2,
   "metadata": {
    "ExecuteTime": {
     "end_time": "2019-07-17T07:57:09.225701Z",
     "start_time": "2019-07-17T07:57:09.218868Z"
    }
   },
   "outputs": [],
   "source": [
    "\n",
    "\n",
    "def apply_async(func, args, *, callback):\n",
    "    # Compute the result\n",
    "    result = func(*args)\n",
    "\n",
    "    # Invoke the callback with the result\n",
    "    callback(result)\n",
    "\n",
    "\n",
    "from queue import Queue\n",
    "from functools import wraps\n",
    "\n",
    "class Async:\n",
    "    def __init__(self, func, args):\n",
    "        self.func = func\n",
    "        self.args = args\n",
    "\n",
    "def inlined_async(func):\n",
    "    @wraps(func)\n",
    "    def wrapper(*args):\n",
    "        f = func(*args)\n",
    "        result_queue = Queue()\n",
    "        result_queue.put(None)\n",
    "        while True:\n",
    "            # 取出结果值并发送给生成器\n",
    "            result = result_queue.get()\n",
    "            try:\n",
    "                a = f.send(result)\n",
    "                apply_async(\n",
    "                    a.func, a.args, callback=result_queue.put\n",
    "                )\n",
    "            except StopIteration:\n",
    "                break\n",
    "    return wrapper\n",
    "\n",
    "def add(x, y):\n",
    "    return x + y\n",
    "\n",
    "@inlined_async\n",
    "def test():\n",
    "    r = yield Async(add, (2, 3))\n",
    "    print(r)\n",
    "    r = yield Async(add, ('hello', 'world'))\n",
    "    print(r)\n",
    "    for n in range(10):\n",
    "        r = yield Async(add, (n, n))\n",
    "        print(r)\n",
    "    print('Goodbye')\n",
    "    \n"
   ]
  },
  {
   "cell_type": "code",
   "execution_count": 25,
   "metadata": {
    "ExecuteTime": {
     "end_time": "2019-07-17T06:22:03.372081Z",
     "start_time": "2019-07-17T06:22:03.267084Z"
    }
   },
   "outputs": [
    {
     "name": "stdout",
     "output_type": "stream",
     "text": [
      "5\n",
      "helloworld\n",
      "0\n",
      "2\n",
      "4\n",
      "6\n",
      "8\n",
      "10\n",
      "12\n",
      "14\n",
      "16\n",
      "18\n",
      "Goodbye\n"
     ]
    }
   ],
   "source": [
    "test()"
   ]
  },
  {
   "cell_type": "markdown",
   "metadata": {},
   "source": [
    "`yield` 操作会使一个生成器函数产生一个值并暂停。 接下来调用生成器的 `__next__()` 或 `send()` 方法又会让它从暂停处继续执行。\n",
    "\n",
    "根据这个思路，这一小节的核心就在 `inline_async()` 装饰器函数中了。 关键点就是，装饰器会逐步遍历生成器函数的所有 `yield` 语句，每一次一个。 为了这样做，刚开始的时候创建了一个 `result` 队列并向里面放入一个 `None` 值。 \n",
    "\n",
    "然后开始一个循环操作，从队列中取出结果值并发送给生成器，它会持续到下一个 `yield` 语句， 在这里一个 `Async` 的实例被接受到。\n",
    "\n",
    "然后循环开始检查函数和参数，并开始进行异步计算 `apply_async()` 。 然而，这个计算有个最诡异部分是它并没有使用一个普通的回调函数，而是用队列的 `put()` 方法来回调。\n",
    "\n",
    "这时候，是时候详细解释下到底发生了什么了。主循环立即返回顶部并在队列上执行 `get()` 操作。 如果数据存在，它一定是 `put()` 回调存放的结果。如果没有数据，那么先暂停操作并等待结果的到来。 这个具体怎样实现是由 `apply_async()` 函数来决定的。"
   ]
  },
  {
   "cell_type": "markdown",
   "metadata": {},
   "source": [
    "使用 `multiprocessing` 库来试一下， 在单独的进程中执行异步计算操作\n",
    "\n",
    "// CallbackAsync.py\n",
    "\n",
    "```py\n",
    "\n",
    "......\n",
    "\n",
    "if __name__ == '__main__':\n",
    "    import multiprocessing\n",
    "    pool = multiprocessing.Pool()\n",
    "    apply_async = pool.apply_async\n",
    "\n",
    "    # Run the test function\n",
    "    test()\n",
    "```"
   ]
  },
  {
   "cell_type": "code",
   "execution_count": 1,
   "metadata": {
    "ExecuteTime": {
     "end_time": "2019-07-17T08:38:38.336086Z",
     "start_time": "2019-07-17T08:38:38.047358Z"
    }
   },
   "outputs": [
    {
     "name": "stdout",
     "output_type": "stream",
     "text": [
      "5\n",
      "helloworld\n",
      "0\n",
      "2\n",
      "4\n",
      "6\n",
      "8\n",
      "10\n",
      "12\n",
      "14\n",
      "16\n",
      "18\n",
      "Goodbye\n"
     ]
    }
   ],
   "source": [
    "%run CallbackAsync.py"
   ]
  },
  {
   "cell_type": "markdown",
   "metadata": {},
   "source": [
    "# [nonlocal]访问闭包中定义的变量"
   ]
  },
  {
   "cell_type": "markdown",
   "metadata": {},
   "source": [
    "`nonlocal` 声明可以让我们编写函数来修改内部变量的值"
   ]
  },
  {
   "cell_type": "code",
   "execution_count": 17,
   "metadata": {
    "ExecuteTime": {
     "end_time": "2019-07-17T06:12:24.252064Z",
     "start_time": "2019-07-17T06:12:24.211813Z"
    }
   },
   "outputs": [
    {
     "name": "stdout",
     "output_type": "stream",
     "text": [
      "n= 0\n",
      "n= 10\n"
     ]
    },
    {
     "data": {
      "text/plain": [
       "10"
      ]
     },
     "execution_count": 17,
     "metadata": {},
     "output_type": "execute_result"
    }
   ],
   "source": [
    "def sample():\n",
    "    n = 0\n",
    "    # Closure function\n",
    "    def func():\n",
    "        print('n=', n)\n",
    "\n",
    "    # Accessor methods for n\n",
    "    def get_n():\n",
    "        return n\n",
    "\n",
    "    def set_n(value):\n",
    "        nonlocal n\n",
    "        n = value\n",
    "\n",
    "    # Attach as function attributes\n",
    "    func.get_n = get_n\n",
    "    func.set_n = set_n\n",
    "    return func\n",
    "\n",
    "f = sample()\n",
    "f()\n",
    "\n",
    "f.set_n(10)\n",
    "f()\n",
    "\n",
    "f.get_n()\n"
   ]
  },
  {
   "cell_type": "markdown",
   "metadata": {},
   "source": [
    "## 讨论"
   ]
  },
  {
   "cell_type": "markdown",
   "metadata": {},
   "source": [
    "还可以进一步的扩展，让闭包模拟类的实例。你要做的仅仅是复制上面的内部函数到一个字典实例中并返回它即可\n",
    "\n",
    "不过，你得考虑下是否真的需要在你代码中这样做， 而且**它只是真实类的一个奇怪的替换而已，例如，类的主要特性如继承、属性、描述器或类方法都是不能用的。** 并且你要做一些其他的工作才能让一些特殊方法生效(比如`ClosureInstance` 中重写过的 `__len__()` 实现"
   ]
  },
  {
   "cell_type": "code",
   "execution_count": 19,
   "metadata": {
    "ExecuteTime": {
     "end_time": "2019-07-17T06:15:29.473861Z",
     "start_time": "2019-07-17T06:15:29.363552Z"
    }
   },
   "outputs": [],
   "source": [
    "import sys\n",
    "\n",
    "class ClosureInstance:\n",
    "    def __init__(self, locals=None):\n",
    "        if locals is None:\n",
    "            locals = sys._getframe(1).f_locals\n",
    "\n",
    "        # Update instance dictionary with callables\n",
    "        self.__dict__.update(\n",
    "            (key,value) for key, value in locals.items()\n",
    "            if callable(value) \n",
    "        )\n",
    "    # Redirect special methods\n",
    "    def __len__(self):\n",
    "        return self.__dict__['__len__']()\n",
    "\n",
    "# Example use\n",
    "def Stack():\n",
    "    items = []\n",
    "    def push(item):\n",
    "        items.append(item)\n",
    "\n",
    "    def pop():\n",
    "        return items.pop()\n",
    "\n",
    "    def __len__():\n",
    "        return len(items)\n",
    "\n",
    "    return ClosureInstance()"
   ]
  },
  {
   "cell_type": "code",
   "execution_count": 20,
   "metadata": {
    "ExecuteTime": {
     "end_time": "2019-07-17T06:15:30.454189Z",
     "start_time": "2019-07-17T06:15:30.336907Z"
    }
   },
   "outputs": [
    {
     "data": {
      "text/plain": [
       "<__main__.ClosureInstance at 0x22f2d032ac8>"
      ]
     },
     "execution_count": 20,
     "metadata": {},
     "output_type": "execute_result"
    },
    {
     "data": {
      "text/plain": [
       "3"
      ]
     },
     "execution_count": 20,
     "metadata": {},
     "output_type": "execute_result"
    },
    {
     "data": {
      "text/plain": [
       "'Hello'"
      ]
     },
     "execution_count": 20,
     "metadata": {},
     "output_type": "execute_result"
    },
    {
     "data": {
      "text/plain": [
       "20"
      ]
     },
     "execution_count": 20,
     "metadata": {},
     "output_type": "execute_result"
    },
    {
     "data": {
      "text/plain": [
       "10"
      ]
     },
     "execution_count": 20,
     "metadata": {},
     "output_type": "execute_result"
    }
   ],
   "source": [
    "s = Stack()\n",
    "s\n",
    "s.push(10)\n",
    "s.push(20)\n",
    "s.push('Hello')\n",
    "len(s) # 3\n",
    "s.pop() # 'Hello'\n",
    "s.pop() # 20\n",
    "s.pop() # 10"
   ]
  },
  {
   "cell_type": "markdown",
   "metadata": {},
   "source": [
    "有趣的是，这个代码运行起来会比一个普通的类定义要快很多。你可能会像下面这样测试它跟一个类的性能对比"
   ]
  },
  {
   "cell_type": "code",
   "execution_count": 21,
   "metadata": {
    "ExecuteTime": {
     "end_time": "2019-07-17T06:16:01.447356Z",
     "start_time": "2019-07-17T06:16:01.442475Z"
    }
   },
   "outputs": [],
   "source": [
    "class Stack2:\n",
    "    def __init__(self):\n",
    "        self.items = []\n",
    "\n",
    "    def push(self, item):\n",
    "        self.items.append(item)\n",
    "\n",
    "    def pop(self):\n",
    "        return self.items.pop()\n",
    "\n",
    "    def __len__(self):\n",
    "        return len(self.items)"
   ]
  },
  {
   "cell_type": "code",
   "execution_count": 23,
   "metadata": {
    "ExecuteTime": {
     "end_time": "2019-07-17T06:16:42.825675Z",
     "start_time": "2019-07-17T06:16:41.652442Z"
    }
   },
   "outputs": [
    {
     "data": {
      "text/plain": [
       "0.5501921845365398"
      ]
     },
     "execution_count": 23,
     "metadata": {},
     "output_type": "execute_result"
    },
    {
     "data": {
      "text/plain": [
       "0.6160764651993986"
      ]
     },
     "execution_count": 23,
     "metadata": {},
     "output_type": "execute_result"
    }
   ],
   "source": [
    "from timeit import timeit\n",
    "\n",
    "# Test involving closures\n",
    "s = Stack()\n",
    "timeit('s.push(1);s.pop()', 'from __main__ import s')\n",
    "\n",
    "# Test involving a class\n",
    "s = Stack2()\n",
    "timeit('s.push(1);s.pop()', 'from __main__ import s')\n"
   ]
  },
  {
   "cell_type": "code",
   "execution_count": null,
   "metadata": {},
   "outputs": [],
   "source": []
  },
  {
   "cell_type": "code",
   "execution_count": null,
   "metadata": {},
   "outputs": [],
   "source": []
  },
  {
   "cell_type": "code",
   "execution_count": null,
   "metadata": {},
   "outputs": [],
   "source": []
  },
  {
   "cell_type": "code",
   "execution_count": null,
   "metadata": {},
   "outputs": [],
   "source": []
  },
  {
   "cell_type": "code",
   "execution_count": null,
   "metadata": {},
   "outputs": [],
   "source": []
  },
  {
   "cell_type": "code",
   "execution_count": null,
   "metadata": {},
   "outputs": [],
   "source": []
  },
  {
   "cell_type": "code",
   "execution_count": null,
   "metadata": {},
   "outputs": [],
   "source": []
  }
 ],
 "metadata": {
  "hide_input": false,
  "kernelspec": {
   "display_name": "Python [default]",
   "language": "python",
   "name": "python3"
  },
  "language_info": {
   "codemirror_mode": {
    "name": "ipython",
    "version": 3
   },
   "file_extension": ".py",
   "mimetype": "text/x-python",
   "name": "python",
   "nbconvert_exporter": "python",
   "pygments_lexer": "ipython3",
   "version": "3.6.5"
  },
  "toc": {
   "base_numbering": 1,
   "nav_menu": {},
   "number_sections": true,
   "sideBar": true,
   "skip_h1_title": false,
   "title_cell": "Table of Contents",
   "title_sidebar": "Contents",
   "toc_cell": true,
   "toc_position": {},
   "toc_section_display": true,
   "toc_window_display": true
  },
  "varInspector": {
   "cols": {
    "lenName": 16,
    "lenType": 16,
    "lenVar": 40
   },
   "kernels_config": {
    "python": {
     "delete_cmd_postfix": "",
     "delete_cmd_prefix": "del ",
     "library": "var_list.py",
     "varRefreshCmd": "print(var_dic_list())"
    },
    "r": {
     "delete_cmd_postfix": ") ",
     "delete_cmd_prefix": "rm(",
     "library": "var_list.r",
     "varRefreshCmd": "cat(var_dic_list()) "
    }
   },
   "types_to_exclude": [
    "module",
    "function",
    "builtin_function_or_method",
    "instance",
    "_Feature"
   ],
   "window_display": false
  }
 },
 "nbformat": 4,
 "nbformat_minor": 2
}
