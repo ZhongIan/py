{
 "cells": [
  {
   "cell_type": "markdown",
   "metadata": {},
   "source": [
    "# 作为客户端与HTTP服务交互"
   ]
  },
  {
   "cell_type": "markdown",
   "metadata": {},
   "source": [
    "发送一个简单的`HTTP GET`请求到远程的服务上"
   ]
  },
  {
   "cell_type": "code",
   "execution_count": 4,
   "metadata": {
    "ExecuteTime": {
     "end_time": "2019-08-22T07:11:37.399540Z",
     "start_time": "2019-08-22T07:11:36.879970Z"
    }
   },
   "outputs": [
    {
     "data": {
      "text/plain": [
       "b'{\\n  \"args\": {\\n    \"name1\": \"value1\", \\n    \"name2\": \"value2\"\\n  }, \\n  \"headers\": {\\n    \"Accept-Encoding\": \"identity\", \\n    \"Host\": \"httpbin.org\", \\n    \"User-Agent\": \"Python-urllib/3.6\"\\n  }, \\n  \"origin\": \"101.13.44.99, 101.13.44.99\", \\n  \"url\": \"https://httpbin.org/get?name1=value1&name2=value2\"\\n}\\n'"
      ]
     },
     "execution_count": 4,
     "metadata": {},
     "output_type": "execute_result"
    }
   ],
   "source": [
    "from urllib import request, parse\n",
    "\n",
    "# Base URL being accessed --- get --- \n",
    "url = 'http://httpbin.org/get'\n",
    "\n",
    "# Dictionary of query parameters (if any)\n",
    "parms = {\n",
    "   'name1' : 'value1',\n",
    "   'name2' : 'value2'\n",
    "}\n",
    "\n",
    "# Encode the query string\n",
    "querystring = parse.urlencode(parms)\n",
    "\n",
    "# Make a GET request and read the response\n",
    "u = request.urlopen(url+'?' + querystring)\n",
    "resp = u.read()\n",
    "resp"
   ]
  },
  {
   "cell_type": "markdown",
   "metadata": {},
   "source": [
    "如果你需要使用`POST`方法在请求主体中发送查询参数，可以将参数编码后作为可选参数提供给 `urlopen()` 函数"
   ]
  },
  {
   "cell_type": "code",
   "execution_count": 6,
   "metadata": {
    "ExecuteTime": {
     "end_time": "2019-08-22T07:16:34.361058Z",
     "start_time": "2019-08-22T07:16:33.714883Z"
    }
   },
   "outputs": [],
   "source": [
    "from urllib import request, parse\n",
    "\n",
    "# Base URL being accessed   --- post ---\n",
    "url = 'http://httpbin.org/post'\n",
    "\n",
    "# Dictionary of query parameters (if any)\n",
    "parms = {\n",
    "   'name1' : 'value1',\n",
    "   'name2' : 'value2'\n",
    "}\n",
    "\n",
    "# Encode the query string --- encode('ascii') ---\n",
    "querystring = parse.urlencode(parms).encode('ascii')\n",
    "\n",
    "# Make a POST request and read the response\n",
    "u = request.urlopen(url, querystring)\n",
    "resp = u.read()"
   ]
  },
  {
   "cell_type": "markdown",
   "metadata": {},
   "source": [
    "如果你需要在发出的请求中提供一些自定义的`HTTP`头，例如修改 `user-agent` 字段,可以创建一个包含字段值的字典，并创建一个`Request`实例然后将其传给 `urlopen()`"
   ]
  },
  {
   "cell_type": "code",
   "execution_count": 5,
   "metadata": {
    "ExecuteTime": {
     "end_time": "2019-08-22T07:16:31.002094Z",
     "start_time": "2019-08-22T07:16:30.385649Z"
    }
   },
   "outputs": [],
   "source": [
    "from urllib import request, parse\n",
    "\n",
    "# Base URL being accessed   --- post ---\n",
    "url = 'http://httpbin.org/post'\n",
    "\n",
    "# Dictionary of query parameters (if any)\n",
    "parms = {\n",
    "   'name1' : 'value1',\n",
    "   'name2' : 'value2'\n",
    "}\n",
    "\n",
    "# Encode the query string --- encode('ascii') ---\n",
    "querystring = parse.urlencode(parms).encode('ascii')\n",
    "\n",
    "\n",
    "# Extra headers\n",
    "headers = {\n",
    "    'User-agent' : 'none/ofyourbusiness',\n",
    "    'Spam' : 'Eggs'\n",
    "}\n",
    "\n",
    "req = request.Request(url, querystring, headers=headers)\n",
    "\n",
    "# Make a request and read the response\n",
    "u = request.urlopen(req)\n",
    "resp = u.read()"
   ]
  },
  {
   "cell_type": "markdown",
   "metadata": {},
   "source": [
    "## requests 库"
   ]
  },
  {
   "cell_type": "markdown",
   "metadata": {},
   "source": [
    "关于`requests`库，一个值得一提的特性就是它能以多种方式从请求中返回响应结果的内容。从上面的代码来看，`resp.text` 带给我们的是以`Unicode`解码的响应文本。但是，如果去访问 `resp.content` ，就会得到原始的二进制数据。另一方面，如果访问 `resp.json` ，那么就会得到`JSON`格式的响应内容"
   ]
  },
  {
   "cell_type": "code",
   "execution_count": 10,
   "metadata": {
    "ExecuteTime": {
     "end_time": "2019-08-22T07:18:14.442676Z",
     "start_time": "2019-08-22T07:18:13.885441Z"
    }
   },
   "outputs": [
    {
     "name": "stdout",
     "output_type": "stream",
     "text": [
      "{\n",
      "  \"args\": {}, \n",
      "  \"data\": \"\", \n",
      "  \"files\": {}, \n",
      "  \"form\": {\n",
      "    \"name1\": \"value1\", \n",
      "    \"name2\": \"value2\"\n",
      "  }, \n",
      "  \"headers\": {\n",
      "    \"Accept\": \"*/*\", \n",
      "    \"Accept-Encoding\": \"gzip, deflate\", \n",
      "    \"Content-Length\": \"25\", \n",
      "    \"Content-Type\": \"application/x-www-form-urlencoded\", \n",
      "    \"Host\": \"httpbin.org\", \n",
      "    \"Spam\": \"Eggs\", \n",
      "    \"User-Agent\": \"none/ofyourbusiness\"\n",
      "  }, \n",
      "  \"json\": null, \n",
      "  \"origin\": \"101.13.44.99, 101.13.44.99\", \n",
      "  \"url\": \"https://httpbin.org/post\"\n",
      "}\n",
      "\n"
     ]
    }
   ],
   "source": [
    "import requests\n",
    "\n",
    "# Base URL being accessed\n",
    "url = 'http://httpbin.org/post'\n",
    "\n",
    "# Dictionary of query parameters (if any)\n",
    "parms = {\n",
    "   'name1' : 'value1',\n",
    "   'name2' : 'value2'\n",
    "}\n",
    "\n",
    "# Extra headers\n",
    "headers = {\n",
    "    'User-agent' : 'none/ofyourbusiness',\n",
    "    'Spam' : 'Eggs'\n",
    "}\n",
    "\n",
    "resp = requests.post(url, data=parms, headers=headers)\n",
    "\n",
    "# Decoded text returned by the request\n",
    "text = resp.text\n",
    "print(text)"
   ]
  },
  {
   "cell_type": "markdown",
   "metadata": {},
   "source": [
    "下面这个示例利用 `requests` 库发起一个`HEAD`请求，并从响应中提取出一些`HTTP`头数据的字段"
   ]
  },
  {
   "cell_type": "code",
   "execution_count": 6,
   "metadata": {
    "ExecuteTime": {
     "end_time": "2019-08-22T07:23:46.203595Z",
     "start_time": "2019-08-22T07:23:46.015775Z"
    }
   },
   "outputs": [
    {
     "data": {
      "text/plain": [
       "'0'"
      ]
     },
     "execution_count": 6,
     "metadata": {},
     "output_type": "execute_result"
    }
   ],
   "source": [
    "import requests\n",
    "\n",
    "resp = requests.head('http://www.python.org/index.html')\n",
    "\n",
    "status = resp.status_code\n",
    "#last_modified = resp.headers['last-modified'] # KeyError: 'last-modified'\n",
    "#content_type = resp.headers['content-type'] # KeyError: 'content-type'\n",
    "content_length = resp.headers['content-length']\n",
    "\n",
    "content_length"
   ]
  },
  {
   "cell_type": "markdown",
   "metadata": {},
   "source": [
    "利用`requests`通过基本认证登录`Pypi`的例子"
   ]
  },
  {
   "cell_type": "code",
   "execution_count": 10,
   "metadata": {
    "ExecuteTime": {
     "end_time": "2019-08-23T13:29:53.717125Z",
     "start_time": "2019-08-23T13:29:52.612375Z"
    }
   },
   "outputs": [
    {
     "data": {
      "text/plain": [
       "<Response [200]>"
      ]
     },
     "execution_count": 10,
     "metadata": {},
     "output_type": "execute_result"
    }
   ],
   "source": [
    "import requests\n",
    "\n",
    "resp = requests.get('http://pypi.python.org/pypi?:action=login',\n",
    "                    auth=('user','password'))\n",
    "resp"
   ]
  },
  {
   "cell_type": "markdown",
   "metadata": {},
   "source": [
    "利用`requests`将`HTTP cookies`从一个请求传递到另一个的例子"
   ]
  },
  {
   "cell_type": "code",
   "execution_count": 12,
   "metadata": {
    "ExecuteTime": {
     "end_time": "2019-08-23T13:30:34.433807Z",
     "start_time": "2019-08-23T13:30:33.119090Z"
    }
   },
   "outputs": [
    {
     "data": {
      "text/plain": [
       "Ellipsis"
      ]
     },
     "execution_count": 12,
     "metadata": {},
     "output_type": "execute_result"
    }
   ],
   "source": [
    "import requests\n",
    "\n",
    "url = 'http://httpbin.org/post'\n",
    "\n",
    "# First request\n",
    "resp1 = requests.get(url)\n",
    "...\n",
    "\n",
    "# Second requests with cookies received on first requests\n",
    "resp2 = requests.get(url, cookies=resp1.cookies)"
   ]
  },
  {
   "cell_type": "code",
   "execution_count": 16,
   "metadata": {
    "ExecuteTime": {
     "end_time": "2019-08-23T13:32:22.950044Z",
     "start_time": "2019-08-23T13:32:22.456953Z"
    }
   },
   "outputs": [
    {
     "data": {
      "text/plain": [
       "'{\\n  \"args\": {}, \\n  \"data\": \"\", \\n  \"files\": {\\n    \"file\": \"Hello, world.\"\\n  }, \\n  \"form\": {}, \\n  \"headers\": {\\n    \"Accept\": \"*/*\", \\n    \"Accept-Encoding\": \"gzip, deflate\", \\n    \"Content-Length\": \"157\", \\n    \"Content-Type\": \"multipart/form-data; boundary=4eaed52ef10a49aa87a6cce31a8b26f7\", \\n    \"Host\": \"httpbin.org\", \\n    \"User-Agent\": \"python-requests/2.21.0\"\\n  }, \\n  \"json\": null, \\n  \"origin\": \"101.13.44.99, 101.13.44.99\", \\n  \"url\": \"https://httpbin.org/post\"\\n}\\n'"
      ]
     },
     "execution_count": 16,
     "metadata": {},
     "output_type": "execute_result"
    }
   ],
   "source": [
    "import requests\n",
    "url = 'http://httpbin.org/post'\n",
    "files = { 'file': ('file.txt', open('file.txt', 'rb')) }\n",
    "\n",
    "r = requests.post(url, files=files)\n",
    "r.text"
   ]
  },
  {
   "cell_type": "markdown",
   "metadata": {},
   "source": [
    "## 讨论"
   ]
  },
  {
   "cell_type": "markdown",
   "metadata": {},
   "source": [
    "在开发过程中测试 `HTTP` 客户端代码常常是很令人沮丧的，因为所有棘手的细节问题都需要考虑（例如 `cookies` 、认证、 `HTTP` 头、编码方式等）。要完成这些任务，考虑使用[ `httpbin` 服务](http://httpbin.org)。这个站点会接收发出的请求，然后以`JSON`的形式将相应信息回传回来。下面是一个交互式的例子："
   ]
  },
  {
   "cell_type": "code",
   "execution_count": 24,
   "metadata": {
    "ExecuteTime": {
     "end_time": "2019-08-23T13:37:40.352674Z",
     "start_time": "2019-08-23T13:37:39.644222Z"
    }
   },
   "outputs": [
    {
     "data": {
      "text/plain": [
       "dict_keys(['args', 'headers', 'origin', 'url'])"
      ]
     },
     "execution_count": 24,
     "metadata": {},
     "output_type": "execute_result"
    },
    {
     "data": {
      "text/plain": [
       "{'Accept': '*/*',\n",
       " 'Accept-Encoding': 'gzip, deflate',\n",
       " 'Host': 'httpbin.org',\n",
       " 'User-Agent': 'goaway/1.0'}"
      ]
     },
     "execution_count": 24,
     "metadata": {},
     "output_type": "execute_result"
    },
    {
     "data": {
      "text/plain": [
       "{'n': '37', 'name': 'Dave'}"
      ]
     },
     "execution_count": 24,
     "metadata": {},
     "output_type": "execute_result"
    }
   ],
   "source": [
    "import requests\n",
    "\n",
    "r = requests.get(\n",
    "    'http://httpbin.org/get?name=Dave&n=37',\n",
    "    headers = { 'User-agent': 'goaway/1.0' }\n",
    ")\n",
    "resp = r.json()\n",
    "resp.keys()\n",
    "resp['headers']\n",
    "resp['args']"
   ]
  },
  {
   "cell_type": "markdown",
   "metadata": {},
   "source": [
    "`request` 库还对许多高级的`HTTP`客户端协议提供了支持，比如`OAuth`。 [`requests` 模块的文档](http://docs.python-requests.org)质量很高"
   ]
  },
  {
   "cell_type": "markdown",
   "metadata": {},
   "source": [
    "# 创建TCP服务器\n",
    "\n",
    "## [socket] 菜鳥教程\n",
    "\n",
    "http://www.runoob.com/python/python-socket.html\n",
    "\n",
    "```py\n",
    "# server.py\n",
    "\n",
    "import socket\n",
    "\n",
    "# 建立一个服务端\n",
    "server = socket.socket(socket.AF_INET,socket.SOCK_STREAM) \n",
    "#绑定要监听的端口\n",
    "server.bind(('localhost',6999))\n",
    "#开始监听 表示可以使用五个链接排队\n",
    "server.listen(5) \n",
    "while True:\n",
    "    # conn就是客户端链接过来而在服务端为期生成的一个链接实例\n",
    "    # 等待链接,多个链接的时候就会出现问题,其实返回了两个值\n",
    "    conn,addr = server.accept() \n",
    "    print(conn,addr)\n",
    "    while True:\n",
    "        try:\n",
    "            # 接收数据\n",
    "            data = conn.recv(1024)  \n",
    "            # 打印接收到的数据\n",
    "            print('recive:',data.decode()) \n",
    "            # 然后再发送数据\n",
    "            conn.send(data.upper()) \n",
    "        except ConnectionResetError as e:\n",
    "            print('关闭了正在占线的链接！')\n",
    "            break\n",
    "    conn.close()\n",
    "```\n",
    "\n",
    "```py\n",
    "# client.py\n",
    "\n",
    "import socket\n",
    "\n",
    "# 客户端 发送一个数据，再接收一个数据\n",
    "# 声明socket类型，同时生成链接对象\n",
    "client = socket.socket(socket.AF_INET,socket.SOCK_STREAM) \n",
    "# 建立一个链接，连接到本地的6969端口\n",
    "client.connect(('localhost',6999)) \n",
    "while True:\n",
    "    # addr = client.accept()\n",
    "    # print('连接地址：', addr)\n",
    "    msg = '欢迎访问菜鸟教程！'  \n",
    "    # 发送一条信息 python3 只接收btye流\n",
    "    client.send(msg.encode('utf-8'))  \n",
    "    # 接收一个信息，并指定接收的大小 为1024字节\n",
    "    data = client.recv(1024) \n",
    "    # 输出我接收的信息\n",
    "    print('recv:',data.decode()) \n",
    "# 关闭这个链接\n",
    "client.close() \n",
    "```\n",
    "\n",
    "\n",
    "\n",
    "## [socketserver]创建TCP服务器"
   ]
  },
  {
   "cell_type": "markdown",
   "metadata": {
    "ExecuteTime": {
     "start_time": "2019-08-23T13:41:43.559Z"
    }
   },
   "source": [
    "\n",
    "```py\n",
    "# TCP.py\n",
    "from socketserver import BaseRequestHandler, TCPServer\n",
    "\n",
    "class EchoHandler(BaseRequestHandler):\n",
    "    def handle(self):\n",
    "        print('Got connection from', self.client_address)\n",
    "        while True:\n",
    "\n",
    "            msg = self.request.recv(8192)\n",
    "            if not msg:\n",
    "                break\n",
    "            self.request.send(msg)\n",
    "\n",
    "if __name__ == '__main__':\n",
    "    serv = TCPServer(('', 20000), EchoHandler)\n",
    "    serv.serve_forever()\n",
    "```    \n",
    "\n",
    "为了测试这个服务器，运行它并打开另外一个`Python`进程连接这个服务器：\n",
    "\n",
    "```py\n",
    ">>> from socket import socket, AF_INET, SOCK_STREAM\n",
    ">>> s = socket(AF_INET, SOCK_STREAM)\n",
    ">>> s.connect(('localhost', 20000))\n",
    ">>> s.send(b'Hello')\n",
    "5\n",
    ">>> s.recv(8192)\n",
    "b'Hello'\n",
    ">>>\n",
    "```\n",
    "\n",
    "很多时候，可以很容易的定义一个不同的处理器。下面是一个使用 `StreamRequestHandler` 基类将一个类文件接口放置在底层`socket`上的例子\n",
    "\n",
    "```py\n",
    "from socketserver import StreamRequestHandler, TCPServer\n",
    "\n",
    "class EchoHandler(StreamRequestHandler):\n",
    "    def handle(self):\n",
    "        print('Got connection from', self.client_address)\n",
    "        # self.rfile is a file-like object for reading\n",
    "        for line in self.rfile:\n",
    "            # self.wfile is a file-like object for writing\n",
    "            self.wfile.write(line)\n",
    "\n",
    "if __name__ == '__main__':\n",
    "    serv = TCPServer(('', 20000), EchoHandler)\n",
    "    serv.serve_forever()\n",
    "```\n"
   ]
  },
  {
   "cell_type": "markdown",
   "metadata": {},
   "source": [
    "## 讨论"
   ]
  },
  {
   "cell_type": "markdown",
   "metadata": {},
   "source": [
    "`socketserver` 可以让我们很容易的创建简单的`TCP`服务器。 但是，你需要注意的是，默认情况下这种服务器是单线程的，一次只能为一个客户端连接服务。 如果你想处理多个客户端，可以初始化一个 `ForkingTCPServer` 或者是 `ThreadingTCPServer` 对象\n",
    "\n",
    "```py\n",
    "from socketserver import ThreadingTCPServer\n",
    "\n",
    "\n",
    "if __name__ == '__main__':\n",
    "    serv = ThreadingTCPServer(('', 20000), EchoHandler)\n",
    "    serv.serve_forever()\n",
    "```\n",
    "\n",
    "使用`fork`或线程服务器有个潜在问题就是它们会为每个客户端连接创建一个新的进程或线程。 由于客户端连接数是没有限制的，因此一个恶意的黑客可以同时发送大量的连接让你的服务器奔溃。\n",
    "\n",
    "如果你担心这个问题，你可以创建一个 **预先分配大小** 的工作线程池或进程池。 你先创建一个普通的非线程服务器，然后在一个线程池中使用 `serve_forever()` 方法来启动它们。\n",
    "\n",
    "```py\n",
    "if __name__ == '__main__':\n",
    "    from threading import Thread\n",
    "    NWORKERS = 16\n",
    "    serv = TCPServer(('', 20000), EchoHandler)\n",
    "    for n in range(NWORKERS):\n",
    "        t = Thread(target=serv.serve_forever)\n",
    "        t.daemon = True\n",
    "        t.start()\n",
    "    serv.serve_forever()\n",
    "```\n",
    "\n",
    "一般来讲，一个 `TCPServer` 在实例化的时候会绑定并激活相应的 `socket` 。 不过，有时候你想通过设置某些选项去调整底下的 `socket` ，可以设置参数 `bind_and_activate=False` 。如下：\n",
    "\n",
    "```py\n",
    "if __name__ == '__main__':\n",
    "    serv = TCPServer(('', 20000), EchoHandler, bind_and_activate=False)\n",
    "    # Set up various socket options\n",
    "    serv.socket.setsockopt(socket.SOL_SOCKET, socket.SO_REUSEADDR, True)\n",
    "    # Bind and activate\n",
    "    serv.server_bind()\n",
    "    serv.server_activate()\n",
    "    serv.serve_forever()\n",
    "```\n",
    "\n",
    "上面的 `socket` 选项是一个非常普遍的配置项，它允许服务器重新绑定一个之前使用过的端口号。 由于要被经常使用到，它被放置到类变量中，可以直接在 `TCPServer` 上面设置。 在实例化服务器的时候去设置它的值，如下所示：\n",
    "\n",
    "```py\n",
    "if __name__ == '__main__':\n",
    "    TCPServer.allow_reuse_address = True\n",
    "    serv = TCPServer(('', 20000), EchoHandler)\n",
    "    serv.serve_forever()\n",
    "```\n",
    "\n",
    "在上面示例中，我们演示了两种不同的处理器基类（ `BaseRequestHandler` 和 `StreamRequestHandler` ）。 `StreamRequestHandler` 更加灵活点，能通过设置其他的类变量来支持一些新的特性。比如：\n",
    "\n",
    "\n",
    "```py\n",
    "import socket\n",
    "\n",
    "class EchoHandler(StreamRequestHandler):\n",
    "    # Optional settings (defaults shown)\n",
    "    timeout = 5                      # Timeout on all socket operations\n",
    "    rbufsize = -1                    # Read buffer size\n",
    "    wbufsize = 0                     # Write buffer size\n",
    "    disable_nagle_algorithm = False  # Sets TCP_NODELAY socket option\n",
    "    def handle(self):\n",
    "        print('Got connection from', self.client_address)\n",
    "        try:\n",
    "            for line in self.rfile:\n",
    "                # self.wfile is a file-like object for writing\n",
    "                self.wfile.write(line)\n",
    "        except socket.timeout:\n",
    "            print('Timed out!')\n",
    "```\n",
    "\n",
    "部分`Python`的高层网络模块（比如`HTTP`、`XML-RPC`等）都是建立在 `socketserver` 功能之上。 也就是说，直接使用 `socket` 库来实现服务器也并不是很难。 下面是一个使用 `socket` 直接编程实现的一个服务器简单例子：\n",
    "\n",
    "```py\n",
    "from socket import socket, AF_INET, SOCK_STREAM\n",
    "\n",
    "def echo_handler(address, client_sock):\n",
    "    print('Got connection from {}'.format(address))\n",
    "    while True:\n",
    "        msg = client_sock.recv(8192)\n",
    "        if not msg:\n",
    "            break\n",
    "        client_sock.sendall(msg)\n",
    "    client_sock.close()\n",
    "\n",
    "def echo_server(address, backlog=5):\n",
    "    sock = socket(AF_INET, SOCK_STREAM)\n",
    "    sock.bind(address)\n",
    "    sock.listen(backlog)\n",
    "    while True:\n",
    "        client_sock, client_addr = sock.accept()\n",
    "        echo_handler(client_addr, client_sock)\n",
    "\n",
    "if __name__ == '__main__':\n",
    "    echo_server(('', 20000))\n",
    "```\n",
    "\n",
    "\n",
    "\n",
    "\n",
    "\n",
    "\n",
    "\n"
   ]
  },
  {
   "cell_type": "markdown",
   "metadata": {},
   "source": [
    "# 创建UDP服务器"
   ]
  },
  {
   "cell_type": "markdown",
   "metadata": {},
   "source": [
    "跟`TCP`一样，`UDP`服务器也可以通过使用 `socketserver` 库很容易的被创建。 例如，下面是一个简单的时间服务器：\n",
    "\n",
    "```py\n",
    "# UDP.py\n",
    "\n",
    "from socketserver import BaseRequestHandler, UDPServer\n",
    "import time\n",
    "\n",
    "class TimeHandler(BaseRequestHandler):\n",
    "    def handle(self):\n",
    "        print('Got connection from', self.client_address)\n",
    "        # Get message and client socket\n",
    "        msg, sock = self.request\n",
    "        resp = time.ctime()\n",
    "        sock.sendto(resp.encode('ascii'), self.client_address)\n",
    "\n",
    "if __name__ == '__main__':\n",
    "    serv = UDPServer(('', 20000), TimeHandler)\n",
    "    serv.serve_forever()\n",
    "\n",
    "```\n",
    "\n",
    "你先定义一个实现 `handle()` 特殊方法的类，为客户端连接服务。 这个类的 `request` 属性是一个包含了数据报和底层 `socket` 对象的元组。 `client_address` 包含了客户端地址\n",
    "\n",
    "打开另外一个`Python`进程向服务器发送消息：\n",
    "\n",
    "```py\n",
    ">>> from socket import socket, AF_INET, SOCK_DGRAM\n",
    ">>> s = socket(AF_INET, SOCK_DGRAM)\n",
    ">>> s.sendto(b'', ('localhost', 20000))\n",
    "0\n",
    ">>> s.recvfrom(8192)\n",
    "(b'Wed Aug 15 20:35:08 2012', ('127.0.0.1', 20000))\n",
    ">>>\n",
    "```\n",
    "\n",
    "## 讨论\n",
    "\n",
    "一个典型的`UDP`服务器接收到达的数据报(消息)和客户端地址。如果服务器需要做应答， 它要给客户端回发一个数据报。对于数据报的传送， 你应该使用`socket`的 `sendto()` 和 `recvfrom()` 方法。 尽管传统的 `send()` 和 `recv()` 也可以达到同样的效果， 但是前面的两个方法对于`UDP`连接而言更普遍。\n",
    "\n",
    "由于没有底层的连接，`UPD`服务器相对于`TCP`服务器来讲实现起来更加简单。 不过，`UDP`天生是不可靠的（因为通信没有建立连接，消息可能丢失）。 因此需要由你自己来决定该怎样处理丢失消息的情况\n",
    "\n",
    "不过通常来说，如果可靠性对于你程序很重要，你需要借助于序列号、重试、超时以及一些其他方法来保证。\n",
    "\n",
    " `UDP`通常被用在那些对于可靠传输要求不是很高的场合。例如，在实时应用如多媒体流以及游戏领域， 无需返回恢复丢失的数据包（程序只需简单的忽略它并继续向前运行）\n",
    "\n",
    "`UDPServer` 类是单线程的，也就是说一次只能为一个客户端连接服务。 实际使用中，这个无论是对于`UDP`还是`TCP`都不是什么大问题。 如果你想要并发操作，可以实例化一个 `ForkingUDPServer` 或 `ThreadingUDPServer` 对象：\n",
    "\n",
    "```py\n",
    "from socketserver import ThreadingUDPServer\n",
    "\n",
    "   if __name__ == '__main__':\n",
    "    serv = ThreadingUDPServer(('',20000), TimeHandler)\n",
    "    serv.serve_forever()\n",
    "```\n",
    "\n",
    "直接使用 `socket` 来实现一个`UDP`服务器也不难，下面是一个例子：\n",
    "\n",
    "```py\n",
    "from socket import socket, AF_INET, SOCK_DGRAM\n",
    "import time\n",
    "\n",
    "def time_server(address):\n",
    "    sock = socket(AF_INET, SOCK_DGRAM)\n",
    "    sock.bind(address)\n",
    "    while True:\n",
    "        msg, addr = sock.recvfrom(8192)\n",
    "        print('Got message from', addr)\n",
    "        resp = time.ctime()\n",
    "        sock.sendto(resp.encode('ascii'), addr)\n",
    "\n",
    "if __name__ == '__main__':\n",
    "    time_server(('', 20000))\n",
    "```\n",
    "\n",
    "\n",
    "\n",
    "\n"
   ]
  },
  {
   "cell_type": "markdown",
   "metadata": {},
   "source": [
    "# 通过CIDR地址生成对应的IP地址集"
   ]
  },
  {
   "cell_type": "code",
   "execution_count": 24,
   "metadata": {
    "ExecuteTime": {
     "end_time": "2019-08-30T14:41:06.974358Z",
     "start_time": "2019-08-30T14:41:06.968503Z"
    }
   },
   "outputs": [
    {
     "data": {
      "text/plain": [
       "IPv4Network('123.45.67.64/31')"
      ]
     },
     "execution_count": 24,
     "metadata": {},
     "output_type": "execute_result"
    },
    {
     "name": "stdout",
     "output_type": "stream",
     "text": [
      "123.45.67.64\n",
      "123.45.67.65\n"
     ]
    }
   ],
   "source": [
    "import ipaddress\n",
    "net = ipaddress.ip_network('123.45.67.64/31')\n",
    "\n",
    "# '123.45.67.64/32' => 123.45.67.64\n",
    "# '123.45.67.64/31' => 64 65\n",
    "# '123.45.67.64/30' => 64~67[4筆]\n",
    "# ~'123.45.67.64/26' => 64~127[64筆]\n",
    "\n",
    "net\n",
    "for a in net:\n",
    "    print(a)"
   ]
  },
  {
   "cell_type": "code",
   "execution_count": 36,
   "metadata": {
    "ExecuteTime": {
     "end_time": "2019-08-30T14:44:17.924564Z",
     "start_time": "2019-08-30T14:44:17.915779Z"
    }
   },
   "outputs": [
    {
     "name": "stdout",
     "output_type": "stream",
     "text": [
      "12:3456:78:90ab:cd:ef01:23:30\n",
      "12:3456:78:90ab:cd:ef01:23:31\n"
     ]
    }
   ],
   "source": [
    "\n",
    "# '12:3456:78:90ab:cd:ef01:23:30/128' => 12:3456:78:90ab:cd:ef01:23:30\n",
    "# '12:3456:78:90ab:cd:ef01:23:30/127' => 30 31\n",
    "# ~'12:3456:78:90ab:cd:ef01:23:30/124' => 30~39 3a~3f[共16筆]\n",
    "\n",
    "net6 = ipaddress.ip_network('12:3456:78:90ab:cd:ef01:23:30/127')\n",
    "for a in net6:\n",
    "    print(a)"
   ]
  },
  {
   "cell_type": "markdown",
   "metadata": {},
   "source": [
    "`Network` 也允许像`List`一样的索引取值 成员检查"
   ]
  },
  {
   "cell_type": "code",
   "execution_count": 38,
   "metadata": {
    "ExecuteTime": {
     "end_time": "2019-08-30T14:45:42.133486Z",
     "start_time": "2019-08-30T14:45:42.123727Z"
    }
   },
   "outputs": [
    {
     "data": {
      "text/plain": [
       "2"
      ]
     },
     "execution_count": 38,
     "metadata": {},
     "output_type": "execute_result"
    },
    {
     "data": {
      "text/plain": [
       "IPv4Address('123.45.67.64')"
      ]
     },
     "execution_count": 38,
     "metadata": {},
     "output_type": "execute_result"
    },
    {
     "data": {
      "text/plain": [
       "IPv4Address('123.45.67.65')"
      ]
     },
     "execution_count": 38,
     "metadata": {},
     "output_type": "execute_result"
    },
    {
     "data": {
      "text/plain": [
       "True"
      ]
     },
     "execution_count": 38,
     "metadata": {},
     "output_type": "execute_result"
    }
   ],
   "source": [
    "net.num_addresses\n",
    "net[0]\n",
    "net[-1]\n",
    "\n",
    "a = ipaddress.ip_address('123.45.67.65')\n",
    "a in net"
   ]
  },
  {
   "cell_type": "markdown",
   "metadata": {},
   "source": [
    "## 讨论\n",
    "\n",
    "`ipaddress` 模块有很多类可以表示`IP`地址、网络和接口。 当你需要操作网络地址（比如解析、打印、验证等)\n",
    "\n",
    "要注意的是， `ipaddress` 模块跟其他一些和网络相关的模块比如 `socket` 库交集很少。 所以，你不能使用 `IPv4Address` 的实例来代替一个地址字符串，你首先得显式的使用 `str()` 转换它\n",
    "\n",
    "```py\n",
    "a = ipaddress.ip_address('127.0.0.1')\n",
    "from socket import socket, AF_INET, SOCK_STREAM\n",
    "s = socket(AF_INET, SOCK_STREAM)\n",
    "\n",
    "#s.connect((a, 8080))\n",
    "#TypeError: Can't convert 'IPv4Address' object to str implicitly\n",
    "\n",
    "s.connect((str(a), 8080))\n",
    "\n",
    "```"
   ]
  },
  {
   "cell_type": "markdown",
   "metadata": {},
   "source": [
    "# [cgi]创建一个简单的REST接口{會使用Django框架建構;cgi未接觸}"
   ]
  },
  {
   "cell_type": "markdown",
   "metadata": {},
   "source": [
    "构建一个`REST`风格的接口最简单的方法是创建一个基于`WSGI`标准（`PEP 3333`）的很小的库，下面是一个例子：\n",
    "\n",
    "```py\n",
    "# resty.py\n",
    "\n",
    "import cgi\n",
    "\n",
    "def notfound_404(environ, start_response):\n",
    "    start_response('404 Not Found', [ ('Content-type', 'text/plain') ])\n",
    "    return [b'Not Found']\n",
    "\n",
    "class PathDispatcher:\n",
    "    def __init__(self):\n",
    "        self.pathmap = { }\n",
    "\n",
    "    def __call__(self, environ, start_response):\n",
    "        path = environ['PATH_INFO']\n",
    "        params = cgi.FieldStorage(environ['wsgi.input'],\n",
    "                                  environ=environ)\n",
    "        method = environ['REQUEST_METHOD'].lower()\n",
    "        environ['params'] = { key: params.getvalue(key) for key in params }\n",
    "        handler = self.pathmap.get((method,path), notfound_404)\n",
    "        return handler(environ, start_response)\n",
    "\n",
    "    def register(self, method, path, function):\n",
    "        self.pathmap[method.lower(), path] = function\n",
    "        return function\n",
    "```\n",
    "\n",
    "为了使用这个调度器，你只需要编写不同的处理器，就像下面这样：\n",
    "\n",
    "```py\n",
    "import time\n",
    "\n",
    "_hello_resp = '''\\\n",
    "<html>\n",
    "  <head>\n",
    "     <title>Hello {name}</title>\n",
    "   </head>\n",
    "   <body>\n",
    "     <h1>Hello {name}!</h1>\n",
    "   </body>\n",
    "</html>'''\n",
    "\n",
    "def hello_world(environ, start_response):\n",
    "    start_response('200 OK', [ ('Content-type','text/html')])\n",
    "    params = environ['params']\n",
    "    resp = _hello_resp.format(name=params.get('name'))\n",
    "    yield resp.encode('utf-8')\n",
    "\n",
    "_localtime_resp = '''\\\n",
    "<?xml version=\"1.0\"?>\n",
    "<time>\n",
    "  <year>{t.tm_year}</year>\n",
    "  <month>{t.tm_mon}</month>\n",
    "  <day>{t.tm_mday}</day>\n",
    "  <hour>{t.tm_hour}</hour>\n",
    "  <minute>{t.tm_min}</minute>\n",
    "  <second>{t.tm_sec}</second>\n",
    "</time>'''\n",
    "\n",
    "def localtime(environ, start_response):\n",
    "    start_response('200 OK', [ ('Content-type', 'application/xml') ])\n",
    "    resp = _localtime_resp.format(t=time.localtime())\n",
    "    yield resp.encode('utf-8')\n",
    "\n",
    "if __name__ == '__main__':\n",
    "    from resty import PathDispatcher\n",
    "    from wsgiref.simple_server import make_server\n",
    "\n",
    "    # Create the dispatcher and register functions\n",
    "    dispatcher = PathDispatcher()\n",
    "    dispatcher.register('GET', '/hello', hello_world)\n",
    "    dispatcher.register('GET', '/localtime', localtime)\n",
    "\n",
    "    # Launch a basic server\n",
    "    httpd = make_server('', 8080, dispatcher)\n",
    "    print('Serving on port 8080...')\n",
    "    httpd.serve_forever()\n",
    "```\n",
    "\n",
    "要测试下这个服务器，你可以使用一个浏览器或 `urllib` 和它交互。例如：\n",
    "\n",
    "```py\n",
    ">>> u = urlopen('http://localhost:8080/hello?name=Guido')\n",
    ">>> print(u.read().decode('utf-8'))\n",
    "<html>\n",
    "  <head>\n",
    "     <title>Hello Guido</title>\n",
    "   </head>\n",
    "   <body>\n",
    "     <h1>Hello Guido!</h1>\n",
    "   </body>\n",
    "</html>\n",
    "\n",
    ">>> u = urlopen('http://localhost:8080/localtime')\n",
    ">>> print(u.read().decode('utf-8'))\n",
    "<?xml version=\"1.0\"?>\n",
    "<time>\n",
    "  <year>2012</year>\n",
    "  <month>11</month>\n",
    "  <day>24</day>\n",
    "  <hour>14</hour>\n",
    "  <minute>49</minute>\n",
    "  <second>17</second>\n",
    "</time>\n",
    ">>>\n",
    "```\n",
    "\n",
    "`PathDispatcher` 类。 这个分发器仅仅只是管理一个字典，将(方法,路径)对映射到处理器函数上面。 \n",
    "\n",
    "当一个请求到来时，它的方法和路径被提取出来，然后被分发到对应的处理器上面去。 \n",
    "\n",
    "另外，任何查询变量会被解析后放到一个字典中，以 `environ['params']` 形式存储。 后面这个步骤太常见，所以建议你在分发器里面完成，这样可以省掉很多重复代码。\n",
    "\n",
    "使用分发器的时候，你只需简单的创建一个实例，然后通过它注册各种WSGI形式的函数。 编写这些函数应该超级简单了，只要你遵循 `start_response()` 函数的编写规则，并且最后返回字节字符串 `byte` 即可\n",
    "\n",
    "\n"
   ]
  },
  {
   "cell_type": "markdown",
   "metadata": {},
   "source": [
    "## 讨论[REST API 介紹]"
   ]
  },
  {
   "cell_type": "markdown",
   "metadata": {},
   "source": [
    "在编写`REST`接口时，通常都是服务于普通的`HTTP`请求。但是跟那些功能完整的网站相比，你通常只需要处理数据。 这些数据以各种标准格式编码，比如 `XML` 、 `JSON` 或 `CSV`\n",
    "\n",
    "长期运行的程序可能会使用一个`REST API`来实现监控或诊断。 大数据应用程序可以使用`REST`来构建一个数据查询或提取系统\n",
    "\n",
    "`REST API`已经被大量客户端编程环境所支持，比如`Javascript`, `Android`, `iOS`等。 因此，利用这种接口可以让你开发出更加复杂的应用程序\n"
   ]
  },
  {
   "cell_type": "markdown",
   "metadata": {},
   "source": [
    "### WSGI标准[cgi 為例]\n",
    "\n",
    "为了实现一个简单的REST接口，你只需让你的程序代码满足Python的WSGI标准即可。 WSGI被标准库支持，同时也被绝大部分第三方web框架支持\n",
    "\n",
    "```py\n",
    "import cgi\n",
    "\n",
    "def wsgi_app(environ, start_response):\n",
    "    pass\n",
    "```\n",
    "`environ` 属性是一个字典，包含了从`web`服务器如`Apache`(参考 `Internet RFC 3875` )提供的`CGI`接口中获取的值。 要将这些不同的值提取出来，你可以像这么这样写：\n",
    "\n",
    "```py\n",
    "def wsgi_app(environ, start_response):\n",
    "    # environ['REQUEST_METHOD'] 代表请求类型如GET、POST、HEAD等\n",
    "    method = environ['REQUEST_METHOD']\n",
    "    # environ['PATH_INFO'] 表示被请求资源的路径\n",
    "    path = environ['PATH_INFO']\n",
    "    \n",
    "    # cgi.FieldStorage() 可以从请求中提取查询参数\n",
    "    # 并将它们放入一个类字典对象中以便后面使用\n",
    "    # Parse the query parameters\n",
    "    params = cgi.FieldStorage(environ['wsgi.input'], environ=environ)\n",
    "```\n",
    "\n",
    "`start_response` 参数是一个为了初始化一个请求对象而必须被调用的函数。 第一个参数是返回的`HTTP`状态值，第二个参数是一个(名,值)元组列表，用来构建返回的`HTTP`头。例如：\n",
    "\n",
    "```py\n",
    "def wsgi_app(environ, start_response):\n",
    "    pass\n",
    "    start_response('200 OK', [('Content-type', 'text/plain')])\n",
    "```    \n",
    "\n",
    "为了返回数据，一个`WSGI`程序必须返回一个字节字符串序列。可以像下面这样使用一个列表来完成：\n",
    "\n",
    "```py\n",
    "def wsgi_app(environ, start_response):\n",
    "    pass\n",
    "    start_response('200 OK', [('Content-type', 'text/plain')])\n",
    "    resp = []\n",
    "    resp.append(b'Hello World\\n')\n",
    "    resp.append(b'Goodbye!\\n')\n",
    "    return resp\n",
    "```\n",
    "\n",
    "或者，你还可以使用 `yield` ：\n",
    "\n",
    "```py\n",
    "def wsgi_app(environ, start_response):\n",
    "    pass\n",
    "    start_response('200 OK', [('Content-type', 'text/plain')])\n",
    "    yield b'Hello World\\n'\n",
    "    yield b'Goodbye!\\n'\n",
    "```\n",
    "    \n",
    "这里要强调的一点是最后返回的必须是 `byte`\n",
    "\n",
    "尽管`WSGI`程序通常被定义成一个函数，不过你也可以使用类实例来实现，只要它实现了合适的 `__call__()` 方法。例如：\n",
    "\n",
    "```py\n",
    "class WSGIApplication:\n",
    "    def __init__(self):\n",
    "        ...\n",
    "    def __call__(self, environ, start_response)\n",
    "       ...\n",
    "```\n",
    "\n",
    "\n"
   ]
  },
  {
   "cell_type": "markdown",
   "metadata": {},
   "source": [
    "# 通过XML-RPC实现简单的远程调用"
   ]
  },
  {
   "cell_type": "markdown",
   "metadata": {},
   "source": [
    "实现一个远程方法调用的最简单方式是使用`XML-RPC`。下面我们演示一下一个实现了键-值存储功能的简单服务器：\n",
    "\n",
    "```py\n",
    "from xmlrpc.server import SimpleXMLRPCServer\n",
    "\n",
    "class KeyValueServer:\n",
    "    _rpc_methods_ = ['get', 'set', 'delete', 'exists', 'keys']\n",
    "    def __init__(self, address):\n",
    "        self._data = {}\n",
    "        self._serv = SimpleXMLRPCServer(address, allow_none=True)\n",
    "        for name in self._rpc_methods_:\n",
    "            self._serv.register_function(getattr(self, name))\n",
    "\n",
    "    def get(self, name):\n",
    "        return self._data[name]\n",
    "\n",
    "    def set(self, name, value):\n",
    "        self._data[name] = value\n",
    "\n",
    "    def delete(self, name):\n",
    "        del self._data[name]\n",
    "\n",
    "    def exists(self, name):\n",
    "        return name in self._data\n",
    "\n",
    "    def keys(self):\n",
    "        return list(self._data)\n",
    "\n",
    "    def serve_forever(self):\n",
    "        self._serv.serve_forever()\n",
    "\n",
    "# Example\n",
    "if __name__ == '__main__':\n",
    "    kvserv = KeyValueServer(('', 15000))\n",
    "    kvserv.serve_forever()\n",
    "```\n",
    "\n",
    "下面我们从一个客户端机器上面来访问服务器：\n",
    "\n",
    "```py\n",
    ">>> from xmlrpc.client import ServerProxy\n",
    ">>> s = ServerProxy('http://localhost:15000', allow_none=True)\n",
    ">>> s.set('foo', 'bar')\n",
    ">>> s.set('spam', [1, 2, 3])\n",
    ">>> s.keys()\n",
    "['spam', 'foo']\n",
    ">>> s.get('foo')\n",
    "'bar'\n",
    ">>> s.get('spam')\n",
    "[1, 2, 3]\n",
    ">>> s.delete('spam')\n",
    ">>> s.exists('spam')\n",
    "False\n",
    ">>>\n",
    "```\n",
    "\n",
    "\n"
   ]
  },
  {
   "cell_type": "markdown",
   "metadata": {},
   "source": [
    "## 讨论\n",
    "\n",
    "`XML-RPC` 可以让我们很容易的构造一个简单的远程调用服务。你所需要做的仅仅是创建一个服务器实例， 通过它的方法 `register_function()` 来注册函数，然后使用方法 `serve_forever()` 启动它。 在上面我们将这些步骤放在一起写到一个类中，不够这并不是必须的。比如你还可以像下面这样创建一个服务器：\n",
    "\n",
    "```py\n",
    "from xmlrpc.server import SimpleXMLRPCServer\n",
    "def add(x,y):\n",
    "    return x+y\n",
    "\n",
    "serv = SimpleXMLRPCServer(('', 15000))\n",
    "serv.register_function(add)\n",
    "serv.serve_forever()\n",
    "\n",
    "```\n",
    "\n",
    "一般来讲，你不应该将 `XML-RPC` 服务以公共`API`的方式暴露出来。 对于这种情况，通常分布式应用程序会是一个更好的选择。\n",
    "\n",
    "`XML-RP`C的一个缺点是它的性能"
   ]
  },
  {
   "cell_type": "markdown",
   "metadata": {},
   "source": [
    "# [multiprocessing.connection]在不同的Python解释器之间交互"
   ]
  },
  {
   "cell_type": "markdown",
   "metadata": {},
   "source": [
    "通过使用 `multiprocessing.connection` 模块可以很容易的实现解释器之间的通信。 下面是一个简单的应答服务器例子：\n",
    "\n",
    "```py\n",
    "from multiprocessing.connection import Listener\n",
    "import traceback\n",
    "\n",
    "def echo_client(conn):\n",
    "    try:\n",
    "        while True:\n",
    "            msg = conn.recv()\n",
    "            conn.send(msg)\n",
    "    except EOFError:\n",
    "        print('Connection closed')\n",
    "\n",
    "def echo_server(address, authkey):\n",
    "    serv = Listener(address, authkey=authkey)\n",
    "    while True:\n",
    "        try:\n",
    "            client = serv.accept()\n",
    "\n",
    "            echo_client(client)\n",
    "        except Exception:\n",
    "            traceback.print_exc()\n",
    "\n",
    "echo_server(('', 25000), authkey=b'peekaboo')\n",
    "\n",
    "```\n",
    "\n",
    "然后客户端连接服务器并发送消息的简单示例：\n",
    "\n",
    "```py\n",
    ">>> from multiprocessing.connection import Client\n",
    ">>> c = Client(('localhost', 25000), authkey=b'peekaboo')\n",
    ">>> c.send('hello')\n",
    ">>> c.recv()\n",
    "'hello'\n",
    ">>> c.send(42)\n",
    ">>> c.recv()\n",
    "42\n",
    ">>> c.send([1, 2, 3, 4, 5])\n",
    ">>> c.recv()\n",
    "[1, 2, 3, 4, 5]\n",
    ">>>\n",
    "```\n",
    "\n",
    "跟底层 `socket` 不同的是，每个消息会完整保存（每一个通过 `send()` 发送的对象能通过 `recv()` 来完整接受）。 另外，所有对象会通过 `pickle` 序列化。因此，任何兼容 `pickle` 的对象都能在此连接上面被发送和接受\n",
    "\n",
    "## 讨论[簡易消息通信]\n",
    "\n",
    "目前有很多用来实现各种消息传输的包和函数库，比如`ZeroMQ`、`Celery`等。 \n",
    "你还有另外一种选择就是自己在底层`socket`基础之上来实现一个消息传输层。 \n",
    "\n",
    "但是你想要简单一点的方案，那么这时候 `multiprocessing.connection` 就派上用场了。 仅仅使用一些简单的语句即可实现多个解释器之间的消息通信。\n",
    "\n",
    "**UNIX域套接字**\n",
    "\n",
    "```py\n",
    "s = Listener('/tmp/myconn', authkey=b'peekaboo')\n",
    "```\n",
    "\n",
    "**Windows命名管道**\n",
    "\n",
    "```py\n",
    "s = Listener(r'\\\\.\\pipe\\myconn', authkey=b'peekaboo')\n",
    "\n",
    "```\n",
    "\n",
    "一个通用准则是，你不要使用 `multiprocessing` 来实现一个对外的公共服务。 `Client()` 和 `Listener()` 中的 `authkey` 参数用来认证发起连接的终端用户。 如果密钥不对会产生一个异常。\n",
    "\n",
    "此外，该模块最适合用来建立长连接（而不是大量的短连接）， 例如，两个解释器之间启动后就开始建立连接并在处理某个问题过程中会一直保持连接状态。\n",
    "\n",
    "如果你需要对底层连接做更多的控制，比如需要支持超时、非阻塞`I/O`或其他类似的特性， 你最好使用另外的库或者是在高层`socket`上来实现这些特性。"
   ]
  },
  {
   "cell_type": "markdown",
   "metadata": {},
   "source": [
    "# [multiprocessing.connections; pickle]实现远程方法调用"
   ]
  },
  {
   "cell_type": "markdown",
   "metadata": {},
   "source": [
    "你想在一个消息传输层如 `sockets` 、`multiprocessing connections` 或 `ZeroMQ` 的基础之上实现一个简单的远程过程调用（ `RPC` ）\n",
    "\n",
    "**解决方案**\n",
    "\n",
    "将函数请求、参数和返回值使用 `pickle` 编码后，在不同的解释器直接传送 `pickle` 字节字符串，可以很容易的实现 `RPC` 。 下面是一个简单的 `PRC` 处理器，可以被整合到一个服务器中去：\n",
    "\n",
    "要注意的是很多消息层（比如 `multiprocessing` ）已经使用 `pickle` 序列化了数据。 如果是这样的话，对 `pickle.dumps()` 和 `pickle.loads()` 的调用要去掉"
   ]
  },
  {
   "cell_type": "code",
   "execution_count": 14,
   "metadata": {
    "ExecuteTime": {
     "end_time": "2019-09-10T12:36:41.837167Z",
     "start_time": "2019-09-10T12:36:41.820582Z"
    }
   },
   "outputs": [
    {
     "name": "stdout",
     "output_type": "stream",
     "text": [
      "Overwriting rpcserver.py\n"
     ]
    }
   ],
   "source": [
    "%%file rpcserver.py\n",
    "\n",
    "import pickle\n",
    "\n",
    "\n",
    "class RPCHandler:\n",
    "    def __init__(self):\n",
    "        self._functions = { }\n",
    "\n",
    "    def register_function(self, func):\n",
    "        self._functions[func.__name__] = func\n",
    "\n",
    "    def handle_connection(self, connection):\n",
    "        try:\n",
    "            while True:\n",
    "                # Receive a message\n",
    "                func_name, args, kwargs = pickle.loads(connection.recv())\n",
    "                # Run the RPC and send a response\n",
    "                try:\n",
    "                    r = self._functions[func_name](*args,**kwargs)\n",
    "                    connection.send(pickle.dumps(r))\n",
    "                except Exception as e:\n",
    "                    connection.send(pickle.dumps(e))\n",
    "        except EOFError:\n",
    "             pass\n",
    "            \n",
    "            \n",
    "# 要使用这个处理器，你需要将它加入到一个消息服务器中。\n",
    "# 你有很多种选择，但是使用 multiprocessing 库是最简单的。\n",
    "# 下面是一个RPC服务器例子：            \n",
    "            \n",
    "            \n",
    "from multiprocessing.connection import Listener\n",
    "from threading import Thread\n",
    "\n",
    "def rpc_server(handler, address, authkey):\n",
    "    sock = Listener(address, authkey=authkey)\n",
    "    while True:\n",
    "        client = sock.accept()\n",
    "        t = Thread(target=handler.handle_connection, args=(client,))\n",
    "        t.daemon = True\n",
    "        t.start()\n",
    "\n",
    "# Some remote functions\n",
    "def add(x, y):\n",
    "    return x + y\n",
    "\n",
    "def sub(x, y):\n",
    "    return x - y\n",
    "\n",
    "# Register with a handler\n",
    "handler = RPCHandler()\n",
    "handler.register_function(add)\n",
    "handler.register_function(sub)\n",
    "\n",
    "# Run the server\n",
    "print('Run the server')\n",
    "rpc_server(handler, ('localhost', 17000), authkey=b'peekaboo')"
   ]
  },
  {
   "cell_type": "code",
   "execution_count": 15,
   "metadata": {
    "ExecuteTime": {
     "end_time": "2019-09-10T12:37:03.736018Z",
     "start_time": "2019-09-10T12:37:03.724307Z"
    }
   },
   "outputs": [
    {
     "name": "stdout",
     "output_type": "stream",
     "text": [
      "python \"D:\\CODE\\GitHub\\py\\資料結構\\py3-cookbook\\rpcserver.py\"\n",
      "D:\\CODE\\GitHub\\py\\資料結構\\py3-cookbook\n"
     ]
    },
    {
     "data": {
      "text/plain": [
       "<subprocess.Popen at 0x23a3d2813c8>"
      ]
     },
     "execution_count": 15,
     "metadata": {},
     "output_type": "execute_result"
    }
   ],
   "source": [
    "# ============ 開新 CONSOLE ============\n",
    "# ------------ Run the server ------------\n",
    "\n",
    "import os\n",
    "import subprocess\n",
    "# os.path.abspath {本黨位置}: D:\\Google 雲端硬碟\\learn\\線程調用\\TestOS.py\n",
    "# os.path.dirname {目錄} : D:\\Google 雲端硬碟\\learn\\線程調用\n",
    "BASE_DIR = os.path.dirname(os.path.abspath('__file__'))\n",
    "# 透過 cmd 呼叫\n",
    "DIR = os.path.join(BASE_DIR, 'rpcserver.py')\n",
    "cmd = \"python \" + f'\"{DIR}\"'\n",
    "print(cmd,BASE_DIR,sep='\\n')\n",
    "#  CONSOLE混雜\n",
    "#os.system(cmd)\n",
    "#subprocess.call(cmd)\n",
    "\n",
    "#  NEW 一個 CONSOLE\n",
    "subprocess.Popen(cmd, creationflags=subprocess.CREATE_NEW_CONSOLE)"
   ]
  },
  {
   "cell_type": "markdown",
   "metadata": {},
   "source": [
    "为了从一个远程客户端访问服务器，你需要创建一个对应的用来传送请求的`RPC`代理类\n",
    "\n",
    "`RPCHandler` 和 `RPCProxy` 的基本思路是很比较简单的。 如果一个客户端想要调用一个远程函数，比如 `foo(1, 2, z=3)` ,代理类创建一个包含了函数名和参数的元组 `('foo', (1, 2), {'z': 3})` 。 这个元组被 `pickle` 序列化后通过网络连接发生出去。 这一步在 `RPCProxy` 的 `__getattr__()` 方法返回的 `do_rpc()` 闭包中完成"
   ]
  },
  {
   "cell_type": "code",
   "execution_count": 6,
   "metadata": {
    "ExecuteTime": {
     "end_time": "2019-09-10T12:30:30.460206Z",
     "start_time": "2019-09-10T12:30:30.455326Z"
    }
   },
   "outputs": [],
   "source": [
    "import pickle\n",
    "\n",
    "class RPCProxy:\n",
    "    def __init__(self, connection):\n",
    "        self._connection = connection\n",
    "    def __getattr__(self, name):\n",
    "        def do_rpc(*args, **kwargs):\n",
    "            self._connection.send(pickle.dumps((name, args, kwargs)))\n",
    "            result = pickle.loads(self._connection.recv())\n",
    "            if isinstance(result, Exception):\n",
    "                raise result\n",
    "            return result\n",
    "        return do_rpc"
   ]
  },
  {
   "cell_type": "markdown",
   "metadata": {},
   "source": [
    "要使用这个代理类，你需要将其包装到一个服务器的连接上面"
   ]
  },
  {
   "cell_type": "code",
   "execution_count": 12,
   "metadata": {
    "ExecuteTime": {
     "end_time": "2019-09-10T12:35:46.230852Z",
     "start_time": "2019-09-10T12:35:46.221104Z"
    }
   },
   "outputs": [
    {
     "data": {
      "text/plain": [
       "5"
      ]
     },
     "execution_count": 12,
     "metadata": {},
     "output_type": "execute_result"
    },
    {
     "data": {
      "text/plain": [
       "-1"
      ]
     },
     "execution_count": 12,
     "metadata": {},
     "output_type": "execute_result"
    }
   ],
   "source": [
    "from multiprocessing.connection import Client\n",
    "c = Client(('localhost', 17000), authkey=b'peekaboo')\n",
    "proxy = RPCProxy(c)\n",
    "proxy.add(2, 3)\n",
    "\n",
    "proxy.sub(2, 3)"
   ]
  },
  {
   "cell_type": "code",
   "execution_count": 13,
   "metadata": {
    "ExecuteTime": {
     "end_time": "2019-09-10T12:35:58.140864Z",
     "start_time": "2019-09-10T12:35:58.129151Z"
    }
   },
   "outputs": [
    {
     "ename": "TypeError",
     "evalue": "unsupported operand type(s) for -: 'list' and 'int'",
     "output_type": "error",
     "traceback": [
      "\u001b[1;31m---------------------------------------------------------------------------\u001b[0m",
      "\u001b[1;31mTypeError\u001b[0m                                 Traceback (most recent call last)",
      "\u001b[1;32m<ipython-input-13-7bc2bf0a51eb>\u001b[0m in \u001b[0;36m<module>\u001b[1;34m()\u001b[0m\n\u001b[1;32m----> 1\u001b[1;33m \u001b[0mproxy\u001b[0m\u001b[1;33m.\u001b[0m\u001b[0msub\u001b[0m\u001b[1;33m(\u001b[0m\u001b[1;33m[\u001b[0m\u001b[1;36m1\u001b[0m\u001b[1;33m,\u001b[0m \u001b[1;36m2\u001b[0m\u001b[1;33m]\u001b[0m\u001b[1;33m,\u001b[0m \u001b[1;36m4\u001b[0m\u001b[1;33m)\u001b[0m\u001b[1;33m\u001b[0m\u001b[0m\n\u001b[0m",
      "\u001b[1;32m<ipython-input-6-94596c62a8f7>\u001b[0m in \u001b[0;36mdo_rpc\u001b[1;34m(*args, **kwargs)\u001b[0m\n\u001b[0;32m      9\u001b[0m             \u001b[0mresult\u001b[0m \u001b[1;33m=\u001b[0m \u001b[0mpickle\u001b[0m\u001b[1;33m.\u001b[0m\u001b[0mloads\u001b[0m\u001b[1;33m(\u001b[0m\u001b[0mself\u001b[0m\u001b[1;33m.\u001b[0m\u001b[0m_connection\u001b[0m\u001b[1;33m.\u001b[0m\u001b[0mrecv\u001b[0m\u001b[1;33m(\u001b[0m\u001b[1;33m)\u001b[0m\u001b[1;33m)\u001b[0m\u001b[1;33m\u001b[0m\u001b[0m\n\u001b[0;32m     10\u001b[0m             \u001b[1;32mif\u001b[0m \u001b[0misinstance\u001b[0m\u001b[1;33m(\u001b[0m\u001b[0mresult\u001b[0m\u001b[1;33m,\u001b[0m \u001b[0mException\u001b[0m\u001b[1;33m)\u001b[0m\u001b[1;33m:\u001b[0m\u001b[1;33m\u001b[0m\u001b[0m\n\u001b[1;32m---> 11\u001b[1;33m                 \u001b[1;32mraise\u001b[0m \u001b[0mresult\u001b[0m\u001b[1;33m\u001b[0m\u001b[0m\n\u001b[0m\u001b[0;32m     12\u001b[0m             \u001b[1;32mreturn\u001b[0m \u001b[0mresult\u001b[0m\u001b[1;33m\u001b[0m\u001b[0m\n\u001b[0;32m     13\u001b[0m         \u001b[1;32mreturn\u001b[0m \u001b[0mdo_rpc\u001b[0m\u001b[1;33m\u001b[0m\u001b[0m\n",
      "\u001b[1;31mTypeError\u001b[0m: unsupported operand type(s) for -: 'list' and 'int'"
     ]
    }
   ],
   "source": [
    "proxy.sub([1, 2], 4)"
   ]
  },
  {
   "cell_type": "markdown",
   "metadata": {},
   "source": [
    "要注意的是很多消息层（比如 `multiprocessing` ）已经使用 `pickle` 序列化了数据。 如果是这样的话，对 `pickle.dumps()` 和 `pickle.loads()` 的调用要去掉"
   ]
  },
  {
   "cell_type": "markdown",
   "metadata": {},
   "source": [
    "## 讨论"
   ]
  },
  {
   "cell_type": "markdown",
   "metadata": {},
   "source": [
    "作为`pickle`的替代，你也许可以考虑使用`JSON`、`XML`或一些其他的编码格式来序列化消息\n",
    "\n",
    "可以很容易的改写成JSON编码方案。还需要将 `pickle.loads()` 和 `pickle.dumps()` 替换成 `json.loads()` 和 `json.dumps()` 即可：\n",
    "\n",
    "```py\n",
    "# jsonrpcserver.py\n",
    "import json\n",
    "\n",
    "class RPCHandler:\n",
    "    def __init__(self):\n",
    "        self._functions = { }\n",
    "\n",
    "    def register_function(self, func):\n",
    "        self._functions[func.__name__] = func\n",
    "\n",
    "    def handle_connection(self, connection):\n",
    "        try:\n",
    "            while True:\n",
    "                # Receive a message\n",
    "                func_name, args, kwargs = json.loads(connection.recv())\n",
    "                # Run the RPC and send a response\n",
    "                try:\n",
    "                    r = self._functions[func_name](*args,**kwargs)\n",
    "                    connection.send(json.dumps(r))\n",
    "                except Exception as e:\n",
    "                    connection.send(json.dumps(str(e)))\n",
    "        except EOFError:\n",
    "             pass\n",
    "\n",
    "# jsonrpcclient.py\n",
    "import json\n",
    "\n",
    "class RPCProxy:\n",
    "    def __init__(self, connection):\n",
    "        self._connection = connection\n",
    "    def __getattr__(self, name):\n",
    "        def do_rpc(*args, **kwargs):\n",
    "            self._connection.send(json.dumps((name, args, kwargs)))\n",
    "            result = json.loads(self._connection.recv())\n",
    "            return result\n",
    "        return do_rpc\n",
    "```\n"
   ]
  },
  {
   "cell_type": "markdown",
   "metadata": {},
   "source": [
    "# 简单的客户端认证"
   ]
  },
  {
   "cell_type": "markdown",
   "metadata": {},
   "source": [
    "你想在分布式系统中实现一个简单的客户端连接认证功能，又不想像`SSL`那样的复杂\n",
    "\n",
    "可以利用 `hmac` 模块实现一个连接握手，从而实现一个简单而高效的认证过程。下面是代码示例：\n",
    "\n",
    "```py\n",
    "import hmac\n",
    "import os\n",
    "\n",
    "def client_authenticate(connection, secret_key):\n",
    "    '''\n",
    "    Authenticate client to a remote service.\n",
    "    connection represents a network connection.\n",
    "    secret_key is a key known only to both client/server.\n",
    "    '''\n",
    "    message = connection.recv(32)\n",
    "    hash = hmac.new(secret_key, message)\n",
    "    digest = hash.digest()\n",
    "    connection.send(digest)\n",
    "\n",
    "def server_authenticate(connection, secret_key):\n",
    "    '''\n",
    "    Request client authentication.\n",
    "    '''\n",
    "    message = os.urandom(32)\n",
    "    connection.send(message)\n",
    "    hash = hmac.new(secret_key, message)\n",
    "    digest = hash.digest()\n",
    "    response = connection.recv(len(digest))\n",
    "    return hmac.compare_digest(digest,response)\n",
    "```"
   ]
  },
  {
   "cell_type": "code",
   "execution_count": null,
   "metadata": {},
   "outputs": [],
   "source": [
    "\n",
    "import hmac\n",
    "import os\n",
    "\n",
    "def client_authenticate(connection, secret_key):\n",
    "    '''\n",
    "    Authenticate client to a remote service.\n",
    "    connection represents a network connection.\n",
    "    secret_key is a key known only to both client/server.\n",
    "    '''\n",
    "    message = connection.recv(32)\n",
    "    hash = hmac.new(secret_key, message)\n",
    "    digest = hash.digest()\n",
    "    connection.send(digest)\n",
    "\n",
    "def server_authenticate(connection, secret_key):\n",
    "    '''\n",
    "    Request client authentication.\n",
    "    '''\n",
    "    message = os.urandom(32)\n",
    "    connection.send(message)\n",
    "    hash = hmac.new(secret_key, message)\n",
    "    digest = hash.digest()\n",
    "    response = connection.recv(len(digest))\n",
    "    return hmac.compare_digest(digest,response)"
   ]
  },
  {
   "cell_type": "markdown",
   "metadata": {},
   "source": [
    "基本原理是当连接建立后，服务器给客户端发送一个随机的字节消息（这里例子中使用了 `os.urandom()` 返回值）。 \n",
    "\n",
    "客户端和服务器同时利用`hmac`和一个只有双方知道的密钥来计算出一个加密哈希值。\n",
    "\n",
    "然后客户端将它计算出的摘要发送给服务器， 服务器通过比较这个值和自己计算的是否一致来决定接受或拒绝连接。\n",
    "\n",
    "摘要的比较需要使用 `hmac.compare_digest()` 函数。 使用这个函数可以避免遭到时间分析攻击，不要用简单的比较操作符（ `==` ）。\n",
    "\n",
    "为了使用这些函数，你需要将它集成到已有的网络或消息代码中。例如，对于 `sockets` ，服务器代码应该类似下面："
   ]
  },
  {
   "cell_type": "code",
   "execution_count": 4,
   "metadata": {
    "ExecuteTime": {
     "end_time": "2019-09-14T15:02:52.473778Z",
     "start_time": "2019-09-14T15:02:52.462780Z"
    }
   },
   "outputs": [
    {
     "name": "stdout",
     "output_type": "stream",
     "text": [
      "Overwriting hmac_socket.py\n"
     ]
    }
   ],
   "source": [
    "%%file hmac_socket.py\n",
    "\n",
    "import hmac\n",
    "import os\n",
    "\n",
    "def client_authenticate(connection, secret_key):\n",
    "    '''\n",
    "    Authenticate client to a remote service.\n",
    "    connection represents a network connection.\n",
    "    secret_key is a key known only to both client/server.\n",
    "    '''\n",
    "    message = connection.recv(32)\n",
    "    hash = hmac.new(secret_key, message)\n",
    "    digest = hash.digest()\n",
    "    connection.send(digest)\n",
    "\n",
    "def server_authenticate(connection, secret_key):\n",
    "    '''\n",
    "    Request client authentication.\n",
    "    '''\n",
    "    message = os.urandom(32)\n",
    "    connection.send(message)\n",
    "    hash = hmac.new(secret_key, message)\n",
    "    digest = hash.digest()\n",
    "    response = connection.recv(len(digest))\n",
    "    return hmac.compare_digest(digest,response)\n",
    "\n",
    "\n",
    "from socket import socket, AF_INET, SOCK_STREAM\n",
    "\n",
    "secret_key = b'peekaboo'\n",
    "def echo_handler(client_sock):\n",
    "    if not server_authenticate(client_sock, secret_key):\n",
    "        client_sock.close()\n",
    "        return\n",
    "    while True:\n",
    "\n",
    "        msg = client_sock.recv(8192)\n",
    "        if not msg:\n",
    "            break\n",
    "        client_sock.sendall(msg)\n",
    "\n",
    "def echo_server(address):\n",
    "    s = socket(AF_INET, SOCK_STREAM)\n",
    "    s.bind(address)\n",
    "    s.listen(5)\n",
    "    while True:\n",
    "        c,a = s.accept()\n",
    "        echo_handler(c)\n",
    "\n",
    "echo_server(('', 18000))\n"
   ]
  },
  {
   "cell_type": "code",
   "execution_count": 33,
   "metadata": {
    "ExecuteTime": {
     "end_time": "2019-09-16T15:16:51.151594Z",
     "start_time": "2019-09-16T15:16:51.141835Z"
    }
   },
   "outputs": [
    {
     "name": "stdout",
     "output_type": "stream",
     "text": [
      "python \"D:\\CODE\\GitHub\\py\\資料結構\\py3-cookbook\\hmac_socket.py\"\n",
      "D:\\CODE\\GitHub\\py\\資料結構\\py3-cookbook\n"
     ]
    },
    {
     "data": {
      "text/plain": [
       "<subprocess.Popen at 0x267eb4ed550>"
      ]
     },
     "execution_count": 33,
     "metadata": {},
     "output_type": "execute_result"
    }
   ],
   "source": [
    "# ============ 開新 CONSOLE ============\n",
    "# ------------ Run the server ------------\n",
    "\n",
    "import os\n",
    "import subprocess\n",
    "# os.path.abspath {本黨位置}: D:\\Google 雲端硬碟\\learn\\線程調用\\TestOS.py\n",
    "# os.path.dirname {目錄} : D:\\Google 雲端硬碟\\learn\\線程調用\n",
    "BASE_DIR = os.path.dirname(os.path.abspath('__file__'))\n",
    "# 透過 cmd 呼叫\n",
    "DIR = os.path.join(BASE_DIR, 'hmac_socket.py')\n",
    "cmd = \"python \" + f'\"{DIR}\"'\n",
    "print(cmd,BASE_DIR,sep='\\n')\n",
    "#  CONSOLE混雜\n",
    "#os.system(cmd)\n",
    "#subprocess.call(cmd)\n",
    "\n",
    "#  NEW 一個 CONSOLE\n",
    "subprocess.Popen(cmd, creationflags=subprocess.CREATE_NEW_CONSOLE)"
   ]
  },
  {
   "cell_type": "code",
   "execution_count": 11,
   "metadata": {
    "ExecuteTime": {
     "end_time": "2019-09-13T08:19:35.544243Z",
     "start_time": "2019-09-13T08:19:35.539365Z"
    }
   },
   "outputs": [
    {
     "data": {
      "text/plain": [
       "1"
      ]
     },
     "execution_count": 11,
     "metadata": {},
     "output_type": "execute_result"
    }
   ],
   "source": [
    "int(n**0.5)**2"
   ]
  },
  {
   "cell_type": "code",
   "execution_count": 34,
   "metadata": {
    "ExecuteTime": {
     "end_time": "2019-09-16T15:16:58.884012Z",
     "start_time": "2019-09-16T15:16:58.780049Z"
    }
   },
   "outputs": [
    {
     "data": {
      "text/plain": [
       "11"
      ]
     },
     "execution_count": 34,
     "metadata": {},
     "output_type": "execute_result"
    },
    {
     "name": "stdout",
     "output_type": "stream",
     "text": [
      "b'Hello World'\n"
     ]
    }
   ],
   "source": [
    "import hmac\n",
    "import os\n",
    "\n",
    "def client_authenticate(connection, secret_key):\n",
    "    '''\n",
    "    Authenticate client to a remote service.\n",
    "    connection represents a network connection.\n",
    "    secret_key is a key known only to both client/server.\n",
    "    '''\n",
    "    message = connection.recv(32)\n",
    "    hash = hmac.new(secret_key, message)\n",
    "    digest = hash.digest()\n",
    "    connection.send(digest)\n",
    "\n",
    "\n",
    "from socket import socket, AF_INET, SOCK_STREAM\n",
    "\n",
    "secret_key = b'peekaboo'\n",
    "\n",
    "s = socket(AF_INET, SOCK_STREAM)\n",
    "s.connect(('localhost', 18000))\n",
    "\n",
    "client_authenticate(s, secret_key)\n",
    "\n",
    "s.send(b'Hello World')\n",
    "resp = s.recv(1024)\n",
    "print(resp)"
   ]
  },
  {
   "cell_type": "markdown",
   "metadata": {},
   "source": [
    "`hmac` 认证的一个常见使用场景是内部消息通信系统和进程间通信\n",
    "\n",
    "事实上，基于 hmac 的认证被 `multiprocessing` 模块使用来实现子进程直接的通信\n",
    "\n",
    "还有一点需要强调的是连接认证和加密是两码事。 \n",
    "\n",
    "认证成功之后的通信消息是以明文形式发送的，任何人只要想监听这个连接线路都能看到消息（尽管双方的密钥不会被传输）"
   ]
  },
  {
   "cell_type": "code",
   "execution_count": 35,
   "metadata": {
    "ExecuteTime": {
     "end_time": "2019-09-16T15:17:12.945319Z",
     "start_time": "2019-09-16T15:17:12.941458Z"
    }
   },
   "outputs": [
    {
     "name": "stdout",
     "output_type": "stream",
     "text": [
      "b'Hello World'\n"
     ]
    }
   ],
   "source": [
    "print(resp)"
   ]
  },
  {
   "cell_type": "markdown",
   "metadata": {},
   "source": [
    "# [.pem 檔未取得(SSL證書) bash 討論]11.10 在网络服务中加入SSL\n",
    "\n",
    "https://python3-cookbook.readthedocs.io/zh_CN/latest/c11/p10_add_ssl_to_network_services.html"
   ]
  },
  {
   "cell_type": "markdown",
   "metadata": {},
   "source": [
    "`ssl` 模块能为底层 `socket` 连接添加 `SSL` 的支持。 `ssl.wrap_socket()` 函数接受一个已存在的 `socket` 作为参数并使用 `SSL` 层来包装它。 例如，下面是一个简单的应答服务器，能在服务器端为所有客户端连接做认证。\n",
    "\n",
    "```py\n",
    "from socket import socket, AF_INET, SOCK_STREAM\n",
    "import ssl\n",
    "\n",
    "KEYFILE = 'server_key.pem'   # Private key of the server\n",
    "CERTFILE = 'server_cert.pem' # Server certificate (given to client)\n",
    "\n",
    "def echo_client(s):\n",
    "    while True:\n",
    "        data = s.recv(8192)\n",
    "        if data == b'':\n",
    "            break\n",
    "        s.send(data)\n",
    "    s.close()\n",
    "    print('Connection closed')\n",
    "\n",
    "def echo_server(address):\n",
    "    s = socket(AF_INET, SOCK_STREAM)\n",
    "    s.bind(address)\n",
    "    s.listen(1)\n",
    "\n",
    "    # Wrap with an SSL layer requiring client certs\n",
    "    s_ssl = ssl.wrap_socket(s,\n",
    "                            keyfile=KEYFILE,\n",
    "                            certfile=CERTFILE,\n",
    "                            server_side=True\n",
    "                            )\n",
    "    # Wait for connections\n",
    "    while True:\n",
    "        try:\n",
    "            c,a = s_ssl.accept()\n",
    "            print('Got connection', c, a)\n",
    "            echo_client(c)\n",
    "        except Exception as e:\n",
    "            print('{}: {}'.format(e.__class__.__name__, e))\n",
    "\n",
    "echo_server(('', 20000))\n",
    "```\n"
   ]
  },
  {
   "cell_type": "code",
   "execution_count": 41,
   "metadata": {
    "ExecuteTime": {
     "end_time": "2019-09-16T15:23:06.252731Z",
     "start_time": "2019-09-16T15:23:06.238091Z"
    }
   },
   "outputs": [
    {
     "name": "stdout",
     "output_type": "stream",
     "text": [
      "Overwriting sslsocket.py\n"
     ]
    }
   ],
   "source": [
    "\n",
    "\n",
    "from socket import socket, AF_INET, SOCK_STREAM\n",
    "import ssl\n",
    "\n",
    "KEYFILE = 'server_key.pem'   # Private key of the server\n",
    "CERTFILE = 'server_cert.pem' # Server certificate (given to client)\n",
    "\n",
    "def echo_client(s):\n",
    "    while True:\n",
    "        data = s.recv(8192)\n",
    "        if data == b'':\n",
    "            break\n",
    "        s.send(data)\n",
    "    s.close()\n",
    "    print('Connection closed')\n",
    "\n",
    "def echo_server(address):\n",
    "    s = socket(AF_INET, SOCK_STREAM)\n",
    "    s.bind(address)\n",
    "    s.listen(1)\n",
    "\n",
    "    # Wrap with an SSL layer requiring client certs\n",
    "    s_ssl = ssl.wrap_socket(s,\n",
    "                            keyfile=KEYFILE,\n",
    "                            certfile=CERTFILE,\n",
    "                            server_side=True\n",
    "                            )\n",
    "    # Wait for connections\n",
    "    while True:\n",
    "        try:\n",
    "            c,a = s_ssl.accept()\n",
    "            print('Got connection', c, a)\n",
    "            echo_client(c)\n",
    "        except Exception as e:\n",
    "            print('{}: {}'.format(e.__class__.__name__, e))\n",
    "\n",
    "echo_server(('', 20000))\n"
   ]
  },
  {
   "cell_type": "code",
   "execution_count": 40,
   "metadata": {
    "ExecuteTime": {
     "end_time": "2019-09-16T15:22:03.355850Z",
     "start_time": "2019-09-16T15:22:03.347065Z"
    }
   },
   "outputs": [
    {
     "name": "stdout",
     "output_type": "stream",
     "text": [
      "python \"D:\\CODE\\GitHub\\py\\資料結構\\py3-cookbook\\sslsocket.py\"\n",
      "D:\\CODE\\GitHub\\py\\資料結構\\py3-cookbook\n"
     ]
    },
    {
     "data": {
      "text/plain": [
       "<subprocess.Popen at 0x267eb504550>"
      ]
     },
     "execution_count": 40,
     "metadata": {},
     "output_type": "execute_result"
    }
   ],
   "source": [
    "# ============ 開新 CONSOLE ============\n",
    "# ------------ Run the server ------------\n",
    "\n",
    "import os\n",
    "import subprocess\n",
    "# os.path.abspath {本黨位置}: D:\\Google 雲端硬碟\\learn\\線程調用\\TestOS.py\n",
    "# os.path.dirname {目錄} : D:\\Google 雲端硬碟\\learn\\線程調用\n",
    "BASE_DIR = os.path.dirname(os.path.abspath('__file__'))\n",
    "# 透過 cmd 呼叫\n",
    "DIR = os.path.join(BASE_DIR, 'sslsocket.py')\n",
    "cmd = \"python \" + f'\"{DIR}\"'\n",
    "print(cmd,BASE_DIR,sep='\\n')\n",
    "#  CONSOLE混雜\n",
    "#os.system(cmd)\n",
    "#subprocess.call(cmd)\n",
    "\n",
    "#  NEW 一個 CONSOLE\n",
    "subprocess.Popen(cmd, creationflags=subprocess.CREATE_NEW_CONSOLE)"
   ]
  },
  {
   "cell_type": "markdown",
   "metadata": {},
   "source": [
    "# 11 进程间传递Socket文件描述符"
   ]
  },
  {
   "cell_type": "markdown",
   "metadata": {},
   "source": [
    "一旦一个连接被创建，你可以使用 `multiprocessing.reduction` 中的 `send_handle()` 和 `recv_handle()` 函数在不同的处理器直接传递文件描述符"
   ]
  },
  {
   "cell_type": "code",
   "execution_count": 42,
   "metadata": {
    "ExecuteTime": {
     "end_time": "2019-09-16T15:49:59.670769Z",
     "start_time": "2019-09-16T15:49:59.446954Z"
    }
   },
   "outputs": [],
   "source": [
    "import multiprocessing\n",
    "from multiprocessing.reduction import recv_handle, send_handle\n",
    "import socket\n",
    "\n",
    "def worker(in_p, out_p):\n",
    "    out_p.close()\n",
    "    while True:\n",
    "        fd = recv_handle(in_p)\n",
    "        print('CHILD: GOT FD', fd)\n",
    "        with socket.socket(socket.AF_INET, socket.SOCK_STREAM, fileno=fd) as s:\n",
    "            while True:\n",
    "                msg = s.recv(1024)\n",
    "                if not msg:\n",
    "                    break\n",
    "                print('CHILD: RECV {!r}'.format(msg))\n",
    "                s.send(msg)\n",
    "\n",
    "def server(address, in_p, out_p, worker_pid):\n",
    "    in_p.close()\n",
    "    s = socket.socket(socket.AF_INET, socket.SOCK_STREAM)\n",
    "    s.setsockopt(socket.SOL_SOCKET, socket.SO_REUSEADDR, True)\n",
    "    s.bind(address)\n",
    "    s.listen(1)\n",
    "    while True:\n",
    "        client, addr = s.accept()\n",
    "        print('SERVER: Got connection from', addr)\n",
    "        send_handle(out_p, client.fileno(), worker_pid)\n",
    "        client.close()\n",
    "\n",
    "if __name__ == '__main__':\n",
    "    c1, c2 = multiprocessing.Pipe()\n",
    "    worker_p = multiprocessing.Process(target=worker, args=(c1,c2))\n",
    "    worker_p.start()\n",
    "\n",
    "    server_p = multiprocessing.Process(target=server,\n",
    "                  args=(('', 15000), c1, c2, worker_p.pid))\n",
    "    server_p.start()\n",
    "\n",
    "    c1.close()\n",
    "    c2.close()"
   ]
  },
  {
   "cell_type": "code",
   "execution_count": null,
   "metadata": {},
   "outputs": [],
   "source": []
  },
  {
   "cell_type": "code",
   "execution_count": 43,
   "metadata": {
    "ExecuteTime": {
     "end_time": "2019-09-16T15:51:18.562721Z",
     "start_time": "2019-09-16T15:51:18.548776Z"
    }
   },
   "outputs": [
    {
     "ename": "ValueError",
     "evalue": "invalid literal for int() with base 10: 'C:\\\\Users\\\\po390\\\\AppData\\\\Roaming\\\\jupyter\\\\runtime\\\\kernel-af7b45b0-cf64-4d0c-8ccc-9f17d7ed7465.json'",
     "output_type": "error",
     "traceback": [
      "\u001b[1;31m---------------------------------------------------------------------------\u001b[0m",
      "\u001b[1;31mValueError\u001b[0m                                Traceback (most recent call last)",
      "\u001b[1;32m<ipython-input-43-100b8c42c8f9>\u001b[0m in \u001b[0;36m<module>\u001b[1;34m()\u001b[0m\n\u001b[0;32m     37\u001b[0m         \u001b[1;32mraise\u001b[0m \u001b[0mSystemExit\u001b[0m\u001b[1;33m(\u001b[0m\u001b[1;36m1\u001b[0m\u001b[1;33m)\u001b[0m\u001b[1;33m\u001b[0m\u001b[0m\n\u001b[0;32m     38\u001b[0m \u001b[1;33m\u001b[0m\u001b[0m\n\u001b[1;32m---> 39\u001b[1;33m     \u001b[0mserver\u001b[0m\u001b[1;33m(\u001b[0m\u001b[0msys\u001b[0m\u001b[1;33m.\u001b[0m\u001b[0margv\u001b[0m\u001b[1;33m[\u001b[0m\u001b[1;36m1\u001b[0m\u001b[1;33m]\u001b[0m\u001b[1;33m,\u001b[0m \u001b[0mint\u001b[0m\u001b[1;33m(\u001b[0m\u001b[0msys\u001b[0m\u001b[1;33m.\u001b[0m\u001b[0margv\u001b[0m\u001b[1;33m[\u001b[0m\u001b[1;36m2\u001b[0m\u001b[1;33m]\u001b[0m\u001b[1;33m)\u001b[0m\u001b[1;33m)\u001b[0m\u001b[1;33m\u001b[0m\u001b[0m\n\u001b[0m",
      "\u001b[1;31mValueError\u001b[0m: invalid literal for int() with base 10: 'C:\\\\Users\\\\po390\\\\AppData\\\\Roaming\\\\jupyter\\\\runtime\\\\kernel-af7b45b0-cf64-4d0c-8ccc-9f17d7ed7465.json'"
     ]
    }
   ],
   "source": [
    "# server.py\n",
    "import socket\n",
    "\n",
    "import struct\n",
    "\n",
    "def send_fd(sock, fd):\n",
    "    '''\n",
    "    Send a single file descriptor.\n",
    "    '''\n",
    "    sock.sendmsg([b'x'],\n",
    "                 [(socket.SOL_SOCKET, socket.SCM_RIGHTS, struct.pack('i', fd))])\n",
    "    ack = sock.recv(2)\n",
    "    assert ack == b'OK'\n",
    "\n",
    "def server(work_address, port):\n",
    "    # Wait for the worker to connect\n",
    "    work_serv = socket.socket(socket.AF_UNIX, socket.SOCK_STREAM)\n",
    "    work_serv.bind(work_address)\n",
    "    work_serv.listen(1)\n",
    "    worker, addr = work_serv.accept()\n",
    "\n",
    "    # Now run a TCP/IP server and send clients to worker\n",
    "    s = socket.socket(socket.AF_INET, socket.SOCK_STREAM)\n",
    "    s.setsockopt(socket.SOL_SOCKET, socket.SO_REUSEADDR, True)\n",
    "    s.bind(('',port))\n",
    "    s.listen(1)\n",
    "    while True:\n",
    "        client, addr = s.accept()\n",
    "        print('SERVER: Got connection from', addr)\n",
    "        send_fd(worker, client.fileno())\n",
    "        client.close()\n",
    "\n",
    "if __name__ == '__main__':\n",
    "    import sys\n",
    "    if len(sys.argv) != 3:\n",
    "        print('Usage: server.py server_address port', file=sys.stderr)\n",
    "        raise SystemExit(1)\n",
    "\n",
    "    server(sys.argv[1], int(sys.argv[2]))"
   ]
  },
  {
   "cell_type": "code",
   "execution_count": null,
   "metadata": {},
   "outputs": [],
   "source": []
  },
  {
   "cell_type": "markdown",
   "metadata": {},
   "source": [
    "# 12 理解事件驱动的IO"
   ]
  },
  {
   "cell_type": "markdown",
   "metadata": {},
   "source": [
    "事件驱动 `I/O` 本质上来讲就是将基本 `I/O` 操作（比如读和写）转化为你程序需要处理的事件。 例如，当数据在某个 `socket` 上被接受后，它会转换成一个 `receive` 事件，然后被你定义的回调方法或函数来处理。 作为一个可能的起始点，一个事件驱动的框架可能会以一个实现了一系列基本事件处理器方法的基类开始："
   ]
  },
  {
   "cell_type": "code",
   "execution_count": 26,
   "metadata": {
    "ExecuteTime": {
     "end_time": "2019-09-17T16:03:43.434674Z",
     "start_time": "2019-09-17T16:03:43.415716Z"
    }
   },
   "outputs": [
    {
     "name": "stdout",
     "output_type": "stream",
     "text": [
      "Writing eventIO.py\n"
     ]
    }
   ],
   "source": [
    "%%file eventIO.py\n",
    "\n",
    "# ======= 事件处理器 =========\n",
    "# 基本事件处理器方法的基类\n",
    "\n",
    "class EventHandler:\n",
    "    def fileno(self):\n",
    "        'Return the associated file descriptor'\n",
    "        raise NotImplemented('must implement')\n",
    "\n",
    "    def wants_to_receive(self):\n",
    "        'Return True if receiving is allowed'\n",
    "        return False\n",
    "\n",
    "    def handle_receive(self):\n",
    "        'Perform the receive operation'\n",
    "        pass\n",
    "\n",
    "    def wants_to_send(self):\n",
    "        'Return True if sending is requested'\n",
    "        return False\n",
    "\n",
    "    def handle_send(self):\n",
    "        'Send outgoing data'\n",
    "        pass\n",
    "    \n",
    "\n",
    "# ============ 事件循环 =============\n",
    "# 放入类似下面这样的事件循环中：    \n",
    "    \n",
    "import select\n",
    "\n",
    "def event_loop(handlers):\n",
    "    while True:\n",
    "        wants_recv = [h for h in handlers if h.wants_to_receive()]\n",
    "        wants_send = [h for h in handlers if h.wants_to_send()]\n",
    "        can_recv, can_send, _ = select.select(wants_recv, wants_send, [])\n",
    "        for h in can_recv:\n",
    "            h.handle_receive()\n",
    "        for h in can_send:\n",
    "            h.handle_send()\n",
    "\n",
    "# 关键部分是 select() 调用，它会不断轮询文件描述符从而激活它     \n",
    "# 在调用 select() 之前，事件循环会询问所有的处理器来决定哪一个想接受或发生\n",
    "# 然后它将结果列表提供给 select()\n",
    "# 然后 select() 返回准备接受或发送的对象组成的列表\n",
    "# 然后相应的 handle_receive() 或 handle_send() 方法被触发\n",
    "            \n",
    "\n",
    "# ========= 基于UDP网络 ============\n",
    "# 创建(繼承) EventHandler 的实例\n",
    "# 調用 event loop    \n",
    "\n",
    "import socket\n",
    "import time\n",
    "\n",
    "class UDPServer(EventHandler):\n",
    "    def __init__(self, address):\n",
    "        self.sock = socket.socket(socket.AF_INET, socket.SOCK_DGRAM)\n",
    "        self.sock.bind(address)\n",
    "\n",
    "    def fileno(self):\n",
    "        return self.sock.fileno()\n",
    "\n",
    "    def wants_to_receive(self):\n",
    "        return True\n",
    "\n",
    "class UDPTimeServer(UDPServer):\n",
    "    def handle_receive(self):\n",
    "        msg, addr = self.sock.recvfrom(1)\n",
    "        self.sock.sendto(time.ctime().encode('ascii'), addr)\n",
    "\n",
    "class UDPEchoServer(UDPServer):\n",
    "    def handle_receive(self):\n",
    "        msg, addr = self.sock.recvfrom(8192)\n",
    "        self.sock.sendto(msg, addr)\n",
    "\n",
    "if __name__ == '__main__':\n",
    "    handlers = [ UDPTimeServer(('',14000)), UDPEchoServer(('',15000))  ]\n",
    "    event_loop(handlers)"
   ]
  },
  {
   "cell_type": "code",
   "execution_count": 29,
   "metadata": {
    "ExecuteTime": {
     "end_time": "2019-09-18T04:24:50.263793Z",
     "start_time": "2019-09-18T04:24:50.151497Z"
    }
   },
   "outputs": [
    {
     "name": "stdout",
     "output_type": "stream",
     "text": [
      "python \"D:\\CODE\\GitHub\\py\\資料結構\\py3-cookbook\\eventIO.py\"\n",
      "D:\\CODE\\GitHub\\py\\資料結構\\py3-cookbook\n"
     ]
    },
    {
     "data": {
      "text/plain": [
       "<subprocess.Popen at 0x213926e7cc0>"
      ]
     },
     "execution_count": 29,
     "metadata": {},
     "output_type": "execute_result"
    }
   ],
   "source": [
    "# ============ 開新 CONSOLE ============\n",
    "# ------------ Run the server ------------\n",
    "\n",
    "import os\n",
    "import subprocess\n",
    "# os.path.abspath {本黨位置}: D:\\Google 雲端硬碟\\learn\\線程調用\\TestOS.py\n",
    "# os.path.dirname {目錄} : D:\\Google 雲端硬碟\\learn\\線程調用\n",
    "BASE_DIR = os.path.dirname(os.path.abspath('__file__'))\n",
    "# 透過 cmd 呼叫\n",
    "DIR = os.path.join(BASE_DIR, 'eventIO.py')\n",
    "cmd = \"python \" + f'\"{DIR}\"'\n",
    "print(cmd,BASE_DIR,sep='\\n')\n",
    "#  CONSOLE混雜\n",
    "#os.system(cmd)\n",
    "#subprocess.call(cmd)\n",
    "\n",
    "#  NEW 一個 CONSOLE\n",
    "subprocess.Popen(cmd, creationflags=subprocess.CREATE_NEW_CONSOLE)"
   ]
  },
  {
   "cell_type": "markdown",
   "metadata": {},
   "source": [
    "測試 `Server`"
   ]
  },
  {
   "cell_type": "code",
   "execution_count": 1,
   "metadata": {
    "ExecuteTime": {
     "end_time": "2019-09-18T04:27:47.966566Z",
     "start_time": "2019-09-18T04:27:47.915845Z"
    }
   },
   "outputs": [
    {
     "data": {
      "text/plain": [
       "0"
      ]
     },
     "execution_count": 1,
     "metadata": {},
     "output_type": "execute_result"
    },
    {
     "data": {
      "text/plain": [
       "(b'Wed Sep 18 12:27:47 2019', ('127.0.0.1', 14000))"
      ]
     },
     "execution_count": 1,
     "metadata": {},
     "output_type": "execute_result"
    },
    {
     "data": {
      "text/plain": [
       "5"
      ]
     },
     "execution_count": 1,
     "metadata": {},
     "output_type": "execute_result"
    },
    {
     "data": {
      "text/plain": [
       "(b'Hello', ('127.0.0.1', 15000))"
      ]
     },
     "execution_count": 1,
     "metadata": {},
     "output_type": "execute_result"
    },
    {
     "data": {
      "text/plain": [
       "2"
      ]
     },
     "execution_count": 1,
     "metadata": {},
     "output_type": "execute_result"
    },
    {
     "data": {
      "text/plain": [
       "4"
      ]
     },
     "execution_count": 1,
     "metadata": {},
     "output_type": "execute_result"
    },
    {
     "data": {
      "text/plain": [
       "4"
      ]
     },
     "execution_count": 1,
     "metadata": {},
     "output_type": "execute_result"
    },
    {
     "data": {
      "text/plain": [
       "(b'Hi', ('127.0.0.1', 15000))"
      ]
     },
     "execution_count": 1,
     "metadata": {},
     "output_type": "execute_result"
    },
    {
     "data": {
      "text/plain": [
       "(b'Hi12', ('127.0.0.1', 15000))"
      ]
     },
     "execution_count": 1,
     "metadata": {},
     "output_type": "execute_result"
    },
    {
     "data": {
      "text/plain": [
       "(b'Hi34', ('127.0.0.1', 15000))"
      ]
     },
     "execution_count": 1,
     "metadata": {},
     "output_type": "execute_result"
    }
   ],
   "source": [
    "from socket import *\n",
    "s = socket(AF_INET, SOCK_DGRAM)\n",
    "s.sendto(b'',('localhost',14000))\n",
    "s.recvfrom(128)\n",
    "\n",
    "s.sendto(b'Hello',('localhost',15000))\n",
    "s.recvfrom(128)\n",
    "\n",
    "s.sendto(b'Hi',('localhost',15000))\n",
    "s.sendto(b'Hi12',('localhost',15000))\n",
    "s.sendto(b'Hi34',('localhost',15000))\n",
    "s.recvfrom(128)\n",
    "s.recvfrom(128)\n",
    "s.recvfrom(128)\n"
   ]
  },
  {
   "cell_type": "markdown",
   "metadata": {},
   "source": [
    "## TCP\n",
    "\n",
    "不知如何使用，自己參考(2.創建TCP)創建Client，可以發送接收訊息\n",
    "\n",
    "但僅此而已，沒有事件驅動的樣子"
   ]
  },
  {
   "cell_type": "code",
   "execution_count": 3,
   "metadata": {
    "ExecuteTime": {
     "end_time": "2019-09-18T04:32:29.782617Z",
     "start_time": "2019-09-18T04:32:29.769930Z"
    }
   },
   "outputs": [
    {
     "name": "stdout",
     "output_type": "stream",
     "text": [
      "Writing __init__.py\n"
     ]
    }
   ],
   "source": [
    "%%file __init__.py\n",
    "\n",
    "# for eventIOTCP.py\n",
    "# import eventIO"
   ]
  },
  {
   "cell_type": "code",
   "execution_count": 8,
   "metadata": {
    "ExecuteTime": {
     "end_time": "2019-09-18T04:37:03.106133Z",
     "start_time": "2019-09-18T04:37:03.092469Z"
    }
   },
   "outputs": [
    {
     "name": "stdout",
     "output_type": "stream",
     "text": [
      "Overwriting eventIOTCP.py\n"
     ]
    }
   ],
   "source": [
    "%%file eventIOTCP.py\n",
    "\n",
    "import socket\n",
    "import select\n",
    "from eventIO import EventHandler, event_loop\n",
    "\n",
    "\n",
    "class TCPServer(EventHandler):\n",
    "    def __init__(self, address, client_handler, handler_list):\n",
    "        self.sock = socket.socket(socket.AF_INET, socket.SOCK_STREAM)\n",
    "        self.sock.setsockopt(socket.SOL_SOCKET, socket.SO_REUSEADDR, True)\n",
    "        self.sock.bind(address)\n",
    "        self.sock.listen(1)\n",
    "        self.client_handler = client_handler\n",
    "        self.handler_list = handler_list\n",
    "\n",
    "    def fileno(self):\n",
    "        return self.sock.fileno()\n",
    "\n",
    "    def wants_to_receive(self):\n",
    "        return True\n",
    "\n",
    "    def handle_receive(self):\n",
    "        client, addr = self.sock.accept()\n",
    "        # Add the client to the event loop's handler list\n",
    "        self.handler_list.append(self.client_handler(client, self.handler_list))\n",
    "\n",
    "class TCPClient(EventHandler):\n",
    "    def __init__(self, sock, handler_list):\n",
    "        self.sock = sock\n",
    "        self.handler_list = handler_list\n",
    "        self.outgoing = bytearray()\n",
    "\n",
    "    def fileno(self):\n",
    "        return self.sock.fileno()\n",
    "\n",
    "    def close(self):\n",
    "        self.sock.close()\n",
    "        # Remove myself from the event loop's handler list\n",
    "        self.handler_list.remove(self)\n",
    "\n",
    "    def wants_to_send(self):\n",
    "        return True if self.outgoing else False\n",
    "\n",
    "    def handle_send(self):\n",
    "        nsent = self.sock.send(self.outgoing)\n",
    "        self.outgoing = self.outgoing[nsent:]\n",
    "\n",
    "class TCPEchoClient(TCPClient):\n",
    "    def wants_to_receive(self):\n",
    "        return True\n",
    "\n",
    "    def handle_receive(self):\n",
    "        data = self.sock.recv(8192)\n",
    "        if not data:\n",
    "            self.close()\n",
    "        else:\n",
    "            self.outgoing.extend(data)\n",
    "\n",
    "if __name__ == '__main__':\n",
    "    handlers = []\n",
    "    handlers.append(TCPServer(('',16000), TCPEchoClient, handlers))\n",
    "    event_loop(handlers)\n",
    "\n"
   ]
  },
  {
   "cell_type": "code",
   "execution_count": 13,
   "metadata": {
    "ExecuteTime": {
     "end_time": "2019-09-18T04:52:57.859661Z",
     "start_time": "2019-09-18T04:52:57.850877Z"
    }
   },
   "outputs": [
    {
     "name": "stdout",
     "output_type": "stream",
     "text": [
      "python \"D:\\CODE\\GitHub\\py\\資料結構\\py3-cookbook\\eventIOTCP.py\"\n",
      "D:\\CODE\\GitHub\\py\\資料結構\\py3-cookbook\n"
     ]
    },
    {
     "data": {
      "text/plain": [
       "<subprocess.Popen at 0x2bf43f3dcc0>"
      ]
     },
     "execution_count": 13,
     "metadata": {},
     "output_type": "execute_result"
    }
   ],
   "source": [
    "# ============ 開新 CONSOLE ============\n",
    "# ------------ Run the server ------------\n",
    "\n",
    "import os\n",
    "import subprocess\n",
    "# os.path.abspath {本黨位置}: D:\\Google 雲端硬碟\\learn\\線程調用\\TestOS.py\n",
    "# os.path.dirname {目錄} : D:\\Google 雲端硬碟\\learn\\線程調用\n",
    "BASE_DIR = os.path.dirname(os.path.abspath('__file__'))\n",
    "# 透過 cmd 呼叫\n",
    "DIR = os.path.join(BASE_DIR, 'eventIOTCP.py')\n",
    "cmd = \"python \" + f'\"{DIR}\"'\n",
    "print(cmd,BASE_DIR,sep='\\n')\n",
    "#  CONSOLE混雜\n",
    "#os.system(cmd)\n",
    "#subprocess.call(cmd)\n",
    "\n",
    "#  NEW 一個 CONSOLE\n",
    "subprocess.Popen(cmd, creationflags=subprocess.CREATE_NEW_CONSOLE)"
   ]
  },
  {
   "cell_type": "code",
   "execution_count": 14,
   "metadata": {
    "ExecuteTime": {
     "end_time": "2019-09-18T04:53:00.200310Z",
     "start_time": "2019-09-18T04:53:00.192509Z"
    }
   },
   "outputs": [
    {
     "data": {
      "text/plain": [
       "9"
      ]
     },
     "execution_count": 14,
     "metadata": {},
     "output_type": "execute_result"
    },
    {
     "name": "stdout",
     "output_type": "stream",
     "text": [
      "recv: 123123123\n"
     ]
    }
   ],
   "source": [
    "import socket\n",
    "\n",
    "client = socket.socket(socket.AF_INET,socket.SOCK_STREAM) \n",
    "# 建立一个链接\n",
    "client.connect(('localhost',16000)) \n",
    "\n",
    "msg = '123123123'  \n",
    "# 发送一条信息 python3 只接收btye流\n",
    "client.send(msg.encode('utf-8'))  \n",
    "# 接收一个信息，并指定接收的大小 为1024字节\n",
    "data = client.recv(1024) \n",
    "# 输出我接收的信息\n",
    "print('recv:',data.decode())"
   ]
  },
  {
   "cell_type": "markdown",
   "metadata": {
    "ExecuteTime": {
     "end_time": "2019-09-18T05:08:31.538497Z",
     "start_time": "2019-09-18T05:08:31.534620Z"
    }
   },
   "source": [
    "## 讨论"
   ]
  },
  {
   "cell_type": "markdown",
   "metadata": {},
   "source": [
    "事件驱动 `I/O` 能监听大量的 `socket` 并响应它们中任何一个产生事件的\n",
    "\n",
    "事件驱动 `I/O` 的缺点--阻塞 \n",
    "\n",
    "对于阻塞或耗时计算的问题可以通过将事件发送个其他单独的现场或进程来处理。 \n",
    "\n",
    "不过，在事件循环中引入多线程和多进程是比较棘手的， 下面的例子演示了如何使用  `concurrent.futures` 模块来实现\n"
   ]
  },
  {
   "cell_type": "code",
   "execution_count": 18,
   "metadata": {
    "ExecuteTime": {
     "end_time": "2019-09-18T05:30:15.573512Z",
     "start_time": "2019-09-18T05:30:15.556888Z"
    }
   },
   "outputs": [
    {
     "name": "stdout",
     "output_type": "stream",
     "text": [
      "Overwriting eventPool.py\n"
     ]
    }
   ],
   "source": [
    "%%file eventPool.py\n",
    "\n",
    "import socket\n",
    "import select\n",
    "from eventIO import EventHandler, event_loop\n",
    "\n",
    "from concurrent.futures import ThreadPoolExecutor\n",
    "import os\n",
    "\n",
    "class ThreadPoolHandler(EventHandler):\n",
    "    def __init__(self, nworkers):\n",
    "        if os.name == 'posix':\n",
    "            self.signal_done_sock, self.done_sock = socket.socketpair()\n",
    "        else:\n",
    "            server = socket.socket(socket.AF_INET, socket.SOCK_STREAM)\n",
    "            server.bind(('127.0.0.1', 0))\n",
    "            server.listen(1)\n",
    "            self.signal_done_sock = socket.socket(socket.AF_INET,\n",
    "                                                  socket.SOCK_STREAM)\n",
    "            self.signal_done_sock.connect(server.getsockname())\n",
    "            self.done_sock, _ = server.accept()\n",
    "            server.close()\n",
    "\n",
    "        self.pending = []\n",
    "        self.pool = ThreadPoolExecutor(nworkers)\n",
    "\n",
    "    def fileno(self):\n",
    "        return self.done_sock.fileno()\n",
    "\n",
    "    # Callback that executes when the thread is done\n",
    "    def _complete(self, callback, r):\n",
    "\n",
    "        self.pending.append((callback, r.result()))\n",
    "        self.signal_done_sock.send(b'x')\n",
    "    \n",
    "    # run() 方法被用来将工作提交给回调函数池，处理完成后被激发\n",
    "    # 实际工作被提交给 ThreadPoolExecutor 实例\n",
    "    # self.pool = ThreadPoolExecutor(nworkers)\n",
    "    # 当线程池完成工作后，它会执行类中的 _complete() 方法\n",
    "    # Run a function in a thread pool\n",
    "    def run(self, func, args=(), kwargs={},*,callback):\n",
    "        r = self.pool.submit(func, *args, **kwargs)\n",
    "        r.add_done_callback(lambda r: self._complete(callback, r))\n",
    "\n",
    "    def wants_to_receive(self):\n",
    "        return True\n",
    "\n",
    "    # Run callback functions of completed work\n",
    "    def handle_receive(self):\n",
    "        # Invoke all pending callback functions\n",
    "        for callback, result in self.pending:\n",
    "            callback(result)\n",
    "            self.done_sock.recv(1)\n",
    "        self.pending = []\n",
    "        \n",
    "        \n",
    "# A really bad Fibonacci implementation\n",
    "def fib(n):\n",
    "    if n < 2:\n",
    "        return 1\n",
    "    else:\n",
    "        return fib(n - 1) + fib(n - 2)\n",
    "    \n",
    "    \n",
    "class UDPServer(EventHandler):\n",
    "    def __init__(self, address):\n",
    "        self.sock = socket.socket(socket.AF_INET, socket.SOCK_DGRAM)\n",
    "        self.sock.bind(address)\n",
    "\n",
    "    def fileno(self):\n",
    "        return self.sock.fileno()\n",
    "\n",
    "    def wants_to_receive(self):\n",
    "        return True\n",
    "\n",
    "\n",
    "class UDPFibServer(UDPServer):\n",
    "    def handle_receive(self):\n",
    "        msg, addr = self.sock.recvfrom(128)\n",
    "        n = int(msg)\n",
    "        pool.run(fib, (n,), callback=lambda r: self.respond(r, addr))\n",
    "\n",
    "    def respond(self, result, addr):\n",
    "        self.sock.sendto(str(result).encode('ascii'), addr)\n",
    "\n",
    "if __name__ == '__main__':\n",
    "    pool = ThreadPoolHandler(16)\n",
    "    handlers = [ pool, UDPFibServer(('',16000))]\n",
    "    event_loop(handlers)        \n",
    "        "
   ]
  },
  {
   "cell_type": "code",
   "execution_count": 1,
   "metadata": {
    "ExecuteTime": {
     "end_time": "2019-09-18T05:31:11.168349Z",
     "start_time": "2019-09-18T05:31:11.151756Z"
    }
   },
   "outputs": [],
   "source": [
    "# ============ 開新 CONSOLE ============\n",
    "# ------------ Run the server ------------\n",
    "\n",
    "import os\n",
    "import subprocess\n",
    "# os.path.abspath {本黨位置}: D:\\Google 雲端硬碟\\learn\\線程調用\\TestOS.py\n",
    "# os.path.dirname {目錄} : D:\\Google 雲端硬碟\\learn\\線程調用\n",
    "BASE_DIR = os.path.dirname(os.path.abspath('__file__'))\n",
    "# 透過 cmd 呼叫\n",
    "DIR = os.path.join(BASE_DIR, 'eventPool.py')\n",
    "cmd = \"python \" + f'\"{DIR}\"'\n",
    "print(cmd,BASE_DIR,sep='\\n')\n",
    "#  CONSOLE混雜\n",
    "#os.system(cmd)\n",
    "#subprocess.call(cmd)\n",
    "\n",
    "#  NEW 一個 CONSOLE\n",
    "subprocess.Popen(cmd, creationflags=subprocess.CREATE_NEW_CONSOLE)"
   ]
  },
  {
   "cell_type": "markdown",
   "metadata": {},
   "source": [
    "測試"
   ]
  },
  {
   "cell_type": "code",
   "execution_count": 2,
   "metadata": {
    "ExecuteTime": {
     "end_time": "2019-09-18T05:31:12.849637Z",
     "start_time": "2019-09-18T05:31:12.812577Z"
    }
   },
   "outputs": [
    {
     "data": {
      "text/plain": [
       "1"
      ]
     },
     "execution_count": 2,
     "metadata": {},
     "output_type": "execute_result"
    },
    {
     "name": "stdout",
     "output_type": "stream",
     "text": [
      "b'1'\n"
     ]
    },
    {
     "data": {
      "text/plain": [
       "1"
      ]
     },
     "execution_count": 2,
     "metadata": {},
     "output_type": "execute_result"
    },
    {
     "name": "stdout",
     "output_type": "stream",
     "text": [
      "b'1'\n"
     ]
    },
    {
     "data": {
      "text/plain": [
       "1"
      ]
     },
     "execution_count": 2,
     "metadata": {},
     "output_type": "execute_result"
    },
    {
     "name": "stdout",
     "output_type": "stream",
     "text": [
      "b'2'\n"
     ]
    },
    {
     "data": {
      "text/plain": [
       "1"
      ]
     },
     "execution_count": 2,
     "metadata": {},
     "output_type": "execute_result"
    },
    {
     "name": "stdout",
     "output_type": "stream",
     "text": [
      "b'3'\n"
     ]
    },
    {
     "data": {
      "text/plain": [
       "1"
      ]
     },
     "execution_count": 2,
     "metadata": {},
     "output_type": "execute_result"
    },
    {
     "name": "stdout",
     "output_type": "stream",
     "text": [
      "b'5'\n"
     ]
    },
    {
     "data": {
      "text/plain": [
       "1"
      ]
     },
     "execution_count": 2,
     "metadata": {},
     "output_type": "execute_result"
    },
    {
     "name": "stdout",
     "output_type": "stream",
     "text": [
      "b'8'\n"
     ]
    },
    {
     "data": {
      "text/plain": [
       "1"
      ]
     },
     "execution_count": 2,
     "metadata": {},
     "output_type": "execute_result"
    },
    {
     "name": "stdout",
     "output_type": "stream",
     "text": [
      "b'13'\n"
     ]
    },
    {
     "data": {
      "text/plain": [
       "1"
      ]
     },
     "execution_count": 2,
     "metadata": {},
     "output_type": "execute_result"
    },
    {
     "name": "stdout",
     "output_type": "stream",
     "text": [
      "b'21'\n"
     ]
    },
    {
     "data": {
      "text/plain": [
       "1"
      ]
     },
     "execution_count": 2,
     "metadata": {},
     "output_type": "execute_result"
    },
    {
     "name": "stdout",
     "output_type": "stream",
     "text": [
      "b'34'\n"
     ]
    },
    {
     "data": {
      "text/plain": [
       "1"
      ]
     },
     "execution_count": 2,
     "metadata": {},
     "output_type": "execute_result"
    },
    {
     "name": "stdout",
     "output_type": "stream",
     "text": [
      "b'55'\n"
     ]
    }
   ],
   "source": [
    "from socket import *\n",
    "sock = socket(AF_INET, SOCK_DGRAM)\n",
    "for x in range(10):\n",
    "    sock.sendto(str(x).encode('ascii'), ('localhost', 16000))\n",
    "    resp = sock.recvfrom(8192)\n",
    "    print(resp[0])"
   ]
  },
  {
   "cell_type": "markdown",
   "metadata": {},
   "source": [
    "# 13 [memoryviews]发送与接收大型数组"
   ]
  },
  {
   "cell_type": "markdown",
   "metadata": {},
   "source": [
    "透過以下 開啟新的 `python` 解釋器 X 2"
   ]
  },
  {
   "cell_type": "code",
   "execution_count": 24,
   "metadata": {
    "ExecuteTime": {
     "end_time": "2019-09-17T14:36:00.310737Z",
     "start_time": "2019-09-17T14:36:00.300977Z"
    }
   },
   "outputs": [
    {
     "name": "stdout",
     "output_type": "stream",
     "text": [
      "python \n",
      "D:\\CODE\\GitHub\\py\\資料結構\\py3-cookbook\n"
     ]
    },
    {
     "data": {
      "text/plain": [
       "<subprocess.Popen at 0x213926dee48>"
      ]
     },
     "execution_count": 24,
     "metadata": {},
     "output_type": "execute_result"
    }
   ],
   "source": [
    "# ============ 開新 CONSOLE ============\n",
    "\n",
    "import os\n",
    "import subprocess\n",
    "# os.path.abspath {本黨位置}: D:\\Google 雲端硬碟\\learn\\線程調用\\TestOS.py\n",
    "# os.path.dirname {目錄} : D:\\Google 雲端硬碟\\learn\\線程調用\n",
    "BASE_DIR = os.path.dirname(os.path.abspath('__file__'))\n",
    "# 透過 cmd 呼叫\n",
    "DIR = os.path.join(BASE_DIR, 'copyserver.py')\n",
    "cmd = \"python \" #+ f'\"{DIR}\"'\n",
    "print(cmd,BASE_DIR,sep='\\n')\n",
    "#  CONSOLE混雜\n",
    "#os.system(cmd)\n",
    "#subprocess.call(cmd)\n",
    "\n",
    "#  NEW 一個 CONSOLE\n",
    "subprocess.Popen(cmd, creationflags=subprocess.CREATE_NEW_CONSOLE)"
   ]
  },
  {
   "cell_type": "markdown",
   "metadata": {},
   "source": [
    "令其一 `python` 解釋器 作為 `Server`\n",
    "\n",
    "輸入以下 建立\n",
    "\n",
    "```py\n",
    "# Server\n",
    "\n",
    "from socket import *\n",
    "s = socket(AF_INET, SOCK_STREAM)\n",
    "s.bind(('', 25000))\n",
    "s.listen(1)\n",
    "c,a = s.accept()\n",
    "```\n",
    "\n",
    "另一 `python` 解釋器 作為 `Client`\n",
    "\n",
    "輸入以下 連接\n",
    "\n",
    "```py\n",
    "# Client\n",
    "\n",
    "from socket import *\n",
    "c = socket(AF_INET, SOCK_STREAM)\n",
    "c.connect(('localhost', 25000))\n",
    "```\n",
    "\n",
    "連接後 在 `Server` 端 \n",
    "\n",
    "輸入以下 傳送數據\n",
    "\n",
    "```py\n",
    "# Server\n",
    "\n",
    "def send_from(arr, dest):\n",
    "    view = memoryview(arr).cast('B')\n",
    "    while len(view):\n",
    "        nsent = dest.send(view)\n",
    "        view = view[nsent:]\n",
    "\n",
    "import numpy\n",
    "a = numpy.arange(0.0, 50000000.0)\n",
    "send_from(a, c)\n",
    "\n",
    "```\n",
    "\n",
    "在 `Client` 端 \n",
    "\n",
    "輸入以下 查看數據\n",
    "\n",
    "```py\n",
    "# Client\n",
    "\n",
    "def recv_into(arr, source):\n",
    "    view = memoryview(arr).cast('B')\n",
    "    while len(view):\n",
    "        nrecv = source.recv_into(view)\n",
    "        view = view[nrecv:]\n",
    "        \n",
    "        \n",
    "import numpy\n",
    "a = numpy.zeros(shape=50000000, dtype=float)\n",
    "a[0:10]\n",
    "recv_into(a, c)\n",
    "a[0:10]\n",
    "\n",
    "```\n",
    "\n",
    "\n",
    "\n"
   ]
  },
  {
   "cell_type": "markdown",
   "metadata": {
    "ExecuteTime": {
     "end_time": "2019-09-17T14:56:40.967396Z",
     "start_time": "2019-09-17T14:56:40.964473Z"
    }
   },
   "source": [
    "## 讨论"
   ]
  },
  {
   "cell_type": "markdown",
   "metadata": {},
   "source": [
    "一种方法是使用某种机制序列化数据——可能将其转换成一个字节字符串。 \n",
    "\n",
    "不过，这样最终会创建数据的一个复制。 就算你只是零碎的做这些，你的代码最终还是会有大量的小型复制操作。\n",
    "\n",
    "本节通过使用内存视图展示了一些魔法操作\n",
    "\n",
    "```\n",
    "view = memoryview(arr).cast('B')\n",
    "```\n",
    "\n",
    "\n",
    "它接受一个数组 `arr` 并将其转换为一个无符号字节的内存视图。这个视图能被传递给`socket` 相关函数， 比如 `socket.send()` 或 `send.recv_into()` 。 \n",
    "\n",
    "在内部，这些方法能够直接操作这个内存区域。\n",
    "\n",
    "例如， `sock.send()` 直接从内存中发生数据而不需要复制。 `send.recv_into()` 使用这个内存区域作为接受操作的输入缓冲区。\n",
    "\n",
    "---\n",
    "\n",
    "剩下的一个难点就是 `socket` 函数可能只操作部分数据。 \n",
    "\n",
    "通常来讲，我们得使用很多不同的 `send()` 和 `recv_into()` 来传输整个数组。 \n",
    "\n",
    "不用担心，每次操作后，视图会通过发送或接受字节数量被切割成新的视图。 \n",
    "\n",
    "新的视图同样也是内存覆盖层。因此，还是没有任何的复制操作。\n",
    "\n",
    "---\n",
    "\n",
    "这里有个问题就是接受者必须事先知道有多少数据要被发送， 以便它能预分配一个数组或者确保它能将接受的数据放入一个已经存在的数组中。 \n",
    "\n",
    "如果没办法知道的话，发送者就得先将数据大小发送过来，然后再发送实际的数组数据。"
   ]
  },
  {
   "cell_type": "code",
   "execution_count": null,
   "metadata": {},
   "outputs": [],
   "source": []
  },
  {
   "cell_type": "code",
   "execution_count": null,
   "metadata": {},
   "outputs": [],
   "source": []
  },
  {
   "cell_type": "code",
   "execution_count": null,
   "metadata": {},
   "outputs": [],
   "source": []
  },
  {
   "cell_type": "code",
   "execution_count": null,
   "metadata": {},
   "outputs": [],
   "source": []
  },
  {
   "cell_type": "code",
   "execution_count": null,
   "metadata": {},
   "outputs": [],
   "source": []
  },
  {
   "cell_type": "code",
   "execution_count": null,
   "metadata": {},
   "outputs": [],
   "source": []
  },
  {
   "cell_type": "code",
   "execution_count": null,
   "metadata": {},
   "outputs": [],
   "source": []
  },
  {
   "cell_type": "code",
   "execution_count": null,
   "metadata": {},
   "outputs": [],
   "source": []
  },
  {
   "cell_type": "code",
   "execution_count": null,
   "metadata": {},
   "outputs": [],
   "source": []
  },
  {
   "cell_type": "code",
   "execution_count": null,
   "metadata": {},
   "outputs": [],
   "source": []
  },
  {
   "cell_type": "code",
   "execution_count": null,
   "metadata": {},
   "outputs": [],
   "source": []
  },
  {
   "cell_type": "code",
   "execution_count": null,
   "metadata": {},
   "outputs": [],
   "source": []
  },
  {
   "cell_type": "code",
   "execution_count": null,
   "metadata": {},
   "outputs": [],
   "source": []
  },
  {
   "cell_type": "code",
   "execution_count": null,
   "metadata": {},
   "outputs": [],
   "source": []
  },
  {
   "cell_type": "code",
   "execution_count": null,
   "metadata": {},
   "outputs": [],
   "source": []
  },
  {
   "cell_type": "code",
   "execution_count": null,
   "metadata": {},
   "outputs": [],
   "source": []
  },
  {
   "cell_type": "code",
   "execution_count": null,
   "metadata": {},
   "outputs": [],
   "source": []
  },
  {
   "cell_type": "code",
   "execution_count": null,
   "metadata": {},
   "outputs": [],
   "source": []
  },
  {
   "cell_type": "code",
   "execution_count": null,
   "metadata": {},
   "outputs": [],
   "source": []
  },
  {
   "cell_type": "code",
   "execution_count": null,
   "metadata": {},
   "outputs": [],
   "source": []
  },
  {
   "cell_type": "code",
   "execution_count": null,
   "metadata": {},
   "outputs": [],
   "source": []
  },
  {
   "cell_type": "code",
   "execution_count": null,
   "metadata": {},
   "outputs": [],
   "source": []
  },
  {
   "cell_type": "code",
   "execution_count": null,
   "metadata": {},
   "outputs": [],
   "source": []
  }
 ],
 "metadata": {
  "hide_input": false,
  "kernelspec": {
   "display_name": "Python [default]",
   "language": "python",
   "name": "python3"
  },
  "language_info": {
   "codemirror_mode": {
    "name": "ipython",
    "version": 3
   },
   "file_extension": ".py",
   "mimetype": "text/x-python",
   "name": "python",
   "nbconvert_exporter": "python",
   "pygments_lexer": "ipython3",
   "version": "3.6.5"
  },
  "toc": {
   "base_numbering": 1,
   "nav_menu": {},
   "number_sections": true,
   "sideBar": true,
   "skip_h1_title": false,
   "title_cell": "Table of Contents",
   "title_sidebar": "Contents",
   "toc_cell": false,
   "toc_position": {
    "height": "calc(100% - 180px)",
    "left": "10px",
    "top": "150px",
    "width": "191px"
   },
   "toc_section_display": true,
   "toc_window_display": true
  },
  "varInspector": {
   "cols": {
    "lenName": 16,
    "lenType": 16,
    "lenVar": 40
   },
   "kernels_config": {
    "python": {
     "delete_cmd_postfix": "",
     "delete_cmd_prefix": "del ",
     "library": "var_list.py",
     "varRefreshCmd": "print(var_dic_list())"
    },
    "r": {
     "delete_cmd_postfix": ") ",
     "delete_cmd_prefix": "rm(",
     "library": "var_list.r",
     "varRefreshCmd": "cat(var_dic_list()) "
    }
   },
   "types_to_exclude": [
    "module",
    "function",
    "builtin_function_or_method",
    "instance",
    "_Feature"
   ],
   "window_display": false
  }
 },
 "nbformat": 4,
 "nbformat_minor": 2
}
