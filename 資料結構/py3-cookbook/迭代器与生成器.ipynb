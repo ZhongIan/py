{
 "cells": [
  {
   "cell_type": "markdown",
   "metadata": {
    "toc": true
   },
   "source": [
    "<h1>Table of Contents<span class=\"tocSkip\"></span></h1>\n",
    "<div class=\"toc\"><ul class=\"toc-item\"><li><span><a href=\"#[next()-;-StopIteration-異常]手动遍历迭代器\" data-toc-modified-id=\"[next()-;-StopIteration-異常]手动遍历迭代器-1\"><span class=\"toc-item-num\">1&nbsp;&nbsp;</span>[next() ; StopIteration 異常]手动遍历迭代器</a></span></li><li><span><a href=\"#[-__iter__()-]代理迭代\" data-toc-modified-id=\"[-__iter__()-]代理迭代-2\"><span class=\"toc-item-num\">2&nbsp;&nbsp;</span>[ __iter__() ]代理迭代</a></span><ul class=\"toc-item\"><li><span><a href=\"#讨论\" data-toc-modified-id=\"讨论-2.1\"><span class=\"toc-item-num\">2.1&nbsp;&nbsp;</span>讨论</a></span></li></ul></li><li><span><a href=\"#[yield]使用生成器创建新的迭代模式\" data-toc-modified-id=\"[yield]使用生成器创建新的迭代模式-3\"><span class=\"toc-item-num\">3&nbsp;&nbsp;</span>[yield]使用生成器创建新的迭代模式</a></span></li><li><span><a href=\"#[yield-from]实现迭代器协议\" data-toc-modified-id=\"[yield-from]实现迭代器协议-4\"><span class=\"toc-item-num\">4&nbsp;&nbsp;</span>[yield from]实现迭代器协议</a></span><ul class=\"toc-item\"><li><span><a href=\"#讨论\" data-toc-modified-id=\"讨论-4.1\"><span class=\"toc-item-num\">4.1&nbsp;&nbsp;</span>讨论</a></span></li></ul></li><li><span><a href=\"#[reversed()]反向迭代\" data-toc-modified-id=\"[reversed()]反向迭代-5\"><span class=\"toc-item-num\">5&nbsp;&nbsp;</span>[reversed()]反向迭代</a></span><ul class=\"toc-item\"><li><span><a href=\"#[-__reversed__-]讨论\" data-toc-modified-id=\"[-__reversed__-]讨论-5.1\"><span class=\"toc-item-num\">5.1&nbsp;&nbsp;</span>[ __reversed__ ]讨论</a></span></li></ul></li><li><span><a href=\"#[iter]带有外部状态的生成器函数\" data-toc-modified-id=\"[iter]带有外部状态的生成器函数-6\"><span class=\"toc-item-num\">6&nbsp;&nbsp;</span>[<strong>iter</strong>]带有外部状态的生成器函数</a></span></li><li><span><a href=\"#[itertools.islice()]迭代器切片\" data-toc-modified-id=\"[itertools.islice()]迭代器切片-7\"><span class=\"toc-item-num\">7&nbsp;&nbsp;</span>[itertools.islice()]迭代器切片</a></span></li><li><span><a href=\"#[itertools.dropwhile()]跳过可迭代对象的开始部分\" data-toc-modified-id=\"[itertools.dropwhile()]跳过可迭代对象的开始部分-8\"><span class=\"toc-item-num\">8&nbsp;&nbsp;</span>[itertools.dropwhile()]跳过可迭代对象的开始部分</a></span></li><li><span><a href=\"#[itertools.permutations-itertools.combinations]排列组合的迭代\" data-toc-modified-id=\"[itertools.permutations-itertools.combinations]排列组合的迭代-9\"><span class=\"toc-item-num\">9&nbsp;&nbsp;</span>[itertools.permutations itertools.combinations]排列组合的迭代</a></span></li><li><span><a href=\"#[enumerate()]序列上索引值迭代\" data-toc-modified-id=\"[enumerate()]序列上索引值迭代-10\"><span class=\"toc-item-num\">10&nbsp;&nbsp;</span>[enumerate()]序列上索引值迭代</a></span></li><li><span><a href=\"#同时迭代多个序列\" data-toc-modified-id=\"同时迭代多个序列-11\"><span class=\"toc-item-num\">11&nbsp;&nbsp;</span>同时迭代多个序列</a></span><ul class=\"toc-item\"><li><span><a href=\"#讨论\" data-toc-modified-id=\"讨论-11.1\"><span class=\"toc-item-num\">11.1&nbsp;&nbsp;</span>讨论</a></span></li></ul></li><li><span><a href=\"#[itertools.chain()]不同集合上元素的迭代\" data-toc-modified-id=\"[itertools.chain()]不同集合上元素的迭代-12\"><span class=\"toc-item-num\">12&nbsp;&nbsp;</span>[itertools.chain()]不同集合上元素的迭代</a></span><ul class=\"toc-item\"><li><span><a href=\"#讨论\" data-toc-modified-id=\"讨论-12.1\"><span class=\"toc-item-num\">12.1&nbsp;&nbsp;</span>讨论</a></span></li></ul></li><li><span><a href=\"#创建数据处理管道\" data-toc-modified-id=\"创建数据处理管道-13\"><span class=\"toc-item-num\">13&nbsp;&nbsp;</span>创建数据处理管道</a></span><ul class=\"toc-item\"><li><span><a href=\"#讨论\" data-toc-modified-id=\"讨论-13.1\"><span class=\"toc-item-num\">13.1&nbsp;&nbsp;</span>讨论</a></span></li></ul></li><li><span><a href=\"#[isinstance(x,-Iterable)]展开嵌套的序列\" data-toc-modified-id=\"[isinstance(x,-Iterable)]展开嵌套的序列-14\"><span class=\"toc-item-num\">14&nbsp;&nbsp;</span>[isinstance(x, Iterable)]展开嵌套的序列</a></span><ul class=\"toc-item\"><li><span><a href=\"#[yield-from-;-for]讨论\" data-toc-modified-id=\"[yield-from-;-for]讨论-14.1\"><span class=\"toc-item-num\">14.1&nbsp;&nbsp;</span>[yield from ; for]讨论</a></span></li></ul></li><li><span><a href=\"#[heapq.merge()]顺序迭代合并后的排序迭代对象\" data-toc-modified-id=\"[heapq.merge()]顺序迭代合并后的排序迭代对象-15\"><span class=\"toc-item-num\">15&nbsp;&nbsp;</span>[heapq.merge()]顺序迭代合并后的排序迭代对象</a></span><ul class=\"toc-item\"><li><span><a href=\"#讨论\" data-toc-modified-id=\"讨论-15.1\"><span class=\"toc-item-num\">15.1&nbsp;&nbsp;</span>讨论</a></span></li></ul></li><li><span><a href=\"#迭代器代替while无限循环\" data-toc-modified-id=\"迭代器代替while无限循环-16\"><span class=\"toc-item-num\">16&nbsp;&nbsp;</span>迭代器代替while无限循环</a></span><ul class=\"toc-item\"><li><span><a href=\"#讨论\" data-toc-modified-id=\"讨论-16.1\"><span class=\"toc-item-num\">16.1&nbsp;&nbsp;</span>讨论</a></span></li></ul></li></ul></div>"
   ]
  },
  {
   "cell_type": "markdown",
   "metadata": {},
   "source": [
    "# [next() ; StopIteration 異常]手动遍历迭代器"
   ]
  },
  {
   "cell_type": "markdown",
   "metadata": {},
   "source": [
    "你想遍历一个可迭代对象中的所有元素，但是却不想使用`for`循环\n",
    "\n",
    "为了手动的遍历可迭代对象，使用 `next()` 函数并在代码中捕获 `StopIteration` 异常。 比如，下面的例子手动读取一个文件中的所有行："
   ]
  },
  {
   "cell_type": "code",
   "execution_count": null,
   "metadata": {},
   "outputs": [],
   "source": [
    "def manual_iter():\n",
    "    with open('/etc/passwd') as f:\n",
    "        try:\n",
    "            while True:\n",
    "                line = next(f)\n",
    "                print(line, end='')\n",
    "        except StopIteration:\n",
    "            pass"
   ]
  },
  {
   "cell_type": "code",
   "execution_count": 1,
   "metadata": {
    "ExecuteTime": {
     "end_time": "2019-07-07T13:04:52.603959Z",
     "start_time": "2019-07-07T13:04:49.387680Z"
    }
   },
   "outputs": [
    {
     "data": {
      "text/plain": [
       "1"
      ]
     },
     "execution_count": 1,
     "metadata": {},
     "output_type": "execute_result"
    },
    {
     "data": {
      "text/plain": [
       "2"
      ]
     },
     "execution_count": 1,
     "metadata": {},
     "output_type": "execute_result"
    },
    {
     "data": {
      "text/plain": [
       "3"
      ]
     },
     "execution_count": 1,
     "metadata": {},
     "output_type": "execute_result"
    },
    {
     "ename": "StopIteration",
     "evalue": "",
     "output_type": "error",
     "traceback": [
      "\u001b[1;31m---------------------------------------------------------------------------\u001b[0m",
      "\u001b[1;31mStopIteration\u001b[0m                             Traceback (most recent call last)",
      "\u001b[1;32m<ipython-input-1-d9134b7ef85c>\u001b[0m in \u001b[0;36m<module>\u001b[1;34m()\u001b[0m\n\u001b[0;32m      9\u001b[0m \u001b[0mnext\u001b[0m\u001b[1;33m(\u001b[0m\u001b[0mit\u001b[0m\u001b[1;33m)\u001b[0m\u001b[1;33m\u001b[0m\u001b[0m\n\u001b[0;32m     10\u001b[0m \u001b[1;33m\u001b[0m\u001b[0m\n\u001b[1;32m---> 11\u001b[1;33m \u001b[0mnext\u001b[0m\u001b[1;33m(\u001b[0m\u001b[0mit\u001b[0m\u001b[1;33m)\u001b[0m\u001b[1;33m\u001b[0m\u001b[0m\n\u001b[0m",
      "\u001b[1;31mStopIteration\u001b[0m: "
     ]
    }
   ],
   "source": [
    "items = [1, 2, 3]\n",
    "# Get the iterator\n",
    "# Invokes items.__iter__()\n",
    "it = iter(items) \n",
    "\n",
    "# Run the iterator\n",
    "# Invokes it.__next__()\n",
    "next(it) # 1\n",
    "\n",
    "next(it) # 2\n",
    "\n",
    "next(it) # 3\n",
    "\n",
    "next(it) # StopIteration 異常 跌代結尾"
   ]
  },
  {
   "cell_type": "markdown",
   "metadata": {},
   "source": [
    "# [ \\_\\_iter\\_\\_() ]代理迭代"
   ]
  },
  {
   "cell_type": "markdown",
   "metadata": {},
   "source": [
    "你构建了一个自定义容器对象，里面包含有列表、元组或其他可迭代对象。 你想直接在你的这个新容器对象上执行迭代操作。\n",
    "\n",
    " **\\_\\_iter\\_\\_() 方法**"
   ]
  },
  {
   "cell_type": "code",
   "execution_count": 2,
   "metadata": {
    "ExecuteTime": {
     "end_time": "2019-07-07T13:09:54.354947Z",
     "start_time": "2019-07-07T13:09:54.258081Z"
    }
   },
   "outputs": [
    {
     "name": "stdout",
     "output_type": "stream",
     "text": [
      "Node(1)\n",
      "Node(2)\n"
     ]
    }
   ],
   "source": [
    "class Node:\n",
    "    def __init__(self, value):\n",
    "        self._value = value\n",
    "        self._children = []\n",
    "\n",
    "    # print() 時顯示\n",
    "    def __repr__(self):\n",
    "        return 'Node({!r})'.format(self._value)\n",
    "\n",
    "    def add_child(self, node):\n",
    "        self._children.append(node)\n",
    "\n",
    "    # 迭代\n",
    "    def __iter__(self):\n",
    "        return iter(self._children)\n",
    "\n",
    "# Example\n",
    "if __name__ == '__main__':\n",
    "    root = Node(0)\n",
    "    child1 = Node(1)\n",
    "    child2 = Node(2)\n",
    "    root.add_child(child1)\n",
    "    root.add_child(child2)\n",
    "    # Outputs Node(1), Node(2)\n",
    "    for ch in root:\n",
    "        print(ch)"
   ]
  },
  {
   "cell_type": "markdown",
   "metadata": {},
   "source": [
    "## 讨论"
   ]
  },
  {
   "cell_type": "markdown",
   "metadata": {},
   "source": [
    "`Python`的迭代器协议需要 `__iter__()` 方法返回一个实现了 `__next__()` 方法的迭代器对象。 如果你只是迭代遍历其他容器的内容，你无须担心底层是怎样实现的。你所要做的只是传递迭代请求既可。\n",
    "\n",
    "这里的 `iter()` 函数的使用简化了代码， `iter(s)` 只是简单的通过调用 `s.__iter__()` 方法来返回对应的迭代器对象， 就跟 `len(s)` 会调用 `s.__len__()` 原理是一样的。"
   ]
  },
  {
   "cell_type": "markdown",
   "metadata": {},
   "source": [
    "# [yield]使用生成器创建新的迭代模式"
   ]
  },
  {
   "cell_type": "code",
   "execution_count": 3,
   "metadata": {
    "ExecuteTime": {
     "end_time": "2019-07-07T13:17:00.607718Z",
     "start_time": "2019-07-07T13:17:00.477638Z"
    }
   },
   "outputs": [
    {
     "name": "stdout",
     "output_type": "stream",
     "text": [
      "0\n",
      "0.5\n",
      "1.0\n",
      "1.5\n",
      "2.0\n",
      "2.5\n",
      "3.0\n",
      "3.5\n"
     ]
    },
    {
     "data": {
      "text/plain": [
       "[0, 0.125, 0.25, 0.375, 0.5, 0.625, 0.75, 0.875]"
      ]
     },
     "execution_count": 3,
     "metadata": {},
     "output_type": "execute_result"
    }
   ],
   "source": [
    "# 生产某个范围内浮点数的生成器\n",
    "def frange(start, stop, increment):\n",
    "    x = start\n",
    "    while x < stop:\n",
    "        yield x\n",
    "        x += increment\n",
    "        \n",
    "for n in frange(0, 4, 0.5):\n",
    "    print(n)\n",
    "    \n",
    "list(frange(0, 1, 0.125))   "
   ]
  },
  {
   "cell_type": "code",
   "execution_count": 6,
   "metadata": {
    "ExecuteTime": {
     "end_time": "2019-07-07T13:20:24.507595Z",
     "start_time": "2019-07-07T13:20:24.489051Z"
    }
   },
   "outputs": [
    {
     "data": {
      "text/plain": [
       "<generator object countdown at 0x0000022920A41518>"
      ]
     },
     "execution_count": 6,
     "metadata": {},
     "output_type": "execute_result"
    },
    {
     "name": "stdout",
     "output_type": "stream",
     "text": [
      "Starting to count from 3\n"
     ]
    },
    {
     "data": {
      "text/plain": [
       "3"
      ]
     },
     "execution_count": 6,
     "metadata": {},
     "output_type": "execute_result"
    },
    {
     "data": {
      "text/plain": [
       "2"
      ]
     },
     "execution_count": 6,
     "metadata": {},
     "output_type": "execute_result"
    },
    {
     "data": {
      "text/plain": [
       "1"
      ]
     },
     "execution_count": 6,
     "metadata": {},
     "output_type": "execute_result"
    },
    {
     "name": "stdout",
     "output_type": "stream",
     "text": [
      "Done!\n"
     ]
    },
    {
     "ename": "StopIteration",
     "evalue": "",
     "output_type": "error",
     "traceback": [
      "\u001b[1;31m---------------------------------------------------------------------------\u001b[0m",
      "\u001b[1;31mStopIteration\u001b[0m                             Traceback (most recent call last)",
      "\u001b[1;32m<ipython-input-6-7c03c0021540>\u001b[0m in \u001b[0;36m<module>\u001b[1;34m()\u001b[0m\n\u001b[0;32m     12\u001b[0m \u001b[0mnext\u001b[0m\u001b[1;33m(\u001b[0m\u001b[0mc\u001b[0m\u001b[1;33m)\u001b[0m\u001b[1;33m\u001b[0m\u001b[0m\n\u001b[0;32m     13\u001b[0m \u001b[0mnext\u001b[0m\u001b[1;33m(\u001b[0m\u001b[0mc\u001b[0m\u001b[1;33m)\u001b[0m\u001b[1;33m\u001b[0m\u001b[0m\n\u001b[1;32m---> 14\u001b[1;33m \u001b[0mnext\u001b[0m\u001b[1;33m(\u001b[0m\u001b[0mc\u001b[0m\u001b[1;33m)\u001b[0m\u001b[1;33m\u001b[0m\u001b[0m\n\u001b[0m",
      "\u001b[1;31mStopIteration\u001b[0m: "
     ]
    }
   ],
   "source": [
    "def countdown(n):\n",
    "    print('Starting to count from', n)\n",
    "    while n > 0:\n",
    "        yield n\n",
    "        n -= 1\n",
    "    print('Done!')\n",
    "    \n",
    "c = countdown(3)\n",
    "c\n",
    "\n",
    "c.__next__()\n",
    "next(c)\n",
    "next(c)\n",
    "next(c)"
   ]
  },
  {
   "cell_type": "markdown",
   "metadata": {},
   "source": [
    "# [yield from]实现迭代器协议"
   ]
  },
  {
   "cell_type": "markdown",
   "metadata": {},
   "source": [
    "你可能想实现一个以**深度优先**方式遍历树形节点的生成器。 下面是代码示例：\n",
    "\n",
    "**生成器**"
   ]
  },
  {
   "cell_type": "code",
   "execution_count": 10,
   "metadata": {
    "ExecuteTime": {
     "end_time": "2019-07-07T13:28:11.487594Z",
     "start_time": "2019-07-07T13:28:11.479786Z"
    }
   },
   "outputs": [
    {
     "data": {
      "text/plain": [
       "['A', 'B', 'C', 0, 1, 2]"
      ]
     },
     "execution_count": 10,
     "metadata": {},
     "output_type": "execute_result"
    },
    {
     "data": {
      "text/plain": [
       "['A', 'B', 'C', 0, 1, 2]"
      ]
     },
     "execution_count": 10,
     "metadata": {},
     "output_type": "execute_result"
    }
   ],
   "source": [
    "def chain(*iterables):\n",
    "    for it in iterables:\n",
    "        for i in it:\n",
    "            yield i\n",
    "s = 'ABC'\n",
    "t = tuple(range(3))\n",
    "list(chain(s, t))\n",
    "\n",
    "def chain_from(*iterables):\n",
    "    for i in iterables:\n",
    "        # 依序返回可迭代對象\n",
    "        yield from i\n",
    "\n",
    "list(chain_from(s, t))"
   ]
  },
  {
   "cell_type": "code",
   "execution_count": 9,
   "metadata": {
    "ExecuteTime": {
     "end_time": "2019-07-07T13:27:17.014597Z",
     "start_time": "2019-07-07T13:27:17.007767Z"
    }
   },
   "outputs": [
    {
     "name": "stdout",
     "output_type": "stream",
     "text": [
      "Node(0)\n",
      "Node(1)\n",
      "Node(3)\n",
      "Node(4)\n",
      "Node(2)\n",
      "Node(5)\n"
     ]
    }
   ],
   "source": [
    "class Node:\n",
    "    def __init__(self, value):\n",
    "        self._value = value\n",
    "        self._children = []\n",
    "\n",
    "    def __repr__(self):\n",
    "        return 'Node({!r})'.format(self._value)\n",
    "\n",
    "    def add_child(self, node):\n",
    "        self._children.append(node)\n",
    "\n",
    "    def __iter__(self):\n",
    "        return iter(self._children)\n",
    "\n",
    "    def depth_first(self):\n",
    "        yield self\n",
    "        for c in self:\n",
    "            yield from c.depth_first()\n",
    "\n",
    "# Example\n",
    "if __name__ == '__main__':\n",
    "    \n",
    "    root = Node(0)\n",
    "    child1 = Node(1)\n",
    "    child2 = Node(2)\n",
    "    \n",
    "    root.add_child(child1)\n",
    "    root.add_child(child2)\n",
    "    \n",
    "    child1.add_child(Node(3))\n",
    "    child1.add_child(Node(4))\n",
    "    \n",
    "    child2.add_child(Node(5))\n",
    "\n",
    "    for ch in root.depth_first():\n",
    "        print(ch)\n",
    "    # Outputs Node(0), Node(1), Node(3), Node(4), Node(2), Node(5)"
   ]
  },
  {
   "cell_type": "markdown",
   "metadata": {},
   "source": [
    "## 讨论\n",
    "\n",
    "`Python`的迭代协议要求一个 `__iter__()` 方法返回一个特殊的迭代器对象， 这个迭代器对象实现了 `__next__()` 方法并通过 `StopIteration` 异常标识迭代的完成。 但是，实现这些通常会比较繁琐。 下面我们演示下这种方式，如何使用一个**关联迭代器类重新实现 `depth_first()` 方法：**\n",
    "\n",
    "`DepthFirstIterator` 类和上面使用生成器的版本工作原理类似， 但是它写起来很繁琐，因为迭代器必须在迭代处理过程中维护大量的状态信息。 坦白来讲，没人愿意写这么晦涩的代码。将你的迭代器定义为一个生成器后一切迎刃而解。"
   ]
  },
  {
   "cell_type": "code",
   "execution_count": 12,
   "metadata": {
    "ExecuteTime": {
     "end_time": "2019-07-07T13:31:29.390030Z",
     "start_time": "2019-07-07T13:31:29.380271Z"
    }
   },
   "outputs": [
    {
     "name": "stdout",
     "output_type": "stream",
     "text": [
      "Node(0)\n",
      "Node(1)\n",
      "Node(3)\n",
      "Node(4)\n",
      "Node(2)\n",
      "Node(5)\n"
     ]
    }
   ],
   "source": [
    "class Node2:\n",
    "    def __init__(self, value):\n",
    "        self._value = value\n",
    "        self._children = []\n",
    "\n",
    "    def __repr__(self):\n",
    "        return 'Node({!r})'.format(self._value)\n",
    "\n",
    "    def add_child(self, node):\n",
    "        self._children.append(node)\n",
    "\n",
    "    def __iter__(self):\n",
    "        return iter(self._children)\n",
    "\n",
    "    def depth_first(self):\n",
    "        return DepthFirstIterator(self)\n",
    "\n",
    "\n",
    "class DepthFirstIterator(object):\n",
    "    '''\n",
    "    Depth-first traversal\n",
    "    '''\n",
    "\n",
    "    def __init__(self, start_node):\n",
    "        self._node = start_node\n",
    "        self._children_iter = None\n",
    "        self._child_iter = None\n",
    "\n",
    "    def __iter__(self):\n",
    "        return self\n",
    "\n",
    "    def __next__(self):\n",
    "        # Return myself if just started; create an iterator for children\n",
    "        if self._children_iter is None:\n",
    "            self._children_iter = iter(self._node)\n",
    "            return self._node\n",
    "        # If processing a child, return its next item\n",
    "        elif self._child_iter:\n",
    "            try:\n",
    "                nextchild = next(self._child_iter)\n",
    "                return nextchild\n",
    "            except StopIteration:\n",
    "                self._child_iter = None\n",
    "                return next(self)\n",
    "        # Advance to the next child and start its iteration\n",
    "        else:\n",
    "            self._child_iter = next(self._children_iter).depth_first()\n",
    "            return next(self)\n",
    "        \n",
    "# Example\n",
    "if __name__ == '__main__':\n",
    "    \n",
    "    root = Node(0)\n",
    "    child1 = Node(1)\n",
    "    child2 = Node(2)\n",
    "    \n",
    "    root.add_child(child1)\n",
    "    root.add_child(child2)\n",
    "    \n",
    "    child1.add_child(Node(3))\n",
    "    child1.add_child(Node(4))\n",
    "    \n",
    "    child2.add_child(Node(5))\n",
    "\n",
    "    for ch in root.depth_first():\n",
    "        print(ch)"
   ]
  },
  {
   "cell_type": "markdown",
   "metadata": {},
   "source": [
    "# [reversed()]反向迭代"
   ]
  },
  {
   "cell_type": "code",
   "execution_count": 13,
   "metadata": {
    "ExecuteTime": {
     "end_time": "2019-07-07T13:39:35.864745Z",
     "start_time": "2019-07-07T13:39:35.859866Z"
    }
   },
   "outputs": [
    {
     "name": "stdout",
     "output_type": "stream",
     "text": [
      "4\n",
      "3\n",
      "2\n",
      "1\n"
     ]
    }
   ],
   "source": [
    "a = [1, 2, 3, 4]\n",
    "for x in reversed(a):\n",
    "    print(x)"
   ]
  },
  {
   "cell_type": "markdown",
   "metadata": {},
   "source": [
    "反向迭代仅仅当对象的大小可预先确定或者对象实现了 `__reversed__()` 的特殊方法时才能生效。 如果两者都不符合，那你必须先将对象转换为一个**列表**才行，比如：\n",
    "\n",
    "```py\n",
    "# Print a file backwards\n",
    "f = open('somefile')\n",
    "for line in reversed(list(f)):\n",
    "    print(line, end='')\n",
    "```"
   ]
  },
  {
   "cell_type": "markdown",
   "metadata": {},
   "source": [
    "## [ \\_\\_reversed\\_\\_ ]讨论"
   ]
  },
  {
   "cell_type": "code",
   "execution_count": 15,
   "metadata": {
    "ExecuteTime": {
     "end_time": "2019-07-07T13:53:00.478466Z",
     "start_time": "2019-07-07T13:53:00.472611Z"
    }
   },
   "outputs": [
    {
     "name": "stdout",
     "output_type": "stream",
     "text": [
      "1\n",
      "2\n",
      "3\n",
      "4\n",
      "5\n",
      "5\n",
      "4\n",
      "3\n",
      "2\n",
      "1\n"
     ]
    }
   ],
   "source": [
    "class Countdown:\n",
    "    def __init__(self, start):\n",
    "        self.start = start\n",
    "\n",
    "    # Forward iterator\n",
    "    def __iter__(self):\n",
    "        n = self.start\n",
    "        while n > 0:\n",
    "            yield n\n",
    "            n -= 1\n",
    "\n",
    "    # Reverse iterator\n",
    "    def __reversed__(self):\n",
    "        n = 1\n",
    "        while n <= self.start:\n",
    "            yield n\n",
    "            n += 1\n",
    "\n",
    "for rr in reversed(Countdown(5)):\n",
    "    print(rr)\n",
    "for rr in Countdown(5):\n",
    "    print(rr)"
   ]
  },
  {
   "cell_type": "markdown",
   "metadata": {},
   "source": [
    "# [__iter__]带有外部状态的生成器函数"
   ]
  },
  {
   "cell_type": "markdown",
   "metadata": {},
   "source": [
    "如果你想让你的生成器暴露外部状态给用户， 别忘了你可以简单的将它实现为一个类，然后把生成器函数放到 `__iter__()`方法中过去。比如：\n",
    "\n",
    "```py\n",
    "from collections import deque\n",
    "\n",
    "class linehistory:\n",
    "    def __init__(self, lines, histlen=3):\n",
    "        self.lines = lines\n",
    "        self.history = deque(maxlen=histlen)\n",
    "\n",
    "    def __iter__(self):\n",
    "        for lineno, line in enumerate(self.lines, 1):\n",
    "            self.history.append((lineno, line))\n",
    "            yield line\n",
    "\n",
    "    def clear(self):\n",
    "        self.history.clear()\n",
    "```       \n",
    "        \n",
    "为了使用这个类，你可以将它当做是一个普通的生成器函数。 然而，由于可以创建一个实例对象，于是你可以访问内部属性值， 比如 `history` 属性或者是 `clear()` 方法。代码示例如下：\n",
    "\n",
    "```py\n",
    "with open('somefile.txt') as f:\n",
    "    lines = linehistory(f)\n",
    "    for line in lines:\n",
    "        if 'python' in line:\n",
    "            for lineno, hline in lines.history:\n",
    "                print('{}:{}'.format(lineno, hline), end='')\n",
    "```"
   ]
  },
  {
   "cell_type": "markdown",
   "metadata": {},
   "source": [
    "# [itertools.islice()]迭代器切片"
   ]
  },
  {
   "cell_type": "code",
   "execution_count": 42,
   "metadata": {
    "ExecuteTime": {
     "end_time": "2019-07-07T14:17:58.872358Z",
     "start_time": "2019-07-07T14:17:58.861622Z"
    }
   },
   "outputs": [
    {
     "data": {
      "text/plain": [
       "0"
      ]
     },
     "execution_count": 42,
     "metadata": {},
     "output_type": "execute_result"
    },
    {
     "ename": "TypeError",
     "evalue": "'generator' object is not subscriptable",
     "output_type": "error",
     "traceback": [
      "\u001b[1;31m---------------------------------------------------------------------------\u001b[0m",
      "\u001b[1;31mTypeError\u001b[0m                                 Traceback (most recent call last)",
      "\u001b[1;32m<ipython-input-42-cd3bd62438dc>\u001b[0m in \u001b[0;36m<module>\u001b[1;34m()\u001b[0m\n\u001b[0;32m      6\u001b[0m \u001b[0mc\u001b[0m \u001b[1;33m=\u001b[0m \u001b[0mcount\u001b[0m\u001b[1;33m(\u001b[0m\u001b[1;36m0\u001b[0m\u001b[1;33m)\u001b[0m\u001b[1;33m\u001b[0m\u001b[0m\n\u001b[0;32m      7\u001b[0m \u001b[0mc\u001b[0m\u001b[1;33m.\u001b[0m\u001b[0m__next__\u001b[0m\u001b[1;33m(\u001b[0m\u001b[1;33m)\u001b[0m\u001b[1;33m\u001b[0m\u001b[0m\n\u001b[1;32m----> 8\u001b[1;33m \u001b[0mc\u001b[0m\u001b[1;33m[\u001b[0m\u001b[1;36m10\u001b[0m\u001b[1;33m:\u001b[0m\u001b[1;36m20\u001b[0m\u001b[1;33m]\u001b[0m\u001b[1;33m\u001b[0m\u001b[0m\n\u001b[0m",
      "\u001b[1;31mTypeError\u001b[0m: 'generator' object is not subscriptable"
     ]
    }
   ],
   "source": [
    "def count(n):\n",
    "    while True:\n",
    "        yield n\n",
    "        n += 1\n",
    "        \n",
    "c = count(0)\n",
    "c.__next__()\n",
    "c[10:20]"
   ]
  },
  {
   "cell_type": "code",
   "execution_count": 17,
   "metadata": {
    "ExecuteTime": {
     "end_time": "2019-07-07T14:14:13.447686Z",
     "start_time": "2019-07-07T14:14:13.443782Z"
    }
   },
   "outputs": [
    {
     "name": "stdout",
     "output_type": "stream",
     "text": [
      "10\n",
      "11\n",
      "12\n",
      "13\n",
      "14\n",
      "15\n",
      "16\n",
      "17\n",
      "18\n",
      "19\n"
     ]
    }
   ],
   "source": [
    "# Now using islice()\n",
    "import itertools\n",
    "# itertools.islice(迭代器，開始，結束)\n",
    "for x in itertools.islice(c, 10, 20):\n",
    "    print(x)"
   ]
  },
  {
   "cell_type": "markdown",
   "metadata": {},
   "source": [
    "# [itertools.dropwhile()]跳过可迭代对象的开始部分"
   ]
  },
  {
   "cell_type": "markdown",
   "metadata": {},
   "source": [
    "```py\n",
    "with open('/etc/passwd') as f:\n",
    "    for line in f:\n",
    "        print(line, end='')\n",
    "\n",
    "##\n",
    "# User Database\n",
    "#\n",
    "# Note that this file is consulted directly only when the system is running\n",
    "# in single-user mode. At other times, this information is provided by\n",
    "# Open Directory.\n",
    "...\n",
    "##\n",
    "nobody:*:-2:-2:Unprivileged User:/var/empty:/usr/bin/false\n",
    "root:*:0:0:System Administrator:/var/root:/bin/sh\n",
    "...\n",
    "```\n",
    "\n",
    "如果你想跳过开始部分的注释行的话，可以这样做：\n",
    "\n",
    "**itertools.dropwhile() 仅仅跳过开始部分满足测试条件的行**，在那以后，所有的元素不再进行测试和过滤了\n",
    "\n",
    "```py\n",
    "from itertools import dropwhile\n",
    "with open('/etc/passwd') as f:\n",
    "    for line in dropwhile(lambda line: line.startswith('#'), f):\n",
    "        print(line, end='')\n",
    "        \n",
    "nobody:*:-2:-2:Unprivileged User:/var/empty:/usr/bin/false\n",
    "root:*:0:0:System Administrator:/var/root:/bin/sh\n",
    "...\n",
    "```\n",
    "\n",
    "会跳过文件中其他所有的注释行。\n",
    "\n",
    "```py\n",
    "with open('/etc/passwd') as f:\n",
    "    lines = (line for line in f if not line.startswith('#'))\n",
    "    for line in lines:\n",
    "        print(line, end='')\n",
    "```"
   ]
  },
  {
   "cell_type": "markdown",
   "metadata": {},
   "source": [
    "# [itertools.permutations itertools.combinations]排列组合的迭代"
   ]
  },
  {
   "cell_type": "code",
   "execution_count": 44,
   "metadata": {
    "ExecuteTime": {
     "end_time": "2019-07-07T14:30:04.233005Z",
     "start_time": "2019-07-07T14:30:04.223298Z"
    }
   },
   "outputs": [
    {
     "name": "stdout",
     "output_type": "stream",
     "text": [
      "('a', 'b', 'c')\n",
      "('a', 'c', 'b')\n",
      "('b', 'a', 'c')\n",
      "('b', 'c', 'a')\n",
      "('c', 'a', 'b')\n",
      "('c', 'b', 'a')\n",
      "('a', 'b')\n",
      "('a', 'c')\n",
      "('b', 'a')\n",
      "('b', 'c')\n",
      "('c', 'a')\n",
      "('c', 'b')\n"
     ]
    }
   ],
   "source": [
    "# P 排列 順序有差\n",
    "\n",
    "items = ['a', 'b', 'c']\n",
    "from itertools import permutations\n",
    "\n",
    "for p in permutations(items):\n",
    "    print(p)\n",
    "    \n",
    "for p in permutations(items, 2):\n",
    "    print(p)"
   ]
  },
  {
   "cell_type": "code",
   "execution_count": 46,
   "metadata": {
    "ExecuteTime": {
     "end_time": "2019-07-07T14:31:08.627045Z",
     "start_time": "2019-07-07T14:31:08.622177Z"
    }
   },
   "outputs": [
    {
     "name": "stdout",
     "output_type": "stream",
     "text": [
      "('a', 'b', 'c')\n",
      "('a', 'b')\n",
      "('a', 'c')\n",
      "('b', 'c')\n"
     ]
    }
   ],
   "source": [
    "# C 組合 順序沒差\n",
    "\n",
    "from itertools import combinations\n",
    "for c in combinations(items, 3):\n",
    "    print(c)\n",
    "    \n",
    "for c in combinations(items, 2):\n",
    "    print(c)    "
   ]
  },
  {
   "cell_type": "code",
   "execution_count": 48,
   "metadata": {
    "ExecuteTime": {
     "end_time": "2019-07-07T14:33:14.022505Z",
     "start_time": "2019-07-07T14:33:14.017628Z"
    }
   },
   "outputs": [
    {
     "name": "stdout",
     "output_type": "stream",
     "text": [
      "('a', 'a', 'a')\n",
      "('a', 'a', 'b')\n",
      "('a', 'a', 'c')\n",
      "('a', 'b', 'b')\n",
      "('a', 'b', 'c')\n",
      "('a', 'c', 'c')\n",
      "('b', 'b', 'b')\n",
      "('b', 'b', 'c')\n",
      "('b', 'c', 'c')\n",
      "('c', 'c', 'c')\n"
     ]
    }
   ],
   "source": [
    "# 可複選組合\n",
    "\n",
    "from itertools import combinations_with_replacement\n",
    "for c in combinations_with_replacement(items, 3):\n",
    "     print(c)"
   ]
  },
  {
   "cell_type": "markdown",
   "metadata": {},
   "source": [
    "# [enumerate()]序列上索引值迭代"
   ]
  },
  {
   "cell_type": "code",
   "execution_count": 49,
   "metadata": {
    "ExecuteTime": {
     "end_time": "2019-07-08T09:02:15.281895Z",
     "start_time": "2019-07-08T09:02:13.385707Z"
    }
   },
   "outputs": [
    {
     "name": "stdout",
     "output_type": "stream",
     "text": [
      "0 a\n",
      "1 b\n",
      "2 c\n",
      "1 a\n",
      "2 b\n",
      "3 c\n"
     ]
    }
   ],
   "source": [
    "my_list = ['a', 'b', 'c']\n",
    "for idx, val in enumerate(my_list):\n",
    "    print(idx, val)\n",
    "\n",
    "# 序號從1開始\n",
    "my_list = ['a', 'b', 'c']\n",
    "for idx, val in enumerate(my_list, 1):\n",
    "    print(idx, val)"
   ]
  },
  {
   "cell_type": "markdown",
   "metadata": {},
   "source": [
    "# 同时迭代多个序列"
   ]
  },
  {
   "cell_type": "code",
   "execution_count": 51,
   "metadata": {
    "ExecuteTime": {
     "end_time": "2019-07-08T09:35:07.574477Z",
     "start_time": "2019-07-08T09:35:07.568621Z"
    }
   },
   "outputs": [
    {
     "name": "stdout",
     "output_type": "stream",
     "text": [
      "1 101\n",
      "5 78\n",
      "4 37\n",
      "2 15\n",
      "10 62\n",
      "7 99\n",
      "(1, 'w')\n",
      "(2, 'x')\n",
      "(3, 'y')\n"
     ]
    }
   ],
   "source": [
    "xpts = [1, 5, 4, 2, 10, 7]\n",
    "ypts = [101, 78, 37, 15, 62, 99]\n",
    "for x, y in zip(xpts, ypts):\n",
    "    print(x,y)\n",
    "\n",
    "# 迭代长度跟参数中最短序列长度一致。\n",
    "a = [1, 2, 3]\n",
    "b = ['w', 'x', 'y', 'z']\n",
    "for i in zip(a,b):\n",
    "    print(i) "
   ]
  },
  {
   "cell_type": "markdown",
   "metadata": {},
   "source": [
    "**使用 `itertools.zip_longest()` 函数**"
   ]
  },
  {
   "cell_type": "code",
   "execution_count": 52,
   "metadata": {
    "ExecuteTime": {
     "end_time": "2019-07-08T09:36:41.048869Z",
     "start_time": "2019-07-08T09:36:41.002021Z"
    }
   },
   "outputs": [
    {
     "name": "stdout",
     "output_type": "stream",
     "text": [
      "(1, 'w')\n",
      "(2, 'x')\n",
      "(3, 'y')\n",
      "(None, 'z')\n",
      "(1, 'w')\n",
      "(2, 'x')\n",
      "(3, 'y')\n",
      "(0, 'z')\n"
     ]
    }
   ],
   "source": [
    "from itertools import zip_longest\n",
    "for i in zip_longest(a,b):\n",
    "    print(i)\n",
    "    \n",
    "for i in zip_longest(a, b, fillvalue=0):\n",
    "    print(i)"
   ]
  },
  {
   "cell_type": "markdown",
   "metadata": {},
   "source": [
    "## 讨论"
   ]
  },
  {
   "cell_type": "markdown",
   "metadata": {},
   "source": [
    "`zip()` 会创建一个迭代器来作为结果返回。 如果你需要将结对的值存储"
   ]
  },
  {
   "cell_type": "code",
   "execution_count": 53,
   "metadata": {
    "ExecuteTime": {
     "end_time": "2019-07-08T09:39:07.769623Z",
     "start_time": "2019-07-08T09:39:07.592968Z"
    }
   },
   "outputs": [
    {
     "name": "stdout",
     "output_type": "stream",
     "text": [
      "(1, 10, 'x')\n",
      "(2, 11, 'y')\n",
      "(3, 12, 'z')\n"
     ]
    },
    {
     "data": {
      "text/plain": [
       "<zip at 0x22920a70188>"
      ]
     },
     "execution_count": 53,
     "metadata": {},
     "output_type": "execute_result"
    },
    {
     "data": {
      "text/plain": [
       "[(1, 10), (2, 11), (3, 12)]"
      ]
     },
     "execution_count": 53,
     "metadata": {},
     "output_type": "execute_result"
    },
    {
     "data": {
      "text/plain": [
       "{'name': 'ACME', 'shares': 100, 'price': 490.1}"
      ]
     },
     "execution_count": 53,
     "metadata": {},
     "output_type": "execute_result"
    }
   ],
   "source": [
    "\n",
    "a = [1, 2, 3]\n",
    "b = [10, 11, 12]\n",
    "c = ['x','y','z']\n",
    "for i in zip(a, b, c):\n",
    "    print(i)\n",
    "    \n",
    "zip(a, b)\n",
    "list(zip(a, b))\n",
    "    \n",
    "    \n",
    "headers = ['name', 'shares', 'price']\n",
    "values = ['ACME', 100, 490.1]\n",
    "\n",
    "dict(zip(headers,values))"
   ]
  },
  {
   "cell_type": "markdown",
   "metadata": {},
   "source": [
    "# [itertools.chain()]不同集合上元素的迭代"
   ]
  },
  {
   "cell_type": "code",
   "execution_count": 55,
   "metadata": {
    "ExecuteTime": {
     "end_time": "2019-07-08T10:23:34.799950Z",
     "start_time": "2019-07-08T10:23:34.784335Z"
    }
   },
   "outputs": [
    {
     "name": "stdout",
     "output_type": "stream",
     "text": [
      "1\n",
      "2\n",
      "3\n",
      "4\n",
      "x\n",
      "y\n",
      "z\n"
     ]
    }
   ],
   "source": [
    "from itertools import chain\n",
    "\n",
    "a = [1, 2, 3, 4]\n",
    "b = ['x', 'y', 'z']\n",
    "for x in chain(a, b):\n",
    "    print(x)\n",
    "    \n",
    "    "
   ]
  },
  {
   "cell_type": "markdown",
   "metadata": {},
   "source": [
    "## 讨论"
   ]
  },
  {
   "cell_type": "markdown",
   "metadata": {},
   "source": [
    "\n",
    "```py\n",
    "# Inefficent\n",
    "for x in a + b:\n",
    "    ...\n",
    "\n",
    "# Better\n",
    "for x in chain(a, b):\n",
    "    ...\n",
    "```\n",
    "\n",
    " `a + b` 操作会创建一个全新的序列并要求`a`和`b`的类型一致。 `chian()` 不会有这一步，所以如果输入序列非常大的时候会很省内存。 并且当可迭代对象类型不一样的时候 `chain()` 同样可以很好的工作"
   ]
  },
  {
   "cell_type": "markdown",
   "metadata": {},
   "source": [
    "# 创建数据处理管道"
   ]
  },
  {
   "cell_type": "markdown",
   "metadata": {},
   "source": [
    "你要处理一个非常大的日志文件目录：\n",
    "\n",
    "    foo/\n",
    "        access-log-012007.gz\n",
    "        access-log-022007.gz\n",
    "        access-log-032007.gz\n",
    "        ...\n",
    "        access-log-012008\n",
    "    bar/\n",
    "        access-log-092007.bz2\n",
    "        ...\n",
    "        access-log-022008\n",
    "        \n",
    "假设每个日志文件包含这样的数据：\n",
    "\n",
    "    124.115.6.12 - - [10/Jul/2012:00:18:50 -0500] \"GET /robots.txt ...\" 200 71\n",
    "    210.212.209.67 - - [10/Jul/2012:00:18:51 -0500] \"GET /ply/ ...\" 200 11875\n",
    "    210.212.209.67 - - [10/Jul/2012:00:18:51 -0500] \"GET /favicon.ico ...\" 404 369\n",
    "    61.135.216.105 - - [10/Jul/2012:00:20:04 -0500] \"GET /blog/atom.xml ...\" 304 -\n",
    "    ..."
   ]
  },
  {
   "cell_type": "markdown",
   "metadata": {},
   "source": [
    "\n",
    "为了处理这些文件，你可以定义一个由多个执行特定任务独立任务的简单生成器函数组成的容器\n",
    "\n",
    "```py\n",
    "import os\n",
    "import fnmatch\n",
    "import gzip\n",
    "import bz2\n",
    "import re\n",
    "\n",
    "def gen_find(filepat, top):\n",
    "    '''\n",
    "    Find all filenames in a directory tree that match a shell wildcard pattern\n",
    "    找到並返回檔案目錄生成器\n",
    "    '''\n",
    "    for path, dirlist, filelist in os.walk(top):\n",
    "        for name in fnmatch.filter(filelist, filepat):\n",
    "            yield os.path.join(path,name)\n",
    "\n",
    "def gen_opener(filenames):\n",
    "    '''\n",
    "    Open a sequence of filenames one at a time producing a file object.\n",
    "    The file is closed immediately when proceeding to the next iteration.\n",
    "    依檔案格式打開並返回生成器\n",
    "    '''\n",
    "    for filename in filenames:\n",
    "        if filename.endswith('.gz'):\n",
    "            f = gzip.open(filename, 'rt')\n",
    "        elif filename.endswith('.bz2'):\n",
    "            f = bz2.open(filename, 'rt')\n",
    "        else:\n",
    "            f = open(filename, 'rt')\n",
    "        yield f\n",
    "        f.close()\n",
    "\n",
    "def gen_concatenate(iterators):\n",
    "    '''\n",
    "    Chain a sequence of iterators together into a single sequence.\n",
    "    將生成器(包含f裡面的line)接起來\n",
    "    '''\n",
    "    for it in iterators:\n",
    "        yield from it\n",
    "\n",
    "def gen_grep(pattern, lines):\n",
    "    '''\n",
    "    Look for a regex pattern in a sequence of lines\n",
    "    找尋符合的模式並返回生成器\n",
    "    '''\n",
    "    pat = re.compile(pattern)\n",
    "    for line in lines:\n",
    "        if pat.search(line):\n",
    "            yield line\n",
    "            \n",
    " ```\n",
    " \n",
    " 现在你可以很容易的将这些函数连起来创建一个处理管道。 比如，为了查找包含单词`python`的所有日志行\n",
    " \n",
    "```py\n",
    "# 找到並返回檔案目錄生成器\n",
    "lognames = gen_find('access-log*', 'www')\n",
    "\n",
    "# 依檔案格式打開並返回生成器\n",
    "files = gen_opener(lognames)\n",
    "\n",
    "# 將生成器(包含f裡面的line)接起來\n",
    "lines = gen_concatenate(files)\n",
    "\n",
    "# 找尋符合的模式並返回生成器\n",
    "pylines = gen_grep('(?i)python', lines)\n",
    "\n",
    "for line in pylines:\n",
    "    print(line)\n",
    " ```\n",
    " \n",
    "如果将来的时候你想扩展管道，你甚至可以在生成器表达式中包装数据。 比如，下面这个版本计算出传输的字节数并计算其总和\n",
    "\n",
    "```py\n",
    "# 找到並返回檔案目錄生成器\n",
    "lognames = gen_find('access-log*', 'www')\n",
    "\n",
    "# 依檔案格式打開並返回生成器\n",
    "files = gen_opener(lognames)\n",
    "\n",
    "# 將生成器(包含f裡面的line)接起來\n",
    "lines = gen_concatenate(files)\n",
    "\n",
    "# 找尋符合的模式並返回生成器\n",
    "pylines = gen_grep('(?i)python', lines)\n",
    "\n",
    "# 算出传输的字节数并计算其总和\n",
    "bytecolumn = (line.rsplit(None,1)[1] for line in pylines)\n",
    "bytes = (int(x) for x in bytecolumn if x != '-')\n",
    "print('Total', sum(bytes))\n",
    "```"
   ]
  },
  {
   "cell_type": "markdown",
   "metadata": {},
   "source": [
    "## 讨论"
   ]
  },
  {
   "cell_type": "markdown",
   "metadata": {},
   "source": [
    "重点是要明白 `yield` 语句作为数据的生产者而 `for` 循环语句作为数据的消费者。 当这些生成器被连在一起后，每个 `yield` 会将一个单独的数据元素传递给迭代处理管道的下一阶段。 在例子最后部分， `sum()` 函数是最终的程序驱动者，每次从生成器管道中提取出一个元素\n",
    "\n",
    "---\n",
    "\n",
    "在调用 `gen_concatenate()` 函数的时候你可能会有些不太明白。 这个函数的目的是将输入序列拼接成一个很长的行序列。 \n",
    "\n",
    "`itertools.chain()` 函数同样有类似的功能，但是它需要将所有可迭代对象最为参数传入。 在上面这个例子中，你可能会写类似这样的语句 `lines = itertools.chain(*files)` ， 这将导致 `gen_opener()` 生成器被提前全部消费掉。 \n",
    "\n",
    "但由于 `gen_opener()` 生成器每次生成一个打开过的文件， 等到下一个迭代步骤时文件就关闭了，因此 `chain()` 在这里不能这样使用。\n",
    "\n",
    "**使用 `yield from it` 简单的返回生成器 it 所产生的所有值。**\n",
    "\n",
    "---"
   ]
  },
  {
   "cell_type": "markdown",
   "metadata": {},
   "source": [
    "# [isinstance(x, Iterable)]展开嵌套的序列"
   ]
  },
  {
   "cell_type": "code",
   "execution_count": 57,
   "metadata": {
    "ExecuteTime": {
     "end_time": "2019-07-08T14:28:47.132028Z",
     "start_time": "2019-07-08T14:28:46.901365Z"
    }
   },
   "outputs": [
    {
     "name": "stdout",
     "output_type": "stream",
     "text": [
      "1\n",
      "2\n",
      "3\n",
      "4\n",
      "5\n",
      "6\n",
      "7\n",
      "8\n",
      "Dave\n",
      "Paula\n",
      "Thomas\n",
      "Lewis\n"
     ]
    }
   ],
   "source": [
    "from collections import Iterable\n",
    "\n",
    "def flatten(items, ignore_types=(str, bytes)):\n",
    "    for x in items:\n",
    "        if isinstance(x, Iterable) and not isinstance(x, ignore_types):\n",
    "            yield from flatten(x)\n",
    "        else:\n",
    "            yield x\n",
    "\n",
    "items = [1, 2, [3, 4, [5, 6], 7], 8]\n",
    "# Produces 1 2 3 4 5 6 7 8\n",
    "for x in flatten(items):\n",
    "    print(x)\n",
    "    \n",
    "items = ['Dave', 'Paula', ['Thomas', 'Lewis']]\n",
    "for x in flatten(items):\n",
    "    print(x)"
   ]
  },
  {
   "cell_type": "markdown",
   "metadata": {},
   "source": [
    "`isinstance(x, Iterable)` 检查某个元素是否是可迭代的。 如果是的话， `yield from` 就会返回所有子例程的值。最终返回结果就是一个没有嵌套的简单序列了。\n",
    "\n",
    "额外的参数 `ignore_types` 和检测语句 `isinstance(x, ignore_types)` 用来将字符串和字节排除在可迭代对象外，防止将它们再展开成单个的字符。 这样的话字符串数组就能最终返回我们所期望的结果了。"
   ]
  },
  {
   "cell_type": "markdown",
   "metadata": {},
   "source": [
    "## [yield from ; for]讨论"
   ]
  },
  {
   "cell_type": "markdown",
   "metadata": {},
   "source": [
    "语句 `yield from` 在你想在生成器中调用其他生成器作为子例程的时候非常有用。 如果你不使用它的话，那么就必须写额外的 `for` 循环了\n",
    "\n",
    "```py\n",
    "def flatten(items, ignore_types=(str, bytes)):\n",
    "    for x in items:\n",
    "        if isinstance(x, Iterable) and not isinstance(x, ignore_types):\n",
    "            for i in flatten(x):\n",
    "                yield i\n",
    "        else:\n",
    "            yield x\n",
    "```"
   ]
  },
  {
   "cell_type": "markdown",
   "metadata": {},
   "source": [
    "# [heapq.merge()]顺序迭代合并后的排序迭代对象"
   ]
  },
  {
   "cell_type": "code",
   "execution_count": 59,
   "metadata": {
    "ExecuteTime": {
     "end_time": "2019-07-08T14:34:46.681250Z",
     "start_time": "2019-07-08T14:34:46.676335Z"
    }
   },
   "outputs": [
    {
     "name": "stdout",
     "output_type": "stream",
     "text": [
      "1\n",
      "2\n",
      "4\n",
      "5\n",
      "6\n",
      "7\n",
      "10\n",
      "11\n"
     ]
    }
   ],
   "source": [
    "import heapq\n",
    "a = [1, 4, 7, 10]\n",
    "b = [2, 5, 6, 11]\n",
    "\n",
    "for c in heapq.merge(a, b):\n",
    "    print(c)"
   ]
  },
  {
   "cell_type": "markdown",
   "metadata": {},
   "source": [
    "## 讨论"
   ]
  },
  {
   "cell_type": "markdown",
   "metadata": {},
   "source": [
    "`heapq.merge` 可迭代特性意味着它不会立马读取所有序列。 这就意味着你可以在非常长的序列中使用它，而不会有太大的开销。 比如，下面是一个例子来演示如何合并两个排序文件：\n",
    "\n",
    "```py\n",
    "with open('sorted_file_1', 'rt') as file1, \\\n",
    "    open('sorted_file_2', 'rt') as file2, \\\n",
    "    open('merged_file', 'wt') as outf:\n",
    "\n",
    "    for line in heapq.merge(file1, file2):\n",
    "        outf.write(line)\n",
    "```\n",
    "\n"
   ]
  },
  {
   "cell_type": "markdown",
   "metadata": {},
   "source": [
    "# 迭代器代替while无限循环"
   ]
  },
  {
   "cell_type": "markdown",
   "metadata": {},
   "source": [
    "\n",
    "一个常见的IO操作程序可能会想下面这样：\n",
    "\n",
    "```py\n",
    "CHUNKSIZE = 8192\n",
    "\n",
    "def reader(s):\n",
    "    while True:\n",
    "        data = s.recv(CHUNKSIZE)\n",
    "        if data == b'':\n",
    "            break\n",
    "        process_data(data)\n",
    "```\n",
    "\n",
    "可以使用 `iter()` 来代替\n",
    "\n",
    "```py\n",
    "def reader2(s):\n",
    "    for chunk in iter(lambda: s.recv(CHUNKSIZE), b''):\n",
    "        pass\n",
    "        # process_data(data)\n",
    "```\n",
    "\n"
   ]
  },
  {
   "cell_type": "markdown",
   "metadata": {},
   "source": [
    "## 讨论\n",
    "\n",
    "如果你想从套接字或文件中以数据块的方式读取数据，通常你得要不断重复的执行 `read()` 或 `recv()` ， 并在后面紧跟一个文件结尾测试来决定是否终止。\n",
    "\n",
    "这节中的方案使用一个简单的 `iter()` 调用就可以将两者结合起来了。 其中 lambda 函数参数是为了创建一个无参的 `callable` 对象，并为 `recv` 或 `read()` 方法提供了 `size` 参数。\n"
   ]
  },
  {
   "cell_type": "code",
   "execution_count": null,
   "metadata": {},
   "outputs": [],
   "source": []
  },
  {
   "cell_type": "code",
   "execution_count": null,
   "metadata": {},
   "outputs": [],
   "source": []
  },
  {
   "cell_type": "code",
   "execution_count": null,
   "metadata": {},
   "outputs": [],
   "source": []
  },
  {
   "cell_type": "code",
   "execution_count": null,
   "metadata": {},
   "outputs": [],
   "source": []
  },
  {
   "cell_type": "code",
   "execution_count": null,
   "metadata": {},
   "outputs": [],
   "source": []
  },
  {
   "cell_type": "code",
   "execution_count": null,
   "metadata": {},
   "outputs": [],
   "source": []
  },
  {
   "cell_type": "code",
   "execution_count": null,
   "metadata": {},
   "outputs": [],
   "source": []
  },
  {
   "cell_type": "code",
   "execution_count": null,
   "metadata": {},
   "outputs": [],
   "source": []
  },
  {
   "cell_type": "code",
   "execution_count": null,
   "metadata": {},
   "outputs": [],
   "source": []
  },
  {
   "cell_type": "code",
   "execution_count": null,
   "metadata": {},
   "outputs": [],
   "source": []
  },
  {
   "cell_type": "code",
   "execution_count": null,
   "metadata": {},
   "outputs": [],
   "source": []
  }
 ],
 "metadata": {
  "hide_input": false,
  "kernelspec": {
   "display_name": "Python [default]",
   "language": "python",
   "name": "python3"
  },
  "language_info": {
   "codemirror_mode": {
    "name": "ipython",
    "version": 3
   },
   "file_extension": ".py",
   "mimetype": "text/x-python",
   "name": "python",
   "nbconvert_exporter": "python",
   "pygments_lexer": "ipython3",
   "version": "3.6.5"
  },
  "toc": {
   "base_numbering": 1,
   "nav_menu": {},
   "number_sections": true,
   "sideBar": true,
   "skip_h1_title": false,
   "title_cell": "Table of Contents",
   "title_sidebar": "Contents",
   "toc_cell": true,
   "toc_position": {
    "height": "calc(100% - 180px)",
    "left": "10px",
    "top": "150px",
    "width": "192px"
   },
   "toc_section_display": true,
   "toc_window_display": true
  },
  "varInspector": {
   "cols": {
    "lenName": 16,
    "lenType": 16,
    "lenVar": 40
   },
   "kernels_config": {
    "python": {
     "delete_cmd_postfix": "",
     "delete_cmd_prefix": "del ",
     "library": "var_list.py",
     "varRefreshCmd": "print(var_dic_list())"
    },
    "r": {
     "delete_cmd_postfix": ") ",
     "delete_cmd_prefix": "rm(",
     "library": "var_list.r",
     "varRefreshCmd": "cat(var_dic_list()) "
    }
   },
   "types_to_exclude": [
    "module",
    "function",
    "builtin_function_or_method",
    "instance",
    "_Feature"
   ],
   "window_display": false
  }
 },
 "nbformat": 4,
 "nbformat_minor": 2
}
