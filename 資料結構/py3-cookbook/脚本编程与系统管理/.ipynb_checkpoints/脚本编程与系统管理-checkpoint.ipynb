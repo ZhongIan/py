{
 "cells": [
  {
   "cell_type": "markdown",
   "metadata": {
    "toc": true
   },
   "source": [
    "<h1>Table of Contents<span class=\"tocSkip\"></span></h1>\n",
    "<div class=\"toc\"><ul class=\"toc-item\"><li><span><a href=\"#[fileinput]通过重定向/管道/文件接受输入\" data-toc-modified-id=\"[fileinput]通过重定向/管道/文件接受输入-1\"><span class=\"toc-item-num\">1&nbsp;&nbsp;</span>[fileinput]通过重定向/管道/文件接受输入</a></span></li><li><span><a href=\"#[raise-SystemExit('It-failed!')]终止程序并给出错误信息\" data-toc-modified-id=\"[raise-SystemExit('It-failed!')]终止程序并给出错误信息-2\"><span class=\"toc-item-num\">2&nbsp;&nbsp;</span>[raise SystemExit('It failed!')]终止程序并给出错误信息</a></span></li><li><span><a href=\"#[argparse]解析命令行选项\" data-toc-modified-id=\"[argparse]解析命令行选项-3\"><span class=\"toc-item-num\">3&nbsp;&nbsp;</span>[argparse]解析命令行选项</a></span></li><li><span><a href=\"#[getpass]运行时弹出密码输入提示\" data-toc-modified-id=\"[getpass]运行时弹出密码输入提示-4\"><span class=\"toc-item-num\">4&nbsp;&nbsp;</span>[getpass]运行时弹出密码输入提示</a></span></li><li><span><a href=\"#[os.get_terminal_size()]获取终端的大小\" data-toc-modified-id=\"[os.get_terminal_size()]获取终端的大小-5\"><span class=\"toc-item-num\">5&nbsp;&nbsp;</span>[os.get_terminal_size()]获取终端的大小</a></span></li><li><span><a href=\"#[subprocess]{-windows-底下-bash-的命令沒有反應}执行外部命令并获取它的输出\" data-toc-modified-id=\"[subprocess]{-windows-底下-bash-的命令沒有反應}执行外部命令并获取它的输出-6\"><span class=\"toc-item-num\">6&nbsp;&nbsp;</span>[subprocess]{ windows 底下 bash 的命令沒有反應}执行外部命令并获取它的输出</a></span><ul class=\"toc-item\"><li><span><a href=\"#補充\" data-toc-modified-id=\"補充-6.1\"><span class=\"toc-item-num\">6.1&nbsp;&nbsp;</span>補充</a></span></li></ul></li><li><span><a href=\"#[shutil]复制或者移动文件和目录\" data-toc-modified-id=\"[shutil]复制或者移动文件和目录-7\"><span class=\"toc-item-num\">7&nbsp;&nbsp;</span>[shutil]复制或者移动文件和目录</a></span><ul class=\"toc-item\"><li><span><a href=\"#讨论\" data-toc-modified-id=\"讨论-7.1\"><span class=\"toc-item-num\">7.1&nbsp;&nbsp;</span>讨论</a></span></li><li><span><a href=\"#補充\" data-toc-modified-id=\"補充-7.2\"><span class=\"toc-item-num\">7.2&nbsp;&nbsp;</span>補充</a></span></li></ul></li><li><span><a href=\"#[shutil-.make_archive()-;-.unpack_archive]创建和解压归档文件\" data-toc-modified-id=\"[shutil-.make_archive()-;-.unpack_archive]创建和解压归档文件-8\"><span class=\"toc-item-num\">8&nbsp;&nbsp;</span>[shutil .make_archive() ; .unpack_archive]创建和解压归档文件</a></span></li><li><span><a href=\"#[os.walk()]通过文件名查找文件\" data-toc-modified-id=\"[os.walk()]通过文件名查找文件-9\"><span class=\"toc-item-num\">9&nbsp;&nbsp;</span>[os.walk()]通过文件名查找文件</a></span></li><li><span><a href=\"#[configparser.ConfigParser()-;-.ini]读取配置文件\" data-toc-modified-id=\"[configparser.ConfigParser()-;-.ini]读取配置文件-10\"><span class=\"toc-item-num\">10&nbsp;&nbsp;</span>[configparser.ConfigParser() ; .ini]读取配置文件</a></span><ul class=\"toc-item\"><li><span><a href=\"#[ini]讨论\" data-toc-modified-id=\"[ini]讨论-10.1\"><span class=\"toc-item-num\">10.1&nbsp;&nbsp;</span>[ini]讨论</a></span></li></ul></li><li><span><a href=\"#[logging]给简单脚本增加日志功能\" data-toc-modified-id=\"[logging]给简单脚本增加日志功能-11\"><span class=\"toc-item-num\">11&nbsp;&nbsp;</span>[logging]给简单脚本增加日志功能</a></span></li><li><span><a href=\"#[logging]给函数库增加日志功能\" data-toc-modified-id=\"[logging]给函数库增加日志功能-12\"><span class=\"toc-item-num\">12&nbsp;&nbsp;</span>[logging]给函数库增加日志功能</a></span><ul class=\"toc-item\"><li><span><a href=\"#讨论\" data-toc-modified-id=\"讨论-12.1\"><span class=\"toc-item-num\">12.1&nbsp;&nbsp;</span>讨论</a></span></li></ul></li><li><span><a href=\"#[Timer]实现一个计时器\" data-toc-modified-id=\"[Timer]实现一个计时器-13\"><span class=\"toc-item-num\">13&nbsp;&nbsp;</span>[Timer]实现一个计时器</a></span><ul class=\"toc-item\"><li><span><a href=\"#讨论\" data-toc-modified-id=\"讨论-13.1\"><span class=\"toc-item-num\">13.1&nbsp;&nbsp;</span>讨论</a></span></li></ul></li><li><span><a href=\"#限制内存和CPU的使用量\" data-toc-modified-id=\"限制内存和CPU的使用量-14\"><span class=\"toc-item-num\">14&nbsp;&nbsp;</span>限制内存和CPU的使用量</a></span></li><li><span><a href=\"#[webbrowser]启动一个WEB浏览器\" data-toc-modified-id=\"[webbrowser]启动一个WEB浏览器-15\"><span class=\"toc-item-num\">15&nbsp;&nbsp;</span>[webbrowser]启动一个WEB浏览器</a></span></li></ul></div>"
   ]
  },
  {
   "cell_type": "markdown",
   "metadata": {},
   "source": [
    "# [fileinput]通过重定向/管道/文件接受输入\n",
    "\n",
    "在命令行中传递一个文件名给该脚本"
   ]
  },
  {
   "cell_type": "code",
   "execution_count": 8,
   "metadata": {
    "ExecuteTime": {
     "end_time": "2019-10-15T15:39:38.709310Z",
     "start_time": "2019-10-15T15:39:38.702479Z"
    }
   },
   "outputs": [
    {
     "name": "stdout",
     "output_type": "stream",
     "text": [
      "Overwriting filein.py\n"
     ]
    }
   ],
   "source": [
    "%%file filein.py\n",
    "\n",
    "import fileinput\n",
    "import subprocess\n",
    "\n",
    "# ===== sys ======\n",
    "# python \"...\\filein.py\" FileinputTest.txt\n",
    "import sys\n",
    "a=sys.argv[0]\n",
    "b=sys.argv[1]\n",
    "\n",
    "print(\"filename:\",a)\n",
    "print(\"param1:\",b)\n",
    "\n",
    "with fileinput.input(b) as f_input:\n",
    "    for line in f_input:\n",
    "        print(line, end='')\n",
    "\n",
    "# ===== input =====\n",
    "#file = input(\"請輸入...\")\n",
    "#print(file)\n",
    "#\n",
    "#with fileinput.input(file) as f_input:\n",
    "#    for line in f_input:\n",
    "#        print(line, end='')\n",
    "        \n",
    "# 暫停        \n",
    "subprocess.call(\"pause\",shell=True)"
   ]
  },
  {
   "cell_type": "code",
   "execution_count": 9,
   "metadata": {
    "ExecuteTime": {
     "end_time": "2019-10-15T15:39:39.884940Z",
     "start_time": "2019-10-15T15:39:39.872252Z"
    }
   },
   "outputs": [
    {
     "name": "stdout",
     "output_type": "stream",
     "text": [
      "python \"D:\\CODE\\GitHub\\py\\資料結構\\py3-cookbook\\脚本编程与系统管理\\filein.py\" FileinputTest.txt\n",
      "D:\\CODE\\GitHub\\py\\資料結構\\py3-cookbook\\脚本编程与系统管理\n"
     ]
    },
    {
     "data": {
      "text/plain": [
       "<subprocess.Popen at 0x26c442fcf98>"
      ]
     },
     "execution_count": 9,
     "metadata": {},
     "output_type": "execute_result"
    }
   ],
   "source": [
    "# ============ 開新 CONSOLE ============\n",
    "# ------------ Run the server ------------\n",
    "\n",
    "import os\n",
    "import subprocess\n",
    "# os.path.abspath {本黨位置}: D:\\Google 雲端硬碟\\learn\\線程調用\\TestOS.py\n",
    "# os.path.dirname {目錄} : D:\\Google 雲端硬碟\\learn\\線程調用\n",
    "BASE_DIR = os.path.dirname(os.path.abspath('__file__'))\n",
    "\n",
    "# 透過 cmd 呼叫\n",
    "DIR = os.path.join(BASE_DIR, 'filein.py')\n",
    "cmd = \"python \" + f'\"{DIR}\"'  + ' FileinputTest.txt' # sys.argv[1]\n",
    "\n",
    "# 印出 cmd DIR\n",
    "print(cmd,BASE_DIR,sep='\\n')\n",
    "\n",
    "#  CONSOLE混雜\n",
    "#os.system(cmd)\n",
    "#subprocess.call(cmd)\n",
    "\n",
    "#  NEW 一個 CONSOLE\n",
    "subprocess.Popen(cmd, creationflags=subprocess.CREATE_NEW_CONSOLE)\n",
    "\n",
    "# 暫停(需在要執行的 py 上)\n",
    "#subprocess.call(\"pause\",shell=True)\n",
    "#os.system(\"pause\")"
   ]
  },
  {
   "cell_type": "markdown",
   "metadata": {},
   "source": [
    "`fileinput.input()` 创建并返回一个 `FileInput` 类的实例。 \n",
    "\n",
    "该实例除了拥有一些有用的帮助方法外，它还可被当做一个上下文管理器使用。 \n",
    "\n",
    "通过将它作为一个上下文管理器使用，可以确保它不再使用时文件能自动关闭。\n",
    "\n",
    "因此，整合起来，如果我们要写一个打印多个文件输出的脚本，那么我们需要在输出中包含文件名和行号"
   ]
  },
  {
   "cell_type": "code",
   "execution_count": 34,
   "metadata": {
    "ExecuteTime": {
     "end_time": "2019-10-12T12:48:52.392093Z",
     "start_time": "2019-10-12T12:48:52.386265Z"
    }
   },
   "outputs": [
    {
     "name": "stdout",
     "output_type": "stream",
     "text": [
      "FileinputTest.txt 1 1: AAAAA\n",
      "FileinputTest.txt 2 2: BBBBB\n",
      "FileinputTest.txt 3 3: CCCCC\n",
      "FileinputTest.txt 4 4: DDDDD\n"
     ]
    }
   ],
   "source": [
    "import fileinput\n",
    "\n",
    "with fileinput.input('FileinputTest.txt') as f:\n",
    "    for line in f:\n",
    "        print(f.filename(), f.lineno(), line, end='') "
   ]
  },
  {
   "cell_type": "markdown",
   "metadata": {},
   "source": [
    "# [raise SystemExit('It failed!')]终止程序并给出错误信息"
   ]
  },
  {
   "cell_type": "markdown",
   "metadata": {},
   "source": [
    "抛出一个 `SystemExit` 异常，使用错误消息作为参数。\n",
    "\n",
    "例如：\n",
    "\n",
    "```py\n",
    "raise SystemExit('It failed!')\n",
    "```\n",
    "\n",
    "它会将消息在 `sys.stderr` 中打印，然后程序以状态码1退出\n",
    "\n",
    "当你想要终止某个程序时，你可能会像下面这样写：\n",
    "\n",
    "```py\n",
    "import sys\n",
    "sys.stderr.write('It failed!\\n')\n",
    "raise SystemExit(1)\n",
    "```\n",
    "\n",
    "如果你直接将消息作为参数传给 `SystemExit()` ，那么你可以省略其他步骤， \n",
    "\n",
    "比如 `import` 语句或将错误消息写入 `sys.stderr`"
   ]
  },
  {
   "cell_type": "markdown",
   "metadata": {},
   "source": [
    "# [argparse]解析命令行选项"
   ]
  },
  {
   "cell_type": "markdown",
   "metadata": {},
   "source": [
    "首先要创建一个 `ArgumentParser` 实例， 并使用 `add_argument()` 方法声明你想要支持的选项。 \n",
    "\n",
    "在每个 `add_argument()` 调用中， `dest` 参数指定解析结果被指派给属性的名字。\n",
    "\n",
    "`metavar` 参数被用来生成帮助信息。\n",
    "\n",
    "`action` 参数指定跟属性对应的处理逻辑， 通常的值为 `store` ,被用来存储某个值或将多个参数值收集到一个列表中。 \n",
    "\n",
    "---\n",
    "\n",
    "`nargs='*'` 下面的参数收集所有剩余的命令行参数到一个列表中。\n",
    "\n",
    "在本例中它被用来构造一个文件名列表：\n",
    "\n",
    "```py\n",
    "parser.add_argument(dest='filenames',metavar='filename', nargs='*')\n",
    "```\n",
    "\n",
    "---\n",
    "\n",
    "`action='store_true'` 下面的参数根据参数是否存在来设置一个 `Boolean` 标志：\n",
    "\n",
    "```py\n",
    "parser.add_argument('-v', dest='verbose', action='store_true',\n",
    "                    help='verbose mode')\n",
    "```\n",
    "\n",
    "---\n",
    "\n",
    "`action='store'` 下面的参数接受一个单独值并将其存储为一个字符串：\n",
    "\n",
    "```py\n",
    "parser.add_argument('-o', dest='outfile', action='store',\n",
    "                    help='output file')\n",
    "```\n",
    "\n",
    "---\n",
    "\n",
    "`action='append'` 下面的参数说明允许某个参数重复出现多次，并将它们追加到一个列表中去。 \n",
    "\n",
    "`required` 标志表示该参数至少要有一个。\n",
    "\n",
    "`-p` 和 `--pat` 表示两个参数名形式都可使用。\n",
    "\n",
    "```py\n",
    "parser.add_argument('-p', '--pat',metavar='pattern', required=True,\n",
    "                    dest='patterns', action='append',\n",
    "                    help='text pattern to search for')\n",
    "```\n",
    "\n",
    "---\n",
    "\n",
    "最后， `choices={'slow','fast'}` 下面的参数说明接受一个值，但是会将其和可能的选择值做比较，以检测其合法性：\n",
    "\n",
    "```py\n",
    "parser.add_argument('--speed', dest='speed', action='store',\n",
    "                    choices={'slow','fast'}, default='slow',\n",
    "                    help='search speed')\n",
    "```\n",
    "\n",
    "---\n",
    "\n",
    "一旦参数选项被指定，你就可以执行 `parser.parse()` 方法了。 它会处理 `sys.argv` 的值并返回一个结果实例。 \n",
    "\n",
    "每个参数值会被设置成该实例中` add_argument()` 方法的 `dest` 参数指定的属性值。\n"
   ]
  },
  {
   "cell_type": "code",
   "execution_count": 14,
   "metadata": {
    "ExecuteTime": {
     "end_time": "2019-10-13T13:11:43.385544Z",
     "start_time": "2019-10-13T13:11:43.378674Z"
    }
   },
   "outputs": [
    {
     "name": "stdout",
     "output_type": "stream",
     "text": [
      "Overwriting search.py\n"
     ]
    }
   ],
   "source": [
    "%%file search.py\n",
    "'''\n",
    "Hypothetical command-line tool for searching a collection of\n",
    "files for one or more text patterns.\n",
    "'''\n",
    "\n",
    "import os\n",
    "\n",
    "import argparse\n",
    "parser = argparse.ArgumentParser(description='Search some files')\n",
    "\n",
    "parser.add_argument(dest='filenames',metavar='filename', nargs='*')\n",
    "\n",
    "# required=True 必填\n",
    "parser.add_argument('-p', '--pat',metavar='pattern', required=True,\n",
    "                    dest='patterns', action='append',\n",
    "                    help='text pattern to search for')\n",
    "\n",
    "parser.add_argument('-v', dest='verbose', action='store_true',\n",
    "                    help='verbose mode')\n",
    "\n",
    "parser.add_argument('-o', dest='outfile', action='store',\n",
    "                    help='output file')\n",
    "\n",
    "parser.add_argument('--speed', dest='speed', action='store',\n",
    "                    choices={'slow','fast'}, default='slow',\n",
    "                    help='search speed')\n",
    "\n",
    "args = parser.parse_args()\n",
    "\n",
    "# Output the collected arguments\n",
    "print(args.filenames)\n",
    "print(args.patterns)\n",
    "print(args.verbose)\n",
    "print(args.outfile)\n",
    "print(args.speed)\n",
    "\n",
    "os.system(\"pause\")"
   ]
  },
  {
   "cell_type": "code",
   "execution_count": 24,
   "metadata": {
    "ExecuteTime": {
     "end_time": "2019-10-13T13:37:55.118467Z",
     "start_time": "2019-10-13T13:37:55.108707Z"
    }
   },
   "outputs": [
    {
     "name": "stdout",
     "output_type": "stream",
     "text": [
      "python \"D:\\CODE\\GitHub\\py\\資料結構\\py3-cookbook\\脚本编程与系统管理\\search.py\" -v -p spam -p eggs foo.txt\n",
      "D:\\CODE\\GitHub\\py\\資料結構\\py3-cookbook\\脚本编程与系统管理\n"
     ]
    },
    {
     "data": {
      "text/plain": [
       "<subprocess.Popen at 0x17b4cac94e0>"
      ]
     },
     "execution_count": 24,
     "metadata": {},
     "output_type": "execute_result"
    }
   ],
   "source": [
    "# ============ 開新 CONSOLE ============\n",
    "# ------------ Run the server ------------\n",
    "\n",
    "import os\n",
    "import subprocess\n",
    "# os.path.abspath {本黨位置}: D:\\Google 雲端硬碟\\learn\\線程調用\\TestOS.py\n",
    "# os.path.dirname {目錄} : D:\\Google 雲端硬碟\\learn\\線程調用\n",
    "BASE_DIR = os.path.dirname(os.path.abspath('__file__'))\n",
    "\n",
    "# =============== cmd 參數 ================\n",
    "# 透過 cmd 呼叫\n",
    "DIR = os.path.join(BASE_DIR, 'search.py')\n",
    "cmd = \"python \" + f'\"{DIR}\"' + ' -v -p spam -p eggs foo.txt'\n",
    "# ' -v -p spam --pat=eggs foo.txt bar.txt -o results --speed=fast'\n",
    "\n",
    "# 印出 cmd DIR\n",
    "print(cmd,BASE_DIR,sep='\\n')\n",
    "\n",
    "#  CONSOLE混雜\n",
    "#os.system(cmd)\n",
    "#subprocess.call(cmd)\n",
    "\n",
    "#  NEW 一個 CONSOLE\n",
    "subprocess.Popen(cmd, creationflags=subprocess.CREATE_NEW_CONSOLE)\n",
    "\n",
    "# 暫停(需在要執行的 py 上)\n",
    "#subprocess.call(\"pause\",shell=True)\n",
    "#os.system(\"pause\")"
   ]
  },
  {
   "cell_type": "markdown",
   "metadata": {},
   "source": [
    "```py\n",
    "ArgumentParser(\n",
    "    prog=None, # program 的名字，None 就檔名\n",
    "    usage=None, # None 就根據你設定的參數產生相對應的說明\n",
    "    description=None, # 描述\n",
    "    epilog=None # 補充說明 ex: epilog=\"see the doc: https://...\"\n",
    "    )\n",
    "```\n",
    "\n",
    "位置參數 (positional argument)\n",
    "\n",
    "    parser.add_argument(dest='filenames',metavar='filename', nargs='*')\n",
    "    \n",
    "    # nargs='*' 任意位置(無前綴)的參數\n",
    "     foo.txt\n",
    "\n",
    "選擇性參數 (optional argument) 根據前綴來指定\n",
    "\n",
    "    parser.add_argument('-o', dest='outfile', action='store',\n",
    "                    help='output file')\n",
    "                    \n",
    "    -o results"
   ]
  },
  {
   "cell_type": "markdown",
   "metadata": {},
   "source": [
    "# [getpass]运行时弹出密码输入提示"
   ]
  },
  {
   "cell_type": "markdown",
   "metadata": {},
   "source": [
    "`Python` 的 `getpass` 模块正是你所需要的。\n",
    "\n",
    "你可以让你很轻松的弹出密码输入提示， 并且不会在用户终端回显密码。\n",
    "\n",
    "下面是具体代码"
   ]
  },
  {
   "cell_type": "code",
   "execution_count": 35,
   "metadata": {
    "ExecuteTime": {
     "end_time": "2019-10-13T14:22:06.910256Z",
     "start_time": "2019-10-13T14:22:03.894654Z"
    }
   },
   "outputs": [
    {
     "name": "stdout",
     "output_type": "stream",
     "text": [
      "········\n",
      "Yay!\n",
      "po390\n"
     ]
    }
   ],
   "source": [
    "import getpass\n",
    "\n",
    "user = getpass.getuser() # 'po390' # C:\\Users\\po390>\n",
    "passwd = getpass.getpass()\n",
    "\n",
    "def svc_login( passwd):\n",
    "    if  passwd == \"123\":\n",
    "        return True\n",
    "    else:\n",
    "        return False\n",
    "\n",
    "if svc_login( passwd):    \n",
    "    print('Yay!')\n",
    "else:\n",
    "    print('Boo!')\n",
    "    \n",
    "print(user)"
   ]
  },
  {
   "cell_type": "markdown",
   "metadata": {
    "ExecuteTime": {
     "end_time": "2019-10-13T14:24:44.437693Z",
     "start_time": "2019-10-13T14:24:44.432814Z"
    }
   },
   "source": [
    "如果你想显示的弹出用户名输入提示，使用内置的 `input` 函数：\n",
    "\n",
    "```py\n",
    "user = input('Enter your username: ')\n",
    "```"
   ]
  },
  {
   "cell_type": "markdown",
   "metadata": {},
   "source": [
    "# [os.get_terminal_size()]获取终端的大小"
   ]
  },
  {
   "cell_type": "markdown",
   "metadata": {},
   "source": [
    "使用 `os.get_terminal_size()` 函数来做到这一点。"
   ]
  },
  {
   "cell_type": "code",
   "execution_count": 37,
   "metadata": {
    "ExecuteTime": {
     "end_time": "2019-10-13T14:25:45.908173Z",
     "start_time": "2019-10-13T14:25:45.900365Z"
    }
   },
   "outputs": [
    {
     "data": {
      "text/plain": [
       "os.terminal_size(columns=120, lines=30)"
      ]
     },
     "execution_count": 37,
     "metadata": {},
     "output_type": "execute_result"
    },
    {
     "data": {
      "text/plain": [
       "120"
      ]
     },
     "execution_count": 37,
     "metadata": {},
     "output_type": "execute_result"
    },
    {
     "data": {
      "text/plain": [
       "30"
      ]
     },
     "execution_count": 37,
     "metadata": {},
     "output_type": "execute_result"
    }
   ],
   "source": [
    "import os\n",
    "sz = os.get_terminal_size()\n",
    "\n",
    "sz\n",
    "sz.columns\n",
    "sz.lines"
   ]
  },
  {
   "cell_type": "markdown",
   "metadata": {},
   "source": [
    "# [subprocess]{ windows 底下 bash 的命令沒有反應}执行外部命令并获取它的输出"
   ]
  },
  {
   "cell_type": "markdown",
   "metadata": {},
   "source": [
    "和 `shell` 有關 ， 在 `windows` 底下 `bash` 的命令沒有反應，\n",
    "\n",
    "且預設編碼非 `utf8` 輸出也有困難"
   ]
  },
  {
   "cell_type": "markdown",
   "metadata": {},
   "source": [
    "## 補充"
   ]
  },
  {
   "cell_type": "code",
   "execution_count": 18,
   "metadata": {
    "ExecuteTime": {
     "end_time": "2019-10-15T15:44:38.883153Z",
     "start_time": "2019-10-15T15:44:38.872417Z"
    }
   },
   "outputs": [
    {
     "name": "stdout",
     "output_type": "stream",
     "text": [
      "python \"D:\\CODE\\GitHub\\py\\資料結構\\py3-cookbook\\脚本编程与系统管理\\filein.py\" FileinputTest.txt\n",
      "D:\\CODE\\GitHub\\py\\資料結構\\py3-cookbook\\脚本编程与系统管理\n"
     ]
    }
   ],
   "source": [
    "# ============ 開新 CONSOLE ============\n",
    "# ------------ Run the server ------------\n",
    "\n",
    "import os\n",
    "import subprocess\n",
    "# os.path.abspath {本黨位置}: D:\\Google 雲端硬碟\\learn\\線程調用\\TestOS.py\n",
    "# os.path.dirname {目錄} : D:\\Google 雲端硬碟\\learn\\線程調用\n",
    "BASE_DIR = os.path.dirname(os.path.abspath('__file__'))\n",
    "\n",
    "# 透過 cmd 呼叫\n",
    "DIR = os.path.join(BASE_DIR, 'filein.py')\n",
    "cmd = \"python \" + f'\"{DIR}\"'  + ' FileinputTest.txt' # sys.argv[1]\n",
    "\n",
    "# 印出 cmd DIR\n",
    "print(cmd,BASE_DIR,sep='\\n')\n",
    "\n",
    "#  CONSOLE混雜\n",
    "#os.system(cmd)\n",
    "#subprocess.call(cmd)\n",
    "\n",
    "#  NEW 一個 CONSOLE\n",
    "subp = subprocess.Popen(cmd, creationflags=subprocess.CREATE_NEW_CONSOLE)\n",
    "\n",
    "# 暫停(需在要執行的 py 上)\n",
    "#subprocess.call(\"pause\",shell=True)\n",
    "#os.system(\"pause\")"
   ]
  },
  {
   "cell_type": "markdown",
   "metadata": {},
   "source": [
    "\n",
    "**參考** [Python3 subprocess](https://www.runoob.com/w3cnote/python3-subprocess.html)"
   ]
  },
  {
   "cell_type": "code",
   "execution_count": 20,
   "metadata": {
    "ExecuteTime": {
     "end_time": "2019-10-15T15:57:12.538586Z",
     "start_time": "2019-10-15T15:57:12.503451Z"
    }
   },
   "outputs": [
    {
     "name": "stderr",
     "output_type": "stream",
     "text": [
      "Exception in thread Thread-16:\n",
      "Traceback (most recent call last):\n",
      "  File \"D:\\anaconda\\lib\\threading.py\", line 916, in _bootstrap_inner\n",
      "    self.run()\n",
      "  File \"D:\\anaconda\\lib\\threading.py\", line 864, in run\n",
      "    self._target(*self._args, **self._kwargs)\n",
      "  File \"D:\\anaconda\\lib\\subprocess.py\", line 1063, in _readerthread\n",
      "    buffer.append(fh.read())\n",
      "  File \"D:\\anaconda\\lib\\codecs.py\", line 321, in decode\n",
      "    (result, consumed) = self._buffer_decode(data, self.errors, final)\n",
      "UnicodeDecodeError: 'utf-8' codec can't decode byte 0xa5 in position 62: invalid start byte\n",
      "\n"
     ]
    },
    {
     "ename": "IndexError",
     "evalue": "list index out of range",
     "output_type": "error",
     "traceback": [
      "\u001b[1;31m---------------------------------------------------------------------------\u001b[0m",
      "\u001b[1;31mIndexError\u001b[0m                                Traceback (most recent call last)",
      "\u001b[1;32m<ipython-input-20-5e0aa5b86dd2>\u001b[0m in \u001b[0;36m<module>\u001b[1;34m()\u001b[0m\n\u001b[0;32m      8\u001b[0m \u001b[1;33m\u001b[0m\u001b[0m\n\u001b[0;32m      9\u001b[0m \u001b[1;33m\u001b[0m\u001b[0m\n\u001b[1;32m---> 10\u001b[1;33m \u001b[0mruncmd\u001b[0m\u001b[1;33m(\u001b[0m\u001b[1;33m[\u001b[0m\u001b[1;34m\"dir\"\u001b[0m\u001b[1;33m,\u001b[0m\u001b[1;34m\"/b\"\u001b[0m\u001b[1;33m]\u001b[0m\u001b[1;33m)\u001b[0m\u001b[1;31m#序列参数\u001b[0m\u001b[1;33m\u001b[0m\u001b[0m\n\u001b[0m",
      "\u001b[1;32m<ipython-input-20-5e0aa5b86dd2>\u001b[0m in \u001b[0;36mruncmd\u001b[1;34m(command)\u001b[0m\n\u001b[0;32m      1\u001b[0m \u001b[1;32mimport\u001b[0m \u001b[0msubprocess\u001b[0m\u001b[1;33m\u001b[0m\u001b[0m\n\u001b[0;32m      2\u001b[0m \u001b[1;32mdef\u001b[0m \u001b[0mruncmd\u001b[0m\u001b[1;33m(\u001b[0m\u001b[0mcommand\u001b[0m\u001b[1;33m)\u001b[0m\u001b[1;33m:\u001b[0m\u001b[1;33m\u001b[0m\u001b[0m\n\u001b[1;32m----> 3\u001b[1;33m     \u001b[0mret\u001b[0m \u001b[1;33m=\u001b[0m \u001b[0msubprocess\u001b[0m\u001b[1;33m.\u001b[0m\u001b[0mrun\u001b[0m\u001b[1;33m(\u001b[0m\u001b[0mcommand\u001b[0m\u001b[1;33m,\u001b[0m\u001b[0mshell\u001b[0m\u001b[1;33m=\u001b[0m\u001b[1;32mTrue\u001b[0m\u001b[1;33m,\u001b[0m\u001b[0mstdout\u001b[0m\u001b[1;33m=\u001b[0m\u001b[0msubprocess\u001b[0m\u001b[1;33m.\u001b[0m\u001b[0mPIPE\u001b[0m\u001b[1;33m,\u001b[0m\u001b[0mstderr\u001b[0m\u001b[1;33m=\u001b[0m\u001b[0msubprocess\u001b[0m\u001b[1;33m.\u001b[0m\u001b[0mPIPE\u001b[0m\u001b[1;33m,\u001b[0m\u001b[0mencoding\u001b[0m\u001b[1;33m=\u001b[0m\u001b[1;34m\"utf-8\"\u001b[0m\u001b[1;33m,\u001b[0m\u001b[0mtimeout\u001b[0m\u001b[1;33m=\u001b[0m\u001b[1;36m1\u001b[0m\u001b[1;33m)\u001b[0m\u001b[1;33m\u001b[0m\u001b[0m\n\u001b[0m\u001b[0;32m      4\u001b[0m     \u001b[1;32mif\u001b[0m \u001b[0mret\u001b[0m\u001b[1;33m.\u001b[0m\u001b[0mreturncode\u001b[0m \u001b[1;33m==\u001b[0m \u001b[1;36m0\u001b[0m\u001b[1;33m:\u001b[0m\u001b[1;33m\u001b[0m\u001b[0m\n\u001b[0;32m      5\u001b[0m         \u001b[0mprint\u001b[0m\u001b[1;33m(\u001b[0m\u001b[1;34m\"success:\"\u001b[0m\u001b[1;33m,\u001b[0m\u001b[0mret\u001b[0m\u001b[1;33m)\u001b[0m\u001b[1;33m\u001b[0m\u001b[0m\n",
      "\u001b[1;32mD:\\anaconda\\lib\\subprocess.py\u001b[0m in \u001b[0;36mrun\u001b[1;34m(input, timeout, check, *popenargs, **kwargs)\u001b[0m\n\u001b[0;32m    403\u001b[0m     \u001b[1;32mwith\u001b[0m \u001b[0mPopen\u001b[0m\u001b[1;33m(\u001b[0m\u001b[1;33m*\u001b[0m\u001b[0mpopenargs\u001b[0m\u001b[1;33m,\u001b[0m \u001b[1;33m**\u001b[0m\u001b[0mkwargs\u001b[0m\u001b[1;33m)\u001b[0m \u001b[1;32mas\u001b[0m \u001b[0mprocess\u001b[0m\u001b[1;33m:\u001b[0m\u001b[1;33m\u001b[0m\u001b[0m\n\u001b[0;32m    404\u001b[0m         \u001b[1;32mtry\u001b[0m\u001b[1;33m:\u001b[0m\u001b[1;33m\u001b[0m\u001b[0m\n\u001b[1;32m--> 405\u001b[1;33m             \u001b[0mstdout\u001b[0m\u001b[1;33m,\u001b[0m \u001b[0mstderr\u001b[0m \u001b[1;33m=\u001b[0m \u001b[0mprocess\u001b[0m\u001b[1;33m.\u001b[0m\u001b[0mcommunicate\u001b[0m\u001b[1;33m(\u001b[0m\u001b[0minput\u001b[0m\u001b[1;33m,\u001b[0m \u001b[0mtimeout\u001b[0m\u001b[1;33m=\u001b[0m\u001b[0mtimeout\u001b[0m\u001b[1;33m)\u001b[0m\u001b[1;33m\u001b[0m\u001b[0m\n\u001b[0m\u001b[0;32m    406\u001b[0m         \u001b[1;32mexcept\u001b[0m \u001b[0mTimeoutExpired\u001b[0m\u001b[1;33m:\u001b[0m\u001b[1;33m\u001b[0m\u001b[0m\n\u001b[0;32m    407\u001b[0m             \u001b[0mprocess\u001b[0m\u001b[1;33m.\u001b[0m\u001b[0mkill\u001b[0m\u001b[1;33m(\u001b[0m\u001b[1;33m)\u001b[0m\u001b[1;33m\u001b[0m\u001b[0m\n",
      "\u001b[1;32mD:\\anaconda\\lib\\subprocess.py\u001b[0m in \u001b[0;36mcommunicate\u001b[1;34m(self, input, timeout)\u001b[0m\n\u001b[0;32m    841\u001b[0m \u001b[1;33m\u001b[0m\u001b[0m\n\u001b[0;32m    842\u001b[0m             \u001b[1;32mtry\u001b[0m\u001b[1;33m:\u001b[0m\u001b[1;33m\u001b[0m\u001b[0m\n\u001b[1;32m--> 843\u001b[1;33m                 \u001b[0mstdout\u001b[0m\u001b[1;33m,\u001b[0m \u001b[0mstderr\u001b[0m \u001b[1;33m=\u001b[0m \u001b[0mself\u001b[0m\u001b[1;33m.\u001b[0m\u001b[0m_communicate\u001b[0m\u001b[1;33m(\u001b[0m\u001b[0minput\u001b[0m\u001b[1;33m,\u001b[0m \u001b[0mendtime\u001b[0m\u001b[1;33m,\u001b[0m \u001b[0mtimeout\u001b[0m\u001b[1;33m)\u001b[0m\u001b[1;33m\u001b[0m\u001b[0m\n\u001b[0m\u001b[0;32m    844\u001b[0m             \u001b[1;32mfinally\u001b[0m\u001b[1;33m:\u001b[0m\u001b[1;33m\u001b[0m\u001b[0m\n\u001b[0;32m    845\u001b[0m                 \u001b[0mself\u001b[0m\u001b[1;33m.\u001b[0m\u001b[0m_communication_started\u001b[0m \u001b[1;33m=\u001b[0m \u001b[1;32mTrue\u001b[0m\u001b[1;33m\u001b[0m\u001b[0m\n",
      "\u001b[1;32mD:\\anaconda\\lib\\subprocess.py\u001b[0m in \u001b[0;36m_communicate\u001b[1;34m(self, input, endtime, orig_timeout)\u001b[0m\n\u001b[0;32m   1111\u001b[0m             \u001b[1;31m# All data exchanged.  Translate lists into strings.\u001b[0m\u001b[1;33m\u001b[0m\u001b[1;33m\u001b[0m\u001b[0m\n\u001b[0;32m   1112\u001b[0m             \u001b[1;32mif\u001b[0m \u001b[0mstdout\u001b[0m \u001b[1;32mis\u001b[0m \u001b[1;32mnot\u001b[0m \u001b[1;32mNone\u001b[0m\u001b[1;33m:\u001b[0m\u001b[1;33m\u001b[0m\u001b[0m\n\u001b[1;32m-> 1113\u001b[1;33m                 \u001b[0mstdout\u001b[0m \u001b[1;33m=\u001b[0m \u001b[0mstdout\u001b[0m\u001b[1;33m[\u001b[0m\u001b[1;36m0\u001b[0m\u001b[1;33m]\u001b[0m\u001b[1;33m\u001b[0m\u001b[0m\n\u001b[0m\u001b[0;32m   1114\u001b[0m             \u001b[1;32mif\u001b[0m \u001b[0mstderr\u001b[0m \u001b[1;32mis\u001b[0m \u001b[1;32mnot\u001b[0m \u001b[1;32mNone\u001b[0m\u001b[1;33m:\u001b[0m\u001b[1;33m\u001b[0m\u001b[0m\n\u001b[0;32m   1115\u001b[0m                 \u001b[0mstderr\u001b[0m \u001b[1;33m=\u001b[0m \u001b[0mstderr\u001b[0m\u001b[1;33m[\u001b[0m\u001b[1;36m0\u001b[0m\u001b[1;33m]\u001b[0m\u001b[1;33m\u001b[0m\u001b[0m\n",
      "\u001b[1;31mIndexError\u001b[0m: list index out of range"
     ]
    }
   ],
   "source": [
    "import subprocess\n",
    "def runcmd(command):\n",
    "    ret = subprocess.run(command,shell=True,stdout=subprocess.PIPE,stderr=subprocess.PIPE,encoding=\"utf-8\",timeout=1)\n",
    "    if ret.returncode == 0:\n",
    "        print(\"success:\",ret)\n",
    "    else:\n",
    "        print(\"error:\",ret)\n",
    "\n",
    "\n",
    "runcmd([\"dir\",\"/b\"])#序列参数"
   ]
  },
  {
   "cell_type": "code",
   "execution_count": 23,
   "metadata": {
    "ExecuteTime": {
     "end_time": "2019-10-15T15:58:20.854898Z",
     "start_time": "2019-10-15T15:58:20.813803Z"
    }
   },
   "outputs": [
    {
     "name": "stdout",
     "output_type": "stream",
     "text": [
      "Python 3.6.5 :: Anaconda custom (64-bit)\n",
      "\n"
     ]
    }
   ],
   "source": [
    "import time\n",
    "import subprocess\n",
    "\n",
    "def cmdfun(command):\n",
    "    subp = subprocess.Popen(command,shell=True,stdout=subprocess.PIPE,stderr=subprocess.PIPE,encoding=\"utf-8\")\n",
    "    subp.wait(2)\n",
    "    # 检查进程是否终止\n",
    "    if subp.poll() == 0:\n",
    "        # communicate(input,timeout) 和子进程交互，发送和读取数据\n",
    "        print(subp.communicate()[1])\n",
    "    else:\n",
    "        print(\"失败\")\n",
    "\n",
    "cmdfun(\"python --version\")\n"
   ]
  },
  {
   "cell_type": "code",
   "execution_count": 24,
   "metadata": {
    "ExecuteTime": {
     "end_time": "2019-10-15T15:58:45.110424Z",
     "start_time": "2019-10-15T15:58:44.975762Z"
    }
   },
   "outputs": [
    {
     "data": {
      "text/plain": [
       "'python \"D:\\\\CODE\\\\GitHub\\\\py\\\\資料結構\\\\py3-cookbook\\\\脚本编程与系统管理\\\\filein.py\" FileinputTest.txt'"
      ]
     },
     "execution_count": 24,
     "metadata": {},
     "output_type": "execute_result"
    },
    {
     "name": "stdout",
     "output_type": "stream",
     "text": [
      "失败\n"
     ]
    }
   ],
   "source": [
    "cmd\n",
    "cmdfun(cmd)"
   ]
  },
  {
   "cell_type": "markdown",
   "metadata": {},
   "source": [
    "# [shutil]复制或者移动文件和目录"
   ]
  },
  {
   "cell_type": "markdown",
   "metadata": {},
   "source": [
    "你想要复制或移动文件和目录，但是又不想调用 `shell` 命令。\n",
    "\n",
    "`shutil` 模块有很多便捷的函数可以复制文件和目录。使用起来非常简单\n",
    "\n",
    "```py\n",
    "import shutil\n",
    "\n",
    "# Copy src to dst. (cp src dst)\n",
    "shutil.copy(src, dst)\n",
    "\n",
    "# 復制文件的內容以及文件的所有狀態信息。先copyfile後copystat\n",
    "# Copy files, but preserve metadata (cp -p src dst)\n",
    "shutil.copy2(src, dst)\n",
    "\n",
    "# Copy directory tree (cp -R src dst)\n",
    "shutil.copytree(src, dst)\n",
    "\n",
    "# Move src to dst (mv src dst)\n",
    "shutil.move(src, dst)\n",
    "```\n",
    "\n",
    "这些函数的参数都是字符串形式的文件或目录名。 底层语义模拟了类似的 `Unix` 命令\n",
    "\n",
    "如果你只想复制符号链接本身，那么需要指定关键字参数 `follow_symlinks` ,如下：\n",
    "\n",
    "如果你想保留被复制目录中的符号链接，像这样做：\n",
    "\n",
    "```py\n",
    "shutil.copytree(src, dst, symlinks=True)\n",
    "```\n",
    "\n",
    "`copytree()` 可以让你在复制过程中选择性的忽略某些文件或目录。 \n",
    "\n",
    "你可以提供一个忽略函数，接受一个目录名和文件名列表作为输入，返回一个忽略的名称列表。\n",
    "\n",
    "例如：\n",
    "\n",
    "```py\n",
    "def ignore_pyc_files(dirname, filenames):\n",
    "    return [name in filenames if name.endswith('.pyc')]\n",
    "\n",
    "shutil.copytree(src, dst, ignore=ignore_pyc_files)\n",
    "```\n",
    "\n",
    "由于忽略某种模式的文件名是很常见的，因此一个便捷的函数 `ignore_patterns()` 已经包含在里面了。\n",
    "\n",
    "例如：\n",
    "\n",
    "```py\n",
    "shutil.copytree(src, dst, ignore=shutil.ignore_patterns('*~', '*.pyc'))\n",
    "```\n",
    "\n",
    "## 讨论\n",
    "\n",
    "你通常不会去使用 `shutil.copytree()` 函数来执行系统备份。 \n",
    "\n",
    "当处理文件名的时候，最好使用 `os.path` 中的函数来确保最大的可移植性（特别是同时要适用于 `Unix` 和 `Windows` ）\n",
    "\n",
    "```py\n",
    ">>> filename = '/Users/guido/programs/spam.py'\n",
    ">>> import os.path\n",
    ">>> os.path.basename(filename)\n",
    "'spam.py'\n",
    ">>> os.path.dirname(filename)\n",
    "'/Users/guido/programs'\n",
    ">>> os.path.split(filename)\n",
    "('/Users/guido/programs', 'spam.py')\n",
    ">>> os.path.join('/new/dir', os.path.basename(filename))\n",
    "'/new/dir/spam.py'\n",
    ">>> os.path.expanduser('~/guido/programs/spam.py')\n",
    "'/Users/guido/programs/spam.py'\n",
    ">>>\n",
    "```\n",
    "\n",
    "使用 `copytree()` 复制文件夹的一个棘手的问题是对于错误的处理。\n",
    "\n",
    "例如，在复制过程中，函数可能会碰到损坏的符号链接，因为权限无法访问文件的问题等等。\n",
    "\n",
    "为了解决这个问题，所有碰到的问题会被收集到一个列表中并打包为一个单独的异常，到了最后再抛出。 \n",
    "\n",
    "下面是一个例子：\n",
    "\n",
    "```py\n",
    "try:\n",
    "    shutil.copytree(src, dst)\n",
    "except shutil.Error as e:\n",
    "    for src, dst, msg in e.args[0]:\n",
    "         # src is source name\n",
    "         # dst is destination name\n",
    "         # msg is error message from exception\n",
    "         print(dst, src, msg)\n",
    "```         \n",
    "         \n",
    "如果你提供关键字参数 `ignore_dangling_symlinks=True` ， 这时候 `copytree()` 会忽略掉无效符号链接。\n"
   ]
  },
  {
   "cell_type": "markdown",
   "metadata": {},
   "source": [
    "\n",
    "## 補充\n",
    "\n",
    "**Python中shutil模塊的常用文件操作函數用法示例**\n",
    "\n",
    "https://www.itread01.com/articles/1476166838.html\n",
    "    \n",
    "\n",
    "`os` 模塊提供了對目錄或者文件的 新建/刪除/查看 文件屬性\n",
    "\n",
    "```py\n",
    "shutil.copyfileobj(fsrc, fdst[, length=16*1024])\n",
    "# copy文件內容到另一個文件，可以copy指定大小的內容\n",
    "```  \n",
    "\n",
    "其中 `fsrc` ， `fdst` 都是文件對象，都需要打開後才能進行復制操作\n",
    "\n",
    "```py\n",
    "import shutil\n",
    "f1=open('name','r')\n",
    "f2=open('name_copy','w+')\n",
    "shutil.copyfileobj(f1,f2,length=16*1024)\n",
    "```\n",
    "\n",
    "```py\n",
    "# copyfile調用了copyfileobj\n",
    "shutil.copyfile(src,dst)\n",
    "\n",
    "# 僅copy權限，不更改文件內容，組和用戶\n",
    "shutil.copymode(src,dst)  \n",
    "\n",
    "# 復制所有的狀態信息，包括權限，組，用戶，時間等\n",
    "shutil.copystat(src,dst)   \n",
    "\n",
    "# 復制文件的內容以及權限，先copyfile後copymode\n",
    "shutil.copy(src,dst) \n",
    "\n",
    "# 復制文件的內容以及文件的所有狀態信息。先copyfile後copystat\n",
    "shutil.copy2(src,dst)\n",
    "\n",
    "# 遞歸的復制文件內容及狀態信息\n",
    "shutil.copytree(\n",
    "    src, \n",
    "    dst, \n",
    "    symlinks=False, \n",
    "    ignore=None, \n",
    "    copy_function=copy2,\n",
    "    ignore_dangling_symlinks=False\n",
    ")  \n",
    "\n",
    "# 遞歸地刪除文件\n",
    "shutil.rmtree(path, ignore_errors=False, onerror=None) \n",
    "\n",
    "# 遞歸的移動文件\n",
    "shutil.move(src, dst)   \n",
    "\n",
    "make_archive(\n",
    "    base_name,           # 壓縮打包後的文件名或者路徑名\n",
    "    format,              # 壓縮或者打包格式    \"zip\", \"tar\", \"bztar\"or \"gztar\"\n",
    "    root_dir=None,       # 將哪個目錄或者文件打包（也就是源文件）\n",
    "    base_dir=None, \n",
    "    verbose=0,dry_run=0, \n",
    "    owner=None, \n",
    "    group=None, \n",
    "    logger=None\n",
    ") \n",
    "```"
   ]
  },
  {
   "cell_type": "markdown",
   "metadata": {},
   "source": [
    "# [shutil .make_archive() ; .unpack_archive]创建和解压归档文件"
   ]
  },
  {
   "cell_type": "markdown",
   "metadata": {},
   "source": [
    "`shutil` 模块拥有两个函数—— `make_archive()` 和 `unpack_archive()` 可派上用场。 例如：\n",
    "\n",
    "```py\n",
    ">>> import shutil\n",
    ">>> shutil.unpack_archive('Python-3.3.0.tgz')\n",
    "\n",
    ">>> shutil.make_archive('py33','zip','Python-3.3.0')\n",
    "'/Users/beazley/Downloads/py33.zip'\n",
    ">>>\n",
    "```\n",
    "\n",
    "`make_archive()` 的第二个参数是期望的输出格式。 可\n",
    "\n",
    "以使用 `get_archive_formats()` 获取所有支持的归档格式列表。\n",
    "\n",
    "例如：\n",
    "\n",
    "```py\n",
    ">>> shutil.get_archive_formats()\n",
    "[('bztar', \"bzip2'ed tar-file\"), ('gztar', \"gzip'ed tar-file\"),\n",
    " ('tar', 'uncompressed tar file'), ('zip', 'ZIP file')]\n",
    ">>>\n",
    "```\n",
    "\n",
    "`Python` 还有其他的模块可用来处理多种归档格式（比如 `tarfile` , `zipfile` , `gzip` , `bz2` ）的底层细节。 \n",
    "\n",
    "不过，如果你仅仅只是要创建或提取某个归档，就没有必要使用底层库了。 \n",
    "\n",
    "可以直接使用 `shutil` 中的这些高层函数。\n"
   ]
  },
  {
   "cell_type": "markdown",
   "metadata": {},
   "source": [
    "# [os.walk()]通过文件名查找文件"
   ]
  },
  {
   "cell_type": "markdown",
   "metadata": {},
   "source": [
    "查找文件，可使用 `os.walk()` 函数，传一个顶级目录名给它。 下面是一个例子，查找特定的文件名并答应所有符合条件的文件全路径："
   ]
  },
  {
   "cell_type": "code",
   "execution_count": 40,
   "metadata": {
    "ExecuteTime": {
     "end_time": "2019-10-16T15:04:08.438554Z",
     "start_time": "2019-10-16T15:04:08.432680Z"
    }
   },
   "outputs": [
    {
     "name": "stdout",
     "output_type": "stream",
     "text": [
      "Overwriting findfile.py\n"
     ]
    }
   ],
   "source": [
    "%%file findfile.py\n",
    "\n",
    "import os\n",
    "import sys\n",
    "\n",
    "def findfile(start, name):\n",
    "    for relpath, dirs, files in os.walk(start):\n",
    "        if name in files:\n",
    "            full_path = os.path.join(start, relpath, name)\n",
    "            print(os.path.normpath(os.path.abspath(full_path)))\n",
    "\n",
    "if __name__ == '__main__':\n",
    "    findfile(sys.argv[1], sys.argv[2])\n",
    "    os.system(\"pause\")"
   ]
  },
  {
   "cell_type": "code",
   "execution_count": 41,
   "metadata": {
    "ExecuteTime": {
     "end_time": "2019-10-16T15:04:10.271859Z",
     "start_time": "2019-10-16T15:04:10.262125Z"
    }
   },
   "outputs": [
    {
     "name": "stdout",
     "output_type": "stream",
     "text": [
      "python \"D:\\CODE\\GitHub\\py\\資料結構\\py3-cookbook\\脚本编程与系统管理\\findfile.py\" D:/CODE/GitHub/py/資料結構/py3-cookbook/脚本编程与系统管理 findfile.py\n",
      "D:\\CODE\\GitHub\\py\\資料結構\\py3-cookbook\\脚本编程与系统管理\n"
     ]
    },
    {
     "data": {
      "text/plain": [
       "<subprocess.Popen at 0x26c443416d8>"
      ]
     },
     "execution_count": 41,
     "metadata": {},
     "output_type": "execute_result"
    }
   ],
   "source": [
    "# ============ 開新 CONSOLE ============\n",
    "# ------------ Run the server ------------\n",
    "\n",
    "import os\n",
    "import subprocess\n",
    "# os.path.abspath {本黨位置}: D:\\Google 雲端硬碟\\learn\\線程調用\\TestOS.py\n",
    "# os.path.dirname {目錄} : D:\\Google 雲端硬碟\\learn\\線程調用\n",
    "BASE_DIR = os.path.dirname(os.path.abspath('__file__'))\n",
    "\n",
    "# 透過 cmd 呼叫\n",
    "DIR = os.path.join(BASE_DIR, 'findfile.py')\n",
    "cmd = \"python \" + f'\"{DIR}\"'  \\\n",
    "+ r\" D:/CODE/GitHub/py/資料結構/py3-cookbook/脚本编程与系统管理\" \\\n",
    "+ \" findfile.py\" \n",
    "# sys.argv[1]  # sys.argv[2]\n",
    "\n",
    "\n",
    "# 印出 cmd DIR\n",
    "print(cmd,BASE_DIR,sep='\\n')\n",
    "\n",
    "#  CONSOLE混雜\n",
    "#os.system(cmd)\n",
    "#subprocess.call(cmd)\n",
    "\n",
    "#  NEW 一個 CONSOLE\n",
    "subprocess.Popen(cmd, creationflags=subprocess.CREATE_NEW_CONSOLE)\n",
    "\n",
    "# 暫停(需在要執行的 py 上)\n",
    "#subprocess.call(\"pause\",shell=True)\n",
    "#os.system(\"pause\")"
   ]
  },
  {
   "cell_type": "code",
   "execution_count": 34,
   "metadata": {
    "ExecuteTime": {
     "end_time": "2019-10-16T14:59:42.704830Z",
     "start_time": "2019-10-16T14:59:42.696983Z"
    }
   },
   "outputs": [
    {
     "name": "stdout",
     "output_type": "stream",
     "text": [
      "D:\\CODE\\GitHub\\py\\資料結構\\py3-cookbook\\脚本编程与系统管理\\findfile.py\n"
     ]
    }
   ],
   "source": [
    "import os\n",
    "\n",
    "def findfile(start, name):\n",
    "    for relpath, dirs, files in os.walk(start):\n",
    "        if name in files:\n",
    "            full_path = os.path.join(start, relpath, name)\n",
    "            print(os.path.normpath(os.path.abspath(full_path)))\n",
    "            \n",
    "if __name__ == '__main__':\n",
    "    findfile(\n",
    "        r\"D:/CODE/GitHub/py/資料結構/py3-cookbook/脚本编程与系统管理\",\n",
    "        \"findfile.py\"\n",
    "    )"
   ]
  },
  {
   "cell_type": "markdown",
   "metadata": {},
   "source": [
    "`os.walk()` 方法为我们遍历目录树， 每次进入一个目录，它会返回一个三元组，包含相对于查找目录的相对路径，一个该目录下的目录名列表， 以及那个目录下面的文件名列表。\n",
    "\n",
    "对于每个元组，只需检测一下目标文件名是否在文件列表中。\n",
    "\n",
    "如果是就使用 `os.path.join()` 合并路径。 \n",
    "\n",
    "为了避免奇怪的路径名比如 `././foo//bar` ，使用了另外两个函数来修正结果。 \n",
    "\n",
    "第一个是 `os.path.abspath()` ,它接受一个路径，可能是相对路径，最后返回绝对路径。 \n",
    "\n",
    "第二个是 `os.path.normpath()` ，用来返回正常路径，可以解决双斜杆、对目录的多重引用的问题等。\n",
    "\n",
    "下面的函数打印所有最近被修改过的文件："
   ]
  },
  {
   "cell_type": "code",
   "execution_count": 43,
   "metadata": {
    "ExecuteTime": {
     "end_time": "2019-10-16T15:10:27.857224Z",
     "start_time": "2019-10-16T15:10:27.847465Z"
    }
   },
   "outputs": [
    {
     "name": "stdout",
     "output_type": "stream",
     "text": [
      "D:/CODE/GitHub/py/資料結構/py3-cookbook/脚本编程与系统管理\\filein.py\n",
      "D:/CODE/GitHub/py/資料結構/py3-cookbook/脚本编程与系统管理\\FileinputTest.txt\n",
      "D:/CODE/GitHub/py/資料結構/py3-cookbook/脚本编程与系统管理\\findfile.py\n",
      "D:/CODE/GitHub/py/資料結構/py3-cookbook/脚本编程与系统管理\\search.py\n",
      "D:/CODE/GitHub/py/資料結構/py3-cookbook/脚本编程与系统管理\\脚本编程与系统管理.ipynb\n",
      "D:/CODE/GitHub/py/資料結構/py3-cookbook/脚本编程与系统管理\\.ipynb_checkpoints\\脚本编程与系统管理-checkpoint.ipynb\n"
     ]
    }
   ],
   "source": [
    "import os\n",
    "import time\n",
    "\n",
    "def modified_within(top, seconds):\n",
    "    now = time.time()\n",
    "    for path, dirs, files in os.walk(top):\n",
    "        for name in files:\n",
    "            fullpath = os.path.join(path, name)\n",
    "            if os.path.exists(fullpath):\n",
    "                mtime = os.path.getmtime(fullpath)\n",
    "                if mtime > (now - seconds):\n",
    "                    print(fullpath)\n",
    "\n",
    "if __name__ == '__main__':\n",
    "    #import sys\n",
    "    #if len(sys.argv) != 3:\n",
    "    #    print('Usage: {} dir seconds'.format(sys.argv[0]))\n",
    "    #    raise SystemExit(1)\n",
    "\n",
    "    #modified_within(sys.argv[1], float(sys.argv[2]))\n",
    "    \n",
    "    modified_within(\n",
    "        r\"D:/CODE/GitHub/py/資料結構/py3-cookbook/脚本编程与系统管理\",\n",
    "        float('20191010')\n",
    "    )"
   ]
  },
  {
   "cell_type": "markdown",
   "metadata": {},
   "source": [
    "# [configparser.ConfigParser() ; .ini]读取配置文件"
   ]
  },
  {
   "cell_type": "code",
   "execution_count": 44,
   "metadata": {
    "ExecuteTime": {
     "end_time": "2019-10-16T15:14:30.418520Z",
     "start_time": "2019-10-16T15:14:30.409735Z"
    }
   },
   "outputs": [
    {
     "name": "stdout",
     "output_type": "stream",
     "text": [
      "Writing config.ini\n"
     ]
    }
   ],
   "source": [
    "%%file config.ini\n",
    "; config.ini\n",
    "; Sample configuration file\n",
    "\n",
    "[installation]\n",
    "library=%(prefix)s/lib\n",
    "include=%(prefix)s/include\n",
    "bin=%(prefix)s/bin\n",
    "prefix=/usr/local\n",
    "\n",
    "# Setting related to debug configuration\n",
    "[debug]\n",
    "log_errors=true\n",
    "show_warnings=False\n",
    "\n",
    "[server]\n",
    "port: 8080\n",
    "nworkers: 32\n",
    "pid-file=/tmp/spam.pid\n",
    "root=/www/root\n",
    "signature:\n",
    "    =================================\n",
    "    Brought to you by the Python Cookbook\n",
    "    ================================="
   ]
  },
  {
   "cell_type": "code",
   "execution_count": 45,
   "metadata": {
    "ExecuteTime": {
     "end_time": "2019-10-16T15:14:41.480188Z",
     "start_time": "2019-10-16T15:14:41.317640Z"
    }
   },
   "outputs": [],
   "source": [
    "from configparser import ConfigParser"
   ]
  },
  {
   "cell_type": "code",
   "execution_count": 48,
   "metadata": {
    "ExecuteTime": {
     "end_time": "2019-10-16T15:16:09.288524Z",
     "start_time": "2019-10-16T15:16:09.272908Z"
    }
   },
   "outputs": [
    {
     "data": {
      "text/plain": [
       "['config.ini']"
      ]
     },
     "execution_count": 48,
     "metadata": {},
     "output_type": "execute_result"
    },
    {
     "data": {
      "text/plain": [
       "['installation', 'debug', 'server']"
      ]
     },
     "execution_count": 48,
     "metadata": {},
     "output_type": "execute_result"
    },
    {
     "data": {
      "text/plain": [
       "'/usr/local/lib'"
      ]
     },
     "execution_count": 48,
     "metadata": {},
     "output_type": "execute_result"
    },
    {
     "data": {
      "text/plain": [
       "True"
      ]
     },
     "execution_count": 48,
     "metadata": {},
     "output_type": "execute_result"
    },
    {
     "data": {
      "text/plain": [
       "8080"
      ]
     },
     "execution_count": 48,
     "metadata": {},
     "output_type": "execute_result"
    },
    {
     "data": {
      "text/plain": [
       "32"
      ]
     },
     "execution_count": 48,
     "metadata": {},
     "output_type": "execute_result"
    },
    {
     "name": "stdout",
     "output_type": "stream",
     "text": [
      "\n",
      "=================================\n",
      "Brought to you by the Python Cookbook\n",
      "=================================\n"
     ]
    }
   ],
   "source": [
    "cfg = ConfigParser()\n",
    "cfg.read('config.ini')\n",
    "# ['config.ini']\n",
    "\n",
    "cfg.sections()\n",
    "# ['installation', 'debug', 'server']\n",
    "\n",
    "cfg.get('installation','library')\n",
    "# '/usr/local/lib'\n",
    "\n",
    "cfg.getboolean('debug','log_errors')\n",
    "# True\n",
    "\n",
    "cfg.getint('server','port')\n",
    "# 8080\n",
    "\n",
    "cfg.getint('server','nworkers')\n",
    "# 32\n",
    "\n",
    "print(cfg.get('server','signature'))\n",
    "# =================================\n",
    "# Brought to you by the Python Cookbook\n",
    "# ================================="
   ]
  },
  {
   "cell_type": "markdown",
   "metadata": {},
   "source": [
    "如果有需要，你还能修改配置并使用 `cfg.write()` 方法将其写回到文件中。\n",
    "\n",
    "例如："
   ]
  },
  {
   "cell_type": "code",
   "execution_count": 49,
   "metadata": {
    "ExecuteTime": {
     "end_time": "2019-10-16T15:19:06.503330Z",
     "start_time": "2019-10-16T15:19:06.497475Z"
    }
   },
   "outputs": [
    {
     "name": "stdout",
     "output_type": "stream",
     "text": [
      "[installation]\n",
      "library = %(prefix)s/lib\n",
      "include = %(prefix)s/include\n",
      "bin = %(prefix)s/bin\n",
      "prefix = /usr/local\n",
      "\n",
      "[debug]\n",
      "log_errors = False\n",
      "show_warnings = False\n",
      "\n",
      "[server]\n",
      "port = 9000\n",
      "nworkers = 32\n",
      "pid-file = /tmp/spam.pid\n",
      "root = /www/root\n",
      "signature = \n",
      "\t=================================\n",
      "\tBrought to you by the Python Cookbook\n",
      "\t=================================\n",
      "\n"
     ]
    }
   ],
   "source": [
    "cfg.set('server','port','9000')\n",
    "cfg.set('debug','log_errors','False')\n",
    "import sys\n",
    "cfg.write(sys.stdout) # sys.stdout.write 方法把字符写入到标准输出中"
   ]
  },
  {
   "cell_type": "code",
   "execution_count": null,
   "metadata": {
    "ExecuteTime": {
     "end_time": "2019-10-16T15:20:59.354878Z",
     "start_time": "2019-10-16T15:20:59.347998Z"
    }
   },
   "outputs": [],
   "source": [
    "# %load config.ini\n",
    "; config.ini\n",
    "; Sample configuration file\n",
    "\n",
    "[installation]\n",
    "library=%(prefix)s/lib\n",
    "include=%(prefix)s/include\n",
    "bin=%(prefix)s/bin\n",
    "prefix=/usr/local\n",
    "\n",
    "# Setting related to debug configuration\n",
    "[debug]\n",
    "log_errors=true\n",
    "show_warnings=False\n",
    "\n",
    "[server]\n",
    "port: 8080\n",
    "nworkers: 32\n",
    "pid-file=/tmp/spam.pid\n",
    "root=/www/root\n",
    "signature:\n",
    "    =================================\n",
    "    Brought to you by the Python Cookbook\n",
    "    ================================="
   ]
  },
  {
   "cell_type": "markdown",
   "metadata": {},
   "source": [
    "## [ini]讨论"
   ]
  },
  {
   "cell_type": "markdown",
   "metadata": {},
   "source": [
    "配置数据会被分组（比如例子中的 `installation` 、 `debug` 和 `server`）。 \n",
    "\n",
    "个分组在其中指定对应的各个变量值。\n",
    "\n",
    "下面的赋值语句是等效的：\n",
    "\n",
    "```ini\n",
    "prefix=/usr/local\n",
    "prefix: /usr/local\n",
    "```    \n",
    "    \n",
    "配置文件中的名字是不区分大小写的。例如：\n",
    "\n",
    "```\n",
    ">>> cfg.get('installation','PREFIX')\n",
    "'/usr/local'\n",
    ">>> cfg.get('installation','prefix')\n",
    "'/usr/local'\n",
    "```\n",
    "\n",
    "在解析值的时候， `getboolean()` 方法查找任何可行的值。\n",
    "\n",
    "例如下面都是等价的：\n",
    "\n",
    "```ini\n",
    "log_errors = true\n",
    "log_errors = TRUE\n",
    "log_errors = Yes\n",
    "log_errors = 1\n",
    "```\n",
    "\n",
    "它并不是从上而下的顺序执行。 \n",
    "\n",
    "文件是安装一个整体被读取的。\n",
    "\n",
    "如果碰到了变量替换，它实际上已经被替换完成了。 \n",
    "\n",
    "例如，在下面这个配置中， `prefix` 变量在使用它的变量之前或之后定义都是可以的：    \n",
    "\n",
    "```ini\n",
    "[installation]\n",
    "library=%(prefix)s/lib\n",
    "include=%(prefix)s/include\n",
    "bin=%(prefix)s/bin\n",
    "prefix=/usr/local\n",
    "```\n",
    "\n",
    "`ConfigParser` 有个容易被忽视的特性是它能一次读取多个配置文件然后合并成一个配置。 \n",
    "\n",
    "例如，假设一个用户像下面这样构造了他们的配置文件：\n",
    "\n",
    "```ini\n",
    "; ~/.config.ini\n",
    "[installation]\n",
    "prefix=/Users/beazley/test\n",
    "\n",
    "[debug]\n",
    "log_errors=False\n",
    "```\n",
    "\n",
    "读取这个文件，它就能跟之前的配置合并起来。如：\n",
    "\n",
    "```py\n",
    ">>> # Previously read configuration\n",
    ">>> cfg.get('installation', 'prefix')\n",
    "'/usr/local'\n",
    "\n",
    ">>> # Merge in user-specific configuration\n",
    ">>> import os\n",
    ">>> cfg.read(os.path.expanduser('~/.config.ini'))\n",
    "['/Users/beazley/.config.ini']\n",
    "\n",
    ">>> cfg.get('installation', 'prefix')\n",
    "'/Users/beazley/test'\n",
    ">>> cfg.get('installation', 'library')\n",
    "'/Users/beazley/test/lib'\n",
    ">>> cfg.getboolean('debug', 'log_errors')\n",
    "False\n",
    "```\n",
    "\n",
    "仔细观察下 `prefix` 变量是怎样覆盖其他相关变量的，比如 `library` 的设定值。\n",
    "\n",
    "产生这种结果的原因是变量的改写采取的是后发制人策略，以最后一个为准。 \n",
    "\n",
    "可以像下面这样做试验：\n",
    "\n",
    "```py\n",
    ">>> cfg.get('installation','library')\n",
    "'/Users/beazley/test/lib'\n",
    ">>> cfg.set('installation','prefix','/tmp/dir')\n",
    ">>> cfg.get('installation','library')\n",
    "'/tmp/dir/lib'\n",
    ">>>\n",
    "```"
   ]
  },
  {
   "cell_type": "markdown",
   "metadata": {},
   "source": [
    "# [logging]给简单脚本增加日志功能"
   ]
  },
  {
   "cell_type": "markdown",
   "metadata": {},
   "source": [
    "打印日志最简单方式是使用 `logging` 模块"
   ]
  },
  {
   "cell_type": "code",
   "execution_count": 52,
   "metadata": {
    "ExecuteTime": {
     "end_time": "2019-10-16T15:43:55.271917Z",
     "start_time": "2019-10-16T15:43:55.147136Z"
    }
   },
   "outputs": [],
   "source": [
    "import logging\n",
    "\n",
    "def main():\n",
    "    # Configure the logging system\n",
    "    logging.basicConfig(\n",
    "        filename='app.log',\n",
    "        level=logging.ERROR\n",
    "    )\n",
    "\n",
    "    # Variables (to make the calls that follow work)\n",
    "    hostname = 'www.python.org'\n",
    "    item = 'spam'\n",
    "    filename = 'data.csv'\n",
    "    mode = 'r'\n",
    "\n",
    "    # Example logging calls (insert into your program)\n",
    "    logging.critical('Host %s unknown', hostname)\n",
    "    logging.error(\"Couldn't find %r\", item)\n",
    "    logging.warning('Feature is deprecated')\n",
    "    logging.info('Opening file %r, mode=%r', filename, mode)\n",
    "    logging.debug('Got here')\n",
    "\n",
    "if __name__ == '__main__':\n",
    "    main()"
   ]
  },
  {
   "cell_type": "raw",
   "metadata": {
    "ExecuteTime": {
     "end_time": "2019-10-16T15:44:40.540707Z",
     "start_time": "2019-10-16T15:44:40.525092Z"
    }
   },
   "source": [
    "# %load app.log\n",
    "CRITICAL:root:Host www.python.org unknown\n",
    "ERROR:root:Couldn't find 'spam'\n"
   ]
  },
  {
   "cell_type": "markdown",
   "metadata": {},
   "source": [
    "上面五个日志调用 `（critical(), error(), warning(), info(), debug()）` 以降序方式表示不同的严重级别。\n",
    "\n",
    "`basicConfig()` 的 `level` 参数是一个过滤器。 \n",
    "\n",
    "所有级别低于此级别的日志消息都会被忽略掉。 \n",
    "\n",
    "每个 `logging` 操作的参数是一个消息字符串，后面再跟一个或多个参数。\n",
    "\n",
    "构造最终的日志消息的时候我们使用了 `%` 操作符来格式化消息字符串。\n",
    "\n",
    "如果你想改变输出等级，你可以修改 `basicConfig()` 调用中的参数。\n",
    "\n",
    "例如：\n",
    "\n",
    "```py\n",
    "logging.basicConfig(\n",
    "     filename='app.log',\n",
    "     level=logging.WARNING,\n",
    "     format='%(levelname)s:%(asctime)s:%(message)s'\n",
    ")\n",
    "```\n",
    "\n",
    "上面的日志配置都是硬编码到程序中的。\n",
    "\n",
    "如果你想使用配置文件， 可以像下面这样修改 `basicConfig()` 调用：\n",
    "\n",
    "```py\n",
    "import logging\n",
    "import logging.config\n",
    "\n",
    "def main():\n",
    "    # Configure the logging system\n",
    "    logging.config.fileConfig('logconfig.ini')\n",
    "    ...\n",
    "```\n",
    "\n",
    "创建一个下面这样的文件，名字叫 `logconfig.ini` ：\n",
    "\n",
    "```ini\n",
    "[loggers]\n",
    "keys=root\n",
    "\n",
    "[handlers]\n",
    "keys=defaultHandler\n",
    "\n",
    "[formatters]\n",
    "keys=defaultFormatter\n",
    "\n",
    "[logger_root]\n",
    "level=INFO\n",
    "handlers=defaultHandler\n",
    "qualname=root\n",
    "\n",
    "[handler_defaultHandler]\n",
    "class=FileHandler\n",
    "formatter=defaultFormatter\n",
    "args=('app.log', 'a')\n",
    "\n",
    "[formatter_defaultFormatter]\n",
    "format=%(levelname)s:%(name)s:%(message)s\n",
    "```\n",
    "\n"
   ]
  },
  {
   "cell_type": "markdown",
   "metadata": {},
   "source": [
    "尽管对于 `logging` 模块而已有很多更高级的配置选项， 不过这里的方案对于简单的程序和脚本已经足够了。 \n",
    "\n",
    "只想在调用日志操作前先执行下 `basicConfig()` 函数方法，你的程序就能产生日志输出了。\n",
    "\n",
    "如果你想要你的日志消息写到标准错误中，而不是日志文件中，调用 `basicConfig()`  时不传文件名参数即可。\n",
    "\n",
    "例如：\n",
    "\n",
    "```py\n",
    "logging.basicConfig(level=logging.INFO)\n",
    "```\n",
    "\n",
    "`basicConfig()` 在程序中只能被执行一次。\n",
    "\n",
    "如果你稍后想改变日志配置， 就需要先获取 `root logger` ，然后直接修改它。\n",
    "\n",
    "例如：\n",
    "\n",
    "```py\n",
    "logging.getLogger().level = logging.DEBUG\n",
    "```"
   ]
  },
  {
   "cell_type": "markdown",
   "metadata": {},
   "source": [
    "# [logging]给函数库增加日志功能"
   ]
  },
  {
   "cell_type": "markdown",
   "metadata": {},
   "source": [
    "对于想要执行日志操作的函数库而已，你应该创建一个专属的 `logger` 对象，并且像下面这样初始化配置："
   ]
  },
  {
   "cell_type": "code",
   "execution_count": 1,
   "metadata": {
    "ExecuteTime": {
     "end_time": "2019-10-16T16:17:57.625235Z",
     "start_time": "2019-10-16T16:17:57.615475Z"
    }
   },
   "outputs": [
    {
     "name": "stdout",
     "output_type": "stream",
     "text": [
      "Overwriting somelib.py\n"
     ]
    }
   ],
   "source": [
    "%%file somelib.py\n",
    "\n",
    "import logging\n",
    "log = logging.getLogger(__name__)\n",
    "log.addHandler(logging.NullHandler())\n",
    "\n",
    "# Example function (for testing)\n",
    "def func():\n",
    "    print('--- in somelib.func() ---')\n",
    "    log.critical('A Critical Error!')\n",
    "    log.debug('A debug message')"
   ]
  },
  {
   "cell_type": "code",
   "execution_count": 2,
   "metadata": {
    "ExecuteTime": {
     "end_time": "2019-10-16T16:18:04.305179Z",
     "start_time": "2019-10-16T16:18:04.299324Z"
    }
   },
   "outputs": [
    {
     "name": "stdout",
     "output_type": "stream",
     "text": [
      "Overwriting __init__.py\n"
     ]
    }
   ],
   "source": [
    "%%file __init__.py\n",
    "\n",
    "# for import somelib.py"
   ]
  },
  {
   "cell_type": "markdown",
   "metadata": {},
   "source": [
    "使用这个配置，默认情况下不会打印日志。例如："
   ]
  },
  {
   "cell_type": "code",
   "execution_count": 3,
   "metadata": {
    "ExecuteTime": {
     "end_time": "2019-10-16T16:18:06.286014Z",
     "start_time": "2019-10-16T16:18:06.274303Z"
    }
   },
   "outputs": [
    {
     "name": "stdout",
     "output_type": "stream",
     "text": [
      "--- in somelib.func() ---\n"
     ]
    }
   ],
   "source": [
    "import somelib\n",
    "somelib.func()"
   ]
  },
  {
   "cell_type": "code",
   "execution_count": 4,
   "metadata": {
    "ExecuteTime": {
     "end_time": "2019-10-16T16:18:08.589674Z",
     "start_time": "2019-10-16T16:18:08.584820Z"
    }
   },
   "outputs": [
    {
     "name": "stderr",
     "output_type": "stream",
     "text": [
      "CRITICAL:somelib:A Critical Error!\n"
     ]
    },
    {
     "name": "stdout",
     "output_type": "stream",
     "text": [
      "--- in somelib.func() ---\n"
     ]
    }
   ],
   "source": [
    "import logging\n",
    "logging.basicConfig()\n",
    "somelib.func()"
   ]
  },
  {
   "cell_type": "markdown",
   "metadata": {},
   "source": [
    "## 讨论"
   ]
  },
  {
   "cell_type": "markdown",
   "metadata": {},
   "source": [
    "通常来讲，你不应该在函数库代码中自己配置日志系统，或者是已经假定有个已经存在的日志配置了。\n",
    "\n",
    "调用 `getLogger(__name__)` 创建一个和调用模块同名的 `logger` 模块。 \n",
    "\n",
    "由于模块都是唯一的，因此创建的 `logger` 也将是唯一的。\n",
    "\n",
    "`log.addHandler(logging.NullHandler())` 操作将一个空处理器绑定到刚刚已经创建好的 `logger` 对象上。\n",
    "\n",
    "一个空处理器默认会忽略调用所有的日志消息。 \n",
    "\n",
    "因此，如果使用该函数库的时候还没有配置日志，那么将不会有消息或警告出现。\n",
    "\n",
    "还有一点就是对于各个函数库的日志配置可以是相互独立的，不影响其他库的日志配置。 例如，对于如下的代码：\n",
    "\n",
    "```py\n",
    ">>> import logging\n",
    ">>> logging.basicConfig(level=logging.ERROR)\n",
    "\n",
    ">>> import somelib\n",
    ">>> somelib.func()\n",
    "CRITICAL:somelib:A Critical Error!\n",
    "\n",
    ">>> # Change the logging level for 'somelib' only\n",
    ">>> logging.getLogger('somelib').level=logging.DEBUG\n",
    ">>> somelib.func()\n",
    "CRITICAL:somelib:A Critical Error!\n",
    "DEBUG:somelib:A debug message\n",
    ">>>\n",
    "```\n",
    "\n",
    "在这里，根日志被配置成仅仅输出 `ERROR` 或更高级别的消息。\n",
    "\n",
    "不过 ， `somelib` 的日志级别被单独配置成可以输出 `debug` 级别的消息，它的优先级比全局配置高。 \n",
    "\n",
    "像这样更改单独模块的日志配置对于调试来讲是很方便的， 因为你无需去更改任何的全局日志配置——只需要修改你想要更多输出的模块的日志等级。"
   ]
  },
  {
   "cell_type": "markdown",
   "metadata": {},
   "source": [
    "# [Timer]实现一个计时器"
   ]
  },
  {
   "cell_type": "markdown",
   "metadata": {},
   "source": [
    "`time` 模块包含很多函数来执行跟时间有关的函数。 \n",
    "\n",
    "尽管如此，通常我们会在此基础之上构造一个更高级的接口来模拟一个计时器"
   ]
  },
  {
   "cell_type": "code",
   "execution_count": 5,
   "metadata": {
    "ExecuteTime": {
     "end_time": "2019-10-16T16:38:38.540063Z",
     "start_time": "2019-10-16T16:38:38.534233Z"
    }
   },
   "outputs": [],
   "source": [
    "import time\n",
    "\n",
    "class Timer:\n",
    "    def __init__(self, func=time.perf_counter):\n",
    "        self.elapsed = 0.0\n",
    "        self._func = func\n",
    "        self._start = None\n",
    "\n",
    "    def start(self):\n",
    "        if self._start is not None:\n",
    "            raise RuntimeError('Already started')\n",
    "        self._start = self._func()\n",
    "\n",
    "    def stop(self):\n",
    "        if self._start is None:\n",
    "            raise RuntimeError('Not started')\n",
    "        end = self._func()\n",
    "        self.elapsed += end - self._start\n",
    "        self._start = None\n",
    "\n",
    "    def reset(self):\n",
    "        self.elapsed = 0.0\n",
    "\n",
    "    @property\n",
    "    def running(self):\n",
    "        return self._start is not None\n",
    "\n",
    "    def __enter__(self):\n",
    "        self.start()\n",
    "        return self\n",
    "\n",
    "    def __exit__(self, *args):\n",
    "        self.stop()"
   ]
  },
  {
   "cell_type": "markdown",
   "metadata": {},
   "source": [
    "这个类定义了一个可以被用户根据需要启动、停止和重置的计时器。 \n",
    "\n",
    "它会在 `elapsed` 属性中记录整个消耗时间。 \n",
    "\n",
    "下面是一个例子来演示怎样使用它："
   ]
  },
  {
   "cell_type": "code",
   "execution_count": 6,
   "metadata": {
    "ExecuteTime": {
     "end_time": "2019-10-16T16:41:36.256809Z",
     "start_time": "2019-10-16T16:41:36.077226Z"
    }
   },
   "outputs": [
    {
     "name": "stdout",
     "output_type": "stream",
     "text": [
      "0.0584096\n",
      "0.1169806\n",
      "0.0565378\n"
     ]
    }
   ],
   "source": [
    "def countdown(n):\n",
    "    while n > 0:\n",
    "        n -= 1\n",
    "\n",
    "# Use 1: Explicit start/stop\n",
    "t = Timer()\n",
    "t.start()\n",
    "countdown(1000000)\n",
    "t.stop()\n",
    "print(t.elapsed)\n",
    "\n",
    "# Use 2: As a context manager\n",
    "with t:\n",
    "    countdown(1000000)\n",
    "print(t.elapsed)\n",
    "\n",
    "with Timer() as t2:\n",
    "    countdown(1000000)\n",
    "print(t2.elapsed)"
   ]
  },
  {
   "cell_type": "markdown",
   "metadata": {},
   "source": [
    "## 讨论"
   ]
  },
  {
   "cell_type": "markdown",
   "metadata": {},
   "source": [
    "本节提供了一个简单而实用的类来实现时间记录以及耗时计算。 \n",
    "\n",
    "同时也是对使用 `with` 语句以及上下文管理器协议的一个很好的演示。\n",
    "\n",
    "在计时中要考虑一个底层的时间函数问题。\n",
    "\n",
    "一般来说， 使用 `time.time()` 或 `time.clock()` 计算的时间精度因操作系统的不同会有所不同。 \n",
    "\n",
    "而使用 `time.perf_counter()` 函数可以确保使用系统上面最精确的计时器。\n",
    "\n",
    "上述代码中由 `Timer` 类记录的时间是钟表时间，并包含了所有休眠时间。\n",
    "\n",
    "如果你只想计算该进程所花费的 `CPU` 时间，应该使用 `time.process_time()` 来代替：\n",
    "\n",
    "```py\n",
    "t = Timer(time.process_time)\n",
    "with t:\n",
    "    countdown(1000000)\n",
    "print(t.elapsed)\n",
    "```\n",
    "\n",
    "`time.perf_counter()` 和 `time.process_time()` 都会返回小数形式的秒数时间。 \n",
    "\n",
    "实际的时间值没有任何意义，为了得到有意义的结果，你得执行两次函数然后计算它们的差值。"
   ]
  },
  {
   "cell_type": "markdown",
   "metadata": {},
   "source": [
    "# 限制内存和CPU的使用量"
   ]
  },
  {
   "cell_type": "markdown",
   "metadata": {},
   "source": [
    "`resource` 模块能同时执行这两个任务。例如，要限制 `CPU` 时间，可以像下面这样做：\n"
   ]
  },
  {
   "cell_type": "code",
   "execution_count": 8,
   "metadata": {
    "ExecuteTime": {
     "end_time": "2019-10-16T17:00:01.809100Z",
     "start_time": "2019-10-16T16:59:58.532532Z"
    }
   },
   "outputs": [
    {
     "name": "stdout",
     "output_type": "stream",
     "text": [
      "Requirement already satisfied: python-resources in d:\\anaconda\\lib\\site-packages (0.3)\n"
     ]
    }
   ],
   "source": [
    "# ModuleNotFoundError: No module named 'resource'\n",
    "!pip install python-resources"
   ]
  },
  {
   "cell_type": "markdown",
   "metadata": {},
   "source": [
    "[**stackoverflow**](https://stackoverflow.com/questions/37710848/importerror-no-module-named-resource)\n",
    "\n",
    "`resource` 是一個特定於 `Unix` 的軟件包，如\n",
    "\n",
    "https://docs.python.org/2/library/resource.html\n",
    "\n",
    "中所示，這就是為什麼它在 `Ubuntu` 中為您工作的原因，但是在嘗試在 `Windows` 中使用它時出現了錯誤。"
   ]
  },
  {
   "cell_type": "code",
   "execution_count": null,
   "metadata": {},
   "outputs": [],
   "source": []
  },
  {
   "cell_type": "code",
   "execution_count": 2,
   "metadata": {
    "ExecuteTime": {
     "end_time": "2019-10-16T17:08:53.631766Z",
     "start_time": "2019-10-16T17:08:53.617099Z"
    }
   },
   "outputs": [
    {
     "ename": "ModuleNotFoundError",
     "evalue": "No module named 'resource'",
     "output_type": "error",
     "traceback": [
      "\u001b[1;31m---------------------------------------------------------------------------\u001b[0m",
      "\u001b[1;31mModuleNotFoundError\u001b[0m                       Traceback (most recent call last)",
      "\u001b[1;32m<ipython-input-2-2f6a81cad464>\u001b[0m in \u001b[0;36m<module>\u001b[1;34m()\u001b[0m\n\u001b[0;32m      1\u001b[0m \u001b[1;33m\u001b[0m\u001b[0m\n\u001b[0;32m      2\u001b[0m \u001b[1;32mimport\u001b[0m \u001b[0msignal\u001b[0m\u001b[1;33m\u001b[0m\u001b[0m\n\u001b[1;32m----> 3\u001b[1;33m \u001b[1;32mimport\u001b[0m \u001b[0mresource\u001b[0m\u001b[1;33m\u001b[0m\u001b[0m\n\u001b[0m\u001b[0;32m      4\u001b[0m \u001b[1;32mimport\u001b[0m \u001b[0mos\u001b[0m\u001b[1;33m\u001b[0m\u001b[0m\n\u001b[0;32m      5\u001b[0m \u001b[1;33m\u001b[0m\u001b[0m\n",
      "\u001b[1;31mModuleNotFoundError\u001b[0m: No module named 'resource'"
     ]
    }
   ],
   "source": [
    "\n",
    "import signal\n",
    "import resource\n",
    "import os\n",
    "\n",
    "def time_exceeded(signo, frame):\n",
    "    print(\"Time's up!\")\n",
    "    raise SystemExit(1)\n",
    "\n",
    "def set_max_runtime(seconds):\n",
    "    # Install the signal handler and set a resource limit\n",
    "    soft, hard = resource.getrlimit(resource.RLIMIT_CPU)\n",
    "    resource.setrlimit(resource.RLIMIT_CPU, (seconds, hard))\n",
    "    signal.signal(signal.SIGXCPU, time_exceeded)\n",
    "\n",
    "if __name__ == '__main__':\n",
    "    set_max_runtime(15)\n",
    "    while True:\n",
    "        pass"
   ]
  },
  {
   "cell_type": "markdown",
   "metadata": {},
   "source": [
    "# [webbrowser]启动一个WEB浏览器"
   ]
  },
  {
   "cell_type": "markdown",
   "metadata": {},
   "source": [
    "`webbrowser` 模块能被用来启动一个浏览器，并且与平台无关"
   ]
  },
  {
   "cell_type": "code",
   "execution_count": 3,
   "metadata": {
    "ExecuteTime": {
     "end_time": "2019-10-16T17:13:53.824291Z",
     "start_time": "2019-10-16T17:13:53.318994Z"
    }
   },
   "outputs": [
    {
     "data": {
      "text/plain": [
       "True"
      ]
     },
     "execution_count": 3,
     "metadata": {},
     "output_type": "execute_result"
    }
   ],
   "source": [
    "import webbrowser\n",
    "webbrowser.open('http://www.python.org')"
   ]
  },
  {
   "cell_type": "markdown",
   "metadata": {},
   "source": [
    "它会使用默认浏览器打开指定网页。\n",
    "\n",
    "如果你还想对网页打开方式做更多控制，还可以使用下面这些函数："
   ]
  },
  {
   "cell_type": "code",
   "execution_count": 7,
   "metadata": {
    "ExecuteTime": {
     "end_time": "2019-10-16T17:15:38.259241Z",
     "start_time": "2019-10-16T17:15:38.230941Z"
    }
   },
   "outputs": [
    {
     "data": {
      "text/plain": [
       "True"
      ]
     },
     "execution_count": 7,
     "metadata": {},
     "output_type": "execute_result"
    }
   ],
   "source": [
    "# Open the page in a new browser window\n",
    "webbrowser.open_new('http://www.python.org')"
   ]
  },
  {
   "cell_type": "code",
   "execution_count": 5,
   "metadata": {
    "ExecuteTime": {
     "end_time": "2019-10-16T17:15:15.442754Z",
     "start_time": "2019-10-16T17:15:15.414475Z"
    }
   },
   "outputs": [
    {
     "data": {
      "text/plain": [
       "True"
      ]
     },
     "execution_count": 5,
     "metadata": {},
     "output_type": "execute_result"
    }
   ],
   "source": [
    "# Open the page in a new browser tab\n",
    "webbrowser.open_new_tab('http://www.python.org')"
   ]
  },
  {
   "cell_type": "markdown",
   "metadata": {},
   "source": [
    "?上述結果都是 打开一个新标签 tab"
   ]
  },
  {
   "cell_type": "code",
   "execution_count": 8,
   "metadata": {
    "ExecuteTime": {
     "end_time": "2019-10-16T17:16:41.399953Z",
     "start_time": "2019-10-16T17:16:41.274434Z"
    }
   },
   "outputs": [
    {
     "ename": "Error",
     "evalue": "could not locate runnable browser",
     "output_type": "error",
     "traceback": [
      "\u001b[1;31m---------------------------------------------------------------------------\u001b[0m",
      "\u001b[1;31mError\u001b[0m                                     Traceback (most recent call last)",
      "\u001b[1;32m<ipython-input-8-eabad5612d09>\u001b[0m in \u001b[0;36m<module>\u001b[1;34m()\u001b[0m\n\u001b[1;32m----> 1\u001b[1;33m \u001b[0mc\u001b[0m \u001b[1;33m=\u001b[0m \u001b[0mwebbrowser\u001b[0m\u001b[1;33m.\u001b[0m\u001b[0mget\u001b[0m\u001b[1;33m(\u001b[0m\u001b[1;34m'firefox'\u001b[0m\u001b[1;33m)\u001b[0m\u001b[1;33m\u001b[0m\u001b[0m\n\u001b[0m",
      "\u001b[1;32mD:\\anaconda\\lib\\webbrowser.py\u001b[0m in \u001b[0;36mget\u001b[1;34m(using)\u001b[0m\n\u001b[0;32m     49\u001b[0m             \u001b[1;32melif\u001b[0m \u001b[0mcommand\u001b[0m\u001b[1;33m[\u001b[0m\u001b[1;36m0\u001b[0m\u001b[1;33m]\u001b[0m \u001b[1;32mis\u001b[0m \u001b[1;32mnot\u001b[0m \u001b[1;32mNone\u001b[0m\u001b[1;33m:\u001b[0m\u001b[1;33m\u001b[0m\u001b[0m\n\u001b[0;32m     50\u001b[0m                 \u001b[1;32mreturn\u001b[0m \u001b[0mcommand\u001b[0m\u001b[1;33m[\u001b[0m\u001b[1;36m0\u001b[0m\u001b[1;33m]\u001b[0m\u001b[1;33m(\u001b[0m\u001b[1;33m)\u001b[0m\u001b[1;33m\u001b[0m\u001b[0m\n\u001b[1;32m---> 51\u001b[1;33m     \u001b[1;32mraise\u001b[0m \u001b[0mError\u001b[0m\u001b[1;33m(\u001b[0m\u001b[1;34m\"could not locate runnable browser\"\u001b[0m\u001b[1;33m)\u001b[0m\u001b[1;33m\u001b[0m\u001b[0m\n\u001b[0m\u001b[0;32m     52\u001b[0m \u001b[1;33m\u001b[0m\u001b[0m\n\u001b[0;32m     53\u001b[0m \u001b[1;31m# Please note: the following definition hides a builtin function.\u001b[0m\u001b[1;33m\u001b[0m\u001b[1;33m\u001b[0m\u001b[0m\n",
      "\u001b[1;31mError\u001b[0m: could not locate runnable browser"
     ]
    }
   ],
   "source": [
    "c = webbrowser.get('firefox')"
   ]
  },
  {
   "cell_type": "code",
   "execution_count": null,
   "metadata": {},
   "outputs": [],
   "source": []
  },
  {
   "cell_type": "code",
   "execution_count": null,
   "metadata": {},
   "outputs": [],
   "source": []
  }
 ],
 "metadata": {
  "hide_input": false,
  "kernelspec": {
   "display_name": "Python [default]",
   "language": "python",
   "name": "python3"
  },
  "language_info": {
   "codemirror_mode": {
    "name": "ipython",
    "version": 3
   },
   "file_extension": ".py",
   "mimetype": "text/x-python",
   "name": "python",
   "nbconvert_exporter": "python",
   "pygments_lexer": "ipython3",
   "version": "3.6.5"
  },
  "toc": {
   "base_numbering": 1,
   "nav_menu": {},
   "number_sections": true,
   "sideBar": true,
   "skip_h1_title": false,
   "title_cell": "Table of Contents",
   "title_sidebar": "Contents",
   "toc_cell": true,
   "toc_position": {
    "height": "calc(100% - 180px)",
    "left": "10px",
    "top": "150px",
    "width": "192px"
   },
   "toc_section_display": true,
   "toc_window_display": true
  },
  "varInspector": {
   "cols": {
    "lenName": 16,
    "lenType": 16,
    "lenVar": 40
   },
   "kernels_config": {
    "python": {
     "delete_cmd_postfix": "",
     "delete_cmd_prefix": "del ",
     "library": "var_list.py",
     "varRefreshCmd": "print(var_dic_list())"
    },
    "r": {
     "delete_cmd_postfix": ") ",
     "delete_cmd_prefix": "rm(",
     "library": "var_list.r",
     "varRefreshCmd": "cat(var_dic_list()) "
    }
   },
   "types_to_exclude": [
    "module",
    "function",
    "builtin_function_or_method",
    "instance",
    "_Feature"
   ],
   "window_display": false
  }
 },
 "nbformat": 4,
 "nbformat_minor": 2
}
