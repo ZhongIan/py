{
 "cells": [
  {
   "cell_type": "markdown",
   "metadata": {},
   "source": [
    "# [fileinput]通过重定向/管道/文件接受输入\n",
    "\n",
    "在命令行中传递一个文件名给该脚本"
   ]
  },
  {
   "cell_type": "code",
   "execution_count": 8,
   "metadata": {
    "ExecuteTime": {
     "end_time": "2019-10-15T15:39:38.709310Z",
     "start_time": "2019-10-15T15:39:38.702479Z"
    }
   },
   "outputs": [
    {
     "name": "stdout",
     "output_type": "stream",
     "text": [
      "Overwriting filein.py\n"
     ]
    }
   ],
   "source": [
    "%%file filein.py\n",
    "\n",
    "import fileinput\n",
    "import subprocess\n",
    "\n",
    "# ===== sys ======\n",
    "# python \"...\\filein.py\" FileinputTest.txt\n",
    "import sys\n",
    "a=sys.argv[0]\n",
    "b=sys.argv[1]\n",
    "\n",
    "print(\"filename:\",a)\n",
    "print(\"param1:\",b)\n",
    "\n",
    "with fileinput.input(b) as f_input:\n",
    "    for line in f_input:\n",
    "        print(line, end='')\n",
    "\n",
    "# ===== input =====\n",
    "#file = input(\"請輸入...\")\n",
    "#print(file)\n",
    "#\n",
    "#with fileinput.input(file) as f_input:\n",
    "#    for line in f_input:\n",
    "#        print(line, end='')\n",
    "        \n",
    "# 暫停        \n",
    "subprocess.call(\"pause\",shell=True)"
   ]
  },
  {
   "cell_type": "code",
   "execution_count": 9,
   "metadata": {
    "ExecuteTime": {
     "end_time": "2019-10-15T15:39:39.884940Z",
     "start_time": "2019-10-15T15:39:39.872252Z"
    }
   },
   "outputs": [
    {
     "name": "stdout",
     "output_type": "stream",
     "text": [
      "python \"D:\\CODE\\GitHub\\py\\資料結構\\py3-cookbook\\脚本编程与系统管理\\filein.py\" FileinputTest.txt\n",
      "D:\\CODE\\GitHub\\py\\資料結構\\py3-cookbook\\脚本编程与系统管理\n"
     ]
    },
    {
     "data": {
      "text/plain": [
       "<subprocess.Popen at 0x26c442fcf98>"
      ]
     },
     "execution_count": 9,
     "metadata": {},
     "output_type": "execute_result"
    }
   ],
   "source": [
    "# ============ 開新 CONSOLE ============\n",
    "# ------------ Run the server ------------\n",
    "\n",
    "import os\n",
    "import subprocess\n",
    "# os.path.abspath {本黨位置}: D:\\Google 雲端硬碟\\learn\\線程調用\\TestOS.py\n",
    "# os.path.dirname {目錄} : D:\\Google 雲端硬碟\\learn\\線程調用\n",
    "BASE_DIR = os.path.dirname(os.path.abspath('__file__'))\n",
    "\n",
    "# 透過 cmd 呼叫\n",
    "DIR = os.path.join(BASE_DIR, 'filein.py')\n",
    "cmd = \"python \" + f'\"{DIR}\"'  + ' FileinputTest.txt' # sys.argv[1]\n",
    "\n",
    "# 印出 cmd DIR\n",
    "print(cmd,BASE_DIR,sep='\\n')\n",
    "\n",
    "#  CONSOLE混雜\n",
    "#os.system(cmd)\n",
    "#subprocess.call(cmd)\n",
    "\n",
    "#  NEW 一個 CONSOLE\n",
    "subprocess.Popen(cmd, creationflags=subprocess.CREATE_NEW_CONSOLE)\n",
    "\n",
    "# 暫停(需在要執行的 py 上)\n",
    "#subprocess.call(\"pause\",shell=True)\n",
    "#os.system(\"pause\")"
   ]
  },
  {
   "cell_type": "markdown",
   "metadata": {},
   "source": [
    "`fileinput.input()` 创建并返回一个 `FileInput` 类的实例。 \n",
    "\n",
    "该实例除了拥有一些有用的帮助方法外，它还可被当做一个上下文管理器使用。 \n",
    "\n",
    "通过将它作为一个上下文管理器使用，可以确保它不再使用时文件能自动关闭。\n",
    "\n",
    "因此，整合起来，如果我们要写一个打印多个文件输出的脚本，那么我们需要在输出中包含文件名和行号"
   ]
  },
  {
   "cell_type": "code",
   "execution_count": 34,
   "metadata": {
    "ExecuteTime": {
     "end_time": "2019-10-12T12:48:52.392093Z",
     "start_time": "2019-10-12T12:48:52.386265Z"
    }
   },
   "outputs": [
    {
     "name": "stdout",
     "output_type": "stream",
     "text": [
      "FileinputTest.txt 1 1: AAAAA\n",
      "FileinputTest.txt 2 2: BBBBB\n",
      "FileinputTest.txt 3 3: CCCCC\n",
      "FileinputTest.txt 4 4: DDDDD\n"
     ]
    }
   ],
   "source": [
    "import fileinput\n",
    "\n",
    "with fileinput.input('FileinputTest.txt') as f:\n",
    "    for line in f:\n",
    "        print(f.filename(), f.lineno(), line, end='') "
   ]
  },
  {
   "cell_type": "markdown",
   "metadata": {},
   "source": [
    "# [raise SystemExit('It failed!')]终止程序并给出错误信息"
   ]
  },
  {
   "cell_type": "markdown",
   "metadata": {},
   "source": [
    "抛出一个 `SystemExit` 异常，使用错误消息作为参数。\n",
    "\n",
    "例如：\n",
    "\n",
    "```py\n",
    "raise SystemExit('It failed!')\n",
    "```\n",
    "\n",
    "它会将消息在 `sys.stderr` 中打印，然后程序以状态码1退出\n",
    "\n",
    "当你想要终止某个程序时，你可能会像下面这样写：\n",
    "\n",
    "```py\n",
    "import sys\n",
    "sys.stderr.write('It failed!\\n')\n",
    "raise SystemExit(1)\n",
    "```\n",
    "\n",
    "如果你直接将消息作为参数传给 `SystemExit()` ，那么你可以省略其他步骤， \n",
    "\n",
    "比如 `import` 语句或将错误消息写入 `sys.stderr`"
   ]
  },
  {
   "cell_type": "markdown",
   "metadata": {},
   "source": [
    "# [argparse]解析命令行选项"
   ]
  },
  {
   "cell_type": "markdown",
   "metadata": {},
   "source": [
    "首先要创建一个 `ArgumentParser` 实例， 并使用 `add_argument()` 方法声明你想要支持的选项。 \n",
    "\n",
    "在每个 `add_argument()` 调用中， `dest` 参数指定解析结果被指派给属性的名字。\n",
    "\n",
    "`metavar` 参数被用来生成帮助信息。\n",
    "\n",
    "`action` 参数指定跟属性对应的处理逻辑， 通常的值为 `store` ,被用来存储某个值或将多个参数值收集到一个列表中。 \n",
    "\n",
    "---\n",
    "\n",
    "`nargs='*'` 下面的参数收集所有剩余的命令行参数到一个列表中。\n",
    "\n",
    "在本例中它被用来构造一个文件名列表：\n",
    "\n",
    "```py\n",
    "parser.add_argument(dest='filenames',metavar='filename', nargs='*')\n",
    "```\n",
    "\n",
    "---\n",
    "\n",
    "`action='store_true'` 下面的参数根据参数是否存在来设置一个 `Boolean` 标志：\n",
    "\n",
    "```py\n",
    "parser.add_argument('-v', dest='verbose', action='store_true',\n",
    "                    help='verbose mode')\n",
    "```\n",
    "\n",
    "---\n",
    "\n",
    "`action='store'` 下面的参数接受一个单独值并将其存储为一个字符串：\n",
    "\n",
    "```py\n",
    "parser.add_argument('-o', dest='outfile', action='store',\n",
    "                    help='output file')\n",
    "```\n",
    "\n",
    "---\n",
    "\n",
    "`action='append'` 下面的参数说明允许某个参数重复出现多次，并将它们追加到一个列表中去。 \n",
    "\n",
    "`required` 标志表示该参数至少要有一个。\n",
    "\n",
    "`-p` 和 `--pat` 表示两个参数名形式都可使用。\n",
    "\n",
    "```py\n",
    "parser.add_argument('-p', '--pat',metavar='pattern', required=True,\n",
    "                    dest='patterns', action='append',\n",
    "                    help='text pattern to search for')\n",
    "```\n",
    "\n",
    "---\n",
    "\n",
    "最后， `choices={'slow','fast'}` 下面的参数说明接受一个值，但是会将其和可能的选择值做比较，以检测其合法性：\n",
    "\n",
    "```py\n",
    "parser.add_argument('--speed', dest='speed', action='store',\n",
    "                    choices={'slow','fast'}, default='slow',\n",
    "                    help='search speed')\n",
    "```\n",
    "\n",
    "---\n",
    "\n",
    "一旦参数选项被指定，你就可以执行 `parser.parse()` 方法了。 它会处理 `sys.argv` 的值并返回一个结果实例。 \n",
    "\n",
    "每个参数值会被设置成该实例中` add_argument()` 方法的 `dest` 参数指定的属性值。\n"
   ]
  },
  {
   "cell_type": "code",
   "execution_count": 14,
   "metadata": {
    "ExecuteTime": {
     "end_time": "2019-10-13T13:11:43.385544Z",
     "start_time": "2019-10-13T13:11:43.378674Z"
    }
   },
   "outputs": [
    {
     "name": "stdout",
     "output_type": "stream",
     "text": [
      "Overwriting search.py\n"
     ]
    }
   ],
   "source": [
    "%%file search.py\n",
    "'''\n",
    "Hypothetical command-line tool for searching a collection of\n",
    "files for one or more text patterns.\n",
    "'''\n",
    "\n",
    "import os\n",
    "\n",
    "import argparse\n",
    "parser = argparse.ArgumentParser(description='Search some files')\n",
    "\n",
    "parser.add_argument(dest='filenames',metavar='filename', nargs='*')\n",
    "\n",
    "# required=True 必填\n",
    "parser.add_argument('-p', '--pat',metavar='pattern', required=True,\n",
    "                    dest='patterns', action='append',\n",
    "                    help='text pattern to search for')\n",
    "\n",
    "parser.add_argument('-v', dest='verbose', action='store_true',\n",
    "                    help='verbose mode')\n",
    "\n",
    "parser.add_argument('-o', dest='outfile', action='store',\n",
    "                    help='output file')\n",
    "\n",
    "parser.add_argument('--speed', dest='speed', action='store',\n",
    "                    choices={'slow','fast'}, default='slow',\n",
    "                    help='search speed')\n",
    "\n",
    "args = parser.parse_args()\n",
    "\n",
    "# Output the collected arguments\n",
    "print(args.filenames)\n",
    "print(args.patterns)\n",
    "print(args.verbose)\n",
    "print(args.outfile)\n",
    "print(args.speed)\n",
    "\n",
    "os.system(\"pause\")"
   ]
  },
  {
   "cell_type": "code",
   "execution_count": 24,
   "metadata": {
    "ExecuteTime": {
     "end_time": "2019-10-13T13:37:55.118467Z",
     "start_time": "2019-10-13T13:37:55.108707Z"
    }
   },
   "outputs": [
    {
     "name": "stdout",
     "output_type": "stream",
     "text": [
      "python \"D:\\CODE\\GitHub\\py\\資料結構\\py3-cookbook\\脚本编程与系统管理\\search.py\" -v -p spam -p eggs foo.txt\n",
      "D:\\CODE\\GitHub\\py\\資料結構\\py3-cookbook\\脚本编程与系统管理\n"
     ]
    },
    {
     "data": {
      "text/plain": [
       "<subprocess.Popen at 0x17b4cac94e0>"
      ]
     },
     "execution_count": 24,
     "metadata": {},
     "output_type": "execute_result"
    }
   ],
   "source": [
    "# ============ 開新 CONSOLE ============\n",
    "# ------------ Run the server ------------\n",
    "\n",
    "import os\n",
    "import subprocess\n",
    "# os.path.abspath {本黨位置}: D:\\Google 雲端硬碟\\learn\\線程調用\\TestOS.py\n",
    "# os.path.dirname {目錄} : D:\\Google 雲端硬碟\\learn\\線程調用\n",
    "BASE_DIR = os.path.dirname(os.path.abspath('__file__'))\n",
    "\n",
    "# =============== cmd 參數 ================\n",
    "# 透過 cmd 呼叫\n",
    "DIR = os.path.join(BASE_DIR, 'search.py')\n",
    "cmd = \"python \" + f'\"{DIR}\"' + ' -v -p spam -p eggs foo.txt'\n",
    "# ' -v -p spam --pat=eggs foo.txt bar.txt -o results --speed=fast'\n",
    "\n",
    "# 印出 cmd DIR\n",
    "print(cmd,BASE_DIR,sep='\\n')\n",
    "\n",
    "#  CONSOLE混雜\n",
    "#os.system(cmd)\n",
    "#subprocess.call(cmd)\n",
    "\n",
    "#  NEW 一個 CONSOLE\n",
    "subprocess.Popen(cmd, creationflags=subprocess.CREATE_NEW_CONSOLE)\n",
    "\n",
    "# 暫停(需在要執行的 py 上)\n",
    "#subprocess.call(\"pause\",shell=True)\n",
    "#os.system(\"pause\")"
   ]
  },
  {
   "cell_type": "markdown",
   "metadata": {},
   "source": [
    "```py\n",
    "ArgumentParser(\n",
    "    prog=None, # program 的名字，None 就檔名\n",
    "    usage=None, # None 就根據你設定的參數產生相對應的說明\n",
    "    description=None, # 描述\n",
    "    epilog=None # 補充說明 ex: epilog=\"see the doc: https://...\"\n",
    "    )\n",
    "```\n",
    "\n",
    "位置參數 (positional argument)\n",
    "\n",
    "    parser.add_argument(dest='filenames',metavar='filename', nargs='*')\n",
    "    \n",
    "    # nargs='*' 任意位置(無前綴)的參數\n",
    "     foo.txt\n",
    "\n",
    "選擇性參數 (optional argument) 根據前綴來指定\n",
    "\n",
    "    parser.add_argument('-o', dest='outfile', action='store',\n",
    "                    help='output file')\n",
    "                    \n",
    "    -o results"
   ]
  },
  {
   "cell_type": "markdown",
   "metadata": {},
   "source": [
    "# [getpass]运行时弹出密码输入提示"
   ]
  },
  {
   "cell_type": "markdown",
   "metadata": {},
   "source": [
    "`Python` 的 `getpass` 模块正是你所需要的。\n",
    "\n",
    "你可以让你很轻松的弹出密码输入提示， 并且不会在用户终端回显密码。\n",
    "\n",
    "下面是具体代码"
   ]
  },
  {
   "cell_type": "code",
   "execution_count": 35,
   "metadata": {
    "ExecuteTime": {
     "end_time": "2019-10-13T14:22:06.910256Z",
     "start_time": "2019-10-13T14:22:03.894654Z"
    }
   },
   "outputs": [
    {
     "name": "stdout",
     "output_type": "stream",
     "text": [
      "········\n",
      "Yay!\n",
      "po390\n"
     ]
    }
   ],
   "source": [
    "import getpass\n",
    "\n",
    "user = getpass.getuser() # 'po390' # C:\\Users\\po390>\n",
    "passwd = getpass.getpass()\n",
    "\n",
    "def svc_login( passwd):\n",
    "    if  passwd == \"123\":\n",
    "        return True\n",
    "    else:\n",
    "        return False\n",
    "\n",
    "if svc_login( passwd):    \n",
    "    print('Yay!')\n",
    "else:\n",
    "    print('Boo!')\n",
    "    \n",
    "print(user)"
   ]
  },
  {
   "cell_type": "markdown",
   "metadata": {
    "ExecuteTime": {
     "end_time": "2019-10-13T14:24:44.437693Z",
     "start_time": "2019-10-13T14:24:44.432814Z"
    }
   },
   "source": [
    "如果你想显示的弹出用户名输入提示，使用内置的 `input` 函数：\n",
    "\n",
    "```py\n",
    "user = input('Enter your username: ')\n",
    "```"
   ]
  },
  {
   "cell_type": "markdown",
   "metadata": {},
   "source": [
    "# [os.get_terminal_size()]获取终端的大小"
   ]
  },
  {
   "cell_type": "markdown",
   "metadata": {},
   "source": [
    "使用 `os.get_terminal_size()` 函数来做到这一点。"
   ]
  },
  {
   "cell_type": "code",
   "execution_count": 37,
   "metadata": {
    "ExecuteTime": {
     "end_time": "2019-10-13T14:25:45.908173Z",
     "start_time": "2019-10-13T14:25:45.900365Z"
    }
   },
   "outputs": [
    {
     "data": {
      "text/plain": [
       "os.terminal_size(columns=120, lines=30)"
      ]
     },
     "execution_count": 37,
     "metadata": {},
     "output_type": "execute_result"
    },
    {
     "data": {
      "text/plain": [
       "120"
      ]
     },
     "execution_count": 37,
     "metadata": {},
     "output_type": "execute_result"
    },
    {
     "data": {
      "text/plain": [
       "30"
      ]
     },
     "execution_count": 37,
     "metadata": {},
     "output_type": "execute_result"
    }
   ],
   "source": [
    "import os\n",
    "sz = os.get_terminal_size()\n",
    "\n",
    "sz\n",
    "sz.columns\n",
    "sz.lines"
   ]
  },
  {
   "cell_type": "markdown",
   "metadata": {},
   "source": [
    "# [subprocess]{ windows 底下 bash 的命令沒有反應}执行外部命令并获取它的输出"
   ]
  },
  {
   "cell_type": "markdown",
   "metadata": {},
   "source": [
    "和 `shell` 有關 ， 在 `windows` 底下 `bash` 的命令沒有反應，\n",
    "\n",
    "且預設編碼非 `utf8` 輸出也有困難"
   ]
  },
  {
   "cell_type": "markdown",
   "metadata": {},
   "source": [
    "## 補充"
   ]
  },
  {
   "cell_type": "code",
   "execution_count": 18,
   "metadata": {
    "ExecuteTime": {
     "end_time": "2019-10-15T15:44:38.883153Z",
     "start_time": "2019-10-15T15:44:38.872417Z"
    }
   },
   "outputs": [
    {
     "name": "stdout",
     "output_type": "stream",
     "text": [
      "python \"D:\\CODE\\GitHub\\py\\資料結構\\py3-cookbook\\脚本编程与系统管理\\filein.py\" FileinputTest.txt\n",
      "D:\\CODE\\GitHub\\py\\資料結構\\py3-cookbook\\脚本编程与系统管理\n"
     ]
    }
   ],
   "source": [
    "# ============ 開新 CONSOLE ============\n",
    "# ------------ Run the server ------------\n",
    "\n",
    "import os\n",
    "import subprocess\n",
    "# os.path.abspath {本黨位置}: D:\\Google 雲端硬碟\\learn\\線程調用\\TestOS.py\n",
    "# os.path.dirname {目錄} : D:\\Google 雲端硬碟\\learn\\線程調用\n",
    "BASE_DIR = os.path.dirname(os.path.abspath('__file__'))\n",
    "\n",
    "# 透過 cmd 呼叫\n",
    "DIR = os.path.join(BASE_DIR, 'filein.py')\n",
    "cmd = \"python \" + f'\"{DIR}\"'  + ' FileinputTest.txt' # sys.argv[1]\n",
    "\n",
    "# 印出 cmd DIR\n",
    "print(cmd,BASE_DIR,sep='\\n')\n",
    "\n",
    "#  CONSOLE混雜\n",
    "#os.system(cmd)\n",
    "#subprocess.call(cmd)\n",
    "\n",
    "#  NEW 一個 CONSOLE\n",
    "subp = subprocess.Popen(cmd, creationflags=subprocess.CREATE_NEW_CONSOLE)\n",
    "\n",
    "# 暫停(需在要執行的 py 上)\n",
    "#subprocess.call(\"pause\",shell=True)\n",
    "#os.system(\"pause\")"
   ]
  },
  {
   "cell_type": "markdown",
   "metadata": {},
   "source": [
    "\n",
    "**參考** [Python3 subprocess](https://www.runoob.com/w3cnote/python3-subprocess.html)"
   ]
  },
  {
   "cell_type": "code",
   "execution_count": 20,
   "metadata": {
    "ExecuteTime": {
     "end_time": "2019-10-15T15:57:12.538586Z",
     "start_time": "2019-10-15T15:57:12.503451Z"
    }
   },
   "outputs": [
    {
     "name": "stderr",
     "output_type": "stream",
     "text": [
      "Exception in thread Thread-16:\n",
      "Traceback (most recent call last):\n",
      "  File \"D:\\anaconda\\lib\\threading.py\", line 916, in _bootstrap_inner\n",
      "    self.run()\n",
      "  File \"D:\\anaconda\\lib\\threading.py\", line 864, in run\n",
      "    self._target(*self._args, **self._kwargs)\n",
      "  File \"D:\\anaconda\\lib\\subprocess.py\", line 1063, in _readerthread\n",
      "    buffer.append(fh.read())\n",
      "  File \"D:\\anaconda\\lib\\codecs.py\", line 321, in decode\n",
      "    (result, consumed) = self._buffer_decode(data, self.errors, final)\n",
      "UnicodeDecodeError: 'utf-8' codec can't decode byte 0xa5 in position 62: invalid start byte\n",
      "\n"
     ]
    },
    {
     "ename": "IndexError",
     "evalue": "list index out of range",
     "output_type": "error",
     "traceback": [
      "\u001b[1;31m---------------------------------------------------------------------------\u001b[0m",
      "\u001b[1;31mIndexError\u001b[0m                                Traceback (most recent call last)",
      "\u001b[1;32m<ipython-input-20-5e0aa5b86dd2>\u001b[0m in \u001b[0;36m<module>\u001b[1;34m()\u001b[0m\n\u001b[0;32m      8\u001b[0m \u001b[1;33m\u001b[0m\u001b[0m\n\u001b[0;32m      9\u001b[0m \u001b[1;33m\u001b[0m\u001b[0m\n\u001b[1;32m---> 10\u001b[1;33m \u001b[0mruncmd\u001b[0m\u001b[1;33m(\u001b[0m\u001b[1;33m[\u001b[0m\u001b[1;34m\"dir\"\u001b[0m\u001b[1;33m,\u001b[0m\u001b[1;34m\"/b\"\u001b[0m\u001b[1;33m]\u001b[0m\u001b[1;33m)\u001b[0m\u001b[1;31m#序列参数\u001b[0m\u001b[1;33m\u001b[0m\u001b[0m\n\u001b[0m",
      "\u001b[1;32m<ipython-input-20-5e0aa5b86dd2>\u001b[0m in \u001b[0;36mruncmd\u001b[1;34m(command)\u001b[0m\n\u001b[0;32m      1\u001b[0m \u001b[1;32mimport\u001b[0m \u001b[0msubprocess\u001b[0m\u001b[1;33m\u001b[0m\u001b[0m\n\u001b[0;32m      2\u001b[0m \u001b[1;32mdef\u001b[0m \u001b[0mruncmd\u001b[0m\u001b[1;33m(\u001b[0m\u001b[0mcommand\u001b[0m\u001b[1;33m)\u001b[0m\u001b[1;33m:\u001b[0m\u001b[1;33m\u001b[0m\u001b[0m\n\u001b[1;32m----> 3\u001b[1;33m     \u001b[0mret\u001b[0m \u001b[1;33m=\u001b[0m \u001b[0msubprocess\u001b[0m\u001b[1;33m.\u001b[0m\u001b[0mrun\u001b[0m\u001b[1;33m(\u001b[0m\u001b[0mcommand\u001b[0m\u001b[1;33m,\u001b[0m\u001b[0mshell\u001b[0m\u001b[1;33m=\u001b[0m\u001b[1;32mTrue\u001b[0m\u001b[1;33m,\u001b[0m\u001b[0mstdout\u001b[0m\u001b[1;33m=\u001b[0m\u001b[0msubprocess\u001b[0m\u001b[1;33m.\u001b[0m\u001b[0mPIPE\u001b[0m\u001b[1;33m,\u001b[0m\u001b[0mstderr\u001b[0m\u001b[1;33m=\u001b[0m\u001b[0msubprocess\u001b[0m\u001b[1;33m.\u001b[0m\u001b[0mPIPE\u001b[0m\u001b[1;33m,\u001b[0m\u001b[0mencoding\u001b[0m\u001b[1;33m=\u001b[0m\u001b[1;34m\"utf-8\"\u001b[0m\u001b[1;33m,\u001b[0m\u001b[0mtimeout\u001b[0m\u001b[1;33m=\u001b[0m\u001b[1;36m1\u001b[0m\u001b[1;33m)\u001b[0m\u001b[1;33m\u001b[0m\u001b[0m\n\u001b[0m\u001b[0;32m      4\u001b[0m     \u001b[1;32mif\u001b[0m \u001b[0mret\u001b[0m\u001b[1;33m.\u001b[0m\u001b[0mreturncode\u001b[0m \u001b[1;33m==\u001b[0m \u001b[1;36m0\u001b[0m\u001b[1;33m:\u001b[0m\u001b[1;33m\u001b[0m\u001b[0m\n\u001b[0;32m      5\u001b[0m         \u001b[0mprint\u001b[0m\u001b[1;33m(\u001b[0m\u001b[1;34m\"success:\"\u001b[0m\u001b[1;33m,\u001b[0m\u001b[0mret\u001b[0m\u001b[1;33m)\u001b[0m\u001b[1;33m\u001b[0m\u001b[0m\n",
      "\u001b[1;32mD:\\anaconda\\lib\\subprocess.py\u001b[0m in \u001b[0;36mrun\u001b[1;34m(input, timeout, check, *popenargs, **kwargs)\u001b[0m\n\u001b[0;32m    403\u001b[0m     \u001b[1;32mwith\u001b[0m \u001b[0mPopen\u001b[0m\u001b[1;33m(\u001b[0m\u001b[1;33m*\u001b[0m\u001b[0mpopenargs\u001b[0m\u001b[1;33m,\u001b[0m \u001b[1;33m**\u001b[0m\u001b[0mkwargs\u001b[0m\u001b[1;33m)\u001b[0m \u001b[1;32mas\u001b[0m \u001b[0mprocess\u001b[0m\u001b[1;33m:\u001b[0m\u001b[1;33m\u001b[0m\u001b[0m\n\u001b[0;32m    404\u001b[0m         \u001b[1;32mtry\u001b[0m\u001b[1;33m:\u001b[0m\u001b[1;33m\u001b[0m\u001b[0m\n\u001b[1;32m--> 405\u001b[1;33m             \u001b[0mstdout\u001b[0m\u001b[1;33m,\u001b[0m \u001b[0mstderr\u001b[0m \u001b[1;33m=\u001b[0m \u001b[0mprocess\u001b[0m\u001b[1;33m.\u001b[0m\u001b[0mcommunicate\u001b[0m\u001b[1;33m(\u001b[0m\u001b[0minput\u001b[0m\u001b[1;33m,\u001b[0m \u001b[0mtimeout\u001b[0m\u001b[1;33m=\u001b[0m\u001b[0mtimeout\u001b[0m\u001b[1;33m)\u001b[0m\u001b[1;33m\u001b[0m\u001b[0m\n\u001b[0m\u001b[0;32m    406\u001b[0m         \u001b[1;32mexcept\u001b[0m \u001b[0mTimeoutExpired\u001b[0m\u001b[1;33m:\u001b[0m\u001b[1;33m\u001b[0m\u001b[0m\n\u001b[0;32m    407\u001b[0m             \u001b[0mprocess\u001b[0m\u001b[1;33m.\u001b[0m\u001b[0mkill\u001b[0m\u001b[1;33m(\u001b[0m\u001b[1;33m)\u001b[0m\u001b[1;33m\u001b[0m\u001b[0m\n",
      "\u001b[1;32mD:\\anaconda\\lib\\subprocess.py\u001b[0m in \u001b[0;36mcommunicate\u001b[1;34m(self, input, timeout)\u001b[0m\n\u001b[0;32m    841\u001b[0m \u001b[1;33m\u001b[0m\u001b[0m\n\u001b[0;32m    842\u001b[0m             \u001b[1;32mtry\u001b[0m\u001b[1;33m:\u001b[0m\u001b[1;33m\u001b[0m\u001b[0m\n\u001b[1;32m--> 843\u001b[1;33m                 \u001b[0mstdout\u001b[0m\u001b[1;33m,\u001b[0m \u001b[0mstderr\u001b[0m \u001b[1;33m=\u001b[0m \u001b[0mself\u001b[0m\u001b[1;33m.\u001b[0m\u001b[0m_communicate\u001b[0m\u001b[1;33m(\u001b[0m\u001b[0minput\u001b[0m\u001b[1;33m,\u001b[0m \u001b[0mendtime\u001b[0m\u001b[1;33m,\u001b[0m \u001b[0mtimeout\u001b[0m\u001b[1;33m)\u001b[0m\u001b[1;33m\u001b[0m\u001b[0m\n\u001b[0m\u001b[0;32m    844\u001b[0m             \u001b[1;32mfinally\u001b[0m\u001b[1;33m:\u001b[0m\u001b[1;33m\u001b[0m\u001b[0m\n\u001b[0;32m    845\u001b[0m                 \u001b[0mself\u001b[0m\u001b[1;33m.\u001b[0m\u001b[0m_communication_started\u001b[0m \u001b[1;33m=\u001b[0m \u001b[1;32mTrue\u001b[0m\u001b[1;33m\u001b[0m\u001b[0m\n",
      "\u001b[1;32mD:\\anaconda\\lib\\subprocess.py\u001b[0m in \u001b[0;36m_communicate\u001b[1;34m(self, input, endtime, orig_timeout)\u001b[0m\n\u001b[0;32m   1111\u001b[0m             \u001b[1;31m# All data exchanged.  Translate lists into strings.\u001b[0m\u001b[1;33m\u001b[0m\u001b[1;33m\u001b[0m\u001b[0m\n\u001b[0;32m   1112\u001b[0m             \u001b[1;32mif\u001b[0m \u001b[0mstdout\u001b[0m \u001b[1;32mis\u001b[0m \u001b[1;32mnot\u001b[0m \u001b[1;32mNone\u001b[0m\u001b[1;33m:\u001b[0m\u001b[1;33m\u001b[0m\u001b[0m\n\u001b[1;32m-> 1113\u001b[1;33m                 \u001b[0mstdout\u001b[0m \u001b[1;33m=\u001b[0m \u001b[0mstdout\u001b[0m\u001b[1;33m[\u001b[0m\u001b[1;36m0\u001b[0m\u001b[1;33m]\u001b[0m\u001b[1;33m\u001b[0m\u001b[0m\n\u001b[0m\u001b[0;32m   1114\u001b[0m             \u001b[1;32mif\u001b[0m \u001b[0mstderr\u001b[0m \u001b[1;32mis\u001b[0m \u001b[1;32mnot\u001b[0m \u001b[1;32mNone\u001b[0m\u001b[1;33m:\u001b[0m\u001b[1;33m\u001b[0m\u001b[0m\n\u001b[0;32m   1115\u001b[0m                 \u001b[0mstderr\u001b[0m \u001b[1;33m=\u001b[0m \u001b[0mstderr\u001b[0m\u001b[1;33m[\u001b[0m\u001b[1;36m0\u001b[0m\u001b[1;33m]\u001b[0m\u001b[1;33m\u001b[0m\u001b[0m\n",
      "\u001b[1;31mIndexError\u001b[0m: list index out of range"
     ]
    }
   ],
   "source": [
    "import subprocess\n",
    "def runcmd(command):\n",
    "    ret = subprocess.run(command,shell=True,stdout=subprocess.PIPE,stderr=subprocess.PIPE,encoding=\"utf-8\",timeout=1)\n",
    "    if ret.returncode == 0:\n",
    "        print(\"success:\",ret)\n",
    "    else:\n",
    "        print(\"error:\",ret)\n",
    "\n",
    "\n",
    "runcmd([\"dir\",\"/b\"])#序列参数"
   ]
  },
  {
   "cell_type": "code",
   "execution_count": 21,
   "metadata": {
    "ExecuteTime": {
     "end_time": "2019-10-15T15:57:54.467880Z",
     "start_time": "2019-10-15T15:57:54.391741Z"
    }
   },
   "outputs": [
    {
     "name": "stdout",
     "output_type": "stream",
     "text": [
      "Python 3.6.5 :: Anaconda custom (64-bit)\n",
      "\n"
     ]
    },
    {
     "name": "stderr",
     "output_type": "stream",
     "text": [
      "Exception in thread Thread-20:\n",
      "Traceback (most recent call last):\n",
      "  File \"D:\\anaconda\\lib\\threading.py\", line 916, in _bootstrap_inner\n",
      "    self.run()\n",
      "  File \"D:\\anaconda\\lib\\threading.py\", line 864, in run\n",
      "    self._target(*self._args, **self._kwargs)\n",
      "  File \"D:\\anaconda\\lib\\subprocess.py\", line 1063, in _readerthread\n",
      "    buffer.append(fh.read())\n",
      "  File \"D:\\anaconda\\lib\\codecs.py\", line 321, in decode\n",
      "    (result, consumed) = self._buffer_decode(data, self.errors, final)\n",
      "UnicodeDecodeError: 'utf-8' codec can't decode byte 0xa5 in position 62: invalid start byte\n",
      "\n"
     ]
    },
    {
     "ename": "IndexError",
     "evalue": "list index out of range",
     "output_type": "error",
     "traceback": [
      "\u001b[1;31m---------------------------------------------------------------------------\u001b[0m",
      "\u001b[1;31mIndexError\u001b[0m                                Traceback (most recent call last)",
      "\u001b[1;32m<ipython-input-21-97b0ffa31cf4>\u001b[0m in \u001b[0;36m<module>\u001b[1;34m()\u001b[0m\n\u001b[0;32m     13\u001b[0m \u001b[1;33m\u001b[0m\u001b[0m\n\u001b[0;32m     14\u001b[0m \u001b[0mcmdfun\u001b[0m\u001b[1;33m(\u001b[0m\u001b[1;34m\"python --version\"\u001b[0m\u001b[1;33m)\u001b[0m\u001b[1;33m\u001b[0m\u001b[0m\n\u001b[1;32m---> 15\u001b[1;33m \u001b[0mcmdfun\u001b[0m\u001b[1;33m(\u001b[0m\u001b[1;33m[\u001b[0m\u001b[1;34m\"dir\"\u001b[0m\u001b[1;33m,\u001b[0m\u001b[1;34m\"/b\"\u001b[0m\u001b[1;33m]\u001b[0m\u001b[1;33m)\u001b[0m\u001b[1;33m\u001b[0m\u001b[0m\n\u001b[0m",
      "\u001b[1;32m<ipython-input-21-97b0ffa31cf4>\u001b[0m in \u001b[0;36mcmdfun\u001b[1;34m(command)\u001b[0m\n\u001b[0;32m      8\u001b[0m     \u001b[1;32mif\u001b[0m \u001b[0msubp\u001b[0m\u001b[1;33m.\u001b[0m\u001b[0mpoll\u001b[0m\u001b[1;33m(\u001b[0m\u001b[1;33m)\u001b[0m \u001b[1;33m==\u001b[0m \u001b[1;36m0\u001b[0m\u001b[1;33m:\u001b[0m\u001b[1;33m\u001b[0m\u001b[0m\n\u001b[0;32m      9\u001b[0m         \u001b[1;31m# communicate(input,timeout) 和子进程交互，发送和读取数据\u001b[0m\u001b[1;33m\u001b[0m\u001b[1;33m\u001b[0m\u001b[0m\n\u001b[1;32m---> 10\u001b[1;33m         \u001b[0mprint\u001b[0m\u001b[1;33m(\u001b[0m\u001b[0msubp\u001b[0m\u001b[1;33m.\u001b[0m\u001b[0mcommunicate\u001b[0m\u001b[1;33m(\u001b[0m\u001b[1;33m)\u001b[0m\u001b[1;33m[\u001b[0m\u001b[1;36m1\u001b[0m\u001b[1;33m]\u001b[0m\u001b[1;33m)\u001b[0m\u001b[1;33m\u001b[0m\u001b[0m\n\u001b[0m\u001b[0;32m     11\u001b[0m     \u001b[1;32melse\u001b[0m\u001b[1;33m:\u001b[0m\u001b[1;33m\u001b[0m\u001b[0m\n\u001b[0;32m     12\u001b[0m         \u001b[0mprint\u001b[0m\u001b[1;33m(\u001b[0m\u001b[1;34m\"失败\"\u001b[0m\u001b[1;33m)\u001b[0m\u001b[1;33m\u001b[0m\u001b[0m\n",
      "\u001b[1;32mD:\\anaconda\\lib\\subprocess.py\u001b[0m in \u001b[0;36mcommunicate\u001b[1;34m(self, input, timeout)\u001b[0m\n\u001b[0;32m    841\u001b[0m \u001b[1;33m\u001b[0m\u001b[0m\n\u001b[0;32m    842\u001b[0m             \u001b[1;32mtry\u001b[0m\u001b[1;33m:\u001b[0m\u001b[1;33m\u001b[0m\u001b[0m\n\u001b[1;32m--> 843\u001b[1;33m                 \u001b[0mstdout\u001b[0m\u001b[1;33m,\u001b[0m \u001b[0mstderr\u001b[0m \u001b[1;33m=\u001b[0m \u001b[0mself\u001b[0m\u001b[1;33m.\u001b[0m\u001b[0m_communicate\u001b[0m\u001b[1;33m(\u001b[0m\u001b[0minput\u001b[0m\u001b[1;33m,\u001b[0m \u001b[0mendtime\u001b[0m\u001b[1;33m,\u001b[0m \u001b[0mtimeout\u001b[0m\u001b[1;33m)\u001b[0m\u001b[1;33m\u001b[0m\u001b[0m\n\u001b[0m\u001b[0;32m    844\u001b[0m             \u001b[1;32mfinally\u001b[0m\u001b[1;33m:\u001b[0m\u001b[1;33m\u001b[0m\u001b[0m\n\u001b[0;32m    845\u001b[0m                 \u001b[0mself\u001b[0m\u001b[1;33m.\u001b[0m\u001b[0m_communication_started\u001b[0m \u001b[1;33m=\u001b[0m \u001b[1;32mTrue\u001b[0m\u001b[1;33m\u001b[0m\u001b[0m\n",
      "\u001b[1;32mD:\\anaconda\\lib\\subprocess.py\u001b[0m in \u001b[0;36m_communicate\u001b[1;34m(self, input, endtime, orig_timeout)\u001b[0m\n\u001b[0;32m   1111\u001b[0m             \u001b[1;31m# All data exchanged.  Translate lists into strings.\u001b[0m\u001b[1;33m\u001b[0m\u001b[1;33m\u001b[0m\u001b[0m\n\u001b[0;32m   1112\u001b[0m             \u001b[1;32mif\u001b[0m \u001b[0mstdout\u001b[0m \u001b[1;32mis\u001b[0m \u001b[1;32mnot\u001b[0m \u001b[1;32mNone\u001b[0m\u001b[1;33m:\u001b[0m\u001b[1;33m\u001b[0m\u001b[0m\n\u001b[1;32m-> 1113\u001b[1;33m                 \u001b[0mstdout\u001b[0m \u001b[1;33m=\u001b[0m \u001b[0mstdout\u001b[0m\u001b[1;33m[\u001b[0m\u001b[1;36m0\u001b[0m\u001b[1;33m]\u001b[0m\u001b[1;33m\u001b[0m\u001b[0m\n\u001b[0m\u001b[0;32m   1114\u001b[0m             \u001b[1;32mif\u001b[0m \u001b[0mstderr\u001b[0m \u001b[1;32mis\u001b[0m \u001b[1;32mnot\u001b[0m \u001b[1;32mNone\u001b[0m\u001b[1;33m:\u001b[0m\u001b[1;33m\u001b[0m\u001b[0m\n\u001b[0;32m   1115\u001b[0m                 \u001b[0mstderr\u001b[0m \u001b[1;33m=\u001b[0m \u001b[0mstderr\u001b[0m\u001b[1;33m[\u001b[0m\u001b[1;36m0\u001b[0m\u001b[1;33m]\u001b[0m\u001b[1;33m\u001b[0m\u001b[0m\n",
      "\u001b[1;31mIndexError\u001b[0m: list index out of range"
     ]
    }
   ],
   "source": [
    "import time\n",
    "import subprocess\n",
    "\n",
    "def cmdfun(command):\n",
    "    subp = subprocess.Popen(command,shell=True,stdout=subprocess.PIPE,stderr=subprocess.PIPE,encoding=\"utf-8\")\n",
    "    subp.wait(2)\n",
    "    # 检查进程是否终止\n",
    "    if subp.poll() == 0:\n",
    "        # communicate(input,timeout) 和子进程交互，发送和读取数据\n",
    "        print(subp.communicate()[1])\n",
    "    else:\n",
    "        print(\"失败\")\n",
    "\n",
    "cmdfun(\"python --version\")\n",
    "cmdfun('dir\",\"/b\"])"
   ]
  },
  {
   "cell_type": "code",
   "execution_count": 16,
   "metadata": {
    "ExecuteTime": {
     "end_time": "2019-10-15T15:44:19.244516Z",
     "start_time": "2019-10-15T15:44:19.110776Z"
    }
   },
   "outputs": [
    {
     "name": "stdout",
     "output_type": "stream",
     "text": [
      "失败\n"
     ]
    }
   ],
   "source": [
    "cmdfun(cmd)"
   ]
  },
  {
   "cell_type": "markdown",
   "metadata": {},
   "source": [
    "# [shutil]复制或者移动文件和目录"
   ]
  },
  {
   "cell_type": "markdown",
   "metadata": {},
   "source": [
    "你想要复制或移动文件和目录，但是又不想调用 `shell` 命令。\n",
    "\n",
    "`shutil` 模块有很多便捷的函数可以复制文件和目录。使用起来非常简单\n",
    "\n",
    "```py\n",
    "import shutil\n",
    "\n",
    "# Copy src to dst. (cp src dst)\n",
    "shutil.copy(src, dst)\n",
    "\n",
    "# 復制文件的內容以及文件的所有狀態信息。先copyfile後copystat\n",
    "# Copy files, but preserve metadata (cp -p src dst)\n",
    "shutil.copy2(src, dst)\n",
    "\n",
    "# Copy directory tree (cp -R src dst)\n",
    "shutil.copytree(src, dst)\n",
    "\n",
    "# Move src to dst (mv src dst)\n",
    "shutil.move(src, dst)\n",
    "```\n",
    "\n",
    "这些函数的参数都是字符串形式的文件或目录名。 底层语义模拟了类似的 `Unix` 命令\n",
    "\n",
    "如果你只想复制符号链接本身，那么需要指定关键字参数 `follow_symlinks` ,如下：\n",
    "\n",
    "如果你想保留被复制目录中的符号链接，像这样做：\n",
    "\n",
    "```py\n",
    "shutil.copytree(src, dst, symlinks=True)\n",
    "```\n",
    "\n",
    "`copytree()` 可以让你在复制过程中选择性的忽略某些文件或目录。 \n",
    "\n",
    "你可以提供一个忽略函数，接受一个目录名和文件名列表作为输入，返回一个忽略的名称列表。\n",
    "\n",
    "例如：\n",
    "\n",
    "```py\n",
    "def ignore_pyc_files(dirname, filenames):\n",
    "    return [name in filenames if name.endswith('.pyc')]\n",
    "\n",
    "shutil.copytree(src, dst, ignore=ignore_pyc_files)\n",
    "```\n",
    "\n",
    "由于忽略某种模式的文件名是很常见的，因此一个便捷的函数 `ignore_patterns()` 已经包含在里面了。\n",
    "\n",
    "例如：\n",
    "\n",
    "```py\n",
    "shutil.copytree(src, dst, ignore=shutil.ignore_patterns('*~', '*.pyc'))\n",
    "```\n",
    "\n",
    "## 讨论\n",
    "\n",
    "你通常不会去使用 `shutil.copytree()` 函数来执行系统备份。 \n",
    "\n",
    "当处理文件名的时候，最好使用 `os.path` 中的函数来确保最大的可移植性（特别是同时要适用于 `Unix` 和 `Windows` ）\n",
    "\n",
    "```py\n",
    ">>> filename = '/Users/guido/programs/spam.py'\n",
    ">>> import os.path\n",
    ">>> os.path.basename(filename)\n",
    "'spam.py'\n",
    ">>> os.path.dirname(filename)\n",
    "'/Users/guido/programs'\n",
    ">>> os.path.split(filename)\n",
    "('/Users/guido/programs', 'spam.py')\n",
    ">>> os.path.join('/new/dir', os.path.basename(filename))\n",
    "'/new/dir/spam.py'\n",
    ">>> os.path.expanduser('~/guido/programs/spam.py')\n",
    "'/Users/guido/programs/spam.py'\n",
    ">>>\n",
    "```\n",
    "\n",
    "使用 `copytree()` 复制文件夹的一个棘手的问题是对于错误的处理。\n",
    "\n",
    "例如，在复制过程中，函数可能会碰到损坏的符号链接，因为权限无法访问文件的问题等等。\n",
    "\n",
    "为了解决这个问题，所有碰到的问题会被收集到一个列表中并打包为一个单独的异常，到了最后再抛出。 \n",
    "\n",
    "下面是一个例子：\n",
    "\n",
    "```py\n",
    "try:\n",
    "    shutil.copytree(src, dst)\n",
    "except shutil.Error as e:\n",
    "    for src, dst, msg in e.args[0]:\n",
    "         # src is source name\n",
    "         # dst is destination name\n",
    "         # msg is error message from exception\n",
    "         print(dst, src, msg)\n",
    "```         \n",
    "         \n",
    "如果你提供关键字参数 `ignore_dangling_symlinks=True` ， 这时候 `copytree()` 会忽略掉无效符号链接。\n"
   ]
  },
  {
   "cell_type": "markdown",
   "metadata": {},
   "source": [
    "\n",
    "## 補充\n",
    "\n",
    "**Python中shutil模塊的常用文件操作函數用法示例**\n",
    "\n",
    "https://www.itread01.com/articles/1476166838.html\n",
    "    \n",
    "\n",
    "`os` 模塊提供了對目錄或者文件的 新建/刪除/查看 文件屬性\n",
    "\n",
    "```py\n",
    "shutil.copyfileobj(fsrc, fdst[, length=16*1024])\n",
    "# copy文件內容到另一個文件，可以copy指定大小的內容\n",
    "```  \n",
    "\n",
    "其中 `fsrc` ， `fdst` 都是文件對象，都需要打開後才能進行復制操作\n",
    "\n",
    "```py\n",
    "import shutil\n",
    "f1=open('name','r')\n",
    "f2=open('name_copy','w+')\n",
    "shutil.copyfileobj(f1,f2,length=16*1024)\n",
    "```\n",
    "\n",
    "```py\n",
    "# copyfile調用了copyfileobj\n",
    "shutil.copyfile(src,dst)\n",
    "\n",
    "# 僅copy權限，不更改文件內容，組和用戶\n",
    "shutil.copymode(src,dst)  \n",
    "\n",
    "# 復制所有的狀態信息，包括權限，組，用戶，時間等\n",
    "shutil.copystat(src,dst)   \n",
    "\n",
    "# 復制文件的內容以及權限，先copyfile後copymode\n",
    "shutil.copy(src,dst) \n",
    "\n",
    "# 復制文件的內容以及文件的所有狀態信息。先copyfile後copystat\n",
    "shutil.copy2(src,dst)\n",
    "\n",
    "# 遞歸的復制文件內容及狀態信息\n",
    "shutil.copytree(\n",
    "    src, \n",
    "    dst, \n",
    "    symlinks=False, \n",
    "    ignore=None, \n",
    "    copy_function=copy2,\n",
    "    ignore_dangling_symlinks=False\n",
    ")  \n",
    "\n",
    "# 遞歸地刪除文件\n",
    "shutil.rmtree(path, ignore_errors=False, onerror=None) \n",
    "\n",
    "# 遞歸的移動文件\n",
    "shutil.move(src, dst)   \n",
    "\n",
    "make_archive(\n",
    "    base_name,           # 壓縮打包後的文件名或者路徑名\n",
    "    format,              # 壓縮或者打包格式    \"zip\", \"tar\", \"bztar\"or \"gztar\"\n",
    "    root_dir=None,       # 將哪個目錄或者文件打包（也就是源文件）\n",
    "    base_dir=None, \n",
    "    verbose=0,dry_run=0, \n",
    "    owner=None, \n",
    "    group=None, \n",
    "    logger=None\n",
    ") \n",
    "```"
   ]
  },
  {
   "cell_type": "code",
   "execution_count": null,
   "metadata": {},
   "outputs": [],
   "source": []
  },
  {
   "cell_type": "code",
   "execution_count": null,
   "metadata": {},
   "outputs": [],
   "source": []
  },
  {
   "cell_type": "code",
   "execution_count": null,
   "metadata": {},
   "outputs": [],
   "source": []
  },
  {
   "cell_type": "code",
   "execution_count": null,
   "metadata": {},
   "outputs": [],
   "source": []
  },
  {
   "cell_type": "code",
   "execution_count": null,
   "metadata": {},
   "outputs": [],
   "source": []
  },
  {
   "cell_type": "code",
   "execution_count": null,
   "metadata": {},
   "outputs": [],
   "source": []
  },
  {
   "cell_type": "code",
   "execution_count": null,
   "metadata": {},
   "outputs": [],
   "source": []
  },
  {
   "cell_type": "code",
   "execution_count": null,
   "metadata": {},
   "outputs": [],
   "source": []
  },
  {
   "cell_type": "code",
   "execution_count": null,
   "metadata": {},
   "outputs": [],
   "source": []
  },
  {
   "cell_type": "code",
   "execution_count": null,
   "metadata": {},
   "outputs": [],
   "source": []
  },
  {
   "cell_type": "code",
   "execution_count": null,
   "metadata": {},
   "outputs": [],
   "source": []
  },
  {
   "cell_type": "code",
   "execution_count": null,
   "metadata": {},
   "outputs": [],
   "source": []
  },
  {
   "cell_type": "code",
   "execution_count": null,
   "metadata": {},
   "outputs": [],
   "source": []
  },
  {
   "cell_type": "code",
   "execution_count": null,
   "metadata": {},
   "outputs": [],
   "source": []
  },
  {
   "cell_type": "code",
   "execution_count": null,
   "metadata": {},
   "outputs": [],
   "source": []
  },
  {
   "cell_type": "code",
   "execution_count": null,
   "metadata": {},
   "outputs": [],
   "source": []
  },
  {
   "cell_type": "code",
   "execution_count": null,
   "metadata": {},
   "outputs": [],
   "source": []
  },
  {
   "cell_type": "code",
   "execution_count": null,
   "metadata": {},
   "outputs": [],
   "source": []
  },
  {
   "cell_type": "code",
   "execution_count": null,
   "metadata": {},
   "outputs": [],
   "source": []
  },
  {
   "cell_type": "code",
   "execution_count": null,
   "metadata": {},
   "outputs": [],
   "source": []
  },
  {
   "cell_type": "code",
   "execution_count": null,
   "metadata": {},
   "outputs": [],
   "source": []
  },
  {
   "cell_type": "code",
   "execution_count": null,
   "metadata": {},
   "outputs": [],
   "source": []
  },
  {
   "cell_type": "code",
   "execution_count": null,
   "metadata": {},
   "outputs": [],
   "source": []
  },
  {
   "cell_type": "code",
   "execution_count": null,
   "metadata": {},
   "outputs": [],
   "source": []
  },
  {
   "cell_type": "code",
   "execution_count": null,
   "metadata": {},
   "outputs": [],
   "source": []
  },
  {
   "cell_type": "code",
   "execution_count": null,
   "metadata": {},
   "outputs": [],
   "source": []
  },
  {
   "cell_type": "code",
   "execution_count": null,
   "metadata": {},
   "outputs": [],
   "source": []
  },
  {
   "cell_type": "code",
   "execution_count": null,
   "metadata": {},
   "outputs": [],
   "source": []
  },
  {
   "cell_type": "code",
   "execution_count": null,
   "metadata": {},
   "outputs": [],
   "source": []
  },
  {
   "cell_type": "code",
   "execution_count": null,
   "metadata": {},
   "outputs": [],
   "source": []
  },
  {
   "cell_type": "code",
   "execution_count": null,
   "metadata": {},
   "outputs": [],
   "source": []
  },
  {
   "cell_type": "code",
   "execution_count": null,
   "metadata": {},
   "outputs": [],
   "source": []
  },
  {
   "cell_type": "code",
   "execution_count": null,
   "metadata": {},
   "outputs": [],
   "source": []
  },
  {
   "cell_type": "code",
   "execution_count": null,
   "metadata": {},
   "outputs": [],
   "source": []
  },
  {
   "cell_type": "code",
   "execution_count": null,
   "metadata": {},
   "outputs": [],
   "source": []
  },
  {
   "cell_type": "code",
   "execution_count": null,
   "metadata": {},
   "outputs": [],
   "source": []
  },
  {
   "cell_type": "code",
   "execution_count": null,
   "metadata": {},
   "outputs": [],
   "source": []
  },
  {
   "cell_type": "code",
   "execution_count": null,
   "metadata": {},
   "outputs": [],
   "source": []
  },
  {
   "cell_type": "code",
   "execution_count": null,
   "metadata": {},
   "outputs": [],
   "source": []
  },
  {
   "cell_type": "code",
   "execution_count": null,
   "metadata": {},
   "outputs": [],
   "source": []
  },
  {
   "cell_type": "code",
   "execution_count": null,
   "metadata": {},
   "outputs": [],
   "source": []
  },
  {
   "cell_type": "code",
   "execution_count": null,
   "metadata": {},
   "outputs": [],
   "source": []
  },
  {
   "cell_type": "code",
   "execution_count": null,
   "metadata": {},
   "outputs": [],
   "source": []
  },
  {
   "cell_type": "code",
   "execution_count": null,
   "metadata": {},
   "outputs": [],
   "source": []
  },
  {
   "cell_type": "code",
   "execution_count": null,
   "metadata": {},
   "outputs": [],
   "source": []
  },
  {
   "cell_type": "code",
   "execution_count": null,
   "metadata": {},
   "outputs": [],
   "source": []
  },
  {
   "cell_type": "code",
   "execution_count": null,
   "metadata": {},
   "outputs": [],
   "source": []
  },
  {
   "cell_type": "code",
   "execution_count": null,
   "metadata": {},
   "outputs": [],
   "source": []
  }
 ],
 "metadata": {
  "hide_input": false,
  "kernelspec": {
   "display_name": "Python [default]",
   "language": "python",
   "name": "python3"
  },
  "toc": {
   "base_numbering": 1,
   "nav_menu": {},
   "number_sections": true,
   "sideBar": true,
   "skip_h1_title": false,
   "title_cell": "Table of Contents",
   "title_sidebar": "Contents",
   "toc_cell": false,
   "toc_position": {},
   "toc_section_display": true,
   "toc_window_display": true
  },
  "varInspector": {
   "cols": {
    "lenName": 16,
    "lenType": 16,
    "lenVar": 40
   },
   "kernels_config": {
    "python": {
     "delete_cmd_postfix": "",
     "delete_cmd_prefix": "del ",
     "library": "var_list.py",
     "varRefreshCmd": "print(var_dic_list())"
    },
    "r": {
     "delete_cmd_postfix": ") ",
     "delete_cmd_prefix": "rm(",
     "library": "var_list.r",
     "varRefreshCmd": "cat(var_dic_list()) "
    }
   },
   "types_to_exclude": [
    "module",
    "function",
    "builtin_function_or_method",
    "instance",
    "_Feature"
   ],
   "window_display": false
  }
 },
 "nbformat": 4,
 "nbformat_minor": 2
}
