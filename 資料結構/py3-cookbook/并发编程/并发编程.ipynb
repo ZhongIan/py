{
 "cells": [
  {
   "cell_type": "markdown",
   "metadata": {},
   "source": [
    "# [threading.Thread]启动与停止线程"
   ]
  },
  {
   "cell_type": "markdown",
   "metadata": {},
   "source": [
    "`threading` 库可以在单独的线程中执行任何的在 `Python` 中可以调用的对象。你可以创建一个 `Thread` 对象并将你要执行的对象以 `target` 参数的形式提供给该对象"
   ]
  },
  {
   "cell_type": "code",
   "execution_count": 1,
   "metadata": {
    "ExecuteTime": {
     "end_time": "2019-09-24T08:14:03.080682Z",
     "start_time": "2019-09-24T08:14:03.072835Z"
    }
   },
   "outputs": [
    {
     "name": "stdout",
     "output_type": "stream",
     "text": [
      "T-minus 10\n"
     ]
    }
   ],
   "source": [
    "# Code to execute in an independent thread\n",
    "import time\n",
    "def countdown(n):\n",
    "    while n > 0:\n",
    "        print('T-minus', n)\n",
    "        n -= 1\n",
    "        time.sleep(5)\n",
    "\n",
    "# Create and launch a thread\n",
    "from threading import Thread\n",
    "t = Thread(target=countdown, args=(10,))\n",
    "t.start()"
   ]
  },
  {
   "cell_type": "markdown",
   "metadata": {},
   "source": [
    "当你创建好一个线程对象后，该对象并不会立即执行，除非你调用它的 `start()` 方法（当你调用 `start()` 方法时，它会调用你传递进来的函数，并把你传递进来的参数传递给该函数）。\n",
    "\n",
    "`Python` 中的线程会在一个单独的系统级线程中执行（比如说一个 `POSIX` 线程或者一个 `Windows` 线程），这些线程将由操作系统来全权管理。\n",
    "\n",
    "线程一旦启动，将独立执行直到目标函数返回。你可以查询一个线程对象的状态，看它是否还在执行：\n",
    "\n",
    "```py\n",
    "if t.is_alive():\n",
    "    print('Still running')\n",
    "else:\n",
    "    print('Completed')\n",
    "\n",
    "```\n",
    "\n",
    "你也可以将一个线程加入到当前线程，并等待它终止：\n",
    "\n",
    "```py\n",
    "t.join()\n",
    "\n",
    "```\n"
   ]
  },
  {
   "cell_type": "markdown",
   "metadata": {},
   "source": [
    "后台线程无法等待，不过，这些线程会在主线程终止时自动销毁。 \n",
    "\n",
    "除了如上所示的两个操作，并没有太多可以对线程做的事情。\n",
    "\n",
    "你无法结束一个线程，无法给它发送信号，无法调整它的调度，也无法执行其他高级操作。\n",
    "\n",
    "如果需要这些特性，你需要自己添加。\n",
    "\n",
    "比如说，如果你需要终止线程，那么这个线程必须通过编程在某个特定点轮询来退出。\n",
    "\n",
    "你可以像下边这样把线程放入一个类中："
   ]
  },
  {
   "cell_type": "code",
   "execution_count": 23,
   "metadata": {
    "ExecuteTime": {
     "end_time": "2019-09-24T16:19:36.245785Z",
     "start_time": "2019-09-24T16:19:36.234817Z"
    }
   },
   "outputs": [
    {
     "name": "stdout",
     "output_type": "stream",
     "text": [
      "Overwriting ThreadTest.py\n"
     ]
    }
   ],
   "source": [
    "%%file ThreadTest.py\n",
    "import time\n",
    "class CountdownTask:\n",
    "    def __init__(self):\n",
    "        self._running = True\n",
    "\n",
    "    def terminate(self):\n",
    "        self._running = False\n",
    "\n",
    "    def run(self, n):\n",
    "        while self._running and n > 0:\n",
    "            print('T-minus', n)\n",
    "            n -= 1\n",
    "            time.sleep(5)\n",
    "\n",
    "c = CountdownTask()\n",
    "\n",
    "from threading import Thread\n",
    "t = Thread(target=c.run, args=(10,))\n",
    "t.start()\n",
    "c.terminate() # Signal termination 信號終止\n",
    "t.join()      # Wait for actual termination (if needed) 實際停止"
   ]
  },
  {
   "cell_type": "code",
   "execution_count": 22,
   "metadata": {
    "ExecuteTime": {
     "end_time": "2019-09-24T16:18:08.371769Z",
     "start_time": "2019-09-24T16:18:08.352819Z"
    }
   },
   "outputs": [
    {
     "name": "stdout",
     "output_type": "stream",
     "text": [
      "python \"D:\\CODE\\GitHub\\py\\資料結構\\py3-cookbook\\并发编程\\ThreadTest.py\"\n",
      "D:\\CODE\\GitHub\\py\\資料結構\\py3-cookbook\\并发编程\n"
     ]
    },
    {
     "data": {
      "text/plain": [
       "<subprocess.Popen at 0x179f62f3d68>"
      ]
     },
     "execution_count": 22,
     "metadata": {},
     "output_type": "execute_result"
    }
   ],
   "source": [
    "# ============ 開新 CONSOLE ============\n",
    "# ------------ Run the server ------------\n",
    "\n",
    "import os\n",
    "import subprocess\n",
    "# os.path.abspath {本黨位置}: D:\\Google 雲端硬碟\\learn\\線程調用\\TestOS.py\n",
    "# os.path.dirname {目錄} : D:\\Google 雲端硬碟\\learn\\線程調用\n",
    "BASE_DIR = os.path.dirname(os.path.abspath('__file__'))\n",
    "# 透過 cmd 呼叫\n",
    "DIR = os.path.join(BASE_DIR, 'ThreadTest.py')\n",
    "cmd = \"python \" + f'\"{DIR}\"'\n",
    "print(cmd,BASE_DIR,sep='\\n')\n",
    "#  CONSOLE混雜\n",
    "#os.system(cmd)\n",
    "#subprocess.call(cmd)\n",
    "\n",
    "#  NEW 一個 CONSOLE\n",
    "subprocess.Popen(cmd, creationflags=subprocess.CREATE_NEW_CONSOLE)"
   ]
  },
  {
   "cell_type": "markdown",
   "metadata": {},
   "source": [
    "如果线程执行一些像 `I/O` 这样的阻塞操作，那么通过轮询来终止线程将使得线程之间的协调变得非常棘手。\n",
    "\n",
    "比如，如果一个线程一直阻塞在一个 `I/O` 操作上，它就永远无法返回，也就无法检查自己是否已经被结束了。\n",
    "\n",
    "要正确处理这些问题，你需要利用超时循环来小心操作线程。 例子如下：\n",
    "\n",
    "```py\n",
    "class IOTask:\n",
    "    def terminate(self):\n",
    "        self._running = False\n",
    "\n",
    "    def run(self, sock):\n",
    "        # sock is a socket\n",
    "        sock.settimeout(5)        # Set timeout period\n",
    "        while self._running:\n",
    "            # Perform a blocking I/O operation w/ timeout\n",
    "            try:\n",
    "                data = sock.recv(8192)\n",
    "                break\n",
    "            except socket.timeout:\n",
    "                continue\n",
    "            # Continued processing\n",
    "            ...\n",
    "        # Terminated\n",
    "        return\n",
    "```\n",
    "\n"
   ]
  },
  {
   "cell_type": "markdown",
   "metadata": {},
   "source": [
    "## [multiprocessing]讨论"
   ]
  },
  {
   "cell_type": "markdown",
   "metadata": {},
   "source": [
    "由于全局解释锁 `（GIL）` 的原因， `Python` 的线程被限制到同一时刻只允许一个线程执行这样一个执行模型。\n",
    "\n",
    "所以， `Python` 的线程更适用于处理 `I/O` 和其他需要并发执行的阻塞操作（比如等待 `I/O` 、等待从数据库获取数据等等），而**不是需要多处理器并行的计算密集型任务**\n",
    "\n",
    "你可以通过 `multiprocessing` 模块在一个单独的进程中执行你的代码："
   ]
  },
  {
   "cell_type": "code",
   "execution_count": 18,
   "metadata": {
    "ExecuteTime": {
     "end_time": "2019-09-24T14:24:13.100921Z",
     "start_time": "2019-09-24T14:24:08.086293Z"
    }
   },
   "outputs": [
    {
     "name": "stdout",
     "output_type": "stream",
     "text": [
      "T-minus 5\n",
      "T-minus 4\n",
      "T-minus 3\n",
      "T-minus 2\n",
      "T-minus 1\n"
     ]
    }
   ],
   "source": [
    "import multiprocessing\n",
    "\n",
    "class CountdownTask:\n",
    "    def __init__(self):\n",
    "        self._running = True\n",
    "\n",
    "    def terminate(self):\n",
    "        self._running = False\n",
    "\n",
    "    def run(self, n):\n",
    "        while self._running and n > 0:\n",
    "            print('T-minus', n)\n",
    "            n -= 1\n",
    "            time.sleep(1)\n",
    "\n",
    "c = CountdownTask()\n",
    "p = multiprocessing.Process(\n",
    "    target=c.run(n=5)\n",
    ")\n",
    "p.start()"
   ]
  },
  {
   "cell_type": "markdown",
   "metadata": {},
   "source": [
    "# [threading.Event()]判断线程是否已经启动"
   ]
  },
  {
   "cell_type": "markdown",
   "metadata": {},
   "source": [
    "线程的一个关键特性是每个线程都是独立运行且状态不可预测。\n",
    "\n",
    "如果程序中的其他线程需要通过判断某个线程的状态来确定自己下一步的操作，这时线程同步问题就会变得非常棘手。\n",
    "\n",
    "为了解决这些问题，我们需要使用 `threading` 库中的 `Event` 对象。 \n",
    "\n",
    "`Event` 对象包含一个可由线程设置的信号标志，它允许线程等待某些事件的发生。\n",
    "\n",
    "在初始情况下， `event` 对象中的信号标志被设置为假。\n",
    "\n",
    "如果有线程等待一个 `event` 对象，而这个 `event` 对象的标志为假，那么这个线程将会被一直阻塞直至该标志为真。\n",
    "\n",
    "一个线程如果将一个 `event` 对象的信号标志设置为真，它将唤醒所有等待这个 `event` 对象的线程。\n",
    "\n",
    "如果一个线程等待一个已经被设置为真的 `event` 对象，那么它将忽略这个事件，继续执行。 \n",
    "\n",
    "下边的代码展示了如何使用 `Event` 来协调线程的启动："
   ]
  },
  {
   "cell_type": "code",
   "execution_count": 19,
   "metadata": {
    "ExecuteTime": {
     "end_time": "2019-09-24T15:11:15.138582Z",
     "start_time": "2019-09-24T15:11:15.127598Z"
    }
   },
   "outputs": [
    {
     "name": "stdout",
     "output_type": "stream",
     "text": [
      "Launching countdown\n",
      "countdown starting\n",
      "T-minus 10\n"
     ]
    },
    {
     "data": {
      "text/plain": [
       "True"
      ]
     },
     "execution_count": 19,
     "metadata": {},
     "output_type": "execute_result"
    },
    {
     "name": "stdout",
     "output_type": "stream",
     "text": [
      "countdown is running\n"
     ]
    }
   ],
   "source": [
    "from threading import Thread, Event\n",
    "import time\n",
    "\n",
    "# Code to execute in an independent thread\n",
    "def countdown(n, started_evt):\n",
    "    print('countdown starting')\n",
    "    # Event().set()\n",
    "    started_evt.set()\n",
    "    while n > 0:\n",
    "        print('T-minus', n)\n",
    "        n -= 1\n",
    "        time.sleep(5)\n",
    "\n",
    "# Create the event object that will be used to signal startup\n",
    "started_evt = Event()\n",
    "\n",
    "# Launch the thread and pass the startup event\n",
    "print('Launching countdown')\n",
    "t = Thread(target=countdown, args=(10,started_evt))\n",
    "t.start()\n",
    "\n",
    "# Wait for the thread to start\n",
    "started_evt.wait()\n",
    "print('countdown is running')"
   ]
  },
  {
   "cell_type": "markdown",
   "metadata": {},
   "source": [
    "## [threading.Condition()]讨论"
   ]
  },
  {
   "cell_type": "markdown",
   "metadata": {},
   "source": [
    "`event` 对象最好单次使用，就是说，你创建一个 `event` 对象，让某个线程等待这个对象，一旦这个对象被设置为真，你就应该丢弃它。\n",
    "\n",
    "尽管可以通过 `clear()` 方法来重置 `event` 对象，但是很难确保安全地清理 `event` 对象并对它重新赋值。\n",
    "\n",
    "很可能会发生错过事件、死锁或者其他问题（特别是，你无法保证重置 `event` 对象的代码会在线程再次等待这个 `event` 对象之前执行）。\n",
    "\n",
    "如果一个线程需要不停地重复使用 `event` 对象，你最好使用 `Condition` 对象来代替。\n",
    "\n",
    "下面的代码使用 `Condition` 对象实现了一个周期定时器，每当定时器超时的时候，其他线程都可以监测到："
   ]
  },
  {
   "cell_type": "code",
   "execution_count": 25,
   "metadata": {
    "ExecuteTime": {
     "end_time": "2019-09-24T16:20:46.457723Z",
     "start_time": "2019-09-24T16:20:46.445767Z"
    }
   },
   "outputs": [
    {
     "name": "stdout",
     "output_type": "stream",
     "text": [
      "Overwriting MultiThreadTest.py\n"
     ]
    }
   ],
   "source": [
    "%%file MultiThreadTest.py\n",
    "import threading\n",
    "import time\n",
    "\n",
    "# ======= Timer =======\n",
    "\n",
    "class PeriodicTimer:\n",
    "    def __init__(self, interval):\n",
    "        self._interval = interval\n",
    "        self._flag = 0\n",
    "        self._cv = threading.Condition()\n",
    "\n",
    "    def start(self):\n",
    "        t = threading.Thread(target=self.run)\n",
    "        t.daemon = True\n",
    "\n",
    "        t.start()\n",
    "\n",
    "    def run(self):\n",
    "        '''\n",
    "        Run the timer and notify waiting threads after each interval\n",
    "        '''\n",
    "        while True:\n",
    "            time.sleep(self._interval)\n",
    "            with self._cv:\n",
    "                # 二進制 異位(XOR)\n",
    "                self._flag ^= 1\n",
    "                self._cv.notify_all()\n",
    "\n",
    "    def wait_for_tick(self):\n",
    "        '''\n",
    "        Wait for the next tick of the timer\n",
    "        '''\n",
    "        with self._cv:\n",
    "            last_flag = self._flag\n",
    "            while last_flag == self._flag:\n",
    "                self._cv.wait()\n",
    "\n",
    "# Example use of the timer\n",
    "ptimer = PeriodicTimer(1)\n",
    "ptimer.start()\n",
    "\n",
    "# Two threads that synchronize on the timer\n",
    "def countdown(nticks):\n",
    "    while nticks > 0:\n",
    "        ptimer.wait_for_tick()\n",
    "        print('T-minus', nticks)\n",
    "        nticks -= 1\n",
    "\n",
    "def countup(last):\n",
    "    n = 0\n",
    "    while n < last:\n",
    "        ptimer.wait_for_tick()\n",
    "        print('Counting', n)\n",
    "        n += 1\n",
    "\n",
    "threading.Thread(target=countdown, args=(10,)).start()\n",
    "threading.Thread(target=countup, args=(5,)).start()"
   ]
  },
  {
   "cell_type": "code",
   "execution_count": 26,
   "metadata": {
    "ExecuteTime": {
     "end_time": "2019-09-24T16:20:48.126977Z",
     "start_time": "2019-09-24T16:20:48.115007Z"
    }
   },
   "outputs": [
    {
     "name": "stdout",
     "output_type": "stream",
     "text": [
      "python \"D:\\CODE\\GitHub\\py\\資料結構\\py3-cookbook\\并发编程\\MultiThreadTest.py\"\n",
      "D:\\CODE\\GitHub\\py\\資料結構\\py3-cookbook\\并发编程\n"
     ]
    },
    {
     "data": {
      "text/plain": [
       "<subprocess.Popen at 0x179f62f3c50>"
      ]
     },
     "execution_count": 26,
     "metadata": {},
     "output_type": "execute_result"
    }
   ],
   "source": [
    "# ============ 開新 CONSOLE ============\n",
    "# ------------ Run the server ------------\n",
    "\n",
    "import os\n",
    "import subprocess\n",
    "# os.path.abspath {本黨位置}: D:\\Google 雲端硬碟\\learn\\線程調用\\TestOS.py\n",
    "# os.path.dirname {目錄} : D:\\Google 雲端硬碟\\learn\\線程調用\n",
    "BASE_DIR = os.path.dirname(os.path.abspath('__file__'))\n",
    "# 透過 cmd 呼叫\n",
    "DIR = os.path.join(BASE_DIR, 'MultiThreadTest.py')\n",
    "cmd = \"python \" + f'\"{DIR}\"'\n",
    "print(cmd,BASE_DIR,sep='\\n')\n",
    "#  CONSOLE混雜\n",
    "#os.system(cmd)\n",
    "#subprocess.call(cmd)\n",
    "\n",
    "#  NEW 一個 CONSOLE\n",
    "subprocess.Popen(cmd, creationflags=subprocess.CREATE_NEW_CONSOLE)"
   ]
  },
  {
   "cell_type": "markdown",
   "metadata": {},
   "source": [
    "`event` 对象的一个重要特点是当它被设置为真时会唤醒所有等待它的线程。\n",
    "\n",
    "如果你只想唤醒单个线程，最好是使用 **信号量** 或者 `Condition` 对象来替代。考虑一下这段使用信号量实现的代码："
   ]
  },
  {
   "cell_type": "code",
   "execution_count": 42,
   "metadata": {
    "ExecuteTime": {
     "end_time": "2019-09-25T09:34:39.278949Z",
     "start_time": "2019-09-25T09:34:39.270151Z"
    }
   },
   "outputs": [],
   "source": [
    "import threading\n",
    "# Worker thread\n",
    "def worker(n, sema):\n",
    "    # Wait to be signaled\n",
    "    sema.acquire()\n",
    "\n",
    "    # Do some work\n",
    "    print('Working', n)\n",
    "\n",
    "# Create some threads\n",
    "sema = threading.Semaphore(0)\n",
    "nworkers = 10\n",
    "for n in range(nworkers):\n",
    "    t = threading.Thread(target=worker, args=(n, sema,))\n",
    "    t.start()"
   ]
  },
  {
   "cell_type": "markdown",
   "metadata": {},
   "source": [
    "每次信号量被释放，只有一个线程会被唤醒并执行"
   ]
  },
  {
   "cell_type": "code",
   "execution_count": 43,
   "metadata": {
    "ExecuteTime": {
     "end_time": "2019-09-25T09:34:45.266688Z",
     "start_time": "2019-09-25T09:34:45.257904Z"
    }
   },
   "outputs": [
    {
     "name": "stdout",
     "output_type": "stream",
     "text": [
      "Working 0\n",
      "Working 1\n"
     ]
    }
   ],
   "source": [
    "sema.release()\n",
    "\n",
    "sema.release()"
   ]
  },
  {
   "cell_type": "markdown",
   "metadata": {},
   "source": [
    "# {情境及應用不瞭解}线程间通信"
   ]
  },
  {
   "cell_type": "markdown",
   "metadata": {},
   "source": [
    "从一个线程向另一个线程发送数据最安全的方式可能就是使用 `queue` 库中的队列了。\n",
    "\n",
    "创建一个被多个线程共享的 `Queue` 对象，这些线程通过使用 `put()` 和 `get()` 操作来向队列中添加或者删除元素。 例如："
   ]
  },
  {
   "cell_type": "code",
   "execution_count": 44,
   "metadata": {
    "ExecuteTime": {
     "end_time": "2019-09-25T12:51:11.674954Z",
     "start_time": "2019-09-25T12:51:11.650554Z"
    }
   },
   "outputs": [],
   "source": [
    "from queue import Queue\n",
    "from threading import Thread\n",
    "\n",
    "# A thread that produces data\n",
    "def producer(out_q):\n",
    "    while True:\n",
    "        # Produce some data\n",
    "        ...\n",
    "        out_q.put(data)\n",
    "\n",
    "# A thread that consumes data\n",
    "def consumer(in_q):\n",
    "    while True:\n",
    "        # Get some data\n",
    "        data = in_q.get()\n",
    "        # Process the data\n",
    "        ...\n",
    "\n",
    "# Create the shared queue and launch both threads\n",
    "q = Queue()\n",
    "t1 = Thread(target=consumer, args=(q,))\n",
    "t2 = Thread(target=producer, args=(q,))\n",
    "t1.start()\n",
    "t2.start()"
   ]
  },
  {
   "cell_type": "markdown",
   "metadata": {},
   "source": [
    "`Queue` 对象已经包含了必要的锁，所以你可以通过它在多个线程间多安全地共享数据。 \n",
    "\n",
    "当使用队列时，协调生产者和消费者的关闭问题可能会有一些麻烦。\n",
    "\n",
    "一个通用的解决方法是在队列中放置一个特殊的值，当消费者读到这个值的时候，终止执行。例如：\n",
    "\n",
    "```py\n",
    "from queue import Queue\n",
    "from threading import Thread\n",
    "\n",
    "# Object that signals shutdown\n",
    "_sentinel = object()\n",
    "\n",
    "# A thread that produces data\n",
    "def producer(out_q):\n",
    "    while running:\n",
    "        # Produce some data\n",
    "        ...\n",
    "        out_q.put(data)\n",
    "\n",
    "    # Put the sentinel on the queue to indicate completion\n",
    "    out_q.put(_sentinel)\n",
    "\n",
    "# A thread that consumes data\n",
    "def consumer(in_q):\n",
    "    while True:\n",
    "        # Get some data\n",
    "        data = in_q.get()\n",
    "\n",
    "        # Check for termination\n",
    "        if data is _sentinel:\n",
    "            in_q.put(_sentinel)\n",
    "            break\n",
    "\n",
    "        # Process the data\n",
    "        ...\n",
    "```\n",
    "\n"
   ]
  },
  {
   "cell_type": "markdown",
   "metadata": {},
   "source": [
    "本例中有一个特殊的地方：消费者在读到这个特殊值之后立即又把它放回到队列中，将之传递下去。\n",
    "\n",
    "这样，所有监听这个队列的消费者线程就可以全部关闭了。 \n",
    "\n",
    "尽管队列是最常见的线程间通信机制，但是仍然可以自己通过创建自己的数据结构并添加所需的锁和同步机制来实现线程间通信。\n",
    "\n",
    "最常见的方法是使用 `Condition` 变量来包装你的数据结构。\n",
    "\n",
    "下边这个例子演示了如何创建一个线程安全的优先级队列\n",
    "\n",
    "```py\n",
    "import heapq\n",
    "import threading\n",
    "\n",
    "class PriorityQueue:\n",
    "    def __init__(self):\n",
    "        self._queue = []\n",
    "        self._count = 0\n",
    "        self._cv = threading.Condition()\n",
    "        \n",
    "    def put(self, item, priority):\n",
    "        with self._cv:\n",
    "            heapq.heappush(self._queue, (-priority, self._count, item))\n",
    "            self._count += 1\n",
    "            self._cv.notify()\n",
    "\n",
    "    def get(self):\n",
    "        with self._cv:\n",
    "            while len(self._queue) == 0:\n",
    "                self._cv.wait()\n",
    "            return heapq.heappop(self._queue)[-1]\n",
    "```\n"
   ]
  },
  {
   "cell_type": "markdown",
   "metadata": {},
   "source": [
    "使用队列来进行线程间通信是一个单向、不确定的过程。通常情况下，你没有办法知道接收数据的线程是什么时候接收到的数据并开始工作的。\n",
    "\n",
    "不过队列对象提供一些基本完成的特性，比如下边这个例子中的 `task_done()` 和 `join()` ：\n",
    "\n",
    "```py\n",
    "from queue import Queue\n",
    "from threading import Thread\n",
    "\n",
    "# A thread that produces data\n",
    "def producer(out_q):\n",
    "    while running:\n",
    "        # Produce some data\n",
    "        ...\n",
    "        out_q.put(data)\n",
    "\n",
    "# A thread that consumes data\n",
    "def consumer(in_q):\n",
    "    while True:\n",
    "        # Get some data\n",
    "        data = in_q.get()\n",
    "\n",
    "        # Process the data\n",
    "        ...\n",
    "        # Indicate completion\n",
    "        in_q.task_done()\n",
    "\n",
    "# Create the shared queue and launch both threads\n",
    "q = Queue()\n",
    "t1 = Thread(target=consumer, args=(q,))\n",
    "t2 = Thread(target=producer, args=(q,))\n",
    "t1.start()\n",
    "t2.start()\n",
    "\n",
    "# Wait for all produced items to be consumed\n",
    "q.join()\n",
    "```\n"
   ]
  },
  {
   "cell_type": "markdown",
   "metadata": {},
   "source": [
    "如果一个线程需要在一个 **“消费者”** 线程处理完特定的数据项时立即得到通知，你可以把要发送的数据和一个 `Event` 放到一起使用，这样 **“生产者”** 就可以通过这个 `Event` 对象来监测处理的过程了。示例如下：\n",
    "\n",
    "```py\n",
    "from queue import Queue\n",
    "from threading import Thread, Event\n",
    "\n",
    "# A thread that produces data\n",
    "def producer(out_q):\n",
    "    while running:\n",
    "        # Produce some data\n",
    "        ...\n",
    "        # Make an (data, event) pair and hand it to the consumer\n",
    "        evt = Event()\n",
    "        out_q.put((data, evt))\n",
    "        ...\n",
    "        # Wait for the consumer to process the item\n",
    "        evt.wait()\n",
    "\n",
    "# A thread that consumes data\n",
    "def consumer(in_q):\n",
    "    while True:\n",
    "        # Get some data\n",
    "        data, evt = in_q.get()\n",
    "        # Process the data\n",
    "        ...\n",
    "        # Indicate completion\n",
    "        evt.set()\n",
    "```\n"
   ]
  },
  {
   "cell_type": "markdown",
   "metadata": {},
   "source": [
    "## [列隊判斷與線程]讨论"
   ]
  },
  {
   "cell_type": "markdown",
   "metadata": {},
   "source": [
    "使用队列这种基于消息的通信机制可以被扩展到更大的应用范畴，比如，你可以把你的程序放入 **多个进程** 甚至是 **分布式系统** 而无需改变底层的队列结构。 \n",
    "\n",
    "使用线程队列有一个要注意的问题是，向队列中 **添加数据项** 时并不会复制此数据项，线程间通信实际上是在线程间传递对象引用。\n",
    "\n",
    "如果你担心对象的 **共享状态** ，那你最好只传递不可修改的数据结构（如：整型、字符串或者元组）或者一个对象的 **深拷贝** 。\n",
    "\n",
    "```py\n",
    "from queue import Queue\n",
    "from threading import Thread\n",
    "import copy\n",
    "\n",
    "# A thread that produces data\n",
    "def producer(out_q):\n",
    "    while True:\n",
    "        # Produce some data\n",
    "        ...\n",
    "        out_q.put(copy.deepcopy(data))\n",
    "\n",
    "# A thread that consumes data\n",
    "def consumer(in_q):\n",
    "    while True:\n",
    "        # Get some data\n",
    "        data = in_q.get()\n",
    "        # Process the data\n",
    "        ...\n",
    "```\n"
   ]
  },
  {
   "cell_type": "markdown",
   "metadata": {},
   "source": [
    "`Queue` 对象提供一些在当前上下文很有用的附加特性。\n",
    "\n",
    "比如在创建 `Queue` 对象时提供可选的 `size` 参数来限制可以添加到队列中的元素数量。\n",
    "\n",
    "对于 **“生产者”** 与 **“消费者”** 速度有差异的情况，为队列中的元素数量添加上限是有意义的。\n",
    "\n",
    "比如，一个 **“生产者”** 产生项目的速度比 **“消费者”** **“消费”** 的速度快，那么使用固定大小的队列就可以在队列已满的时候阻塞队列，以免未预期的连锁效应扩散整个程序造成死锁或者程序运行失常。\n",
    "\n",
    "在通信的线程之间进行“流量控制”是一个看起来容易实现起来困难的问题。\n",
    "\n",
    "如果你发现自己曾经试图通过摆弄队列大小来解决一个问题，这也许就标志着你的程序可能存在脆弱设计或者固有的可伸缩问题。 **get()** 和 **put()** 方法都 **支持非阻塞方式和设定超时** ，例如：\n",
    "\n",
    "```py\n",
    "import queue\n",
    "q = queue.Queue()\n",
    "\n",
    "try:\n",
    "    data = q.get(block=False)\n",
    "except queue.Empty:\n",
    "    ...\n",
    "\n",
    "try:\n",
    "    q.put(item, block=False)\n",
    "except queue.Full:\n",
    "    ...\n",
    "\n",
    "try:\n",
    "    data = q.get(timeout=5.0)\n",
    "except queue.Empty:\n",
    "    ...\n",
    "```\n",
    "\n",
    "这些操作都可以用来避免当执行某些特定队列操作时发生无限阻塞的情况，比如，一个非阻塞的 `put()` 方法和 **一个固定大小的队列** 一起使用，这样当队列已满时就可以执行不同的代码。\n",
    "\n",
    "比如输出一条日志信息并丢弃。\n",
    "\n",
    "```py\n",
    "def producer(q):\n",
    "    ...\n",
    "    try:\n",
    "        q.put(item, block=False)\n",
    "    except queue.Full:\n",
    "        log.warning('queued item %r discarded!', item)\n",
    "```\n",
    "\n",
    "如果你试图让消费者线程在执行像 `q.get()` 这样的操作时，超时自动终止以便检查终止标志，你应该使用 `q.get()` 的可选参数 `timeout` ，如下：\n",
    "\n",
    "```py\n",
    "_running = True\n",
    "\n",
    "def consumer(q):\n",
    "    while _running:\n",
    "        try:\n",
    "            item = q.get(timeout=5.0)\n",
    "            # Process item\n",
    "            ...\n",
    "        except queue.Empty:\n",
    "            pass\n",
    "```\n",
    "\n",
    "最后，有 `q.qsize()` ， `q.full()` ， `q.empty()` 等实用方法可以获取一个队列的当前大小和状态。但要注意，这些方法都不是线程安全的。\n",
    "\n",
    "可能你对一个队列使用 `empty()` 判断出这个队列为空，但同时另外一个线程可能已经向这个队列中插入一个数据项。\n",
    "\n",
    "所以，你最好不要在你的代码中使用这些方法。\n"
   ]
  },
  {
   "cell_type": "markdown",
   "metadata": {},
   "source": [
    "# [threading; with]给关键部分加锁"
   ]
  },
  {
   "cell_type": "markdown",
   "metadata": {},
   "source": [
    "要在多线程程序中安全使用可变对象，你需要使用 `threading` 库中的 `Lock` 对象，就像下边这个例子这样：\n",
    "\n",
    "```py\n",
    "import threading\n",
    "\n",
    "class SharedCounter:\n",
    "    '''\n",
    "    A counter object that can be shared by multiple threads.\n",
    "    '''\n",
    "    def __init__(self, initial_value = 0):\n",
    "        self._value = initial_value\n",
    "        self._value_lock = threading.Lock()\n",
    "\n",
    "    def incr(self,delta=1):\n",
    "        '''\n",
    "        Increment the counter with locking\n",
    "        '''\n",
    "        with self._value_lock:\n",
    "             self._value += delta\n",
    "\n",
    "    def decr(self,delta=1):\n",
    "        '''\n",
    "        Decrement the counter with locking\n",
    "        '''\n",
    "        with self._value_lock:\n",
    "             self._value -= delta\n",
    "```\n",
    "\n",
    "`Lock` 对象和 `with` 语句块一起使用可以保证互斥执行，就是每次只有一个线程可以执行 `with` 语句包含的代码块。\n",
    "\n",
    "`with` 语句会在这个代码块执行前自动获取锁，在执行结束后自动释放锁。\n"
   ]
  },
  {
   "cell_type": "markdown",
   "metadata": {},
   "source": [
    "## [無明確應用，難以理解，未完]讨论"
   ]
  },
  {
   "cell_type": "markdown",
   "metadata": {},
   "source": [
    "线程调度本质上是不确定的，因此，在多线程程序中错误地使用锁机制可能会导致随机数据损坏或者其他的异常行为，我们称之为竞争条件。\n",
    "\n",
    "为了避免竞争条件，最好只在临界区（对临界资源进行操作的那部分代码）使用锁。\n",
    "\n",
    "显式获取和释放锁是很常见的。下边是一个上一个例子的变种：\n",
    "\n",
    "\n",
    "```py\n",
    "import threading\n",
    "\n",
    "class SharedCounter:\n",
    "    '''\n",
    "    A counter object that can be shared by multiple threads.\n",
    "    '''\n",
    "    def __init__(self, initial_value = 0):\n",
    "        self._value = initial_value\n",
    "        self._value_lock = threading.Lock()\n",
    "\n",
    "    def incr(self,delta=1):\n",
    "        '''\n",
    "        Increment the counter with locking\n",
    "        '''\n",
    "        # 上 锁\n",
    "        self._value_lock.acquire()\n",
    "        self._value += delta\n",
    "        # 释放锁\n",
    "        self._value_lock.release()\n",
    "\n",
    "    def decr(self,delta=1):\n",
    "        '''\n",
    "        Decrement the counter with locking\n",
    "        '''\n",
    "        # 上 锁\n",
    "        self._value_lock.acquire()\n",
    "        self._value -= delta\n",
    "        # 释放锁\n",
    "        self._value_lock.release()\n",
    "```\n",
    "\n",
    "\n"
   ]
  },
  {
   "cell_type": "markdown",
   "metadata": {},
   "source": [
    "相比于这种显式调用的方法， `with` 语句更加优雅，也更不容易出错，\n",
    "\n",
    "特别是程序员可能会忘记调用 `release()` 方法或者程序在获得锁之后产生异常这两种情况（使用 `with` 语句可以保证在这两种情况下仍能正确释放锁）。 \n",
    "\n",
    "为了避免出现死锁的情况，使用锁机制的程序应该设定为每个线程一次只允许获取一个锁"
   ]
  },
  {
   "cell_type": "markdown",
   "metadata": {},
   "source": [
    "**未完**"
   ]
  },
  {
   "cell_type": "markdown",
   "metadata": {},
   "source": [
    "# 防止死锁的加锁机制"
   ]
  },
  {
   "cell_type": "markdown",
   "metadata": {},
   "source": [
    "在多线程程序中，死锁问题很大一部分是由于线程同时获取多个锁造成的。\n",
    "\n",
    "举个例子：一个线程获取了第一个锁，然后在获取第二个锁的 时候发生阻塞，那么这个线程就可能阻塞其他线程的执行，从而导致整个程序假死。 \n",
    "\n",
    "解决死锁问题的一种方案是为程序中的每一个锁分配一个唯一的`id`，然后只允许按照升序规则来使用多个锁，这个规则使用上下文管理器 是非常容易实现的，示例如下："
   ]
  },
  {
   "cell_type": "code",
   "execution_count": 47,
   "metadata": {
    "ExecuteTime": {
     "end_time": "2019-10-01T15:02:56.640693Z",
     "start_time": "2019-10-01T15:02:56.238964Z"
    }
   },
   "outputs": [
    {
     "name": "stdout",
     "output_type": "stream",
     "text": [
      "Thread-1\n",
      "Thread-2\n",
      "Thread-1\n",
      "Thread-2\n",
      "Thread-1\n",
      "Thread-2\n",
      "Thread-1\n",
      "Thread-2\n",
      "Thread-1\n",
      "Thread-2\n",
      "Thread-1\n",
      "Thread-2\n",
      "Thread-1\n",
      "Thread-2\n",
      "Thread-1\n",
      "Thread-2\n",
      "Thread-1\n",
      "Thread-2\n",
      "Thread-1"
     ]
    }
   ],
   "source": [
    "import threading\n",
    "from contextlib import contextmanager\n",
    "\n",
    "# Thread-local state to stored information on locks already acquired\n",
    "_local = threading.local()\n",
    "\n",
    "@contextmanager\n",
    "def acquire(*locks):\n",
    "    # Sort locks by object identifier\n",
    "    locks = sorted(locks, key=lambda x: id(x))\n",
    "\n",
    "    # Make sure lock order of previously acquired locks is not violated\n",
    "    acquired = getattr(_local,'acquired',[])\n",
    "    if acquired and max(id(lock) for lock in acquired) >= id(locks[0]):\n",
    "        raise RuntimeError('Lock Order Violation')\n",
    "\n",
    "    # Acquire all of the locks\n",
    "    acquired.extend(locks)\n",
    "    _local.acquired = acquired\n",
    "\n",
    "    try:\n",
    "        for lock in locks:\n",
    "            lock.acquire()\n",
    "        yield\n",
    "    finally:\n",
    "        # Release locks in reverse order of acquisition\n",
    "        for lock in reversed(locks):\n",
    "            lock.release()\n",
    "        del acquired[-len(locks):]\n",
    "\n",
    "# ======= 使用 ========\n",
    "# 如何使用这个上下文管理器\n",
    "# 不论是单个锁还是多个锁中都使用 acquire() 函数来申请锁        \n",
    "import threading\n",
    "x_lock = threading.Lock()\n",
    "y_lock = threading.Lock()\n",
    "\n",
    "def thread_1():\n",
    "    while True:\n",
    "        with acquire(x_lock, y_lock):\n",
    "            print('Thread-1')\n",
    "\n",
    "def thread_2():\n",
    "    while True:\n",
    "        with acquire(y_lock, x_lock):\n",
    "            print('Thread-2')\n",
    "\n",
    "t1 = threading.Thread(target=thread_1)\n",
    "t1.daemon = True\n",
    "t1.start()\n",
    "\n",
    "t2 = threading.Thread(target=thread_2)\n",
    "t2.daemon = True\n",
    "t2.start()"
   ]
  },
  {
   "cell_type": "markdown",
   "metadata": {},
   "source": [
    "如果你执行这段代码，你会发现它即使在不同的函数中以不同的顺序获取锁也没有发生死锁。 \n",
    "\n",
    "其关键在于，在第一段代码中，我们对这些锁进行了排序。\n",
    "\n",
    "通过排序，使得不管用户以什么样的顺序来请求锁，这些锁都会按照固定的顺序被获取。 \n",
    "\n",
    "如果有多个 `acquire()` 操作被**嵌套**调用，可以通过线程本地存储 `（TLS）` 来检测潜在的死锁问题。 \n",
    "\n",
    "假设你的代码是这样写的: \n",
    "```py\n",
    "import threading\n",
    "x_lock = threading.Lock()\n",
    "y_lock = threading.Lock()\n",
    "\n",
    "def thread_1():\n",
    "\n",
    "    while True:\n",
    "        with acquire(x_lock):\n",
    "            with acquire(y_lock):\n",
    "                print('Thread-1')\n",
    "\n",
    "def thread_2():\n",
    "    while True:\n",
    "        with acquire(y_lock):\n",
    "            with acquire(x_lock):\n",
    "                print('Thread-2')\n",
    "\n",
    "t1 = threading.Thread(target=thread_1)\n",
    "t1.daemon = True\n",
    "t1.start()\n",
    "\n",
    "t2 = threading.Thread(target=thread_2)\n",
    "t2.daemon = True\n",
    "t2.start()\n",
    "```\n",
    "\n",
    "必定会有一个线程发生崩溃\n",
    "\n",
    "```py\n",
    "Exception in thread Thread-45:\n",
    "Traceback (most recent call last):\n",
    "  File \"D:\\anaconda\\lib\\threading.py\", line 916, in _bootstrap_inner\n",
    "    self.run()\n",
    "  File \"D:\\anaconda\\lib\\threading.py\", line 864, in run\n",
    "    self._target(*self._args, **self._kwargs)\n",
    "  File \"<ipython-input-49-bb2fb04bd3bb>\", line 15, in thread_2\n",
    "    with acquire(x_lock):\n",
    "  File \"D:\\anaconda\\lib\\contextlib.py\", line 81, in __enter__\n",
    "    return next(self.gen)\n",
    "  File \"<ipython-input-47-57757de4db3d>\", line 15, in acquire\n",
    "    raise RuntimeError('Lock Order Violation')\n",
    "RuntimeError: Lock Order Violation\n",
    "```\n",
    "\n",
    "发生崩溃的原因在于，每个线程都记录着自己已经获取到的锁。\n",
    "\n",
    "`acquire()` 函数会检查之前已经获取的锁列表， 由于锁是按照升序排列获取的，所以函数会认为之前已获取的锁的 `id` 必定小于新申请到的锁，这时就会触发异常。"
   ]
  },
  {
   "cell_type": "markdown",
   "metadata": {},
   "source": [
    "## 讨论\n",
    "\n",
    "下面以一个关于线程死锁的经典问题：“哲学家就餐问题”，作为本节最后一个例子。\n",
    "\n",
    "题目是这样的：\n",
    "\n",
    "五位哲学家围坐在一张桌子前，每个人 面前有一碗饭和一只筷子。\n",
    "\n",
    "在这里每个哲学家可以看做是一个独立的线程，而每只筷子可以看做是一个锁。\n",
    "\n",
    "每个哲学家可以处在静坐、 思考、吃饭三种状态中的一个。\n",
    "\n",
    "需要注意的是，每个哲学家吃饭是需要两只筷子的，这样问题就来了：如果每个哲学家都拿起自己左边的筷子， 那么他们五个都只能拿着一只筷子坐在那儿，直到饿死。\n",
    "\n",
    "此时他们就进入了死锁状态。 \n",
    "\n",
    "下面是一个简单的使用死锁避免机制解决“哲学家就餐问题”的实现：\n",
    "\n",
    "\n",
    "```py\n",
    "import threading\n",
    "\n",
    "# The philosopher thread\n",
    "def philosopher(left, right):\n",
    "    while True:\n",
    "        with acquire(left,right):\n",
    "             print(threading.currentThread(), 'eating')\n",
    "\n",
    "# The chopsticks (represented by locks)\n",
    "NSTICKS = 5\n",
    "chopsticks = [threading.Lock() for n in range(NSTICKS)]\n",
    "\n",
    "# Create all of the philosophers\n",
    "for n in range(NSTICKS):\n",
    "    t = threading.Thread(\n",
    "        target=philosopher,\n",
    "        args=(chopsticks[n],chopsticks[(n+1) % NSTICKS])\n",
    "    )\n",
    "    t.start()\n",
    "```\n",
    "    \n",
    "最后，要特别注意到，为了避免死锁，所有的加锁操作必须使用 `acquire()` 函数。如果代码中的某部分绕过 `acquire` 函数直接申请锁，那么整个死锁避免机制就不起作用了"
   ]
  },
  {
   "cell_type": "code",
   "execution_count": null,
   "metadata": {},
   "outputs": [],
   "source": []
  },
  {
   "cell_type": "code",
   "execution_count": null,
   "metadata": {},
   "outputs": [],
   "source": []
  },
  {
   "cell_type": "code",
   "execution_count": null,
   "metadata": {},
   "outputs": [],
   "source": []
  }
 ],
 "metadata": {
  "hide_input": false,
  "kernelspec": {
   "display_name": "Python [default]",
   "language": "python",
   "name": "python3"
  },
  "language_info": {
   "codemirror_mode": {
    "name": "ipython",
    "version": 3
   },
   "file_extension": ".py",
   "mimetype": "text/x-python",
   "name": "python",
   "nbconvert_exporter": "python",
   "pygments_lexer": "ipython3",
   "version": "3.6.5"
  },
  "toc": {
   "base_numbering": 1,
   "nav_menu": {},
   "number_sections": true,
   "sideBar": true,
   "skip_h1_title": false,
   "title_cell": "Table of Contents",
   "title_sidebar": "Contents",
   "toc_cell": false,
   "toc_position": {
    "height": "calc(100% - 180px)",
    "left": "10px",
    "top": "150px",
    "width": "192px"
   },
   "toc_section_display": true,
   "toc_window_display": true
  },
  "varInspector": {
   "cols": {
    "lenName": 16,
    "lenType": 16,
    "lenVar": 40
   },
   "kernels_config": {
    "python": {
     "delete_cmd_postfix": "",
     "delete_cmd_prefix": "del ",
     "library": "var_list.py",
     "varRefreshCmd": "print(var_dic_list())"
    },
    "r": {
     "delete_cmd_postfix": ") ",
     "delete_cmd_prefix": "rm(",
     "library": "var_list.r",
     "varRefreshCmd": "cat(var_dic_list()) "
    }
   },
   "types_to_exclude": [
    "module",
    "function",
    "builtin_function_or_method",
    "instance",
    "_Feature"
   ],
   "window_display": false
  }
 },
 "nbformat": 4,
 "nbformat_minor": 2
}
