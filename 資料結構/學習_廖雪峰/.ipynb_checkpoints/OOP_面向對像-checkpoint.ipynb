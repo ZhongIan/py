{
 "cells": [
  {
   "cell_type": "markdown",
   "metadata": {},
   "source": [
    "# 类和实例"
   ]
  },
  {
   "cell_type": "markdown",
   "metadata": {},
   "source": [
    "面向对象最重要的概念就是类 `（Class）` 和实例 `（Instance）` ，\n",
    "\n",
    "必须牢记类是**抽象的模板** ，比如 `Student` 类，\n",
    "\n",
    "而实例是根据类创建出来的一个个**具体的“对象”** ，每个对象都拥有相同的方法，但各自的数据可能不同。"
   ]
  },
  {
   "cell_type": "markdown",
   "metadata": {},
   "source": [
    "`class` 后面紧接着是类名，即 `Student` ，类名通常是大写开头的单词，紧接着是`(object)` \n",
    "\n",
    "`object` 类，这是所有类最终都会继承的类(可有可無)"
   ]
  },
  {
   "cell_type": "code",
   "execution_count": 1,
   "metadata": {
    "ExecuteTime": {
     "end_time": "2019-11-10T15:55:24.968660Z",
     "start_time": "2019-11-10T15:55:24.950708Z"
    }
   },
   "outputs": [],
   "source": [
    "class Student(object):\n",
    "    pass"
   ]
  },
  {
   "cell_type": "code",
   "execution_count": 3,
   "metadata": {
    "ExecuteTime": {
     "end_time": "2019-11-10T15:55:36.089706Z",
     "start_time": "2019-11-10T15:55:36.073749Z"
    }
   },
   "outputs": [
    {
     "data": {
      "text/plain": [
       "<__main__.Student at 0x246dab5e438>"
      ]
     },
     "execution_count": 3,
     "metadata": {},
     "output_type": "execute_result"
    },
    {
     "data": {
      "text/plain": [
       "__main__.Student"
      ]
     },
     "execution_count": 3,
     "metadata": {},
     "output_type": "execute_result"
    }
   ],
   "source": [
    "bart = Student()\n",
    "\n",
    "bart\n",
    "Student"
   ]
  },
  {
   "cell_type": "markdown",
   "metadata": {},
   "source": [
    "可以看到，变量 `bart` 指向的就是一个 `Student` 的实例，后面的 `0x10a67a590` 是内存地址\n",
    "\n",
    "可以自由地给一个实例变量绑定属性，比如，给实例 `bart` 绑定一个 `name` 属性："
   ]
  },
  {
   "cell_type": "code",
   "execution_count": 4,
   "metadata": {
    "ExecuteTime": {
     "end_time": "2019-11-10T16:42:16.728213Z",
     "start_time": "2019-11-10T16:42:16.722255Z"
    }
   },
   "outputs": [
    {
     "data": {
      "text/plain": [
       "'Bart Simpson'"
      ]
     },
     "execution_count": 4,
     "metadata": {},
     "output_type": "execute_result"
    }
   ],
   "source": [
    "bart.name = 'Bart Simpson'\n",
    "bart.name"
   ]
  },
  {
   "cell_type": "markdown",
   "metadata": {},
   "source": [
    "由于类可以起到模板的作用，因此，可以在创建实例的时候，把一些我们认为必须绑定的属性强制填写进去。\n",
    "\n",
    "通过定义一个特殊的 `__init__` 方法，在创建实例的时候，就把 `name` ， `score` 等属性绑上去："
   ]
  },
  {
   "cell_type": "code",
   "execution_count": 5,
   "metadata": {
    "ExecuteTime": {
     "end_time": "2019-11-10T16:43:54.142749Z",
     "start_time": "2019-11-10T16:43:54.137755Z"
    }
   },
   "outputs": [
    {
     "data": {
      "text/plain": [
       "'Bart Simpson'"
      ]
     },
     "execution_count": 5,
     "metadata": {},
     "output_type": "execute_result"
    }
   ],
   "source": [
    "class Student(object):\n",
    "\n",
    "    def __init__(self, name, score):\n",
    "        self.name = name\n",
    "        self.score = score\n",
    "        \n",
    "bart = Student('Bart Simpson', 59)\n",
    "bart.name"
   ]
  },
  {
   "cell_type": "markdown",
   "metadata": {},
   "source": [
    "# 数据封装"
   ]
  },
  {
   "cell_type": "markdown",
   "metadata": {},
   "source": [
    "面向对象编程的一个重要特点就是数据封装。\n",
    "\n",
    "在上面的 `Student` 类中，每个实例就拥有各自的 `name` 和 `score` 这些数据。\n",
    "\n",
    "我们可以通过函数来访问这些数据，比如打印一个学生的成绩："
   ]
  },
  {
   "cell_type": "code",
   "execution_count": 6,
   "metadata": {
    "ExecuteTime": {
     "end_time": "2019-11-10T16:44:55.504402Z",
     "start_time": "2019-11-10T16:44:55.500412Z"
    }
   },
   "outputs": [
    {
     "name": "stdout",
     "output_type": "stream",
     "text": [
      "Bart Simpson: 59\n"
     ]
    }
   ],
   "source": [
    "def print_score(std):\n",
    "    print('%s: %s' % (std.name, std.score))\n",
    "    \n",
    "print_score(bart)"
   ]
  },
  {
   "cell_type": "markdown",
   "metadata": {},
   "source": [
    "但是，既然 `Student` 实例本身就拥有这些数据，要访问这些数据，就没有必要从外面的函数去访问，可以直接在 `Student` 类的内部定义访问数据的函数，这样，就把“数据”给封装起来了。这些封装数据的函数是和 `Student` 类本身是关联起来的，我们称之为类的方法："
   ]
  },
  {
   "cell_type": "code",
   "execution_count": 7,
   "metadata": {
    "ExecuteTime": {
     "end_time": "2019-11-10T16:46:16.804303Z",
     "start_time": "2019-11-10T16:46:16.798319Z"
    }
   },
   "outputs": [
    {
     "name": "stdout",
     "output_type": "stream",
     "text": [
      "Bart Simpson: 59\n"
     ]
    }
   ],
   "source": [
    "class Student(object):\n",
    "\n",
    "    def __init__(self, name, score):\n",
    "        self.name = name\n",
    "        self.score = score\n",
    "\n",
    "    def print_score(self):\n",
    "        print('%s: %s' % (self.name, self.score))\n",
    "        \n",
    "        \n",
    "bart = Student('Bart Simpson', 59)\n",
    "bart.print_score()"
   ]
  },
  {
   "cell_type": "markdown",
   "metadata": {},
   "source": [
    "封装的另一个好处是可以给 `Student` 类增加新的方法，比如 `get_grade` ："
   ]
  },
  {
   "cell_type": "code",
   "execution_count": null,
   "metadata": {},
   "outputs": [],
   "source": [
    "class Student(object):\n",
    "    def __init__(self, name, score):\n",
    "        self.name = name\n",
    "        self.score = score\n",
    "\n",
    "    def get_grade(self):\n",
    "        if self.score >= 90:\n",
    "            return 'A'\n",
    "        elif self.score >= 60:\n",
    "            return 'B'\n",
    "        else:\n",
    "            return 'C'\n"
   ]
  },
  {
   "cell_type": "markdown",
   "metadata": {},
   "source": [
    "# 访问限制"
   ]
  },
  {
   "cell_type": "markdown",
   "metadata": {},
   "source": [
    "如果要让内部属性不被外部访问，可以把属性的名称前加上两个下划线 `__` ，在 `Python` 中，实例的变量名如果以 `__` 开头，就变成了一个私有变量 `（private）` ，只有内部可以访问，外部不能访问，所以，我们把 `Student` 类改一改："
   ]
  },
  {
   "cell_type": "code",
   "execution_count": 10,
   "metadata": {
    "ExecuteTime": {
     "end_time": "2019-11-10T16:54:21.764691Z",
     "start_time": "2019-11-10T16:54:21.759704Z"
    }
   },
   "outputs": [],
   "source": [
    "class Student(object):\n",
    "\n",
    "    def __init__(self, name, score):\n",
    "        self.__name = name\n",
    "        self.__score = score\n",
    "\n",
    "    def print_score(self):\n",
    "        print('%s: %s' % (self.__name, self.__score))"
   ]
  },
  {
   "cell_type": "code",
   "execution_count": 11,
   "metadata": {
    "ExecuteTime": {
     "end_time": "2019-11-10T16:54:23.761583Z",
     "start_time": "2019-11-10T16:54:23.752604Z"
    }
   },
   "outputs": [
    {
     "ename": "AttributeError",
     "evalue": "'Student' object has no attribute '__name'",
     "output_type": "error",
     "traceback": [
      "\u001b[1;31m---------------------------------------------------------------------------\u001b[0m",
      "\u001b[1;31mAttributeError\u001b[0m                            Traceback (most recent call last)",
      "\u001b[1;32m<ipython-input-11-5ee3f4ef867a>\u001b[0m in \u001b[0;36m<module>\u001b[1;34m()\u001b[0m\n\u001b[0;32m      1\u001b[0m \u001b[0mbart\u001b[0m \u001b[1;33m=\u001b[0m \u001b[0mStudent\u001b[0m\u001b[1;33m(\u001b[0m\u001b[1;34m'Bart Simpson'\u001b[0m\u001b[1;33m,\u001b[0m \u001b[1;36m59\u001b[0m\u001b[1;33m)\u001b[0m\u001b[1;33m\u001b[0m\u001b[0m\n\u001b[1;32m----> 2\u001b[1;33m \u001b[0mbart\u001b[0m\u001b[1;33m.\u001b[0m\u001b[0m__name\u001b[0m\u001b[1;33m\u001b[0m\u001b[0m\n\u001b[0m",
      "\u001b[1;31mAttributeError\u001b[0m: 'Student' object has no attribute '__name'"
     ]
    }
   ],
   "source": [
    "bart = Student('Bart Simpson', 59)\n",
    "bart.__name"
   ]
  },
  {
   "cell_type": "markdown",
   "metadata": {},
   "source": [
    "但是如果外部代码要获取 `name` 和 `score` 怎么办？\n",
    "\n",
    "可以给 `Student` 类增加 `get_name和get_score` 这样的方法：\n",
    "\n",
    "```py\n",
    "class Student(object):\n",
    "    ...\n",
    "\n",
    "    def get_name(self):\n",
    "        return self.__name\n",
    "\n",
    "    def get_score(self):\n",
    "        return self.__score\n",
    "```"
   ]
  },
  {
   "cell_type": "markdown",
   "metadata": {},
   "source": [
    "如果又要允许外部代码修改 `score` 怎么办？\n",
    "\n",
    "可以再给 `Student` 类增加 `set_score` 方法：\n",
    "\n",
    "```py\n",
    "class Student(object):\n",
    "    ...\n",
    "\n",
    "    def set_score(self, score):\n",
    "        self.__score = score\n",
    "```"
   ]
  },
  {
   "cell_type": "markdown",
   "metadata": {},
   "source": [
    "原先那种直接通过 `bart.score = 99` 也可以修改啊，为什么要定义一个方法大费周折？\n",
    "\n",
    "因为在方法中，可以对参数做检查，避免传入无效的参数：\n",
    "\n",
    "```py\n",
    "class Student(object):\n",
    "    ...\n",
    "\n",
    "    def set_score(self, score):\n",
    "        if 0 <= score <= 100:\n",
    "            self.__score = score\n",
    "        else:\n",
    "            raise ValueError('bad score')\n",
    "```"
   ]
  },
  {
   "cell_type": "markdown",
   "metadata": {},
   "source": [
    "需要注意的是，在 `Python` 中，变量名类似 `__xxx__` 的，也就是以双下划线开头，并且以双下划线结尾的，是特殊变量，特殊变量是可以直接访问的，不是 `private` 变量，所以，不能用 `__name__` 、 `__score__` 这样的变量名。\n",
    "\n",
    "有些时候，你会看到以一个下划线开头的实例变量名，比如 `_name` ，这样的实例变量外部是可以访问的，但是，按照约定俗成的规定，当你看到这样的变量时，意思就是，“虽然我可以被访问，但是，请把我 **视为私有变量，不要随意访问** ”。\n",
    "\n",
    "双下划线开头的实例变量是不是一定不能从外部访问呢？其实也不是。\n",
    "\n",
    "不能直接访问 `__name` 是因为 `Python` 解释器对外把 `__name` 变量改成了`_Student__name` ，所以，仍然可以通过 `_Student__name` 来访问 `__name` 变量：\n"
   ]
  },
  {
   "cell_type": "code",
   "execution_count": 12,
   "metadata": {
    "ExecuteTime": {
     "end_time": "2019-11-10T16:54:27.024572Z",
     "start_time": "2019-11-10T16:54:27.020583Z"
    }
   },
   "outputs": [
    {
     "data": {
      "text/plain": [
       "'Bart Simpson'"
      ]
     },
     "execution_count": 12,
     "metadata": {},
     "output_type": "execute_result"
    }
   ],
   "source": [
    "bart._Student__name"
   ]
  },
  {
   "cell_type": "markdown",
   "metadata": {},
   "source": [
    "但是强烈建议你不要这么干，因为不同版本的 `Python` 解释器可能会把 `__name` 改成不同的变量名。\n",
    "\n",
    "总的来说就是， `Python` 本身没有任何机制阻止你干坏事，一切全靠自觉。\n",
    "\n",
    "最后注意下面的这种错误写法："
   ]
  },
  {
   "cell_type": "code",
   "execution_count": 13,
   "metadata": {
    "ExecuteTime": {
     "end_time": "2019-11-10T16:55:36.331960Z",
     "start_time": "2019-11-10T16:55:36.326973Z"
    }
   },
   "outputs": [
    {
     "data": {
      "text/plain": [
       "'New Name'"
      ]
     },
     "execution_count": 13,
     "metadata": {},
     "output_type": "execute_result"
    }
   ],
   "source": [
    "bart = Student('Bart Simpson', 59)\n",
    "\n",
    "bart.__name = 'New Name' # 设置__name变量！\n",
    "bart.__name"
   ]
  },
  {
   "cell_type": "markdown",
   "metadata": {},
   "source": [
    "表面上看，外部代码“成功”地设置了 `__name` 变量，但实际上这个 `__name` 变量和 `class` 内部的 `__name` 变量不是一个变量！内部的 `__name` 变量已经被 `Python` 解释器自动改成了 `_Student__name` ，而外部代码给 `bart` 新增了一个 `__name` 变量。不信试试："
   ]
  },
  {
   "cell_type": "code",
   "execution_count": 15,
   "metadata": {
    "ExecuteTime": {
     "end_time": "2019-11-10T16:57:02.632845Z",
     "start_time": "2019-11-10T16:57:02.628855Z"
    }
   },
   "outputs": [
    {
     "name": "stdout",
     "output_type": "stream",
     "text": [
      "Bart Simpson: 59\n"
     ]
    }
   ],
   "source": [
    "bart.print_score() "
   ]
  },
  {
   "cell_type": "markdown",
   "metadata": {},
   "source": [
    "## 练习"
   ]
  },
  {
   "cell_type": "markdown",
   "metadata": {},
   "source": [
    "请把下面的 `Student` 对象的 `gender` 字段对外隐藏起来，用 `get_gender()` 和 `set_gender()` 代替，并检查参数有效性："
   ]
  },
  {
   "cell_type": "code",
   "execution_count": 16,
   "metadata": {
    "ExecuteTime": {
     "end_time": "2019-11-10T16:59:23.316308Z",
     "start_time": "2019-11-10T16:59:23.311324Z"
    }
   },
   "outputs": [],
   "source": [
    "class Student(object):\n",
    "    def __init__(self, name, gender):\n",
    "        self.name = name\n",
    "        self.__gender = gender\n",
    "    def get_gender(self):\n",
    "        return self.__gender\n",
    "    def set_gender(self, gender):\n",
    "        self.__gender = gender"
   ]
  },
  {
   "cell_type": "code",
   "execution_count": 17,
   "metadata": {
    "ExecuteTime": {
     "end_time": "2019-11-10T16:59:28.361752Z",
     "start_time": "2019-11-10T16:59:28.357762Z"
    }
   },
   "outputs": [
    {
     "name": "stdout",
     "output_type": "stream",
     "text": [
      "测试成功!\n"
     ]
    }
   ],
   "source": [
    "# 测试:\n",
    "bart = Student('Bart', 'male')\n",
    "if bart.get_gender() != 'male':\n",
    "    print('测试失败!')\n",
    "else:\n",
    "    bart.set_gender('female')\n",
    "    if bart.get_gender() != 'female':\n",
    "        print('测试失败!')\n",
    "    else:\n",
    "        print('测试成功!')"
   ]
  },
  {
   "cell_type": "markdown",
   "metadata": {},
   "source": [
    "# 继承和多态"
   ]
  },
  {
   "cell_type": "markdown",
   "metadata": {},
   "source": [
    "在 `OOP` 程序设计中，当我们定义一个 `class` 的时候，可以从某个现有的 `class` 继承，新的 `class` 称为子类 `（Subclass）` ，而被继承的 `class` 称为基类、父类或超类 `（Base class、Super class）`\n",
    "\n",
    "比如，我们已经编写了一个名为 `Animal` 的 `class` ，有一个 `run()` 方法可以直接打印："
   ]
  },
  {
   "cell_type": "code",
   "execution_count": 1,
   "metadata": {
    "ExecuteTime": {
     "end_time": "2019-11-24T16:33:16.794869Z",
     "start_time": "2019-11-24T16:33:16.673296Z"
    }
   },
   "outputs": [],
   "source": [
    "class Animal(object):\n",
    "    def run(self):\n",
    "        print('Animal is running...')"
   ]
  },
  {
   "cell_type": "markdown",
   "metadata": {},
   "source": [
    "当我们需要编写 `Dog` 和 `Cat` 类时，就可以直接从 `Animal` 类继承："
   ]
  },
  {
   "cell_type": "code",
   "execution_count": 19,
   "metadata": {
    "ExecuteTime": {
     "end_time": "2019-11-10T17:03:52.409099Z",
     "start_time": "2019-11-10T17:03:52.405116Z"
    }
   },
   "outputs": [],
   "source": [
    "class Dog(Animal):\n",
    "    pass\n",
    "\n",
    "class Cat(Animal):\n",
    "    pass"
   ]
  },
  {
   "cell_type": "code",
   "execution_count": 20,
   "metadata": {
    "ExecuteTime": {
     "end_time": "2019-11-10T17:04:06.113400Z",
     "start_time": "2019-11-10T17:04:06.109410Z"
    }
   },
   "outputs": [
    {
     "name": "stdout",
     "output_type": "stream",
     "text": [
      "Animal is running...\n",
      "Animal is running...\n"
     ]
    }
   ],
   "source": [
    "dog = Dog()\n",
    "dog.run()\n",
    "\n",
    "cat = Cat()\n",
    "cat.run()"
   ]
  },
  {
   "cell_type": "markdown",
   "metadata": {},
   "source": [
    "当然，也可以对子类增加一些方法，比如 `Dog` 类："
   ]
  },
  {
   "cell_type": "code",
   "execution_count": 2,
   "metadata": {
    "ExecuteTime": {
     "end_time": "2019-11-24T16:33:17.854825Z",
     "start_time": "2019-11-24T16:33:17.848812Z"
    }
   },
   "outputs": [
    {
     "name": "stdout",
     "output_type": "stream",
     "text": [
      "Dog is running...\n"
     ]
    }
   ],
   "source": [
    "class Dog(Animal):\n",
    "\n",
    "    def run(self):\n",
    "        print('Dog is running...')\n",
    "\n",
    "    def eat(self):\n",
    "        print('Eating meat...')\n",
    "        \n",
    "dog = Dog()\n",
    "dog.run()"
   ]
  },
  {
   "cell_type": "markdown",
   "metadata": {
    "ExecuteTime": {
     "end_time": "2019-11-10T17:05:44.940795Z",
     "start_time": "2019-11-10T17:05:44.937803Z"
    }
   },
   "source": [
    "## overwrite 多態"
   ]
  },
  {
   "cell_type": "markdown",
   "metadata": {},
   "source": [
    "继承的第二个好处需要我们对代码做一点改进。\n",
    "\n",
    "你看到了，无论是 `Dog` 还是 `Cat` ，它们 `run()` 的时候，显示的都是 `Animal is running...` ，符合逻辑的做法是分别显示 `Dog is running...` 和 `Cat is running...` ，因此，对 `Dog` 和 `Cat` 类改进如下："
   ]
  },
  {
   "cell_type": "code",
   "execution_count": 6,
   "metadata": {
    "ExecuteTime": {
     "end_time": "2019-11-24T16:35:07.524111Z",
     "start_time": "2019-11-24T16:35:07.520147Z"
    }
   },
   "outputs": [],
   "source": [
    "class Dog(Animal):\n",
    "\n",
    "    def run(self):\n",
    "        print('Dog is running...')\n",
    "\n",
    "class Cat(Animal):\n",
    "\n",
    "    def run(self):\n",
    "        print('Cat is running...')"
   ]
  },
  {
   "cell_type": "markdown",
   "metadata": {},
   "source": [
    "当子类和父类都存在相同的 `run()` 方法时，我们说，子类的 `run()` 覆盖了父类的`run()` ，在代码运行的时候，总是会调用子类的 `run()` 。\n",
    "\n",
    "这样，我们就获得了继承的另一个好处：多态。"
   ]
  },
  {
   "cell_type": "markdown",
   "metadata": {},
   "source": [
    "## isinstance()"
   ]
  },
  {
   "cell_type": "markdown",
   "metadata": {},
   "source": [
    "判断一个变量是否是某个类型可以用 `isinstance()` 判断："
   ]
  },
  {
   "cell_type": "code",
   "execution_count": 24,
   "metadata": {
    "ExecuteTime": {
     "end_time": "2019-11-10T17:09:03.143227Z",
     "start_time": "2019-11-10T17:09:03.135248Z"
    }
   },
   "outputs": [
    {
     "data": {
      "text/plain": [
       "True"
      ]
     },
     "execution_count": 24,
     "metadata": {},
     "output_type": "execute_result"
    },
    {
     "data": {
      "text/plain": [
       "True"
      ]
     },
     "execution_count": 24,
     "metadata": {},
     "output_type": "execute_result"
    },
    {
     "data": {
      "text/plain": [
       "True"
      ]
     },
     "execution_count": 24,
     "metadata": {},
     "output_type": "execute_result"
    }
   ],
   "source": [
    "a = list() # a是list类型\n",
    "b = Animal() # b是Animal类型\n",
    "c = Dog() # c是Dog类型\n",
    "\n",
    "isinstance(a, list)\n",
    "isinstance(b, Animal)\n",
    "isinstance(c, Dog)"
   ]
  },
  {
   "cell_type": "markdown",
   "metadata": {},
   "source": [
    "在继承关系中，如果一个实例的数据类型是某个子类，那它的数据类型也可以被看做是父类。\n",
    "\n",
    "但是，反过来就不行："
   ]
  },
  {
   "cell_type": "code",
   "execution_count": 26,
   "metadata": {
    "ExecuteTime": {
     "end_time": "2019-11-10T17:10:06.833304Z",
     "start_time": "2019-11-10T17:10:06.827293Z"
    }
   },
   "outputs": [
    {
     "data": {
      "text/plain": [
       "True"
      ]
     },
     "execution_count": 26,
     "metadata": {},
     "output_type": "execute_result"
    },
    {
     "data": {
      "text/plain": [
       "False"
      ]
     },
     "execution_count": 26,
     "metadata": {},
     "output_type": "execute_result"
    }
   ],
   "source": [
    "isinstance(c, Animal) # c是Dog类型\n",
    "\n",
    "isinstance(b, Dog) # b是Animal类型"
   ]
  },
  {
   "cell_type": "markdown",
   "metadata": {},
   "source": [
    "## 多态的好处"
   ]
  },
  {
   "cell_type": "markdown",
   "metadata": {},
   "source": [
    "要理解多态的好处，我们还需要再编写一个函数，这个函数接受一个`Animal`类型的变量："
   ]
  },
  {
   "cell_type": "code",
   "execution_count": 3,
   "metadata": {
    "ExecuteTime": {
     "end_time": "2019-11-24T16:33:23.357136Z",
     "start_time": "2019-11-24T16:33:23.353147Z"
    }
   },
   "outputs": [],
   "source": [
    "def run_twice(animal):\n",
    "    animal.run()\n",
    "    animal.run()"
   ]
  },
  {
   "cell_type": "code",
   "execution_count": 7,
   "metadata": {
    "ExecuteTime": {
     "end_time": "2019-11-24T16:35:12.469140Z",
     "start_time": "2019-11-24T16:35:12.465139Z"
    }
   },
   "outputs": [
    {
     "name": "stdout",
     "output_type": "stream",
     "text": [
      "Animal is running...\n",
      "Animal is running...\n",
      "Dog is running...\n",
      "Dog is running...\n",
      "Cat is running...\n",
      "Cat is running...\n"
     ]
    }
   ],
   "source": [
    "\n",
    "# Animal()\n",
    "run_twice(Animal())\n",
    "# Dog()\n",
    "run_twice(Dog())\n",
    "# Cat()\n",
    "run_twice(Cat())"
   ]
  },
  {
   "cell_type": "markdown",
   "metadata": {},
   "source": [
    "多态的好处就是，当我们需要传入 `Dog` 、 `Cat` 时，我们只需要接收 `Animal` 类型就可以了，因为 `Dog` 、 `Cat` 都是 `Animal` 类型，然后，按照 `Animal` 类型进行操作即可。\n",
    "\n",
    "由于 `Animal` 类型有 `run()` 方法，因此，传入的任意类型，只要是 `Animal` 类或者子类，就会自动调用实际类型的 `run()` 方法，这就是多态的意思：\n",
    "\n",
    "对于一个变量，我们只需要知道它是 `Animal` 类型，无需确切地知道它的子类型，就可以放心地调用 `run()` 方法，而具体调用的 `run()` 方法是作用在 `Animal` 、 `Dog` 、 `Cat` 对象上，由运行时该对象的确切类型决定，这就是多态真正的威力：\n",
    "\n",
    "调用方只管调用，不管细节，而当我们新增一种 `Animal` 的子类时，只要确保 `run()` 方法编写正确，不用管原来的代码是如何调用的。这就是著名的**“开闭”原则**：\n",
    "\n",
    "对扩展开放：允许新增 `Animal` 子类；\n",
    "\n",
    "对修改封闭：不需要修改依赖 `Animal` 类型的 `run_twice()` 等函数。"
   ]
  },
  {
   "cell_type": "markdown",
   "metadata": {},
   "source": [
    "## 静态语言 vs 动态语言\n",
    "\n",
    "对于静态语言（例如 `Java` ）来说，如果需要传入 `Animal` 类型，则传入的对象必须是 `Animal` 类型或者它的子类，否则，将无法调用 `run()` 方法。\n",
    "\n",
    "对于 `Python` 这样的动态语言来说，则不一定需要传入 `Animal` 类型。\n",
    "\n",
    "我们只需要保证传入的对象有一个 `run()` 方法就可以了："
   ]
  },
  {
   "cell_type": "code",
   "execution_count": 8,
   "metadata": {
    "ExecuteTime": {
     "end_time": "2019-11-24T16:39:48.927151Z",
     "start_time": "2019-11-24T16:39:48.924140Z"
    }
   },
   "outputs": [
    {
     "name": "stdout",
     "output_type": "stream",
     "text": [
      "Start...\n",
      "Start...\n"
     ]
    }
   ],
   "source": [
    "class Timer(object):\n",
    "    def run(self):\n",
    "        print('Start...')\n",
    "        \n",
    "run_twice(Timer())"
   ]
  },
  {
   "cell_type": "markdown",
   "metadata": {},
   "source": [
    "这就是动态语言的**“鸭子类型”**，它并不要求严格的继承体系，一个对象只要“看起来像鸭子，走起路来像鸭子”，那它就可以被看做是鸭子。\n",
    "\n",
    "`Python` 的 `“file-like object“` 就是一种鸭子类型。\n",
    "\n",
    "对真正的文件对象，它有一个 `read()` 方法，返回其内容。\n",
    "\n",
    "但是，许多对象，只要有 `read()` 方法，都被视为 `“file-like object“` 。\n",
    "\n",
    "许多函数接收的参数就是 `“file-like object“` ，你不一定要传入真正的文件对象，完全可以传入任何实现了 `read()` 方法的对象。"
   ]
  },
  {
   "cell_type": "markdown",
   "metadata": {
    "ExecuteTime": {
     "end_time": "2019-11-24T16:41:30.398274Z",
     "start_time": "2019-11-24T16:41:30.394242Z"
    }
   },
   "source": [
    "# 获取对象信息"
   ]
  },
  {
   "cell_type": "markdown",
   "metadata": {},
   "source": [
    "## 使用type()"
   ]
  },
  {
   "cell_type": "code",
   "execution_count": 10,
   "metadata": {
    "ExecuteTime": {
     "end_time": "2019-11-25T16:24:35.461816Z",
     "start_time": "2019-11-25T16:24:35.231470Z"
    }
   },
   "outputs": [
    {
     "data": {
      "text/plain": [
       "int"
      ]
     },
     "execution_count": 10,
     "metadata": {},
     "output_type": "execute_result"
    },
    {
     "data": {
      "text/plain": [
       "builtin_function_or_method"
      ]
     },
     "execution_count": 10,
     "metadata": {},
     "output_type": "execute_result"
    }
   ],
   "source": [
    "type(123) # 基本类型\n",
    "type(abs) # 变量指向函数或者类"
   ]
  },
  {
   "cell_type": "code",
   "execution_count": 11,
   "metadata": {
    "ExecuteTime": {
     "end_time": "2019-11-25T16:25:30.498924Z",
     "start_time": "2019-11-25T16:25:30.492940Z"
    }
   },
   "outputs": [
    {
     "data": {
      "text/plain": [
       "True"
      ]
     },
     "execution_count": 11,
     "metadata": {},
     "output_type": "execute_result"
    },
    {
     "data": {
      "text/plain": [
       "True"
      ]
     },
     "execution_count": 11,
     "metadata": {},
     "output_type": "execute_result"
    }
   ],
   "source": [
    "# type()函数返回 Class类型\n",
    "\n",
    "type(123)==type(456)\n",
    "type(123)==int"
   ]
  },
  {
   "cell_type": "markdown",
   "metadata": {},
   "source": [
    "## types常量 types.FunctionType"
   ]
  },
  {
   "cell_type": "code",
   "execution_count": 13,
   "metadata": {
    "ExecuteTime": {
     "end_time": "2019-11-25T16:28:32.663262Z",
     "start_time": "2019-11-25T16:28:32.653278Z"
    }
   },
   "outputs": [
    {
     "data": {
      "text/plain": [
       "True"
      ]
     },
     "execution_count": 13,
     "metadata": {},
     "output_type": "execute_result"
    },
    {
     "data": {
      "text/plain": [
       "True"
      ]
     },
     "execution_count": 13,
     "metadata": {},
     "output_type": "execute_result"
    },
    {
     "data": {
      "text/plain": [
       "True"
      ]
     },
     "execution_count": 13,
     "metadata": {},
     "output_type": "execute_result"
    },
    {
     "data": {
      "text/plain": [
       "True"
      ]
     },
     "execution_count": 13,
     "metadata": {},
     "output_type": "execute_result"
    }
   ],
   "source": [
    "import types\n",
    "\n",
    "def fn():\n",
    "    pass\n",
    "    \n",
    "type(fn)==types.FunctionType\n",
    "type(abs)==types.BuiltinFunctionType\n",
    "type(lambda x: x)==types.LambdaType\n",
    "type((x for x in range(10)))==types.GeneratorType"
   ]
  },
  {
   "cell_type": "markdown",
   "metadata": {},
   "source": [
    "## 使用isinstance()"
   ]
  },
  {
   "cell_type": "markdown",
   "metadata": {},
   "source": [
    "对于 `class` 的继承关系来说，使用 `type()` 就很不方便。\n",
    "\n",
    "我们要判断 `class` 的类型，可以使用 `isinstance()` 函数。\n",
    "\n",
    "我们回顾上次的例子，如果继承关系是：\n",
    "\n",
    "    object -> Animal -> Dog -> Husky\n",
    "    \n",
    "那么， `isinstance()` 就可以告诉我们，一个对象是否是某种类型。先创建3种类型的对象："
   ]
  },
  {
   "cell_type": "code",
   "execution_count": 14,
   "metadata": {
    "ExecuteTime": {
     "end_time": "2019-11-25T16:31:21.257434Z",
     "start_time": "2019-11-25T16:31:21.253416Z"
    }
   },
   "outputs": [],
   "source": [
    "class Animal(object):\n",
    "    def run(self):\n",
    "        print('Animal is running...')"
   ]
  },
  {
   "cell_type": "code",
   "execution_count": 17,
   "metadata": {
    "ExecuteTime": {
     "end_time": "2019-11-25T16:31:34.618127Z",
     "start_time": "2019-11-25T16:31:34.614139Z"
    }
   },
   "outputs": [],
   "source": [
    "class Dog(Animal):\n",
    "\n",
    "    def run(self):\n",
    "        print('Dog is running...')\n",
    "\n",
    "class Cat(Animal):\n",
    "\n",
    "    def run(self):\n",
    "        print('Cat is running...')"
   ]
  },
  {
   "cell_type": "code",
   "execution_count": 21,
   "metadata": {
    "ExecuteTime": {
     "end_time": "2019-11-25T16:32:38.153396Z",
     "start_time": "2019-11-25T16:32:38.146415Z"
    }
   },
   "outputs": [
    {
     "data": {
      "text/plain": [
       "True"
      ]
     },
     "execution_count": 21,
     "metadata": {},
     "output_type": "execute_result"
    },
    {
     "data": {
      "text/plain": [
       "True"
      ]
     },
     "execution_count": 21,
     "metadata": {},
     "output_type": "execute_result"
    }
   ],
   "source": [
    "a = Animal()\n",
    "d = Dog()\n",
    "isinstance(d, Dog)\n",
    "isinstance(d, Animal)"
   ]
  },
  {
   "cell_type": "markdown",
   "metadata": {},
   "source": [
    "`isinstance()` 判断的是一个对象是否是该类型本身，或者位于该类型的父继承链上。\n",
    "\n",
    "能用 `type()` 判断的基本类型也可以用 `isinstance()` 判断："
   ]
  },
  {
   "cell_type": "code",
   "execution_count": 23,
   "metadata": {
    "ExecuteTime": {
     "end_time": "2019-11-25T16:34:41.380455Z",
     "start_time": "2019-11-25T16:34:41.373461Z"
    }
   },
   "outputs": [
    {
     "data": {
      "text/plain": [
       "True"
      ]
     },
     "execution_count": 23,
     "metadata": {},
     "output_type": "execute_result"
    },
    {
     "data": {
      "text/plain": [
       "True"
      ]
     },
     "execution_count": 23,
     "metadata": {},
     "output_type": "execute_result"
    },
    {
     "data": {
      "text/plain": [
       "True"
      ]
     },
     "execution_count": 23,
     "metadata": {},
     "output_type": "execute_result"
    }
   ],
   "source": [
    "isinstance('a', str)\n",
    "isinstance(123, int)\n",
    "isinstance(b'a', bytes)"
   ]
  },
  {
   "cell_type": "markdown",
   "metadata": {},
   "source": [
    "**优先使用isinstance()判断类型，可以将指定类型及其子类“一网打尽”**"
   ]
  },
  {
   "cell_type": "markdown",
   "metadata": {},
   "source": [
    "## 使用dir()"
   ]
  },
  {
   "cell_type": "markdown",
   "metadata": {},
   "source": [
    "如果要获得一个对象的所有属性和方法，可以使用 `dir()` 函数，它返回一个包含字符串的 `list` ，比如，获得一个 `str` 对象的所有属性和方法："
   ]
  },
  {
   "cell_type": "code",
   "execution_count": 24,
   "metadata": {
    "ExecuteTime": {
     "end_time": "2019-11-25T16:35:21.274139Z",
     "start_time": "2019-11-25T16:35:21.268157Z"
    }
   },
   "outputs": [
    {
     "data": {
      "text/plain": [
       "['__add__',\n",
       " '__class__',\n",
       " '__contains__',\n",
       " '__delattr__',\n",
       " '__dir__',\n",
       " '__doc__',\n",
       " '__eq__',\n",
       " '__format__',\n",
       " '__ge__',\n",
       " '__getattribute__',\n",
       " '__getitem__',\n",
       " '__getnewargs__',\n",
       " '__gt__',\n",
       " '__hash__',\n",
       " '__init__',\n",
       " '__init_subclass__',\n",
       " '__iter__',\n",
       " '__le__',\n",
       " '__len__',\n",
       " '__lt__',\n",
       " '__mod__',\n",
       " '__mul__',\n",
       " '__ne__',\n",
       " '__new__',\n",
       " '__reduce__',\n",
       " '__reduce_ex__',\n",
       " '__repr__',\n",
       " '__rmod__',\n",
       " '__rmul__',\n",
       " '__setattr__',\n",
       " '__sizeof__',\n",
       " '__str__',\n",
       " '__subclasshook__',\n",
       " 'capitalize',\n",
       " 'casefold',\n",
       " 'center',\n",
       " 'count',\n",
       " 'encode',\n",
       " 'endswith',\n",
       " 'expandtabs',\n",
       " 'find',\n",
       " 'format',\n",
       " 'format_map',\n",
       " 'index',\n",
       " 'isalnum',\n",
       " 'isalpha',\n",
       " 'isdecimal',\n",
       " 'isdigit',\n",
       " 'isidentifier',\n",
       " 'islower',\n",
       " 'isnumeric',\n",
       " 'isprintable',\n",
       " 'isspace',\n",
       " 'istitle',\n",
       " 'isupper',\n",
       " 'join',\n",
       " 'ljust',\n",
       " 'lower',\n",
       " 'lstrip',\n",
       " 'maketrans',\n",
       " 'partition',\n",
       " 'replace',\n",
       " 'rfind',\n",
       " 'rindex',\n",
       " 'rjust',\n",
       " 'rpartition',\n",
       " 'rsplit',\n",
       " 'rstrip',\n",
       " 'split',\n",
       " 'splitlines',\n",
       " 'startswith',\n",
       " 'strip',\n",
       " 'swapcase',\n",
       " 'title',\n",
       " 'translate',\n",
       " 'upper',\n",
       " 'zfill']"
      ]
     },
     "execution_count": 24,
     "metadata": {},
     "output_type": "execute_result"
    }
   ],
   "source": [
    "dir('ABC')"
   ]
  },
  {
   "cell_type": "markdown",
   "metadata": {},
   "source": [
    "类似 `__xxx__` 的属性和方法在 `Python` 中都是有特殊用途的，比如 `__len__` 方法返回长度。\n",
    "\n",
    "在 `Python` 中，如果你调用 `len()` 函数试图获取一个对象的长度，实际上，在 `len()` 函数内部，它自动去调用该对象的 `__len__()` 方法"
   ]
  },
  {
   "cell_type": "code",
   "execution_count": 25,
   "metadata": {
    "ExecuteTime": {
     "end_time": "2019-11-25T16:38:31.013749Z",
     "start_time": "2019-11-25T16:38:31.006739Z"
    }
   },
   "outputs": [
    {
     "data": {
      "text/plain": [
       "3"
      ]
     },
     "execution_count": 25,
     "metadata": {},
     "output_type": "execute_result"
    },
    {
     "data": {
      "text/plain": [
       "3"
      ]
     },
     "execution_count": 25,
     "metadata": {},
     "output_type": "execute_result"
    }
   ],
   "source": [
    "len('ABC')\n",
    "'ABC'.__len__()"
   ]
  },
  {
   "cell_type": "markdown",
   "metadata": {},
   "source": [
    "我们自己写的类，如果也想用  `len(myObj)` 的话，就自己写一个 `__len__()` 方法："
   ]
  },
  {
   "cell_type": "code",
   "execution_count": 26,
   "metadata": {
    "ExecuteTime": {
     "end_time": "2019-11-25T16:39:24.926345Z",
     "start_time": "2019-11-25T16:39:24.921359Z"
    }
   },
   "outputs": [
    {
     "data": {
      "text/plain": [
       "100"
      ]
     },
     "execution_count": 26,
     "metadata": {},
     "output_type": "execute_result"
    }
   ],
   "source": [
    "class MyDog(object):\n",
    "    def __len__(self):\n",
    "        return 100\n",
    "    \n",
    "dog = MyDog()\n",
    "len(dog)"
   ]
  },
  {
   "cell_type": "markdown",
   "metadata": {},
   "source": [
    "## getattr()、setattr()以及hasattr()\n",
    "\n",
    "仅仅把属性和方法列出来是不够的，配合 `getattr()` 、 `setattr()` 以及`hasattr()` ，我们可以直接操作一个对象的状态："
   ]
  },
  {
   "cell_type": "code",
   "execution_count": 28,
   "metadata": {
    "ExecuteTime": {
     "end_time": "2019-11-25T16:42:15.023859Z",
     "start_time": "2019-11-25T16:42:15.019870Z"
    }
   },
   "outputs": [],
   "source": [
    "class MyObject(object):\n",
    "    def __init__(self):\n",
    "        self.x = 9\n",
    "    def power(self):\n",
    "        return self.x * self.x\n",
    "    \n",
    "obj = MyObject()"
   ]
  },
  {
   "cell_type": "code",
   "execution_count": 32,
   "metadata": {
    "ExecuteTime": {
     "end_time": "2019-11-25T16:43:10.374867Z",
     "start_time": "2019-11-25T16:43:10.363897Z"
    }
   },
   "outputs": [
    {
     "data": {
      "text/plain": [
       "True"
      ]
     },
     "execution_count": 32,
     "metadata": {},
     "output_type": "execute_result"
    },
    {
     "data": {
      "text/plain": [
       "True"
      ]
     },
     "execution_count": 32,
     "metadata": {},
     "output_type": "execute_result"
    },
    {
     "data": {
      "text/plain": [
       "19"
      ]
     },
     "execution_count": 32,
     "metadata": {},
     "output_type": "execute_result"
    },
    {
     "data": {
      "text/plain": [
       "404"
      ]
     },
     "execution_count": 32,
     "metadata": {},
     "output_type": "execute_result"
    }
   ],
   "source": [
    "hasattr(obj, 'x') # 有属性'x'吗？\n",
    "\n",
    "hasattr(obj, 'y') # 有属性'y'吗？\n",
    "setattr(obj, 'y', 19) # 设置一个属性'y'\n",
    "getattr(obj, 'y') # 获取属性'y'\n",
    "\n",
    "getattr(obj, 'z', 404) # 获取属性'z'，如果不存在，返回默认值404"
   ]
  },
  {
   "cell_type": "code",
   "execution_count": 33,
   "metadata": {
    "ExecuteTime": {
     "end_time": "2019-11-25T16:43:45.258814Z",
     "start_time": "2019-11-25T16:43:45.251832Z"
    }
   },
   "outputs": [
    {
     "data": {
      "text/plain": [
       "True"
      ]
     },
     "execution_count": 33,
     "metadata": {},
     "output_type": "execute_result"
    },
    {
     "data": {
      "text/plain": [
       "81"
      ]
     },
     "execution_count": 33,
     "metadata": {},
     "output_type": "execute_result"
    }
   ],
   "source": [
    "hasattr(obj, 'power') # 有属性'power'吗？\n",
    "fn = getattr(obj, 'power') # 获取属性'power'并赋值到变量fn\n",
    "fn()"
   ]
  },
  {
   "cell_type": "markdown",
   "metadata": {
    "ExecuteTime": {
     "end_time": "2019-11-25T16:44:18.552375Z",
     "start_time": "2019-11-25T16:44:18.547417Z"
    }
   },
   "source": [
    "只有在不知道对象信息的时候，我们才会去获取对象信息\n",
    "\n",
    "一个正确的用法的例子如下：\n",
    "\n",
    "```py\n",
    "def readImage(fp):\n",
    "    if hasattr(fp, 'read'):\n",
    "        return readData(fp)\n",
    "    return None\n",
    "```"
   ]
  },
  {
   "cell_type": "markdown",
   "metadata": {},
   "source": [
    "## 实例属性和类属性"
   ]
  },
  {
   "cell_type": "markdown",
   "metadata": {},
   "source": [
    "给实例绑定属性的方法是通过**实例变量**，或者通过 `self` 变量："
   ]
  },
  {
   "cell_type": "code",
   "execution_count": 35,
   "metadata": {
    "ExecuteTime": {
     "end_time": "2019-11-26T17:05:13.789988Z",
     "start_time": "2019-11-26T17:05:13.785002Z"
    }
   },
   "outputs": [],
   "source": [
    "class Student(object):\n",
    "    def __init__(self, name):\n",
    "        # self 变量\n",
    "        self.name = name  \n",
    "\n",
    "s = Student('Bob')\n",
    "s.score = 90 # 实例变量"
   ]
  },
  {
   "cell_type": "markdown",
   "metadata": {},
   "source": [
    "### 类属性"
   ]
  },
  {
   "cell_type": "markdown",
   "metadata": {},
   "source": [
    "当我们定义了一个类属性后，这个属性虽然归类所有，但类的所有实例都可以访问到。来测试一下："
   ]
  },
  {
   "cell_type": "code",
   "execution_count": 37,
   "metadata": {
    "ExecuteTime": {
     "end_time": "2019-11-26T17:11:13.317626Z",
     "start_time": "2019-11-26T17:11:13.311643Z"
    }
   },
   "outputs": [
    {
     "name": "stdout",
     "output_type": "stream",
     "text": [
      "Student\n",
      "Student\n",
      "Michael\n",
      "Student\n",
      "Student\n"
     ]
    }
   ],
   "source": [
    "class Student(object):\n",
    "    name = 'Student'\n",
    "    \n",
    "s = Student() # 创建实例s\n",
    "print(s.name) # 打印name属性，因为实例并没有name属性，所以会继续查找class的name属性\n",
    "\n",
    "print(Student.name) # 打印类的name属性\n",
    "s.name = 'Michael' # 给实例绑定name属性\n",
    "\n",
    "print(s.name) # 由于实例属性优先级比类属性高，因此，它会屏蔽掉类的name属性\n",
    "\n",
    "print(Student.name) # 但是类属性并未消失，用Student.name仍然可以访问\n",
    "\n",
    "del s.name # 如果删除实例的name属性\n",
    "\n",
    "print(s.name) # 再次调用s.name，由于实例的name属性没有找到，类的name属性就显示出来了"
   ]
  },
  {
   "cell_type": "markdown",
   "metadata": {},
   "source": [
    "从上面的例子可以看出，在编写程序的时候，千万不要对实例属性和类属性使用相同的名字，因为相同名称的实例属性将屏蔽掉类属性，但是当你删除实例属性后，再使用相同的名称，访问到的将是类属性。"
   ]
  },
  {
   "cell_type": "markdown",
   "metadata": {},
   "source": [
    "### 练习\n",
    "\n",
    "为了统计学生人数，可以给 `Student` 类增加一个类属性，每创建一个实例，该属性自动增加："
   ]
  },
  {
   "cell_type": "code",
   "execution_count": null,
   "metadata": {
    "ExecuteTime": {
     "start_time": "2020-01-19T18:04:11.039Z"
    }
   },
   "outputs": [],
   "source": [
    "class Student(object):\n",
    "    count = 0\n",
    "\n",
    "    def __init__(self, name):\n",
    "        self.name = name\n",
    "        Student.count += 1\n",
    "        \n",
    "# 测试:\n",
    "if Student.count != 0:\n",
    "    print('测试失败!')\n",
    "else:\n",
    "    bart = Student('Bart')\n",
    "    if Student.count != 1:\n",
    "        print('测试失败!')\n",
    "    else:\n",
    "        lisa = Student('Bart')\n",
    "        if Student.count != 2:\n",
    "            print('测试失败!')\n",
    "        else:\n",
    "            print('Students:', Student.count)\n",
    "            print('测试通过!')"
   ]
  },
  {
   "cell_type": "code",
   "execution_count": null,
   "metadata": {},
   "outputs": [],
   "source": []
  },
  {
   "cell_type": "code",
   "execution_count": null,
   "metadata": {},
   "outputs": [],
   "source": []
  },
  {
   "cell_type": "code",
   "execution_count": null,
   "metadata": {},
   "outputs": [],
   "source": []
  },
  {
   "cell_type": "code",
   "execution_count": null,
   "metadata": {},
   "outputs": [],
   "source": []
  },
  {
   "cell_type": "code",
   "execution_count": null,
   "metadata": {},
   "outputs": [],
   "source": []
  },
  {
   "cell_type": "code",
   "execution_count": null,
   "metadata": {},
   "outputs": [],
   "source": []
  },
  {
   "cell_type": "code",
   "execution_count": null,
   "metadata": {},
   "outputs": [],
   "source": []
  },
  {
   "cell_type": "code",
   "execution_count": null,
   "metadata": {},
   "outputs": [],
   "source": []
  }
 ],
 "metadata": {
  "hide_input": false,
  "kernelspec": {
   "display_name": "Python [default]",
   "language": "python",
   "name": "python3"
  },
  "language_info": {
   "codemirror_mode": {
    "name": "ipython",
    "version": 3
   },
   "file_extension": ".py",
   "mimetype": "text/x-python",
   "name": "python",
   "nbconvert_exporter": "python",
   "pygments_lexer": "ipython3",
   "version": "3.6.5"
  },
  "toc": {
   "base_numbering": 1,
   "nav_menu": {},
   "number_sections": true,
   "sideBar": true,
   "skip_h1_title": false,
   "title_cell": "Table of Contents",
   "title_sidebar": "Contents",
   "toc_cell": false,
   "toc_position": {
    "height": "calc(100% - 180px)",
    "left": "10px",
    "top": "150px",
    "width": "192px"
   },
   "toc_section_display": true,
   "toc_window_display": true
  },
  "varInspector": {
   "cols": {
    "lenName": 16,
    "lenType": 16,
    "lenVar": 40
   },
   "kernels_config": {
    "python": {
     "delete_cmd_postfix": "",
     "delete_cmd_prefix": "del ",
     "library": "var_list.py",
     "varRefreshCmd": "print(var_dic_list())"
    },
    "r": {
     "delete_cmd_postfix": ") ",
     "delete_cmd_prefix": "rm(",
     "library": "var_list.r",
     "varRefreshCmd": "cat(var_dic_list()) "
    }
   },
   "types_to_exclude": [
    "module",
    "function",
    "builtin_function_or_method",
    "instance",
    "_Feature"
   ],
   "window_display": false
  }
 },
 "nbformat": 4,
 "nbformat_minor": 2
}
