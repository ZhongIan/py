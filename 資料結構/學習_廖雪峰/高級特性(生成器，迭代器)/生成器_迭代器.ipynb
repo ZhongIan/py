{
 "cells": [
  {
   "cell_type": "code",
   "execution_count": null,
   "metadata": {},
   "outputs": [],
   "source": []
  },
  {
   "cell_type": "code",
   "execution_count": null,
   "metadata": {},
   "outputs": [],
   "source": []
  },
  {
   "cell_type": "markdown",
   "metadata": {},
   "source": [
    "# 生成器"
   ]
  },
  {
   "cell_type": "code",
   "execution_count": 16,
   "metadata": {
    "ExecuteTime": {
     "end_time": "2019-10-30T17:20:31.128689Z",
     "start_time": "2019-10-30T17:20:30.966672Z"
    }
   },
   "outputs": [
    {
     "data": {
      "text/plain": [
       "<generator object <genexpr> at 0x000002683DC33570>"
      ]
     },
     "execution_count": 16,
     "metadata": {},
     "output_type": "execute_result"
    }
   ],
   "source": [
    "g = (x * x for x in range(10))\n",
    "g"
   ]
  },
  {
   "cell_type": "code",
   "execution_count": 17,
   "metadata": {
    "ExecuteTime": {
     "end_time": "2019-10-30T17:20:32.080851Z",
     "start_time": "2019-10-30T17:20:32.074985Z"
    }
   },
   "outputs": [
    {
     "data": {
      "text/plain": [
       "0"
      ]
     },
     "execution_count": 17,
     "metadata": {},
     "output_type": "execute_result"
    }
   ],
   "source": [
    "next(g)"
   ]
  },
  {
   "cell_type": "code",
   "execution_count": 18,
   "metadata": {
    "ExecuteTime": {
     "end_time": "2019-10-30T17:20:35.673080Z",
     "start_time": "2019-10-30T17:20:35.668200Z"
    }
   },
   "outputs": [
    {
     "data": {
      "text/plain": [
       "1"
      ]
     },
     "execution_count": 18,
     "metadata": {},
     "output_type": "execute_result"
    }
   ],
   "source": [
    "next(g)"
   ]
  },
  {
   "cell_type": "markdown",
   "metadata": {},
   "source": [
    "`generator` 保存的是算法，每次调用 `next(g)` ，就计算出g的下一个元素的值，直到计算到最后一个元素，没有更多的元素时，抛出 `StopIteration` 的错误。"
   ]
  },
  {
   "cell_type": "markdown",
   "metadata": {},
   "source": [
    " `fib` 函数实际上是定义了斐波拉契数列的推算规则，可以从第一个元素开始，推算出后续任意的元素，这种逻辑其实非常类似 `generator` 。\n",
    "\n",
    "也就是说，上面的函数和 `generator` 仅一步之遥。\n",
    "\n",
    "要把 `fib` 函数变成 `generator` ，只需要把 `print(b)` 改为 `yield b` 就可以了："
   ]
  },
  {
   "cell_type": "code",
   "execution_count": 21,
   "metadata": {
    "ExecuteTime": {
     "end_time": "2019-10-30T17:22:55.916361Z",
     "start_time": "2019-10-30T17:22:55.909530Z"
    }
   },
   "outputs": [
    {
     "name": "stdout",
     "output_type": "stream",
     "text": [
      "1\n",
      "1\n",
      "2\n",
      "3\n",
      "5\n",
      "8\n"
     ]
    },
    {
     "data": {
      "text/plain": [
       "'done'"
      ]
     },
     "execution_count": 21,
     "metadata": {},
     "output_type": "execute_result"
    }
   ],
   "source": [
    "def fib(max):\n",
    "    n, a, b = 0, 0, 1\n",
    "    while n < max:\n",
    "        print(b)\n",
    "        a, b = b, a + b\n",
    "        n = n + 1\n",
    "    return 'done'\n",
    "\n",
    "fib(6)"
   ]
  },
  {
   "cell_type": "markdown",
   "metadata": {},
   "source": [
    "## yield"
   ]
  },
  {
   "cell_type": "code",
   "execution_count": 22,
   "metadata": {
    "ExecuteTime": {
     "end_time": "2019-10-30T17:24:09.994147Z",
     "start_time": "2019-10-30T17:24:09.990243Z"
    }
   },
   "outputs": [],
   "source": [
    "def fib(max):\n",
    "    n, a, b = 0, 0, 1\n",
    "    while n < max:\n",
    "        yield b\n",
    "        a, b = b, a + b\n",
    "        n = n + 1\n",
    "    return 'done'"
   ]
  },
  {
   "cell_type": "code",
   "execution_count": 23,
   "metadata": {
    "ExecuteTime": {
     "end_time": "2019-10-30T17:24:20.672123Z",
     "start_time": "2019-10-30T17:24:20.667243Z"
    }
   },
   "outputs": [
    {
     "data": {
      "text/plain": [
       "<generator object fib at 0x000002683DB71830>"
      ]
     },
     "execution_count": 23,
     "metadata": {},
     "output_type": "execute_result"
    }
   ],
   "source": [
    "f = fib(6)\n",
    "f"
   ]
  },
  {
   "cell_type": "markdown",
   "metadata": {},
   "source": [
    "但是用 `for` 循环调用 `generator` 时，发现拿不到 `generator` 的 `return` 语句的返回值。\n",
    "\n",
    "如果想要拿到返回值，必须捕获 `StopIteration` 错误，返回值包含在 `StopIteration` 的 `value` 中："
   ]
  },
  {
   "cell_type": "code",
   "execution_count": 24,
   "metadata": {
    "ExecuteTime": {
     "end_time": "2019-10-30T17:25:02.186593Z",
     "start_time": "2019-10-30T17:25:02.182690Z"
    }
   },
   "outputs": [
    {
     "name": "stdout",
     "output_type": "stream",
     "text": [
      "1\n",
      "1\n",
      "2\n",
      "3\n",
      "5\n",
      "8\n"
     ]
    }
   ],
   "source": [
    "for i in f:\n",
    "    print(i)"
   ]
  },
  {
   "cell_type": "code",
   "execution_count": 31,
   "metadata": {
    "ExecuteTime": {
     "end_time": "2019-10-30T17:29:22.899398Z",
     "start_time": "2019-10-30T17:29:22.893554Z"
    }
   },
   "outputs": [
    {
     "name": "stdout",
     "output_type": "stream",
     "text": [
      "g: 1\n",
      "g: 1\n",
      "g: 2\n",
      "g: 3\n",
      "g: 5\n",
      "g: 8\n",
      "Generator return value: done\n"
     ]
    }
   ],
   "source": [
    "g = fib(6)\n",
    "while True:\n",
    "    try:\n",
    "        x = next(g)\n",
    "        print('g:', x)\n",
    "    except StopIteration as e:\n",
    "        print('Generator return value:', e.value)\n",
    "        break"
   ]
  },
  {
   "cell_type": "markdown",
   "metadata": {},
   "source": [
    "这里，最难理解的就是 `generator` 和函数的执行流程不一样。\n",
    "\n",
    "函数是顺序执行，遇到 `return` 语句或者最后一行函数语句就返回。\n",
    "\n",
    "而变成 `generator` 的函数，在每次调用 `next()` 的时候执行，遇到 `yield` 语句返回，再次执行时从上次返回的 `yield` 语句处继续执行。\n",
    "\n",
    "举个简单的例子，定义一个 `generator` ，依次返回数字 `1，3，5` ："
   ]
  },
  {
   "cell_type": "code",
   "execution_count": 25,
   "metadata": {
    "ExecuteTime": {
     "end_time": "2019-10-30T17:26:41.501467Z",
     "start_time": "2019-10-30T17:26:41.497563Z"
    }
   },
   "outputs": [],
   "source": [
    "def odd():\n",
    "    print('step 1')\n",
    "    yield 1\n",
    "    print('step 2')\n",
    "    yield(3)\n",
    "    print('step 3')\n",
    "    yield(5)"
   ]
  },
  {
   "cell_type": "code",
   "execution_count": 27,
   "metadata": {
    "ExecuteTime": {
     "end_time": "2019-10-30T17:26:54.002614Z",
     "start_time": "2019-10-30T17:26:53.998710Z"
    }
   },
   "outputs": [],
   "source": [
    "o = odd()"
   ]
  },
  {
   "cell_type": "code",
   "execution_count": 28,
   "metadata": {
    "ExecuteTime": {
     "end_time": "2019-10-30T17:26:56.000189Z",
     "start_time": "2019-10-30T17:26:55.993358Z"
    }
   },
   "outputs": [
    {
     "name": "stdout",
     "output_type": "stream",
     "text": [
      "step 1\n"
     ]
    },
    {
     "data": {
      "text/plain": [
       "1"
      ]
     },
     "execution_count": 28,
     "metadata": {},
     "output_type": "execute_result"
    }
   ],
   "source": [
    "next(o)"
   ]
  },
  {
   "cell_type": "code",
   "execution_count": 29,
   "metadata": {
    "ExecuteTime": {
     "end_time": "2019-10-30T17:27:03.340176Z",
     "start_time": "2019-10-30T17:27:03.335297Z"
    }
   },
   "outputs": [
    {
     "name": "stdout",
     "output_type": "stream",
     "text": [
      "step 2\n"
     ]
    },
    {
     "data": {
      "text/plain": [
       "3"
      ]
     },
     "execution_count": 29,
     "metadata": {},
     "output_type": "execute_result"
    }
   ],
   "source": [
    "next(o)"
   ]
  },
  {
   "cell_type": "code",
   "execution_count": 30,
   "metadata": {
    "ExecuteTime": {
     "end_time": "2019-10-30T17:27:08.509606Z",
     "start_time": "2019-10-30T17:27:08.504726Z"
    }
   },
   "outputs": [
    {
     "name": "stdout",
     "output_type": "stream",
     "text": [
      "step 3\n"
     ]
    },
    {
     "data": {
      "text/plain": [
       "5"
      ]
     },
     "execution_count": 30,
     "metadata": {},
     "output_type": "execute_result"
    }
   ],
   "source": [
    "next(o)"
   ]
  },
  {
   "cell_type": "markdown",
   "metadata": {
    "ExecuteTime": {
     "end_time": "2019-10-31T16:58:16.502585Z",
     "start_time": "2019-10-31T16:58:16.416360Z"
    }
   },
   "source": [
    "杨辉三角定义如下：\n",
    "\n",
    "              1\n",
    "             / \\\n",
    "            1   1\n",
    "           / \\ / \\\n",
    "          1   2   1\n",
    "         / \\ / \\ / \\\n",
    "        1   3   3   1\n",
    "       / \\ / \\ / \\ / \\\n",
    "      1   4   6   4   1\n",
    "     / \\ / \\ / \\ / \\ / \\\n",
    "    1   5   10  10  5   1\n",
    "    \n",
    "把每一行看做一个 `list` ，试写一个 `generator` "
   ]
  },
  {
   "cell_type": "code",
   "execution_count": null,
   "metadata": {},
   "outputs": [],
   "source": [
    "def triangles(maxN):\n",
    "    n=0\n",
    "    tmp = [1]\n",
    "    while n < maxN:\n",
    "        n += 1\n",
    "        for i in tmp:\n",
    "            "
   ]
  },
  {
   "cell_type": "markdown",
   "metadata": {},
   "source": [
    "# 迭代器"
   ]
  },
  {
   "cell_type": "markdown",
   "metadata": {},
   "source": [
    "## 可迭代对象： `Iterable` \n",
    "\n",
    "可以直接作用于 `for` 循环的数据类型有以下几种：\n",
    "\n",
    "一类是集合数据类型，如 `list` 、 `tuple` 、 `dict` 、 `set` 、 `str` 等；\n",
    "\n",
    "一类是 `generator` ，包括生成器和带 `yield` 的 `generator function` 。\n",
    "\n",
    "这些可以直接作用于 `for` 循环的对象统称为可迭代对象： `Iterable` 。\n",
    "\n",
    "可以使用 `isinstance()` 判断一个对象是否是 `Iterable` 对象："
   ]
  },
  {
   "cell_type": "code",
   "execution_count": 34,
   "metadata": {
    "ExecuteTime": {
     "end_time": "2019-10-31T17:03:47.007143Z",
     "start_time": "2019-10-31T17:03:46.995174Z"
    }
   },
   "outputs": [
    {
     "data": {
      "text/plain": [
       "True"
      ]
     },
     "execution_count": 34,
     "metadata": {},
     "output_type": "execute_result"
    },
    {
     "data": {
      "text/plain": [
       "True"
      ]
     },
     "execution_count": 34,
     "metadata": {},
     "output_type": "execute_result"
    },
    {
     "data": {
      "text/plain": [
       "True"
      ]
     },
     "execution_count": 34,
     "metadata": {},
     "output_type": "execute_result"
    },
    {
     "data": {
      "text/plain": [
       "True"
      ]
     },
     "execution_count": 34,
     "metadata": {},
     "output_type": "execute_result"
    },
    {
     "data": {
      "text/plain": [
       "False"
      ]
     },
     "execution_count": 34,
     "metadata": {},
     "output_type": "execute_result"
    }
   ],
   "source": [
    "from collections import Iterable\n",
    "\n",
    "isinstance([], Iterable)\n",
    "\n",
    "isinstance({}, Iterable)\n",
    "\n",
    "isinstance('abc', Iterable)\n",
    "\n",
    "isinstance((x for x in range(10)), Iterable)\n",
    "\n",
    "isinstance(100, Iterable) # False\n"
   ]
  },
  {
   "cell_type": "markdown",
   "metadata": {},
   "source": [
    "## 迭代器： `Iterator`\n",
    "\n",
    "而生成器不但可以作用于 `for` 循环，还可以被 `next()` 函数不断调用并返回下一个值，直到最后抛出 `StopIteration` 错误表示无法继续返回下一个值了。\n",
    "\n",
    "可以被 `next()` 函数调用并不断返回下一个值的对象称为迭代器： `Iterator` 。\n",
    "\n",
    "可以使用 `isinstance()` 判断一个对象是否是 `Iterator` 对象："
   ]
  },
  {
   "cell_type": "code",
   "execution_count": 36,
   "metadata": {
    "ExecuteTime": {
     "end_time": "2019-11-01T18:09:54.776020Z",
     "start_time": "2019-11-01T18:09:54.719327Z"
    }
   },
   "outputs": [
    {
     "data": {
      "text/plain": [
       "True"
      ]
     },
     "execution_count": 36,
     "metadata": {},
     "output_type": "execute_result"
    },
    {
     "data": {
      "text/plain": [
       "False"
      ]
     },
     "execution_count": 36,
     "metadata": {},
     "output_type": "execute_result"
    }
   ],
   "source": [
    "from collections import Iterator\n",
    "isinstance((x for x in range(10)), Iterator)\n",
    "isinstance([], Iterator)"
   ]
  },
  {
   "cell_type": "markdown",
   "metadata": {},
   "source": [
    "## `iter()` 函数\n",
    "\n",
    "生成器都是 `Iterator` 对象，但 `list` 、 `dict` 、 `str` 虽然是 `Iterable` ，却不是Iterator。\n",
    "\n",
    "把 `list` 、 `dict` 、 `str` 等 `Iterable` 变成 `Iterator` 可以使用 `iter()` 函数："
   ]
  },
  {
   "cell_type": "code",
   "execution_count": 37,
   "metadata": {
    "ExecuteTime": {
     "end_time": "2019-11-01T18:11:02.626701Z",
     "start_time": "2019-11-01T18:11:02.621715Z"
    }
   },
   "outputs": [
    {
     "data": {
      "text/plain": [
       "True"
      ]
     },
     "execution_count": 37,
     "metadata": {},
     "output_type": "execute_result"
    }
   ],
   "source": [
    "isinstance(iter([]), Iterator)"
   ]
  },
  {
   "cell_type": "markdown",
   "metadata": {},
   "source": [
    " `Python` 的 `for` 循环本质上就是通过不断调用 `next()` 函数实现的"
   ]
  },
  {
   "cell_type": "code",
   "execution_count": 40,
   "metadata": {
    "ExecuteTime": {
     "end_time": "2019-11-01T18:13:46.275805Z",
     "start_time": "2019-11-01T18:13:46.241213Z"
    }
   },
   "outputs": [],
   "source": [
    "for x in [1, 2, 3, 4, 5]:\n",
    "    pass"
   ]
  },
  {
   "cell_type": "markdown",
   "metadata": {},
   "source": [
    "实际上完全等价于："
   ]
  },
  {
   "cell_type": "code",
   "execution_count": 41,
   "metadata": {
    "ExecuteTime": {
     "end_time": "2019-11-01T18:14:15.212697Z",
     "start_time": "2019-11-01T18:14:15.208709Z"
    }
   },
   "outputs": [],
   "source": [
    "# 首先获得Iterator对象:\n",
    "it = iter([1, 2, 3, 4, 5])\n",
    "# 循环:\n",
    "while True:\n",
    "    try:\n",
    "        # 获得下一个值:\n",
    "        x = next(it)\n",
    "    except StopIteration:\n",
    "        # 遇到StopIteration就退出循环\n",
    "        break"
   ]
  },
  {
   "cell_type": "code",
   "execution_count": null,
   "metadata": {},
   "outputs": [],
   "source": []
  }
 ],
 "metadata": {
  "hide_input": false,
  "kernelspec": {
   "display_name": "Python [default]",
   "language": "python",
   "name": "python3"
  },
  "language_info": {
   "codemirror_mode": {
    "name": "ipython",
    "version": 3
   },
   "file_extension": ".py",
   "mimetype": "text/x-python",
   "name": "python",
   "nbconvert_exporter": "python",
   "pygments_lexer": "ipython3",
   "version": "3.6.5"
  },
  "toc": {
   "base_numbering": 1,
   "nav_menu": {},
   "number_sections": true,
   "sideBar": true,
   "skip_h1_title": false,
   "title_cell": "Table of Contents",
   "title_sidebar": "Contents",
   "toc_cell": false,
   "toc_position": {},
   "toc_section_display": true,
   "toc_window_display": true
  },
  "varInspector": {
   "cols": {
    "lenName": 16,
    "lenType": 16,
    "lenVar": 40
   },
   "kernels_config": {
    "python": {
     "delete_cmd_postfix": "",
     "delete_cmd_prefix": "del ",
     "library": "var_list.py",
     "varRefreshCmd": "print(var_dic_list())"
    },
    "r": {
     "delete_cmd_postfix": ") ",
     "delete_cmd_prefix": "rm(",
     "library": "var_list.r",
     "varRefreshCmd": "cat(var_dic_list()) "
    }
   },
   "types_to_exclude": [
    "module",
    "function",
    "builtin_function_or_method",
    "instance",
    "_Feature"
   ],
   "window_display": false
  }
 },
 "nbformat": 4,
 "nbformat_minor": 2
}
