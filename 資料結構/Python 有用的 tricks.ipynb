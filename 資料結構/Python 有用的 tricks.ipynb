{
 "cells": [
  {
   "cell_type": "markdown",
   "metadata": {
    "toc": true
   },
   "source": [
    "<h1>Table of Contents<span class=\"tocSkip\"></span></h1>\n",
    "<div class=\"toc\"><ul class=\"toc-item\"><li><span><a href=\"#Python进阶之道——有用的tricks总结\" data-toc-modified-id=\"Python进阶之道——有用的tricks总结-1\"><span class=\"toc-item-num\">1&nbsp;&nbsp;</span>Python进阶之道——有用的tricks总结</a></span></li><li><span><a href=\"#函数\" data-toc-modified-id=\"函数-2\"><span class=\"toc-item-num\">2&nbsp;&nbsp;</span>函数</a></span><ul class=\"toc-item\"><li><span><a href=\"#匿名函数-and-[map、filter、sort]\" data-toc-modified-id=\"匿名函数-and-[map、filter、sort]-2.1\"><span class=\"toc-item-num\">2.1&nbsp;&nbsp;</span>匿名函数 and [map、filter、sort]</a></span><ul class=\"toc-item\"><li><span><a href=\"#reduce\" data-toc-modified-id=\"reduce-2.1.1\"><span class=\"toc-item-num\">2.1.1&nbsp;&nbsp;</span>reduce</a></span></li></ul></li></ul></li><li><span><a href=\"#星号和双星号\" data-toc-modified-id=\"星号和双星号-3\"><span class=\"toc-item-num\">3&nbsp;&nbsp;</span>星号和双星号</a></span><ul class=\"toc-item\"><li><span><a href=\"#数据容器的合并\" data-toc-modified-id=\"数据容器的合并-3.1\"><span class=\"toc-item-num\">3.1&nbsp;&nbsp;</span>数据容器的合并</a></span></li><li><span><a href=\"#函数参数的打包与解包\" data-toc-modified-id=\"函数参数的打包与解包-3.2\"><span class=\"toc-item-num\">3.2&nbsp;&nbsp;</span>函数参数的打包与解包</a></span></li></ul></li><li><span><a href=\"#生成器\" data-toc-modified-id=\"生成器-4\"><span class=\"toc-item-num\">4&nbsp;&nbsp;</span>生成器</a></span><ul class=\"toc-item\"><li><span><a href=\"#yield-from\" data-toc-modified-id=\"yield-from-4.1\"><span class=\"toc-item-num\">4.1&nbsp;&nbsp;</span>yield from</a></span></li><li><span><a href=\"#[待補充]\" data-toc-modified-id=\"[待補充]-4.2\"><span class=\"toc-item-num\">4.2&nbsp;&nbsp;</span>[待補充]</a></span></li><li><span><a href=\"#async/await\" data-toc-modified-id=\"async/await-4.3\"><span class=\"toc-item-num\">4.3&nbsp;&nbsp;</span>async/await</a></span></li></ul></li><li><span><a href=\"#数据容器\" data-toc-modified-id=\"数据容器-5\"><span class=\"toc-item-num\">5&nbsp;&nbsp;</span>数据容器</a></span><ul class=\"toc-item\"><li><span><a href=\"#列表\" data-toc-modified-id=\"列表-5.1\"><span class=\"toc-item-num\">5.1&nbsp;&nbsp;</span>列表</a></span><ul class=\"toc-item\"><li><span><a href=\"#[enumerate()]-同时迭代元素与其索引\" data-toc-modified-id=\"[enumerate()]-同时迭代元素与其索引-5.1.1\"><span class=\"toc-item-num\">5.1.1&nbsp;&nbsp;</span>[enumerate()] 同时迭代元素与其索引</a></span></li><li><span><a href=\"#[append-extend]-元素的追加与连接\" data-toc-modified-id=\"[append-extend]-元素的追加与连接-5.1.2\"><span class=\"toc-item-num\">5.1.2&nbsp;&nbsp;</span>[append extend] 元素的追加与连接</a></span></li></ul></li><li><span><a href=\"#[all-any]-测试是否整体/部分满足条件\" data-toc-modified-id=\"[all-any]-测试是否整体/部分满足条件-5.2\"><span class=\"toc-item-num\">5.2&nbsp;&nbsp;</span>[all any] 测试是否整体/部分满足条件</a></span></li><li><span><a href=\"#[zip]-同时迭代2个以上的可迭代对象\" data-toc-modified-id=\"[zip]-同时迭代2个以上的可迭代对象-5.3\"><span class=\"toc-item-num\">5.3&nbsp;&nbsp;</span>[zip] 同时迭代2个以上的可迭代对象</a></span></li><li><span><a href=\"#[set]-去重(利用集合的互异性)\" data-toc-modified-id=\"[set]-去重(利用集合的互异性)-5.4\"><span class=\"toc-item-num\">5.4&nbsp;&nbsp;</span>[set] 去重(利用集合的互异性)</a></span></li><li><span><a href=\"#字典\" data-toc-modified-id=\"字典-5.5\"><span class=\"toc-item-num\">5.5&nbsp;&nbsp;</span>字典</a></span><ul class=\"toc-item\"><li><span><a href=\"#遍历\" data-toc-modified-id=\"遍历-5.5.1\"><span class=\"toc-item-num\">5.5.1&nbsp;&nbsp;</span>遍历</a></span></li><li><span><a href=\"#排序\" data-toc-modified-id=\"排序-5.5.2\"><span class=\"toc-item-num\">5.5.2&nbsp;&nbsp;</span>排序</a></span></li><li><span><a href=\"#反转\" data-toc-modified-id=\"反转-5.5.3\"><span class=\"toc-item-num\">5.5.3&nbsp;&nbsp;</span>反转</a></span></li><li><span><a href=\"#[get-setdefault]缺失键处理\" data-toc-modified-id=\"[get-setdefault]缺失键处理-5.5.4\"><span class=\"toc-item-num\">5.5.4&nbsp;&nbsp;</span>[get setdefault]缺失键处理</a></span></li></ul></li></ul></li><li><span><a href=\"#语言专属特性\" data-toc-modified-id=\"语言专属特性-6\"><span class=\"toc-item-num\">6&nbsp;&nbsp;</span>语言专属特性</a></span><ul class=\"toc-item\"><li><span><a href=\"#repl中暂存结果\" data-toc-modified-id=\"repl中暂存结果-6.1\"><span class=\"toc-item-num\">6.1&nbsp;&nbsp;</span>repl中暂存结果</a></span></li><li><span><a href=\"#忽略某个变量\" data-toc-modified-id=\"忽略某个变量-6.2\"><span class=\"toc-item-num\">6.2&nbsp;&nbsp;</span>忽略某个变量</a></span></li><li><span><a href=\"#增强数字的可读性\" data-toc-modified-id=\"增强数字的可读性-6.3\"><span class=\"toc-item-num\">6.3&nbsp;&nbsp;</span>增强数字的可读性</a></span></li></ul></li><li><span><a href=\"#推导式\" data-toc-modified-id=\"推导式-7\"><span class=\"toc-item-num\">7&nbsp;&nbsp;</span>推导式</a></span><ul class=\"toc-item\"><li><span><a href=\"#列表推导式\" data-toc-modified-id=\"列表推导式-7.1\"><span class=\"toc-item-num\">7.1&nbsp;&nbsp;</span>列表推导式</a></span></li><li><span><a href=\"#字典推导式\" data-toc-modified-id=\"字典推导式-7.2\"><span class=\"toc-item-num\">7.2&nbsp;&nbsp;</span>字典推导式</a></span></li><li><span><a href=\"#集合推导式\" data-toc-modified-id=\"集合推导式-7.3\"><span class=\"toc-item-num\">7.3&nbsp;&nbsp;</span>集合推导式</a></span></li><li><span><a href=\"#生成器表达式\" data-toc-modified-id=\"生成器表达式-7.4\"><span class=\"toc-item-num\">7.4&nbsp;&nbsp;</span>生成器表达式</a></span></li></ul></li><li><span><a href=\"#装饰器\" data-toc-modified-id=\"装饰器-8\"><span class=\"toc-item-num\">8&nbsp;&nbsp;</span>装饰器</a></span></li><li><span><a href=\"#上下文管理器\" data-toc-modified-id=\"上下文管理器-9\"><span class=\"toc-item-num\">9&nbsp;&nbsp;</span>上下文管理器</a></span><ul class=\"toc-item\"><li><span><a href=\"#[待補充]\" data-toc-modified-id=\"[待補充]-9.1\"><span class=\"toc-item-num\">9.1&nbsp;&nbsp;</span>[待補充]</a></span></li></ul></li><li><span><a href=\"#静态类型注解\" data-toc-modified-id=\"静态类型注解-10\"><span class=\"toc-item-num\">10&nbsp;&nbsp;</span>静态类型注解</a></span></li><li><span><a href=\"#多重继承\" data-toc-modified-id=\"多重继承-11\"><span class=\"toc-item-num\">11&nbsp;&nbsp;</span>多重继承</a></span></li><li><span><a href=\"#特殊方法-__str__-__slots__\" data-toc-modified-id=\"特殊方法-__str__-__slots__-12\"><span class=\"toc-item-num\">12&nbsp;&nbsp;</span>特殊方法 <code>__str__</code> <code>__slots__</code></a></span></li><li><span><a href=\"#类方法和静态方法\" data-toc-modified-id=\"类方法和静态方法-13\"><span class=\"toc-item-num\">13&nbsp;&nbsp;</span>类方法和静态方法</a></span></li><li><span><a href=\"#描述符\" data-toc-modified-id=\"描述符-14\"><span class=\"toc-item-num\">14&nbsp;&nbsp;</span>描述符</a></span></li><li><span><a href=\"#元类\" data-toc-modified-id=\"元类-15\"><span class=\"toc-item-num\">15&nbsp;&nbsp;</span>元类</a></span></li></ul></div>"
   ]
  },
  {
   "cell_type": "markdown",
   "metadata": {},
   "source": [
    "# Python进阶之道——有用的tricks总结\n",
    "https://zhuanlan.zhihu.com/p/35219750"
   ]
  },
  {
   "cell_type": "markdown",
   "metadata": {},
   "source": [
    "# 函数\n",
    "\n",
    "## 匿名函数 and [map、filter、sort]\n",
    "\n",
    "```py\n",
    "# def foo(parameters):\n",
    "#     return expression\n",
    "\n",
    "foo = lambda parameters: expression\n",
    "```\n",
    "\n",
    "**注：在Python中，一般更倾向于用列表推导式来替代map和filter**"
   ]
  },
  {
   "cell_type": "code",
   "execution_count": 1,
   "metadata": {
    "ExecuteTime": {
     "end_time": "2019-08-04T14:17:21.129679Z",
     "start_time": "2019-08-04T14:17:20.933208Z"
    }
   },
   "outputs": [
    {
     "data": {
      "text/plain": [
       "[1, 4, 9, 16, 25]"
      ]
     },
     "execution_count": 1,
     "metadata": {},
     "output_type": "execute_result"
    },
    {
     "data": {
      "text/plain": [
       "[True, 'alphardex', 666]"
      ]
     },
     "execution_count": 1,
     "metadata": {},
     "output_type": "execute_result"
    }
   ],
   "source": [
    "# ========= map - 映射 ==========\n",
    "\n",
    "numbers = [1, 2, 3, 4, 5]\n",
    "list(map(lambda e: e ** 2, numbers))\n",
    "# [1, 4, 9, 16, 25]\n",
    "\n",
    "\n",
    "# ========= filter - 过滤  ========= \n",
    "\n",
    "values = [None, 0, '', True, 'alphardex', 666]\n",
    "list(filter(lambda e:e, values))\n",
    "# [True, \"alphardex\", 666]"
   ]
  },
  {
   "cell_type": "code",
   "execution_count": 2,
   "metadata": {
    "ExecuteTime": {
     "end_time": "2019-08-04T14:18:15.101084Z",
     "start_time": "2019-08-04T14:18:15.066921Z"
    }
   },
   "outputs": [
    {
     "data": {
      "text/plain": [
       "[(4, 'alice'), (2, 'asuna'), (3, 'eugeo'), (1, 'kirito')]"
      ]
     },
     "execution_count": 2,
     "metadata": {},
     "output_type": "execute_result"
    },
    {
     "data": {
      "text/plain": [
       "[(1, 'kirito'), (3, 'eugeo'), (2, 'asuna'), (4, 'alice')]"
      ]
     },
     "execution_count": 2,
     "metadata": {},
     "output_type": "execute_result"
    }
   ],
   "source": [
    "# ========= sort - 排序 =========\n",
    "\n",
    "tuples = [(1, 'kirito'), (2, 'asuna'), (4, 'alice'), (3, 'eugeo')]\n",
    "\n",
    "# key参数接受一个函数，并将其运用在序列里的每一个元素上\n",
    "sorted(tuples, key=lambda x: x[1]) \n",
    "# [(4, 'alice'), (2, 'asuna'), (3, 'eugeo'), (1, 'kirito')]\n",
    "# reverse=True是降序\n",
    "sorted(tuples, key=lambda x: x[1], reverse=True) \n",
    "# [(1, 'kirito'), (3, 'eugeo'), (2, 'asuna'), (4, 'alice')]\n",
    "\n"
   ]
  },
  {
   "cell_type": "markdown",
   "metadata": {
    "ExecuteTime": {
     "end_time": "2019-08-04T14:25:18.998428Z",
     "start_time": "2019-08-04T14:25:18.994525Z"
    }
   },
   "source": [
    "### reduce"
   ]
  },
  {
   "cell_type": "code",
   "execution_count": 3,
   "metadata": {
    "ExecuteTime": {
     "end_time": "2019-08-04T14:20:47.741993Z",
     "start_time": "2019-08-04T14:20:47.694168Z"
    }
   },
   "outputs": [
    {
     "data": {
      "text/plain": [
       "93326215443944152681699238856266700490715968264381621468592963895217599993229915608941463976156518286253697920827223758251185210916864000000000000000000000000"
      ]
     },
     "execution_count": 3,
     "metadata": {},
     "output_type": "execute_result"
    },
    {
     "data": {
      "text/plain": [
       "5050"
      ]
     },
     "execution_count": 3,
     "metadata": {},
     "output_type": "execute_result"
    }
   ],
   "source": [
    "# ========= reduce ==========\n",
    "# 先对集合中的第 1、2 个元素进行操作，\n",
    "# 得到的结果再与第三个数据用 function 函数运算，最后得到一个结果\n",
    "\n",
    "from functools import reduce\n",
    "# 求1到100的积\n",
    "reduce(lambda x, y: x * y, range(1, 101))\n",
    "# 求和就更简单了\n",
    "sum(range(101))\n",
    "# 5050"
   ]
  },
  {
   "cell_type": "markdown",
   "metadata": {},
   "source": [
    "# 星号和双星号\n",
    "\n",
    "## 数据容器的合并"
   ]
  },
  {
   "cell_type": "code",
   "execution_count": 5,
   "metadata": {
    "ExecuteTime": {
     "end_time": "2019-08-04T14:27:15.788759Z",
     "start_time": "2019-08-04T14:27:15.635527Z"
    }
   },
   "outputs": [
    {
     "data": {
      "text/plain": [
       "['kaguya', 'miyuki', 'chika', 'ishigami']"
      ]
     },
     "execution_count": 5,
     "metadata": {},
     "output_type": "execute_result"
    },
    {
     "data": {
      "text/plain": [
       "{'name': 'rimuru', 'kind': 'slime'}"
      ]
     },
     "execution_count": 5,
     "metadata": {},
     "output_type": "execute_result"
    }
   ],
   "source": [
    "l1 = ['kaguya', 'miyuki']\n",
    "l2 = ['chika', 'ishigami']\n",
    "\n",
    "[*l1, *l2]\n",
    "# ['kaguya', 'miyuki', 'chika', 'ishigami']\n",
    "\n",
    "d1 = {'name': 'rimuru'}\n",
    "d2 = {'kind': 'slime'}\n",
    "\n",
    "{**d1, **d2}\n",
    "# {'name': 'rimuru', 'kind': 'slime'}"
   ]
  },
  {
   "cell_type": "markdown",
   "metadata": {},
   "source": [
    "## 函数参数的打包与解包"
   ]
  },
  {
   "cell_type": "code",
   "execution_count": 6,
   "metadata": {
    "ExecuteTime": {
     "end_time": "2019-08-04T14:28:22.363115Z",
     "start_time": "2019-08-04T14:28:22.204963Z"
    }
   },
   "outputs": [
    {
     "name": "stdout",
     "output_type": "stream",
     "text": [
      "(1, 2)\n",
      "{'name': 'hayasaka', 'job': 'maid'}\n"
     ]
    },
    {
     "data": {
      "text/plain": [
       "3"
      ]
     },
     "execution_count": 6,
     "metadata": {},
     "output_type": "execute_result"
    },
    {
     "data": {
      "text/plain": [
       "1"
      ]
     },
     "execution_count": 6,
     "metadata": {},
     "output_type": "execute_result"
    }
   ],
   "source": [
    "# 打包--接受任意數量参数\n",
    "def foo(*args):\n",
    "    print(args)\n",
    "foo(1, 2)\n",
    "# (1, 2)\n",
    "\n",
    "def bar(**kwargs):\n",
    "    print(kwargs)\n",
    "bar(name='hayasaka', job='maid')\n",
    "# {'name': 'hayasaka', 'job': 'maid'}\n",
    "\n",
    "# 解包--將容器內的東西一一輸出\n",
    "t = (10, 3)\n",
    "quotient, remainder = divmod(*t)\n",
    "quotient\n",
    "# 商：3\n",
    "remainder\n",
    "# 余：1"
   ]
  },
  {
   "cell_type": "markdown",
   "metadata": {},
   "source": [
    "# 生成器\n",
    "\n",
    "只要函数中包含`yield`关键词，这函数就是一个生成器函数\n",
    "\n",
    "调用生成器函数时，会返回一个生成器对象\n",
    "\n",
    "正如`yield`本身的意思（产出），\n",
    "\n",
    "对生成器对象调用`next()`会使其不断产出值，直到无值才抛出`StopIteration`"
   ]
  },
  {
   "cell_type": "code",
   "execution_count": 7,
   "metadata": {
    "ExecuteTime": {
     "end_time": "2019-08-04T14:32:03.374589Z",
     "start_time": "2019-08-04T14:31:57.615662Z"
    }
   },
   "outputs": [
    {
     "data": {
      "text/plain": [
       "'hello'"
      ]
     },
     "execution_count": 7,
     "metadata": {},
     "output_type": "execute_result"
    },
    {
     "data": {
      "text/plain": [
       "'world'"
      ]
     },
     "execution_count": 7,
     "metadata": {},
     "output_type": "execute_result"
    },
    {
     "ename": "StopIteration",
     "evalue": "",
     "output_type": "error",
     "traceback": [
      "\u001b[1;31m---------------------------------------------------------------------------\u001b[0m",
      "\u001b[1;31mStopIteration\u001b[0m                             Traceback (most recent call last)",
      "\u001b[1;32m<ipython-input-7-c9924e27d5eb>\u001b[0m in \u001b[0;36m<module>\u001b[1;34m()\u001b[0m\n\u001b[0;32m      8\u001b[0m \u001b[0mnext\u001b[0m\u001b[1;33m(\u001b[0m\u001b[0mg\u001b[0m\u001b[1;33m)\u001b[0m\u001b[1;33m\u001b[0m\u001b[0m\n\u001b[0;32m      9\u001b[0m \u001b[1;31m# 'world'\u001b[0m\u001b[1;33m\u001b[0m\u001b[1;33m\u001b[0m\u001b[0m\n\u001b[1;32m---> 10\u001b[1;33m \u001b[0mnext\u001b[0m\u001b[1;33m(\u001b[0m\u001b[0mg\u001b[0m\u001b[1;33m)\u001b[0m\u001b[1;33m\u001b[0m\u001b[0m\n\u001b[0m",
      "\u001b[1;31mStopIteration\u001b[0m: "
     ]
    }
   ],
   "source": [
    "def gen_hello():\n",
    "    yield 'hello'\n",
    "    yield 'world'\n",
    "\n",
    "g = gen_hello()\n",
    "next(g)\n",
    "# 'hello'\n",
    "next(g)\n",
    "# 'world'\n",
    "next(g)"
   ]
  },
  {
   "cell_type": "markdown",
   "metadata": {},
   "source": [
    "\n",
    "原文：https://blog.csdn.net/u012730382/article/details/54135426 \n",
    "\n",
    "\n",
    "`yield`在`python`中初学时，觉得比较难理解。`yield`的作用： \n",
    "\n",
    "1. 返回一个值\n",
    "2. 接收调用者的参数"
   ]
  },
  {
   "cell_type": "code",
   "execution_count": 12,
   "metadata": {
    "ExecuteTime": {
     "end_time": "2019-08-04T14:54:28.667005Z",
     "start_time": "2019-08-04T14:54:28.589593Z"
    }
   },
   "outputs": [
    {
     "name": "stdout",
     "output_type": "stream",
     "text": [
      "[Producer] producing 1...\n",
      "[Consumer] n = 1\n",
      "[Consumer] consuming 1...\n",
      "[Producer] consumer return: 200 OK\n",
      "[Producer] producing 2...\n",
      "[Consumer] n = 2\n",
      "[Consumer] consuming 2...\n",
      "[Producer] consumer return: 200 OK\n",
      "[Producer] producing 3...\n",
      "[Consumer] n = 3\n",
      "[Consumer] consuming 3...\n",
      "[Producer] consumer return: 200 OK\n",
      "[Producer] producing 4...\n",
      "[Consumer] n = 4\n",
      "[Consumer] consuming 4...\n",
      "[Producer] consumer return: 200 OK\n",
      "[Producer] producing 5...\n",
      "[Consumer] n = 5\n",
      "[Consumer] consuming 5...\n",
      "[Producer] consumer return: 200 OK\n"
     ]
    }
   ],
   "source": [
    "def consumer():\n",
    "    r = ''\n",
    "    while True:\n",
    "        n = yield r\n",
    "        print(\"[Consumer] n = %d\" %n)\n",
    "        if not n:\n",
    "            return\n",
    "        print(\"[Consumer] consuming %s...\" %n)\n",
    "        r = '200 OK'\n",
    "\n",
    "def produce(c):\n",
    "    c.send(None)\n",
    "    h = 0\n",
    "    while h < 5:\n",
    "        h = h + 1\n",
    "        print(\"[Producer] producing %d...\" %h)\n",
    "        s = c.send(h)\n",
    "        print(\"[Producer] consumer return: %s\" %s)\n",
    "    c.close()\n",
    "\n",
    "c = consumer() #创建一个生成器\n",
    "produce(c) #在该函数中，调用生成器的send()方法"
   ]
  },
  {
   "cell_type": "markdown",
   "metadata": {},
   "source": [
    "在`produce(c)`函数中，调用了`c.send(None)`启动了生成器，\n",
    "\n",
    "遇到`yield`暂停；接着执行`produce()`中接下来的代码，\n",
    "\n",
    "从运行结果看，确实打印出了`[Produce] producing 1 … `\n",
    "\n",
    "当程序运行至`c.send(h)`时，调用生成器并且通过`yield`传递了参数`(h = 1)`进入`consumer() 中 n = yield r`函数执行\n",
    "\n",
    "打印出`[Consumer] n = 1`，`[Consumer] consuming 1…`\n",
    "\n",
    "在`consumer()`函数中此时 `r` 被赋值为`'200 OK'`,接着循环遇到`yield(n = yield r)`， `consumer()`函数又暂停并且返回变量 `r` 的值，此时程序又进入`produce(c) 中 s = c.send(h)`函数中接着执行"
   ]
  },
  {
   "cell_type": "markdown",
   "metadata": {
    "ExecuteTime": {
     "end_time": "2019-08-04T14:37:49.988943Z",
     "start_time": "2019-08-04T14:37:49.985039Z"
    }
   },
   "source": [
    "## yield from"
   ]
  },
  {
   "cell_type": "code",
   "execution_count": 15,
   "metadata": {
    "ExecuteTime": {
     "end_time": "2019-08-04T15:04:43.231635Z",
     "start_time": "2019-08-04T15:04:43.223346Z"
    }
   },
   "outputs": [
    {
     "data": {
      "text/plain": [
       "['A', 'B', 'C', 0, 1, 2]"
      ]
     },
     "execution_count": 15,
     "metadata": {},
     "output_type": "execute_result"
    },
    {
     "data": {
      "text/plain": [
       "['A', 'B', 'C', 0, 1, 2]"
      ]
     },
     "execution_count": 15,
     "metadata": {},
     "output_type": "execute_result"
    }
   ],
   "source": [
    "def chain(*iterables):\n",
    "    for it in iterables:\n",
    "        yield from it\n",
    "\n",
    "def chain_not_from(*iterables):\n",
    "    for it in iterables:\n",
    "        for i in it:\n",
    "            yield i\n",
    "        \n",
    "s = 'ABC'\n",
    "t = range(3)\n",
    "list(chain(s, t))\n",
    "# ['A', 'B', 'C', 0, 1, 2]\n",
    "\n",
    "list(chain_not_from(s, t))\n",
    "# ['ABC', range(0, 3)]\n"
   ]
  },
  {
   "cell_type": "markdown",
   "metadata": {},
   "source": [
    "## [待補充]\n",
    "\n",
    "https://blog.csdn.net/soonfly/article/details/78361819\n",
    "\n",
    "理解`Python`协程:\n",
    "    \n",
    "从`yield/send`到`yield from`再到`async/await`"
   ]
  },
  {
   "cell_type": "code",
   "execution_count": null,
   "metadata": {},
   "outputs": [],
   "source": []
  },
  {
   "cell_type": "code",
   "execution_count": null,
   "metadata": {},
   "outputs": [],
   "source": []
  },
  {
   "cell_type": "code",
   "execution_count": null,
   "metadata": {},
   "outputs": [],
   "source": []
  },
  {
   "cell_type": "markdown",
   "metadata": {},
   "source": [
    "## async/await\n",
    "\n",
    "使用 jupyter 會有報錯，但仍可執行\n"
   ]
  },
  {
   "cell_type": "code",
   "execution_count": 40,
   "metadata": {
    "ExecuteTime": {
     "end_time": "2019-08-10T09:20:22.799400Z",
     "start_time": "2019-08-10T09:20:18.891337Z"
    }
   },
   "outputs": [
    {
     "ename": "RuntimeError",
     "evalue": "This event loop is already running",
     "output_type": "error",
     "traceback": [
      "\u001b[1;31m---------------------------------------------------------------------------\u001b[0m",
      "\u001b[1;31mRuntimeError\u001b[0m                              Traceback (most recent call last)",
      "\u001b[1;32m<ipython-input-40-fa5c99551a82>\u001b[0m in \u001b[0;36m<module>\u001b[1;34m()\u001b[0m\n\u001b[0;32m     17\u001b[0m \u001b[0mt1\u001b[0m \u001b[1;33m=\u001b[0m \u001b[0mtime\u001b[0m\u001b[1;33m.\u001b[0m\u001b[0mtime\u001b[0m\u001b[1;33m(\u001b[0m\u001b[1;33m)\u001b[0m\u001b[1;33m\u001b[0m\u001b[0m\n\u001b[0;32m     18\u001b[0m \u001b[0mloop\u001b[0m \u001b[1;33m=\u001b[0m \u001b[0masyncio\u001b[0m\u001b[1;33m.\u001b[0m\u001b[0mget_event_loop\u001b[0m\u001b[1;33m(\u001b[0m\u001b[1;33m)\u001b[0m             \u001b[1;31m# 建立 loop\u001b[0m\u001b[1;33m\u001b[0m\u001b[0m\n\u001b[1;32m---> 19\u001b[1;33m \u001b[0mloop\u001b[0m\u001b[1;33m.\u001b[0m\u001b[0mrun_until_complete\u001b[0m\u001b[1;33m(\u001b[0m\u001b[0mmain\u001b[0m\u001b[1;33m(\u001b[0m\u001b[0mloop\u001b[0m\u001b[1;33m)\u001b[0m\u001b[1;33m)\u001b[0m         \u001b[1;31m# 执行 loop\u001b[0m\u001b[1;33m\u001b[0m\u001b[0m\n\u001b[0m\u001b[0;32m     20\u001b[0m \u001b[0mloop\u001b[0m\u001b[1;33m.\u001b[0m\u001b[0mclose\u001b[0m\u001b[1;33m(\u001b[0m\u001b[1;33m)\u001b[0m                                \u001b[1;31m# 关闭 loop\u001b[0m\u001b[1;33m\u001b[0m\u001b[0m\n\u001b[0;32m     21\u001b[0m \u001b[0mprint\u001b[0m\u001b[1;33m(\u001b[0m\u001b[1;34m\"Async total time : \"\u001b[0m\u001b[1;33m,\u001b[0m \u001b[0mtime\u001b[0m\u001b[1;33m.\u001b[0m\u001b[0mtime\u001b[0m\u001b[1;33m(\u001b[0m\u001b[1;33m)\u001b[0m \u001b[1;33m-\u001b[0m \u001b[0mt1\u001b[0m\u001b[1;33m)\u001b[0m\u001b[1;33m\u001b[0m\u001b[0m\n",
      "\u001b[1;32mD:\\anaconda\\lib\\asyncio\\base_events.py\u001b[0m in \u001b[0;36mrun_until_complete\u001b[1;34m(self, future)\u001b[0m\n\u001b[0;32m    453\u001b[0m         \u001b[0mfuture\u001b[0m\u001b[1;33m.\u001b[0m\u001b[0madd_done_callback\u001b[0m\u001b[1;33m(\u001b[0m\u001b[0m_run_until_complete_cb\u001b[0m\u001b[1;33m)\u001b[0m\u001b[1;33m\u001b[0m\u001b[0m\n\u001b[0;32m    454\u001b[0m         \u001b[1;32mtry\u001b[0m\u001b[1;33m:\u001b[0m\u001b[1;33m\u001b[0m\u001b[0m\n\u001b[1;32m--> 455\u001b[1;33m             \u001b[0mself\u001b[0m\u001b[1;33m.\u001b[0m\u001b[0mrun_forever\u001b[0m\u001b[1;33m(\u001b[0m\u001b[1;33m)\u001b[0m\u001b[1;33m\u001b[0m\u001b[0m\n\u001b[0m\u001b[0;32m    456\u001b[0m         \u001b[1;32mexcept\u001b[0m\u001b[1;33m:\u001b[0m\u001b[1;33m\u001b[0m\u001b[0m\n\u001b[0;32m    457\u001b[0m             \u001b[1;32mif\u001b[0m \u001b[0mnew_task\u001b[0m \u001b[1;32mand\u001b[0m \u001b[0mfuture\u001b[0m\u001b[1;33m.\u001b[0m\u001b[0mdone\u001b[0m\u001b[1;33m(\u001b[0m\u001b[1;33m)\u001b[0m \u001b[1;32mand\u001b[0m \u001b[1;32mnot\u001b[0m \u001b[0mfuture\u001b[0m\u001b[1;33m.\u001b[0m\u001b[0mcancelled\u001b[0m\u001b[1;33m(\u001b[0m\u001b[1;33m)\u001b[0m\u001b[1;33m:\u001b[0m\u001b[1;33m\u001b[0m\u001b[0m\n",
      "\u001b[1;32mD:\\anaconda\\lib\\asyncio\\base_events.py\u001b[0m in \u001b[0;36mrun_forever\u001b[1;34m(self)\u001b[0m\n\u001b[0;32m    407\u001b[0m         \u001b[0mself\u001b[0m\u001b[1;33m.\u001b[0m\u001b[0m_check_closed\u001b[0m\u001b[1;33m(\u001b[0m\u001b[1;33m)\u001b[0m\u001b[1;33m\u001b[0m\u001b[0m\n\u001b[0;32m    408\u001b[0m         \u001b[1;32mif\u001b[0m \u001b[0mself\u001b[0m\u001b[1;33m.\u001b[0m\u001b[0mis_running\u001b[0m\u001b[1;33m(\u001b[0m\u001b[1;33m)\u001b[0m\u001b[1;33m:\u001b[0m\u001b[1;33m\u001b[0m\u001b[0m\n\u001b[1;32m--> 409\u001b[1;33m             \u001b[1;32mraise\u001b[0m \u001b[0mRuntimeError\u001b[0m\u001b[1;33m(\u001b[0m\u001b[1;34m'This event loop is already running'\u001b[0m\u001b[1;33m)\u001b[0m\u001b[1;33m\u001b[0m\u001b[0m\n\u001b[0m\u001b[0;32m    410\u001b[0m         \u001b[1;32mif\u001b[0m \u001b[0mevents\u001b[0m\u001b[1;33m.\u001b[0m\u001b[0m_get_running_loop\u001b[0m\u001b[1;33m(\u001b[0m\u001b[1;33m)\u001b[0m \u001b[1;32mis\u001b[0m \u001b[1;32mnot\u001b[0m \u001b[1;32mNone\u001b[0m\u001b[1;33m:\u001b[0m\u001b[1;33m\u001b[0m\u001b[0m\n\u001b[0;32m    411\u001b[0m             raise RuntimeError(\n",
      "\u001b[1;31mRuntimeError\u001b[0m: This event loop is already running"
     ]
    },
    {
     "name": "stdout",
     "output_type": "stream",
     "text": [
      "Start job  1\n",
      "Start job  2\n",
      "Job  1  takes  1  s\n",
      "Job  2  takes  2  s\n"
     ]
    }
   ],
   "source": [
    "import asyncio\n",
    "import time\n",
    "\n",
    "\n",
    "async def job(t):                   # async 形式的功能\n",
    "    print('Start job ', t)\n",
    "    await asyncio.sleep(t)          # 等待 \"t\" 秒, 期间切换其他任务\n",
    "    print('Job ', t, ' takes ', t, ' s')\n",
    "\n",
    "\n",
    "async def main(loop):                       # async 形式的功能\n",
    "    tasks = [\n",
    "    loop.create_task(job(t)) for t in range(1, 3)\n",
    "    ]                                       # 创建任务, 但是不执行\n",
    "    await asyncio.wait(tasks)               # 执行并等待所有任务完成\n",
    "\n",
    "t1 = time.time()\n",
    "loop = asyncio.get_event_loop()             # 建立 loop\n",
    "loop.run_until_complete(main(loop))         # 执行 loop\n",
    "loop.close()                                # 关闭 loop\n",
    "print(\"Async total time : \", time.time() - t1)"
   ]
  },
  {
   "cell_type": "code",
   "execution_count": null,
   "metadata": {},
   "outputs": [],
   "source": []
  },
  {
   "cell_type": "code",
   "execution_count": null,
   "metadata": {},
   "outputs": [],
   "source": []
  },
  {
   "cell_type": "markdown",
   "metadata": {},
   "source": [
    "# 数据容器\n",
    "\n",
    "## 列表\n",
    "\n",
    "### [enumerate()] 同时迭代元素与其索引 "
   ]
  },
  {
   "cell_type": "code",
   "execution_count": 16,
   "metadata": {
    "ExecuteTime": {
     "end_time": "2019-08-04T15:08:45.889544Z",
     "start_time": "2019-08-04T15:08:45.775789Z"
    }
   },
   "outputs": [
    {
     "name": "stdout",
     "output_type": "stream",
     "text": [
      "['1. umaru', '2. ebina', '3. tachibana']\n"
     ]
    }
   ],
   "source": [
    "li = ['umaru', 'ebina', 'tachibana']\n",
    "print([f'{i+1}. {elem}' for i, elem in enumerate(li)])"
   ]
  },
  {
   "cell_type": "markdown",
   "metadata": {},
   "source": [
    "### [append extend] 元素的追加与连接"
   ]
  },
  {
   "cell_type": "code",
   "execution_count": 17,
   "metadata": {
    "ExecuteTime": {
     "end_time": "2019-08-04T15:09:58.537217Z",
     "start_time": "2019-08-04T15:09:58.530385Z"
    }
   },
   "outputs": [
    {
     "data": {
      "text/plain": [
       "[1, 2, 3, [4, 5]]"
      ]
     },
     "execution_count": 17,
     "metadata": {},
     "output_type": "execute_result"
    },
    {
     "data": {
      "text/plain": [
       "[1, 2, 3, [4, 5], 4, 5]"
      ]
     },
     "execution_count": 17,
     "metadata": {},
     "output_type": "execute_result"
    }
   ],
   "source": [
    "li = [1, 2, 3]\n",
    "li.append([4, 5])\n",
    "\n",
    "li\n",
    "# [1, 2, 3, [4, 5]]\n",
    "\n",
    "li.extend([4, 5])\n",
    "li\n",
    "# [1, 2, 3, [4, 5], 4, 5]"
   ]
  },
  {
   "cell_type": "markdown",
   "metadata": {},
   "source": [
    "## [all any] 测试是否整体/部分满足条件"
   ]
  },
  {
   "cell_type": "code",
   "execution_count": null,
   "metadata": {},
   "outputs": [],
   "source": [
    "\n",
    "# --- all测试所有元素是否都满足于某条件 ---\n",
    "all(e<20 for e in [1, 2, 3, 4, 5])\n",
    "# True\n",
    "\n",
    "# --- any则是测试部分元素是否满足于某条件 ---\n",
    "any(e%2==0 for e in [1, 3, 4, 5])\n",
    "# True"
   ]
  },
  {
   "cell_type": "markdown",
   "metadata": {},
   "source": [
    "## [zip] 同时迭代2个以上的可迭代对象"
   ]
  },
  {
   "cell_type": "code",
   "execution_count": 18,
   "metadata": {
    "ExecuteTime": {
     "end_time": "2019-08-04T15:12:15.197654Z",
     "start_time": "2019-08-04T15:12:15.089595Z"
    }
   },
   "outputs": [
    {
     "name": "stdout",
     "output_type": "stream",
     "text": [
      "['nino saikou', 'miku ore no yome', 'itsuki is sky']\n"
     ]
    }
   ],
   "source": [
    "subjects = ('nino', 'miku', 'itsuki')\n",
    "predicates = ('saikou', 'ore no yome', 'is sky')\n",
    "\n",
    "print([f'{s} {p}' for s, p in zip(subjects, predicates)])"
   ]
  },
  {
   "cell_type": "markdown",
   "metadata": {},
   "source": [
    "## [set] 去重(利用集合的互异性)"
   ]
  },
  {
   "cell_type": "code",
   "execution_count": 19,
   "metadata": {
    "ExecuteTime": {
     "end_time": "2019-08-04T15:12:58.614996Z",
     "start_time": "2019-08-04T15:12:58.470850Z"
    }
   },
   "outputs": [
    {
     "data": {
      "text/plain": [
       "[1, 2, 3, 4, 5, 6]"
      ]
     },
     "execution_count": 19,
     "metadata": {},
     "output_type": "execute_result"
    },
    {
     "data": {
      "text/plain": [
       "[3, 1, 2, 4, 5, 6]"
      ]
     },
     "execution_count": 19,
     "metadata": {},
     "output_type": "execute_result"
    }
   ],
   "source": [
    "li = [3, 1, 2, 1, 3, 4, 5, 6]\n",
    "list(set(li))\n",
    "# [1, 2, 3, 4, 5, 6]\n",
    "\n",
    "# 此法能保留原先顺序\n",
    "# list.index(3) -> 0 元素3的位置 \n",
    "sorted(set(li), key=li.index) \n",
    "# [3, 1, 2, 4, 5, 6]"
   ]
  },
  {
   "cell_type": "markdown",
   "metadata": {
    "ExecuteTime": {
     "end_time": "2019-08-04T15:14:00.064167Z",
     "start_time": "2019-08-04T15:14:00.059287Z"
    }
   },
   "source": [
    "## 字典\n",
    "\n",
    "### 遍历"
   ]
  },
  {
   "cell_type": "code",
   "execution_count": 25,
   "metadata": {
    "ExecuteTime": {
     "end_time": "2019-08-04T15:16:28.445737Z",
     "start_time": "2019-08-04T15:16:28.435976Z"
    }
   },
   "outputs": [
    {
     "data": {
      "text/plain": [
       "['name', 'hobby', 'tendency']"
      ]
     },
     "execution_count": 25,
     "metadata": {},
     "output_type": "execute_result"
    },
    {
     "data": {
      "text/plain": [
       "['sekiro', 'blacksmithing', 'death']"
      ]
     },
     "execution_count": 25,
     "metadata": {},
     "output_type": "execute_result"
    },
    {
     "data": {
      "text/plain": [
       "['name: sekiro', 'hobby: blacksmithing', 'tendency: death']"
      ]
     },
     "execution_count": 25,
     "metadata": {},
     "output_type": "execute_result"
    }
   ],
   "source": [
    "d = {'name': 'sekiro', 'hobby': 'blacksmithing', 'tendency': 'death'}\n",
    "\n",
    "[key for key in d.keys()]\n",
    "# ['name', 'hobby', 'tendency']\n",
    "\n",
    "[value for value in d.values()]\n",
    "# ['sekiro', 'blacksmithing', 'death']\n",
    "\n",
    "[f'{key}: {value}' for key, value in d.items()]\n",
    "# ['name: sekiro', 'hobby: blacksmithing', 'tendency: death']"
   ]
  },
  {
   "cell_type": "markdown",
   "metadata": {},
   "source": [
    "### 排序"
   ]
  },
  {
   "cell_type": "code",
   "execution_count": 27,
   "metadata": {
    "ExecuteTime": {
     "end_time": "2019-08-04T15:19:03.797363Z",
     "start_time": "2019-08-04T15:19:03.789556Z"
    }
   },
   "outputs": [
    {
     "data": {
      "text/plain": [
       "[{'rank': 1, 'author': 'alphardesu'}, {'rank': 2, 'author': 'alphardex'}]"
      ]
     },
     "execution_count": 27,
     "metadata": {},
     "output_type": "execute_result"
    },
    {
     "data": {
      "text/plain": [
       "[{'rank': 2, 'author': 'alphardex'}, {'rank': 1, 'author': 'alphardesu'}]"
      ]
     },
     "execution_count": 27,
     "metadata": {},
     "output_type": "execute_result"
    }
   ],
   "source": [
    "data = [{'rank': 2, 'author': 'alphardex'}, {'rank': 1, 'author': 'alphardesu'}]\n",
    "\n",
    "data_by_rank = sorted(data, key=lambda d: d['rank'])\n",
    "data_by_rank\n",
    "\n",
    "data_by_rank_desc = sorted(\n",
    "    data, \n",
    "   key=lambda x: x['rank'], reverse=True\n",
    ")\n",
    "\n",
    "data_by_rank_desc\n"
   ]
  },
  {
   "cell_type": "markdown",
   "metadata": {},
   "source": [
    "### 反转"
   ]
  },
  {
   "cell_type": "code",
   "execution_count": 28,
   "metadata": {
    "ExecuteTime": {
     "end_time": "2019-08-04T15:19:41.199930Z",
     "start_time": "2019-08-04T15:19:41.195064Z"
    }
   },
   "outputs": [
    {
     "data": {
      "text/plain": [
       "{'sakurajima mai': 'name', 'bunny girl': 'suit'}"
      ]
     },
     "execution_count": 28,
     "metadata": {},
     "output_type": "execute_result"
    }
   ],
   "source": [
    "d = {'name': 'sakurajima mai', 'suit': 'bunny girl'}\n",
    "{v: k for k, v in d.items()}"
   ]
  },
  {
   "cell_type": "markdown",
   "metadata": {},
   "source": [
    "### [get setdefault]缺失键处理\n",
    "\n",
    "`get`返回键值，如果键不在字典中，将会返回一个默认值\n",
    "\n",
    "`setdefault` 返回键值，如果键不在字典中，将会添加它并设置一个默认值"
   ]
  },
  {
   "cell_type": "code",
   "execution_count": 31,
   "metadata": {
    "ExecuteTime": {
     "end_time": "2019-08-04T15:22:47.214714Z",
     "start_time": "2019-08-04T15:22:47.205929Z"
    }
   },
   "outputs": [
    {
     "data": {
      "text/plain": [
       "'mad scientist'"
      ]
     },
     "execution_count": 31,
     "metadata": {},
     "output_type": "execute_result"
    },
    {
     "data": {
      "text/plain": [
       "'xxx'"
      ]
     },
     "execution_count": 31,
     "metadata": {},
     "output_type": "execute_result"
    },
    {
     "data": {
      "text/plain": [
       "{'name': 'okabe rintaro', 'motto': 'elpsycongroo', 'job': 'xxx'}"
      ]
     },
     "execution_count": 31,
     "metadata": {},
     "output_type": "execute_result"
    }
   ],
   "source": [
    "d = {'name': 'okabe rintaro', 'motto': 'elpsycongroo'}\n",
    "\n",
    "d.get('job', 'mad scientist')\n",
    "\n",
    "d.setdefault('job', 'xxx')\n",
    "d"
   ]
  },
  {
   "cell_type": "markdown",
   "metadata": {},
   "source": [
    "# 语言专属特性"
   ]
  },
  {
   "cell_type": "markdown",
   "metadata": {},
   "source": [
    "## repl中暂存结果"
   ]
  },
  {
   "cell_type": "code",
   "execution_count": 32,
   "metadata": {
    "ExecuteTime": {
     "end_time": "2019-08-04T15:23:48.270397Z",
     "start_time": "2019-08-04T15:23:48.264569Z"
    }
   },
   "outputs": [
    {
     "data": {
      "text/plain": [
       "2"
      ]
     },
     "execution_count": 32,
     "metadata": {},
     "output_type": "execute_result"
    },
    {
     "data": {
      "text/plain": [
       "2"
      ]
     },
     "execution_count": 32,
     "metadata": {},
     "output_type": "execute_result"
    }
   ],
   "source": [
    "1 + 1\n",
    "_\n"
   ]
  },
  {
   "cell_type": "markdown",
   "metadata": {},
   "source": [
    "## 忽略某个变量"
   ]
  },
  {
   "cell_type": "code",
   "execution_count": 34,
   "metadata": {
    "ExecuteTime": {
     "end_time": "2019-08-04T15:25:08.732179Z",
     "start_time": "2019-08-04T15:25:08.727299Z"
    }
   },
   "outputs": [
    {
     "data": {
      "text/plain": [
       "'eroge'"
      ]
     },
     "execution_count": 34,
     "metadata": {},
     "output_type": "execute_result"
    },
    {
     "name": "stdout",
     "output_type": "stream",
     "text": [
      "wakarimasu\n",
      "wakarimasu\n"
     ]
    }
   ],
   "source": [
    "filename, _ = 'eroge.exe'.split('.')\n",
    "filename\n",
    "\n",
    "for _ in range(2):\n",
    "    print('wakarimasu')"
   ]
  },
  {
   "cell_type": "markdown",
   "metadata": {},
   "source": [
    "## 增强数字的可读性"
   ]
  },
  {
   "cell_type": "code",
   "execution_count": 36,
   "metadata": {
    "ExecuteTime": {
     "end_time": "2019-08-04T15:25:43.084847Z",
     "start_time": "2019-08-04T15:25:43.079967Z"
    }
   },
   "outputs": [
    {
     "data": {
      "text/plain": [
       "1000000"
      ]
     },
     "execution_count": 36,
     "metadata": {},
     "output_type": "execute_result"
    }
   ],
   "source": [
    "1_000_000"
   ]
  },
  {
   "cell_type": "markdown",
   "metadata": {},
   "source": [
    "# 推导式\n",
    "\n",
    "## 列表推导式"
   ]
  },
  {
   "cell_type": "code",
   "execution_count": 4,
   "metadata": {
    "ExecuteTime": {
     "end_time": "2019-08-05T12:30:43.201095Z",
     "start_time": "2019-08-05T12:30:43.196214Z"
    }
   },
   "outputs": [
    {
     "data": {
      "text/plain": [
       "[0, 2, 4, 6, 8]"
      ]
     },
     "execution_count": 4,
     "metadata": {},
     "output_type": "execute_result"
    }
   ],
   "source": [
    "even = [i for i in range(10) if not i % 2]\n",
    "even"
   ]
  },
  {
   "cell_type": "markdown",
   "metadata": {},
   "source": [
    "## 字典推导式"
   ]
  },
  {
   "cell_type": "code",
   "execution_count": 5,
   "metadata": {
    "ExecuteTime": {
     "end_time": "2019-08-05T12:31:45.174880Z",
     "start_time": "2019-08-05T12:31:45.166096Z"
    }
   },
   "outputs": [
    {
     "data": {
      "text/plain": [
       "{'takamiya mio': 0,\n",
       " 'tobiichi origami': 1,\n",
       " 'honjou nia': 2,\n",
       " 'tokisaki kurumi': 3,\n",
       " 'yoshino': 4,\n",
       " 'itsuka kotori': 5,\n",
       " 'hoshimiya mukuro': 6,\n",
       " 'natsumi': 7,\n",
       " 'yamai': 8,\n",
       " 'izayoi miku': 9,\n",
       " 'yatogami tohka': 10}"
      ]
     },
     "execution_count": 5,
     "metadata": {},
     "output_type": "execute_result"
    },
    {
     "data": {
      "text/plain": [
       "{7: 'NATSUMI', 8: 'YAMAI', 9: 'IZAYOI MIKU', 10: 'YATOGAMI TOHKA'}"
      ]
     },
     "execution_count": 5,
     "metadata": {},
     "output_type": "execute_result"
    }
   ],
   "source": [
    "SEIREI = [(0, 'takamiya mio'), (1, 'tobiichi origami'), (2, 'honjou nia'), (3, 'tokisaki kurumi'), (4, 'yoshino'), (5, 'itsuka kotori'), (6, 'hoshimiya mukuro'), (7, 'natsumi'), (8, 'yamai'), (9, 'izayoi miku'), (10, 'yatogami tohka')]\n",
    "seirei_code = {seirei: code for code, seirei in SEIREI}\n",
    "\n",
    "seirei_code\n",
    "\n",
    "{\n",
    "    code: seirei.upper() \n",
    "    for seirei, code in seirei_code.items() \n",
    "    if code > 6\n",
    "}\n"
   ]
  },
  {
   "cell_type": "markdown",
   "metadata": {},
   "source": [
    "## 集合推导式"
   ]
  },
  {
   "cell_type": "code",
   "execution_count": 6,
   "metadata": {
    "ExecuteTime": {
     "end_time": "2019-08-05T12:32:46.328336Z",
     "start_time": "2019-08-05T12:32:46.323456Z"
    }
   },
   "outputs": [
    {
     "data": {
      "text/plain": [
       "{1, 4, 9}"
      ]
     },
     "execution_count": 6,
     "metadata": {},
     "output_type": "execute_result"
    }
   ],
   "source": [
    "\n",
    "# 求所有数字的平方并 去除重复元素\n",
    "{x ** 2 for x in [1, 2, 2, 3, 3]}\n",
    "# {1, 4, 9}"
   ]
  },
  {
   "cell_type": "markdown",
   "metadata": {},
   "source": [
    "## 生成器表达式"
   ]
  },
  {
   "cell_type": "code",
   "execution_count": 10,
   "metadata": {
    "ExecuteTime": {
     "end_time": "2019-08-05T12:35:00.918516Z",
     "start_time": "2019-08-05T12:35:00.910709Z"
    }
   },
   "outputs": [
    {
     "data": {
      "text/plain": [
       "30"
      ]
     },
     "execution_count": 10,
     "metadata": {},
     "output_type": "execute_result"
    },
    {
     "data": {
      "text/plain": [
       "0"
      ]
     },
     "execution_count": 10,
     "metadata": {},
     "output_type": "execute_result"
    },
    {
     "data": {
      "text/plain": [
       "2"
      ]
     },
     "execution_count": 10,
     "metadata": {},
     "output_type": "execute_result"
    }
   ],
   "source": [
    "even_sum_under_10 = sum(i for i in range(11) if not i % 2)\n",
    "even_sum_under_10\n",
    "\n",
    "a = (i for i in range(11) if not i % 2)\n",
    "\n",
    "next(a)\n",
    "next(a)"
   ]
  },
  {
   "cell_type": "markdown",
   "metadata": {},
   "source": [
    "# 装饰器"
   ]
  },
  {
   "cell_type": "code",
   "execution_count": 12,
   "metadata": {
    "ExecuteTime": {
     "end_time": "2019-08-05T12:37:23.928515Z",
     "start_time": "2019-08-05T12:37:23.918755Z"
    }
   },
   "outputs": [
    {
     "name": "stdout",
     "output_type": "stream",
     "text": [
      "[0.00000041s] factorial(1) -> 1\n",
      "[0.00031426s] factorial(2) -> 2\n",
      "[0.00035569s] factorial(3) -> 6\n",
      "[0.00037046s] factorial(4) -> 24\n",
      "[0.00041559s] factorial(5) -> 120\n"
     ]
    },
    {
     "data": {
      "text/plain": [
       "120"
      ]
     },
     "execution_count": 12,
     "metadata": {},
     "output_type": "execute_result"
    }
   ],
   "source": [
    "import time\n",
    "from functools import wraps\n",
    "\n",
    "def clock(func):\n",
    "    @wraps(func) # 防止被装饰函数的属性被wrapper覆盖\n",
    "    def wrapper(*args, **kwargs):\n",
    "        t0 = time.perf_counter()\n",
    "        result = func(*args, **kwargs) # 由于闭包，wrapper函数包含了自由变量func\n",
    "        elapsed = time.perf_counter() - t0\n",
    "        name = func.__name__\n",
    "        args_str = ', '.join(repr(arg) for arg in args)\n",
    "        kwargs_str = ', '.join(f'{k}={w}' for k, w in sorted(kwargs.items()))\n",
    "        all_args_str = ', '.join(astr for astr in [args_str, kwargs_str] if astr)\n",
    "        print(f'[{elapsed:.8f}s] {name}({all_args_str}) -> {result}')\n",
    "        return result\n",
    "    return wrapper # 返回内部函数，取代被装饰的函数\n",
    "\n",
    "@clock\n",
    "def factorial(n: int) -> int:\n",
    "    return 1 if n < 2 else n * factorial(n-1)\n",
    "\n",
    "factorial(5)"
   ]
  },
  {
   "cell_type": "markdown",
   "metadata": {},
   "source": [
    "**如果想让装饰器能接受参数，那就要再嵌套一层**"
   ]
  },
  {
   "cell_type": "code",
   "execution_count": 15,
   "metadata": {
    "ExecuteTime": {
     "end_time": "2019-08-05T12:40:02.920837Z",
     "start_time": "2019-08-05T12:40:02.908148Z"
    }
   },
   "outputs": [
    {
     "name": "stdout",
     "output_type": "stream",
     "text": [
      "[0.00000041s] factorial_default_fmt(1) -> 1\n",
      "[0.00013497s] factorial_default_fmt(2) -> 2\n",
      "[0.00016821s] factorial_default_fmt(3) -> 6\n"
     ]
    },
    {
     "data": {
      "text/plain": [
       "6"
      ]
     },
     "execution_count": 15,
     "metadata": {},
     "output_type": "execute_result"
    },
    {
     "name": "stdout",
     "output_type": "stream",
     "text": [
      "factorial_customed_fmt: 4.1025626273949456e-07s\n",
      "factorial_customed_fmt: 5.497433642176475e-05s\n",
      "factorial_customed_fmt: 7.876919843852193e-05s\n"
     ]
    },
    {
     "data": {
      "text/plain": [
       "6"
      ]
     },
     "execution_count": 15,
     "metadata": {},
     "output_type": "execute_result"
    }
   ],
   "source": [
    "import time\n",
    "from functools import wraps\n",
    "\n",
    "DEFAULT_FMT = '[{elapsed:.8f}s] {name}({all_args_str}) -> {result}'\n",
    "\n",
    "def clock(fmt=DEFAULT_FMT):\n",
    "    def decorate(func):\n",
    "        @wraps(func)\n",
    "        def wrapper(*args, **kwargs):\n",
    "            t0 = time.perf_counter()\n",
    "            result = func(*args, **kwargs)\n",
    "            elapsed = time.perf_counter() - t0\n",
    "            name = func.__name__\n",
    "            args_str = ', '.join(repr(arg) for arg in args)\n",
    "            kwargs_str = ', '.join(f'{k}={w}' for k, w in sorted(kwargs.items()))\n",
    "            all_args_str = ', '.join(astr for astr in [args_str, kwargs_str] if astr)\n",
    "            print(fmt.format(**locals()))\n",
    "            return result\n",
    "        return wrapper\n",
    "    return decorate\n",
    "\n",
    "@clock()\n",
    "def factorial_default_fmt(n: int) -> int:\n",
    "    return 1 if n < 2 else n * factorial_default_fmt(n-1)\n",
    "\n",
    "@clock('{name}: {elapsed}s')\n",
    "def factorial_customed_fmt(n: int) -> int:\n",
    "    return 1 if n < 2 else n * factorial_customed_fmt(n-1)\n",
    "\n",
    "factorial_default_fmt(3)\n",
    "\n",
    "factorial_customed_fmt(3)"
   ]
  },
  {
   "cell_type": "markdown",
   "metadata": {},
   "source": [
    "# 上下文管理器\n",
    "\n",
    "用于资源的获取与释放，以代替`try-except`语句\n",
    "\n",
    "```py\n",
    "# try:\n",
    "#     f = open(input_path)\n",
    "#     data = f.read()\n",
    "# finally:\n",
    "#     f.close()\n",
    "with open(input_path) as f:\n",
    "    data = f.read()\n",
    "```\n",
    "\n",
    "其实在`pathlib`里已经给我们封装好了文件`IO`方法\n",
    "\n",
    "```py\n",
    "# with open('file') as i:\n",
    "#     data = i.read()\n",
    "from pathlib import Path\n",
    "data = Path('file').read_text()\n",
    "```\n",
    "\n",
    "至于上下文管理器的实现，可以用`@contextmanager`\n",
    "\n",
    "```py\n",
    "from contextlib import contextmanager\n",
    "\n",
    "@contextmanager\n",
    "def open_write(filename):\n",
    "    try:\n",
    "        # __enter__\n",
    "        f = open(filename, 'w')\n",
    "        yield f\n",
    "        \n",
    "        # __exit__\n",
    "        \n",
    "    finally:\n",
    "        f.close()\n",
    "\n",
    "with open_write('onegai.txt') as f:\n",
    "    f.write('Dagakotowaru!')\n",
    "```\n",
    "\n"
   ]
  },
  {
   "cell_type": "markdown",
   "metadata": {},
   "source": [
    "## [待補充]\n",
    "\n",
    "https://zhuanlan.zhihu.com/p/24709718"
   ]
  },
  {
   "cell_type": "code",
   "execution_count": null,
   "metadata": {},
   "outputs": [],
   "source": []
  },
  {
   "cell_type": "code",
   "execution_count": null,
   "metadata": {},
   "outputs": [],
   "source": []
  },
  {
   "cell_type": "code",
   "execution_count": null,
   "metadata": {},
   "outputs": [],
   "source": []
  },
  {
   "cell_type": "code",
   "execution_count": null,
   "metadata": {},
   "outputs": [],
   "source": []
  },
  {
   "cell_type": "markdown",
   "metadata": {},
   "source": [
    "# 静态类型注解"
   ]
  },
  {
   "cell_type": "code",
   "execution_count": 16,
   "metadata": {
    "ExecuteTime": {
     "end_time": "2019-08-05T14:55:54.763114Z",
     "start_time": "2019-08-05T14:55:54.515022Z"
    }
   },
   "outputs": [
    {
     "name": "stdout",
     "output_type": "stream",
     "text": [
      "Hello alphardex.\n",
      "Bitch, slut are going to be raped.\n"
     ]
    }
   ],
   "source": [
    "from typing import List\n",
    "\n",
    "def greeting(name: str) -> str:\n",
    "    return f'Hello {name}.'\n",
    "\n",
    "def gathering(users: List[str]) -> str:\n",
    "    return f\"{', '.join(users)} are going to be raped.\"\n",
    "\n",
    "print(greeting('alphardex'))\n",
    "print(gathering(['Bitch', 'slut']))"
   ]
  },
  {
   "cell_type": "markdown",
   "metadata": {},
   "source": [
    "# 多重继承\n",
    "\n",
    "在`Python`中，`super`指的是`MRO`中的下一个类，用来解决多重继承时父类的查找问题\n",
    "\n",
    "`MRO`是啥？`Method Resolution Order`（方法解析顺序）"
   ]
  },
  {
   "cell_type": "code",
   "execution_count": 18,
   "metadata": {
    "ExecuteTime": {
     "end_time": "2019-08-05T14:57:48.340973Z",
     "start_time": "2019-08-05T14:57:48.175762Z"
    }
   },
   "outputs": [
    {
     "name": "stdout",
     "output_type": "stream",
     "text": [
      "enter B\n",
      "enter C\n",
      "A\n",
      "leave C\n",
      "leave B\n",
      "(<class '__main__.D'>, <class '__main__.B'>, <class '__main__.C'>, <class '__main__.A'>, <class 'object'>)\n"
     ]
    }
   ],
   "source": [
    "class A:\n",
    "    def __init__(self):\n",
    "        print('A')\n",
    "\n",
    "class B(A):\n",
    "    def __init__(self):\n",
    "        print('enter B')\n",
    "        super().__init__()\n",
    "        print('leave B')\n",
    "\n",
    "class C(A):\n",
    "    def __init__(self):\n",
    "        print('enter C')\n",
    "        super().__init__()\n",
    "        print('leave C')\n",
    "\n",
    "class D(B, C):\n",
    "    pass\n",
    "\n",
    "d = D()\n",
    "print(d.__class__.__mro__)"
   ]
  },
  {
   "cell_type": "markdown",
   "metadata": {},
   "source": [
    "首先，因为`D`继承了`B`类，所以调用`B`类的`__init__`，打印了`enter B`\n",
    "\n",
    "打印`enter B`后的`super`寻找`MRO`中的`B`的下一个类，也就是`C`类，并调用其`__init__`，打印`enter C`\n",
    "\n",
    "打印`enter C`后的`super`寻找`MRO`中的`C`的下一个类，也就是`A`类，并调用其`__init__`，打印`A`\n",
    "\n",
    "打印`A`后回到`C`的`__init__`，打印`leave C`\n",
    "\n",
    "打印`leave C`后回到B的`__init__`，打印`leave B`\n",
    "\n",
    "    D(B, C) \n",
    "    B super() -> C super() -> A"
   ]
  },
  {
   "cell_type": "markdown",
   "metadata": {},
   "source": [
    "# 特殊方法 `__str__` `__slots__`\n",
    "\n",
    "[官方文檔](https://docs.python.org/3/reference/datamodel.html#special-method-names)\n",
    "\n",
    "以下列举些常用的：\n",
    "\n",
    "    字符串表示形式：__str__, __repr__\n",
    "    数值转换：__abs__, __bool__, __int__, __float__, __hash__\n",
    "    集合模拟：__len__, __getitem__, __setitem__, __delitem__, __contains__\n",
    "    迭代枚举：__iter__, __reversed__, __next__\n",
    "    可调用模拟：__call__\n",
    "    实例创建与销毁：__init__, __del__\n",
    "    属性访问：__getattr__, __setattr__\n",
    "    运算符相关：__add__, __radd__, __mul__, __rmul__, __matmul__, __rmatmul__,\n",
    "\n",
    "\n",
    "以下实现一个2d数学向量类"
   ]
  },
  {
   "cell_type": "code",
   "execution_count": 19,
   "metadata": {
    "ExecuteTime": {
     "end_time": "2019-08-05T15:04:10.317775Z",
     "start_time": "2019-08-05T15:04:09.977151Z"
    }
   },
   "outputs": [],
   "source": [
    "from math import hypot\n",
    "\n",
    "class Vector2d:\n",
    "\n",
    "    # 限制允许绑定的属性\n",
    "    __slots__ = ('__x', '__y')\n",
    "\n",
    "    # 实例创建\n",
    "    def __init__(self, x, y):\n",
    "        self.__x = float(x)\n",
    "        self.__y = float(y)\n",
    "\n",
    "    # 前双下划线是私有属性，property装饰是只读属性\n",
    "    @property\n",
    "    def x(self):\n",
    "        return self.__x\n",
    "\n",
    "    @property\n",
    "    def y(self):\n",
    "        return self.__y\n",
    "\n",
    "    # 可迭代对象\n",
    "    def __iter__(self):\n",
    "        yield from (self.x, self.y)\n",
    "\n",
    "    # 字符串表示形式\n",
    "    def __repr__(self) -> str:\n",
    "        return f'{type(self).__name__}({self.x}, {self.y})'\n",
    "\n",
    "    # 数值转换 - 绝对值\n",
    "    def __abs__(self) -> float:\n",
    "        return hypot(self.x, self.y)\n",
    "\n",
    "    # 数值转换 - 布尔值\n",
    "    def __bool__(self) -> bool:\n",
    "        return bool(abs(self))\n",
    "\n",
    "    # 算术运算符 - 加\n",
    "    def __add__(self, other):\n",
    "        x = self.x + other.x\n",
    "        y = self.y + other.y\n",
    "        return Vector2d(x, y)\n",
    "\n",
    "    # 算术运算符 - 乘\n",
    "    def __mul__(self, scalar: float):\n",
    "        return Vector2d(self.x * scalar, self.y * scalar)\n",
    "\n",
    "    # 比较运算符 - 相等\n",
    "    def __eq__(self, other):\n",
    "        return tuple(self) == tuple(other)\n",
    "\n",
    "    # 可散列\n",
    "    def __hash__(self):\n",
    "        return hash(self.x) ^ hash(self.y)\n",
    "\n",
    "v = Vector2d(3, 4)"
   ]
  },
  {
   "cell_type": "code",
   "execution_count": 20,
   "metadata": {
    "ExecuteTime": {
     "end_time": "2019-08-05T15:04:16.824526Z",
     "start_time": "2019-08-05T15:04:16.180605Z"
    }
   },
   "outputs": [
    {
     "ename": "AttributeError",
     "evalue": "'Vector2d' object has no attribute 'z'",
     "output_type": "error",
     "traceback": [
      "\u001b[1;31m---------------------------------------------------------------------------\u001b[0m",
      "\u001b[1;31mAttributeError\u001b[0m                            Traceback (most recent call last)",
      "\u001b[1;32m<ipython-input-20-94efebbf7225>\u001b[0m in \u001b[0;36m<module>\u001b[1;34m()\u001b[0m\n\u001b[0;32m      1\u001b[0m \u001b[1;31m# __slots__限制了允许绑定的属性，只能是x或y\u001b[0m\u001b[1;33m\u001b[0m\u001b[1;33m\u001b[0m\u001b[0m\n\u001b[1;32m----> 2\u001b[1;33m \u001b[0mv\u001b[0m\u001b[1;33m.\u001b[0m\u001b[0mz\u001b[0m \u001b[1;33m=\u001b[0m \u001b[1;36m1\u001b[0m\u001b[1;33m\u001b[0m\u001b[0m\n\u001b[0m",
      "\u001b[1;31mAttributeError\u001b[0m: 'Vector2d' object has no attribute 'z'"
     ]
    }
   ],
   "source": [
    "# __slots__限制了允许绑定的属性，只能是x或y\n",
    "v.z = 1"
   ]
  },
  {
   "cell_type": "code",
   "execution_count": 21,
   "metadata": {
    "ExecuteTime": {
     "end_time": "2019-08-05T15:04:33.325851Z",
     "start_time": "2019-08-05T15:04:33.317067Z"
    }
   },
   "outputs": [
    {
     "ename": "AttributeError",
     "evalue": "can't set attribute",
     "output_type": "error",
     "traceback": [
      "\u001b[1;31m---------------------------------------------------------------------------\u001b[0m",
      "\u001b[1;31mAttributeError\u001b[0m                            Traceback (most recent call last)",
      "\u001b[1;32m<ipython-input-21-c7a6cf8d31df>\u001b[0m in \u001b[0;36m<module>\u001b[1;34m()\u001b[0m\n\u001b[0;32m      1\u001b[0m \u001b[1;31m# 由于x属性只读，因此无法再次赋值\u001b[0m\u001b[1;33m\u001b[0m\u001b[1;33m\u001b[0m\u001b[0m\n\u001b[1;32m----> 2\u001b[1;33m \u001b[0mv\u001b[0m\u001b[1;33m.\u001b[0m\u001b[0mx\u001b[0m \u001b[1;33m=\u001b[0m \u001b[1;36m1\u001b[0m\u001b[1;33m\u001b[0m\u001b[0m\n\u001b[0m",
      "\u001b[1;31mAttributeError\u001b[0m: can't set attribute"
     ]
    }
   ],
   "source": [
    "# 由于x属性只读，因此无法再次赋值\n",
    "v.x = 1"
   ]
  },
  {
   "cell_type": "code",
   "execution_count": 23,
   "metadata": {
    "ExecuteTime": {
     "end_time": "2019-08-05T15:05:14.027666Z",
     "start_time": "2019-08-05T15:05:13.998413Z"
    }
   },
   "outputs": [
    {
     "data": {
      "text/plain": [
       "(3.0, 4.0)"
      ]
     },
     "execution_count": 23,
     "metadata": {},
     "output_type": "execute_result"
    }
   ],
   "source": [
    "# iter(v) => v.__iter__()\n",
    "x, y = v\n",
    "\n",
    "x,y"
   ]
  },
  {
   "cell_type": "code",
   "execution_count": 24,
   "metadata": {
    "ExecuteTime": {
     "end_time": "2019-08-05T15:05:26.362083Z",
     "start_time": "2019-08-05T15:05:26.358178Z"
    }
   },
   "outputs": [
    {
     "data": {
      "text/plain": [
       "Vector2d(3.0, 4.0)"
      ]
     },
     "execution_count": 24,
     "metadata": {},
     "output_type": "execute_result"
    }
   ],
   "source": [
    "# repr(v) => v.__repr__()\n",
    "v"
   ]
  },
  {
   "cell_type": "code",
   "execution_count": 25,
   "metadata": {
    "ExecuteTime": {
     "end_time": "2019-08-05T15:05:41.020568Z",
     "start_time": "2019-08-05T15:05:41.001077Z"
    }
   },
   "outputs": [
    {
     "data": {
      "text/plain": [
       "5.0"
      ]
     },
     "execution_count": 25,
     "metadata": {},
     "output_type": "execute_result"
    }
   ],
   "source": [
    "# abs(v) => v.__abs__()\n",
    "abs(v)"
   ]
  },
  {
   "cell_type": "code",
   "execution_count": 26,
   "metadata": {
    "ExecuteTime": {
     "end_time": "2019-08-05T15:05:46.591895Z",
     "start_time": "2019-08-05T15:05:46.587022Z"
    }
   },
   "outputs": [
    {
     "data": {
      "text/plain": [
       "True"
      ]
     },
     "execution_count": 26,
     "metadata": {},
     "output_type": "execute_result"
    }
   ],
   "source": [
    "# bool(v) => v.__bool__()\n",
    "bool(v)"
   ]
  },
  {
   "cell_type": "code",
   "execution_count": 27,
   "metadata": {
    "ExecuteTime": {
     "end_time": "2019-08-05T15:06:04.760887Z",
     "start_time": "2019-08-05T15:06:04.716974Z"
    }
   },
   "outputs": [
    {
     "data": {
      "text/plain": [
       "Vector2d(4.0, 6.0)"
      ]
     },
     "execution_count": 27,
     "metadata": {},
     "output_type": "execute_result"
    }
   ],
   "source": [
    "# v1 + v2  => v1.__add__(v2)\n",
    "v1 = Vector2d(1, 2)\n",
    "v2 = Vector2d(3, 4)\n",
    "v1 + v2"
   ]
  },
  {
   "cell_type": "code",
   "execution_count": 28,
   "metadata": {
    "ExecuteTime": {
     "end_time": "2019-08-05T15:06:24.964292Z",
     "start_time": "2019-08-05T15:06:24.959412Z"
    }
   },
   "outputs": [
    {
     "data": {
      "text/plain": [
       "Vector2d(9.0, 12.0)"
      ]
     },
     "execution_count": 28,
     "metadata": {},
     "output_type": "execute_result"
    }
   ],
   "source": [
    "# v * 3  => v.__mul__(3)\n",
    "v * 3"
   ]
  },
  {
   "cell_type": "code",
   "execution_count": 29,
   "metadata": {
    "ExecuteTime": {
     "end_time": "2019-08-05T15:06:35.750943Z",
     "start_time": "2019-08-05T15:06:35.746064Z"
    }
   },
   "outputs": [
    {
     "data": {
      "text/plain": [
       "True"
      ]
     },
     "execution_count": 29,
     "metadata": {},
     "output_type": "execute_result"
    }
   ],
   "source": [
    "# v1 == v2 => v1.__eq__(v2)\n",
    "v1 = Vector2d(1, 2)\n",
    "v2 = Vector2d(1, 2)\n",
    "v1 == v2"
   ]
  },
  {
   "cell_type": "code",
   "execution_count": 30,
   "metadata": {
    "ExecuteTime": {
     "end_time": "2019-08-05T15:06:53.631389Z",
     "start_time": "2019-08-05T15:06:53.627497Z"
    }
   },
   "outputs": [
    {
     "data": {
      "text/plain": [
       "7"
      ]
     },
     "execution_count": 30,
     "metadata": {},
     "output_type": "execute_result"
    }
   ],
   "source": [
    "# hash(v) => v.__hash__()\n",
    "hash(v)"
   ]
  },
  {
   "cell_type": "markdown",
   "metadata": {},
   "source": [
    "# 类方法和静态方法\n",
    "\n",
    "`@classmethod`是类方法，它定义操作类的方法，也就是说会将类绑定给方法，而不是实例\n",
    "\n",
    "`@staticmethod`是静态方法，啥都不绑定，一般用来给类绑定各种工具方法（不涉及对实例和类的操作）\n",
    "\n",
    "在`django`中，我们经常要在视图函数中对模型类进行各种查询\n",
    "\n",
    "然而，很多查询都是重复的代码，根据`DRY`原则，它们都是可以被封装的\n",
    "\n",
    "那么，如果我们要给模型类封装一些查询操作，就要用到`@classmethod`\n",
    "\n",
    "以下是`Post`类，里面定义了`latest_posts`方法用来获取最新的几个`Post`\n",
    "\n",
    "这样在视图函数中，就能直接调用该方法进行查询，节省了不少代码\n",
    "\n",
    "```py\n",
    "class Post(models.Model):\n",
    "    STATUS_NORMAL = 1\n",
    "    STATUS_DELETE = 0\n",
    "    STATUS_DRAFT = 2\n",
    "    STATUS_ITEMS = (\n",
    "        (STATUS_NORMAL, '正常'),\n",
    "        (STATUS_DELETE, '删除'),\n",
    "        (STATUS_DRAFT, '草稿'),\n",
    "    )\n",
    "    ...\n",
    "    status = models.PositiveIntegerField(_(\"状态\"), choices=STATUS_ITEMS, default=STATUS_NORMAL)\n",
    "    created_time = models.DateTimeField(_(\"创建时间\"), auto_now_add=True)\n",
    "    ...\n",
    "\n",
    "    @classmethod\n",
    "    def latest_posts(cls, limit=None):\n",
    "        queryset = cls.objects.filter(status=cls.STATUS_NORMAL).order_by('-created_time')\n",
    "        if limit:\n",
    "            queryset = queryset[:limit]\n",
    "        return queryset\n",
    "```\n"
   ]
  },
  {
   "cell_type": "markdown",
   "metadata": {},
   "source": [
    "# 描述符"
   ]
  },
  {
   "cell_type": "markdown",
   "metadata": {},
   "source": [
    "实现了`__set__`或`__get__`协议的类就是描述符\n",
    "\n",
    "`set`和`get`代表存和取\n",
    "\n",
    "以下实现一个简单的描述符类，用来在读写属性时验证属性的正确性"
   ]
  },
  {
   "cell_type": "code",
   "execution_count": 34,
   "metadata": {
    "ExecuteTime": {
     "end_time": "2019-08-06T11:51:42.277352Z",
     "start_time": "2019-08-06T11:51:42.148987Z"
    }
   },
   "outputs": [
    {
     "ename": "ValueError",
     "evalue": "Value must be an integer",
     "output_type": "error",
     "traceback": [
      "\u001b[1;31m---------------------------------------------------------------------------\u001b[0m",
      "\u001b[1;31mValueError\u001b[0m                                Traceback (most recent call last)",
      "\u001b[1;32m<ipython-input-34-e19e26843889>\u001b[0m in \u001b[0;36m<module>\u001b[1;34m()\u001b[0m\n\u001b[0;32m     16\u001b[0m \u001b[1;33m\u001b[0m\u001b[0m\n\u001b[0;32m     17\u001b[0m \u001b[0mperson\u001b[0m \u001b[1;33m=\u001b[0m \u001b[0mPerson\u001b[0m\u001b[1;33m(\u001b[0m\u001b[0mage\u001b[0m\u001b[1;33m=\u001b[0m\u001b[1;36m100\u001b[0m\u001b[1;33m)\u001b[0m\u001b[1;33m\u001b[0m\u001b[0m\n\u001b[1;32m---> 18\u001b[1;33m \u001b[0mperson\u001b[0m\u001b[1;33m.\u001b[0m\u001b[0mage\u001b[0m \u001b[1;33m=\u001b[0m \u001b[1;34m'young'\u001b[0m\u001b[1;33m\u001b[0m\u001b[0m\n\u001b[0m\u001b[0;32m     19\u001b[0m \u001b[1;31m# Traceback (most recent call last):\u001b[0m\u001b[1;33m\u001b[0m\u001b[1;33m\u001b[0m\u001b[0m\n\u001b[0;32m     20\u001b[0m \u001b[1;31m# ValueError: Value must be an integer\u001b[0m\u001b[1;33m\u001b[0m\u001b[1;33m\u001b[0m\u001b[0m\n",
      "\u001b[1;32m<ipython-input-34-e19e26843889>\u001b[0m in \u001b[0;36m__set__\u001b[1;34m(self, instance, value)\u001b[0m\n\u001b[0;32m      5\u001b[0m     \u001b[1;32mdef\u001b[0m \u001b[0m__set__\u001b[0m\u001b[1;33m(\u001b[0m\u001b[0mself\u001b[0m\u001b[1;33m,\u001b[0m \u001b[0minstance\u001b[0m\u001b[1;33m,\u001b[0m \u001b[0mvalue\u001b[0m\u001b[1;33m)\u001b[0m\u001b[1;33m:\u001b[0m\u001b[1;33m\u001b[0m\u001b[0m\n\u001b[0;32m      6\u001b[0m         \u001b[1;32mif\u001b[0m \u001b[1;32mnot\u001b[0m \u001b[0misinstance\u001b[0m\u001b[1;33m(\u001b[0m\u001b[0mvalue\u001b[0m\u001b[1;33m,\u001b[0m \u001b[0mint\u001b[0m\u001b[1;33m)\u001b[0m\u001b[1;33m:\u001b[0m\u001b[1;33m\u001b[0m\u001b[0m\n\u001b[1;32m----> 7\u001b[1;33m             \u001b[1;32mraise\u001b[0m \u001b[0mValueError\u001b[0m\u001b[1;33m(\u001b[0m\u001b[1;34m'Value must be an integer'\u001b[0m\u001b[1;33m)\u001b[0m\u001b[1;33m\u001b[0m\u001b[0m\n\u001b[0m\u001b[0;32m      8\u001b[0m         \u001b[1;32mif\u001b[0m \u001b[0mvalue\u001b[0m \u001b[1;33m>\u001b[0m \u001b[1;36m200\u001b[0m\u001b[1;33m:\u001b[0m\u001b[1;33m\u001b[0m\u001b[0m\n\u001b[0;32m      9\u001b[0m             \u001b[1;32mraise\u001b[0m \u001b[0mValueError\u001b[0m\u001b[1;33m(\u001b[0m\u001b[1;34m'Value must be under 200'\u001b[0m\u001b[1;33m)\u001b[0m\u001b[1;33m\u001b[0m\u001b[0m\n",
      "\u001b[1;31mValueError\u001b[0m: Value must be an integer"
     ]
    }
   ],
   "source": [
    "class Validator:\n",
    "    def __init__(self, storage_name):\n",
    "        self.storage_name = storage_name\n",
    "\n",
    "    def __set__(self, instance, value):\n",
    "        if not isinstance(value, int):\n",
    "            raise ValueError('Value must be an integer')\n",
    "        if value > 200:\n",
    "            raise ValueError('Value must be under 200')\n",
    "\n",
    "class Person:\n",
    "    age = Validator('age')\n",
    "\n",
    "    def __init__(self, age):\n",
    "        self.age = age\n",
    "\n",
    "person = Person(age=100)\n",
    "person.age = 'young'\n",
    "# Traceback (most recent call last):\n",
    "# ValueError: Value must be an integer"
   ]
  },
  {
   "cell_type": "code",
   "execution_count": 35,
   "metadata": {
    "ExecuteTime": {
     "end_time": "2019-08-06T11:51:45.601898Z",
     "start_time": "2019-08-06T11:51:45.590186Z"
    }
   },
   "outputs": [
    {
     "ename": "ValueError",
     "evalue": "Value must be under 200",
     "output_type": "error",
     "traceback": [
      "\u001b[1;31m---------------------------------------------------------------------------\u001b[0m",
      "\u001b[1;31mValueError\u001b[0m                                Traceback (most recent call last)",
      "\u001b[1;32m<ipython-input-35-25f15558dc03>\u001b[0m in \u001b[0;36m<module>\u001b[1;34m()\u001b[0m\n\u001b[1;32m----> 1\u001b[1;33m \u001b[0mperson\u001b[0m\u001b[1;33m.\u001b[0m\u001b[0mage\u001b[0m \u001b[1;33m=\u001b[0m \u001b[1;36m201\u001b[0m\u001b[1;33m\u001b[0m\u001b[0m\n\u001b[0m\u001b[0;32m      2\u001b[0m \u001b[1;31m# Traceback (most recent call last):\u001b[0m\u001b[1;33m\u001b[0m\u001b[1;33m\u001b[0m\u001b[0m\n\u001b[0;32m      3\u001b[0m \u001b[1;31m# ValueError: Value must be under 200\u001b[0m\u001b[1;33m\u001b[0m\u001b[1;33m\u001b[0m\u001b[0m\n",
      "\u001b[1;32m<ipython-input-34-e19e26843889>\u001b[0m in \u001b[0;36m__set__\u001b[1;34m(self, instance, value)\u001b[0m\n\u001b[0;32m      7\u001b[0m             \u001b[1;32mraise\u001b[0m \u001b[0mValueError\u001b[0m\u001b[1;33m(\u001b[0m\u001b[1;34m'Value must be an integer'\u001b[0m\u001b[1;33m)\u001b[0m\u001b[1;33m\u001b[0m\u001b[0m\n\u001b[0;32m      8\u001b[0m         \u001b[1;32mif\u001b[0m \u001b[0mvalue\u001b[0m \u001b[1;33m>\u001b[0m \u001b[1;36m200\u001b[0m\u001b[1;33m:\u001b[0m\u001b[1;33m\u001b[0m\u001b[0m\n\u001b[1;32m----> 9\u001b[1;33m             \u001b[1;32mraise\u001b[0m \u001b[0mValueError\u001b[0m\u001b[1;33m(\u001b[0m\u001b[1;34m'Value must be under 200'\u001b[0m\u001b[1;33m)\u001b[0m\u001b[1;33m\u001b[0m\u001b[0m\n\u001b[0m\u001b[0;32m     10\u001b[0m \u001b[1;33m\u001b[0m\u001b[0m\n\u001b[0;32m     11\u001b[0m \u001b[1;32mclass\u001b[0m \u001b[0mPerson\u001b[0m\u001b[1;33m:\u001b[0m\u001b[1;33m\u001b[0m\u001b[0m\n",
      "\u001b[1;31mValueError\u001b[0m: Value must be under 200"
     ]
    }
   ],
   "source": [
    "person.age = 201\n",
    "# Traceback (most recent call last):\n",
    "# ValueError: Value must be under 200"
   ]
  },
  {
   "cell_type": "markdown",
   "metadata": {},
   "source": [
    "# 元类"
   ]
  },
  {
   "cell_type": "markdown",
   "metadata": {},
   "source": [
    "通过`type()`，我们可以获取一个对象所属的类，但通过`help`函数，发现`type()`居然也可以用来创建类！\n",
    "\n",
    "```py\n",
    "type(name, bases, dict) -> a new type\n",
    "```\n",
    "\n",
    "`name`是新类的名称，`bases`是继承的子类，`dict`则是新类的属性名与其对应值的字典\n",
    "\n",
    "```py\n",
    "class A:\n",
    "    a = 1\n",
    "    def foo(self):\n",
    "        return self.a * 2\n",
    "\n",
    "# 以上类的创建等价于\n",
    "A = type('A', (object, ), {'a': 1, 'foo': lambda self: self.a * 2})\n",
    "```\n",
    "\n"
   ]
  },
  {
   "cell_type": "code",
   "execution_count": 36,
   "metadata": {
    "ExecuteTime": {
     "end_time": "2019-08-06T11:54:40.532362Z",
     "start_time": "2019-08-06T11:54:40.368646Z"
    }
   },
   "outputs": [],
   "source": [
    "class A:\n",
    "    a = 1\n",
    "    def foo(self):\n",
    "        return self.a * 2\n",
    "\n",
    "# 以上类的创建等价于\n",
    "A = type('A', (object, ), {'a': 1, 'foo': lambda self: self.a * 2})"
   ]
  },
  {
   "cell_type": "markdown",
   "metadata": {
    "ExecuteTime": {
     "end_time": "2019-08-06T11:56:01.120994Z",
     "start_time": "2019-08-06T11:56:00.945436Z"
    }
   },
   "source": [
    "元类就是用来创建类对象的类\n",
    "\n",
    "说白了，元类就是制造类的工厂"
   ]
  },
  {
   "cell_type": "code",
   "execution_count": 37,
   "metadata": {
    "ExecuteTime": {
     "end_time": "2019-08-06T11:55:54.980539Z",
     "start_time": "2019-08-06T11:55:54.877677Z"
    }
   },
   "outputs": [
    {
     "data": {
      "text/plain": [
       "str"
      ]
     },
     "execution_count": 37,
     "metadata": {},
     "output_type": "execute_result"
    },
    {
     "data": {
      "text/plain": [
       "type"
      ]
     },
     "execution_count": 37,
     "metadata": {},
     "output_type": "execute_result"
    }
   ],
   "source": [
    "'alphardex'.__class__\n",
    "# <class 'str'>\n",
    "'alphardex'.__class__.__class__\n",
    "# <class 'type'>"
   ]
  },
  {
   "cell_type": "markdown",
   "metadata": {},
   "source": [
    "**自定义元类**\n",
    "\n",
    "以下实现一个元类，用来把类的所有非私有属性自动转换为大写（不已_开头的属性都是非私有的）\n",
    "\n",
    "思路很简单：把属性和对应的值字典(`attrs`)里的非私有属性键改为大写(`upper`)就行了"
   ]
  },
  {
   "cell_type": "code",
   "execution_count": 39,
   "metadata": {
    "ExecuteTime": {
     "end_time": "2019-08-06T12:16:35.889840Z",
     "start_time": "2019-08-06T12:16:35.743883Z"
    }
   },
   "outputs": [
    {
     "data": {
      "text/plain": [
       "'alphardex'"
      ]
     },
     "execution_count": 39,
     "metadata": {},
     "output_type": "execute_result"
    },
    {
     "data": {
      "text/plain": [
       "'unknown'"
      ]
     },
     "execution_count": 39,
     "metadata": {},
     "output_type": "execute_result"
    }
   ],
   "source": [
    "class UpperAttrMeta(type):\n",
    "    def __new__(cls, name, bases, attrs):\n",
    "        \"\"\"\n",
    "        __init__方法用来初始化对象并传入参数\n",
    "        而__new__方法专门用来创建对象（显然这里我们要创建一个类对象并定制它）\n",
    "        \"\"\"\n",
    "        upper_attrs = {\n",
    "            k.upper() \n",
    "            if not k.startswith('_') \n",
    "            else k: v \n",
    "            for k, v in attrs.items()\n",
    "        }\n",
    "        return super().__new__(cls, name, bases, upper_attrs)\n",
    "\n",
    "class Foo(metaclass=UpperAttrMeta):\n",
    "    name = 'alphardex'\n",
    "    __love = 'unknown'\n",
    "\n",
    "f = Foo()\n",
    "f.NAME\n",
    "# 'alphardex'\n",
    "f._Foo__love\n",
    "# 'unknown'"
   ]
  },
  {
   "cell_type": "markdown",
   "metadata": {},
   "source": [
    "元类的最经典的用途就是`ORM`的实现 以`django`的`ORM`为例\n",
    "\n",
    "```py\n",
    "lass Person(models.Model):\n",
    "    name = models.CharField(max_length=30)\n",
    "    age = models.IntegerField()\n",
    "\n",
    "p = Person(name='alphardex', age='24')\n",
    "p.age\n",
    "# 24\n",
    "```\n"
   ]
  },
  {
   "cell_type": "code",
   "execution_count": null,
   "metadata": {},
   "outputs": [],
   "source": []
  }
 ],
 "metadata": {
  "hide_input": false,
  "kernelspec": {
   "display_name": "Python [default]",
   "language": "python",
   "name": "python3"
  },
  "language_info": {
   "codemirror_mode": {
    "name": "ipython",
    "version": 3
   },
   "file_extension": ".py",
   "mimetype": "text/x-python",
   "name": "python",
   "nbconvert_exporter": "python",
   "pygments_lexer": "ipython3",
   "version": "3.6.5"
  },
  "toc": {
   "base_numbering": 1,
   "nav_menu": {},
   "number_sections": true,
   "sideBar": true,
   "skip_h1_title": false,
   "title_cell": "Table of Contents",
   "title_sidebar": "Contents",
   "toc_cell": true,
   "toc_position": {},
   "toc_section_display": true,
   "toc_window_display": true
  },
  "varInspector": {
   "cols": {
    "lenName": 16,
    "lenType": 16,
    "lenVar": 40
   },
   "kernels_config": {
    "python": {
     "delete_cmd_postfix": "",
     "delete_cmd_prefix": "del ",
     "library": "var_list.py",
     "varRefreshCmd": "print(var_dic_list())"
    },
    "r": {
     "delete_cmd_postfix": ") ",
     "delete_cmd_prefix": "rm(",
     "library": "var_list.r",
     "varRefreshCmd": "cat(var_dic_list()) "
    }
   },
   "types_to_exclude": [
    "module",
    "function",
    "builtin_function_or_method",
    "instance",
    "_Feature"
   ],
   "window_display": false
  }
 },
 "nbformat": 4,
 "nbformat_minor": 2
}
