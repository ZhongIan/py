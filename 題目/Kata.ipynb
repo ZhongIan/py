{
 "cells": [
  {
   "cell_type": "markdown",
   "metadata": {
    "toc": true
   },
   "source": [
    "<h1>Table of Contents<span class=\"tocSkip\"></span></h1>\n",
    "<div class=\"toc\"><ul class=\"toc-item\"><li><span><a href=\"#[6kyu]Wheel-of-Fortune-命運之輪[assert;-all]\" data-toc-modified-id=\"[6kyu]Wheel-of-Fortune-命運之輪[assert;-all]-1\"><span class=\"toc-item-num\">1&nbsp;&nbsp;</span>[6kyu]Wheel of Fortune 命運之輪[assert; all]</a></span></li><li><span><a href=\"#[5kyu]Histogram---V1\" data-toc-modified-id=\"[5kyu]Histogram---V1-2\"><span class=\"toc-item-num\">2&nbsp;&nbsp;</span>[5kyu]Histogram - V1</a></span><ul class=\"toc-item\"><li><span><a href=\"#學習重點['{:<2d}'-;-.rstrip()]\" data-toc-modified-id=\"學習重點['{:<2d}'-;-.rstrip()]-2.1\"><span class=\"toc-item-num\">2.1&nbsp;&nbsp;</span>學習重點['{:&lt;2d}' ; .rstrip()]</a></span></li></ul></li><li><span><a href=\"#[5kyu]-Find-the-Word-Pair!\" data-toc-modified-id=\"[5kyu]-Find-the-Word-Pair!-3\"><span class=\"toc-item-num\">3&nbsp;&nbsp;</span>[5kyu] Find the Word Pair!</a></span></li><li><span><a href=\"#[5kyu]Pete,-the-baker\" data-toc-modified-id=\"[5kyu]Pete,-the-baker-4\"><span class=\"toc-item-num\">4&nbsp;&nbsp;</span>[5kyu]Pete, the baker</a></span><ul class=\"toc-item\"><li><span><a href=\"#要點\" data-toc-modified-id=\"要點-4.1\"><span class=\"toc-item-num\">4.1&nbsp;&nbsp;</span>要點</a></span></li></ul></li><li><span><a href=\"#[5-kyu]Sum-of-Pairs\" data-toc-modified-id=\"[5-kyu]Sum-of-Pairs-5\"><span class=\"toc-item-num\">5&nbsp;&nbsp;</span>[5 kyu]Sum of Pairs</a></span></li><li><span><a href=\"#[6kyu]String-transformer[swapcase()]\" data-toc-modified-id=\"[6kyu]String-transformer[swapcase()]-6\"><span class=\"toc-item-num\">6&nbsp;&nbsp;</span>[6kyu]String transformer[swapcase()]</a></span></li><li><span><a href=\"#[6kyu]Persistent-Bugger.[reduce(func,-seq[,-init()])]\" data-toc-modified-id=\"[6kyu]Persistent-Bugger.[reduce(func,-seq[,-init()])]-7\"><span class=\"toc-item-num\">7&nbsp;&nbsp;</span>[6kyu]Persistent Bugger.[reduce(func, seq[, init()])]</a></span></li><li><span><a href=\"#[7kyu]Histogram---H1\" data-toc-modified-id=\"[7kyu]Histogram---H1-8\"><span class=\"toc-item-num\">8&nbsp;&nbsp;</span>[7kyu]Histogram - H1</a></span></li><li><span><a href=\"#[4kyu]Sum-of-Intervals\" data-toc-modified-id=\"[4kyu]Sum-of-Intervals-9\"><span class=\"toc-item-num\">9&nbsp;&nbsp;</span>[4kyu]Sum of Intervals</a></span></li><li><span><a href=\"#[collections.Counter][6kyu]-Find-the-odd-int\" data-toc-modified-id=\"[collections.Counter][6kyu]-Find-the-odd-int-10\"><span class=\"toc-item-num\">10&nbsp;&nbsp;</span>[collections.Counter][6kyu] Find the odd int</a></span></li><li><span><a href=\"#[6-kyu]Character-frequency\" data-toc-modified-id=\"[6-kyu]Character-frequency-11\"><span class=\"toc-item-num\">11&nbsp;&nbsp;</span>[6 kyu]Character frequency</a></span><ul class=\"toc-item\"><li><span><a href=\"#collections.Counter\" data-toc-modified-id=\"collections.Counter-11.1\"><span class=\"toc-item-num\">11.1&nbsp;&nbsp;</span>collections.Counter</a></span></li></ul></li><li><span><a href=\"#[5-kyu]-Simple-Pig-Latin\" data-toc-modified-id=\"[5-kyu]-Simple-Pig-Latin-12\"><span class=\"toc-item-num\">12&nbsp;&nbsp;</span>[5 kyu] Simple Pig Latin</a></span><ul class=\"toc-item\"><li><span><a href=\"#字串判斷\" data-toc-modified-id=\"字串判斷-12.1\"><span class=\"toc-item-num\">12.1&nbsp;&nbsp;</span>字串判斷</a></span></li></ul></li><li><span><a href=\"#[6-kyu]-The-Supermarket-Queue\" data-toc-modified-id=\"[6-kyu]-The-Supermarket-Queue-13\"><span class=\"toc-item-num\">13&nbsp;&nbsp;</span>[6 kyu] The Supermarket Queue</a></span></li><li><span><a href=\"#[6-kyu]Consecutive-strings\" data-toc-modified-id=\"[6-kyu]Consecutive-strings-14\"><span class=\"toc-item-num\">14&nbsp;&nbsp;</span>[6 kyu]Consecutive strings</a></span></li><li><span><a href=\"#[4-kyu]Snail\" data-toc-modified-id=\"[4-kyu]Snail-15\"><span class=\"toc-item-num\">15&nbsp;&nbsp;</span>[4 kyu]Snail</a></span><ul class=\"toc-item\"><li><span><a href=\"#zip(*)\" data-toc-modified-id=\"zip(*)-15.1\"><span class=\"toc-item-num\">15.1&nbsp;&nbsp;</span>zip(*)</a></span></li><li><span><a href=\"#numpy\" data-toc-modified-id=\"numpy-15.2\"><span class=\"toc-item-num\">15.2&nbsp;&nbsp;</span>numpy</a></span></li></ul></li><li><span><a href=\"#[5-kyu]Weight-for-weight\" data-toc-modified-id=\"[5-kyu]Weight-for-weight-16\"><span class=\"toc-item-num\">16&nbsp;&nbsp;</span>[5 kyu]Weight for weight</a></span><ul class=\"toc-item\"><li><span><a href=\"#sorted-多重排序\" data-toc-modified-id=\"sorted-多重排序-16.1\"><span class=\"toc-item-num\">16.1&nbsp;&nbsp;</span>sorted 多重排序</a></span></li></ul></li><li><span><a href=\"#[5-kyu]Scramblies\" data-toc-modified-id=\"[5-kyu]Scramblies-17\"><span class=\"toc-item-num\">17&nbsp;&nbsp;</span>[5 kyu]Scramblies</a></span></li><li><span><a href=\"#Learn\" data-toc-modified-id=\"Learn-18\"><span class=\"toc-item-num\">18&nbsp;&nbsp;</span>Learn</a></span><ul class=\"toc-item\"><li><span><a href=\"#Python’s-LINQ-Equivalents-–-filter(),-map()-and-list-comprehension\" data-toc-modified-id=\"Python’s-LINQ-Equivalents-–-filter(),-map()-and-list-comprehension-18.1\"><span class=\"toc-item-num\">18.1&nbsp;&nbsp;</span>Python’s LINQ Equivalents – filter(), map() and list comprehension</a></span></li></ul></li></ul></div>"
   ]
  },
  {
   "cell_type": "markdown",
   "metadata": {},
   "source": [
    "# [6kyu]Wheel of Fortune 命運之輪[assert; all]\n",
    "\n",
    "https://www.codewars.com/kata/wheel-of-fortune/train/python\n",
    "\n",
    "三位候選人參加電視節目\n",
    "\n",
    "\n",
    "命運之輪分為幾個部分，每個部分的數字從5到100（僅為5的倍數）\n",
    "\n",
    "每個候選人可以一次或兩次滾動輪子並總結每個滾動的得分。\n",
    "\n",
    "獲勝者最接近100（同時仍然低於或等於100）。\n",
    "\n",
    "在平局的情況下，首先獲勝的候選人獲勝。\n",
    "\n",
    "解決方案應該返回獲勝者的名字，或者false如果沒有獲勝者（所有得分超過100）\n",
    "\n",
    "從規範中得出的潛在錯誤是：\n",
    "\n",
    "* 多於或少於三名候選人參加比賽。\n",
    "* 候選人沒有滾動輪子或滾動兩次以上。 scores != 1 or 2\n",
    "* 分數無效。 score in scores , score(不為5的倍數) or score > 100 or score < 0\n",
    "* 用戶條目無效（無名稱或無分數）name = None or not name in "
   ]
  },
  {
   "cell_type": "code",
   "execution_count": 5,
   "metadata": {
    "ExecuteTime": {
     "end_time": "2019-08-20T09:29:11.681958Z",
     "start_time": "2019-08-20T09:29:11.675519Z"
    }
   },
   "outputs": [],
   "source": [
    "c1 = {'name':\"Bob\", 'scores':[10, 65] }\n",
    "c2 = {'name':\"Bill\", 'scores':[90, 5] }\n",
    "c3 = {'name':\"Jennifer\", 'scores':[55] }\n",
    "c4 = {'name':\"John\", 'scores':[5, 15] }\n",
    "c5 = {'name':\"Brad\", 'scores':[3, 15] }\n",
    "c6 = {'name':\"Laurel\", 'scores':[5, 12] }\n",
    "c7 = {'name':\"Charlie\", 'scores':[5, 105] }\n",
    "c8 = {'name':\"Paul\", 'scores':[80, 25] }\n",
    "c9 = {'name':\"Marc\", 'scores':[80, 25] }\n",
    "c10 = {'name':\"Oliver\", 'scores':[80, 25] }\n",
    "c11 = {'name':\"Bruce\", 'scores':[] }\n",
    "c12 = {'name':\"Alfred\", 'scores':[10, 15, 20] }\n",
    "c13 = {'scores':[10, 20] }\n",
    "c14 = {'name':\"Cheater\" }\n",
    "c15 = {'name':\"Robert\", 'scores':[45] }\n",
    "c16 = {'name':\"Rob\", 'scores':[40, 45] }\n",
    "c17 = {'name':\"Ned\", 'scores':[10] }\n",
    "c18 = {'name':\"Gandalf\", 'scores':[85] }\n"
   ]
  },
  {
   "cell_type": "code",
   "execution_count": 10,
   "metadata": {
    "ExecuteTime": {
     "end_time": "2019-08-20T09:31:02.332444Z",
     "start_time": "2019-08-20T09:31:02.230347Z"
    }
   },
   "outputs": [],
   "source": [
    "def winner(candidates):\n",
    "    try:\n",
    "        assert len(candidates) == 3\n",
    "        max_total = 0\n",
    "        for c in candidates:\n",
    "            name, scores = c['name'], c['scores']\n",
    "            assert 1 <= len(scores) <= 2\n",
    "            assert all(not s % 5 and 0 < s <= 100 for s in scores)\n",
    "            total = sum(scores)\n",
    "            if max_total < total <= 100:\n",
    "                selected, max_total = name, total\n",
    "        return selected\n",
    "    except:\n",
    "        return False"
   ]
  },
  {
   "cell_type": "code",
   "execution_count": 7,
   "metadata": {
    "ExecuteTime": {
     "end_time": "2019-08-20T09:30:06.927675Z",
     "start_time": "2019-08-20T09:30:06.913768Z"
    }
   },
   "outputs": [
    {
     "data": {
      "text/plain": [
       "True"
      ]
     },
     "execution_count": 7,
     "metadata": {},
     "output_type": "execute_result"
    },
    {
     "data": {
      "text/plain": [
       "True"
      ]
     },
     "execution_count": 7,
     "metadata": {},
     "output_type": "execute_result"
    },
    {
     "data": {
      "text/plain": [
       "True"
      ]
     },
     "execution_count": 7,
     "metadata": {},
     "output_type": "execute_result"
    },
    {
     "data": {
      "text/plain": [
       "True"
      ]
     },
     "execution_count": 7,
     "metadata": {},
     "output_type": "execute_result"
    },
    {
     "data": {
      "text/plain": [
       "True"
      ]
     },
     "execution_count": 7,
     "metadata": {},
     "output_type": "execute_result"
    },
    {
     "data": {
      "text/plain": [
       "True"
      ]
     },
     "execution_count": 7,
     "metadata": {},
     "output_type": "execute_result"
    }
   ],
   "source": [
    "# should check that three candidates take part in the game\n",
    "winner([]) == False\n",
    "\n",
    "# should check that candidates rooled the wheel once or twice\n",
    "winner([c1, c11, c3]) == False\n",
    "\n",
    "# should check that scores are valid \n",
    "winner([c1, c2, c7]) == False\n",
    "\n",
    "# should check that candidate entries are valid\n",
    "\n",
    "winner([c1, c2, c13]) == False\n",
    "\n",
    "#should work if candidates only roll the wheel once\n",
    "winner([c15, c16, c17]) == \"Rob\"\n",
    "winner([c15, c17, c18]) == \"Gandalf\""
   ]
  },
  {
   "cell_type": "code",
   "execution_count": 8,
   "metadata": {
    "ExecuteTime": {
     "end_time": "2019-08-20T09:30:14.303495Z",
     "start_time": "2019-08-20T09:30:14.298538Z"
    }
   },
   "outputs": [],
   "source": [
    "def winner(candidates):\n",
    "\n",
    "    if len(candidates) != 3:\n",
    "        return False\n",
    "\n",
    "    try:\n",
    "        res = []\n",
    "        tmp = 0\n",
    "        w = False\n",
    "        for i in candidates:\n",
    "            i['name']\n",
    "            if len(i['scores']) not in [1,2]:\n",
    "                return False\n",
    "            else:\n",
    "                for x in i['scores']:\n",
    "                    if x > 100 or x%5 != 0:\n",
    "                        return False\n",
    "                        \n",
    "                s = sum(i['scores'])\n",
    "                if s <= 100 and s > tmp:\n",
    "                    tmp = s\n",
    "                    w = i['name']\n",
    "        return w\n",
    "    except:\n",
    "        return False"
   ]
  },
  {
   "cell_type": "code",
   "execution_count": 9,
   "metadata": {
    "ExecuteTime": {
     "end_time": "2019-08-20T09:30:14.969168Z",
     "start_time": "2019-08-20T09:30:14.956272Z"
    }
   },
   "outputs": [
    {
     "data": {
      "text/plain": [
       "True"
      ]
     },
     "execution_count": 9,
     "metadata": {},
     "output_type": "execute_result"
    },
    {
     "data": {
      "text/plain": [
       "True"
      ]
     },
     "execution_count": 9,
     "metadata": {},
     "output_type": "execute_result"
    },
    {
     "data": {
      "text/plain": [
       "True"
      ]
     },
     "execution_count": 9,
     "metadata": {},
     "output_type": "execute_result"
    },
    {
     "data": {
      "text/plain": [
       "True"
      ]
     },
     "execution_count": 9,
     "metadata": {},
     "output_type": "execute_result"
    },
    {
     "data": {
      "text/plain": [
       "True"
      ]
     },
     "execution_count": 9,
     "metadata": {},
     "output_type": "execute_result"
    },
    {
     "data": {
      "text/plain": [
       "True"
      ]
     },
     "execution_count": 9,
     "metadata": {},
     "output_type": "execute_result"
    }
   ],
   "source": [
    "# should check that three candidates take part in the game\n",
    "winner([]) == False\n",
    "\n",
    "# should check that candidates rooled the wheel once or twice\n",
    "winner([c1, c11, c3]) == False\n",
    "\n",
    "# should check that scores are valid \n",
    "winner([c1, c2, c7]) == False\n",
    "\n",
    "# should check that candidate entries are valid\n",
    "\n",
    "winner([c1, c2, c13]) == False\n",
    "\n",
    "#should work if candidates only roll the wheel once\n",
    "winner([c15, c16, c17]) == \"Rob\"\n",
    "winner([c15, c17, c18]) == \"Gandalf\""
   ]
  },
  {
   "cell_type": "markdown",
   "metadata": {},
   "source": [
    "# [5kyu]Histogram - V1\n",
    "\n",
    "https://www.codewars.com/kata/histogram-v1/python\n",
    "\n",
    "輸出下面的直方圖"
   ]
  },
  {
   "cell_type": "code",
   "execution_count": 78,
   "metadata": {
    "ExecuteTime": {
     "end_time": "2019-08-21T11:59:02.855988Z",
     "start_time": "2019-08-21T11:59:02.849540Z"
    }
   },
   "outputs": [
    {
     "name": "stdout",
     "output_type": "stream",
     "text": [
      "    10\n",
      "    #\n",
      "    #\n",
      "7   #\n",
      "#   #\n",
      "#   #     5\n",
      "#   #     #\n",
      "# 3 #     #\n",
      "# # #     #\n",
      "# # # 1   #\n",
      "# # # #   #\n",
      "-----------\n",
      "1 2 3 4 5 6\n",
      "\n"
     ]
    }
   ],
   "source": [
    "rolls = [7,3,10,1,0,5]\n",
    "print(\n",
    "    \"    10\\n\"+\n",
    "    \"    #\\n\"+\n",
    "    \"    #\\n\"+\n",
    "    \"7   #\\n\"+\n",
    "    \"#   #\\n\"+\n",
    "    \"#   #     5\\n\"+\n",
    "    \"#   #     #\\n\"+\n",
    "    \"# 3 #     #\\n\"+\n",
    "    \"# # #     #\\n\"+\n",
    "    \"# # # 1   #\\n\"+\n",
    "    \"# # # #   #\\n\"+\n",
    "    \"-----------\\n\"+\n",
    "    \"1 2 3 4 5 6\\n\"\n",
    ")"
   ]
  },
  {
   "cell_type": "code",
   "execution_count": 79,
   "metadata": {
    "ExecuteTime": {
     "end_time": "2019-08-21T12:00:48.541089Z",
     "start_time": "2019-08-21T12:00:48.536129Z"
    }
   },
   "outputs": [
    {
     "name": "stdout",
     "output_type": "stream",
     "text": [
      "    10\n",
      "    #\n",
      "    #\n",
      "7   #\n",
      "#   #\n",
      "#   #     5\n",
      "#   #     #\n",
      "# 3 #     #\n",
      "# # #     #\n",
      "# # # 1   #\n",
      "# # # #   #\n",
      "-----------\n",
      "1 2 3 4 5 6\n",
      "\n"
     ]
    }
   ],
   "source": [
    "hist = \"-----------\\n1 2 3 4 5 6\\n\"\n",
    "for i in range(max(rolls)+1): \n",
    "    hist = ''.join(\n",
    "        ['# ' if i < v else '{:<2d}'.format(i) \n",
    "         if i == v and v != 0 else '  ' \n",
    "         for v in rolls]\n",
    "    ).rstrip() + '\\n' + hist\n",
    "    \n",
    "print(hist)"
   ]
  },
  {
   "cell_type": "markdown",
   "metadata": {},
   "source": [
    "## 學習重點['{:<2d}' ; .rstrip()]"
   ]
  },
  {
   "cell_type": "code",
   "execution_count": 74,
   "metadata": {
    "ExecuteTime": {
     "end_time": "2019-08-21T11:57:27.523891Z",
     "start_time": "2019-08-21T11:57:27.518931Z"
    }
   },
   "outputs": [
    {
     "data": {
      "text/plain": [
       "'1 '"
      ]
     },
     "execution_count": 74,
     "metadata": {},
     "output_type": "execute_result"
    }
   ],
   "source": [
    "# 字串填空\n",
    "a = '{:<2d}'.format(1)\n",
    "a"
   ]
  },
  {
   "cell_type": "code",
   "execution_count": 80,
   "metadata": {
    "ExecuteTime": {
     "end_time": "2019-08-21T12:01:06.534422Z",
     "start_time": "2019-08-21T12:01:06.528966Z"
    }
   },
   "outputs": [
    {
     "data": {
      "text/plain": [
       "'1'"
      ]
     },
     "execution_count": 80,
     "metadata": {},
     "output_type": "execute_result"
    },
    {
     "data": {
      "text/plain": [
       "'    10'"
      ]
     },
     "execution_count": 80,
     "metadata": {},
     "output_type": "execute_result"
    }
   ],
   "source": [
    "# 去除後面空白\n",
    "a.rstrip()\n",
    "\n",
    "\"    10\\n     \".rstrip()"
   ]
  },
  {
   "cell_type": "code",
   "execution_count": 84,
   "metadata": {
    "ExecuteTime": {
     "end_time": "2019-08-22T14:02:13.607619Z",
     "start_time": "2019-08-22T14:02:13.603650Z"
    }
   },
   "outputs": [
    {
     "data": {
      "text/plain": [
       "2"
      ]
     },
     "execution_count": 84,
     "metadata": {},
     "output_type": "execute_result"
    }
   ],
   "source": [
    "5//2"
   ]
  },
  {
   "cell_type": "code",
   "execution_count": 86,
   "metadata": {
    "ExecuteTime": {
     "end_time": "2019-08-22T14:03:32.420697Z",
     "start_time": "2019-08-22T14:03:32.407305Z"
    }
   },
   "outputs": [],
   "source": [
    "d = {\"flour\": 500, \"sugar\": 200, \"eggs\": 1}"
   ]
  },
  {
   "cell_type": "code",
   "execution_count": 93,
   "metadata": {
    "ExecuteTime": {
     "end_time": "2019-08-22T14:07:33.060671Z",
     "start_time": "2019-08-22T14:07:33.056172Z"
    }
   },
   "outputs": [
    {
     "data": {
      "text/plain": [
       "[('eggs', 1), ('sugar', 200), ('flour', 500)]"
      ]
     },
     "execution_count": 93,
     "metadata": {},
     "output_type": "execute_result"
    }
   ],
   "source": [
    "sorted(d.itemsb(),key=lambda i: i[1])"
   ]
  },
  {
   "cell_type": "markdown",
   "metadata": {},
   "source": [
    "# [5kyu] Find the Word Pair!\n",
    "\n",
    "https://www.codewars.com/kata/find-the-word-pair/train/python\n",
    "    \n",
    "* words : ['super','bow','bowl','tar','get','book','let'], \n",
    "* target : \"superbowl\"\n",
    "\n",
    "return ['super','bowl', [0,2]]    \n",
    "    \n",
    "將target拆成兩個單詞(在words中)\n",
    "\n",
    "返回 單詞及序號\n",
    "\n",
    "[solutions] (https://www.codewars.com/kata/5aaae0f5fd8c069e8c00016e/solutions/python) G_kuldeep"
   ]
  },
  {
   "cell_type": "code",
   "execution_count": 7,
   "metadata": {
    "ExecuteTime": {
     "end_time": "2019-08-26T08:20:39.364722Z",
     "start_time": "2019-08-26T08:20:39.360830Z"
    }
   },
   "outputs": [],
   "source": [
    "def compound_match(words, target):\n",
    "    for i in range(len(target)):\n",
    "        if target[:i + 1] in words and target[i+1:] in words:\n",
    "            i1 = words.index(target[:i + 1]) # startWord\n",
    "            i2 = words.index(target[i + 1:]) # endWord\n",
    "            # sorted([words[i1],words[i2]],key=words.index)\n",
    "            # key=words.index => key=lambda x: words.index(x)\n",
    "            return sorted([words[i1],words[i2]],key=words.index) + [[i1,i2]]"
   ]
  },
  {
   "cell_type": "code",
   "execution_count": 6,
   "metadata": {
    "ExecuteTime": {
     "end_time": "2019-08-26T08:19:06.770597Z",
     "start_time": "2019-08-26T08:19:06.764713Z"
    }
   },
   "outputs": [
    {
     "data": {
      "text/plain": [
       "['super', 'bowl', [0, 2]]"
      ]
     },
     "execution_count": 6,
     "metadata": {},
     "output_type": "execute_result"
    }
   ],
   "source": [
    "words = ['super','bow','bowl','tar','get','book','let']\n",
    "target = 'superbowl'\n",
    "\n",
    "compound_match(words, target)"
   ]
  },
  {
   "cell_type": "markdown",
   "metadata": {},
   "source": [
    "# [5kyu]Pete, the baker\n",
    "\n",
    "[solutions](https://www.codewars.com/kata/525c65e51bf619685c000059/solutions/python)\n",
    "\n",
    "recipe : 食譜\n",
    "\n",
    "available : 食材\n",
    "\n",
    "給定recipe available 能做多少?"
   ]
  },
  {
   "cell_type": "code",
   "execution_count": 95,
   "metadata": {
    "ExecuteTime": {
     "end_time": "2019-08-22T14:16:50.422029Z",
     "start_time": "2019-08-22T14:16:50.417563Z"
    }
   },
   "outputs": [],
   "source": [
    "recipe = {\"flour\": 500, \"sugar\": 200, \"eggs\": 1}\n",
    "available = {\"flour\": 1200, \"sugar\": 1200, \"eggs\": 5, \"milk\": 200}\n",
    "\n",
    "recipe2 = {\"apples\": 3, \"flour\": 300, \"sugar\": 150, \"milk\": 100, \"oil\": 100}\n",
    "available2 = {\"sugar\": 500, \"flour\": 2000, \"milk\": 2000}"
   ]
  },
  {
   "cell_type": "code",
   "execution_count": 96,
   "metadata": {
    "ExecuteTime": {
     "end_time": "2019-08-22T14:16:51.306318Z",
     "start_time": "2019-08-22T14:16:51.285952Z"
    }
   },
   "outputs": [],
   "source": [
    "def cakes(recipe, available):\n",
    "    return min((available.get(k, 0)/recipe[k] for k in recipe))"
   ]
  },
  {
   "cell_type": "code",
   "execution_count": 97,
   "metadata": {
    "ExecuteTime": {
     "end_time": "2019-08-22T14:16:52.222210Z",
     "start_time": "2019-08-22T14:16:52.216792Z"
    }
   },
   "outputs": [
    {
     "data": {
      "text/plain": [
       "2.4"
      ]
     },
     "execution_count": 97,
     "metadata": {},
     "output_type": "execute_result"
    },
    {
     "data": {
      "text/plain": [
       "0.0"
      ]
     },
     "execution_count": 97,
     "metadata": {},
     "output_type": "execute_result"
    }
   ],
   "source": [
    "cakes(recipe, available)\n",
    "cakes(recipe2, available2)"
   ]
  },
  {
   "cell_type": "markdown",
   "metadata": {},
   "source": [
    "## 要點\n",
    "\n",
    "    dic.get(key,defult)"
   ]
  },
  {
   "cell_type": "markdown",
   "metadata": {},
   "source": [
    "# [5 kyu]Sum of Pairs\n",
    "\n",
    "https://www.codewars.com/kata/sum-of-pairs/train/python\n",
    "\n",
    "ex:\n",
    "\n",
    "    sum_pairs([11, 3, 7, 5],         10)\n",
    "    #              ^--^      3 + 7 = 10\n",
    "    == [3, 7]\n",
    "\n",
    "    sum_pairs([4, 3, 2, 3, 4],         6)\n",
    "    #          ^-----^         4 + 2 = 6, indices: 0, 2 *\n",
    "    #             ^-----^      3 + 3 = 6, indices: 1, 3\n",
    "    #                ^-----^   2 + 4 = 6, indices: 2, 4\n",
    "    #  * entire pair is earlier, and therefore is the correct answer\n",
    "    == [4, 2]\n",
    "\n",
    "    sum_pairs([0, 0, -2, 3], 2)\n",
    "    #  there are no pairs of values that can be added to produce 2.\n",
    "    == None/nil/undefined (Based on the language)\n",
    "\n",
    "    sum_pairs([10, 5, 2, 3, 7, 5],         10)\n",
    "    #              ^-----------^   5 + 5 = 10, indices: 1, 5\n",
    "    #                    ^--^      3 + 7 = 10, indices: 3, 4 *\n",
    "    #  * (4<5)entire pair is earlier, \n",
    "    #     and therefore is the correct answer\n",
    "    == [3, 7]\n",
    "    \n",
    "\n",
    "[solutions](https://www.codewars.com/kata/54d81488b981293527000c8f/solutions/python)\n",
    "\n"
   ]
  },
  {
   "cell_type": "code",
   "execution_count": 18,
   "metadata": {
    "ExecuteTime": {
     "end_time": "2019-09-25T15:14:33.274378Z",
     "start_time": "2019-09-25T15:14:33.266542Z"
    }
   },
   "outputs": [],
   "source": [
    "def sum_pairs(lst, s):\n",
    "    cache = set()\n",
    "    for i in lst:\n",
    "        if s - i in cache:\n",
    "            return [s - i, i]\n",
    "        cache.add(i)"
   ]
  },
  {
   "cell_type": "code",
   "execution_count": 19,
   "metadata": {
    "ExecuteTime": {
     "end_time": "2019-09-25T15:14:34.061147Z",
     "start_time": "2019-09-25T15:14:34.043829Z"
    }
   },
   "outputs": [
    {
     "data": {
      "text/plain": [
       "[3, 7]"
      ]
     },
     "execution_count": 19,
     "metadata": {},
     "output_type": "execute_result"
    },
    {
     "data": {
      "text/plain": [
       "[4, 2]"
      ]
     },
     "execution_count": 19,
     "metadata": {},
     "output_type": "execute_result"
    },
    {
     "data": {
      "text/plain": [
       "[3, 7]"
      ]
     },
     "execution_count": 19,
     "metadata": {},
     "output_type": "execute_result"
    }
   ],
   "source": [
    "sum_pairs([11, 3, 7, 5],10)\n",
    "sum_pairs([4, 3, 2, 3, 4],6)\n",
    "sum_pairs([0, 0, -2, 3], 2)\n",
    "sum_pairs([10, 5, 2, 3, 7, 5],10)"
   ]
  },
  {
   "cell_type": "markdown",
   "metadata": {
    "ExecuteTime": {
     "end_time": "2019-08-22T17:08:55.092495Z",
     "start_time": "2019-08-22T17:08:55.089510Z"
    }
   },
   "source": [
    "# [6kyu]String transformer[swapcase()]\n",
    "\n",
    "[solutions](https://www.codewars.com/kata/5878520d52628a092f0002d0/solutions/python)"
   ]
  },
  {
   "cell_type": "code",
   "execution_count": 121,
   "metadata": {
    "ExecuteTime": {
     "end_time": "2019-08-22T17:27:28.157168Z",
     "start_time": "2019-08-22T17:27:28.136823Z"
    }
   },
   "outputs": [
    {
     "data": {
      "text/plain": [
       "'STRING eXAMPLE'"
      ]
     },
     "execution_count": 121,
     "metadata": {},
     "output_type": "execute_result"
    }
   ],
   "source": [
    "# s.swapcase() 大小寫互換\n",
    "# upper isupper\n",
    "# lower islower\n",
    "\n",
    "s = 'Example string'\n",
    "\n",
    "def string_transformer(s):\n",
    "    return ' '.join(s.swapcase().split(' ')[::-1])\n",
    "\n",
    "string_transformer(s)"
   ]
  },
  {
   "cell_type": "markdown",
   "metadata": {},
   "source": [
    "\n",
    "# [6kyu]Persistent Bugger.[reduce(func, seq[, init()])]\n",
    "\n",
    "[solutions](https://www.codewars.com/kata/55bf01e5a717a0d57e0000ec/solutions/python)\n",
    "\n",
    "```\n",
    "# Because 3*9 = 27, 2*7 = 14, 1*4=4\n",
    "# and 4 has only one digit.\n",
    "persistence(39) => 3  \n",
    "\n",
    "# Because 9*9*9 = 729, 7*2*9 = 126,\n",
    "# 1*2*6 = 12, and finally 1*2 = 2.\n",
    "persistence(999) => 4 \n",
    "\n",
    "# Because 4 is already a one-digit number.\n",
    "persistence(4) => 0   \n",
    "```"
   ]
  },
  {
   "cell_type": "code",
   "execution_count": 8,
   "metadata": {
    "ExecuteTime": {
     "end_time": "2019-08-23T07:31:37.545603Z",
     "start_time": "2019-08-23T07:31:37.542131Z"
    }
   },
   "outputs": [],
   "source": [
    "# reduce(func, seq[, init()]) # init() = 初始值\n",
    "\n",
    "from functools import reduce\n",
    "from operator import mul\n",
    "\n",
    "def persistence(n):\n",
    "    return 0 if n<10 else persistence(\n",
    "        reduce(mul,[int(i) for i in str(n)],1)\n",
    "    )+1"
   ]
  },
  {
   "cell_type": "code",
   "execution_count": 10,
   "metadata": {
    "ExecuteTime": {
     "end_time": "2019-08-23T07:32:13.435672Z",
     "start_time": "2019-08-23T07:32:13.428729Z"
    }
   },
   "outputs": [
    {
     "data": {
      "text/plain": [
       "3"
      ]
     },
     "execution_count": 10,
     "metadata": {},
     "output_type": "execute_result"
    },
    {
     "data": {
      "text/plain": [
       "4"
      ]
     },
     "execution_count": 10,
     "metadata": {},
     "output_type": "execute_result"
    },
    {
     "data": {
      "text/plain": [
       "0"
      ]
     },
     "execution_count": 10,
     "metadata": {},
     "output_type": "execute_result"
    }
   ],
   "source": [
    "persistence(39)\n",
    "persistence(999)\n",
    "persistence(4)"
   ]
  },
  {
   "cell_type": "markdown",
   "metadata": {},
   "source": [
    "# [7kyu]Histogram - H1\n",
    "\n",
    "https://www.codewars.com/kata/histogram-h1/train/python\n",
    "\n",
    "[solutions](https://www.codewars.com/kata/57d532d2164a67cded0001c7/solutions/python)"
   ]
  },
  {
   "cell_type": "code",
   "execution_count": 12,
   "metadata": {
    "ExecuteTime": {
     "end_time": "2019-08-24T16:10:55.445977Z",
     "start_time": "2019-08-24T16:10:55.440989Z"
    }
   },
   "outputs": [
    {
     "name": "stdout",
     "output_type": "stream",
     "text": [
      "6|##### 5\n",
      "5|\n",
      "4|# 1\n",
      "3|########## 10\n",
      "2|### 3\n",
      "1|####### 7\n",
      "\n"
     ]
    }
   ],
   "source": [
    "def histogram(r):\n",
    "    return ''.join(\"{}|{}\\n\".format(\n",
    "        len(r)-i, \n",
    "        \"\" if not x else \"{} {}\".format(\"#\" * x, x)\n",
    "    ) for i,x in enumerate(r[::-1]))\n",
    "\n",
    "print(\n",
    "    histogram([7,3,10,1,0,5])\n",
    ")"
   ]
  },
  {
   "cell_type": "markdown",
   "metadata": {},
   "source": [
    "# [4kyu]Sum of Intervals\n",
    "\n",
    "https://www.codewars.com/kata/sum-of-intervals/python\n",
    "\n",
    "Intervals\n",
    "\n",
    "    [\n",
    "       [1,4],   => 4-1=3\n",
    "       [7, 10], => 10-7=3\n",
    "       [3, 5]   => 5-3=2\n",
    "    ]\n",
    "\n",
    "Overlapping intervals should only be counted once\n",
    "    \n",
    "    [1,4]\n",
    "    [3, 5]\n",
    "    => [1,5]\n",
    "    \n",
    "So,\n",
    "\n",
    "    sumIntervals([\n",
    "       [1,4],\n",
    "       [7, 10],\n",
    "       [3, 5]\n",
    "    ]) # => 7\n",
    " \n",
    "    \n",
    "Examples:\n",
    "\n",
    "    sumIntervals( [\n",
    "       [1,2],\n",
    "       [6, 10],\n",
    "       [11, 15]\n",
    "    ] ); // => 9\n",
    "\n",
    "    sumIntervals( [\n",
    "       [1,4],\n",
    "       [7, 10],\n",
    "       [3, 5]\n",
    "    ] ); // => 7\n",
    "\n",
    "    sumIntervals( [\n",
    "       [1,5],\n",
    "       [10, 20],\n",
    "       [1, 6],\n",
    "       [16, 19],\n",
    "       [5, 11]\n",
    "    ] ); // => 19\n",
    "    \n",
    "[solutions](https://www.codewars.com/kata/sum-of-intervals/solutions/python)"
   ]
  },
  {
   "cell_type": "code",
   "execution_count": 1,
   "metadata": {
    "ExecuteTime": {
     "end_time": "2019-08-26T08:01:26.924086Z",
     "start_time": "2019-08-26T08:01:26.919231Z"
    }
   },
   "outputs": [],
   "source": [
    "def sum_of_intervals(intervals):\n",
    "    result = set()\n",
    "    for start, stop in intervals:\n",
    "        for x in range(start, stop):\n",
    "            result.add(x)\n",
    "            \n",
    "    return len(result)"
   ]
  },
  {
   "cell_type": "code",
   "execution_count": 2,
   "metadata": {
    "ExecuteTime": {
     "end_time": "2019-08-26T08:01:37.269358Z",
     "start_time": "2019-08-26T08:01:37.258635Z"
    }
   },
   "outputs": [
    {
     "data": {
      "text/plain": [
       "19"
      ]
     },
     "execution_count": 2,
     "metadata": {},
     "output_type": "execute_result"
    }
   ],
   "source": [
    "sum_of_intervals( [\n",
    "   [1,5],\n",
    "   [10, 20],\n",
    "   [1, 6],\n",
    "   [16, 19],\n",
    "   [5, 11]\n",
    "] )"
   ]
  },
  {
   "cell_type": "markdown",
   "metadata": {},
   "source": [
    "#  [collections.Counter][6kyu] Find the odd int \n",
    "\n",
    "https://www.codewars.com/kata/find-the-odd-int/train/python\n",
    "\n",
    "[solutions](https://www.codewars.com/kata/54da5a58ea159efa38000836/solutions/python)\n",
    "\n",
    "找出基數個的int\n",
    "\n",
    "[20,1,-1,2,-2,3,3,5,5,1,2,4,20,4,-1,-2,5]  => 5"
   ]
  },
  {
   "cell_type": "code",
   "execution_count": 5,
   "metadata": {
    "ExecuteTime": {
     "end_time": "2019-08-28T05:42:35.025472Z",
     "start_time": "2019-08-28T05:42:35.019614Z"
    }
   },
   "outputs": [
    {
     "data": {
      "text/plain": [
       "[(20, 2), (1, 2), (-1, 2), (2, 2), (-2, 2), (3, 2), (5, 3), (4, 2)]"
      ]
     },
     "execution_count": 5,
     "metadata": {},
     "output_type": "execute_result"
    }
   ],
   "source": [
    "from collections import Counter\n",
    "def find_it(seq):\n",
    "    return [(k,v) for k, v in Counter(seq).items() ]#if v % 2 != 0][0]\n",
    "\n",
    "find_it([20,1,-1,2,-2,3,3,5,5,1,2,4,20,4,-1,-2,5]) "
   ]
  },
  {
   "cell_type": "code",
   "execution_count": 7,
   "metadata": {
    "ExecuteTime": {
     "end_time": "2019-08-28T05:44:13.816165Z",
     "start_time": "2019-08-28T05:44:13.811283Z"
    }
   },
   "outputs": [
    {
     "data": {
      "text/plain": [
       "5"
      ]
     },
     "execution_count": 7,
     "metadata": {},
     "output_type": "execute_result"
    }
   ],
   "source": [
    "def find_it2(seq):\n",
    "    return [x for x in seq if seq.count(x) % 2][0]\n",
    "\n",
    "find_it2([20,1,-1,2,-2,3,3,5,5,1,2,4,20,4,-1,-2,5]) "
   ]
  },
  {
   "cell_type": "markdown",
   "metadata": {},
   "source": [
    "# [6 kyu]Character frequency\n",
    "\n",
    "EX:\n",
    "\n",
    "    letter_frequency('aaAabb dddDD hhcc')\n",
    "    will return ->\n",
    "    [('d',5), ('a',4), ('b',2), ('c',2), ('h',2)]\n",
    "\n",
    "https://www.codewars.com/kata/character-frequency-1/train/python\n",
    "\n",
    "[solutions](https://www.codewars.com/kata/53e895e28f9e66a56900011a/solutions/python)"
   ]
  },
  {
   "cell_type": "code",
   "execution_count": 14,
   "metadata": {
    "ExecuteTime": {
     "end_time": "2019-10-07T15:54:30.355215Z",
     "start_time": "2019-10-07T15:54:30.352290Z"
    }
   },
   "outputs": [],
   "source": [
    "text = 'aaAabb dddDD hhcc'"
   ]
  },
  {
   "cell_type": "code",
   "execution_count": 15,
   "metadata": {
    "ExecuteTime": {
     "end_time": "2019-10-07T15:54:46.490487Z",
     "start_time": "2019-10-07T15:54:46.484631Z"
    }
   },
   "outputs": [
    {
     "data": {
      "text/plain": [
       "[('d', 5), ('a', 4), ('b', 2), ('c', 2), ('h', 2)]"
      ]
     },
     "execution_count": 15,
     "metadata": {},
     "output_type": "execute_result"
    }
   ],
   "source": [
    "def letter_frequency(text):\n",
    "    text = text.lower()\n",
    "    \n",
    "    return sorted(\n",
    "        list(set(\n",
    "            ((i,list(text).count(i))\n",
    "            for i in text if i.isalpha())\n",
    "        )),\n",
    "        key=lambda x: (-x[1],x[0]),\n",
    "    )\n",
    "\n",
    "letter_frequency(text)"
   ]
  },
  {
   "cell_type": "markdown",
   "metadata": {},
   "source": [
    "## collections.Counter"
   ]
  },
  {
   "cell_type": "code",
   "execution_count": 16,
   "metadata": {
    "ExecuteTime": {
     "end_time": "2019-10-07T15:54:57.827271Z",
     "start_time": "2019-10-07T15:54:57.821414Z"
    }
   },
   "outputs": [
    {
     "data": {
      "text/plain": [
       "[('d', 5), ('a', 4), ('b', 2), ('c', 2), ('h', 2)]"
      ]
     },
     "execution_count": 16,
     "metadata": {},
     "output_type": "execute_result"
    }
   ],
   "source": [
    "from collections import Counter\n",
    "\n",
    "def letter_frequency(text):\n",
    "    items = Counter(c for c in text.lower() if c.isalpha()).items()\n",
    "    return sorted(\n",
    "        items,\n",
    "        key=lambda x: (-x[1],x[0]),\n",
    "    )\n",
    "\n",
    "letter_frequency(text)"
   ]
  },
  {
   "cell_type": "code",
   "execution_count": 7,
   "metadata": {
    "ExecuteTime": {
     "end_time": "2019-10-07T15:52:09.642065Z",
     "start_time": "2019-10-07T15:52:09.637186Z"
    }
   },
   "outputs": [
    {
     "data": {
      "text/plain": [
       "dict_items([('a', 4), ('b', 2), ('d', 5), ('h', 2), ('c', 2)])"
      ]
     },
     "execution_count": 7,
     "metadata": {},
     "output_type": "execute_result"
    }
   ],
   "source": [
    "items = Counter(c for c in text.lower() if c.isalpha()).items()\n",
    "items"
   ]
  },
  {
   "cell_type": "code",
   "execution_count": 11,
   "metadata": {
    "ExecuteTime": {
     "end_time": "2019-10-07T15:53:29.282340Z",
     "start_time": "2019-10-07T15:53:29.275512Z"
    }
   },
   "outputs": [
    {
     "data": {
      "text/plain": [
       "Counter({'a': 4, 'b': 2, 'd': 5, 'h': 2, 'c': 2})"
      ]
     },
     "execution_count": 11,
     "metadata": {},
     "output_type": "execute_result"
    }
   ],
   "source": [
    "Counter([c for c in text.lower() if c.isalpha()])#.items()"
   ]
  },
  {
   "cell_type": "code",
   "execution_count": 17,
   "metadata": {
    "ExecuteTime": {
     "end_time": "2019-10-07T15:56:11.204824Z",
     "start_time": "2019-10-07T15:56:11.199972Z"
    }
   },
   "outputs": [
    {
     "data": {
      "text/plain": [
       "dict_items([(1, 'a'), (2, 'c')])"
      ]
     },
     "execution_count": 17,
     "metadata": {},
     "output_type": "execute_result"
    }
   ],
   "source": [
    "{1:'a',2:'c'}.items()"
   ]
  },
  {
   "cell_type": "markdown",
   "metadata": {},
   "source": [
    "# [5 kyu] Simple Pig Latin\n",
    "\n",
    "https://www.codewars.com/kata/simple-pig-latin/train/python\n",
    "    \n",
    "首字母移到最後，再加上'ay' ,其他字符不變\n",
    "\n",
    "'Hello world !' => elloHay orldway !"
   ]
  },
  {
   "cell_type": "code",
   "execution_count": 17,
   "metadata": {
    "ExecuteTime": {
     "end_time": "2019-08-29T15:32:49.676641Z",
     "start_time": "2019-08-29T15:32:49.669845Z"
    }
   },
   "outputs": [
    {
     "data": {
      "text/plain": [
       "'elloHay orldway !'"
      ]
     },
     "execution_count": 17,
     "metadata": {},
     "output_type": "execute_result"
    }
   ],
   "source": [
    "def pig_it(text):\n",
    "    return ' '.join([i[1:] + i[0] + 'ay' if i.isalpha() else i for i in text.split() ])\n",
    "\n",
    "\n",
    "pig_it('Hello world !')    \n"
   ]
  },
  {
   "cell_type": "markdown",
   "metadata": {},
   "source": [
    "## 字串判斷\n",
    "\n",
    "**來源**\n",
    "http://www.runoob.com/python3/python3-check-string.html"
   ]
  },
  {
   "cell_type": "code",
   "execution_count": 18,
   "metadata": {
    "ExecuteTime": {
     "end_time": "2019-08-29T15:33:49.360548Z",
     "start_time": "2019-08-29T15:33:49.354692Z"
    }
   },
   "outputs": [
    {
     "name": "stdout",
     "output_type": "stream",
     "text": [
      "测试实例一\n",
      "False\n",
      "False\n",
      "False\n",
      "True\n",
      "False\n",
      "False\n",
      "False\n"
     ]
    }
   ],
   "source": [
    "# 测试实例一\n",
    "print(\"测试实例一\")\n",
    "str = \"runoob.com\"\n",
    "print(str.isalnum()) # 判断所有字符都是数字或者字母\n",
    "print(str.isalpha()) # 判断所有字符都是字母\n",
    "print(str.isdigit()) # 判断所有字符都是数字\n",
    "print(str.islower()) # 判断所有字符都是小写\n",
    "print(str.isupper()) # 判断所有字符都是大写\n",
    "print(str.istitle()) # 判断所有单词都是首字母大写，像标题\n",
    "print(str.isspace()) # 判断所有字符都是空白字符、\\t、\\n、\\r\n"
   ]
  },
  {
   "cell_type": "markdown",
   "metadata": {},
   "source": [
    "# [6 kyu] The Supermarket Queue\n",
    "\n",
    "https://www.codewars.com/kata/the-supermarket-queue/train/python\n",
    "\n"
   ]
  },
  {
   "cell_type": "markdown",
   "metadata": {},
   "source": [
    "There is a queue for the self-checkout tills at the supermarket.\n",
    "\n",
    "Your task is write a function to calculate the total time required for all the customers to check out!\n",
    "\n",
    "input\n",
    "    \n",
    "customers: \n",
    "    \n",
    "    an array of positive integers representing the queue. Each integer represents a customer, and its value is the amount of time they require to check out.\n",
    "    \n",
    "n: \n",
    "\n",
    "    a positive integer, the number of checkout tills.\n",
    "    \n",
    "    \n",
    "output\n",
    "\n",
    "    The function should return an integer, the total time required.    \n",
    "    \n",
    "[solutions](https://www.codewars.com/kata/57b06f90e298a7b53d000a86/solutions/python)"
   ]
  },
  {
   "cell_type": "code",
   "execution_count": 19,
   "metadata": {
    "ExecuteTime": {
     "end_time": "2019-08-30T14:29:44.524296Z",
     "start_time": "2019-08-30T14:29:44.513551Z"
    }
   },
   "outputs": [],
   "source": [
    "def queue_time(customers, n):\n",
    "    \n",
    "    nList = [0 for i in range(n)]\n",
    "    for i in customers:\n",
    "        nList = sorted(nList)\n",
    "        nList[0] += i\n",
    "\n",
    "    return max(nList)\n",
    "\n",
    "\n",
    "# by [solutions]\n",
    "def queue_time2(customers, n):\n",
    "    l=[0]*n\n",
    "    for i in customers:\n",
    "        l[l.index(min(l))]+=i\n",
    "    return max(l)"
   ]
  },
  {
   "cell_type": "code",
   "execution_count": 20,
   "metadata": {
    "ExecuteTime": {
     "end_time": "2019-08-30T14:29:49.041614Z",
     "start_time": "2019-08-30T14:29:48.941940Z"
    }
   },
   "outputs": [
    {
     "data": {
      "text/plain": [
       "12"
      ]
     },
     "execution_count": 20,
     "metadata": {},
     "output_type": "execute_result"
    },
    {
     "data": {
      "text/plain": [
       "10"
      ]
     },
     "execution_count": 20,
     "metadata": {},
     "output_type": "execute_result"
    },
    {
     "data": {
      "text/plain": [
       "12"
      ]
     },
     "execution_count": 20,
     "metadata": {},
     "output_type": "execute_result"
    }
   ],
   "source": [
    "queue_time([5,3,4], 1) # should return 12\n",
    "queue_time([10,2,3,3], 2) # should return 10\n",
    "queue_time([2,3,10], 2) # should return 12"
   ]
  },
  {
   "cell_type": "markdown",
   "metadata": {},
   "source": [
    "# [6 kyu]Consecutive strings\n",
    "\n",
    "https://www.codewars.com/kata/consecutive-strings/train/python\n",
    "\n",
    "You are given an array `strarr` of strings and an integer `k`. \n",
    "\n",
    "Your task is to return the first longest string consisting of k consecutive strings taken in the array.\n",
    "\n",
    "**consisting of 包含由...組成**\n",
    "\n",
    "**consecutive 連續 adj**\n",
    "\n",
    "ex.\n",
    "\n",
    "    strarr = [\"it\",\"wkppv\",\"ixoyx\", \"3452\", \"zzzzzzzzzzzz\"], \n",
    "    k = 3 \n",
    "    # consecutive 3 string in strarr \n",
    "    # \"ixoyx\", \"3452\", \"zzzzzzzzzzzz\" is the first longest\n",
    "    => 'ixoyx3452zzzzzzzzzzzz'\n",
    "\n",
    "\n",
    "[solutions](https://www.codewars.com/kata/consecutive-strings/solutions/python)"
   ]
  },
  {
   "cell_type": "code",
   "execution_count": 22,
   "metadata": {
    "ExecuteTime": {
     "end_time": "2019-08-31T15:06:33.011274Z",
     "start_time": "2019-08-31T15:06:33.003439Z"
    }
   },
   "outputs": [],
   "source": [
    "\n",
    "# by solutions\n",
    "def longest_consec(strarr, k):\n",
    "    result = \"\"\n",
    "    \n",
    "    if k > 0 and len(strarr) >= k:\n",
    "        for index in range(len(strarr) - k + 1):\n",
    "            s = ''.join(strarr[index:index+k])\n",
    "            if len(s) > len(result):\n",
    "                result = s\n",
    "            \n",
    "    return result\n",
    "\n",
    "\n",
    "# by myself\n",
    "def longest_consec(strarr, k):\n",
    "    \n",
    "    n_strarr = len(strarr)\n",
    "    \n",
    "    if n_strarr == 0 or k > n_strarr or k <= 0:\n",
    "        return ''\n",
    "    else:\n",
    "        res = ''\n",
    "        max_str_long = 0\n",
    "    \n",
    "        for i in range(0,n_strarr-k+1):\n",
    "        \n",
    "            tmp_str = ''\n",
    "            \n",
    "            for j in strarr[i:i+k]:\n",
    "                tmp_str += j\n",
    "            \n",
    "            if len(tmp_str) > max_str_long:\n",
    "                max_str_long = len(tmp_str)\n",
    "                res = tmp_str\n",
    "    \n",
    "        return res"
   ]
  },
  {
   "cell_type": "code",
   "execution_count": 24,
   "metadata": {
    "ExecuteTime": {
     "end_time": "2019-08-31T15:08:35.007768Z",
     "start_time": "2019-08-31T15:08:35.002890Z"
    }
   },
   "outputs": [
    {
     "data": {
      "text/plain": [
       "'ixoyx3452zzzzzzzzzzzz'"
      ]
     },
     "execution_count": 24,
     "metadata": {},
     "output_type": "execute_result"
    }
   ],
   "source": [
    "longest_consec([\"it\",\"wkppv\",\"ixoyx\", \"3452\", \"zzzzzzzzzzzz\"], 3)"
   ]
  },
  {
   "cell_type": "markdown",
   "metadata": {},
   "source": [
    "# [4 kyu]Snail\n",
    "\n",
    "https://www.codewars.com/kata/snail/python\n",
    "\n",
    "順時針螺旋排序\n",
    "\n",
    "ex\n",
    "\n",
    "    array = [[1,2,3],\n",
    "             [4,5,6],\n",
    "             [7,8,9]]\n",
    "    snail(array) #=> [1,2,3,6,9,8,7,4,5]    \n",
    "\n",
    "    array = [[1,2,3],\n",
    "             [8,9,4],\n",
    "             [7,6,5]]\n",
    "    snail(array) #=> [1,2,3,4,5,6,7,8,9]\n",
    "\n",
    "---\n",
    "[solutions](https://www.codewars.com/kata/521c2db8ddc89b9b7a0000c1/solutions/python)"
   ]
  },
  {
   "cell_type": "code",
   "execution_count": 145,
   "metadata": {
    "ExecuteTime": {
     "end_time": "2019-09-05T16:08:10.938824Z",
     "start_time": "2019-09-05T16:08:10.934920Z"
    }
   },
   "outputs": [],
   "source": [
    "array = [[1,2,3],\n",
    "         [4,5,6],\n",
    "         [7,8,9]]"
   ]
  },
  {
   "cell_type": "markdown",
   "metadata": {},
   "source": [
    "## zip(*)"
   ]
  },
  {
   "cell_type": "code",
   "execution_count": 117,
   "metadata": {
    "ExecuteTime": {
     "end_time": "2019-09-05T15:05:42.729225Z",
     "start_time": "2019-09-05T15:05:42.723370Z"
    }
   },
   "outputs": [
    {
     "data": {
      "text/plain": [
       "[[0, 0, 0], [1, 1, 1], [2, 2, 2]]"
      ]
     },
     "execution_count": 117,
     "metadata": {},
     "output_type": "execute_result"
    }
   ],
   "source": [
    "arr = [[i]*3 for i in range(3)]\n",
    "arr"
   ]
  },
  {
   "cell_type": "code",
   "execution_count": 129,
   "metadata": {
    "ExecuteTime": {
     "end_time": "2019-09-05T15:21:59.986747Z",
     "start_time": "2019-09-05T15:21:59.981867Z"
    }
   },
   "outputs": [
    {
     "name": "stdout",
     "output_type": "stream",
     "text": [
      "(1, 2)\n",
      "(1, 2)\n",
      "(1, 2)\n"
     ]
    }
   ],
   "source": [
    "for i in list(zip(*arr[1:]):\n",
    "    print(i)"
   ]
  },
  {
   "cell_type": "code",
   "execution_count": 134,
   "metadata": {
    "ExecuteTime": {
     "end_time": "2019-09-05T15:23:14.752732Z",
     "start_time": "2019-09-05T15:23:14.747851Z"
    }
   },
   "outputs": [
    {
     "data": {
      "text/plain": [
       "[(2, 2), (1, 1)]"
      ]
     },
     "execution_count": 134,
     "metadata": {},
     "output_type": "execute_result"
    }
   ],
   "source": [
    "list(zip(*a[1:]))[::-1]"
   ]
  },
  {
   "cell_type": "code",
   "execution_count": 148,
   "metadata": {
    "ExecuteTime": {
     "end_time": "2019-09-05T16:08:23.370574Z",
     "start_time": "2019-09-05T16:08:23.364719Z"
    }
   },
   "outputs": [
    {
     "data": {
      "text/plain": [
       "[1, 2, 3, 6, 9, 8, 7, 4, 5]"
      ]
     },
     "execution_count": 148,
     "metadata": {},
     "output_type": "execute_result"
    }
   ],
   "source": [
    "def snail(array):\n",
    "    arr = array[:]\n",
    "    a = []\n",
    "    while arr:\n",
    "        a.extend(list(arr.pop(0)))\n",
    "        arr= list(zip(*arr))\n",
    "        arr.reverse()\n",
    "    return a\n",
    "\n",
    "snail(array)"
   ]
  },
  {
   "cell_type": "markdown",
   "metadata": {},
   "source": [
    "## numpy"
   ]
  },
  {
   "cell_type": "code",
   "execution_count": 152,
   "metadata": {
    "ExecuteTime": {
     "end_time": "2019-09-05T16:09:47.289696Z",
     "start_time": "2019-09-05T16:09:47.283841Z"
    }
   },
   "outputs": [
    {
     "data": {
      "text/plain": [
       "[1, 2, 3, 6, 9, 8, 7, 4, 5]"
      ]
     },
     "execution_count": 152,
     "metadata": {},
     "output_type": "execute_result"
    }
   ],
   "source": [
    "import numpy as np\n",
    "\n",
    "def snail(array):\n",
    "    m = []\n",
    "    arr = np.array(array)\n",
    "    while len(arr) > 0:\n",
    "        m += arr[0].tolist()\n",
    "        # rot90 陣列(逆時針)選轉90度\n",
    "        arr = np.rot90(arr[1:])\n",
    "    return m\n",
    "\n",
    "snail(array)"
   ]
  },
  {
   "cell_type": "code",
   "execution_count": 156,
   "metadata": {
    "ExecuteTime": {
     "end_time": "2019-09-05T16:13:47.175644Z",
     "start_time": "2019-09-05T16:13:47.168812Z"
    }
   },
   "outputs": [
    {
     "data": {
      "text/plain": [
       "[1, 2, 3, 6, 9, 8, 7, 4, 5]"
      ]
     },
     "execution_count": 156,
     "metadata": {},
     "output_type": "execute_result"
    }
   ],
   "source": [
    "import numpy as np\n",
    "\n",
    "def snail(array):\n",
    "    arr = np.array(array)\n",
    "    \n",
    "    if len(arr) < 2:\n",
    "        # flatten() : [[1]] => [1] i.e 2d -> 1d\n",
    "        # 任意維度 -> 1維\n",
    "        return arr.flatten().tolist()\n",
    "    \n",
    "    tp = arr[0, :].tolist()\n",
    "    rt = arr[1:-1, -1].tolist()\n",
    "    \n",
    "    bm = arr[-1, :][::-1].tolist()\n",
    "    lt = arr[1:-1, 0][::-1].tolist()    \n",
    "    \n",
    "    return tp + rt + bm + lt + snail(arr[1:-1, 1:-1])\n",
    "\n",
    "snail(array)"
   ]
  },
  {
   "cell_type": "code",
   "execution_count": 167,
   "metadata": {
    "ExecuteTime": {
     "end_time": "2019-09-05T16:19:24.529274Z",
     "start_time": "2019-09-05T16:19:24.523419Z"
    }
   },
   "outputs": [
    {
     "data": {
      "text/plain": [
       "array([1, 2, 3, 4])"
      ]
     },
     "execution_count": 167,
     "metadata": {},
     "output_type": "execute_result"
    }
   ],
   "source": [
    "np.array([[[1],[2]],[[3],[4]]]).flatten()"
   ]
  },
  {
   "cell_type": "markdown",
   "metadata": {},
   "source": [
    "# [5 kyu]Weight for weight\n",
    "\n",
    "https://www.codewars.com/kata/weight-for-weight/train/python\n",
    "\n",
    "\n",
    "Example:\n",
    "\n",
    "    \"56 65 74 100 99 68 86 180 90\" \n",
    "    ordered by numbers weights becomes: \n",
    "        \"100 180 90 56 65 74 68 86 99\"\n",
    "        \n",
    "100 is before 180 because its \"weight\" (1: 1+0+0=1) is less than the one of 180 (9: 1+8+0=9)\n",
    "\n",
    "180 is before 90 because string \"180\" < string \"90\"\n",
    "\n",
    "[solutions](https://www.codewars.com/kata/55c6126177c9441a570000cc/solutions/python)"
   ]
  },
  {
   "cell_type": "code",
   "execution_count": 10,
   "metadata": {
    "ExecuteTime": {
     "end_time": "2019-09-12T15:46:04.252542Z",
     "start_time": "2019-09-12T15:46:04.246702Z"
    }
   },
   "outputs": [
    {
     "data": {
      "text/plain": [
       "True"
      ]
     },
     "execution_count": 10,
     "metadata": {},
     "output_type": "execute_result"
    }
   ],
   "source": [
    "s = \"2000 10003 1234000 44444444 9999 11 11 22 123\"\n",
    "ans = \"11 11 2000 10003 22 123 1234000 44444444 9999\"\n"
   ]
  },
  {
   "cell_type": "code",
   "execution_count": 12,
   "metadata": {
    "ExecuteTime": {
     "end_time": "2019-09-12T15:46:09.152797Z",
     "start_time": "2019-09-12T15:46:09.144989Z"
    }
   },
   "outputs": [
    {
     "data": {
      "text/plain": [
       "True"
      ]
     },
     "execution_count": 12,
     "metadata": {},
     "output_type": "execute_result"
    }
   ],
   "source": [
    "def order_weight(strng):\n",
    "    return \" \".join( \n",
    "        sorted(\n",
    "            strng.split(), key=lambda x: (sum(int(d) for d in x) , x)  \n",
    "        ) \n",
    "    )\n",
    "\n",
    "order_weight(s) == ans"
   ]
  },
  {
   "cell_type": "markdown",
   "metadata": {},
   "source": [
    "## sorted 多重排序"
   ]
  },
  {
   "cell_type": "code",
   "execution_count": 11,
   "metadata": {
    "ExecuteTime": {
     "end_time": "2019-09-12T15:46:06.845400Z",
     "start_time": "2019-09-12T15:46:06.838566Z"
    }
   },
   "outputs": [
    {
     "data": {
      "text/plain": [
       "True"
      ]
     },
     "execution_count": 11,
     "metadata": {},
     "output_type": "execute_result"
    }
   ],
   "source": [
    "def order_weight(strng):\n",
    "\n",
    "    return ' '.join([x[0] for x in\n",
    "        sorted(\n",
    "            [ (i, sum([int(j) for j in i]))\n",
    "            for i in strng.split()],\n",
    "            key=lambda x: (x[1], x[0])\n",
    "        )\n",
    "    ])\n",
    "\n",
    "order_weight(s) == ans"
   ]
  },
  {
   "cell_type": "markdown",
   "metadata": {},
   "source": [
    "# [5 kyu]Scramblies\n",
    "\n",
    "https://www.codewars.com/kata/scramblies/train/python\n",
    "\n",
    "scramble(s1, s2) => s1 是否能重組成\n",
    "\n",
    "EX:\n",
    "\n",
    "    scramble('rkqodlw', 'world') ==> True\n",
    "    scramble('cedewaraaossoqqyt', 'codewars') ==> True\n",
    "    scramble('katas', 'steak') ==> False\n",
    "\n",
    "\n",
    "[solutions](https://www.codewars.com/kata/55c04b4cc56a697bb0000048/solutions/python)"
   ]
  },
  {
   "cell_type": "code",
   "execution_count": null,
   "metadata": {},
   "outputs": [],
   "source": [
    "def scramble(s1,s2):\n",
    "    for c in set(s2):\n",
    "        if s1.count(c) < s2.count(c):\n",
    "            return False\n",
    "    return True"
   ]
  },
  {
   "cell_type": "code",
   "execution_count": null,
   "metadata": {},
   "outputs": [],
   "source": [
    "from collections import Counter\n",
    "\n",
    "def scramble(s1, s2):\n",
    "    CountS1 = { k:v for k, v in Counter(s1).items()}\n",
    "    CountS2 = { k:v for k, v in Counter(s2).items()}\n",
    "    for i in CountS2.items():\n",
    "        if i[0] not in CountS1.keys() or \\\n",
    "            CountS1[i[0]] < CountS2[i[0]]:\n",
    "            return False\n",
    "    else:\n",
    "        return True"
   ]
  },
  {
   "cell_type": "code",
   "execution_count": null,
   "metadata": {},
   "outputs": [],
   "source": []
  },
  {
   "cell_type": "code",
   "execution_count": null,
   "metadata": {},
   "outputs": [],
   "source": []
  },
  {
   "cell_type": "code",
   "execution_count": null,
   "metadata": {},
   "outputs": [],
   "source": []
  },
  {
   "cell_type": "code",
   "execution_count": null,
   "metadata": {},
   "outputs": [],
   "source": []
  },
  {
   "cell_type": "markdown",
   "metadata": {},
   "source": [
    "# Learn\n",
    "\n",
    "## Python’s LINQ Equivalents – filter(), map() and list comprehension\n",
    "\n",
    "[Python’s LINQ Equivalents – filter(), map() and list comprehension](http://web.archive.org/web/20120701011507/http://www.codebadger.com/blog/post/2009/06/01/Pythone28099s-LINQ-Equivalents-e28093-filter%28%29-map%28%29-and-list-comprehension.aspx)"
   ]
  },
  {
   "cell_type": "code",
   "execution_count": null,
   "metadata": {},
   "outputs": [],
   "source": []
  },
  {
   "cell_type": "code",
   "execution_count": null,
   "metadata": {},
   "outputs": [],
   "source": []
  },
  {
   "cell_type": "code",
   "execution_count": null,
   "metadata": {},
   "outputs": [],
   "source": []
  },
  {
   "cell_type": "code",
   "execution_count": null,
   "metadata": {},
   "outputs": [],
   "source": []
  },
  {
   "cell_type": "code",
   "execution_count": null,
   "metadata": {},
   "outputs": [],
   "source": []
  },
  {
   "cell_type": "code",
   "execution_count": null,
   "metadata": {},
   "outputs": [],
   "source": []
  },
  {
   "cell_type": "code",
   "execution_count": null,
   "metadata": {},
   "outputs": [],
   "source": []
  },
  {
   "cell_type": "code",
   "execution_count": null,
   "metadata": {},
   "outputs": [],
   "source": []
  },
  {
   "cell_type": "code",
   "execution_count": null,
   "metadata": {},
   "outputs": [],
   "source": []
  },
  {
   "cell_type": "code",
   "execution_count": null,
   "metadata": {},
   "outputs": [],
   "source": []
  },
  {
   "cell_type": "code",
   "execution_count": null,
   "metadata": {},
   "outputs": [],
   "source": []
  },
  {
   "cell_type": "code",
   "execution_count": null,
   "metadata": {},
   "outputs": [],
   "source": []
  },
  {
   "cell_type": "code",
   "execution_count": null,
   "metadata": {},
   "outputs": [],
   "source": []
  },
  {
   "cell_type": "code",
   "execution_count": null,
   "metadata": {},
   "outputs": [],
   "source": []
  },
  {
   "cell_type": "code",
   "execution_count": null,
   "metadata": {},
   "outputs": [],
   "source": []
  },
  {
   "cell_type": "code",
   "execution_count": null,
   "metadata": {},
   "outputs": [],
   "source": []
  },
  {
   "cell_type": "code",
   "execution_count": null,
   "metadata": {},
   "outputs": [],
   "source": []
  },
  {
   "cell_type": "code",
   "execution_count": null,
   "metadata": {},
   "outputs": [],
   "source": []
  },
  {
   "cell_type": "code",
   "execution_count": null,
   "metadata": {},
   "outputs": [],
   "source": []
  },
  {
   "cell_type": "code",
   "execution_count": null,
   "metadata": {},
   "outputs": [],
   "source": []
  },
  {
   "cell_type": "code",
   "execution_count": null,
   "metadata": {},
   "outputs": [],
   "source": []
  }
 ],
 "metadata": {
  "hide_input": false,
  "kernelspec": {
   "display_name": "Python [default]",
   "language": "python",
   "name": "python3"
  },
  "language_info": {
   "codemirror_mode": {
    "name": "ipython",
    "version": 3
   },
   "file_extension": ".py",
   "mimetype": "text/x-python",
   "name": "python",
   "nbconvert_exporter": "python",
   "pygments_lexer": "ipython3",
   "version": "3.6.5"
  },
  "toc": {
   "base_numbering": 1,
   "nav_menu": {},
   "number_sections": true,
   "sideBar": true,
   "skip_h1_title": false,
   "title_cell": "Table of Contents",
   "title_sidebar": "Contents",
   "toc_cell": true,
   "toc_position": {
    "height": "calc(100% - 180px)",
    "left": "10px",
    "top": "150px",
    "width": "192px"
   },
   "toc_section_display": true,
   "toc_window_display": true
  },
  "varInspector": {
   "cols": {
    "lenName": 16,
    "lenType": 16,
    "lenVar": 40
   },
   "kernels_config": {
    "python": {
     "delete_cmd_postfix": "",
     "delete_cmd_prefix": "del ",
     "library": "var_list.py",
     "varRefreshCmd": "print(var_dic_list())"
    },
    "r": {
     "delete_cmd_postfix": ") ",
     "delete_cmd_prefix": "rm(",
     "library": "var_list.r",
     "varRefreshCmd": "cat(var_dic_list()) "
    }
   },
   "position": {
    "height": "249px",
    "left": "631px",
    "right": "20px",
    "top": "122px",
    "width": "350px"
   },
   "types_to_exclude": [
    "module",
    "function",
    "builtin_function_or_method",
    "instance",
    "_Feature"
   ],
   "window_display": false
  }
 },
 "nbformat": 4,
 "nbformat_minor": 2
}
