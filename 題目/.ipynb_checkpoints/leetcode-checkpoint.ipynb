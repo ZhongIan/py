{
 "cells": [
  {
   "cell_type": "markdown",
   "metadata": {},
   "source": [
    "# 542. 01 Matrix\n",
    "\n",
    "[**問題**](https://leetcode.com/problems/01-matrix/)\n",
    "\n",
    "[**解答**](https://leetcode.com/problems/01-matrix/discuss/314072/Python-Easy-to-understand-with-comments)"
   ]
  },
  {
   "cell_type": "markdown",
   "metadata": {},
   "source": [
    "\n",
    "Given a matrix consists of 0 and 1, find the distance of the nearest 0 for each cell.\n",
    "\n",
    "The distance between two adjacent cells is 1.\n",
    "\n",
    "給定矩陣由0和1組成，找到每個單元格最近的0的距離。\n",
    "\n",
    "兩個相鄰小區之間的距離為1。\n",
    "\n",
    "\n",
    "Example 1:\n",
    "\n",
    "Input:\n",
    "\n",
    "    [[0,0,0],\n",
    "     [0,1,0],\n",
    "     [0,0,0]]\n",
    "\n",
    "Output:\n",
    "\n",
    "    [[0,0,0],\n",
    "     [0,1,0],\n",
    "     [0,0,0]]\n",
    "     \n",
    "Example 2:\n",
    "\n",
    "Input:\n",
    "\n",
    "    [[0,0,0],\n",
    "     [0,1,0],\n",
    "     [1,1,1]]\n",
    "\n",
    "Output:\n",
    "\n",
    "    [[0,0,0],\n",
    "     [0,1,0],\n",
    "     [1,2,1]]\n",
    " \n",
    "Note:\n",
    "\n",
    "1. The number of elements of the given matrix will not exceed 10,000.\n",
    "2. There are at least one 0 in the given matrix.\n",
    "3. The cells are adjacent in only four directions: up, down, left and right.\n",
    "\n",
    "---\n",
    "\n",
    "1. 給定矩陣的元素數量不會超過10,000。\n",
    "2. 給定矩陣中至少有一個0。\n",
    "3. 細胞僅在四個方向上相鄰：向上，向下，向左和向右。"
   ]
  },
  {
   "cell_type": "code",
   "execution_count": 6,
   "metadata": {
    "ExecuteTime": {
     "end_time": "2019-07-26T12:24:59.109954Z",
     "start_time": "2019-07-26T12:24:59.103125Z"
    }
   },
   "outputs": [],
   "source": [
    "import collections\n",
    "\n",
    "class Solution:\n",
    "    def updateMatrix(self, matrix):\n",
    "        '''\n",
    "        matrix: List[List[int]]\n",
    "        \n",
    "        rtype: -> List[List[int]]\n",
    "        '''\n",
    "        # trivial case\n",
    "        # matrix(n,m)，確認維度(n,m) > 0\n",
    "        n = len(matrix)\n",
    "        if n < 1:\n",
    "            return matrix\n",
    "        m = len(matrix[0])\n",
    "        if m < 1:\n",
    "            return matrix\n",
    "        \n",
    "        q = collections.deque()\n",
    "        \n",
    "        # 0 賦值 0 放進列隊(deque) ； 1 賦值 -1 \n",
    "        # enqueue all zeros in a bfs layer/breadth and move outwards\n",
    "        for i in range(n):\n",
    "            for j in range(m):\n",
    "                if matrix[i][j] == 0:\n",
    "                    q.append((i,j))\n",
    "                else:\n",
    "                    matrix[i][j] = -1\n",
    "                    \n",
    "        # 列隊(deque)中，抽出一個，往上下左右((0,1),(1,0),(0,-1),(-1,0))移動，\n",
    "        # 遇到-1，則等於 自已(0)+ 1，再次放進列隊(deque)，\n",
    "        # 重複(遇到-1，則等於 自已(1)+ 1)...\n",
    "        while q:\n",
    "            u = q.popleft()\n",
    "            urow = u[0]\n",
    "            ucol = u[1]\n",
    "            for adj in [(0,1),(1,0),(0,-1),(-1,0)]:\n",
    "                v = (urow + adj[0],ucol + adj[1])\n",
    "                vrow = v[0]\n",
    "                vcol = v[1]\n",
    "                \n",
    "                # 超過界線(略過)\n",
    "                # out of bound check\n",
    "                if vrow < 0 or vrow >= n:\n",
    "                    continue\n",
    "                if vcol < 0 or vcol >= m:\n",
    "                    continue\n",
    "                    \n",
    "                # >= 0 (略過)    \n",
    "                # skip visited\n",
    "                if matrix[vrow][vcol] >= 0:\n",
    "                    continue\n",
    "                \n",
    "                # 更新距離 = 自已 + 1\n",
    "                # update distance\n",
    "                matrix[vrow][vcol] = matrix[urow][ucol] + 1\n",
    "                \n",
    "                q.append(v)\n",
    "        return matrix\n",
    "    "
   ]
  },
  {
   "cell_type": "code",
   "execution_count": 13,
   "metadata": {
    "ExecuteTime": {
     "end_time": "2019-07-26T12:27:04.275636Z",
     "start_time": "2019-07-26T12:27:04.270756Z"
    }
   },
   "outputs": [
    {
     "name": "stdout",
     "output_type": "stream",
     "text": [
      "[0, 0, 0]\n",
      "[0, 1, 0]\n",
      "[1, 2, 1]\n"
     ]
    }
   ],
   "source": [
    "matrix=[\n",
    "    [0,0,0],\n",
    "    [0,1,0],\n",
    "    [1,1,1]\n",
    "]\n",
    "\n",
    "S = Solution()\n",
    "print(*S.updateMatrix(matrix), sep=\"\\n\")"
   ]
  },
  {
   "cell_type": "markdown",
   "metadata": {},
   "source": [
    "\n",
    "# 717. 1-bit and 2-bit Characters\n",
    "\n",
    "[題目](https://leetcode.com/problems/1-bit-and-2-bit-characters/)\n",
    "\n",
    "[解答](https://leetcode.com/problems/1-bit-and-2-bit-characters/solution/)"
   ]
  },
  {
   "cell_type": "markdown",
   "metadata": {},
   "source": [
    "We have two special characters. The first character can be represented by one bit 0. The second character can be represented by two bits (10 or 11).\n",
    "\n",
    "Now given a string represented by several bits. Return whether the last character must be a one-bit character or not. The given string will always end with a zero.\n",
    "\n",
    "我們有兩個特殊字符。第一個字符可以用一位表示0。第二個字符可以用兩位（10或11）表示。\n",
    "\n",
    "現在給出一個由幾位表示的字符串。返回最後一個字符是否必須是一位字符。給定的字符串總是(1 or 0)以0結尾。\n",
    "\n",
    "輸入：  \n",
    "\n",
    "    bits = [1,0,0] -> (1,0) (0)\n",
    "\n",
    "輸出： \n",
    "\n",
    "    True\n",
    "    \n",
    "輸入：  \n",
    "    \n",
    "    bits = [1,1,1,0]  -> (1,1) (1,0)\n",
    "    \n",
    "輸出： \n",
    "    \n",
    "    False\n",
    "        "
   ]
  },
  {
   "cell_type": "code",
   "execution_count": 25,
   "metadata": {
    "ExecuteTime": {
     "end_time": "2019-07-30T13:02:33.203124Z",
     "start_time": "2019-07-30T13:02:33.197268Z"
    }
   },
   "outputs": [],
   "source": [
    "# by self\n",
    "class mySolution:\n",
    "    def isOneBitCharacter(self, bits:[int]) -> bool:\n",
    "        \n",
    "        # 另外思考,太多分支，只取 -2\n",
    "        # [...,0,0] -> (...) (0)\n",
    "        if len(bits) >= 2 and bits[-2] == 0:\n",
    "            return True\n",
    "        \n",
    "        '''\n",
    "        # 太多分支\n",
    "        # [...,1,0] \n",
    "        else:\n",
    "            # [...,0,1,1,0]\n",
    "            if bits[-3] != 0 and bits[-4] == 0:\n",
    "                return True\n",
    "            # [...,1,0,1,0] False\n",
    "            # [...,1,1,1,0] False -> [...,0,1,1,1,1,0] True\n",
    "            # [...,0,0,1,0] False    [...,1,1,1,1,1,0] False -> [...,1,1,1,1,1,1,0] True\n",
    "             \n",
    "        '''\n",
    "        i = 0 \n",
    "        while i < len(bits) - 1:\n",
    "            if (bits[i]==1): # and (bits[i+1]==1) and (bits[i+1]==0):\n",
    "                i += 2\n",
    "            else:\n",
    "                i += 1\n",
    "            \n",
    "            if i == len(bits) - 1:\n",
    "                return True\n",
    "            else:\n",
    "                return False\n",
    "\n",
    "# 解答            \n",
    "class Solution(object):\n",
    "    def isOneBitCharacter(self, bits):\n",
    "        i = 0\n",
    "        while i < len(bits) - 1:\n",
    "            i += bits[i] + 1\n",
    "        return i == len(bits) - 1\n",
    "            \n",
    "        "
   ]
  },
  {
   "cell_type": "code",
   "execution_count": 27,
   "metadata": {
    "ExecuteTime": {
     "end_time": "2019-07-30T13:02:41.945433Z",
     "start_time": "2019-07-30T13:02:41.938604Z"
    }
   },
   "outputs": [
    {
     "data": {
      "text/plain": [
       "False"
      ]
     },
     "execution_count": 27,
     "metadata": {},
     "output_type": "execute_result"
    }
   ],
   "source": [
    "bits = [1, 0, 0]\n",
    "#bits = [1, 1, 1, 0]\n",
    "\n",
    "S = mySolution()\n",
    "#S = Solution()\n",
    "S.isOneBitCharacter(bits)"
   ]
  },
  {
   "cell_type": "markdown",
   "metadata": {},
   "source": [
    "# 456. 132 Pattern\n",
    "\n",
    "[題目](https://leetcode.com/problems/132-pattern/)\n",
    "\n",
    "[]()"
   ]
  },
  {
   "cell_type": "markdown",
   "metadata": {},
   "source": [
    "Given a sequence of n integers a1, a2, ..., an, a 132 pattern is a subsequence ai, aj, ak such that `i < j < k` and `ai < ak < aj`. Design an algorithm that takes a list of n numbers as input and checks whether there is a 132 pattern in the list.\n",
    "\n",
    "Input: \n",
    "\n",
    "    [1, 2, 3, 4]\n",
    "\n",
    "Output: \n",
    "\n",
    "    False\n",
    "\n",
    "\n",
    "Input: \n",
    "\n",
    "    [-1, 3, 2, 0]\n",
    "\n",
    "Output: \n",
    "\n",
    "    True\n",
    "\n",
    "Explanation: There are three 132 patterns in the sequence: [-1, 3, 2], [-1, 3, 0] and [-1, 2, 0].\n",
    "\n",
    "---\n",
    "\n",
    "[-2,1,2,-2,1,2]\n",
    "\n",
    "[-2,2,1]"
   ]
  },
  {
   "cell_type": "code",
   "execution_count": 87,
   "metadata": {
    "ExecuteTime": {
     "end_time": "2019-07-30T16:05:07.191428Z",
     "start_time": "2019-07-30T16:05:07.186438Z"
    }
   },
   "outputs": [],
   "source": [
    "# O(n)\n",
    "\n",
    "class MinMax:\n",
    "    def __init__(self, min, max, x=None):\n",
    "        self.min = min\n",
    "        self.max = max\n",
    "        self.Ans3 = x\n",
    "        \n",
    "    def __repr__(self):\n",
    "        return f\"Min={self.min} Max={self.max} Ans={self.Ans3}\"\n",
    "\n",
    "    \n",
    "    \n",
    "class Solution:\n",
    "    def find132pattern(self, nums):\n",
    "        '''\n",
    "        找(132:小大中)模式\n",
    "        '''\n",
    "        \n",
    "        List = []\n",
    "        \n",
    "        # 訂好 \"12\"(132:小大中) \n",
    "        List.append(\n",
    "            MinMax(nums[0],nums[0])\n",
    "        )\n",
    "        \n",
    "        for i in nums[1:]:\n",
    "            \n",
    "            # 小於最新(\"12\")的\"1\"，則新增一個 \"12\"\n",
    "            if i < List[-1].min:\n",
    "                List.append(\n",
    "                    MinMax(i,i)\n",
    "                )\n",
    "            \n",
    "            # \"12\"的清單中確認下一個是否為\"3\"\n",
    "            for x in List:\n",
    "            \n",
    "                # 更新\"12\"的 \"2\"\n",
    "                if i > x.max:\n",
    "                    x.max = i\n",
    "\n",
    "                # 確認下一個是否為\"3\"\n",
    "                if x.min < i < x.max:\n",
    "                    x.Ans3 = i\n",
    "                    return True,List\n",
    "        # 都沒有    \n",
    "        return False,List\n",
    "            "
   ]
  },
  {
   "cell_type": "code",
   "execution_count": 86,
   "metadata": {
    "ExecuteTime": {
     "end_time": "2019-07-30T16:05:01.019463Z",
     "start_time": "2019-07-30T16:05:01.014446Z"
    }
   },
   "outputs": [
    {
     "data": {
      "text/plain": [
       "(True,\n",
       " [Min=0 Max=5 Ans=None,\n",
       "  Min=-1 Max=5 Ans=0,\n",
       "  Min=-2 Max=5 Ans=None,\n",
       "  Min=-4 Max=5 Ans=None])"
      ]
     },
     "execution_count": 86,
     "metadata": {},
     "output_type": "execute_result"
    }
   ],
   "source": [
    "S = Solution()\n",
    "S.find132pattern([0,-1,-2,-4,1,2,3,4,5,0,1])\n"
   ]
  },
  {
   "cell_type": "markdown",
   "metadata": {
    "ExecuteTime": {
     "end_time": "2019-07-30T16:32:25.716026Z",
     "start_time": "2019-07-30T16:32:25.710042Z"
    }
   },
   "source": [
    "# 15. 3Sum\n",
    "\n",
    "Given an array nums of n integers, are there elements a, b, c in nums such that a + b + c = 0? Find all unique triplets in the array which gives the sum of zero.\n",
    "\n",
    "Note:\n",
    "\n",
    "    The solution set must not contain duplicate triplets.\n",
    "\n",
    "Example:\n",
    "\n",
    "    Given array nums = [-1, 0, 1, 2, -1, -4],\n",
    "\n",
    "    A solution set is:\n",
    "    [\n",
    "      [-1, 0, 1],\n",
    "      [-1, -1, 2]\n",
    "    ]\n",
    "\n",
    "[3Sum](https://leetcode.com/problems/3sum/)\n",
    "\n",
    "[3sum分解為易於理解的2sum問題](https://leetcode.com/problems/3sum/discuss/349259/normal-python-solution-breaks-3sum-into-2-sum-problem-easy-to-understand)\n"
   ]
  },
  {
   "cell_type": "code",
   "execution_count": null,
   "metadata": {},
   "outputs": [],
   "source": [
    "class Solution(object):\n",
    "    def twoSum(self, nums, idx, ans):\n",
    "        s = set()\n",
    "        target = nums[idx]\n",
    "        #You only need to check the number after the idx\n",
    "        #Since the numbers before the idx have been checked already.\n",
    "        for idx2, num2 in enumerate(nums[idx+1:]):\n",
    "            if -(target+num2) in s:\n",
    "                #target is always the smallest number, since you only \n",
    "                #check numbers larget than the target\n",
    "                #-(target+num2) is always smaller then num2 otherwise it \n",
    "                #won't be in the s.\n",
    "                #you need to use tuple since list is not hashable\n",
    "                ans.add((target, -(target+num2), num2))\n",
    "            else:\n",
    "                s.add(num2)    \n",
    "    \n",
    "    def threeSum(self, nums):\n",
    "        \"\"\"\n",
    "        :type nums: List[int]\n",
    "        :rtype: List[List[int]]\n",
    "        \"\"\"\n",
    "        ans = set()\n",
    "        nums = sorted(nums)\n",
    "\n",
    "        if len(nums)<3:\n",
    "            return []\n",
    "        for idx, num in enumerate(nums):\n",
    "            #We only need unique number to do the work,\n",
    "            #We don't need every number!\n",
    "            if idx > 0 and num==nums[idx-1]:\n",
    "                continue\n",
    "            self.twoSum(nums, idx, ans)\n",
    "        #map the ans back to list\n",
    "        return map(list,ans)            "
   ]
  },
  {
   "cell_type": "code",
   "execution_count": null,
   "metadata": {},
   "outputs": [],
   "source": []
  },
  {
   "cell_type": "code",
   "execution_count": null,
   "metadata": {},
   "outputs": [],
   "source": []
  },
  {
   "cell_type": "code",
   "execution_count": null,
   "metadata": {},
   "outputs": [],
   "source": []
  },
  {
   "cell_type": "code",
   "execution_count": null,
   "metadata": {},
   "outputs": [],
   "source": []
  },
  {
   "cell_type": "code",
   "execution_count": null,
   "metadata": {},
   "outputs": [],
   "source": []
  },
  {
   "cell_type": "code",
   "execution_count": null,
   "metadata": {},
   "outputs": [],
   "source": []
  },
  {
   "cell_type": "code",
   "execution_count": null,
   "metadata": {},
   "outputs": [],
   "source": []
  },
  {
   "cell_type": "code",
   "execution_count": null,
   "metadata": {},
   "outputs": [],
   "source": []
  },
  {
   "cell_type": "code",
   "execution_count": null,
   "metadata": {},
   "outputs": [],
   "source": []
  },
  {
   "cell_type": "code",
   "execution_count": null,
   "metadata": {},
   "outputs": [],
   "source": []
  },
  {
   "cell_type": "code",
   "execution_count": null,
   "metadata": {},
   "outputs": [],
   "source": []
  },
  {
   "cell_type": "code",
   "execution_count": null,
   "metadata": {},
   "outputs": [],
   "source": []
  },
  {
   "cell_type": "code",
   "execution_count": null,
   "metadata": {},
   "outputs": [],
   "source": []
  }
 ],
 "metadata": {
  "hide_input": false,
  "kernelspec": {
   "display_name": "Python [default]",
   "language": "python",
   "name": "python3"
  },
  "language_info": {
   "codemirror_mode": {
    "name": "ipython",
    "version": 3
   },
   "file_extension": ".py",
   "mimetype": "text/x-python",
   "name": "python",
   "nbconvert_exporter": "python",
   "pygments_lexer": "ipython3",
   "version": "3.6.5"
  },
  "toc": {
   "base_numbering": 1,
   "nav_menu": {},
   "number_sections": true,
   "sideBar": true,
   "skip_h1_title": false,
   "title_cell": "Table of Contents",
   "title_sidebar": "Contents",
   "toc_cell": false,
   "toc_position": {},
   "toc_section_display": true,
   "toc_window_display": true
  },
  "varInspector": {
   "cols": {
    "lenName": 16,
    "lenType": 16,
    "lenVar": 40
   },
   "kernels_config": {
    "python": {
     "delete_cmd_postfix": "",
     "delete_cmd_prefix": "del ",
     "library": "var_list.py",
     "varRefreshCmd": "print(var_dic_list())"
    },
    "r": {
     "delete_cmd_postfix": ") ",
     "delete_cmd_prefix": "rm(",
     "library": "var_list.r",
     "varRefreshCmd": "cat(var_dic_list()) "
    }
   },
   "types_to_exclude": [
    "module",
    "function",
    "builtin_function_or_method",
    "instance",
    "_Feature"
   ],
   "window_display": false
  }
 },
 "nbformat": 4,
 "nbformat_minor": 2
}
