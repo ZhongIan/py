{
 "cells": [
  {
   "cell_type": "markdown",
   "metadata": {},
   "source": [
    "# 參考資源\n",
    "\n",
    "[Beautiful Soup 基本用法](https://blog.gtwang.org/programming/python-beautiful-soup-module-scrape-web-pages-tutorial/)\n",
    "\n",
    "[Beautiful Soup Doc](https://www.crummy.com/software/BeautifulSoup/bs4/doc.zh/)"
   ]
  },
  {
   "cell_type": "markdown",
   "metadata": {},
   "source": [
    "## 基本用法"
   ]
  },
  {
   "cell_type": "code",
   "execution_count": 1,
   "metadata": {
    "ExecuteTime": {
     "end_time": "2019-01-15T07:26:06.639015Z",
     "start_time": "2019-01-15T07:26:04.759602Z"
    }
   },
   "outputs": [],
   "source": [
    "# 引入 Beautiful Soup 模組\n",
    "from bs4 import BeautifulSoup\n",
    "\n",
    "# 原始 HTML 程式碼\n",
    "html_doc = \"\"\"\n",
    "<html><head><title>Hello World</title></head>\n",
    "<body><h2>Test Header</h2>\n",
    "<p>This is a test.</p>\n",
    "<a id=\"link1\" href=\"/my_link1\">Link 1</a>\n",
    "<a id=\"link2\" href=\"/my_link2\">Link 2</a>\n",
    "<p>Hello, <b class=\"boldtext\">Bold Text</b></p>\n",
    "</body></html>\n",
    "\"\"\"\n",
    "\n",
    "# 以 Beautiful Soup 解析 HTML 程式碼\n",
    "soup = BeautifulSoup(html_doc, 'html.parser')\n",
    "# 備註: 'html.parser' : 执行速度适中，文档容错能力强\n",
    "#       \"lxml\" : 速度快"
   ]
  },
  {
   "cell_type": "code",
   "execution_count": 5,
   "metadata": {
    "ExecuteTime": {
     "end_time": "2019-01-15T07:27:06.121090Z",
     "start_time": "2019-01-15T07:27:06.114640Z"
    }
   },
   "outputs": [
    {
     "data": {
      "text/plain": [
       "\n",
       "<html><head><title>Hello World</title></head>\n",
       "<body><h2>Test Header</h2>\n",
       "<p>This is a test.</p>\n",
       "<a href=\"/my_link1\" id=\"link1\">Link 1</a>\n",
       "<a href=\"/my_link2\" id=\"link2\">Link 2</a>\n",
       "<p>Hello, <b class=\"boldtext\">Bold Text</b></p>\n",
       "</body></html>"
      ]
     },
     "execution_count": 5,
     "metadata": {},
     "output_type": "execute_result"
    },
    {
     "name": "stdout",
     "output_type": "stream",
     "text": [
      "------------------------------\n",
      "<html>\n",
      " <head>\n",
      "  <title>\n",
      "   Hello World\n",
      "  </title>\n",
      " </head>\n",
      " <body>\n",
      "  <h2>\n",
      "   Test Header\n",
      "  </h2>\n",
      "  <p>\n",
      "   This is a test.\n",
      "  </p>\n",
      "  <a href=\"/my_link1\" id=\"link1\">\n",
      "   Link 1\n",
      "  </a>\n",
      "  <a href=\"/my_link2\" id=\"link2\">\n",
      "   Link 2\n",
      "  </a>\n",
      "  <p>\n",
      "   Hello,\n",
      "   <b class=\"boldtext\">\n",
      "    Bold Text\n",
      "   </b>\n",
      "  </p>\n",
      " </body>\n",
      "</html>\n",
      "\n"
     ]
    }
   ],
   "source": [
    "soup\n",
    "# 輸出排版後的 HTML 程式碼\n",
    "print('-' * 30)\n",
    "print(soup.prettify())"
   ]
  },
  {
   "cell_type": "markdown",
   "metadata": {},
   "source": [
    "### 取得節點文字內容"
   ]
  },
  {
   "cell_type": "code",
   "execution_count": 7,
   "metadata": {
    "ExecuteTime": {
     "end_time": "2019-01-15T07:28:17.175999Z",
     "start_time": "2019-01-15T07:28:17.171526Z"
    }
   },
   "outputs": [
    {
     "name": "stdout",
     "output_type": "stream",
     "text": [
      "<title>Hello World</title>\n",
      "Hello World\n"
     ]
    }
   ],
   "source": [
    "# 網頁標題 HTML 標籤\n",
    "title_tag = soup.title\n",
    "print(title_tag)\n",
    "\n",
    "# 網頁的標題文字\n",
    "print(title_tag.string)"
   ]
  },
  {
   "cell_type": "markdown",
   "metadata": {},
   "source": [
    "### 搜尋節點"
   ]
  },
  {
   "cell_type": "code",
   "execution_count": 8,
   "metadata": {
    "ExecuteTime": {
     "end_time": "2019-01-15T07:28:40.515501Z",
     "start_time": "2019-01-15T07:28:40.512028Z"
    }
   },
   "outputs": [
    {
     "name": "stdout",
     "output_type": "stream",
     "text": [
      "Link 1\n",
      "Link 2\n"
     ]
    }
   ],
   "source": [
    "# 所有的超連結\n",
    "a_tags = soup.find_all('a')\n",
    "for tag in a_tags:\n",
    "  # 輸出超連結的文字\n",
    "  print(tag.string)"
   ]
  },
  {
   "cell_type": "markdown",
   "metadata": {},
   "source": [
    "### 取出節點屬性"
   ]
  },
  {
   "cell_type": "code",
   "execution_count": 9,
   "metadata": {
    "ExecuteTime": {
     "end_time": "2019-01-15T07:29:12.929889Z",
     "start_time": "2019-01-15T07:29:12.926390Z"
    }
   },
   "outputs": [
    {
     "name": "stdout",
     "output_type": "stream",
     "text": [
      "/my_link1\n",
      "/my_link2\n"
     ]
    }
   ],
   "source": [
    "for tag in a_tags:\n",
    "  # 輸出超連結網址\n",
    "  print(tag.get('href'))"
   ]
  },
  {
   "cell_type": "markdown",
   "metadata": {},
   "source": [
    "### 同時搜尋多種標籤"
   ]
  },
  {
   "cell_type": "code",
   "execution_count": 10,
   "metadata": {
    "ExecuteTime": {
     "end_time": "2019-01-15T07:30:13.505643Z",
     "start_time": "2019-01-15T07:30:13.501703Z"
    }
   },
   "outputs": [
    {
     "name": "stdout",
     "output_type": "stream",
     "text": [
      "[<a href=\"/my_link1\" id=\"link1\">Link 1</a>, <a href=\"/my_link2\" id=\"link2\">Link 2</a>, <b class=\"boldtext\">Bold Text</b>]\n"
     ]
    }
   ],
   "source": [
    "# 搜尋所有超連結與粗體字\n",
    "tags = soup.find_all([\"a\", \"b\"])\n",
    "print(tags)"
   ]
  },
  {
   "cell_type": "markdown",
   "metadata": {},
   "source": [
    "### 限制搜尋節點數量"
   ]
  },
  {
   "cell_type": "code",
   "execution_count": 12,
   "metadata": {
    "ExecuteTime": {
     "end_time": "2019-01-15T07:31:08.842247Z",
     "start_time": "2019-01-15T07:31:08.838279Z"
    }
   },
   "outputs": [
    {
     "name": "stdout",
     "output_type": "stream",
     "text": [
      "[<a href=\"/my_link1\" id=\"link1\">Link 1</a>, <a href=\"/my_link2\" id=\"link2\">Link 2</a>]\n",
      "------------------------------\n",
      "<a href=\"/my_link1\" id=\"link1\">Link 1</a>\n"
     ]
    }
   ],
   "source": [
    "# 限制搜尋結果數量\n",
    "tags = soup.find_all([\"a\", \"b\"], limit=2)\n",
    "print(tags)\n",
    "\n",
    "print('-' * 30)\n",
    "\n",
    "# 只抓出第一個符合條件的節點\n",
    "a_tag = soup.find(\"a\")\n",
    "print(a_tag)"
   ]
  },
  {
   "cell_type": "markdown",
   "metadata": {},
   "source": [
    "### 遞迴搜尋"
   ]
  },
  {
   "cell_type": "code",
   "execution_count": 13,
   "metadata": {
    "ExecuteTime": {
     "end_time": "2019-01-15T07:32:29.873278Z",
     "start_time": "2019-01-15T07:32:29.866830Z"
    }
   },
   "outputs": [
    {
     "data": {
      "text/plain": [
       "[<title>Hello World</title>]"
      ]
     },
     "execution_count": 13,
     "metadata": {},
     "output_type": "execute_result"
    },
    {
     "data": {
      "text/plain": [
       "[]"
      ]
     },
     "execution_count": 13,
     "metadata": {},
     "output_type": "execute_result"
    }
   ],
   "source": [
    "# 預設會以遞迴搜尋\n",
    "soup.html.find_all(\"title\")\n",
    "\n",
    "# 不使用遞迴搜尋，僅尋找次一層的子節點\n",
    "soup.html.find_all(\"title\", recursive=False)"
   ]
  },
  {
   "cell_type": "markdown",
   "metadata": {},
   "source": [
    "## 搜尋"
   ]
  },
  {
   "cell_type": "markdown",
   "metadata": {
    "ExecuteTime": {
     "end_time": "2019-01-15T07:33:56.416032Z",
     "start_time": "2019-01-15T07:33:56.413056Z"
    }
   },
   "source": [
    "### 以 HTML 屬性搜尋"
   ]
  },
  {
   "cell_type": "code",
   "execution_count": 15,
   "metadata": {
    "ExecuteTime": {
     "end_time": "2019-01-15T07:34:08.258369Z",
     "start_time": "2019-01-15T07:34:08.254374Z"
    }
   },
   "outputs": [
    {
     "name": "stdout",
     "output_type": "stream",
     "text": [
      "<a href=\"/my_link2\" id=\"link2\">Link 2</a>\n"
     ]
    }
   ],
   "source": [
    "# 根據 id 搜尋\n",
    "link2_tag = soup.find(id='link2')\n",
    "print(link2_tag)"
   ]
  },
  {
   "cell_type": "code",
   "execution_count": 16,
   "metadata": {
    "ExecuteTime": {
     "end_time": "2019-01-15T07:34:18.548706Z",
     "start_time": "2019-01-15T07:34:18.544241Z"
    }
   },
   "outputs": [
    {
     "name": "stdout",
     "output_type": "stream",
     "text": [
      "[<a href=\"/my_link1\" id=\"link1\">Link 1</a>]\n"
     ]
    }
   ],
   "source": [
    "# 搜尋 href 屬性為 /my_link1 的 a 節點\n",
    "a_tag = soup.find_all(\"a\", href=\"/my_link1\")\n",
    "print(a_tag)"
   ]
  },
  {
   "cell_type": "code",
   "execution_count": 17,
   "metadata": {
    "ExecuteTime": {
     "end_time": "2019-01-15T07:35:04.651366Z",
     "start_time": "2019-01-15T07:35:04.647425Z"
    }
   },
   "outputs": [
    {
     "name": "stdout",
     "output_type": "stream",
     "text": [
      "[<a href=\"/my_link1\" id=\"link1\">Link 1</a>, <a href=\"/my_link2\" id=\"link2\">Link 2</a>]\n"
     ]
    }
   ],
   "source": [
    "#搜尋屬性時，也可以使用正規表示法\n",
    "#例如以正規表示法比對超連結網址：\n",
    "\n",
    "import re\n",
    "\n",
    "# 以正規表示法比對超連結網址\n",
    "links = soup.find_all(href=re.compile(\"^/my_link\\d\"))\n",
    "print(links)"
   ]
  },
  {
   "cell_type": "code",
   "execution_count": 19,
   "metadata": {
    "ExecuteTime": {
     "end_time": "2019-01-15T07:35:55.563313Z",
     "start_time": "2019-01-15T07:35:55.559367Z"
    }
   },
   "outputs": [
    {
     "name": "stdout",
     "output_type": "stream",
     "text": [
      "[<a href=\"/my_link1\" id=\"link1\">Link 1</a>]\n"
     ]
    }
   ],
   "source": [
    "# 以多個屬性條件來篩選\n",
    "link = soup.find_all(href=re.compile(\"^/my_link\\d\"), id=\"link1\")\n",
    "print(link)"
   ]
  },
  {
   "cell_type": "markdown",
   "metadata": {},
   "source": [
    "在 HTML5 中有一些屬性名稱若直接寫在 Python 的參數中會有一些問題，\n",
    "\n",
    "例如 data-* 這類的屬性直接寫的話，就會產生錯誤訊息："
   ]
  },
  {
   "cell_type": "code",
   "execution_count": 20,
   "metadata": {
    "ExecuteTime": {
     "end_time": "2019-01-15T07:36:54.011166Z",
     "start_time": "2019-01-15T07:36:54.006235Z"
    }
   },
   "outputs": [
    {
     "ename": "SyntaxError",
     "evalue": "keyword can't be an expression (<ipython-input-20-ee1f74febb50>, line 4)",
     "output_type": "error",
     "traceback": [
      "\u001b[1;36m  File \u001b[1;32m\"<ipython-input-20-ee1f74febb50>\"\u001b[1;36m, line \u001b[1;32m4\u001b[0m\n\u001b[1;33m    data_soup.find_all(data-foo=\"value\")\u001b[0m\n\u001b[1;37m                      ^\u001b[0m\n\u001b[1;31mSyntaxError\u001b[0m\u001b[1;31m:\u001b[0m keyword can't be an expression\n"
     ]
    }
   ],
   "source": [
    "data_soup = BeautifulSoup('<div data-foo=\"value\">foo!</div>', 'html.parser')\n",
    "\n",
    "# 錯誤的用法\n",
    "data_soup.find_all(data-foo=\"value\")"
   ]
  },
  {
   "cell_type": "markdown",
   "metadata": {},
   "source": [
    "遇到這種狀況，可以把屬性的名稱與值放進一個 dictionary 中，\n",
    "\n",
    "再將此 dictionary 指定給 attrs 參數即可："
   ]
  },
  {
   "cell_type": "code",
   "execution_count": 22,
   "metadata": {
    "ExecuteTime": {
     "end_time": "2019-01-15T07:38:46.929623Z",
     "start_time": "2019-01-15T07:38:46.925128Z"
    }
   },
   "outputs": [
    {
     "data": {
      "text/plain": [
       "[<div data-foo=\"value\">foo!</div>]"
      ]
     },
     "execution_count": 22,
     "metadata": {},
     "output_type": "execute_result"
    }
   ],
   "source": [
    "data_soup = BeautifulSoup('<div data-foo=\"value\">foo!</div>', 'html.parser')\n",
    "\n",
    "# 正確的用法\n",
    "data_soup.find_all(attrs={\"data-foo\": \"value\"})"
   ]
  },
  {
   "cell_type": "markdown",
   "metadata": {},
   "source": [
    "###  以 CSS 搜尋"
   ]
  },
  {
   "cell_type": "code",
   "execution_count": 23,
   "metadata": {
    "ExecuteTime": {
     "end_time": "2019-01-15T07:39:16.262120Z",
     "start_time": "2019-01-15T07:39:16.258648Z"
    }
   },
   "outputs": [
    {
     "name": "stdout",
     "output_type": "stream",
     "text": [
      "[<b class=\"boldtext\">Bold Text</b>]\n"
     ]
    }
   ],
   "source": [
    "# 搜尋 class 為 boldtext 的 b 節點\n",
    "b_tag = soup.find_all(\"b\", class_=\"boldtext\")\n",
    "print(b_tag)"
   ]
  },
  {
   "cell_type": "code",
   "execution_count": 24,
   "metadata": {
    "ExecuteTime": {
     "end_time": "2019-01-15T07:39:34.697056Z",
     "start_time": "2019-01-15T07:39:34.693584Z"
    }
   },
   "outputs": [
    {
     "name": "stdout",
     "output_type": "stream",
     "text": [
      "[<b class=\"boldtext\">Bold Text</b>]\n"
     ]
    }
   ],
   "source": [
    "# 以正規表示法搜尋 class 屬性\n",
    "b_tag = soup.find_all(class_=re.compile(\"^bold\"))\n",
    "print(b_tag)"
   ]
  },
  {
   "cell_type": "code",
   "execution_count": 25,
   "metadata": {
    "ExecuteTime": {
     "end_time": "2019-01-15T07:39:57.386805Z",
     "start_time": "2019-01-15T07:39:57.382837Z"
    }
   },
   "outputs": [
    {
     "name": "stdout",
     "output_type": "stream",
     "text": [
      "[<p class=\"body strikeout\"></p>]\n"
     ]
    }
   ],
   "source": [
    "css_soup = BeautifulSoup('<p class=\"body strikeout\"></p>', 'html.parser')\n",
    "\n",
    "# 只要其中一個 class 符合就算比對成功\n",
    "p_tag = css_soup.find_all(\"p\", class_=\"strikeout\")\n",
    "print(p_tag)"
   ]
  },
  {
   "cell_type": "code",
   "execution_count": 26,
   "metadata": {
    "ExecuteTime": {
     "end_time": "2019-01-15T07:40:17.985292Z",
     "start_time": "2019-01-15T07:40:17.981332Z"
    }
   },
   "outputs": [
    {
     "name": "stdout",
     "output_type": "stream",
     "text": [
      "[]\n"
     ]
    }
   ],
   "source": [
    "# 若順序不同，則會失敗\n",
    "p_tag = css_soup.find_all(\"p\", class_=\"strikeout body\")\n",
    "print(p_tag)"
   ]
  },
  {
   "cell_type": "markdown",
   "metadata": {},
   "source": [
    "### 以文字內容搜尋"
   ]
  },
  {
   "cell_type": "code",
   "execution_count": 27,
   "metadata": {
    "ExecuteTime": {
     "end_time": "2019-01-15T07:42:19.964321Z",
     "start_time": "2019-01-15T07:42:19.959837Z"
    }
   },
   "outputs": [
    {
     "data": {
      "text/plain": [
       "[<a href=\"/my_link1\" id=\"link1\">Link One</a>]"
      ]
     },
     "execution_count": 27,
     "metadata": {},
     "output_type": "execute_result"
    }
   ],
   "source": [
    "links_html = \"\"\"\n",
    "<a id=\"link1\" href=\"/my_link1\">Link One</a>\n",
    "<a id=\"link2\" href=\"/my_link2\">Link Two</a>\n",
    "<a id=\"link3\" href=\"/my_link3\">Link Three</a>\n",
    "\"\"\"\n",
    "soup = BeautifulSoup(links_html, 'html.parser')\n",
    "\n",
    "# 搜尋文字為「Link One」的超連結\n",
    "soup.find_all(\"a\", string=\"Link One\")"
   ]
  },
  {
   "cell_type": "code",
   "execution_count": 28,
   "metadata": {
    "ExecuteTime": {
     "end_time": "2019-01-15T07:42:35.433804Z",
     "start_time": "2019-01-15T07:42:35.429340Z"
    }
   },
   "outputs": [
    {
     "data": {
      "text/plain": [
       "[<a href=\"/my_link1\" id=\"link1\">Link One</a>,\n",
       " <a href=\"/my_link2\" id=\"link2\">Link Two</a>,\n",
       " <a href=\"/my_link3\" id=\"link3\">Link Three</a>]"
      ]
     },
     "execution_count": 28,
     "metadata": {},
     "output_type": "execute_result"
    }
   ],
   "source": [
    "# 以正規表示法搜尋文字為「Link」開頭的超連結\n",
    "soup.find_all(\"a\", string=re.compile(\"^Link\"))"
   ]
  },
  {
   "cell_type": "markdown",
   "metadata": {},
   "source": [
    "### 向上、向前與向後搜尋"
   ]
  },
  {
   "cell_type": "code",
   "execution_count": 29,
   "metadata": {
    "ExecuteTime": {
     "end_time": "2019-01-15T07:43:00.428729Z",
     "start_time": "2019-01-15T07:43:00.424277Z"
    }
   },
   "outputs": [
    {
     "name": "stdout",
     "output_type": "stream",
     "text": [
      "[<p class=\"my_par\">\n",
      "<a href=\"/my_link1\" id=\"link1\">Link 1</a>\n",
      "<a href=\"/my_link2\" id=\"link2\">Link 2</a>\n",
      "<a href=\"/my_link3\" id=\"link3\">Link 3</a>\n",
      "<a href=\"/my_link4\" id=\"link3\">Link 4</a>\n",
      "</p>]\n"
     ]
    }
   ],
   "source": [
    "html_doc = \"\"\"\n",
    "<body><p class=\"my_par\">\n",
    "<a id=\"link1\" href=\"/my_link1\">Link 1</a>\n",
    "<a id=\"link2\" href=\"/my_link2\">Link 2</a>\n",
    "<a id=\"link3\" href=\"/my_link3\">Link 3</a>\n",
    "<a id=\"link3\" href=\"/my_link4\">Link 4</a>\n",
    "</p></body>\n",
    "\"\"\"\n",
    "soup = BeautifulSoup(html_doc, 'html.parser')\n",
    "link2_tag = soup.find(id=\"link2\")\n",
    "\n",
    "# 往上層尋找 p 節點\n",
    "p_tag = link2_tag.find_parents(\"p\")\n",
    "print(p_tag)"
   ]
  },
  {
   "cell_type": "code",
   "execution_count": 30,
   "metadata": {
    "ExecuteTime": {
     "end_time": "2019-01-15T07:43:31.448391Z",
     "start_time": "2019-01-15T07:43:31.444920Z"
    }
   },
   "outputs": [
    {
     "name": "stdout",
     "output_type": "stream",
     "text": [
      "[<a href=\"/my_link1\" id=\"link1\">Link 1</a>]\n"
     ]
    }
   ],
   "source": [
    "# 在同一層往前尋找 a 節點\n",
    "link_tag = link2_tag.find_previous_siblings(\"a\")\n",
    "print(link_tag)"
   ]
  },
  {
   "cell_type": "code",
   "execution_count": 31,
   "metadata": {
    "ExecuteTime": {
     "end_time": "2019-01-15T07:43:51.234231Z",
     "start_time": "2019-01-15T07:43:51.230291Z"
    }
   },
   "outputs": [
    {
     "name": "stdout",
     "output_type": "stream",
     "text": [
      "[<a href=\"/my_link3\" id=\"link3\">Link 3</a>, <a href=\"/my_link4\" id=\"link3\">Link 4</a>]\n"
     ]
    }
   ],
   "source": [
    "# 在同一層往後尋找 a 節點\n",
    "link_tag = link2_tag.find_next_siblings(\"a\")\n",
    "print(link_tag)"
   ]
  },
  {
   "cell_type": "markdown",
   "metadata": {},
   "source": [
    "## 網頁檔案"
   ]
  },
  {
   "cell_type": "code",
   "execution_count": null,
   "metadata": {},
   "outputs": [],
   "source": [
    "from bs4 import BeautifulSoup\n",
    "# 從檔案讀取 HTML 程式碼進行解析\n",
    "with open(\"index.html\") as f:\n",
    "    soup = BeautifulSoup(f)"
   ]
  },
  {
   "cell_type": "markdown",
   "metadata": {},
   "source": [
    "# 實例"
   ]
  },
  {
   "cell_type": "markdown",
   "metadata": {
    "ExecuteTime": {
     "end_time": "2019-01-15T07:47:26.304431Z",
     "start_time": "2019-01-15T07:47:26.301429Z"
    }
   },
   "source": [
    "## 下載 Yahoo 頭條新聞"
   ]
  },
  {
   "cell_type": "code",
   "execution_count": 32,
   "metadata": {
    "ExecuteTime": {
     "end_time": "2019-01-15T07:46:09.529650Z",
     "start_time": "2019-01-15T07:46:06.746686Z"
    }
   },
   "outputs": [
    {
     "name": "stdout",
     "output_type": "stream",
     "text": [
      "標題：她身價277億「被一個蛋打敗」\n",
      "網址：https://tw.news.yahoo.com/%E7%BE%8E%E5%9C%8B%E7%B6%B2%E7%B4%85ig%E6%8C%89%E8%AE%9A%E6%95%B8%E8%A2%AB%E7%A0%B4-%E5%B0%8D%E6%89%8B%E7%AB%9F%E6%98%AF%E4%B8%80%E9%A1%86%E8%9B%8B-024243735.html\n",
      "標題：曾上節目泣訴 1個月後她被刺死\n",
      "網址：https://tw.news.yahoo.com/%E5%AE%B6%E6%9A%B4%E4%BB%A4%E7%84%A1%E7%94%A8-%E5%A5%B3%E6%9B%BE%E4%B8%8A%E4%BA%8E%E7%BE%8E%E4%BA%BA%E7%AF%80%E7%9B%AE%E6%B3%A3%E8%A8%B4-1%E5%80%8B%E6%9C%88%E5%BE%8C%E8%A2%AB%E5%89%8D%E5%A4%AB%E5%88%BA%E6%AD%BB-145102951.html\n",
      "標題：夫領無薪 她隨手一買進帳300萬\n",
      "網址：https://tw.news.yahoo.com/%E4%B8%88%E5%A4%AB%E6%98%AF%E6%94%BF%E5%BA%9C%E5%81%9C%E6%93%BA%E5%8F%97%E5%AE%B3%E8%80%85-%E7%BE%8E%E5%A9%A6%E4%BA%BA%E8%B2%B7%E5%BD%A9%E5%88%B8%E4%B8%AD311%E8%90%AC-000839056.html\n",
      "標題：2200萬買到3千萬車 付完錢傻了\n",
      "網址：https://tw.news.yahoo.com/%E5%B0%88%E5%9D%91%E9%A0%AD%E5%AE%B6-%E7%9B%B4%E6%92%AD%E8%B6%85%E8%B7%91%E5%8D%8A%E5%83%B9%E8%B3%A3-%E5%AF%8C%E6%AF%94%E5%A3%AB%E5%B9%B3%E5%8F%B0%E7%84%A1%E8%B3%B4%E5%90%B8%E9%87%9110%E5%84%84%E5%85%83-225859206.html\n",
      "標題：報喜！一姐發功 輕鬆寫意過頭關\n",
      "網址：https://tw.news.yahoo.com/%E6%BE%B3%E7%B6%B2-%E8%AC%9D%E6%B7%91%E8%96%87%E7%9B%B4%E8%90%BD%E4%BA%8C-%E6%BE%B3%E7%B6%B2%E8%BC%95%E9%AC%86%E9%81%8E%E9%A0%AD%E9%97%9C-062010865.html\n",
      "標題：苦吞3連敗 巨星被全場球迷酸爆\n",
      "網址：https://tw.news.yahoo.com/nba-%E7%90%83%E8%BF%B7%E5%A4%A7%E9%85%B8%E7%B6%A0%E8%A1%AB%E8%BB%8D-%E5%8E%84%E6%96%87%E8%A6%81%E8%B5%B0%E5%9B%89-052130149.html\n",
      "標題：慘遭邊緣化 基石恐成「過去式」\n",
      "網址：https://tw.sports.yahoo.com/news/nba-%E6%9C%89%E4%BA%86%E6%96%B0%E4%BA%BA%E5%BF%98%E8%88%8A%E4%BA%BA-%E7%8D%A8%E8%A1%8C%E4%BF%A0%E6%89%93%E7%AE%97%E4%BA%A4%E6%98%93%E6%96%B0%E6%98%9F%E5%8F%B2%E5%AF%86%E6%96%AF-034254636.html\n",
      "標題：傷勢折磨人 前球王連遛狗都困難\n",
      "網址：https://tw.sports.yahoo.com/news/%E8%87%80%E5%82%B7%E6%8A%98%E7%A3%A8%E5%A4%B1%E7%94%9F%E6%B4%BB%E5%B0%8F%E7%A2%BA%E5%B9%B8-%E8%8E%AB%E7%91%9E-%E9%80%A3%E9%81%9B%E7%8B%97%E9%83%BD%E5%9B%B0%E9%9B%A3-060150345.html\n",
      "標題：推銷靈修被指邪教 挨轟急刪文\n",
      "網址：https://tw.news.yahoo.com/%E4%BC%8A%E8%83%BD%E9%9D%9C%E9%81%AD%E6%8E%A7%E5%82%B3%E9%8A%B7-%E9%82%AA%E6%95%99-%E9%9D%88%E4%BF%AE%E8%AA%B2-%E7%81%AB%E9%80%9F%E5%88%AA%E6%96%87%E5%B9%B3%E6%81%AF%E7%9C%BE%E6%80%92-055900875.html\n",
      "標題：遭控偷吃分手 再爆欠10萬未還\n",
      "網址：https://tw.news.yahoo.com/%E7%94%B7%E6%98%9F%E5%A4%9A%E8%A7%92%E6%88%802-%E6%9D%8E%E4%BA%AC%E6%81%AC%E4%BA%BA%E8%B2%A1%E5%85%A9%E5%A4%B1-%E5%91%A8%E5%AD%9D%E5%AE%89%E6%AC%A0%E5%8D%81%E8%90%AC%E6%9C%AA%E9%82%84-%E5%A3%B9%E9%BB%9E%E5%B0%B1%E5%A0%B1-041800504.html\n",
      "標題：缺課卻算出席！7藝人學位掰了\n",
      "網址：https://tw.news.yahoo.com/%E6%B2%92%E4%B8%8A%E8%AA%B2%E7%AE%97%E5%87%BA%E5%B8%AD-%E5%B0%B9%E6%96%97%E4%BF%8A%E7%AD%897%E8%97%9D%E4%BA%BA%E5%AD%B8%E4%BD%8D%E9%81%AD%E5%8F%96%E6%B6%88-035320792.html\n",
      "標題：影帝級實力！一口氣飆3頁台詞\n",
      "網址：https://tw.movies.yahoo.com/news/%E5%BD%B1%E5%B8%9D%E7%B4%9A%E6%BC%94%E5%87%BA%EF%BC%81-%E5%BC%B5%E5%AE%B6%E8%BC%9D%E9%A0%82%E6%99%82%E5%B7%AE%E8%83%8C%E4%B8%89%E9%A0%81%E8%B6%85%E9%95%B7%E5%8F%B0%E8%A9%9E-%E3%80%8A%E5%BB%89-132925015.html\n",
      "標題：尪4年不回家 妻怒秀1根驗孕棒\n",
      "網址：https://tw.news.yahoo.com/%E9%86%AB%E5%B8%AB%E5%B0%AA4%E5%B9%B4%E4%B8%8D%E5%9B%9E%E5%AE%B6-%E5%A5%B3%E9%86%AB%E5%B8%AB%E6%80%92%E7%A7%80%E4%B8%AD%E7%8D%8E%E9%A9%97%E5%AD%95%E6%A3%92-%E5%B0%8F%E7%8E%8B%E7%9A%84%E7%A8%AE-020301056.html#0115im\n",
      "標題：好市多1物 咬開驚藏多隻彈跳\n",
      "網址：https://tw.news.yahoo.com/%E5%92%AC%E9%96%8B%E5%85%A8%E6%98%AF%E6%B4%BB%E8%9F%B2%E9%82%84-%E5%BD%88%E8%B7%B3-%E4%BB%96%E8%B2%B7%E5%A5%BD%E5%B8%82%E5%A4%9A%E9%80%99%E6%B0%B4%E6%9E%9C%E5%A4%A7%E5%B4%A9%E6%BD%B0-090047482.html#0115im\n",
      "標題：超商多了這扇門 竟暗藏3功能\n",
      "網址：https://tw.news.yahoo.com/%E9%A9%9A%E4%BA%BA3%E5%A4%A7%E5%8A%9F%E8%83%BD%E6%9B%9D%E5%85%89-%E8%B6%85%E5%95%86%E5%A4%96%E5%8A%A0%E8%A3%9D-%E7%8E%BB%E7%92%83%E4%BA%AD-%E7%B6%B2%E8%AE%9A-%E9%95%B7%E7%9F%A5%E8%AD%98-115100091.html#0115im\n",
      "標題：最廢北捷車站 消失後才有感\n",
      "網址：https://tw.news.yahoo.com/%E5%8C%97%E6%8D%B7-%E6%9C%80%E5%BB%A2%E6%8D%B7%E9%81%8B%E7%AB%99-%E5%87%BA%E7%88%90-%E7%B6%B2%E5%8F%8B%E9%BD%8A%E5%98%86%E5%AE%83%E5%AD%98%E5%9C%A8%E6%84%9F%E8%B6%85%E4%BD%8E-144200698.html#0114im\n",
      "標題：腰痛難好…手摸這顆竟已癌末\n",
      "網址：https://www.everydayhealth.com.tw/article/20809#0115ac\n",
      "標題：烤地瓜第2！吃錯這款更傷胃\n",
      "網址：https://www.everydayhealth.com.tw/media_article/609#0115ac\n",
      "標題：鈣鐵多5倍 豆腐這樣吃瘦了\n",
      "網址：https://www.everydayhealth.com.tw/article/20900#0115ac\n",
      "標題：補鈣多4.4倍 博士：湯加一匙\n",
      "網址：https://www.everydayhealth.com.tw/article/20797#0115ac\n",
      "標題：聯誼無聊 他手一動女生嗨翻\n",
      "網址：https://tw.tv.yahoo.com/in-the-palm-of-my-hand/%E6%8E%8C%E4%B8%AD%E4%BA%BA%E7%94%9F-ep01-%E7%AC%AC-%E9%9B%86%E5%AE%8C%E6%95%B4%E7%89%88-120000814.html#0115rk\n",
      "標題：當紅小生傳性侵？藏鏡人怒揭\n",
      "網址：https://www.litv.tv/vod/drama/content.do?content_id=VOD00103543&sponsorName=eWFob28=&autoPlay=1#0115rk\n",
      "標題：日本駭人遊戲！玩輸了竟喪命\n",
      "網址：https://tw.tv.yahoo.com/sword-art-online_s1/%E5%88%80%E5%8A%8D%E7%A5%9E%E5%9F%9F-%E7%AC%AC-%E5%AD%A3ep01-%E5%AE%8C%E6%95%B4%E7%89%88-033000052.html#0115rk\n",
      "標題：渣男全裸求愛…女神被噴滿身\n",
      "網址：https://www.litv.tv/vod/drama/content.do?content_id=VOD00111280&sponsorName=eWFob28=&autoPlay=1#0115rk\n"
     ]
    }
   ],
   "source": [
    "import requests\n",
    "from bs4 import BeautifulSoup\n",
    "\n",
    "# 下載 Yahoo 首頁內容\n",
    "r = requests.get('https://tw.yahoo.com/')\n",
    "\n",
    "# 確認是否下載成功\n",
    "if r.status_code == requests.codes.ok:\n",
    "    # 以 BeautifulSoup 解析 HTML 程式碼\n",
    "    soup = BeautifulSoup(r.text, 'html.parser')\n",
    "\n",
    "    # 以 CSS 的 class 抓出各類頭條新聞\n",
    "    stories = soup.find_all('a', class_='story-title')\n",
    "    for s in stories:\n",
    "        # 新聞標題\n",
    "        print(\"標題：\" + s.text)\n",
    "        # 新聞網址\n",
    "        print(\"網址：\" + s.get('href'))\n",
    "        \n",
    "##程式執行之後，就會輸出 Yahoo 首頁頭條新聞的標題與網址："
   ]
  },
  {
   "cell_type": "markdown",
   "metadata": {},
   "source": [
    "## 下載 Google 搜尋結果"
   ]
  },
  {
   "cell_type": "code",
   "execution_count": 34,
   "metadata": {
    "ExecuteTime": {
     "end_time": "2019-01-15T07:50:26.694504Z",
     "start_time": "2019-01-15T07:50:24.197439Z"
    }
   },
   "outputs": [
    {
     "name": "stdout",
     "output_type": "stream",
     "text": [
      "標題：氣象局一張圖來了！ 未來一周降溫但寒流不會來| 生活新聞| 生活| 聯合 ...\n",
      "網址：/url?q=https://udn.com/news/story/7266/3514053&sa=U&ved=0ahUKEwix_svQpu_fAhWCa7wKHf9OCTQQFggcMAM&usg=AOvVaw3D99X057WcYckBOCS93dT0\n",
      "標題：冬天終於來了！氣象局預測：首波寒流最快12月中旬報到| 生活| 新頭殼 ...\n",
      "網址：/url?q=https://newtalk.tw/news/view/2018-11-30/174090&sa=U&ved=0ahUKEwix_svQpu_fAhWCa7wKHf9OCTQQFggiMAQ&usg=AOvVaw0pMV8mMn0L9BPXNB4ohGY1\n",
      "標題：寒流 - 中央氣象局\n",
      "網址：/url?q=https://www.cwb.gov.tw/V7/climate/climate_info/taiwan_climate/taiwan_3/taiwan_3_5.html&sa=U&ved=0ahUKEwix_svQpu_fAhWCa7wKHf9OCTQQFggoMAU&usg=AOvVaw3XJq8Dtx9hBd6HRLx4ejYN\n",
      "標題：第一波寒流時間曝光！氣象局：暖冬仍降10度以下  TVBS新聞網\n",
      "網址：/url?q=https://news.tvbs.com.tw/life/1039423&sa=U&ved=0ahUKEwix_svQpu_fAhWCa7wKHf9OCTQQFggtMAY&usg=AOvVaw2iobkbt8eIAx-w_KMPC7ws\n",
      "標題：羽絨外套準備！首波寒流時間曝光氣象局：低溫恐10度- Yahoo奇摩新聞\n",
      "網址：/url?q=https://tw.news.yahoo.com/%25E7%25BE%25BD%25E7%25B5%25A8%25E5%25A4%2596%25E5%25A5%2597%25E6%25BA%2596%25E5%2582%2599-%25E9%25A6%2596%25E6%25B3%25A2%25E5%25AF%2592%25E6%25B5%2581%25E8%25A6%2581%25E4%25BE%2586%25E4%25BA%2586-%25E6%25B0%25A3%25E8%25B1%25A1%25E5%25B1%2580-%25E4%25BD%258E%25E6%25BA%25AB%25E6%258E%25A21%25E5%25AD%2597%25E9%25A0%25AD-080300013.html&sa=U&ved=0ahUKEwix_svQpu_fAhWCa7wKHf9OCTQQFggzMAc&usg=AOvVaw1Uk240N6lsgpXEollhDTJa\n",
      "標題：寒流什麼時候來4個QA搞懂未來氣溫變化- Yahoo奇摩新聞\n",
      "網址：/url?q=https://tw.news.yahoo.com/%25E5%25AF%2592%25E6%25B5%2581%25E4%25BB%2580%25E9%25BA%25BC%25E6%2599%2582%25E5%2580%2599%25E4%25BE%2586-4%25E5%2580%258Bqa%25E6%2590%259E%25E6%2587%2582%25E6%259C%25AA%25E4%25BE%2586%25E6%25B0%25A3%25E6%25BA%25AB%25E8%25AE%258A%25E5%258C%2596-103423815.html&sa=U&ved=0ahUKEwix_svQpu_fAhWCa7wKHf9OCTQQFgg5MAg&usg=AOvVaw1ZO3KSIEpmW4TiIvlcOULG\n",
      "標題：天氣即時預報- 冷空氣解密：未來還有寒流嗎？ --... | Facebook\n",
      "網址：/url?q=https://www.facebook.com/weather.taiwan/posts/%25E5%2586%25B7%25E7%25A9%25BA%25E6%25B0%25A3%25E8%25A7%25A3%25E5%25AF%2586%25E6%259C%25AA%25E4%25BE%2586%25E9%2582%2584%25E6%259C%2589%25E5%25AF%2592%25E6%25B5%2581%25E5%2597%258E-%25E9%2580%25B1%25E6%2597%25A5%25E6%2599%259A%25E8%25B5%25B7%25E5%25AF%2592%25E6%25BD%25AE%25E5%2586%258D%25E6%25AC%25A1%25E7%2588%2586%25E7%2599%25BC%25E5%25BC%25B7%25E5%25BA%25A6%25E5%258F%25AF%25E8%2583%25BD%25E5%25A2%259E%25E5%25BC%25B7%25E7%2582%25BA%25E5%25AF%2592%25E6%25B5%2581%25E6%258C%2581%25E7%25BA%258C%25E6%2599%2582%25E9%2596%2593%25E8%2587%25B3%25E5%25B0%2591%25E5%259B%259B%25E5%25A4%25A9%25E6%2588%2596%25E4%25BB%25A5%25E4%25B8%258A%25E4%25B8%2594%25E5%2585%25A8%25E5%258F%25B0%25E6%25BF%2595%25E5%2586%25B7%25E6%258F%2590%25E9%2586%2592%25E7%2589%25B9%25E5%2588%25A5%25E7%2595%2599%25E6%2584%258F-1800%25E7%2599%25BC%25E4%25BD%2588%25E6%25AF%258F%25E6%25AC%25A1%25E5%2586%25AC%25E5%25A4%25A9%25E5%25AF%2592%25E6%25B5%2581%25E4%25BE%2586%25E8%25A5%25B2%25E5%25A4%25A7%25E5%25AE%25B6%25E7%25B8%25BD%25E6%2598%25AF%25E8%25A2%25AB%25E5%2587%258D%25E7%259A%2584%25E5%258F%2597%25E4%25B8%258D%25E4%25BA%2586%25E5%25A6%2582/1630102397045512/&sa=U&ved=0ahUKEwix_svQpu_fAhWCa7wKHf9OCTQQFgg_MAk&usg=AOvVaw3brYpMQm6WnmQtZ0S6lauk\n",
      "標題：冬季氣溫正常偏暖首波寒流恐12月中旬報到| 氣象局| 天氣| 寒流| 台灣 ...\n",
      "網址：/url?q=https://www.epochtimes.com.tw/n267504/%25E5%2586%25AC%25E5%25AD%25A3%25E6%25B0%25A3%25E6%25BA%25AB%25E6%25AD%25A3%25E5%25B8%25B8%25E5%2581%258F%25E6%259A%2596-%25E9%25A6%2596%25E6%25B3%25A2%25E5%25AF%2592%25E6%25B5%2581%25E6%2581%259012%25E6%259C%2588%25E4%25B8%25AD%25E6%2597%25AC%25E5%25A0%25B1%25E5%2588%25B0.html&sa=U&ved=0ahUKEwix_svQpu_fAhWCa7wKHf9OCTQQFghBMAo&usg=AOvVaw3LI-1tWMho71CQ4wP-Ive3\n",
      "標題：維尼哥哥科學選文16：任立渝∼寒流來了！\n",
      "網址：/url?q=http://www.bud.org.tw/Winnie/Winnie16.htm&sa=U&ved=0ahUKEwix_svQpu_fAhWCa7wKHf9OCTQQFghHMAs&usg=AOvVaw2hBxX2BchbWIyDXEKreI7G\n"
     ]
    }
   ],
   "source": [
    "import requests\n",
    "from bs4 import BeautifulSoup\n",
    "\n",
    "# Google 搜尋 URL\n",
    "google_url = 'https://www.google.com.tw/search'\n",
    "\n",
    "# 查詢參數\n",
    "my_params = {'q': '寒流'}\n",
    "\n",
    "# 下載 Google 搜尋結果\n",
    "r = requests.get(google_url, params = my_params)\n",
    "\n",
    "# 確認是否下載成功\n",
    "if r.status_code == requests.codes.ok:\n",
    "    # 以 BeautifulSoup 解析 HTML 原始碼\n",
    "    soup = BeautifulSoup(r.text, 'html.parser')\n",
    "\n",
    "    # 觀察 HTML 原始碼\n",
    "    # print(soup.prettify())\n",
    "\n",
    "    # 以 CSS 的選擇器來抓取 Google 的搜尋結果\n",
    "    items = soup.select('div.g > h3.r > a[href^=\"/url\"]')\n",
    "    for i in items:\n",
    "        # 標題\n",
    "        print(\"標題：\" + i.text)\n",
    "        # 網址\n",
    "        print(\"網址：\" + i.get('href'))"
   ]
  },
  {
   "cell_type": "code",
   "execution_count": null,
   "metadata": {},
   "outputs": [],
   "source": []
  }
 ],
 "metadata": {
  "hide_input": false,
  "kernelspec": {
   "display_name": "Python [default]",
   "language": "python",
   "name": "python3"
  },
  "language_info": {
   "codemirror_mode": {
    "name": "ipython",
    "version": 3
   },
   "file_extension": ".py",
   "mimetype": "text/x-python",
   "name": "python",
   "nbconvert_exporter": "python",
   "pygments_lexer": "ipython3",
   "version": "3.6.5"
  },
  "toc": {
   "base_numbering": 1,
   "nav_menu": {},
   "number_sections": true,
   "sideBar": true,
   "skip_h1_title": false,
   "title_cell": "Table of Contents",
   "title_sidebar": "Contents",
   "toc_cell": false,
   "toc_position": {
    "height": "calc(100% - 180px)",
    "left": "10px",
    "top": "150px",
    "width": "165px"
   },
   "toc_section_display": true,
   "toc_window_display": true
  },
  "varInspector": {
   "cols": {
    "lenName": 16,
    "lenType": 16,
    "lenVar": 40
   },
   "kernels_config": {
    "python": {
     "delete_cmd_postfix": "",
     "delete_cmd_prefix": "del ",
     "library": "var_list.py",
     "varRefreshCmd": "print(var_dic_list())"
    },
    "r": {
     "delete_cmd_postfix": ") ",
     "delete_cmd_prefix": "rm(",
     "library": "var_list.r",
     "varRefreshCmd": "cat(var_dic_list()) "
    }
   },
   "types_to_exclude": [
    "module",
    "function",
    "builtin_function_or_method",
    "instance",
    "_Feature"
   ],
   "window_display": false
  }
 },
 "nbformat": 4,
 "nbformat_minor": 2
}
