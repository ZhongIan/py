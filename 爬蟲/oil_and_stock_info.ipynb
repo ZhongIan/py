{
 "cells": [
  {
   "cell_type": "markdown",
   "metadata": {},
   "source": [
    "# 股價資訊"
   ]
  },
  {
   "cell_type": "code",
   "execution_count": 1,
   "metadata": {
    "ExecuteTime": {
     "end_time": "2019-03-09T13:48:29.606013Z",
     "start_time": "2019-03-09T13:48:28.342461Z"
    }
   },
   "outputs": [],
   "source": [
    "import requests\n",
    "from bs4 import BeautifulSoup\n",
    "from ast import literal_eval\n",
    "def stock_info(stock_name='2330'):\n",
    "    # 新聞網址 news_target為相對網址，需要 domain_url\n",
    "    domain_url = 'https://www.wantgoo.com/'\n",
    "    stock_url = 'https://www.wantgoo.com/stock/' + stock_name\n",
    "    # response\n",
    "    res = requests.get(stock_url)\n",
    "    # 解析\n",
    "    soup = BeautifulSoup(res.text, 'html.parser')\n",
    "    # 目標: 新聞\n",
    "    news_target = soup.find_all('ul', class_='ell lists')[0].find_all('a')\n",
    "\n",
    "    news_content = ''\n",
    "    # 只取 5筆\n",
    "    if len(news_target)>5:\n",
    "        num = 5\n",
    "    else :\n",
    "        num = len(news_target)\n",
    "    for i in range(num):\n",
    "        news_content += f\"{news_target[i].text} \\n \" + \\\n",
    "            f\"{domain_url + news_target[i].get('href')} \\n\\n\"\n",
    "    \n",
    "    # 即時股價資訊，需要 headers 進行訪問\n",
    "    head = {\n",
    "        'referer': stock_url,\n",
    "        'user-agent': 'Mozilla/5.0 (Windows NT 10.0; Win64; x64) AppleWebKit/537.36 (KHTML, like Gecko) Chrome/72.0.3626.121 Safari/537.36'\n",
    "    }\n",
    "\n",
    "    realtime_url = 'https://www.wantgoo.com/stock/astock/realtimechartupdatedata?StockNo=' + stock_name\n",
    "    res = requests.get(realtime_url,headers=head)\n",
    "    \n",
    "    # eval() :str -> 轉成程式碼 ; res.json()['returnValues'] 回傳文字\n",
    "    # https://stackoverflow.com/questions/30109030/how-does-strlist-work\n",
    "    realtime_stock_info = literal_eval(\n",
    "        res.json()['returnValues'].replace('null','\"nan\"') # 更換空值 null -> nan\n",
    "    )['_01_基本股價資訊']\n",
    "\n",
    "    stock_info_content = ''\n",
    "    for i in ['更新時間','StockNo','Name','開','高','低','收','成交量']:\n",
    "        stock_info_content += f'{i}: {realtime_stock_info[i]} \\n'\n",
    "    \n",
    "    content = '相關新聞:\\n' + news_content + '即時股價資訊:\\n' + stock_info_content\n",
    "    return content"
   ]
  },
  {
   "cell_type": "code",
   "execution_count": 2,
   "metadata": {
    "ExecuteTime": {
     "end_time": "2019-03-09T13:48:43.577537Z",
     "start_time": "2019-03-09T13:48:42.549590Z"
    }
   },
   "outputs": [
    {
     "name": "stdout",
     "output_type": "stream",
     "text": [
      "相關新聞:\n",
      "台泥特別股、光隆特別股掛牌 早盤逆勢上漲 \n",
      " https://www.wantgoo.com//News/Content/Index?ID=927167 \n",
      "\n",
      "即時股價資訊:\n",
      "更新時間: 2019/03/08 13:30:36 \n",
      "StockNo: 1101B \n",
      "Name: 台泥乙特 \n",
      "開: 51.4 \n",
      "高: 51.5 \n",
      "低: 51.4 \n",
      "收: 51.5 \n",
      "成交量: 205 \n",
      "\n"
     ]
    }
   ],
   "source": [
    "content = stock_info(stock_name='1101b')\n",
    "\n",
    "print(content)"
   ]
  },
  {
   "cell_type": "markdown",
   "metadata": {},
   "source": [
    "# 油價資訊"
   ]
  },
  {
   "cell_type": "code",
   "execution_count": 3,
   "metadata": {
    "ExecuteTime": {
     "end_time": "2019-03-09T13:49:00.941843Z",
     "start_time": "2019-03-09T13:49:00.935840Z"
    }
   },
   "outputs": [],
   "source": [
    "def oil_price():\n",
    "    url = 'https://gas.goodlife.tw/'\n",
    "    res = requests.get(url)\n",
    "    soup = BeautifulSoup(res.text, 'html.parser')\n",
    "    # 最後更新時間\n",
    "    main = soup.select('#main')[0].text.replace('\\n', '').split('(')[0]\n",
    "    # 調整\n",
    "    gas_price = soup.select('#gas-price')[0].text.replace('\\n\\n\\n', '').replace(' ', '')\n",
    "    # 油價\n",
    "    cpc = soup.select('#cpc')[0].text.replace(' ', '').split('\\n')\n",
    "\n",
    "    cpc_title = cpc[1] # 今日中油油價\n",
    "    cpc_92 = cpc[5]\n",
    "    cpc_95 = cpc[8]\n",
    "    cpc_98 = cpc[11]\n",
    "    cpc_柴油 = cpc[14]\n",
    "\n",
    "    content = f'{main}\\n{gas_price}\\n\\n' + \\\n",
    "        f'{cpc_title}\\n 92汽油:{cpc_92}\\n 95汽油:{cpc_95}\\n 98汽油:{cpc_98}\\n 柴油:{cpc_柴油}'\n",
    "\n",
    "    return content"
   ]
  },
  {
   "cell_type": "code",
   "execution_count": 4,
   "metadata": {
    "ExecuteTime": {
     "end_time": "2019-03-09T13:49:11.745186Z",
     "start_time": "2019-03-09T13:49:11.014559Z"
    }
   },
   "outputs": [
    {
     "name": "stdout",
     "output_type": "stream",
     "text": [
      "最後更新時間: 2019-03-09 21:40 \n",
      "柴油預計調整:\n",
      "-0.1元\n",
      "受到鄰國油價影響，下週一2019年03月11日起,預計汽油每公升:\n",
      "不調整\n",
      "\n",
      "今日中油油價\n",
      " 92汽油:26.5\n",
      " 95汽油:28.0\n",
      " 98汽油:30.0\n",
      " 柴油:25.5\n"
     ]
    }
   ],
   "source": [
    "print(oil_price())"
   ]
  },
  {
   "cell_type": "code",
   "execution_count": null,
   "metadata": {},
   "outputs": [],
   "source": []
  },
  {
   "cell_type": "code",
   "execution_count": null,
   "metadata": {},
   "outputs": [],
   "source": []
  },
  {
   "cell_type": "code",
   "execution_count": null,
   "metadata": {},
   "outputs": [],
   "source": []
  },
  {
   "cell_type": "code",
   "execution_count": null,
   "metadata": {},
   "outputs": [],
   "source": []
  }
 ],
 "metadata": {
  "hide_input": false,
  "kernelspec": {
   "display_name": "Python [default]",
   "language": "python",
   "name": "python3"
  },
  "language_info": {
   "codemirror_mode": {
    "name": "ipython",
    "version": 3
   },
   "file_extension": ".py",
   "mimetype": "text/x-python",
   "name": "python",
   "nbconvert_exporter": "python",
   "pygments_lexer": "ipython3",
   "version": "3.6.5"
  },
  "toc": {
   "base_numbering": 1,
   "nav_menu": {},
   "number_sections": true,
   "sideBar": true,
   "skip_h1_title": false,
   "title_cell": "Table of Contents",
   "title_sidebar": "Contents",
   "toc_cell": false,
   "toc_position": {},
   "toc_section_display": true,
   "toc_window_display": false
  },
  "varInspector": {
   "cols": {
    "lenName": 16,
    "lenType": 16,
    "lenVar": 40
   },
   "kernels_config": {
    "python": {
     "delete_cmd_postfix": "",
     "delete_cmd_prefix": "del ",
     "library": "var_list.py",
     "varRefreshCmd": "print(var_dic_list())"
    },
    "r": {
     "delete_cmd_postfix": ") ",
     "delete_cmd_prefix": "rm(",
     "library": "var_list.r",
     "varRefreshCmd": "cat(var_dic_list()) "
    }
   },
   "types_to_exclude": [
    "module",
    "function",
    "builtin_function_or_method",
    "instance",
    "_Feature"
   ],
   "window_display": false
  }
 },
 "nbformat": 4,
 "nbformat_minor": 2
}
