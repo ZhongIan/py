{
 "cells": [
  {
   "cell_type": "markdown",
   "metadata": {},
   "source": [
    "# 來源網址\n",
    "\n",
    "https://www.cnblogs.com/huxi/archive/2010/07/04/1771073.html\n",
    "\n",
    "**正則表達式--廖雪峰**\n",
    "\n",
    "https://www.liaoxuefeng.com/wiki/001374738125095c955c1e6d8bb493182103fac9270762a000/001386832260566c26442c671fa489ebc6fe85badda25cd000"
   ]
  },
  {
   "cell_type": "markdown",
   "metadata": {},
   "source": [
    "# 正則表達式"
   ]
  },
  {
   "cell_type": "markdown",
   "metadata": {},
   "source": [
    "因为正则表达式也是用字符串表示的，所以，我们要首先了解如何用字符来描述字符。\n",
    "\n",
    "在正则表达式中，如果直接给出字符，就是精确匹配。用`\\d`可以匹配一个数字，`\\w`可以匹配一个字母或数字，所以：\n",
    "\n",
    "* '00\\d'可以匹配'007'，但无法匹配'00A'；\n",
    "\n",
    "* '\\d\\d\\d'可以匹配'010'；\n",
    " \n",
    "* '\\w\\w\\d'可以匹配'py3'；\n",
    "\n",
    "`.`可以匹配任意字符，所以：\n",
    "\n",
    "* 'py.'可以匹配'pyc'、'pyo'、'py!'等等。\n",
    "\n",
    "要匹配变长的字符，在正则表达式中，用`*`表示任意个字符（包括0个），用`+`表示至少一个字符，用`?`表示0个或1个字符，用`{n}`表示n个字符，用`{n,m}`表示n-m个字符：\n",
    "\n",
    "来看一个复杂的例子：\\d{3}\\s+\\d{3,8}。\n",
    "\n",
    "我们来从左到右解读一下：\n",
    "\n",
    "\\d{3}表示匹配3个数字，例如'010'；\n",
    "\n",
    "\\s可以匹配一个空格（也包括Tab等空白符），所以\\s+表示至少有一个空格，例如匹配' '，' '等；\n",
    "\n",
    "\\d{3,8}表示3-8个数字，例如'1234567'。\n",
    "\n",
    "综合起来，上面的正则表达式可以匹配以任意个空格隔开的带区号的电话号码。\n",
    "\n",
    "如果要匹配'010-12345'这样的号码呢？由于'-'是特殊字符，在正则表达式中，要用'\\'转义，所以，上面的正则是`\\d{3}\\-\\d{3,8}`。\n",
    "\n",
    "但是，仍然无法匹配'010 - 12345'，因为带有空格。所以我们需要更复杂的匹配方式。"
   ]
  },
  {
   "cell_type": "markdown",
   "metadata": {},
   "source": [
    "## 进阶"
   ]
  },
  {
   "cell_type": "markdown",
   "metadata": {},
   "source": [
    "要做更精确地匹配，可以用`[]`表示范围，比如：\n",
    "\n",
    "[0-9a-zA-Z\\_]可以匹配一个数字、字母或者下划线；\n",
    "\n",
    "[0-9a-zA-Z\\_]+可以匹配至少由一个数字、字母或者下划线组成的字符串，比如'a100'，'0_Z'，'Py3000'等等；\n",
    "\n",
    "[a-zA-Z\\_][0-9a-zA-Z\\_]*可以匹配由字母或下划线开头，后接任意个由一个数字、字母或者下划线组成的字符串，也就是Python合法的变量；\n",
    "\n",
    "[a-zA-Z\\_][0-9a-zA-Z\\_]{0, 19}更精确地限制了变量的长度是1-20个字符（前面1个字符+后面最多19个字符）。\n",
    "\n",
    "`A|B`可以匹配A或B，所以(P|p)ython可以匹配'Python'或者'python'。\n",
    "\n",
    "`^`表示行的开头，`^\\d`表示必须以数字开头。\n",
    "\n",
    "`$`表示行的结束，`\\d$`表示必须以数字结束。\n",
    "\n",
    "你可能注意到了，py也可以匹配'python'，但是加上`^py$`就变成了整行匹配，就只能匹配'py'了。"
   ]
  },
  {
   "cell_type": "markdown",
   "metadata": {},
   "source": [
    "## re模块"
   ]
  },
  {
   "cell_type": "markdown",
   "metadata": {
    "ExecuteTime": {
     "end_time": "2019-03-29T09:09:09.550562Z",
     "start_time": "2019-03-29T09:09:09.544585Z"
    }
   },
   "source": [
    "\n",
    "有了准备知识，我们就可以在Python中使用正则表达式了。Python提供re模块，包含所有正则表达式的功能。由于Python的字符串本身也用\\转义，所以要特别注意：\n",
    "\n",
    "```py\n",
    "s = 'ABC\\\\-001' # Python的字符串\n",
    "# 对应的正则表达式字符串变成：\n",
    "# 'ABC\\-001'\n",
    "```\n",
    "\n",
    "因此我们强烈建议使用Python的r前缀，就不用考虑转义的问题了：\n",
    "\n",
    "```py\n",
    "s = r'ABC\\-001' # Python的字符串\n",
    "# 对应的正则表达式字符串不变：\n",
    "# 'ABC\\-001'\n",
    "```\n",
    "\n",
    "先看看如何判断正则表达式是否匹配：\n",
    "\n",
    "```py\n",
    "import re\n",
    "re.match(r'^\\d{3}\\-\\d{3,8}$', '010-12345')\n",
    "<_sre.SRE_Match object at 0x1026e18b8>\n",
    "\n",
    "re.match(r'^\\d{3}\\-\\d{3,8}$', '010 12345')\n",
    "```\n",
    "\n",
    "match()方法判断是否匹配，如果匹配成功，返回一个Match对象，否则返回None。常见的判断方法就是：\n",
    "\n",
    "test = '用户输入的字符串'\n",
    "if re.match(r'正则表达式', test):\n",
    "    print 'ok'\n",
    "else:\n",
    "    print 'failed'\n"
   ]
  },
  {
   "cell_type": "markdown",
   "metadata": {},
   "source": [
    "### 切分字符串"
   ]
  },
  {
   "cell_type": "markdown",
   "metadata": {},
   "source": [
    "```py\n",
    ">>> 'a b   c'.split(' ')\n",
    "['a', 'b', '', '', 'c']\n",
    "```\n",
    "\n",
    "嗯，无法识别连续的空格，用正则表达式试试：\n",
    "\n",
    "```py\n",
    ">>> re.split(r'\\s+', 'a b   c')\n",
    "['a', 'b', 'c']\n",
    "```\n",
    "\n",
    "无论多少个空格都可以正常分割。加入,试试：\n",
    "\n",
    "```py\n",
    ">>> re.split(r'[\\s\\,]+', 'a,b, c  d')\n",
    "['a', 'b', 'c', 'd']\n",
    "```\n",
    "\n",
    "再加入;试试：\n",
    "\n",
    "```py\n",
    ">>> re.split(r'[\\s\\,\\;]+', 'a,b;; c  d')\n",
    "['a', 'b', 'c', 'd']\n",
    "```\n",
    "\n",
    "如果用户输入了一组标签，下次记得用正则表达式来把不规范的输入转化成正确的数组。"
   ]
  },
  {
   "cell_type": "markdown",
   "metadata": {},
   "source": [
    "### 分组"
   ]
  },
  {
   "cell_type": "markdown",
   "metadata": {},
   "source": [
    "\n",
    "除了简单地判断是否匹配之外，正则表达式还有提取子串的强大功能。用()表示的就是要提取的分组（Group）。比如：\n",
    "\n",
    "`^(\\d{3})-(\\d{3,8})$`分别定义了两个组，可以直接从匹配的字符串中提取出区号和本地号码："
   ]
  },
  {
   "cell_type": "code",
   "execution_count": 6,
   "metadata": {
    "ExecuteTime": {
     "end_time": "2019-03-29T09:14:52.130525Z",
     "start_time": "2019-03-29T09:14:52.120550Z"
    }
   },
   "outputs": [
    {
     "data": {
      "text/plain": [
       "<_sre.SRE_Match object; span=(0, 9), match='010-12345'>"
      ]
     },
     "execution_count": 6,
     "metadata": {},
     "output_type": "execute_result"
    },
    {
     "data": {
      "text/plain": [
       "'010-12345'"
      ]
     },
     "execution_count": 6,
     "metadata": {},
     "output_type": "execute_result"
    },
    {
     "data": {
      "text/plain": [
       "'010'"
      ]
     },
     "execution_count": 6,
     "metadata": {},
     "output_type": "execute_result"
    },
    {
     "data": {
      "text/plain": [
       "'12345'"
      ]
     },
     "execution_count": 6,
     "metadata": {},
     "output_type": "execute_result"
    }
   ],
   "source": [
    "import re\n",
    "\n",
    "m = re.match(r'^(\\d{3})-(\\d{3,8})$', '010-12345')\n",
    "m\n",
    "\n",
    "m.group(0)\n",
    "\n",
    "m.group(1)\n",
    "\n",
    "m.group(2)\n"
   ]
  },
  {
   "cell_type": "markdown",
   "metadata": {},
   "source": [
    "如果正则表达式中定义了组，就可以在Match对象上用group()方法提取出子串来。\n",
    "\n",
    "注意到group(0)永远是原始字符串，group(1)、group(2)……表示第1、2、……个子串。"
   ]
  },
  {
   "cell_type": "markdown",
   "metadata": {
    "ExecuteTime": {
     "end_time": "2019-03-29T09:18:18.585725Z",
     "start_time": "2019-03-29T09:18:18.580753Z"
    }
   },
   "source": [
    "### 貪婪匹配、非貪婪匹配\n",
    "\n",
    "最后需要特别指出的是，正则匹配默认是贪婪匹配，也就是匹配尽可能多的字符。举例如下，匹配出数字后面的0："
   ]
  },
  {
   "cell_type": "code",
   "execution_count": 8,
   "metadata": {
    "ExecuteTime": {
     "end_time": "2019-03-29T09:19:35.867693Z",
     "start_time": "2019-03-29T09:19:35.862741Z"
    }
   },
   "outputs": [
    {
     "data": {
      "text/plain": [
       "('102300', '')"
      ]
     },
     "execution_count": 8,
     "metadata": {},
     "output_type": "execute_result"
    }
   ],
   "source": [
    "re.match(r'^(\\d+)(0*)$', '102300').groups()"
   ]
  },
  {
   "cell_type": "markdown",
   "metadata": {},
   "source": [
    "由于`\\d+`采用贪婪匹配，直接把后面的0全部匹配了，结果`0*`只能匹配空字符串了。\n",
    "\n",
    "必须让`\\d+`采用非贪婪匹配（也就是尽可能少匹配），才能把后面的0匹配出来，加个`?`就可以让\\d+采用非贪婪匹配："
   ]
  },
  {
   "cell_type": "code",
   "execution_count": 9,
   "metadata": {
    "ExecuteTime": {
     "end_time": "2019-03-29T09:20:37.280562Z",
     "start_time": "2019-03-29T09:20:37.275575Z"
    }
   },
   "outputs": [
    {
     "data": {
      "text/plain": [
       "('1023', '00')"
      ]
     },
     "execution_count": 9,
     "metadata": {},
     "output_type": "execute_result"
    }
   ],
   "source": [
    "re.match(r'^(\\d+?)(0*)$', '102300').groups()"
   ]
  },
  {
   "cell_type": "markdown",
   "metadata": {},
   "source": [
    "### 编译"
   ]
  },
  {
   "cell_type": "markdown",
   "metadata": {
    "ExecuteTime": {
     "end_time": "2019-03-29T09:21:49.979316Z",
     "start_time": "2019-03-29T09:21:49.975371Z"
    }
   },
   "source": [
    "当我们在Python中使用正则表达式时，re模块内部会干两件事情：\n",
    "\n",
    "编译正则表达式，如果正则表达式的字符串本身不合法，会报错；\n",
    "\n",
    "用编译后的正则表达式去匹配字符串。\n",
    "\n",
    "如果一个正则表达式要重复使用几千次，出于效率的考虑，我们可以预编译该正则表达式，接下来重复使用时就不需要编译这个步骤了，直接匹配："
   ]
  },
  {
   "cell_type": "code",
   "execution_count": 13,
   "metadata": {
    "ExecuteTime": {
     "end_time": "2019-03-29T09:22:45.748423Z",
     "start_time": "2019-03-29T09:22:45.742439Z"
    }
   },
   "outputs": [
    {
     "data": {
      "text/plain": [
       "('010', '12345')"
      ]
     },
     "execution_count": 13,
     "metadata": {},
     "output_type": "execute_result"
    },
    {
     "data": {
      "text/plain": [
       "('010', '8086')"
      ]
     },
     "execution_count": 13,
     "metadata": {},
     "output_type": "execute_result"
    }
   ],
   "source": [
    "import re\n",
    "# 编译:\n",
    "re_telephone = re.compile(r'^(\\d{3})-(\\d{3,8})$')\n",
    "# 使用：\n",
    "re_telephone.match('010-12345').groups()\n",
    "\n",
    "re_telephone.match('010-8086').groups()\n"
   ]
  },
  {
   "cell_type": "markdown",
   "metadata": {},
   "source": [
    "## 小節--小試身手"
   ]
  },
  {
   "cell_type": "markdown",
   "metadata": {},
   "source": [
    "请尝试写一个验证Email地址的正则表达式。版本一应该可以验证出类似的Email：\n",
    "\n",
    "someone@gmail\\.com\n",
    "\n",
    "bill.gates@microsoft\\.com\n",
    "\n",
    "版本二可以验证并提取出带名字的Email地址：\n",
    "\n",
    "`<Tom Paris> tom@voyager.org`"
   ]
  },
  {
   "cell_type": "markdown",
   "metadata": {},
   "source": [
    "说明一下：\n",
    "\n",
    "`^[0-9a-zA-Z][0-9a-zA-Z\\_\\.]+\\@[0-9a-z]+\\.(com|cn|org|net)$`\n",
    "\n",
    "第一部分 `^[0-9a-zA-Z]` 邮箱基本上是以数字或字母为开头；\n",
    "\n",
    "第二部分 `[0-9a-zA-Z\\_\\.]+` 后面可以是数字、字母、下划线、小数点（目前了解是这样，可能有些邮箱比较特殊）；\n",
    "\n",
    "第三部分 `[0-9a-z]+` 域名前半部分通常都是小写字母或数字，如 gmail、163；\n",
    "\n",
    "第四部分 `(com|cn|org|net)$ `域名后半部分基本上是以这几个为结尾，还有 edu、gov 等暂未考虑进去。\n",
    "\n",
    "所以，整个正则表达式还可以简写成 `^[\\w][\\w\\_\\.]+\\@[\\w]+\\.(com|cn|org|net)$`"
   ]
  },
  {
   "cell_type": "code",
   "execution_count": 35,
   "metadata": {
    "ExecuteTime": {
     "end_time": "2019-03-29T09:37:04.532106Z",
     "start_time": "2019-03-29T09:37:04.527119Z"
    }
   },
   "outputs": [
    {
     "name": "stdout",
     "output_type": "stream",
     "text": [
      "You have input a wrong e-mail.\n"
     ]
    }
   ],
   "source": [
    "email = '<Tom Paris> tom@voyager.org'\n",
    "\n",
    "import re\n",
    "\n",
    "re_email = re.compile(r'(^[0-9a-zA-Z][0-9a-zA-Z\\_\\.]+)\\@[0-9a-z]+\\.(com|cn|org|net)$')\n",
    "\n",
    "m = re_email.match(email)\n",
    "\n",
    "if m:\n",
    "    print(\"OK.\")\n",
    "else:\n",
    "    print(\"You have input a wrong e-mail.\")"
   ]
  },
  {
   "cell_type": "code",
   "execution_count": 34,
   "metadata": {
    "ExecuteTime": {
     "end_time": "2019-03-29T09:36:38.388688Z",
     "start_time": "2019-03-29T09:36:38.383701Z"
    }
   },
   "outputs": [
    {
     "data": {
      "text/plain": [
       "'<Tom Paris> tom'"
      ]
     },
     "execution_count": 34,
     "metadata": {},
     "output_type": "execute_result"
    }
   ],
   "source": [
    "m.group(1)"
   ]
  },
  {
   "cell_type": "markdown",
   "metadata": {},
   "source": [
    "# pandas str"
   ]
  },
  {
   "cell_type": "code",
   "execution_count": 117,
   "metadata": {
    "ExecuteTime": {
     "end_time": "2019-03-25T07:42:47.142170Z",
     "start_time": "2019-03-25T07:42:47.138193Z"
    }
   },
   "outputs": [],
   "source": [
    "import requests\n",
    "\n",
    "import pandas as pd"
   ]
  },
  {
   "cell_type": "code",
   "execution_count": 118,
   "metadata": {
    "ExecuteTime": {
     "end_time": "2019-03-25T07:42:48.855345Z",
     "start_time": "2019-03-25T07:42:48.047395Z"
    }
   },
   "outputs": [
    {
     "data": {
      "text/plain": [
       "dict_keys(['settlements', 'updateTime', 'dsHeader', 'reportType', 'tradeDate', 'empty'])"
      ]
     },
     "execution_count": 118,
     "metadata": {},
     "output_type": "execute_result"
    }
   ],
   "source": [
    "url = 'https://www.cmegroup.com/CmeWS/mvc/Settlements/Futures/Settlements/437/FUT'\n",
    "#?strategy=DEFAULT&tradeDate=03%2F20%2F2019&pageSize=50&_=1553246305853'\n",
    "\n",
    "data = {\n",
    "    'strategy': 'DEFAULT',\n",
    "    'tradeDate': '03/21/2019'\n",
    "}\n",
    "\n",
    "res = requests.get(url, data)\n",
    "res.json().keys() #['settlements']"
   ]
  },
  {
   "cell_type": "code",
   "execution_count": 119,
   "metadata": {
    "ExecuteTime": {
     "end_time": "2019-03-25T07:42:50.306861Z",
     "start_time": "2019-03-25T07:42:50.108252Z"
    },
    "scrolled": true
   },
   "outputs": [
    {
     "data": {
      "text/html": [
       "<div>\n",
       "<style scoped>\n",
       "    .dataframe tbody tr th:only-of-type {\n",
       "        vertical-align: middle;\n",
       "    }\n",
       "\n",
       "    .dataframe tbody tr th {\n",
       "        vertical-align: top;\n",
       "    }\n",
       "\n",
       "    .dataframe thead th {\n",
       "        text-align: right;\n",
       "    }\n",
       "</style>\n",
       "<table border=\"1\" class=\"dataframe\">\n",
       "  <thead>\n",
       "    <tr style=\"text-align: right;\">\n",
       "      <th></th>\n",
       "      <th>change</th>\n",
       "      <th>high</th>\n",
       "      <th>last</th>\n",
       "      <th>low</th>\n",
       "      <th>month</th>\n",
       "      <th>open</th>\n",
       "      <th>openInterest</th>\n",
       "      <th>settle</th>\n",
       "      <th>volume</th>\n",
       "    </tr>\n",
       "  </thead>\n",
       "  <tbody>\n",
       "    <tr>\n",
       "      <th>1</th>\n",
       "      <td>+5.6</td>\n",
       "      <td>1320.2</td>\n",
       "      <td>1309.0</td>\n",
       "      <td>1302.8</td>\n",
       "      <td>APR 19</td>\n",
       "      <td>1312.7</td>\n",
       "      <td>201,837</td>\n",
       "      <td>1307.3</td>\n",
       "      <td>333,112</td>\n",
       "    </tr>\n",
       "    <tr>\n",
       "      <th>2</th>\n",
       "      <td>+5.9</td>\n",
       "      <td>1322.4</td>\n",
       "      <td>1312.1</td>\n",
       "      <td>1306.6</td>\n",
       "      <td>MAY 19</td>\n",
       "      <td>1316.0</td>\n",
       "      <td>978</td>\n",
       "      <td>1310.6</td>\n",
       "      <td>1,398</td>\n",
       "    </tr>\n",
       "    <tr>\n",
       "      <th>3</th>\n",
       "      <td>+5.8</td>\n",
       "      <td>1326.3</td>\n",
       "      <td>1315.2</td>\n",
       "      <td>1309.1</td>\n",
       "      <td>JUN 19</td>\n",
       "      <td>1318.6</td>\n",
       "      <td>219,795</td>\n",
       "      <td>1313.6</td>\n",
       "      <td>62,519</td>\n",
       "    </tr>\n",
       "    <tr>\n",
       "      <th>4</th>\n",
       "      <td>+5.7</td>\n",
       "      <td>1332.2</td>\n",
       "      <td>1321.3</td>\n",
       "      <td>1316.0</td>\n",
       "      <td>AUG 19</td>\n",
       "      <td>1326.1</td>\n",
       "      <td>43,342</td>\n",
       "      <td>1319.7</td>\n",
       "      <td>5,240</td>\n",
       "    </tr>\n",
       "    <tr>\n",
       "      <th>5</th>\n",
       "      <td>+5.7</td>\n",
       "      <td>1336.7</td>\n",
       "      <td>1327.1</td>\n",
       "      <td>1322.0</td>\n",
       "      <td>OCT 19</td>\n",
       "      <td>1332.7</td>\n",
       "      <td>5,790</td>\n",
       "      <td>1325.5</td>\n",
       "      <td>131</td>\n",
       "    </tr>\n",
       "    <tr>\n",
       "      <th>6</th>\n",
       "      <td>+5.8</td>\n",
       "      <td>1344.2</td>\n",
       "      <td>1331.7</td>\n",
       "      <td>1327.8</td>\n",
       "      <td>DEC 19</td>\n",
       "      <td>1338.0</td>\n",
       "      <td>28,287</td>\n",
       "      <td>1331.6</td>\n",
       "      <td>1,301</td>\n",
       "    </tr>\n",
       "    <tr>\n",
       "      <th>7</th>\n",
       "      <td>+5.5</td>\n",
       "      <td>1348.0</td>\n",
       "      <td>1336.0</td>\n",
       "      <td>1333.1</td>\n",
       "      <td>FEB 20</td>\n",
       "      <td>1348.0</td>\n",
       "      <td>9,783</td>\n",
       "      <td>1337.4</td>\n",
       "      <td>206</td>\n",
       "    </tr>\n",
       "    <tr>\n",
       "      <th>8</th>\n",
       "      <td>+5.5</td>\n",
       "      <td>1355.7B</td>\n",
       "      <td>1349.9</td>\n",
       "      <td>1349.9</td>\n",
       "      <td>APR 20</td>\n",
       "      <td>1352.2</td>\n",
       "      <td>2,992</td>\n",
       "      <td>1343.2</td>\n",
       "      <td>145</td>\n",
       "    </tr>\n",
       "    <tr>\n",
       "      <th>9</th>\n",
       "      <td>+5.5</td>\n",
       "      <td>1357.9</td>\n",
       "      <td>1357.9</td>\n",
       "      <td>1357.9</td>\n",
       "      <td>JUN 20</td>\n",
       "      <td>1357.9</td>\n",
       "      <td>1,592</td>\n",
       "      <td>1349.0</td>\n",
       "      <td>117</td>\n",
       "    </tr>\n",
       "    <tr>\n",
       "      <th>21</th>\n",
       "      <td></td>\n",
       "      <td></td>\n",
       "      <td></td>\n",
       "      <td></td>\n",
       "      <td>Total</td>\n",
       "      <td></td>\n",
       "      <td>516,116</td>\n",
       "      <td></td>\n",
       "      <td>404,169</td>\n",
       "    </tr>\n",
       "  </tbody>\n",
       "</table>\n",
       "</div>"
      ],
      "text/plain": [
       "   change     high    last     low   month    open openInterest  settle  \\\n",
       "1    +5.6   1320.2  1309.0  1302.8  APR 19  1312.7      201,837  1307.3   \n",
       "2    +5.9   1322.4  1312.1  1306.6  MAY 19  1316.0          978  1310.6   \n",
       "3    +5.8   1326.3  1315.2  1309.1  JUN 19  1318.6      219,795  1313.6   \n",
       "4    +5.7   1332.2  1321.3  1316.0  AUG 19  1326.1       43,342  1319.7   \n",
       "5    +5.7   1336.7  1327.1  1322.0  OCT 19  1332.7        5,790  1325.5   \n",
       "6    +5.8   1344.2  1331.7  1327.8  DEC 19  1338.0       28,287  1331.6   \n",
       "7    +5.5   1348.0  1336.0  1333.1  FEB 20  1348.0        9,783  1337.4   \n",
       "8    +5.5  1355.7B  1349.9  1349.9  APR 20  1352.2        2,992  1343.2   \n",
       "9    +5.5   1357.9  1357.9  1357.9  JUN 20  1357.9        1,592  1349.0   \n",
       "21                                   Total              516,116           \n",
       "\n",
       "     volume  \n",
       "1   333,112  \n",
       "2     1,398  \n",
       "3    62,519  \n",
       "4     5,240  \n",
       "5       131  \n",
       "6     1,301  \n",
       "7       206  \n",
       "8       145  \n",
       "9       117  \n",
       "21  404,169  "
      ]
     },
     "execution_count": 119,
     "metadata": {},
     "output_type": "execute_result"
    }
   ],
   "source": [
    "df = pd.DataFrame(res.json()['settlements'])\n",
    "df = df[df != '-'].dropna()\n",
    "df"
   ]
  },
  {
   "cell_type": "code",
   "execution_count": 120,
   "metadata": {
    "ExecuteTime": {
     "end_time": "2019-03-25T07:42:54.208536Z",
     "start_time": "2019-03-25T07:42:54.045860Z"
    }
   },
   "outputs": [
    {
     "data": {
      "text/html": [
       "<div>\n",
       "<style scoped>\n",
       "    .dataframe tbody tr th:only-of-type {\n",
       "        vertical-align: middle;\n",
       "    }\n",
       "\n",
       "    .dataframe tbody tr th {\n",
       "        vertical-align: top;\n",
       "    }\n",
       "\n",
       "    .dataframe thead th {\n",
       "        text-align: right;\n",
       "    }\n",
       "</style>\n",
       "<table border=\"1\" class=\"dataframe\">\n",
       "  <thead>\n",
       "    <tr style=\"text-align: right;\">\n",
       "      <th></th>\n",
       "      <th>open</th>\n",
       "      <th>high</th>\n",
       "      <th>low</th>\n",
       "      <th>last</th>\n",
       "      <th>openInterest</th>\n",
       "    </tr>\n",
       "    <tr>\n",
       "      <th>month</th>\n",
       "      <th></th>\n",
       "      <th></th>\n",
       "      <th></th>\n",
       "      <th></th>\n",
       "      <th></th>\n",
       "    </tr>\n",
       "  </thead>\n",
       "  <tbody>\n",
       "    <tr>\n",
       "      <th>APR 19</th>\n",
       "      <td>1312.7</td>\n",
       "      <td>1320.2</td>\n",
       "      <td>1302.8</td>\n",
       "      <td>1309.0</td>\n",
       "      <td>201,837</td>\n",
       "    </tr>\n",
       "    <tr>\n",
       "      <th>MAY 19</th>\n",
       "      <td>1316.0</td>\n",
       "      <td>1322.4</td>\n",
       "      <td>1306.6</td>\n",
       "      <td>1312.1</td>\n",
       "      <td>978</td>\n",
       "    </tr>\n",
       "    <tr>\n",
       "      <th>JUN 19</th>\n",
       "      <td>1318.6</td>\n",
       "      <td>1326.3</td>\n",
       "      <td>1309.1</td>\n",
       "      <td>1315.2</td>\n",
       "      <td>219,795</td>\n",
       "    </tr>\n",
       "    <tr>\n",
       "      <th>AUG 19</th>\n",
       "      <td>1326.1</td>\n",
       "      <td>1332.2</td>\n",
       "      <td>1316.0</td>\n",
       "      <td>1321.3</td>\n",
       "      <td>43,342</td>\n",
       "    </tr>\n",
       "    <tr>\n",
       "      <th>OCT 19</th>\n",
       "      <td>1332.7</td>\n",
       "      <td>1336.7</td>\n",
       "      <td>1322.0</td>\n",
       "      <td>1327.1</td>\n",
       "      <td>5,790</td>\n",
       "    </tr>\n",
       "    <tr>\n",
       "      <th>DEC 19</th>\n",
       "      <td>1338.0</td>\n",
       "      <td>1344.2</td>\n",
       "      <td>1327.8</td>\n",
       "      <td>1331.7</td>\n",
       "      <td>28,287</td>\n",
       "    </tr>\n",
       "    <tr>\n",
       "      <th>FEB 20</th>\n",
       "      <td>1348.0</td>\n",
       "      <td>1348.0</td>\n",
       "      <td>1333.1</td>\n",
       "      <td>1336.0</td>\n",
       "      <td>9,783</td>\n",
       "    </tr>\n",
       "    <tr>\n",
       "      <th>APR 20</th>\n",
       "      <td>1352.2</td>\n",
       "      <td>1355.7B</td>\n",
       "      <td>1349.9</td>\n",
       "      <td>1349.9</td>\n",
       "      <td>2,992</td>\n",
       "    </tr>\n",
       "    <tr>\n",
       "      <th>JUN 20</th>\n",
       "      <td>1357.9</td>\n",
       "      <td>1357.9</td>\n",
       "      <td>1357.9</td>\n",
       "      <td>1357.9</td>\n",
       "      <td>1,592</td>\n",
       "    </tr>\n",
       "  </tbody>\n",
       "</table>\n",
       "</div>"
      ],
      "text/plain": [
       "          open     high     low    last openInterest\n",
       "month                                               \n",
       "APR 19  1312.7   1320.2  1302.8  1309.0      201,837\n",
       "MAY 19  1316.0   1322.4  1306.6  1312.1          978\n",
       "JUN 19  1318.6   1326.3  1309.1  1315.2      219,795\n",
       "AUG 19  1326.1   1332.2  1316.0  1321.3       43,342\n",
       "OCT 19  1332.7   1336.7  1322.0  1327.1        5,790\n",
       "DEC 19  1338.0   1344.2  1327.8  1331.7       28,287\n",
       "FEB 20  1348.0   1348.0  1333.1  1336.0        9,783\n",
       "APR 20  1352.2  1355.7B  1349.9  1349.9        2,992\n",
       "JUN 20  1357.9   1357.9  1357.9  1357.9        1,592"
      ]
     },
     "execution_count": 120,
     "metadata": {},
     "output_type": "execute_result"
    }
   ],
   "source": [
    "df.index = df['month']\n",
    "\n",
    "df1 = df.iloc[:9,:].loc[:,['open','high','low','last','openInterest']][:]\n",
    "df1"
   ]
  },
  {
   "cell_type": "code",
   "execution_count": 122,
   "metadata": {
    "ExecuteTime": {
     "end_time": "2019-03-25T07:43:06.121368Z",
     "start_time": "2019-03-25T07:43:06.114387Z"
    }
   },
   "outputs": [
    {
     "data": {
      "text/plain": [
       "month\n",
       "APR 19    201837\n",
       "MAY 19       978\n",
       "JUN 19    219795\n",
       "AUG 19     43342\n",
       "OCT 19      5790\n",
       "DEC 19     28287\n",
       "FEB 20      9783\n",
       "APR 20      2992\n",
       "JUN 20      1592\n",
       "Name: openInterest, dtype: object"
      ]
     },
     "execution_count": 122,
     "metadata": {},
     "output_type": "execute_result"
    }
   ],
   "source": [
    "df1['openInterest'].apply(\n",
    "    lambda x:x.replace(',','')\n",
    ")"
   ]
  },
  {
   "cell_type": "code",
   "execution_count": 123,
   "metadata": {
    "ExecuteTime": {
     "end_time": "2019-03-25T07:43:09.035412Z",
     "start_time": "2019-03-25T07:43:09.027450Z"
    }
   },
   "outputs": [
    {
     "data": {
      "text/plain": [
       "month\n",
       "APR 19    1312.7\n",
       "MAY 19    1316.0\n",
       "JUN 19    1318.6\n",
       "AUG 19    1326.1\n",
       "OCT 19    1332.7\n",
       "DEC 19    1338.0\n",
       "FEB 20    1348.0\n",
       "APR 20    1352.2\n",
       "JUN 20    1357.9\n",
       "Name: open, dtype: float64"
      ]
     },
     "execution_count": 123,
     "metadata": {},
     "output_type": "execute_result"
    }
   ],
   "source": [
    "df1['open'].str.replace(',','').astype(float)"
   ]
  },
  {
   "cell_type": "code",
   "execution_count": 113,
   "metadata": {
    "ExecuteTime": {
     "end_time": "2019-03-23T09:45:04.901268Z",
     "start_time": "2019-03-23T09:45:04.653463Z"
    },
    "scrolled": true
   },
   "outputs": [
    {
     "data": {
      "text/html": [
       "<div>\n",
       "<style scoped>\n",
       "    .dataframe tbody tr th:only-of-type {\n",
       "        vertical-align: middle;\n",
       "    }\n",
       "\n",
       "    .dataframe tbody tr th {\n",
       "        vertical-align: top;\n",
       "    }\n",
       "\n",
       "    .dataframe thead th {\n",
       "        text-align: right;\n",
       "    }\n",
       "</style>\n",
       "<table border=\"1\" class=\"dataframe\">\n",
       "  <thead>\n",
       "    <tr style=\"text-align: right;\">\n",
       "      <th></th>\n",
       "      <th>0</th>\n",
       "    </tr>\n",
       "    <tr>\n",
       "      <th>month</th>\n",
       "      <th></th>\n",
       "    </tr>\n",
       "  </thead>\n",
       "  <tbody>\n",
       "    <tr>\n",
       "      <th>APR 19</th>\n",
       "      <td>91320.2</td>\n",
       "    </tr>\n",
       "    <tr>\n",
       "      <th>MAY 19</th>\n",
       "      <td>91322.4</td>\n",
       "    </tr>\n",
       "    <tr>\n",
       "      <th>JUN 19</th>\n",
       "      <td>91326.3</td>\n",
       "    </tr>\n",
       "    <tr>\n",
       "      <th>AUG 19</th>\n",
       "      <td>91332.2</td>\n",
       "    </tr>\n",
       "    <tr>\n",
       "      <th>OCT 19</th>\n",
       "      <td>91336.7</td>\n",
       "    </tr>\n",
       "    <tr>\n",
       "      <th>DEC 19</th>\n",
       "      <td>91344.2</td>\n",
       "    </tr>\n",
       "    <tr>\n",
       "      <th>FEB 20</th>\n",
       "      <td>91348.0</td>\n",
       "    </tr>\n",
       "    <tr>\n",
       "      <th>APR 20</th>\n",
       "      <td>91355.7</td>\n",
       "    </tr>\n",
       "    <tr>\n",
       "      <th>JUN 20</th>\n",
       "      <td>91357.9</td>\n",
       "    </tr>\n",
       "  </tbody>\n",
       "</table>\n",
       "</div>"
      ],
      "text/plain": [
       "              0\n",
       "month          \n",
       "APR 19  91320.2\n",
       "MAY 19  91322.4\n",
       "JUN 19  91326.3\n",
       "AUG 19  91332.2\n",
       "OCT 19  91336.7\n",
       "DEC 19  91344.2\n",
       "FEB 20  91348.0\n",
       "APR 20  91355.7\n",
       "JUN 20  91357.9"
      ]
     },
     "execution_count": 113,
     "metadata": {},
     "output_type": "execute_result"
    }
   ],
   "source": [
    "#['high'] 有時會出現 1355.7B 用正則篩選\n",
    "\n",
    "df1['high'].str.extract(r'(\\d*\\.\\d*)').astype(float) +90000"
   ]
  },
  {
   "cell_type": "code",
   "execution_count": 112,
   "metadata": {
    "ExecuteTime": {
     "end_time": "2019-03-22T11:51:04.534942Z",
     "start_time": "2019-03-22T11:51:04.517987Z"
    },
    "scrolled": true
   },
   "outputs": [
    {
     "data": {
      "text/plain": [
       "Index(['APR 19', 'MAY 19', 'JUN 19', 'AUG 19', 'OCT 19', 'DEC 19', 'FEB 20',\n",
       "       'APR 20', 'JUN 20'],\n",
       "      dtype='object', name='month')"
      ]
     },
     "execution_count": 112,
     "metadata": {},
     "output_type": "execute_result"
    },
    {
     "data": {
      "text/html": [
       "<div>\n",
       "<style scoped>\n",
       "    .dataframe tbody tr th:only-of-type {\n",
       "        vertical-align: middle;\n",
       "    }\n",
       "\n",
       "    .dataframe tbody tr th {\n",
       "        vertical-align: top;\n",
       "    }\n",
       "\n",
       "    .dataframe thead th {\n",
       "        text-align: right;\n",
       "    }\n",
       "</style>\n",
       "<table border=\"1\" class=\"dataframe\">\n",
       "  <thead>\n",
       "    <tr style=\"text-align: right;\">\n",
       "      <th></th>\n",
       "      <th>open</th>\n",
       "      <th>high</th>\n",
       "      <th>low</th>\n",
       "      <th>last</th>\n",
       "      <th>openInterest</th>\n",
       "    </tr>\n",
       "    <tr>\n",
       "      <th>month</th>\n",
       "      <th></th>\n",
       "      <th></th>\n",
       "      <th></th>\n",
       "      <th></th>\n",
       "      <th></th>\n",
       "    </tr>\n",
       "  </thead>\n",
       "  <tbody>\n",
       "    <tr>\n",
       "      <th>APR 19</th>\n",
       "      <td>1312.7</td>\n",
       "      <td>1320.2</td>\n",
       "      <td>1302.8</td>\n",
       "      <td>1309.0</td>\n",
       "      <td>201837.0</td>\n",
       "    </tr>\n",
       "    <tr>\n",
       "      <th>MAY 19</th>\n",
       "      <td>1316.0</td>\n",
       "      <td>1322.4</td>\n",
       "      <td>1306.6</td>\n",
       "      <td>1312.1</td>\n",
       "      <td>978.0</td>\n",
       "    </tr>\n",
       "    <tr>\n",
       "      <th>JUN 19</th>\n",
       "      <td>1318.6</td>\n",
       "      <td>1326.3</td>\n",
       "      <td>1309.1</td>\n",
       "      <td>1315.2</td>\n",
       "      <td>219795.0</td>\n",
       "    </tr>\n",
       "    <tr>\n",
       "      <th>AUG 19</th>\n",
       "      <td>1326.1</td>\n",
       "      <td>1332.2</td>\n",
       "      <td>1316.0</td>\n",
       "      <td>1321.3</td>\n",
       "      <td>43342.0</td>\n",
       "    </tr>\n",
       "    <tr>\n",
       "      <th>OCT 19</th>\n",
       "      <td>1332.7</td>\n",
       "      <td>1336.7</td>\n",
       "      <td>1322.0</td>\n",
       "      <td>1327.1</td>\n",
       "      <td>5790.0</td>\n",
       "    </tr>\n",
       "    <tr>\n",
       "      <th>DEC 19</th>\n",
       "      <td>1338.0</td>\n",
       "      <td>1344.2</td>\n",
       "      <td>1327.8</td>\n",
       "      <td>1331.7</td>\n",
       "      <td>28287.0</td>\n",
       "    </tr>\n",
       "    <tr>\n",
       "      <th>FEB 20</th>\n",
       "      <td>1348.0</td>\n",
       "      <td>1348.0</td>\n",
       "      <td>1333.1</td>\n",
       "      <td>1336.0</td>\n",
       "      <td>9783.0</td>\n",
       "    </tr>\n",
       "    <tr>\n",
       "      <th>APR 20</th>\n",
       "      <td>1352.2</td>\n",
       "      <td>1355.7</td>\n",
       "      <td>1349.9</td>\n",
       "      <td>1349.9</td>\n",
       "      <td>2992.0</td>\n",
       "    </tr>\n",
       "    <tr>\n",
       "      <th>JUN 20</th>\n",
       "      <td>1357.9</td>\n",
       "      <td>1357.9</td>\n",
       "      <td>1357.9</td>\n",
       "      <td>1357.9</td>\n",
       "      <td>1592.0</td>\n",
       "    </tr>\n",
       "  </tbody>\n",
       "</table>\n",
       "</div>"
      ],
      "text/plain": [
       "          open    high     low    last  openInterest\n",
       "month                                               \n",
       "APR 19  1312.7  1320.2  1302.8  1309.0      201837.0\n",
       "MAY 19  1316.0  1322.4  1306.6  1312.1         978.0\n",
       "JUN 19  1318.6  1326.3  1309.1  1315.2      219795.0\n",
       "AUG 19  1326.1  1332.2  1316.0  1321.3       43342.0\n",
       "OCT 19  1332.7  1336.7  1322.0  1327.1        5790.0\n",
       "DEC 19  1338.0  1344.2  1327.8  1331.7       28287.0\n",
       "FEB 20  1348.0  1348.0  1333.1  1336.0        9783.0\n",
       "APR 20  1352.2  1355.7  1349.9  1349.9        2992.0\n",
       "JUN 20  1357.9  1357.9  1357.9  1357.9        1592.0"
      ]
     },
     "execution_count": 112,
     "metadata": {},
     "output_type": "execute_result"
    }
   ],
   "source": [
    "\n",
    "# r''正則 |:表 \"或\" PS:不能有空白\n",
    "# 正則\n",
    "#https://www.cnblogs.com/huxi/archive/2010/07/04/1771073.html\n",
    "    \n",
    "# .str.extract(r'(\\d*\\.\\d*|\\d*)',expand=False\n",
    "# expand=False 返回 序列(Series)\n",
    "#https://blog.csdn.net/claroja/article/details/64929819\n",
    "\n",
    "df1.apply(\n",
    "    lambda x:x.str.replace(',','').str.extract(r'(\\d*\\.\\d*|\\d*)',expand=False) \n",
    ").astype(float)"
   ]
  },
  {
   "cell_type": "code",
   "execution_count": 125,
   "metadata": {
    "ExecuteTime": {
     "end_time": "2019-03-27T08:44:56.064936Z",
     "start_time": "2019-03-27T08:44:56.061914Z"
    }
   },
   "outputs": [],
   "source": [
    "s = 'Tuesday, 26 Mar 2019 10:33 PM'"
   ]
  },
  {
   "cell_type": "code",
   "execution_count": 129,
   "metadata": {
    "ExecuteTime": {
     "end_time": "2019-03-27T08:46:25.935849Z",
     "start_time": "2019-03-27T08:46:25.931860Z"
    }
   },
   "outputs": [
    {
     "data": {
      "text/plain": [
       "['Tuesday,', '26', 'Mar', '2019', '10:33', 'PM']"
      ]
     },
     "execution_count": 129,
     "metadata": {},
     "output_type": "execute_result"
    }
   ],
   "source": [
    "s.split(' ')"
   ]
  },
  {
   "cell_type": "code",
   "execution_count": 130,
   "metadata": {
    "ExecuteTime": {
     "end_time": "2019-03-27T08:46:53.261441Z",
     "start_time": "2019-03-27T08:46:53.256455Z"
    }
   },
   "outputs": [
    {
     "data": {
      "text/plain": [
       "['26', 'Mar', '2019']"
      ]
     },
     "execution_count": 130,
     "metadata": {},
     "output_type": "execute_result"
    }
   ],
   "source": [
    "s.split(' ')[1:4]"
   ]
  },
  {
   "cell_type": "code",
   "execution_count": 131,
   "metadata": {
    "ExecuteTime": {
     "end_time": "2019-03-27T09:14:10.732347Z",
     "start_time": "2019-03-27T09:14:10.728330Z"
    }
   },
   "outputs": [],
   "source": [
    "import re"
   ]
  },
  {
   "cell_type": "code",
   "execution_count": 135,
   "metadata": {
    "ExecuteTime": {
     "end_time": "2019-03-27T09:15:26.977904Z",
     "start_time": "2019-03-27T09:15:26.971920Z"
    }
   },
   "outputs": [
    {
     "data": {
      "text/plain": [
       "<_sre.SRE_Match object; span=(9, 20), match='26 Mar 2019'>"
      ]
     },
     "execution_count": 135,
     "metadata": {},
     "output_type": "execute_result"
    }
   ],
   "source": [
    "temp= r\"\\d{1,2} [a-zA-Z]{3} \\d{4}\"  \n",
    "re.search(temp, s)"
   ]
  }
 ],
 "metadata": {
  "hide_input": false,
  "kernelspec": {
   "display_name": "Python [default]",
   "language": "python",
   "name": "python3"
  },
  "language_info": {
   "codemirror_mode": {
    "name": "ipython",
    "version": 3
   },
   "file_extension": ".py",
   "mimetype": "text/x-python",
   "name": "python",
   "nbconvert_exporter": "python",
   "pygments_lexer": "ipython3",
   "version": "3.6.5"
  },
  "toc": {
   "base_numbering": 1,
   "nav_menu": {},
   "number_sections": true,
   "sideBar": true,
   "skip_h1_title": false,
   "title_cell": "Table of Contents",
   "title_sidebar": "Contents",
   "toc_cell": false,
   "toc_position": {},
   "toc_section_display": true,
   "toc_window_display": true
  },
  "varInspector": {
   "cols": {
    "lenName": 16,
    "lenType": 16,
    "lenVar": 40
   },
   "kernels_config": {
    "python": {
     "delete_cmd_postfix": "",
     "delete_cmd_prefix": "del ",
     "library": "var_list.py",
     "varRefreshCmd": "print(var_dic_list())"
    },
    "r": {
     "delete_cmd_postfix": ") ",
     "delete_cmd_prefix": "rm(",
     "library": "var_list.r",
     "varRefreshCmd": "cat(var_dic_list()) "
    }
   },
   "oldHeight": 122.4,
   "position": {
    "height": "40px",
    "left": "926.4px",
    "right": "20px",
    "top": "120px",
    "width": "350px"
   },
   "types_to_exclude": [
    "module",
    "function",
    "builtin_function_or_method",
    "instance",
    "_Feature"
   ],
   "varInspector_section_display": "none",
   "window_display": true
  }
 },
 "nbformat": 4,
 "nbformat_minor": 2
}
