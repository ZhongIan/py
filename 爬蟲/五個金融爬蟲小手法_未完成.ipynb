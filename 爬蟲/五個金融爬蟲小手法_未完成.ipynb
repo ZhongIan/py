{
 "cells": [
  {
   "cell_type": "markdown",
   "metadata": {},
   "source": [
    "# 參考網址\n",
    "\n",
    "> 五個實作 python 金融爬蟲小手法\n",
    "\n",
    "http://www.bituzi.com/2015/10/python.html"
   ]
  },
  {
   "cell_type": "code",
   "execution_count": null,
   "metadata": {},
   "outputs": [],
   "source": [
    "!conda install pyquery"
   ]
  },
  {
   "cell_type": "code",
   "execution_count": 1,
   "metadata": {
    "ExecuteTime": {
     "end_time": "2019-03-09T02:54:18.342472Z",
     "start_time": "2019-03-09T02:54:17.052121Z"
    }
   },
   "outputs": [
    {
     "ename": "ModuleNotFoundError",
     "evalue": "No module named 'util'",
     "output_type": "error",
     "traceback": [
      "\u001b[1;31m---------------------------------------------------------------------------\u001b[0m",
      "\u001b[1;31mModuleNotFoundError\u001b[0m                       Traceback (most recent call last)",
      "\u001b[1;32m<ipython-input-1-6e70c83c5955>\u001b[0m in \u001b[0;36m<module>\u001b[1;34m()\u001b[0m\n\u001b[0;32m      1\u001b[0m \u001b[1;32mimport\u001b[0m \u001b[0mrequests\u001b[0m\u001b[1;33m\u001b[0m\u001b[0m\n\u001b[0;32m      2\u001b[0m \u001b[1;32mfrom\u001b[0m \u001b[0mpyquery\u001b[0m \u001b[1;32mimport\u001b[0m \u001b[0mPyQuery\u001b[0m \u001b[1;32mas\u001b[0m \u001b[0mpq\u001b[0m\u001b[1;33m\u001b[0m\u001b[0m\n\u001b[1;32m----> 3\u001b[1;33m \u001b[1;32mfrom\u001b[0m \u001b[0mutil\u001b[0m \u001b[1;32mimport\u001b[0m \u001b[0mconv_to_roc\u001b[0m\u001b[1;33m\u001b[0m\u001b[0m\n\u001b[0m\u001b[0;32m      4\u001b[0m \u001b[1;33m\u001b[0m\u001b[0m\n\u001b[0;32m      5\u001b[0m \u001b[1;32mdef\u001b[0m \u001b[0mget_institutions_trading_daily\u001b[0m\u001b[1;33m(\u001b[0m\u001b[0mdate\u001b[0m\u001b[1;33m)\u001b[0m\u001b[1;33m:\u001b[0m\u001b[1;33m\u001b[0m\u001b[0m\n",
      "\u001b[1;31mModuleNotFoundError\u001b[0m: No module named 'util'"
     ]
    }
   ],
   "source": [
    "import requests\n",
    "from pyquery import PyQuery as pq\n",
    "from util import conv_to_roc\n",
    "\n",
    "def get_institutions_trading_daily(date):\n",
    "    # get three major institutions trading: buy and sell separately. \n",
    "\n",
    "    roc = conv_to_roc(date)\n",
    "    # http://www.twse.com.tw/ch/trading/fund/BFI82U/BFI82U.php\n",
    "    url = ('http://www.twse.com.tw/ch/trading/fund/BFI82U/BFI82U.php?' +\n",
    "           'input_date={year}/{month}/{day}').format(\n",
    "                year=roc.year, \n",
    "                month=roc.month, \n",
    "                day=roc.day)\n",
    "\n",
    "    html = requests.get(url, headers=headers)\n",
    "    html = html.content.decode('big5')\n",
    "\n",
    "    pqd = pq(html)\n",
    "    trs = pqd('tr.basic2[bgcolor=\"#FFFFFF\"]')\n",
    "\n",
    "    three_major={}\n",
    "\n",
    "    def get_data_title_text(dom):\n",
    "        return pq(dom).find('div').eq(0).text()\n",
    "\n",
    "    for i in trs:\n",
    "        # after 2014/12/01, 自營商多了自行買賣與避險\n",
    "        if get_data_title_text(i) == '自營商(自行買賣)':\n",
    "            three_major['dealers_buy'] = pq(i).find('td').eq(1).text()\n",
    "            three_major['dealers_sell'] = pq(i).find('td').eq(2).text()\n",
    "        if get_data_title_text(i) == '投信':\n",
    "            three_major['trustees_buy'] = pq(i).find('td').eq(1).text()\n",
    "            three_major['trustees_sell'] = pq(i).find('td').eq(2).text()\n",
    "        if get_data_title_text(i).startswith('外資'):\n",
    "            three_major['fi_buy'] = pq(i).find('td').eq(1).text()\n",
    "            three_major['fi_sell'] = pq(i).find('td').eq(2).text()\n",
    "\n",
    "    for k, v in three_major.items():\n",
    "        three_major[k] = int(v.replace(',',''))\n",
    "\n",
    "    assert len(three_major) == 6\n",
    "    assert len(trs) == 5\n",
    "\n",
    "    return three_major"
   ]
  },
  {
   "cell_type": "code",
   "execution_count": null,
   "metadata": {},
   "outputs": [],
   "source": []
  }
 ],
 "metadata": {
  "hide_input": false,
  "kernelspec": {
   "display_name": "Python [default]",
   "language": "python",
   "name": "python3"
  },
  "language_info": {
   "codemirror_mode": {
    "name": "ipython",
    "version": 3
   },
   "file_extension": ".py",
   "mimetype": "text/x-python",
   "name": "python",
   "nbconvert_exporter": "python",
   "pygments_lexer": "ipython3",
   "version": "3.6.5"
  },
  "toc": {
   "base_numbering": 1,
   "nav_menu": {},
   "number_sections": true,
   "sideBar": true,
   "skip_h1_title": false,
   "title_cell": "Table of Contents",
   "title_sidebar": "Contents",
   "toc_cell": false,
   "toc_position": {},
   "toc_section_display": true,
   "toc_window_display": false
  },
  "varInspector": {
   "cols": {
    "lenName": 16,
    "lenType": 16,
    "lenVar": 40
   },
   "kernels_config": {
    "python": {
     "delete_cmd_postfix": "",
     "delete_cmd_prefix": "del ",
     "library": "var_list.py",
     "varRefreshCmd": "print(var_dic_list())"
    },
    "r": {
     "delete_cmd_postfix": ") ",
     "delete_cmd_prefix": "rm(",
     "library": "var_list.r",
     "varRefreshCmd": "cat(var_dic_list()) "
    }
   },
   "types_to_exclude": [
    "module",
    "function",
    "builtin_function_or_method",
    "instance",
    "_Feature"
   ],
   "window_display": false
  }
 },
 "nbformat": 4,
 "nbformat_minor": 2
}
