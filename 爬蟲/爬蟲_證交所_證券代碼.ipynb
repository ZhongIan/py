{
 "cells": [
  {
   "cell_type": "code",
   "execution_count": 3,
   "metadata": {
    "ExecuteTime": {
     "end_time": "2019-03-05T16:19:28.628176Z",
     "start_time": "2019-03-05T16:19:28.625187Z"
    }
   },
   "outputs": [],
   "source": [
    "import requests\n",
    "from datetime import timedelta, date\n",
    "import pandas as pd\n"
   ]
  },
  {
   "cell_type": "code",
   "execution_count": 4,
   "metadata": {
    "ExecuteTime": {
     "end_time": "2019-03-05T16:19:33.780276Z",
     "start_time": "2019-03-05T16:19:29.589198Z"
    }
   },
   "outputs": [
    {
     "data": {
      "text/html": [
       "<div>\n",
       "<style scoped>\n",
       "    .dataframe tbody tr th:only-of-type {\n",
       "        vertical-align: middle;\n",
       "    }\n",
       "\n",
       "    .dataframe tbody tr th {\n",
       "        vertical-align: top;\n",
       "    }\n",
       "\n",
       "    .dataframe thead th {\n",
       "        text-align: right;\n",
       "    }\n",
       "</style>\n",
       "<table border=\"1\" class=\"dataframe\">\n",
       "  <thead>\n",
       "    <tr style=\"text-align: right;\">\n",
       "      <th></th>\n",
       "      <th>有價證券代號及名稱</th>\n",
       "      <th>國際證券辨識號碼(ISIN Code)</th>\n",
       "      <th>上市日</th>\n",
       "      <th>市場別</th>\n",
       "      <th>產業別</th>\n",
       "      <th>CFICode</th>\n",
       "      <th>備註</th>\n",
       "    </tr>\n",
       "  </thead>\n",
       "  <tbody>\n",
       "    <tr>\n",
       "      <th>0</th>\n",
       "      <td>股票</td>\n",
       "      <td>NaN</td>\n",
       "      <td>NaN</td>\n",
       "      <td>NaN</td>\n",
       "      <td>NaN</td>\n",
       "      <td>NaN</td>\n",
       "      <td>NaN</td>\n",
       "    </tr>\n",
       "    <tr>\n",
       "      <th>1</th>\n",
       "      <td>1101　台泥</td>\n",
       "      <td>TW0001101004</td>\n",
       "      <td>1962/02/09</td>\n",
       "      <td>上市</td>\n",
       "      <td>水泥工業</td>\n",
       "      <td>ESVUFR</td>\n",
       "      <td>NaN</td>\n",
       "    </tr>\n",
       "    <tr>\n",
       "      <th>2</th>\n",
       "      <td>1102　亞泥</td>\n",
       "      <td>TW0001102002</td>\n",
       "      <td>1962/06/08</td>\n",
       "      <td>上市</td>\n",
       "      <td>水泥工業</td>\n",
       "      <td>ESVUFR</td>\n",
       "      <td>NaN</td>\n",
       "    </tr>\n",
       "    <tr>\n",
       "      <th>3</th>\n",
       "      <td>1103　嘉泥</td>\n",
       "      <td>TW0001103000</td>\n",
       "      <td>1969/11/14</td>\n",
       "      <td>上市</td>\n",
       "      <td>水泥工業</td>\n",
       "      <td>ESVUFR</td>\n",
       "      <td>NaN</td>\n",
       "    </tr>\n",
       "    <tr>\n",
       "      <th>4</th>\n",
       "      <td>1104　環泥</td>\n",
       "      <td>TW0001104008</td>\n",
       "      <td>1971/02/01</td>\n",
       "      <td>上市</td>\n",
       "      <td>水泥工業</td>\n",
       "      <td>ESVUFR</td>\n",
       "      <td>NaN</td>\n",
       "    </tr>\n",
       "  </tbody>\n",
       "</table>\n",
       "</div>"
      ],
      "text/plain": [
       "  有價證券代號及名稱 國際證券辨識號碼(ISIN Code)         上市日  市場別   產業別 CFICode  備註\n",
       "0        股票                 NaN         NaN  NaN   NaN     NaN NaN\n",
       "1   1101　台泥        TW0001101004  1962/02/09   上市  水泥工業  ESVUFR NaN\n",
       "2   1102　亞泥        TW0001102002  1962/06/08   上市  水泥工業  ESVUFR NaN\n",
       "3   1103　嘉泥        TW0001103000  1969/11/14   上市  水泥工業  ESVUFR NaN\n",
       "4   1104　環泥        TW0001104008  1971/02/01   上市  水泥工業  ESVUFR NaN"
      ]
     },
     "execution_count": 4,
     "metadata": {},
     "output_type": "execute_result"
    }
   ],
   "source": [
    "df=pd.read_html('http://isin.twse.com.tw/isin/C_public.jsp?strMode=2',encoding='big5hkscs',header=0)\n",
    "df[0].head()\n"
   ]
  },
  {
   "cell_type": "code",
   "execution_count": 6,
   "metadata": {
    "ExecuteTime": {
     "end_time": "2019-03-05T16:20:17.581445Z",
     "start_time": "2019-03-05T16:20:17.574464Z"
    }
   },
   "outputs": [
    {
     "data": {
      "text/plain": [
       "0                     股票\n",
       "1                1101　台泥\n",
       "2                1102　亞泥\n",
       "3                1103　嘉泥\n",
       "4                1104　環泥\n",
       "5                1108　幸福\n",
       "6                1109　信大\n",
       "7                1110　東泥\n",
       "8                1201　味全\n",
       "9                1203　味王\n",
       "10               1210　大成\n",
       "11               1213　大飲\n",
       "12               1215　卜蜂\n",
       "13               1216　統一\n",
       "14              1217　愛之味\n",
       "15               1218　泰山\n",
       "16               1219　福壽\n",
       "17               1220　台榮\n",
       "18              1225　福懋油\n",
       "19               1227　佳格\n",
       "20               1229　聯華\n",
       "21              1231　聯華食\n",
       "22              1232　大統益\n",
       "23               1233　天仁\n",
       "24               1234　黑松\n",
       "25               1235　興泰\n",
       "26               1236　宏亞\n",
       "27          1256　鮮活果汁-KY\n",
       "28            1262　綠悅-KY\n",
       "29               1301　台塑\n",
       "              ...       \n",
       "15983    00774B　新光中國政金綠債\n",
       "15984    00775B　新光投等債15+\n",
       "15985    00776　新光ICE美國權值\n",
       "15986      008201　BP上證50\n",
       "15987        臺灣存託憑證(TDR)\n",
       "15988       9103　美德醫療-DR\n",
       "15989      910322　康師傅-DR\n",
       "15990      910482　聖馬丁-DR\n",
       "15991        9105　泰金寶-DR\n",
       "15992      910708　恒大健-DR\n",
       "15993       910861　神州-DR\n",
       "15994        9110　越南控-DR\n",
       "15995       911608　明輝-DR\n",
       "15996       911616　杜康-DR\n",
       "15997       911619　耀傑-DR\n",
       "15998      911622　泰聚亨-DR\n",
       "15999     911868　同方友友-DR\n",
       "16000      912000　晨訊科-DR\n",
       "16001       912398　友佳-DR\n",
       "16002         9136　巨騰-DR\n",
       "16003       9157　陽光能源-DR\n",
       "16004         9188　精熙-DR\n",
       "16005       受益證券-不動產投資信託\n",
       "16006      01001T　土銀富邦R1\n",
       "16007      01002T　土銀國泰R1\n",
       "16008      01003T　兆豐新光R1\n",
       "16009      01004T　土銀富邦R2\n",
       "16010      01007T　兆豐國泰R2\n",
       "16011      01009T　王道圓滿R1\n",
       "16012      01010T　京城樂富R1\n",
       "Name: 有價證券代號及名稱, Length: 16013, dtype: object"
      ]
     },
     "execution_count": 6,
     "metadata": {},
     "output_type": "execute_result"
    }
   ],
   "source": [
    "df[0][\"有價證券代號及名稱\"].re"
   ]
  },
  {
   "cell_type": "code",
   "execution_count": null,
   "metadata": {},
   "outputs": [],
   "source": []
  },
  {
   "cell_type": "code",
   "execution_count": null,
   "metadata": {},
   "outputs": [],
   "source": []
  },
  {
   "cell_type": "code",
   "execution_count": null,
   "metadata": {},
   "outputs": [],
   "source": []
  },
  {
   "cell_type": "code",
   "execution_count": null,
   "metadata": {},
   "outputs": [],
   "source": []
  },
  {
   "cell_type": "code",
   "execution_count": null,
   "metadata": {},
   "outputs": [],
   "source": []
  },
  {
   "cell_type": "code",
   "execution_count": null,
   "metadata": {},
   "outputs": [],
   "source": []
  },
  {
   "cell_type": "code",
   "execution_count": null,
   "metadata": {},
   "outputs": [],
   "source": []
  },
  {
   "cell_type": "code",
   "execution_count": null,
   "metadata": {},
   "outputs": [],
   "source": []
  }
 ],
 "metadata": {
  "hide_input": false,
  "kernelspec": {
   "display_name": "Python [default]",
   "language": "python",
   "name": "python3"
  },
  "language_info": {
   "codemirror_mode": {
    "name": "ipython",
    "version": 3
   },
   "file_extension": ".py",
   "mimetype": "text/x-python",
   "name": "python",
   "nbconvert_exporter": "python",
   "pygments_lexer": "ipython3",
   "version": "3.6.5"
  },
  "toc": {
   "base_numbering": 1,
   "nav_menu": {
    "height": "12px",
    "width": "252px"
   },
   "number_sections": true,
   "sideBar": true,
   "skip_h1_title": false,
   "title_cell": "Table of Contents",
   "title_sidebar": "Contents",
   "toc_cell": false,
   "toc_position": {},
   "toc_section_display": "block",
   "toc_window_display": false
  },
  "varInspector": {
   "cols": {
    "lenName": 16,
    "lenType": 16,
    "lenVar": 40
   },
   "kernels_config": {
    "python": {
     "delete_cmd_postfix": "",
     "delete_cmd_prefix": "del ",
     "library": "var_list.py",
     "varRefreshCmd": "print(var_dic_list())"
    },
    "r": {
     "delete_cmd_postfix": ") ",
     "delete_cmd_prefix": "rm(",
     "library": "var_list.r",
     "varRefreshCmd": "cat(var_dic_list()) "
    }
   },
   "types_to_exclude": [
    "module",
    "function",
    "builtin_function_or_method",
    "instance",
    "_Feature"
   ],
   "window_display": false
  }
 },
 "nbformat": 4,
 "nbformat_minor": 2
}
